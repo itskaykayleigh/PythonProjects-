{
 "cells": [
  {
   "cell_type": "markdown",
   "metadata": {},
   "source": [
    "##### This version involves further cleaning of data, which it to be used for the 2nd round of model training and testing (1st round is complete and can be found in the 'Code' folder named \"Project_3_McNulty_Modeling_V1\")."
   ]
  },
  {
   "cell_type": "markdown",
   "metadata": {},
   "source": [
    "### List of Imports"
   ]
  },
  {
   "cell_type": "code",
   "execution_count": 620,
   "metadata": {
    "collapsed": true
   },
   "outputs": [],
   "source": [
    "from __future__ import print_function"
   ]
  },
  {
   "cell_type": "code",
   "execution_count": 621,
   "metadata": {
    "collapsed": true
   },
   "outputs": [],
   "source": [
    "import json\n",
    "import pickle\n",
    "import numpy as np \n",
    "import pandas as pd \n",
    "import seaborn as sns\n",
    "from fuzzywuzzy import fuzz\n",
    "from fuzzywuzzy import process\n",
    "import matplotlib.pyplot as plt\n",
    "# from nltk.stem import WordNetLemmatizer\n",
    "from sklearn.model_selection import train_test_split\n",
    "from sklearn.feature_extraction.text import CountVectorizer\n",
    "\n",
    "\n",
    "%matplotlib inline"
   ]
  },
  {
   "cell_type": "code",
   "execution_count": 622,
   "metadata": {
    "collapsed": true
   },
   "outputs": [],
   "source": [
    "pd.options.display.max_rows = 20"
   ]
  },
  {
   "cell_type": "code",
   "execution_count": 623,
   "metadata": {
    "collapsed": true
   },
   "outputs": [],
   "source": [
    "with open('../../../../raw_data/train.json', 'rb') as f:\n",
    "    dict_ = json.load(f)"
   ]
  },
  {
   "cell_type": "code",
   "execution_count": 624,
   "metadata": {
    "collapsed": true
   },
   "outputs": [],
   "source": [
    "df = pd.DataFrame.from_dict(dict_)"
   ]
  },
  {
   "cell_type": "code",
   "execution_count": 625,
   "metadata": {},
   "outputs": [
    {
     "data": {
      "text/html": [
       "<div>\n",
       "<style>\n",
       "    .dataframe thead tr:only-child th {\n",
       "        text-align: right;\n",
       "    }\n",
       "\n",
       "    .dataframe thead th {\n",
       "        text-align: left;\n",
       "    }\n",
       "\n",
       "    .dataframe tbody tr th {\n",
       "        vertical-align: top;\n",
       "    }\n",
       "</style>\n",
       "<table border=\"1\" class=\"dataframe\">\n",
       "  <thead>\n",
       "    <tr style=\"text-align: right;\">\n",
       "      <th></th>\n",
       "      <th>cuisine</th>\n",
       "      <th>id</th>\n",
       "      <th>ingredients</th>\n",
       "    </tr>\n",
       "  </thead>\n",
       "  <tbody>\n",
       "    <tr>\n",
       "      <th>0</th>\n",
       "      <td>greek</td>\n",
       "      <td>10259</td>\n",
       "      <td>[romaine lettuce, black olives, grape tomatoes...</td>\n",
       "    </tr>\n",
       "    <tr>\n",
       "      <th>1</th>\n",
       "      <td>southern_us</td>\n",
       "      <td>25693</td>\n",
       "      <td>[plain flour, ground pepper, salt, tomatoes, g...</td>\n",
       "    </tr>\n",
       "  </tbody>\n",
       "</table>\n",
       "</div>"
      ],
      "text/plain": [
       "       cuisine     id                                        ingredients\n",
       "0        greek  10259  [romaine lettuce, black olives, grape tomatoes...\n",
       "1  southern_us  25693  [plain flour, ground pepper, salt, tomatoes, g..."
      ]
     },
     "execution_count": 625,
     "metadata": {},
     "output_type": "execute_result"
    }
   ],
   "source": [
    "df.head(2)"
   ]
  },
  {
   "cell_type": "code",
   "execution_count": 627,
   "metadata": {
    "collapsed": true
   },
   "outputs": [],
   "source": [
    "# get rid of white spaces;\n",
    "# replace space in between a phrase by \"_\";\n",
    "# change all to lower-case letters \n",
    "df.ingredients = [','.join(i).replace(' ','_').lower()\n",
    "                  .strip() for i in df.ingredients]  "
   ]
  },
  {
   "cell_type": "code",
   "execution_count": 628,
   "metadata": {},
   "outputs": [
    {
     "data": {
      "text/html": [
       "<div>\n",
       "<style>\n",
       "    .dataframe thead tr:only-child th {\n",
       "        text-align: right;\n",
       "    }\n",
       "\n",
       "    .dataframe thead th {\n",
       "        text-align: left;\n",
       "    }\n",
       "\n",
       "    .dataframe tbody tr th {\n",
       "        vertical-align: top;\n",
       "    }\n",
       "</style>\n",
       "<table border=\"1\" class=\"dataframe\">\n",
       "  <thead>\n",
       "    <tr style=\"text-align: right;\">\n",
       "      <th></th>\n",
       "      <th>cuisine</th>\n",
       "      <th>id</th>\n",
       "      <th>ingredients</th>\n",
       "    </tr>\n",
       "  </thead>\n",
       "  <tbody>\n",
       "    <tr>\n",
       "      <th>0</th>\n",
       "      <td>greek</td>\n",
       "      <td>10259</td>\n",
       "      <td>romaine_lettuce,black_olives,grape_tomatoes,ga...</td>\n",
       "    </tr>\n",
       "    <tr>\n",
       "      <th>1</th>\n",
       "      <td>southern_us</td>\n",
       "      <td>25693</td>\n",
       "      <td>plain_flour,ground_pepper,salt,tomatoes,ground...</td>\n",
       "    </tr>\n",
       "    <tr>\n",
       "      <th>2</th>\n",
       "      <td>filipino</td>\n",
       "      <td>20130</td>\n",
       "      <td>eggs,pepper,salt,mayonaise,cooking_oil,green_c...</td>\n",
       "    </tr>\n",
       "    <tr>\n",
       "      <th>3</th>\n",
       "      <td>indian</td>\n",
       "      <td>22213</td>\n",
       "      <td>water,vegetable_oil,wheat,salt</td>\n",
       "    </tr>\n",
       "    <tr>\n",
       "      <th>4</th>\n",
       "      <td>indian</td>\n",
       "      <td>13162</td>\n",
       "      <td>black_pepper,shallots,cornflour,cayenne_pepper...</td>\n",
       "    </tr>\n",
       "  </tbody>\n",
       "</table>\n",
       "</div>"
      ],
      "text/plain": [
       "       cuisine     id                                        ingredients\n",
       "0        greek  10259  romaine_lettuce,black_olives,grape_tomatoes,ga...\n",
       "1  southern_us  25693  plain_flour,ground_pepper,salt,tomatoes,ground...\n",
       "2     filipino  20130  eggs,pepper,salt,mayonaise,cooking_oil,green_c...\n",
       "3       indian  22213                     water,vegetable_oil,wheat,salt\n",
       "4       indian  13162  black_pepper,shallots,cornflour,cayenne_pepper..."
      ]
     },
     "execution_count": 628,
     "metadata": {},
     "output_type": "execute_result"
    }
   ],
   "source": [
    "df.head(5)"
   ]
  },
  {
   "cell_type": "code",
   "execution_count": 629,
   "metadata": {},
   "outputs": [
    {
     "data": {
      "text/plain": [
       "'romaine_lettuce,black_olives,grape_tomatoes,garlic,pepper,purple_onion,seasoning,garbanzo_beans,feta_cheese_crumbles'"
      ]
     },
     "execution_count": 629,
     "metadata": {},
     "output_type": "execute_result"
    }
   ],
   "source": [
    "# an example on a greek cuisine \n",
    "df.ingredients[0]"
   ]
  },
  {
   "cell_type": "code",
   "execution_count": 630,
   "metadata": {
    "collapsed": true
   },
   "outputs": [],
   "source": [
    "key_ing = ['flour','egg','salt','oil','water','cilantro','garlic','milk'\n",
    "           ,'pepper','tomato','corn','onion','butter','sugar','almond'\n",
    "           ,'broth','chicken','beef','pork','sausage','rice','peanut'\n",
    "           ,'cream','yeast','olives','lettuce','carrot','shrimp','walnut'\n",
    "           ,'lemon','orange','ginger','allspice','turkey','cinnamon'\n",
    "           ,'mint','parsley','thym','spinach','chive','dill','basil'\n",
    "           ,'tarragon','coriander','parmesan','rosemary','lime','pecan'\n",
    "           ,'peas','apple','vinegar','celery','cumin','turmeric','lamb'\n",
    "           ,'cardamom','oregano','chili','cabbage','soy_sauce','mustard'\n",
    "           ,'coconut_milk','raisins','nutmeg','bread','apricot','syrup'\n",
    "           ,'cheddar','mozzarella','parmesan','romano','ricotta','jack'\n",
    "           ,'squash','paprika','chocolate','potato','cocoa','sour_cream'\n",
    "           ,'catfish','salmon','yogurt','sesame_seeds','vanilla'\n",
    "           ,'feta_cheese']\n",
    "\n",
    "def standardize_ingredient(row):\n",
    "    \"\"\" This function returns a list of ingredients \n",
    "    with standardized names. \"\"\"\n",
    "    for i in row.split(','):\n",
    "        for j in key_ing:\n",
    "            if j in i:\n",
    "                row = row.replace(i,j)\n",
    "            else: \n",
    "                pass\n",
    "    row = [row.replace(',',' ')]\n",
    "    return row"
   ]
  },
  {
   "cell_type": "code",
   "execution_count": 631,
   "metadata": {
    "collapsed": true
   },
   "outputs": [],
   "source": [
    "df['ingredients'] = df['ingredients'].apply(standardize_ingredient)"
   ]
  },
  {
   "cell_type": "code",
   "execution_count": 632,
   "metadata": {
    "collapsed": true
   },
   "outputs": [],
   "source": [
    "d = df['ingredients'][0][0]"
   ]
  },
  {
   "cell_type": "code",
   "execution_count": 633,
   "metadata": {},
   "outputs": [
    {
     "name": "stdout",
     "output_type": "stream",
     "text": [
      "tomato\n",
      "lettuce olives garlic pepper onion seasoning garbanzo_beans feta_cheese\n",
      "garlic\n",
      "lettuce olives pepper onion seasoning garbanzo_beans feta_cheese\n",
      "pepper\n",
      "lettuce olives onion seasoning garbanzo_beans feta_cheese\n",
      "onion\n",
      "lettuce olives seasoning garbanzo_beans feta_cheese\n"
     ]
    }
   ],
   "source": [
    "top_10_ingredients = ['flour','egg','salt','oil','water'\n",
    "                      ,'onion','pepper','sugar','tomato','garlic']\n",
    "for i in d.split(' '):\n",
    "    if i in top_10_ingredients:\n",
    "        print(i)\n",
    "        d = d.replace(i,'')\n",
    "        d = ' '.join(d.split())\n",
    "        print(d)"
   ]
  },
  {
   "cell_type": "code",
   "execution_count": 634,
   "metadata": {
    "collapsed": true
   },
   "outputs": [],
   "source": [
    "top_10_ingredients = ['flour','egg','salt','oil','water'\n",
    "                      ,'onion','pepper','sugar','tomato','garlic']\n",
    "def remove_common_ingredient(row):\n",
    "    \"\"\" This function returns a list of ingredients \n",
    "    after removing the top 10 common ingredients across cuisines. \"\"\"\n",
    "    for i in row[0].split(' '):\n",
    "        if i in top_10_ingredients:\n",
    "            row[0] = row[0].replace(i,'')\n",
    "            row[0] = ' '.join(row[0].split())\n",
    "        else: \n",
    "            pass\n",
    "    return row[0]"
   ]
  },
  {
   "cell_type": "code",
   "execution_count": 635,
   "metadata": {
    "collapsed": true
   },
   "outputs": [],
   "source": [
    "df['ingredients'] = df['ingredients'].apply(remove_common_ingredient)"
   ]
  },
  {
   "cell_type": "code",
   "execution_count": 636,
   "metadata": {},
   "outputs": [
    {
     "data": {
      "text/plain": [
       "'lettuce olives seasoning garbanzo_beans feta_cheese'"
      ]
     },
     "execution_count": 636,
     "metadata": {},
     "output_type": "execute_result"
    }
   ],
   "source": [
    "df['ingredients'][0] "
   ]
  },
  {
   "cell_type": "code",
   "execution_count": 637,
   "metadata": {
    "collapsed": true
   },
   "outputs": [],
   "source": [
    "X = df['ingredients']\n",
    "y = df['cuisine']"
   ]
  },
  {
   "cell_type": "code",
   "execution_count": 638,
   "metadata": {
    "collapsed": true
   },
   "outputs": [],
   "source": [
    "X_train, X_test, y_train, y_test = train_test_split(X,y,test_size=.30, random_state=7777)"
   ]
  },
  {
   "cell_type": "code",
   "execution_count": 639,
   "metadata": {},
   "outputs": [
    {
     "name": "stdout",
     "output_type": "stream",
     "text": [
      "The dimensinality of training features:  (27841,)\n",
      "The dimensinality of training target:  (27841,)\n",
      "The dimensinality of testing features:  (11933,)\n",
      "The dimensinality of testing target:  (11933,)\n"
     ]
    }
   ],
   "source": [
    "print('The dimensinality of training features: ', X_train.shape)\n",
    "print('The dimensinality of training target: ', y_train.shape)\n",
    "print('The dimensinality of testing features: ', X_test.shape)\n",
    "print('The dimensinality of testing target: ', y_test.shape)"
   ]
  },
  {
   "cell_type": "markdown",
   "metadata": {},
   "source": [
    "### Build volcabulary for ingredients "
   ]
  },
  {
   "cell_type": "markdown",
   "metadata": {},
   "source": [
    "#### There are nearly 90k ingredients (with duplicates) out of 39774 cuisines in the dataset, so when building the vocabulary for ingredients, I wanted to set a reasonable threshold to get rid of terms that have a low document frequency. Given the size of the data and ingredients count, I decided to set the initial threshold at 50, meaning only ingredient terms appear more than 50 times across the dataset will be kept. "
   ]
  },
  {
   "cell_type": "code",
   "execution_count": 640,
   "metadata": {
    "collapsed": true
   },
   "outputs": [],
   "source": [
    "vec = CountVectorizer(min_df=50, analyzer = 'word')\n",
    "count = vec.fit_transform(X_train).toarray()\n",
    "igt_names = vec.get_feature_names()"
   ]
  },
  {
   "cell_type": "markdown",
   "metadata": {},
   "source": [
    "##### Pickle countvectorizer for later use "
   ]
  },
  {
   "cell_type": "code",
   "execution_count": 641,
   "metadata": {
    "collapsed": true
   },
   "outputs": [],
   "source": [
    "# with open('../../Data/countvectorizer.pickle', 'wb') as handle: \n",
    "#     pickle.dump(vec, handle, pickle.HIGHEST_PROTOCOL)"
   ]
  },
  {
   "cell_type": "code",
   "execution_count": 642,
   "metadata": {
    "collapsed": true
   },
   "outputs": [],
   "source": [
    "X_test = vec.transform(X_test)"
   ]
  },
  {
   "cell_type": "code",
   "execution_count": 643,
   "metadata": {
    "collapsed": true
   },
   "outputs": [],
   "source": [
    "# igt_frequency = pd.Series(count.sum(axis=0),index = igt_names\n",
    "#                          ).sort_values(ascending=False)\n",
    "# ax = igt_frequency[:10\n",
    "#               ].plot(kind='bar'\n",
    "#                      ,color='maroon'\n",
    "#                      , figsize=(10,6)\n",
    "#                      , width=.8\n",
    "#                      , fontsize=14\n",
    "#                      , rot=45\n",
    "#                      ,title='10 Most Common Ingredients Across Cuisine')\n",
    "# ax.title.set_size(18)\n",
    "# plt.xlabel('Ingredients',fontsize=15)\n",
    "# plt.ylabel('Counts', fontsize=15)\n",
    "\n",
    "# plt.savefig('../../Visuals/mostcommonigt.png', dpi=200, bbox_inches = 'tight')"
   ]
  },
  {
   "cell_type": "code",
   "execution_count": 644,
   "metadata": {
    "collapsed": true
   },
   "outputs": [],
   "source": [
    "counts = np.clip(count, 0, 1, out=count)\n",
    "counts_reshaped = counts.reshape(len(X_train),len(igt_names))\n",
    "X_train = pd.DataFrame(counts_reshaped)\n",
    "X_train.columns = igt_names"
   ]
  },
  {
   "cell_type": "code",
   "execution_count": 645,
   "metadata": {},
   "outputs": [
    {
     "name": "stdout",
     "output_type": "stream",
     "text": [
      "<class 'pandas.core.frame.DataFrame'>\n",
      "RangeIndex: 27841 entries, 0 to 27840\n",
      "Columns: 345 entries, _drain to zucchini\n",
      "dtypes: int64(345)\n",
      "memory usage: 73.3 MB\n"
     ]
    }
   ],
   "source": [
    "X_train.info()"
   ]
  },
  {
   "cell_type": "code",
   "execution_count": 646,
   "metadata": {},
   "outputs": [
    {
     "data": {
      "text/html": [
       "<div>\n",
       "<style>\n",
       "    .dataframe thead tr:only-child th {\n",
       "        text-align: right;\n",
       "    }\n",
       "\n",
       "    .dataframe thead th {\n",
       "        text-align: left;\n",
       "    }\n",
       "\n",
       "    .dataframe tbody tr th {\n",
       "        vertical-align: top;\n",
       "    }\n",
       "</style>\n",
       "<table border=\"1\" class=\"dataframe\">\n",
       "  <thead>\n",
       "    <tr style=\"text-align: right;\">\n",
       "      <th></th>\n",
       "      <th>_drain</th>\n",
       "      <th>_half</th>\n",
       "      <th>_soften</th>\n",
       "      <th>adobo_sauce</th>\n",
       "      <th>agave_nectar</th>\n",
       "      <th>allspice</th>\n",
       "      <th>almond</th>\n",
       "      <th>amchur</th>\n",
       "      <th>ancho_powder</th>\n",
       "      <th>anchovy_fillets</th>\n",
       "      <th>...</th>\n",
       "      <th>white_beans</th>\n",
       "      <th>white_wine</th>\n",
       "      <th>whole_cloves</th>\n",
       "      <th>whole_wheat_tortillas</th>\n",
       "      <th>wonton_wrappers</th>\n",
       "      <th>worcestershire_sauce</th>\n",
       "      <th>yeast</th>\n",
       "      <th>yoghurt</th>\n",
       "      <th>yogurt</th>\n",
       "      <th>zucchini</th>\n",
       "    </tr>\n",
       "  </thead>\n",
       "  <tbody>\n",
       "    <tr>\n",
       "      <th>0</th>\n",
       "      <td>0</td>\n",
       "      <td>0</td>\n",
       "      <td>0</td>\n",
       "      <td>0</td>\n",
       "      <td>0</td>\n",
       "      <td>0</td>\n",
       "      <td>0</td>\n",
       "      <td>0</td>\n",
       "      <td>0</td>\n",
       "      <td>0</td>\n",
       "      <td>...</td>\n",
       "      <td>0</td>\n",
       "      <td>0</td>\n",
       "      <td>0</td>\n",
       "      <td>0</td>\n",
       "      <td>0</td>\n",
       "      <td>0</td>\n",
       "      <td>0</td>\n",
       "      <td>0</td>\n",
       "      <td>0</td>\n",
       "      <td>0</td>\n",
       "    </tr>\n",
       "    <tr>\n",
       "      <th>1</th>\n",
       "      <td>0</td>\n",
       "      <td>0</td>\n",
       "      <td>0</td>\n",
       "      <td>0</td>\n",
       "      <td>0</td>\n",
       "      <td>0</td>\n",
       "      <td>0</td>\n",
       "      <td>0</td>\n",
       "      <td>0</td>\n",
       "      <td>0</td>\n",
       "      <td>...</td>\n",
       "      <td>0</td>\n",
       "      <td>0</td>\n",
       "      <td>0</td>\n",
       "      <td>0</td>\n",
       "      <td>0</td>\n",
       "      <td>0</td>\n",
       "      <td>0</td>\n",
       "      <td>0</td>\n",
       "      <td>0</td>\n",
       "      <td>0</td>\n",
       "    </tr>\n",
       "  </tbody>\n",
       "</table>\n",
       "<p>2 rows × 345 columns</p>\n",
       "</div>"
      ],
      "text/plain": [
       "   _drain  _half  _soften  adobo_sauce  agave_nectar  allspice  almond  \\\n",
       "0       0      0        0            0             0         0       0   \n",
       "1       0      0        0            0             0         0       0   \n",
       "\n",
       "   amchur  ancho_powder  anchovy_fillets    ...     white_beans  white_wine  \\\n",
       "0       0             0                0    ...               0           0   \n",
       "1       0             0                0    ...               0           0   \n",
       "\n",
       "   whole_cloves  whole_wheat_tortillas  wonton_wrappers  worcestershire_sauce  \\\n",
       "0             0                      0                0                     0   \n",
       "1             0                      0                0                     0   \n",
       "\n",
       "   yeast  yoghurt  yogurt  zucchini  \n",
       "0      0        0       0         0  \n",
       "1      0        0       0         0  \n",
       "\n",
       "[2 rows x 345 columns]"
      ]
     },
     "execution_count": 646,
     "metadata": {},
     "output_type": "execute_result"
    }
   ],
   "source": [
    "X_train.head(2)"
   ]
  },
  {
   "cell_type": "code",
   "execution_count": 647,
   "metadata": {
    "scrolled": true
   },
   "outputs": [
    {
     "data": {
      "text/plain": [
       "Index(['_drain', '_half', '_soften', 'adobo_sauce', 'agave_nectar', 'allspice',\n",
       "       'almond', 'amchur', 'ancho_powder', 'anchovy_fillets',\n",
       "       ...\n",
       "       'white_beans', 'white_wine', 'whole_cloves', 'whole_wheat_tortillas',\n",
       "       'wonton_wrappers', 'worcestershire_sauce', 'yeast', 'yoghurt', 'yogurt',\n",
       "       'zucchini'],\n",
       "      dtype='object', length=345)"
      ]
     },
     "execution_count": 647,
     "metadata": {},
     "output_type": "execute_result"
    }
   ],
   "source": [
    "X_train.columns"
   ]
  },
  {
   "cell_type": "markdown",
   "metadata": {},
   "source": [
    "##### Pickle the cleaned dataframe & a small subset as a sample "
   ]
  },
  {
   "cell_type": "code",
   "execution_count": 648,
   "metadata": {
    "collapsed": true
   },
   "outputs": [],
   "source": [
    "df2_cleaned_sample = X_train[0:50]"
   ]
  },
  {
   "cell_type": "code",
   "execution_count": 649,
   "metadata": {
    "scrolled": true
   },
   "outputs": [
    {
     "name": "stdout",
     "output_type": "stream",
     "text": [
      "<class 'pandas.core.frame.DataFrame'>\n",
      "RangeIndex: 50 entries, 0 to 49\n",
      "Columns: 345 entries, _drain to zucchini\n",
      "dtypes: int64(345)\n",
      "memory usage: 134.8 KB\n"
     ]
    }
   ],
   "source": [
    "df2_cleaned_sample.info()"
   ]
  },
  {
   "cell_type": "code",
   "execution_count": 650,
   "metadata": {
    "collapsed": true
   },
   "outputs": [],
   "source": [
    "# with open('../../Data/train_standardized.pickle', 'wb') as handle: \n",
    "#     pickle.dump(X_train, handle, pickle.HIGHEST_PROTOCOL)"
   ]
  },
  {
   "cell_type": "code",
   "execution_count": 651,
   "metadata": {
    "collapsed": true
   },
   "outputs": [],
   "source": [
    "# with open('../../Data/test_transformed.pickle', 'wb') as handle: \n",
    "#     pickle.dump(X_test, handle, pickle.HIGHEST_PROTOCOL)"
   ]
  },
  {
   "cell_type": "code",
   "execution_count": 652,
   "metadata": {
    "collapsed": true
   },
   "outputs": [],
   "source": [
    "# with open('../../Data/train_target.pickle', 'wb') as handle: \n",
    "#     pickle.dump(y_train, handle, pickle.HIGHEST_PROTOCOL)"
   ]
  },
  {
   "cell_type": "code",
   "execution_count": 653,
   "metadata": {
    "collapsed": true
   },
   "outputs": [],
   "source": [
    "# with open('../../Data/test_target.pickle', 'wb') as handle: \n",
    "#     pickle.dump(y_test, handle, pickle.HIGHEST_PROTOCOL)"
   ]
  },
  {
   "cell_type": "code",
   "execution_count": 654,
   "metadata": {
    "collapsed": true
   },
   "outputs": [],
   "source": [
    "# with open('../../Data/standardized_sample.pickle', 'wb') as handle: \n",
    "#     pickle.dump(df2_cleaned_sample, handle, pickle.HIGHEST_PROTOCOL)"
   ]
  },
  {
   "cell_type": "code",
   "execution_count": null,
   "metadata": {
    "collapsed": true
   },
   "outputs": [],
   "source": []
  }
 ],
 "metadata": {
  "kernelspec": {
   "display_name": "Python [conda env:py3]",
   "language": "python",
   "name": "conda-env-py3-py"
  },
  "language_info": {
   "codemirror_mode": {
    "name": "ipython",
    "version": 3
   },
   "file_extension": ".py",
   "mimetype": "text/x-python",
   "name": "python",
   "nbconvert_exporter": "python",
   "pygments_lexer": "ipython3",
   "version": "3.6.2"
  }
 },
 "nbformat": 4,
 "nbformat_minor": 2
}
