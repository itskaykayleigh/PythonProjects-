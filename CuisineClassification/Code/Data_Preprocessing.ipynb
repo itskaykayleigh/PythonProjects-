{
 "cells": [
  {
   "cell_type": "code",
   "execution_count": null,
   "metadata": {},
   "outputs": [],
   "source": [
    "from __future__ import print_function\n",
    "\n",
    "import json\n",
    "import pickle\n",
    "import numpy as np \n",
    "import pandas as pd \n",
    "import seaborn as sns\n",
    "from fuzzywuzzy import fuzz\n",
    "from fuzzywuzzy import process\n",
    "import matplotlib.pyplot as plt\n",
    "# from nltk.stem import WordNetLemmatizer\n",
    "from sklearn.model_selection import train_test_split\n",
    "from sklearn.feature_extraction.text import CountVectorizer\n",
    "\n",
    "\n",
    "%matplotlib inline\n",
    "\n",
    "pd.options.display.max_rows = 15"
   ]
  },
  {
   "cell_type": "markdown",
   "metadata": {},
   "source": [
    "### Load Data "
   ]
  },
  {
   "cell_type": "code",
   "execution_count": null,
   "metadata": {},
   "outputs": [],
   "source": [
    "with open('../../../../raw_data/train.json', 'rb') as f:\n",
    "    dict_ = json.load(f)\n",
    "    \n",
    "df = pd.DataFrame.from_dict(dict_)"
   ]
  },
  {
   "cell_type": "markdown",
   "metadata": {},
   "source": [
    "### Data Preprocessing "
   ]
  },
  {
   "cell_type": "code",
   "execution_count": null,
   "metadata": {},
   "outputs": [],
   "source": [
    "df.ingredients = [','.join(i).replace(' ','_').lower()\n",
    "                  .strip() for i in df.ingredients]  "
   ]
  },
  {
   "cell_type": "code",
   "execution_count": null,
   "metadata": {},
   "outputs": [],
   "source": [
    "key_ing = ['flour','egg','salt','oil','water','cilantro','garlic','milk'\n",
    "           ,'pepper','tomato','corn','onion','butter','sugar','almond'\n",
    "           ,'broth','chicken','beef','pork','sausage','rice','peanut'\n",
    "           ,'cream','yeast','olives','lettuce','carrot','shrimp','walnut'\n",
    "           ,'lemon','orange','ginger','allspice','turkey','cinnamon'\n",
    "           ,'mint','parsley','thym','spinach','chive','dill','basil'\n",
    "           ,'tarragon','coriander','parmesan','rosemary','lime','pecan'\n",
    "           ,'peas','apple','vinegar','celery','cumin','turmeric','lamb'\n",
    "           ,'cardamom','oregano','chili','cabbage','soy_sauce','mustard'\n",
    "           ,'coconut_milk','raisins','nutmeg','bread','apricot','syrup'\n",
    "           ,'cheddar','mozzarella','parmesan','romano','ricotta','jack'\n",
    "           ,'squash','paprika','chocolate','potato','cocoa','sour_cream'\n",
    "           ,'catfish','salmon','yogurt','sesame_seeds','vanilla'\n",
    "           ,'feta_cheese']\n",
    "\n",
    "def standardize_ingredient(row):\n",
    "    \"\"\" This function returns a list of ingredients \n",
    "    with standardized names. \"\"\"\n",
    "    for i in row.split(','):\n",
    "        for j in key_ing:\n",
    "            if j in i:\n",
    "                row = row.replace(i,j)\n",
    "            else: \n",
    "                pass\n",
    "    row = [row.replace(',',' ')]\n",
    "    return row\n",
    "\n",
    "df['ingredients'] = df['ingredients'].apply(standardize_ingredient)"
   ]
  },
  {
   "cell_type": "code",
   "execution_count": null,
   "metadata": {},
   "outputs": [],
   "source": [
    "top_10_ingredients = ['flour','egg','salt','oil','water'\n",
    "                      ,'onion','pepper','sugar','tomato','garlic']\n",
    "def remove_common_ingredient(row):\n",
    "    \"\"\" This function returns a list of ingredients \n",
    "    after removing the top 10 common ingredients across cuisines. \"\"\"\n",
    "    for i in row[0].split(' '):\n",
    "        if i in top_10_ingredients:\n",
    "            row[0] = row[0].replace(i,'')\n",
    "            row[0] = ' '.join(row[0].split())\n",
    "        else: \n",
    "            pass\n",
    "    return row[0]\n",
    "\n",
    "df['ingredients'] = df['ingredients'].apply(remove_common_ingredient)"
   ]
  },
  {
   "cell_type": "markdown",
   "metadata": {},
   "source": [
    "### Word Vectorization "
   ]
  },
  {
   "cell_type": "code",
   "execution_count": 2,
   "metadata": {},
   "outputs": [],
   "source": [
    "X = df['ingredients']\n",
    "y = df['cuisine']\n",
    "\n",
    "\n",
    "X_train, X_test, y_train, y_test = train_test_split(\n",
    "    X, y, test_size=.30, random_state=7777)"
   ]
  },
  {
   "cell_type": "code",
   "execution_count": null,
   "metadata": {},
   "outputs": [],
   "source": [
    "vec = CountVectorizer(min_df=50, analyzer = 'word')\n",
    "count = vec.fit_transform(X_train).toarray()\n",
    "igt_names = vec.get_feature_names()\n",
    "X_test = vec.transform(X_test)\n",
    "counts = np.clip(count, 0, 1, out=count)\n",
    "counts_reshaped = counts.reshape(len(X_train),len(igt_names))\n",
    "X_train = pd.DataFrame(counts_reshaped)\n",
    "X_train.columns = igt_names"
   ]
  }
 ],
 "metadata": {
  "kernelspec": {
   "display_name": "Python [conda env:py3]",
   "language": "python",
   "name": "conda-env-py3-py"
  },
  "language_info": {
   "codemirror_mode": {
    "name": "ipython",
    "version": 3
   },
   "file_extension": ".py",
   "mimetype": "text/x-python",
   "name": "python",
   "nbconvert_exporter": "python",
   "pygments_lexer": "ipython3",
   "version": "3.6.2"
  }
 },
 "nbformat": 4,
 "nbformat_minor": 2
}
