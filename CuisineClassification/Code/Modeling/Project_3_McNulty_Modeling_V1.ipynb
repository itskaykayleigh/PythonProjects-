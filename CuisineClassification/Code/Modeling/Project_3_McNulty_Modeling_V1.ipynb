{
 "cells": [
  {
   "cell_type": "markdown",
   "metadata": {},
   "source": [
    "## List of Imports "
   ]
  },
  {
   "cell_type": "code",
   "execution_count": 142,
   "metadata": {
    "collapsed": true
   },
   "outputs": [],
   "source": [
    "from __future__ import print_function, division"
   ]
  },
  {
   "cell_type": "code",
   "execution_count": 181,
   "metadata": {},
   "outputs": [],
   "source": [
    "import pickle\n",
    "import itertools \n",
    "import numpy as np\n",
    "import pandas as pd\n",
    "import seaborn as sns\n",
    "import matplotlib.pyplot as plt\n",
    "\n",
    "from sklearn.svm import LinearSVC\n",
    "from sklearn.naive_bayes import BernoulliNB\n",
    "from sklearn.model_selection import GridSearchCV\n",
    "from sklearn.linear_model import LogisticRegression\n",
    "from sklearn.ensemble import RandomForestClassifier\n",
    "\n",
    "from sklearn.metrics import auc\n",
    "from sklearn.metrics import f1_score\n",
    "from sklearn.metrics import roc_curve\n",
    "from sklearn.metrics import recall_score\n",
    "from sklearn.metrics import accuracy_score\n",
    "from sklearn.metrics import precision_score\n",
    "from sklearn.metrics import confusion_matrix\n",
    "from sklearn.metrics import classification_report\n",
    "from sklearn.learning_curve import learning_curve\n",
    "\n",
    "from sklearn.model_selection import ShuffleSplit\n",
    "from sklearn.learning_curve import learning_curve\n",
    "from sklearn.model_selection import cross_val_score\n",
    "from sklearn.model_selection import train_test_split\n",
    "\n",
    "\n",
    "%matplotlib inline "
   ]
  },
  {
   "cell_type": "markdown",
   "metadata": {},
   "source": [
    "## Loading Data & More Detailed Analysis"
   ]
  },
  {
   "cell_type": "code",
   "execution_count": 144,
   "metadata": {
    "collapsed": true
   },
   "outputs": [],
   "source": [
    "with open('../../Data/cuisine_clean.pickle', 'rb') as f:\n",
    "    df_cuisine = pickle.load(f)"
   ]
  },
  {
   "cell_type": "code",
   "execution_count": 145,
   "metadata": {},
   "outputs": [
    {
     "data": {
      "text/html": [
       "<div>\n",
       "<style>\n",
       "    .dataframe thead tr:only-child th {\n",
       "        text-align: right;\n",
       "    }\n",
       "\n",
       "    .dataframe thead th {\n",
       "        text-align: left;\n",
       "    }\n",
       "\n",
       "    .dataframe tbody tr th {\n",
       "        vertical-align: top;\n",
       "    }\n",
       "</style>\n",
       "<table border=\"1\" class=\"dataframe\">\n",
       "  <thead>\n",
       "    <tr style=\"text-align: right;\">\n",
       "      <th></th>\n",
       "      <th>cuisine</th>\n",
       "      <th>id</th>\n",
       "      <th>ingredients</th>\n",
       "      <th>1% low-fat milk</th>\n",
       "      <th>active dry yeast</th>\n",
       "      <th>all purpose unbleached flour</th>\n",
       "      <th>allspice</th>\n",
       "      <th>almond extract</th>\n",
       "      <th>almonds</th>\n",
       "      <th>ancho chile pepper</th>\n",
       "      <th>...</th>\n",
       "      <th>wonton wrappers</th>\n",
       "      <th>worcestershire sauce</th>\n",
       "      <th>yeast</th>\n",
       "      <th>yellow bell pepper</th>\n",
       "      <th>yellow corn meal</th>\n",
       "      <th>yellow onion</th>\n",
       "      <th>yellow squash</th>\n",
       "      <th>yoghurt</th>\n",
       "      <th>yukon gold potatoes</th>\n",
       "      <th>zucchini</th>\n",
       "    </tr>\n",
       "  </thead>\n",
       "  <tbody>\n",
       "    <tr>\n",
       "      <th>0</th>\n",
       "      <td>greek</td>\n",
       "      <td>10259</td>\n",
       "      <td>romaine lettuce,black olives,grape tomatoes,ga...</td>\n",
       "      <td>0</td>\n",
       "      <td>0</td>\n",
       "      <td>0</td>\n",
       "      <td>0</td>\n",
       "      <td>0</td>\n",
       "      <td>0</td>\n",
       "      <td>0</td>\n",
       "      <td>...</td>\n",
       "      <td>0</td>\n",
       "      <td>0</td>\n",
       "      <td>0</td>\n",
       "      <td>0</td>\n",
       "      <td>0</td>\n",
       "      <td>0</td>\n",
       "      <td>0</td>\n",
       "      <td>0</td>\n",
       "      <td>0</td>\n",
       "      <td>0</td>\n",
       "    </tr>\n",
       "    <tr>\n",
       "      <th>1</th>\n",
       "      <td>southern_us</td>\n",
       "      <td>25693</td>\n",
       "      <td>plain flour,ground pepper,salt,tomatoes,ground...</td>\n",
       "      <td>0</td>\n",
       "      <td>0</td>\n",
       "      <td>0</td>\n",
       "      <td>0</td>\n",
       "      <td>0</td>\n",
       "      <td>0</td>\n",
       "      <td>0</td>\n",
       "      <td>...</td>\n",
       "      <td>0</td>\n",
       "      <td>0</td>\n",
       "      <td>0</td>\n",
       "      <td>0</td>\n",
       "      <td>1</td>\n",
       "      <td>0</td>\n",
       "      <td>0</td>\n",
       "      <td>0</td>\n",
       "      <td>0</td>\n",
       "      <td>0</td>\n",
       "    </tr>\n",
       "    <tr>\n",
       "      <th>2</th>\n",
       "      <td>filipino</td>\n",
       "      <td>20130</td>\n",
       "      <td>eggs,pepper,salt,mayonaise,cooking oil,green c...</td>\n",
       "      <td>0</td>\n",
       "      <td>0</td>\n",
       "      <td>0</td>\n",
       "      <td>0</td>\n",
       "      <td>0</td>\n",
       "      <td>0</td>\n",
       "      <td>0</td>\n",
       "      <td>...</td>\n",
       "      <td>0</td>\n",
       "      <td>0</td>\n",
       "      <td>0</td>\n",
       "      <td>0</td>\n",
       "      <td>0</td>\n",
       "      <td>1</td>\n",
       "      <td>0</td>\n",
       "      <td>0</td>\n",
       "      <td>0</td>\n",
       "      <td>0</td>\n",
       "    </tr>\n",
       "    <tr>\n",
       "      <th>3</th>\n",
       "      <td>indian</td>\n",
       "      <td>22213</td>\n",
       "      <td>water,vegetable oil,wheat,salt</td>\n",
       "      <td>0</td>\n",
       "      <td>0</td>\n",
       "      <td>0</td>\n",
       "      <td>0</td>\n",
       "      <td>0</td>\n",
       "      <td>0</td>\n",
       "      <td>0</td>\n",
       "      <td>...</td>\n",
       "      <td>0</td>\n",
       "      <td>0</td>\n",
       "      <td>0</td>\n",
       "      <td>0</td>\n",
       "      <td>0</td>\n",
       "      <td>0</td>\n",
       "      <td>0</td>\n",
       "      <td>0</td>\n",
       "      <td>0</td>\n",
       "      <td>0</td>\n",
       "    </tr>\n",
       "    <tr>\n",
       "      <th>4</th>\n",
       "      <td>indian</td>\n",
       "      <td>13162</td>\n",
       "      <td>black pepper,shallots,cornflour,cayenne pepper...</td>\n",
       "      <td>0</td>\n",
       "      <td>0</td>\n",
       "      <td>0</td>\n",
       "      <td>0</td>\n",
       "      <td>0</td>\n",
       "      <td>0</td>\n",
       "      <td>0</td>\n",
       "      <td>...</td>\n",
       "      <td>0</td>\n",
       "      <td>0</td>\n",
       "      <td>0</td>\n",
       "      <td>0</td>\n",
       "      <td>0</td>\n",
       "      <td>0</td>\n",
       "      <td>0</td>\n",
       "      <td>0</td>\n",
       "      <td>0</td>\n",
       "      <td>0</td>\n",
       "    </tr>\n",
       "  </tbody>\n",
       "</table>\n",
       "<p>5 rows × 548 columns</p>\n",
       "</div>"
      ],
      "text/plain": [
       "       cuisine     id                                        ingredients  \\\n",
       "0        greek  10259  romaine lettuce,black olives,grape tomatoes,ga...   \n",
       "1  southern_us  25693  plain flour,ground pepper,salt,tomatoes,ground...   \n",
       "2     filipino  20130  eggs,pepper,salt,mayonaise,cooking oil,green c...   \n",
       "3       indian  22213                     water,vegetable oil,wheat,salt   \n",
       "4       indian  13162  black pepper,shallots,cornflour,cayenne pepper...   \n",
       "\n",
       "   1% low-fat milk  active dry yeast  all purpose unbleached flour  allspice  \\\n",
       "0                0                 0                             0         0   \n",
       "1                0                 0                             0         0   \n",
       "2                0                 0                             0         0   \n",
       "3                0                 0                             0         0   \n",
       "4                0                 0                             0         0   \n",
       "\n",
       "   almond extract  almonds  ancho chile pepper    ...     wonton wrappers  \\\n",
       "0               0        0                   0    ...                   0   \n",
       "1               0        0                   0    ...                   0   \n",
       "2               0        0                   0    ...                   0   \n",
       "3               0        0                   0    ...                   0   \n",
       "4               0        0                   0    ...                   0   \n",
       "\n",
       "   worcestershire sauce  yeast  yellow bell pepper  yellow corn meal  \\\n",
       "0                     0      0                   0                 0   \n",
       "1                     0      0                   0                 1   \n",
       "2                     0      0                   0                 0   \n",
       "3                     0      0                   0                 0   \n",
       "4                     0      0                   0                 0   \n",
       "\n",
       "   yellow onion  yellow squash  yoghurt  yukon gold potatoes  zucchini  \n",
       "0             0              0        0                    0         0  \n",
       "1             0              0        0                    0         0  \n",
       "2             1              0        0                    0         0  \n",
       "3             0              0        0                    0         0  \n",
       "4             0              0        0                    0         0  \n",
       "\n",
       "[5 rows x 548 columns]"
      ]
     },
     "execution_count": 145,
     "metadata": {},
     "output_type": "execute_result"
    }
   ],
   "source": [
    "df_cuisine.head()"
   ]
  },
  {
   "cell_type": "code",
   "execution_count": 146,
   "metadata": {},
   "outputs": [
    {
     "name": "stdout",
     "output_type": "stream",
     "text": [
      "<class 'pandas.core.frame.DataFrame'>\n",
      "RangeIndex: 39774 entries, 0 to 39773\n",
      "Columns: 548 entries, cuisine to zucchini\n",
      "dtypes: int64(546), object(2)\n",
      "memory usage: 166.3+ MB\n"
     ]
    }
   ],
   "source": [
    "df_cuisine.info()"
   ]
  },
  {
   "cell_type": "code",
   "execution_count": 147,
   "metadata": {},
   "outputs": [
    {
     "data": {
      "text/plain": [
       "Index(['cuisine', 'id', 'ingredients', '1% low-fat milk', 'active dry yeast',\n",
       "       'all purpose unbleached flour', 'allspice', 'almond extract', 'almonds',\n",
       "       'ancho chile pepper',\n",
       "       ...\n",
       "       'wonton wrappers', 'worcestershire sauce', 'yeast',\n",
       "       'yellow bell pepper', 'yellow corn meal', 'yellow onion',\n",
       "       'yellow squash', 'yoghurt', 'yukon gold potatoes', 'zucchini'],\n",
       "      dtype='object', length=548)"
      ]
     },
     "execution_count": 147,
     "metadata": {},
     "output_type": "execute_result"
    }
   ],
   "source": [
    "df_cuisine.columns"
   ]
  },
  {
   "cell_type": "code",
   "execution_count": 148,
   "metadata": {
    "collapsed": true
   },
   "outputs": [],
   "source": [
    "# checks the use of each ingredient in each cuisine\n",
    "igt_cuisine = df_cuisine.groupby('cuisine').sum()"
   ]
  },
  {
   "cell_type": "code",
   "execution_count": 149,
   "metadata": {},
   "outputs": [
    {
     "data": {
      "text/plain": [
       "<matplotlib.text.Text at 0x1129b7588>"
      ]
     },
     "execution_count": 149,
     "metadata": {},
     "output_type": "execute_result"
    },
    {
     "data": {
      "image/png": "[encoded data removed]",
      "text/plain": [
       "<matplotlib.figure.Figure at 0x1129aa780>"
      ]
     },
     "metadata": {},
     "output_type": "display_data"
    }
   ],
   "source": [
    "# visualizes\n",
    "igt_use = igt_cuisine.sum(axis=0).sort_values(ascending=False)\n",
    "ax = igt_use[1:11].plot(kind='bar',linewidth=10\n",
    "                        ,width=0.8,align='center'\n",
    "                        ,figsize =(14,8)\n",
    "                        ,color='pink',rot = 60)\n",
    "plt.xlabel('Ingredients', fontsize=20)\n",
    "plt.ylabel('Frequency', fontsize=20)\n",
    "plt.title('10 Most Common Ingredients', fontsize=25)"
   ]
  },
  {
   "cell_type": "code",
   "execution_count": 150,
   "metadata": {},
   "outputs": [
    {
     "data": {
      "text/plain": [
       "salt                            18263\n",
       "garlic                          15710\n",
       "warm water                       8034\n",
       "onions                           7972\n",
       "olive oil                        7971\n",
       "sugar                            6538\n",
       "chicken                          5106\n",
       "butter                           4847\n",
       "all purpose unbleached flour     4811\n",
       "ground black pepper              4784\n",
       "vegetable oil                    4645\n",
       "pepper                           4438\n",
       "corn                             3452\n",
       "eggs                             3388\n",
       "soy sauce                        3296\n",
       "lemon                            3186\n",
       "lime                             3130\n",
       "kosher salt                      3113\n",
       "green onions                     3078\n",
       "dtype: int64"
      ]
     },
     "execution_count": 150,
     "metadata": {},
     "output_type": "execute_result"
    }
   ],
   "source": [
    "igt_use[1:20]"
   ]
  },
  {
   "cell_type": "code",
   "execution_count": 151,
   "metadata": {},
   "outputs": [
    {
     "data": {
      "text/plain": [
       "<matplotlib.text.Text at 0x11467f9b0>"
      ]
     },
     "execution_count": 151,
     "metadata": {},
     "output_type": "execute_result"
    },
    {
     "data": {
      "image/png": "[encoded data removed]",
      "text/plain": [
       "<matplotlib.figure.Figure at 0x11701b390>"
      ]
     },
     "metadata": {},
     "output_type": "display_data"
    }
   ],
   "source": [
    "cuisine_counts = df_cuisine['cuisine'].value_counts().sort_values()\n",
    "cuisine_counts.plot(kind='barh',color = 'pink'\n",
    "                    ,linewidth=10,width=0.8,align='center',figsize =(14,8))\n",
    "plt.xlabel('Counts of Cuisine', fontsize=20)\n",
    "plt.ylabel('Type of Cuisine', fontsize=20)\n",
    "plt.title('Cuisine Distribution', fontsize=25)"
   ]
  },
  {
   "cell_type": "code",
   "execution_count": 152,
   "metadata": {
    "collapsed": true
   },
   "outputs": [],
   "source": [
    "dcf = df_cuisine.groupby('cuisine').sum()"
   ]
  },
  {
   "cell_type": "code",
   "execution_count": 153,
   "metadata": {},
   "outputs": [
    {
     "data": {
      "text/plain": [
       "salt                           196\n",
       "garlic                         171\n",
       "onions                         133\n",
       "lime                           129\n",
       "olive oil                      118\n",
       "warm water                      89\n",
       "coconut                         79\n",
       "sugar                           69\n",
       "tomatoes                        63\n",
       "sweetened condensed milk        57\n",
       "pepper                          56\n",
       "eggs                            52\n",
       "ground black pepper             48\n",
       "butter                          48\n",
       "milk                            44\n",
       "vegetable oil                   43\n",
       "ice                             43\n",
       "cilantro                        40\n",
       "chicken                         37\n",
       "orange                          36\n",
       "black beans                     36\n",
       "red bell pepper                 29\n",
       "bay leaves                      29\n",
       "chopped cilantro                27\n",
       "carrots                         26\n",
       "lemon                           24\n",
       "green onions                    23\n",
       "shrimp                          23\n",
       "unsalted butter                 23\n",
       "bay leaf                        23\n",
       "                              ... \n",
       "drain                            0\n",
       "dried apricot                    0\n",
       "dried basil                      0\n",
       "pecan halves                     0\n",
       "firm tofu                        0\n",
       "nutmeg                           0\n",
       "fine sea salt                    0\n",
       "fettucine                        0\n",
       "feta cheese                      0\n",
       "fennel bulb                      0\n",
       "oyster sauce                     0\n",
       "palm sugar                       0\n",
       "extra firm tofu                  0\n",
       "evaporated milk                  0\n",
       "paneer                           0\n",
       "enchilada sauce                  0\n",
       "eggplant                         0\n",
       "parmigiano reggiano cheese       0\n",
       "part-skim mozzarella cheese      0\n",
       "part-skim ricotta cheese         0\n",
       "pasta                            0\n",
       "dry sherry                       0\n",
       "dry mustard                      0\n",
       "peanut butter                    0\n",
       "dried shiitake mushrooms         0\n",
       "dried rosemary                   0\n",
       "dried red chile peppers          0\n",
       "dried porcini mushrooms          0\n",
       "dried parsley                    0\n",
       "hot red pepper flakes            0\n",
       "Name: brazilian, Length: 545, dtype: int64"
      ]
     },
     "execution_count": 153,
     "metadata": {},
     "output_type": "execute_result"
    }
   ],
   "source": [
    "# Find the mostly used ingredients (3) for each cuisine besides common ones, \n",
    "# like water, salt or oil\n",
    "dcf.iloc[0,1:].sort_values(ascending=False)"
   ]
  },
  {
   "cell_type": "markdown",
   "metadata": {},
   "source": [
    "## Modeling - Set model performance baseline \n",
    "Given the dominance of Italian food in the training set, the first model will predict 'italian' all the time. This is to establish a baseline for model performance and see how much I can improve on performance through employing different models and approaches. "
   ]
  },
  {
   "cell_type": "code",
   "execution_count": 154,
   "metadata": {},
   "outputs": [
    {
     "data": {
      "text/plain": [
       "0.19706340825665009"
      ]
     },
     "execution_count": 154,
     "metadata": {},
     "output_type": "execute_result"
    }
   ],
   "source": [
    "# number of italian cuisines in the training set \n",
    "itl_cn = df_cuisine['cuisine'].value_counts().sort_values(ascending=False)[0]\n",
    "# % of total number of cuisines in the training set\n",
    "p_itl = itl_cn/len(df_cuisine['cuisine'])\n",
    "p_itl"
   ]
  },
  {
   "cell_type": "code",
   "execution_count": 155,
   "metadata": {
    "collapsed": true
   },
   "outputs": [],
   "source": [
    "def predict_italian(input_x):\n",
    "    italian = ['italian']*(len(input_x))\n",
    "    return italian "
   ]
  },
  {
   "cell_type": "code",
   "execution_count": 156,
   "metadata": {
    "collapsed": true
   },
   "outputs": [],
   "source": [
    "x1 = df_cuisine.iloc[:,3:]\n",
    "y = df_cuisine['cuisine']"
   ]
  },
  {
   "cell_type": "code",
   "execution_count": 157,
   "metadata": {},
   "outputs": [
    {
     "name": "stdout",
     "output_type": "stream",
     "text": [
      "The baseline in terms of model accuracy is:  0.197063408257\n"
     ]
    }
   ],
   "source": [
    "pred_itl = predict_italian(x1)\n",
    "itl_score = accuracy_score(y, pred_itl)\n",
    "print(\"The baseline in terms of model accuracy is: \", itl_score)"
   ]
  },
  {
   "cell_type": "markdown",
   "metadata": {},
   "source": [
    "##### Get rid of the most common ingredients - will not add much value as most cuisines use them "
   ]
  },
  {
   "cell_type": "code",
   "execution_count": 158,
   "metadata": {},
   "outputs": [
    {
     "data": {
      "text/plain": [
       "salt                            18263\n",
       "garlic                          15710\n",
       "warm water                       8034\n",
       "onions                           7972\n",
       "olive oil                        7971\n",
       "sugar                            6538\n",
       "chicken                          5106\n",
       "butter                           4847\n",
       "all purpose unbleached flour     4811\n",
       "ground black pepper              4784\n",
       "vegetable oil                    4645\n",
       "pepper                           4438\n",
       "corn                             3452\n",
       "eggs                             3388\n",
       "soy sauce                        3296\n",
       "lemon                            3186\n",
       "lime                             3130\n",
       "kosher salt                      3113\n",
       "green onions                     3078\n",
       "tomatoes                         3058\n",
       "large eggs                       2948\n",
       "dtype: int64"
      ]
     },
     "execution_count": 158,
     "metadata": {},
     "output_type": "execute_result"
    }
   ],
   "source": [
    "igt_cuisine.sum(axis=0).sort_values(ascending=False)[1:22]"
   ]
  },
  {
   "cell_type": "code",
   "execution_count": 159,
   "metadata": {
    "collapsed": true
   },
   "outputs": [],
   "source": [
    "df = df_cuisine.iloc[:,3:]"
   ]
  },
  {
   "cell_type": "code",
   "execution_count": 160,
   "metadata": {
    "collapsed": true
   },
   "outputs": [],
   "source": [
    "def remove_common_ingredients(column):\n",
    "    if sum(column) >= 2948:\n",
    "        return None\n",
    "    else: \n",
    "        return column"
   ]
  },
  {
   "cell_type": "code",
   "execution_count": 161,
   "metadata": {
    "collapsed": true
   },
   "outputs": [],
   "source": [
    "df = df.apply(remove_common_ingredients, axis=0)"
   ]
  },
  {
   "cell_type": "code",
   "execution_count": 162,
   "metadata": {},
   "outputs": [
    {
     "data": {
      "text/html": [
       "<div>\n",
       "<style>\n",
       "    .dataframe thead tr:only-child th {\n",
       "        text-align: right;\n",
       "    }\n",
       "\n",
       "    .dataframe thead th {\n",
       "        text-align: left;\n",
       "    }\n",
       "\n",
       "    .dataframe tbody tr th {\n",
       "        vertical-align: top;\n",
       "    }\n",
       "</style>\n",
       "<table border=\"1\" class=\"dataframe\">\n",
       "  <thead>\n",
       "    <tr style=\"text-align: right;\">\n",
       "      <th></th>\n",
       "      <th>1% low-fat milk</th>\n",
       "      <th>active dry yeast</th>\n",
       "      <th>all purpose unbleached flour</th>\n",
       "      <th>allspice</th>\n",
       "      <th>almond extract</th>\n",
       "      <th>almonds</th>\n",
       "      <th>ancho chile pepper</th>\n",
       "      <th>anchovy fillets</th>\n",
       "      <th>andouille sausage</th>\n",
       "      <th>apple cider vinegar</th>\n",
       "      <th>...</th>\n",
       "      <th>wonton wrappers</th>\n",
       "      <th>worcestershire sauce</th>\n",
       "      <th>yeast</th>\n",
       "      <th>yellow bell pepper</th>\n",
       "      <th>yellow corn meal</th>\n",
       "      <th>yellow onion</th>\n",
       "      <th>yellow squash</th>\n",
       "      <th>yoghurt</th>\n",
       "      <th>yukon gold potatoes</th>\n",
       "      <th>zucchini</th>\n",
       "    </tr>\n",
       "  </thead>\n",
       "  <tbody>\n",
       "    <tr>\n",
       "      <th>0</th>\n",
       "      <td>0</td>\n",
       "      <td>0</td>\n",
       "      <td>None</td>\n",
       "      <td>0</td>\n",
       "      <td>0</td>\n",
       "      <td>0</td>\n",
       "      <td>0</td>\n",
       "      <td>0</td>\n",
       "      <td>0</td>\n",
       "      <td>0</td>\n",
       "      <td>...</td>\n",
       "      <td>0</td>\n",
       "      <td>0</td>\n",
       "      <td>0</td>\n",
       "      <td>0</td>\n",
       "      <td>0</td>\n",
       "      <td>0</td>\n",
       "      <td>0</td>\n",
       "      <td>0</td>\n",
       "      <td>0</td>\n",
       "      <td>0</td>\n",
       "    </tr>\n",
       "    <tr>\n",
       "      <th>1</th>\n",
       "      <td>0</td>\n",
       "      <td>0</td>\n",
       "      <td>None</td>\n",
       "      <td>0</td>\n",
       "      <td>0</td>\n",
       "      <td>0</td>\n",
       "      <td>0</td>\n",
       "      <td>0</td>\n",
       "      <td>0</td>\n",
       "      <td>0</td>\n",
       "      <td>...</td>\n",
       "      <td>0</td>\n",
       "      <td>0</td>\n",
       "      <td>0</td>\n",
       "      <td>0</td>\n",
       "      <td>1</td>\n",
       "      <td>0</td>\n",
       "      <td>0</td>\n",
       "      <td>0</td>\n",
       "      <td>0</td>\n",
       "      <td>0</td>\n",
       "    </tr>\n",
       "    <tr>\n",
       "      <th>2</th>\n",
       "      <td>0</td>\n",
       "      <td>0</td>\n",
       "      <td>None</td>\n",
       "      <td>0</td>\n",
       "      <td>0</td>\n",
       "      <td>0</td>\n",
       "      <td>0</td>\n",
       "      <td>0</td>\n",
       "      <td>0</td>\n",
       "      <td>0</td>\n",
       "      <td>...</td>\n",
       "      <td>0</td>\n",
       "      <td>0</td>\n",
       "      <td>0</td>\n",
       "      <td>0</td>\n",
       "      <td>0</td>\n",
       "      <td>1</td>\n",
       "      <td>0</td>\n",
       "      <td>0</td>\n",
       "      <td>0</td>\n",
       "      <td>0</td>\n",
       "    </tr>\n",
       "    <tr>\n",
       "      <th>3</th>\n",
       "      <td>0</td>\n",
       "      <td>0</td>\n",
       "      <td>None</td>\n",
       "      <td>0</td>\n",
       "      <td>0</td>\n",
       "      <td>0</td>\n",
       "      <td>0</td>\n",
       "      <td>0</td>\n",
       "      <td>0</td>\n",
       "      <td>0</td>\n",
       "      <td>...</td>\n",
       "      <td>0</td>\n",
       "      <td>0</td>\n",
       "      <td>0</td>\n",
       "      <td>0</td>\n",
       "      <td>0</td>\n",
       "      <td>0</td>\n",
       "      <td>0</td>\n",
       "      <td>0</td>\n",
       "      <td>0</td>\n",
       "      <td>0</td>\n",
       "    </tr>\n",
       "    <tr>\n",
       "      <th>4</th>\n",
       "      <td>0</td>\n",
       "      <td>0</td>\n",
       "      <td>None</td>\n",
       "      <td>0</td>\n",
       "      <td>0</td>\n",
       "      <td>0</td>\n",
       "      <td>0</td>\n",
       "      <td>0</td>\n",
       "      <td>0</td>\n",
       "      <td>0</td>\n",
       "      <td>...</td>\n",
       "      <td>0</td>\n",
       "      <td>0</td>\n",
       "      <td>0</td>\n",
       "      <td>0</td>\n",
       "      <td>0</td>\n",
       "      <td>0</td>\n",
       "      <td>0</td>\n",
       "      <td>0</td>\n",
       "      <td>0</td>\n",
       "      <td>0</td>\n",
       "    </tr>\n",
       "  </tbody>\n",
       "</table>\n",
       "<p>5 rows × 545 columns</p>\n",
       "</div>"
      ],
      "text/plain": [
       "   1% low-fat milk  active dry yeast all purpose unbleached flour  allspice  \\\n",
       "0                0                 0                         None         0   \n",
       "1                0                 0                         None         0   \n",
       "2                0                 0                         None         0   \n",
       "3                0                 0                         None         0   \n",
       "4                0                 0                         None         0   \n",
       "\n",
       "   almond extract  almonds  ancho chile pepper  anchovy fillets  \\\n",
       "0               0        0                   0                0   \n",
       "1               0        0                   0                0   \n",
       "2               0        0                   0                0   \n",
       "3               0        0                   0                0   \n",
       "4               0        0                   0                0   \n",
       "\n",
       "   andouille sausage  apple cider vinegar    ...     wonton wrappers  \\\n",
       "0                  0                    0    ...                   0   \n",
       "1                  0                    0    ...                   0   \n",
       "2                  0                    0    ...                   0   \n",
       "3                  0                    0    ...                   0   \n",
       "4                  0                    0    ...                   0   \n",
       "\n",
       "   worcestershire sauce  yeast  yellow bell pepper  yellow corn meal  \\\n",
       "0                     0      0                   0                 0   \n",
       "1                     0      0                   0                 1   \n",
       "2                     0      0                   0                 0   \n",
       "3                     0      0                   0                 0   \n",
       "4                     0      0                   0                 0   \n",
       "\n",
       "   yellow onion  yellow squash  yoghurt  yukon gold potatoes  zucchini  \n",
       "0             0              0        0                    0         0  \n",
       "1             0              0        0                    0         0  \n",
       "2             1              0        0                    0         0  \n",
       "3             0              0        0                    0         0  \n",
       "4             0              0        0                    0         0  \n",
       "\n",
       "[5 rows x 545 columns]"
      ]
     },
     "execution_count": 162,
     "metadata": {},
     "output_type": "execute_result"
    }
   ],
   "source": [
    "df.head()"
   ]
  },
  {
   "cell_type": "code",
   "execution_count": 163,
   "metadata": {},
   "outputs": [
    {
     "data": {
      "text/plain": [
       "377"
      ]
     },
     "execution_count": 163,
     "metadata": {},
     "output_type": "execute_result"
    }
   ],
   "source": [
    "# check to make sure only common ingredients are set to NaN \n",
    "sum(df['active dry yeast'])"
   ]
  },
  {
   "cell_type": "code",
   "execution_count": 164,
   "metadata": {
    "collapsed": true
   },
   "outputs": [],
   "source": [
    "df.dropna(axis=1,how='all',inplace=True)"
   ]
  },
  {
   "cell_type": "code",
   "execution_count": 165,
   "metadata": {},
   "outputs": [
    {
     "name": "stdout",
     "output_type": "stream",
     "text": [
      "<class 'pandas.core.frame.DataFrame'>\n",
      "RangeIndex: 39774 entries, 0 to 39773\n",
      "Columns: 524 entries, 1% low-fat milk to zucchini\n",
      "dtypes: int64(524)\n",
      "memory usage: 159.0 MB\n"
     ]
    }
   ],
   "source": [
    "df.info()"
   ]
  },
  {
   "cell_type": "markdown",
   "metadata": {},
   "source": [
    "## Modeling - Try different classification estimators \n",
    " * Logistic Regression\n",
    " * LinearSVC  \n",
    " * Bernoull Naive Bayes \n",
    " * Decision Tree\n",
    " * Random Forest "
   ]
  },
  {
   "cell_type": "markdown",
   "metadata": {},
   "source": [
    "### Train-Test Split - hold 30% as holdout set for testing "
   ]
  },
  {
   "cell_type": "code",
   "execution_count": 166,
   "metadata": {
    "collapsed": true
   },
   "outputs": [],
   "source": [
    "X = df\n",
    "y = df_cuisine['cuisine']"
   ]
  },
  {
   "cell_type": "code",
   "execution_count": 167,
   "metadata": {},
   "outputs": [],
   "source": [
    "X_train, X_test, y_train, y_test = train_test_split(X,y,test_size=.30, random_state=7777)"
   ]
  },
  {
   "cell_type": "code",
   "execution_count": 168,
   "metadata": {},
   "outputs": [
    {
     "name": "stdout",
     "output_type": "stream",
     "text": [
      "The dimensinality of training features:  (27841, 524)\n",
      "The dimensinality of training target:  (27841,)\n",
      "The dimensinality of testing features:  (11933, 524)\n",
      "The dimensinality of testing target:  (11933,)\n"
     ]
    }
   ],
   "source": [
    "print('The dimensinality of training features: ', X_train.shape)\n",
    "print('The dimensinality of training target: ', y_train.shape)\n",
    "print('The dimensinality of testing features: ', X_test.shape)\n",
    "print('The dimensinality of testing target: ', y_test.shape)"
   ]
  },
  {
   "cell_type": "code",
   "execution_count": 169,
   "metadata": {
    "collapsed": true
   },
   "outputs": [],
   "source": [
    "df_test = pd.concat([X_test, y_test], axis=1)"
   ]
  },
  {
   "cell_type": "markdown",
   "metadata": {},
   "source": [
    "## Building pipelines for modeling"
   ]
  },
  {
   "cell_type": "markdown",
   "metadata": {},
   "source": [
    "#### 1). Model w/ parameter tuning not using GridSearchCV (manually instead)"
   ]
  },
  {
   "cell_type": "code",
   "execution_count": 170,
   "metadata": {
    "collapsed": true
   },
   "outputs": [],
   "source": [
    "# GridSearch takes a long time to run for this dataset, so the \n",
    "# below function can be utilized to speed up the training process. \n",
    "\n",
    "def modeling(estimator, X_train, y_train, X_test, y_test):\n",
    "    \"\"\" This function trains a model and returns the test score. \"\"\"\n",
    "    estimator = estimator.fit(X_train, y_train)\n",
    "    pred_tr = estimator.predict(X_train)\n",
    "    pred_tt = estimator.predict(X_test)\n",
    "    score_tr = accuracy_score(y_train, pred_tr)\n",
    "    score_tt = accuracy_score(y_test, pred_tt)\n",
    "    score_f1 = f1_score(y_test, pred_tt,average='macro')\n",
    "    score_precision = precision_score(y_test, pred_tt,average=\"macro\")\n",
    "    score_recall = recall_score(y_test, pred_tt,average=\"macro\")\n",
    "    \n",
    "    print('|Accuracy on Training|: ', score_tr\n",
    "          ,'\\n','|Accuracy on Testing|: ', score_tt,'\\n'\n",
    "          ,'|F1 Score|: ', score_f1)\n",
    "    \n",
    "    return pred_tt, estimator, score_tt, score_f1"
   ]
  },
  {
   "cell_type": "markdown",
   "metadata": {},
   "source": [
    "#### 2). Model w/ parameter tuning using GridSearchCV \n",
    "#### Initiate cross-validation iterator"
   ]
  },
  {
   "cell_type": "code",
   "execution_count": 171,
   "metadata": {
    "collapsed": true
   },
   "outputs": [],
   "source": [
    "cv = ShuffleSplit(X_train.shape[0], random_state=7777)"
   ]
  },
  {
   "cell_type": "markdown",
   "metadata": {},
   "source": [
    "#### Tune the hyperparameters and build model "
   ]
  },
  {
   "cell_type": "code",
   "execution_count": 172,
   "metadata": {
    "collapsed": true
   },
   "outputs": [],
   "source": [
    "# def model_initiation(estimator, X, y, cv, param_grid):\n",
    "#     \"\"\" This function returns the best estimator by using \n",
    "#     GridSearchCV to test on \n",
    "#     different combinations of parameters. \"\"\"\n",
    "#     classifier = GridSearchCV(estimator, param_grid\n",
    "#     , cv=cv, scoring='accuracy')\n",
    "#     classifier.fit(X,y)\n",
    "    \n",
    "#     best_estimator = classifier.best_estimator_\n",
    "#     best_score = classifier.best_score_\n",
    "#     best_params = classifier.best_params_\n",
    "    \n",
    "#     print('|Best Model|: ----------', best_estimator\n",
    "#           ,'\\n','|Highest Accuracy on Training|: ----------'\n",
    "#     , best_score_lr)\n",
    "    \n",
    "#     return best_estimator "
   ]
  },
  {
   "cell_type": "markdown",
   "metadata": {},
   "source": [
    "#### Debug algorithm with learning curve \n",
    "X_train is randomly split into a training and a test set 10 times (n_iter=10). Each point on the training-score curve is the average of 10 scores where the model was trained and evaluated on the first i training examples. Each point on the cross-validation score curve is the average of 10 scores where the model was trained on the first i training examples and evaluated on all examples of the test set."
   ]
  },
  {
   "cell_type": "code",
   "execution_count": 173,
   "metadata": {
    "collapsed": true
   },
   "outputs": [],
   "source": [
    "def plot_learning_curve(estimator, title, X, y, ylim=None, cv=None,\n",
    "                        n_jobs=1, train_sizes=np.linspace(.1, 1.0, 5)):\n",
    "    \"\"\" This function plots the learning curve. \"\"\"\n",
    "    plt.figure()\n",
    "    plt.title(title)\n",
    "    if ylim is not None:\n",
    "        plt.ylim(*ylim)\n",
    "    plt.xlabel(\"Training examples\")\n",
    "    plt.ylabel(\"Score\")\n",
    "    train_sizes, train_scores, test_scores = learning_curve(\n",
    "        estimator, X, y, cv=cv, n_jobs=n_jobs, train_sizes=train_sizes)\n",
    "    train_scores_mean = np.mean(train_scores, axis=1)\n",
    "    train_scores_std = np.std(train_scores, axis=1)\n",
    "    test_scores_mean = np.mean(test_scores, axis=1)\n",
    "    test_scores_std = np.std(test_scores, axis=1)\n",
    "    plt.grid()\n",
    "\n",
    "    plt.fill_between(train_sizes, train_scores_mean - train_scores_std,\n",
    "                     train_scores_mean + train_scores_std, alpha=0.1,\n",
    "                     color=\"r\")\n",
    "    plt.fill_between(train_sizes, test_scores_mean - test_scores_std,\n",
    "                     test_scores_mean + test_scores_std\n",
    "                     , alpha=0.1, color=\"g\")\n",
    "    plt.plot(train_sizes, train_scores_mean, 'o-', color=\"r\",\n",
    "             label=\"Training score\")\n",
    "    plt.plot(train_sizes, test_scores_mean, 'o-', color=\"g\",\n",
    "             label=\"Cross-validation score\")\n",
    "\n",
    "    plt.legend(loc=\"best\")\n",
    "    return plt"
   ]
  },
  {
   "cell_type": "markdown",
   "metadata": {},
   "source": [
    "#### Evaluate on the test set"
   ]
  },
  {
   "cell_type": "code",
   "execution_count": 174,
   "metadata": {
    "collapsed": true
   },
   "outputs": [],
   "source": [
    "# def model_prediction(best_estimator, x, y):\n",
    "#     prediction = best_estimator.predict(x)\n",
    "#     test_score = accuracy_score(y, prediction)\n",
    "#     # test_score = classifier.score(X_test, y_test)\n",
    "    \n",
    "#     print('|Accuracy on Testing|: ', test_score)\n",
    "    \n",
    "#     return test_score,prediction "
   ]
  },
  {
   "cell_type": "markdown",
   "metadata": {},
   "source": [
    "#### Cross validation scores "
   ]
  },
  {
   "cell_type": "code",
   "execution_count": 175,
   "metadata": {
    "collapsed": true
   },
   "outputs": [],
   "source": [
    "def cross_val_scores(best_model,x,y):\n",
    "    score = cross_val_score(best_model, x, y, cv=10)\n",
    "    return score"
   ]
  },
  {
   "cell_type": "markdown",
   "metadata": {},
   "source": [
    "#### Plot confusion matrix "
   ]
  },
  {
   "cell_type": "code",
   "execution_count": 206,
   "metadata": {},
   "outputs": [],
   "source": [
    "def plot_confusion_matrix(cm, classes,\n",
    "                          normalize=False,\n",
    "                          title='Confusion matrix',\n",
    "                          cmap=plt.cm.RdGy):\n",
    "    \"\"\"\n",
    "    This function prints and plots the confusion matrix.\n",
    "    \"\"\"\n",
    "    if normalize:\n",
    "        cm = cm.astype('float') / cm.sum(axis=1)[:, np.newaxis]\n",
    "        print(\"Normalized confusion matrix\")\n",
    "    else:\n",
    "        print('Confusion matrix, without normalization')\n",
    "\n",
    "    print(cm)\n",
    "\n",
    "    plt.imshow(cm, interpolation='nearest', cmap=cmap)\n",
    "    plt.title(title)\n",
    "    plt.colorbar()\n",
    "    tick_marks = np.arange(len(classes))\n",
    "    plt.xticks(tick_marks, classes, rotation=45)\n",
    "    plt.yticks(tick_marks, classes)\n",
    "\n",
    "    fmt = '.2f' if normalize else 'd'\n",
    "    thresh = cm.max() / 2.\n",
    "    for i, j in itertools.product(range(cm.shape[0]), range(cm.shape[1])):\n",
    "        plt.text(j, i, format(cm[i, j], fmt),\n",
    "                 horizontalalignment=\"center\",\n",
    "                 color=\"white\" if cm[i, j] > thresh else \"black\")\n",
    "\n",
    "    plt.tight_layout()\n",
    "    plt.ylabel('True label')\n",
    "    plt.xlabel('Predicted label')"
   ]
  },
  {
   "cell_type": "markdown",
   "metadata": {},
   "source": [
    "### Classification Estimator 1: Logistic Regression"
   ]
  },
  {
   "cell_type": "code",
   "execution_count": 25,
   "metadata": {
    "collapsed": true
   },
   "outputs": [],
   "source": [
    "# Initiates parameters:  \n",
    "# Uses grid search to find out the best C value.\n",
    "# Basically smaller C specify stronger regularization.\n",
    "\n",
    "# parameters_lr = {'C': [0.01, 0.1, 1, 10] }  \n",
    "\n",
    "# Initiates estimator: \n",
    "estimator_lr = LogisticRegression()"
   ]
  },
  {
   "cell_type": "code",
   "execution_count": 26,
   "metadata": {},
   "outputs": [],
   "source": [
    "# W/ GridSearchCV parameter-tuning \n",
    "\n",
    "# best_lr = model_initiation(estimator_lr, X_train, y_train\n",
    "#                            , cv=cv, param_grid=parameters_lr)\n",
    "\n",
    "# best_lr"
   ]
  },
  {
   "cell_type": "code",
   "execution_count": 109,
   "metadata": {},
   "outputs": [
    {
     "name": "stdout",
     "output_type": "stream",
     "text": [
      "|Accuracy on Training|:  0.742502065299 \n",
      " |Accuracy on Testing|:  0.707366127545 \n",
      " |F1 Score|:  0.593504763741\n"
     ]
    }
   ],
   "source": [
    "# W/o GridSearchCV parameter-tuning \n",
    "result_lr = modeling(estimator_lr, X_train, y_train, X_test, y_test)"
   ]
  },
  {
   "cell_type": "code",
   "execution_count": 31,
   "metadata": {},
   "outputs": [
    {
     "data": {
      "text/plain": [
       "<module 'matplotlib.pyplot' from '/Users/liyuqiao/anaconda/envs/py3/lib/python3.6/site-packages/matplotlib/pyplot.py'>"
      ]
     },
     "execution_count": 31,
     "metadata": {},
     "output_type": "execute_result"
    },
    {
     "data": {
      "image/png": "[encoded data removed]",
      "text/plain": [
       "<matplotlib.figure.Figure at 0x114991630>"
      ]
     },
     "metadata": {},
     "output_type": "display_data"
    }
   ],
   "source": [
    "model_lr = result_lr[1]\n",
    "title_lr = 'Learning Curves (LogisticRegression, c=1)' \n",
    "plot_learning_curve(model_lr, title_lr, X_train, y_train, cv=10)"
   ]
  },
  {
   "cell_type": "code",
   "execution_count": 110,
   "metadata": {},
   "outputs": [],
   "source": [
    "# result_lr = model_prediction(best_lr, X_test, y_test)"
   ]
  },
  {
   "cell_type": "code",
   "execution_count": 32,
   "metadata": {
    "collapsed": true
   },
   "outputs": [],
   "source": [
    "df_test['predicted_lr'] = result_lr[0]\n",
    "df_test[['predicted_lr','cuisine']].head(10)"
   ]
  },
  {
   "cell_type": "code",
   "execution_count": 63,
   "metadata": {},
   "outputs": [],
   "source": [
    "cv_score = cross_val_scores(model_lr, X, y)"
   ]
  },
  {
   "cell_type": "code",
   "execution_count": 64,
   "metadata": {},
   "outputs": [
    {
     "name": "stdout",
     "output_type": "stream",
     "text": [
      "Accuracy: 0.71 (+/- 0.01)\n"
     ]
    }
   ],
   "source": [
    "print(\"Accuracy: %0.2f (+/- %0.2f)\" \n",
    "      % (cv_score.mean(), cv_score.std() * 2))"
   ]
  },
  {
   "cell_type": "code",
   "execution_count": 123,
   "metadata": {},
   "outputs": [
    {
     "name": "stdout",
     "output_type": "stream",
     "text": [
      "              precision    recall  f1-score   support\n",
      "\n",
      "   brazilian       0.48      0.21      0.30       135\n",
      "     british       0.40      0.19      0.26       221\n",
      "cajun_creole       0.76      0.66      0.70       486\n",
      "     chinese       0.72      0.80      0.76       778\n",
      "    filipino       0.69      0.48      0.56       233\n",
      "      french       0.51      0.54      0.52       774\n",
      "       greek       0.78      0.58      0.67       354\n",
      "      indian       0.82      0.85      0.84       876\n",
      "       irish       0.50      0.29      0.37       190\n",
      "     italian       0.69      0.87      0.77      2352\n",
      "    jamaican       0.78      0.50      0.61       154\n",
      "    japanese       0.73      0.54      0.62       459\n",
      "      korean       0.77      0.57      0.66       257\n",
      "     mexican       0.82      0.89      0.85      1929\n",
      "    moroccan       0.79      0.62      0.69       243\n",
      "     russian       0.61      0.28      0.38       156\n",
      " southern_us       0.62      0.70      0.66      1346\n",
      "     spanish       0.51      0.29      0.37       313\n",
      "        thai       0.76      0.75      0.75       435\n",
      "  vietnamese       0.68      0.43      0.53       242\n",
      "\n",
      " avg / total       0.70      0.71      0.70     11933\n",
      "\n"
     ]
    }
   ],
   "source": [
    "print(classification_report(y_test, result_lr[0]))"
   ]
  },
  {
   "cell_type": "markdown",
   "metadata": {},
   "source": [
    "### Classification Estimator: Linear Support Vector Classification\n",
    "* Same process applies:\n",
    "    1. Choose estimator\n",
    "    2. Choose cross-validation iterator\n",
    "    3. Tune the hyperparameters\n",
    "    4. Debug algorithm with learning curve\n",
    "    5. Evaluate on the test set"
   ]
  },
  {
   "cell_type": "code",
   "execution_count": 128,
   "metadata": {
    "collapsed": true
   },
   "outputs": [],
   "source": [
    "# Initiates estimator: \n",
    "estimator_svc = LinearSVC(random_state=7777,penalty='l2')"
   ]
  },
  {
   "cell_type": "code",
   "execution_count": 129,
   "metadata": {},
   "outputs": [
    {
     "name": "stdout",
     "output_type": "stream",
     "text": [
      "|Accuracy on Training|:  0.749865306562 \n",
      " |Accuracy on Testing|:  0.704014078606 \n",
      " |F1 Score|:  0.587896376818\n"
     ]
    }
   ],
   "source": [
    "result_svc = modeling(estimator_svc, X_train, y_train, X_test, y_test)"
   ]
  },
  {
   "cell_type": "code",
   "execution_count": 37,
   "metadata": {},
   "outputs": [],
   "source": [
    "# W/ GridSearchCV \n",
    "\n",
    "# best_svc = model_initiation(estimator_svc\n",
    "#, X_train, y_train, cv=cv, param_grid=parameters_svc)\n",
    "\n",
    "# best_svc"
   ]
  },
  {
   "cell_type": "code",
   "execution_count": 41,
   "metadata": {},
   "outputs": [
    {
     "data": {
      "text/plain": [
       "<module 'matplotlib.pyplot' from '/Users/liyuqiao/anaconda/envs/py3/lib/python3.6/site-packages/matplotlib/pyplot.py'>"
      ]
     },
     "execution_count": 41,
     "metadata": {},
     "output_type": "execute_result"
    },
    {
     "data": {
      "image/png": "[encoded data removed]",
      "text/plain": [
       "<matplotlib.figure.Figure at 0x11492ec18>"
      ]
     },
     "metadata": {},
     "output_type": "display_data"
    }
   ],
   "source": [
    "model_svc = result_svc[1]\n",
    "title_svc = 'Learning Curves (LinearSVC)' \n",
    "plot_learning_curve(model_svc, title_svc, X_train, y_train, cv=10)"
   ]
  },
  {
   "cell_type": "code",
   "execution_count": null,
   "metadata": {
    "collapsed": true
   },
   "outputs": [],
   "source": [
    "# result_svc = model_prediction(best_svc, X_test, y_test)"
   ]
  },
  {
   "cell_type": "code",
   "execution_count": 42,
   "metadata": {
    "collapsed": true
   },
   "outputs": [],
   "source": [
    "df_test['predicted_svc'] = result_svc[0]\n",
    "df_test[['predicted_svc','cuisine'\n",
    "         ,'predicted_lr']].head(10)"
   ]
  },
  {
   "cell_type": "code",
   "execution_count": 66,
   "metadata": {},
   "outputs": [],
   "source": [
    "svc_cv_score = cross_val_scores(model_svc, X, y)"
   ]
  },
  {
   "cell_type": "code",
   "execution_count": 67,
   "metadata": {},
   "outputs": [
    {
     "name": "stdout",
     "output_type": "stream",
     "text": [
      "Accuracy: 0.71 (+/- 0.01)\n"
     ]
    }
   ],
   "source": [
    "print(\"Accuracy: %0.2f (+/- %0.2f)\" \n",
    "      % (svc_cv_score.mean(), svc_cv_score.std() * 2))"
   ]
  },
  {
   "cell_type": "code",
   "execution_count": 122,
   "metadata": {},
   "outputs": [
    {
     "name": "stdout",
     "output_type": "stream",
     "text": [
      "              precision    recall  f1-score   support\n",
      "\n",
      "   brazilian       0.41      0.25      0.31       135\n",
      "     british       0.34      0.18      0.23       221\n",
      "cajun_creole       0.75      0.67      0.71       486\n",
      "     chinese       0.72      0.78      0.75       778\n",
      "    filipino       0.59      0.51      0.55       233\n",
      "      french       0.50      0.54      0.52       774\n",
      "       greek       0.74      0.62      0.67       354\n",
      "      indian       0.82      0.84      0.83       876\n",
      "       irish       0.41      0.28      0.33       190\n",
      "     italian       0.71      0.86      0.78      2352\n",
      "    jamaican       0.67      0.52      0.59       154\n",
      "    japanese       0.73      0.54      0.62       459\n",
      "      korean       0.70      0.61      0.65       257\n",
      "     mexican       0.83      0.88      0.86      1929\n",
      "    moroccan       0.75      0.66      0.70       243\n",
      "     russian       0.52      0.28      0.37       156\n",
      " southern_us       0.64      0.68      0.66      1346\n",
      "     spanish       0.55      0.30      0.39       313\n",
      "        thai       0.73      0.75      0.74       435\n",
      "  vietnamese       0.63      0.43      0.51       242\n",
      "\n",
      " avg / total       0.69      0.70      0.69     11933\n",
      "\n"
     ]
    }
   ],
   "source": [
    "print(classification_report(y_test, result_svc[0]))"
   ]
  },
  {
   "cell_type": "markdown",
   "metadata": {},
   "source": [
    "### Classification Estimator: Random Forest\n",
    "* Same process applies:\n",
    "    1. Choose estimator\n",
    "    2. Choose cross-validation iterator\n",
    "    3. Tune the hyperparameters\n",
    "    4. Debug algorithm with learning curve\n",
    "    5. Evaluate on the test set\n",
    "    6. Test over-fitting in model selection "
   ]
  },
  {
   "cell_type": "code",
   "execution_count": 112,
   "metadata": {},
   "outputs": [
    {
     "name": "stdout",
     "output_type": "stream",
     "text": [
      "|Accuracy on Training|:  0.957293200675 \n",
      " |Accuracy on Testing|:  0.637392105925 \n",
      " |F1 Score|:  0.507803169621\n"
     ]
    }
   ],
   "source": [
    "estimator_rf = RandomForestClassifier(random_state=7777)\n",
    "result_rf = modeling(estimator_rf, X_train, y_train, X_test, y_test)"
   ]
  },
  {
   "cell_type": "code",
   "execution_count": 69,
   "metadata": {},
   "outputs": [
    {
     "data": {
      "text/plain": [
       "<module 'matplotlib.pyplot' from '/Users/liyuqiao/anaconda/envs/py3/lib/python3.6/site-packages/matplotlib/pyplot.py'>"
      ]
     },
     "execution_count": 69,
     "metadata": {},
     "output_type": "execute_result"
    },
    {
     "data": {
      "image/png": "[encoded data removed]",
      "text/plain": [
       "<matplotlib.figure.Figure at 0x1146484a8>"
      ]
     },
     "metadata": {},
     "output_type": "display_data"
    }
   ],
   "source": [
    "model_rf = result_rf[1]\n",
    "title_rf = 'Learning Curves (Random Forest)' \n",
    "plot_learning_curve(model_rf, title_rf, X_train, y_train, cv=10)"
   ]
  },
  {
   "cell_type": "code",
   "execution_count": 70,
   "metadata": {},
   "outputs": [
    {
     "data": {
      "text/html": [
       "<div>\n",
       "<style>\n",
       "    .dataframe thead tr:only-child th {\n",
       "        text-align: right;\n",
       "    }\n",
       "\n",
       "    .dataframe thead th {\n",
       "        text-align: left;\n",
       "    }\n",
       "\n",
       "    .dataframe tbody tr th {\n",
       "        vertical-align: top;\n",
       "    }\n",
       "</style>\n",
       "<table border=\"1\" class=\"dataframe\">\n",
       "  <thead>\n",
       "    <tr style=\"text-align: right;\">\n",
       "      <th></th>\n",
       "      <th>predicted_cuisine_svc</th>\n",
       "      <th>cuisine</th>\n",
       "      <th>predicted_cuisine_lr</th>\n",
       "      <th>predicted_cuisine_rf</th>\n",
       "    </tr>\n",
       "  </thead>\n",
       "  <tbody>\n",
       "    <tr>\n",
       "      <th>26745</th>\n",
       "      <td>cajun_creole</td>\n",
       "      <td>cajun_creole</td>\n",
       "      <td>cajun_creole</td>\n",
       "      <td>cajun_creole</td>\n",
       "    </tr>\n",
       "    <tr>\n",
       "      <th>2842</th>\n",
       "      <td>mexican</td>\n",
       "      <td>mexican</td>\n",
       "      <td>mexican</td>\n",
       "      <td>mexican</td>\n",
       "    </tr>\n",
       "    <tr>\n",
       "      <th>36766</th>\n",
       "      <td>thai</td>\n",
       "      <td>spanish</td>\n",
       "      <td>thai</td>\n",
       "      <td>indian</td>\n",
       "    </tr>\n",
       "    <tr>\n",
       "      <th>19107</th>\n",
       "      <td>moroccan</td>\n",
       "      <td>moroccan</td>\n",
       "      <td>mexican</td>\n",
       "      <td>indian</td>\n",
       "    </tr>\n",
       "    <tr>\n",
       "      <th>38651</th>\n",
       "      <td>southern_us</td>\n",
       "      <td>japanese</td>\n",
       "      <td>southern_us</td>\n",
       "      <td>russian</td>\n",
       "    </tr>\n",
       "    <tr>\n",
       "      <th>11251</th>\n",
       "      <td>italian</td>\n",
       "      <td>italian</td>\n",
       "      <td>italian</td>\n",
       "      <td>italian</td>\n",
       "    </tr>\n",
       "    <tr>\n",
       "      <th>8109</th>\n",
       "      <td>cajun_creole</td>\n",
       "      <td>korean</td>\n",
       "      <td>italian</td>\n",
       "      <td>thai</td>\n",
       "    </tr>\n",
       "    <tr>\n",
       "      <th>20919</th>\n",
       "      <td>irish</td>\n",
       "      <td>british</td>\n",
       "      <td>irish</td>\n",
       "      <td>southern_us</td>\n",
       "    </tr>\n",
       "    <tr>\n",
       "      <th>2472</th>\n",
       "      <td>southern_us</td>\n",
       "      <td>southern_us</td>\n",
       "      <td>southern_us</td>\n",
       "      <td>southern_us</td>\n",
       "    </tr>\n",
       "    <tr>\n",
       "      <th>36048</th>\n",
       "      <td>italian</td>\n",
       "      <td>mexican</td>\n",
       "      <td>italian</td>\n",
       "      <td>italian</td>\n",
       "    </tr>\n",
       "  </tbody>\n",
       "</table>\n",
       "</div>"
      ],
      "text/plain": [
       "      predicted_cuisine_svc       cuisine predicted_cuisine_lr  \\\n",
       "26745          cajun_creole  cajun_creole         cajun_creole   \n",
       "2842                mexican       mexican              mexican   \n",
       "36766                  thai       spanish                 thai   \n",
       "19107              moroccan      moroccan              mexican   \n",
       "38651           southern_us      japanese          southern_us   \n",
       "11251               italian       italian              italian   \n",
       "8109           cajun_creole        korean              italian   \n",
       "20919                 irish       british                irish   \n",
       "2472            southern_us   southern_us          southern_us   \n",
       "36048               italian       mexican              italian   \n",
       "\n",
       "      predicted_cuisine_rf  \n",
       "26745         cajun_creole  \n",
       "2842               mexican  \n",
       "36766               indian  \n",
       "19107               indian  \n",
       "38651              russian  \n",
       "11251              italian  \n",
       "8109                  thai  \n",
       "20919          southern_us  \n",
       "2472           southern_us  \n",
       "36048              italian  "
      ]
     },
     "execution_count": 70,
     "metadata": {},
     "output_type": "execute_result"
    }
   ],
   "source": [
    "df_test['predicted_rf'] = result_rf[0]\n",
    "df_test[['predicted_svc','cuisine'\n",
    "         ,'predicted_lr', 'predicted_rf']].head(10)"
   ]
  },
  {
   "cell_type": "code",
   "execution_count": 71,
   "metadata": {},
   "outputs": [
    {
     "name": "stdout",
     "output_type": "stream",
     "text": [
      "Accuracy: 0.65 (+/- 0.01)\n"
     ]
    }
   ],
   "source": [
    "rf_cv_score = cross_val_scores(model_rf, X, y)\n",
    "print(\"Accuracy: %0.2f (+/- %0.2f)\" \n",
    "      % (rf_cv_score.mean(), rf_cv_score.std() * 2))"
   ]
  },
  {
   "cell_type": "code",
   "execution_count": 121,
   "metadata": {},
   "outputs": [
    {
     "name": "stdout",
     "output_type": "stream",
     "text": [
      "              precision    recall  f1-score   support\n",
      "\n",
      "   brazilian       0.33      0.32      0.32       135\n",
      "     british       0.27      0.23      0.25       221\n",
      "cajun_creole       0.67      0.57      0.62       486\n",
      "     chinese       0.65      0.73      0.68       778\n",
      "    filipino       0.45      0.42      0.44       233\n",
      "      french       0.40      0.46      0.43       774\n",
      "       greek       0.65      0.53      0.58       354\n",
      "      indian       0.71      0.82      0.76       876\n",
      "       irish       0.30      0.24      0.27       190\n",
      "     italian       0.69      0.80      0.74      2352\n",
      "    jamaican       0.61      0.34      0.44       154\n",
      "    japanese       0.59      0.52      0.55       459\n",
      "      korean       0.60      0.52      0.56       257\n",
      "     mexican       0.78      0.85      0.81      1929\n",
      "    moroccan       0.59      0.40      0.48       243\n",
      "     russian       0.47      0.28      0.35       156\n",
      " southern_us       0.61      0.58      0.59      1346\n",
      "     spanish       0.43      0.19      0.27       313\n",
      "        thai       0.67      0.57      0.61       435\n",
      "  vietnamese       0.50      0.33      0.40       242\n",
      "\n",
      " avg / total       0.63      0.64      0.63     11933\n",
      "\n"
     ]
    }
   ],
   "source": [
    "print(classification_report(y_test, result_rf[0]))"
   ]
  },
  {
   "cell_type": "markdown",
   "metadata": {},
   "source": [
    "### Classification Estimator: Bernoulli Naive Bayes"
   ]
  },
  {
   "cell_type": "code",
   "execution_count": 113,
   "metadata": {},
   "outputs": [
    {
     "name": "stdout",
     "output_type": "stream",
     "text": [
      "|Accuracy on Training|:  0.70270464423 \n",
      " |Accuracy on Testing|:  0.676275873628 \n",
      " |F1 Score|:  0.562160200417\n"
     ]
    }
   ],
   "source": [
    "estimator_nb = BernoulliNB(alpha=1)\n",
    "result_nb = modeling(estimator_nb, X_train, y_train, X_test, y_test)"
   ]
  },
  {
   "cell_type": "code",
   "execution_count": 85,
   "metadata": {},
   "outputs": [
    {
     "data": {
      "text/plain": [
       "<module 'matplotlib.pyplot' from '/Users/liyuqiao/anaconda/envs/py3/lib/python3.6/site-packages/matplotlib/pyplot.py'>"
      ]
     },
     "execution_count": 85,
     "metadata": {},
     "output_type": "execute_result"
    },
    {
     "data": {
      "image/png": "[encoded data removed]",
      "text/plain": [
       "<matplotlib.figure.Figure at 0x112e05160>"
      ]
     },
     "metadata": {},
     "output_type": "display_data"
    }
   ],
   "source": [
    "model_nb = result_nb[1]\n",
    "title_nb = 'Learning Curves (Bernoulli Naive Bayes)' \n",
    "plot_learning_curve(model_nb, title_svc, X_train, y_train, cv=10)"
   ]
  },
  {
   "cell_type": "code",
   "execution_count": 87,
   "metadata": {},
   "outputs": [
    {
     "data": {
      "text/html": [
       "<div>\n",
       "<style>\n",
       "    .dataframe thead tr:only-child th {\n",
       "        text-align: right;\n",
       "    }\n",
       "\n",
       "    .dataframe thead th {\n",
       "        text-align: left;\n",
       "    }\n",
       "\n",
       "    .dataframe tbody tr th {\n",
       "        vertical-align: top;\n",
       "    }\n",
       "</style>\n",
       "<table border=\"1\" class=\"dataframe\">\n",
       "  <thead>\n",
       "    <tr style=\"text-align: right;\">\n",
       "      <th></th>\n",
       "      <th>predicted_cuisine_svc</th>\n",
       "      <th>cuisine</th>\n",
       "      <th>predicted_cuisine_nb</th>\n",
       "      <th>predicted_cuisine_lr</th>\n",
       "      <th>predicted_cuisine_rf</th>\n",
       "    </tr>\n",
       "  </thead>\n",
       "  <tbody>\n",
       "    <tr>\n",
       "      <th>26745</th>\n",
       "      <td>cajun_creole</td>\n",
       "      <td>cajun_creole</td>\n",
       "      <td>cajun_creole</td>\n",
       "      <td>cajun_creole</td>\n",
       "      <td>cajun_creole</td>\n",
       "    </tr>\n",
       "    <tr>\n",
       "      <th>2842</th>\n",
       "      <td>mexican</td>\n",
       "      <td>mexican</td>\n",
       "      <td>mexican</td>\n",
       "      <td>mexican</td>\n",
       "      <td>mexican</td>\n",
       "    </tr>\n",
       "    <tr>\n",
       "      <th>36766</th>\n",
       "      <td>thai</td>\n",
       "      <td>spanish</td>\n",
       "      <td>mexican</td>\n",
       "      <td>thai</td>\n",
       "      <td>indian</td>\n",
       "    </tr>\n",
       "    <tr>\n",
       "      <th>19107</th>\n",
       "      <td>moroccan</td>\n",
       "      <td>moroccan</td>\n",
       "      <td>moroccan</td>\n",
       "      <td>mexican</td>\n",
       "      <td>indian</td>\n",
       "    </tr>\n",
       "    <tr>\n",
       "      <th>38651</th>\n",
       "      <td>southern_us</td>\n",
       "      <td>japanese</td>\n",
       "      <td>cajun_creole</td>\n",
       "      <td>southern_us</td>\n",
       "      <td>russian</td>\n",
       "    </tr>\n",
       "    <tr>\n",
       "      <th>11251</th>\n",
       "      <td>italian</td>\n",
       "      <td>italian</td>\n",
       "      <td>italian</td>\n",
       "      <td>italian</td>\n",
       "      <td>italian</td>\n",
       "    </tr>\n",
       "    <tr>\n",
       "      <th>8109</th>\n",
       "      <td>cajun_creole</td>\n",
       "      <td>korean</td>\n",
       "      <td>chinese</td>\n",
       "      <td>italian</td>\n",
       "      <td>thai</td>\n",
       "    </tr>\n",
       "    <tr>\n",
       "      <th>20919</th>\n",
       "      <td>irish</td>\n",
       "      <td>british</td>\n",
       "      <td>british</td>\n",
       "      <td>irish</td>\n",
       "      <td>southern_us</td>\n",
       "    </tr>\n",
       "    <tr>\n",
       "      <th>2472</th>\n",
       "      <td>southern_us</td>\n",
       "      <td>southern_us</td>\n",
       "      <td>french</td>\n",
       "      <td>southern_us</td>\n",
       "      <td>southern_us</td>\n",
       "    </tr>\n",
       "    <tr>\n",
       "      <th>36048</th>\n",
       "      <td>italian</td>\n",
       "      <td>mexican</td>\n",
       "      <td>italian</td>\n",
       "      <td>italian</td>\n",
       "      <td>italian</td>\n",
       "    </tr>\n",
       "  </tbody>\n",
       "</table>\n",
       "</div>"
      ],
      "text/plain": [
       "      predicted_cuisine_svc       cuisine predicted_cuisine_nb  \\\n",
       "26745          cajun_creole  cajun_creole         cajun_creole   \n",
       "2842                mexican       mexican              mexican   \n",
       "36766                  thai       spanish              mexican   \n",
       "19107              moroccan      moroccan             moroccan   \n",
       "38651           southern_us      japanese         cajun_creole   \n",
       "11251               italian       italian              italian   \n",
       "8109           cajun_creole        korean              chinese   \n",
       "20919                 irish       british              british   \n",
       "2472            southern_us   southern_us               french   \n",
       "36048               italian       mexican              italian   \n",
       "\n",
       "      predicted_cuisine_lr predicted_cuisine_rf  \n",
       "26745         cajun_creole         cajun_creole  \n",
       "2842               mexican              mexican  \n",
       "36766                 thai               indian  \n",
       "19107              mexican               indian  \n",
       "38651          southern_us              russian  \n",
       "11251              italian              italian  \n",
       "8109               italian                 thai  \n",
       "20919                irish          southern_us  \n",
       "2472           southern_us          southern_us  \n",
       "36048              italian              italian  "
      ]
     },
     "execution_count": 87,
     "metadata": {},
     "output_type": "execute_result"
    }
   ],
   "source": [
    "df_test['predicted_nb'] = result_nb[0]\n",
    "df_test[['predicted_svc','cuisine','predicted_nb'\n",
    "         ,'predicted_lr', 'predicted_rf']].head(10)"
   ]
  },
  {
   "cell_type": "code",
   "execution_count": 88,
   "metadata": {},
   "outputs": [
    {
     "name": "stdout",
     "output_type": "stream",
     "text": [
      "Accuracy: 0.68 (+/- 0.01)\n"
     ]
    }
   ],
   "source": [
    "nb_cv_score = cross_val_scores(model_nb, X, y)\n",
    "print(\"Accuracy: %0.2f (+/- %0.2f)\" \n",
    "      % (nb_cv_score.mean(), nb_cv_score.std() * 2))"
   ]
  },
  {
   "cell_type": "code",
   "execution_count": 120,
   "metadata": {},
   "outputs": [
    {
     "name": "stdout",
     "output_type": "stream",
     "text": [
      "              precision    recall  f1-score   support\n",
      "\n",
      "   brazilian       0.34      0.14      0.20       135\n",
      "     british       0.22      0.25      0.24       221\n",
      "cajun_creole       0.62      0.66      0.64       486\n",
      "     chinese       0.75      0.78      0.77       778\n",
      "    filipino       0.55      0.52      0.53       233\n",
      "      french       0.45      0.53      0.49       774\n",
      "       greek       0.68      0.56      0.62       354\n",
      "      indian       0.84      0.79      0.82       876\n",
      "       irish       0.47      0.28      0.35       190\n",
      "     italian       0.75      0.80      0.78      2352\n",
      "    jamaican       0.66      0.47      0.55       154\n",
      "    japanese       0.65      0.54      0.59       459\n",
      "      korean       0.73      0.59      0.65       257\n",
      "     mexican       0.87      0.85      0.86      1929\n",
      "    moroccan       0.69      0.64      0.66       243\n",
      "     russian       0.53      0.22      0.31       156\n",
      " southern_us       0.51      0.66      0.57      1346\n",
      "     spanish       0.50      0.35      0.41       313\n",
      "        thai       0.72      0.72      0.72       435\n",
      "  vietnamese       0.58      0.46      0.51       242\n",
      "\n",
      " avg / total       0.68      0.68      0.67     11933\n",
      "\n"
     ]
    }
   ],
   "source": [
    "# classification report\n",
    "print(classification_report(y_test, result_nb[0]))"
   ]
  },
  {
   "cell_type": "markdown",
   "metadata": {},
   "source": [
    "## Model Performance Summary"
   ]
  },
  {
   "cell_type": "code",
   "execution_count": 135,
   "metadata": {},
   "outputs": [],
   "source": [
    "model_results = pd.DataFrame(\n",
    "    {'Estimator': ['Logistic Regression','LinearSVC'\n",
    "                   ,'Random Forest','Bernoulli Naive Bayes'],\n",
    "     'Accuracy': [result_lr[2], result_svc[2], result_rf[2], result_nb[2]],\n",
    "     'F1': [result_lr[3],result_svc[3],result_rf[3],result_nb[3]]\n",
    "    })"
   ]
  },
  {
   "cell_type": "code",
   "execution_count": 136,
   "metadata": {},
   "outputs": [
    {
     "data": {
      "text/html": [
       "<div>\n",
       "<style>\n",
       "    .dataframe thead tr:only-child th {\n",
       "        text-align: right;\n",
       "    }\n",
       "\n",
       "    .dataframe thead th {\n",
       "        text-align: left;\n",
       "    }\n",
       "\n",
       "    .dataframe tbody tr th {\n",
       "        vertical-align: top;\n",
       "    }\n",
       "</style>\n",
       "<table border=\"1\" class=\"dataframe\">\n",
       "  <thead>\n",
       "    <tr style=\"text-align: right;\">\n",
       "      <th></th>\n",
       "      <th>Accuracy</th>\n",
       "      <th>Estimator</th>\n",
       "      <th>F1</th>\n",
       "    </tr>\n",
       "  </thead>\n",
       "  <tbody>\n",
       "    <tr>\n",
       "      <th>0</th>\n",
       "      <td>0.707366</td>\n",
       "      <td>Logistic Regression</td>\n",
       "      <td>0.593505</td>\n",
       "    </tr>\n",
       "    <tr>\n",
       "      <th>1</th>\n",
       "      <td>0.704014</td>\n",
       "      <td>LinearSVC</td>\n",
       "      <td>0.587896</td>\n",
       "    </tr>\n",
       "    <tr>\n",
       "      <th>2</th>\n",
       "      <td>0.637392</td>\n",
       "      <td>Random Forest</td>\n",
       "      <td>0.507803</td>\n",
       "    </tr>\n",
       "    <tr>\n",
       "      <th>3</th>\n",
       "      <td>0.676276</td>\n",
       "      <td>Bernoulli Naive Bayes</td>\n",
       "      <td>0.562160</td>\n",
       "    </tr>\n",
       "  </tbody>\n",
       "</table>\n",
       "</div>"
      ],
      "text/plain": [
       "   Accuracy              Estimator        F1\n",
       "0  0.707366    Logistic Regression  0.593505\n",
       "1  0.704014              LinearSVC  0.587896\n",
       "2  0.637392          Random Forest  0.507803\n",
       "3  0.676276  Bernoulli Naive Bayes  0.562160"
      ]
     },
     "execution_count": 136,
     "metadata": {},
     "output_type": "execute_result"
    }
   ],
   "source": [
    "model_results"
   ]
  },
  {
   "cell_type": "code",
   "execution_count": 207,
   "metadata": {},
   "outputs": [
    {
     "name": "stdout",
     "output_type": "stream",
     "text": [
      "Confusion matrix, without normalization\n",
      "[[  29    0    6    1    3    6    0    2    0   30    0    0    0   22\n",
      "     0    1   24    5    6    0]\n",
      " [   2   43    2    1    4   43    2    4   13   33    4    1    0    8\n",
      "     0    1   56    3    1    0]\n",
      " [   2    3  321    3    1   17    1    0    0   37    0    0    0   14\n",
      "     1    3   78    5    0    0]\n",
      " [   3    1    2  621    7    4    1    4    0   22    1   38   18   14\n",
      "     2    0   21    1   14    4]\n",
      " [   2    0    4   18  111    6    0    6    6   21    0    4    3   13\n",
      "     0    2   20    3    6    8]\n",
      " [   1    6    6    4    1  419    7    6   14  200    5    2    0   17\n",
      "     1    7   68   10    0    0]\n",
      " [   0    1    0    0    1   22  206    6    1   80    0    1    0   12\n",
      "     5    0   11    8    0    0]\n",
      " [   2    2    0    9    3    3    2  748    0   16    3   10    1   33\n",
      "    16    0   11    3   13    1]\n",
      " [   0   18    0    0    1   26    0    3   55   21    2    0    1    8\n",
      "     1    2   48    4    0    0]\n",
      " [   1    7   10    4    0  125   23    3    3 2053    0    3    0   41\n",
      "     2    1   63   12    1    0]\n",
      " [   4    3    1    4    2    7    0   10    1   11   77    1    0   12\n",
      "     1    0   19    1    0    0]\n",
      " [   0    1    0   66    2    7    0   40    1   37    0  247   13   13\n",
      "     0    2   24    1    4    1]\n",
      " [   0    0    1   56    3    3    0    3    0   14    0   14  147    8\n",
      "     0    0    3    0    0    5]\n",
      " [   1    0    9    7    5   20    6    7    1   77    2    5    1 1712\n",
      "     2    0   57   15    1    1]\n",
      " [   0    1    2    0    0    4    8   25    0   23    0    0    0   17\n",
      "   150    2    8    3    0    0]\n",
      " [   0    9    0    0    4   19    3    2    6   33    0    1    0   12\n",
      "     2   43   22    0    0    0]\n",
      " [   7   12   56   11    6   65    1    8    5  132    5    2    2   74\n",
      "     2    5  937   12    2    2]\n",
      " [   2    0    5    0    1   31    4    4    3   96    0    1    0   40\n",
      "     4    2   29   90    1    0]\n",
      " [   2    0    0   26    2    0    1   21    0   11    0    2    1   13\n",
      "     0    0    1    0  327   28]\n",
      " [   3    1    0   27    4    2    0    7    0   10    0    6    4   13\n",
      "     0    0    4    0   56  105]]\n"
     ]
    },
    {
     "data": {
      "text/plain": [
       "<matplotlib.figure.Figure at 0x11c2a6da0>"
      ]
     },
     "metadata": {},
     "output_type": "display_data"
    },
    {
     "data": {
      "image/png": "[encoded data removed]",
      "text/plain": [
       "<matplotlib.figure.Figure at 0x11c290198>"
      ]
     },
     "metadata": {},
     "output_type": "display_data"
    }
   ],
   "source": [
    "class_names = igt_cuisine.index\n",
    "\n",
    "# Compute confusion matrix\n",
    "cnf_matrix_lr = confusion_matrix(y_test, result_lr[0])\n",
    "np.set_printoptions(precision=2)\n",
    "\n",
    "# Plot non-normalized confusion matrix\n",
    "plt.figure()\n",
    "plt.figure(figsize=(12,8))\n",
    "plot_confusion_matrix(cnf_matrix_lr, classes=class_names\n",
    "                      ,title='Confusion matrix, without normalization')\n",
    "\n",
    "# # Plot normalized confusion matrix\n",
    "# plt.figure()\n",
    "# plot_confusion_matrix(cnf_matrix_lr, classes=class_names, normalize=True\n",
    "#                       ,title='Normalized confusion matrix')"
   ]
  }
 ],
 "metadata": {
  "kernelspec": {
   "display_name": "Python [conda env:py3]",
   "language": "python",
   "name": "conda-env-py3-py"
  },
  "language_info": {
   "codemirror_mode": {
    "name": "ipython",
    "version": 3
   },
   "file_extension": ".py",
   "mimetype": "text/x-python",
   "name": "python",
   "nbconvert_exporter": "python",
   "pygments_lexer": "ipython3",
   "version": "3.6.2"
  }
 },
 "nbformat": 4,
 "nbformat_minor": 2
}
