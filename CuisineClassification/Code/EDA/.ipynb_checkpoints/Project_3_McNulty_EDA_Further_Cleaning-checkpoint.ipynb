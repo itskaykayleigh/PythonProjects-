{
 "cells": [
  {
   "cell_type": "markdown",
   "metadata": {},
   "source": [
    "##### This version involves further cleaning of data, which it to be used for the 2nd round of model training and testing (1st round is complete and can be found in the 'Code' folder named \"Project_3_McNulty_Modeling_V1\")."
   ]
  },
  {
   "cell_type": "markdown",
   "metadata": {},
   "source": [
    "### List of Imports"
   ]
  },
  {
   "cell_type": "code",
   "execution_count": 235,
   "metadata": {
    "collapsed": true
   },
   "outputs": [],
   "source": [
    "from __future__ import print_function"
   ]
  },
  {
   "cell_type": "code",
   "execution_count": 1,
   "metadata": {},
   "outputs": [
    {
     "name": "stderr",
     "output_type": "stream",
     "text": [
      "/Users/liyuqiao/anaconda/envs/py3/lib/python3.6/site-packages/fuzzywuzzy/fuzz.py:35: UserWarning: Using slow pure-python SequenceMatcher. Install python-Levenshtein to remove this warning\n",
      "  warnings.warn('Using slow pure-python SequenceMatcher. Install python-Levenshtein to remove this warning')\n"
     ]
    }
   ],
   "source": [
    "import json\n",
    "import pickle\n",
    "import numpy as np \n",
    "import pandas as pd \n",
    "import seaborn as sns\n",
    "from fuzzywuzzy import fuzz\n",
    "from fuzzywuzzy import process\n",
    "import matplotlib.pyplot as plt\n",
    "# from nltk.stem import WordNetLemmatizer\n",
    "from sklearn.model_selection import train_test_split\n",
    "from sklearn.feature_extraction.text import CountVectorizer\n",
    "\n",
    "\n",
    "%matplotlib inline"
   ]
  },
  {
   "cell_type": "code",
   "execution_count": 237,
   "metadata": {
    "collapsed": true
   },
   "outputs": [],
   "source": [
    "pd.options.display.max_rows = 20"
   ]
  },
  {
   "cell_type": "code",
   "execution_count": 2,
   "metadata": {
    "collapsed": true
   },
   "outputs": [],
   "source": [
    "with open('../../../../raw_data/train.json', 'rb') as f:\n",
    "    dict_ = json.load(f)"
   ]
  },
  {
   "cell_type": "code",
   "execution_count": 3,
   "metadata": {
    "collapsed": true
   },
   "outputs": [],
   "source": [
    "df = pd.DataFrame.from_dict(dict_)"
   ]
  },
  {
   "cell_type": "code",
   "execution_count": 4,
   "metadata": {},
   "outputs": [
    {
     "data": {
      "text/plain": [
       "array(['greek', 'southern_us', 'filipino', 'indian', 'jamaican', 'spanish',\n",
       "       'italian', 'mexican', 'chinese', 'british', 'thai', 'vietnamese',\n",
       "       'cajun_creole', 'brazilian', 'french', 'japanese', 'irish',\n",
       "       'korean', 'moroccan', 'russian'], dtype=object)"
      ]
     },
     "execution_count": 4,
     "metadata": {},
     "output_type": "execute_result"
    }
   ],
   "source": [
    "df.cuisine.unique()"
   ]
  },
  {
   "cell_type": "code",
   "execution_count": 21,
   "metadata": {},
   "outputs": [
    {
     "data": {
      "text/plain": [
       "'orange,pumpkin_purée,marshmallow_creme,pecan,syrup,cinnamon,ginger,nutmeg,cream,'"
      ]
     },
     "execution_count": 21,
     "metadata": {},
     "output_type": "execute_result"
    }
   ],
   "source": [
    "df[df.cuisine == 'french'].iloc[2,2]"
   ]
  },
  {
   "cell_type": "code",
   "execution_count": 6,
   "metadata": {
    "collapsed": true
   },
   "outputs": [],
   "source": [
    "# get rid of white spaces;\n",
    "# replace space in between a phrase by \"_\";\n",
    "# change all to lower-case letters \n",
    "df.ingredients = [','.join(i).replace(' ','_')\n",
    "                  .lower().strip()+',' for i in df.ingredients]  "
   ]
  },
  {
   "cell_type": "code",
   "execution_count": 7,
   "metadata": {},
   "outputs": [
    {
     "data": {
      "text/html": [
       "<div>\n",
       "<style>\n",
       "    .dataframe thead tr:only-child th {\n",
       "        text-align: right;\n",
       "    }\n",
       "\n",
       "    .dataframe thead th {\n",
       "        text-align: left;\n",
       "    }\n",
       "\n",
       "    .dataframe tbody tr th {\n",
       "        vertical-align: top;\n",
       "    }\n",
       "</style>\n",
       "<table border=\"1\" class=\"dataframe\">\n",
       "  <thead>\n",
       "    <tr style=\"text-align: right;\">\n",
       "      <th></th>\n",
       "      <th>cuisine</th>\n",
       "      <th>id</th>\n",
       "      <th>ingredients</th>\n",
       "    </tr>\n",
       "  </thead>\n",
       "  <tbody>\n",
       "    <tr>\n",
       "      <th>0</th>\n",
       "      <td>greek</td>\n",
       "      <td>10259</td>\n",
       "      <td>romaine_lettuce,black_olives,grape_tomatoes,ga...</td>\n",
       "    </tr>\n",
       "    <tr>\n",
       "      <th>1</th>\n",
       "      <td>southern_us</td>\n",
       "      <td>25693</td>\n",
       "      <td>plain_flour,ground_pepper,salt,tomatoes,ground...</td>\n",
       "    </tr>\n",
       "    <tr>\n",
       "      <th>2</th>\n",
       "      <td>filipino</td>\n",
       "      <td>20130</td>\n",
       "      <td>eggs,pepper,salt,mayonaise,cooking_oil,green_c...</td>\n",
       "    </tr>\n",
       "    <tr>\n",
       "      <th>3</th>\n",
       "      <td>indian</td>\n",
       "      <td>22213</td>\n",
       "      <td>water,vegetable_oil,wheat,salt,</td>\n",
       "    </tr>\n",
       "    <tr>\n",
       "      <th>4</th>\n",
       "      <td>indian</td>\n",
       "      <td>13162</td>\n",
       "      <td>black_pepper,shallots,cornflour,cayenne_pepper...</td>\n",
       "    </tr>\n",
       "  </tbody>\n",
       "</table>\n",
       "</div>"
      ],
      "text/plain": [
       "       cuisine     id                                        ingredients\n",
       "0        greek  10259  romaine_lettuce,black_olives,grape_tomatoes,ga...\n",
       "1  southern_us  25693  plain_flour,ground_pepper,salt,tomatoes,ground...\n",
       "2     filipino  20130  eggs,pepper,salt,mayonaise,cooking_oil,green_c...\n",
       "3       indian  22213                    water,vegetable_oil,wheat,salt,\n",
       "4       indian  13162  black_pepper,shallots,cornflour,cayenne_pepper..."
      ]
     },
     "execution_count": 7,
     "metadata": {},
     "output_type": "execute_result"
    }
   ],
   "source": [
    "df.head(5)"
   ]
  },
  {
   "cell_type": "code",
   "execution_count": 8,
   "metadata": {},
   "outputs": [
    {
     "data": {
      "text/plain": [
       "'romaine_lettuce,black_olives,grape_tomatoes,garlic,pepper,purple_onion,seasoning,garbanzo_beans,feta_cheese_crumbles,'"
      ]
     },
     "execution_count": 8,
     "metadata": {},
     "output_type": "execute_result"
    }
   ],
   "source": [
    "# an example on a greek cuisine \n",
    "df.ingredients[0]"
   ]
  },
  {
   "cell_type": "code",
   "execution_count": 9,
   "metadata": {
    "collapsed": true
   },
   "outputs": [],
   "source": [
    "key_ing = ['flour','egg','salt','oil','water','cilantro','garlic','milk'\n",
    "           ,'pepper','tomato','corn','onion','butter','sugar','almond'\n",
    "           ,'broth','chicken','beef','pork','sausage','rice','peanut'\n",
    "           ,'cream','yeast','olives','lettuce','carrot','shrimp','walnut'\n",
    "           ,'lemon','orange','ginger','allspice','turkey','cinnamon'\n",
    "           ,'mint','parsley','thym','spinach','chive','dill','basil'\n",
    "           ,'tarragon','coriander','parmesan','rosemary','lime','pecan'\n",
    "           ,'peas','apple','vinegar','celery','cumin','turmeric','lamb'\n",
    "           ,'cardamom','oregano','chili','cabbage','soy_sauce','mustard'\n",
    "           ,'coconut_milk','raisins','nutmeg','bread','apricot','syrup'\n",
    "           ,'cheddar','mozzarella','parmesan','romano','ricotta','jack'\n",
    "           ,'squash','paprika','chocolate','potato','cocoa','sour_cream'\n",
    "           ,'catfish','salmon','yogurt','sesame_seeds','vanilla'\n",
    "           ,'feta_cheese']\n",
    "\n",
    "def standardize_ingredient(row):\n",
    "    \"\"\" This function returns a list of ingredients \n",
    "    with standardized names. \"\"\"\n",
    "    for i in row.split(','):\n",
    "        for j in key_ing:\n",
    "            if j in i:\n",
    "                row = row.replace(i,j)\n",
    "            else: \n",
    "                pass\n",
    "    return row"
   ]
  },
  {
   "cell_type": "code",
   "execution_count": 10,
   "metadata": {
    "collapsed": true
   },
   "outputs": [],
   "source": [
    "df['ingredients'] = df['ingredients'].apply(standardize_ingredient)"
   ]
  },
  {
   "cell_type": "code",
   "execution_count": 11,
   "metadata": {},
   "outputs": [
    {
     "data": {
      "text/plain": [
       "'lettuce,olives,tomato,garlic,pepper,onion,seasoning,garbanzo_beans,feta_cheese,'"
      ]
     },
     "execution_count": 11,
     "metadata": {},
     "output_type": "execute_result"
    }
   ],
   "source": [
    "df['ingredients'][0]"
   ]
  },
  {
   "cell_type": "code",
   "execution_count": 197,
   "metadata": {
    "collapsed": true
   },
   "outputs": [],
   "source": [
    "top_10_ingredients = ['flour','egg','salt','oil','water'\n",
    "                      ,'onion','pepper','sugar','tomato','garlic']\n",
    "def remove_common_ingredient(row):\n",
    "    \"\"\" This function returns a list of ingredients \n",
    "    after removing the top 10 common ingredients across cuisines. \"\"\"\n",
    "    for i in row.split(','):\n",
    "        if i in top_10_ingredients:\n",
    "            row = row.replace(i+',','')\n",
    "        else: \n",
    "            pass\n",
    "    return row"
   ]
  },
  {
   "cell_type": "code",
   "execution_count": 198,
   "metadata": {
    "collapsed": true
   },
   "outputs": [],
   "source": [
    "df['ingredients'] = df['ingredients'].apply(remove_common_ingredient)"
   ]
  },
  {
   "cell_type": "code",
   "execution_count": 199,
   "metadata": {},
   "outputs": [
    {
     "data": {
      "text/plain": [
       "'lettuce,olives,seasoning,garbanzo_beans,feta_cheese,'"
      ]
     },
     "execution_count": 199,
     "metadata": {},
     "output_type": "execute_result"
    }
   ],
   "source": [
    "df['ingredients'][0]"
   ]
  },
  {
   "cell_type": "code",
   "execution_count": 12,
   "metadata": {
    "collapsed": true
   },
   "outputs": [],
   "source": [
    "X = df['ingredients']\n",
    "y = df['cuisine']"
   ]
  },
  {
   "cell_type": "code",
   "execution_count": 13,
   "metadata": {
    "collapsed": true
   },
   "outputs": [],
   "source": [
    "X_train, X_test, y_train, y_test = train_test_split(X,y,test_size=.30, random_state=7777)"
   ]
  },
  {
   "cell_type": "code",
   "execution_count": 14,
   "metadata": {},
   "outputs": [
    {
     "name": "stdout",
     "output_type": "stream",
     "text": [
      "The dimensinality of training features:  (27841,)\n",
      "The dimensinality of training target:  (27841,)\n",
      "The dimensinality of testing features:  (11933,)\n",
      "The dimensinality of testing target:  (11933,)\n"
     ]
    }
   ],
   "source": [
    "print('The dimensinality of training features: ', X_train.shape)\n",
    "print('The dimensinality of training target: ', y_train.shape)\n",
    "print('The dimensinality of testing features: ', X_test.shape)\n",
    "print('The dimensinality of testing target: ', y_test.shape)"
   ]
  },
  {
   "cell_type": "markdown",
   "metadata": {},
   "source": [
    "### Build volcabulary for ingredients "
   ]
  },
  {
   "cell_type": "markdown",
   "metadata": {},
   "source": [
    "#### There are nearly 90k ingredients (with duplicates) out of 39774 cuisines in the dataset, so when building the vocabulary for ingredients, I wanted to set a reasonable threshold to get rid of terms that have a low document frequency. Given the size of the data and ingredients count, I decided to set the initial threshold at 50, meaning only ingredient terms appear more than 50 times across the dataset will be kept. "
   ]
  },
  {
   "cell_type": "code",
   "execution_count": 15,
   "metadata": {},
   "outputs": [
    {
     "data": {
      "text/plain": [
       "36277    dry_white_wine,corn,parsley,mustard,oil,garlic...\n",
       "38444    chicken,milk,mint,cucumber,soy_sauce,lemon,car...\n",
       "27216    mint,kirby_cucumbers,salt,pomegranate_seeds,ci...\n",
       "11348    water,pork,cabbage,hominy,salt,lime,chili,cabb...\n",
       "12930    shrimp,garlic,turmeric,fresh_curry_leaves,ging...\n",
       "Name: ingredients, dtype: object"
      ]
     },
     "execution_count": 15,
     "metadata": {},
     "output_type": "execute_result"
    }
   ],
   "source": [
    "X_train.head()"
   ]
  },
  {
   "cell_type": "code",
   "execution_count": 16,
   "metadata": {
    "collapsed": true
   },
   "outputs": [],
   "source": [
    "vec = CountVectorizer(min_df=50, \n",
    "                      tokenizer=lambda x: x.split(','),\n",
    "                      analyzer = 'word')\n",
    "count = vec.fit_transform(X_train).toarray()\n",
    "igt_names = vec.get_feature_names()"
   ]
  },
  {
   "cell_type": "markdown",
   "metadata": {},
   "source": [
    "##### Pickle countvectorizer for later use "
   ]
  },
  {
   "cell_type": "code",
   "execution_count": 205,
   "metadata": {
    "collapsed": true
   },
   "outputs": [],
   "source": [
    "# with open('../../Data/countvectorizer.pickle', 'wb') as handle: \n",
    "#     pickle.dump(vec, handle, pickle.HIGHEST_PROTOCOL)"
   ]
  },
  {
   "cell_type": "code",
   "execution_count": 206,
   "metadata": {
    "collapsed": true
   },
   "outputs": [],
   "source": [
    "X_test = vec.transform(X_test)"
   ]
  },
  {
   "cell_type": "code",
   "execution_count": 18,
   "metadata": {},
   "outputs": [
    {
     "data": {
      "image/png": "[encoded data removed]",
      "text/plain": [
       "<matplotlib.figure.Figure at 0x1137084e0>"
      ]
     },
     "metadata": {},
     "output_type": "display_data"
    }
   ],
   "source": [
    "# igt_frequency = pd.Series(count.sum(axis=0),index = igt_names\n",
    "#                          ).sort_values(ascending=False)\n",
    "# ax = igt_frequency[1:11\n",
    "#               ].plot(kind='bar'\n",
    "#                      ,color='maroon'\n",
    "#                      , figsize=(10,6)\n",
    "#                      , width=.8\n",
    "#                      , fontsize=14\n",
    "#                      , rot=45\n",
    "#                      ,title='10 Most Common Ingredients Across Cuisine')\n",
    "# ax.title.set_size(18)\n",
    "# plt.xlabel('Ingredients',fontsize=15)\n",
    "# plt.ylabel('Counts', fontsize=15)\n",
    "\n",
    "# plt.savefig('../../Visuals/mostcommonigt.png', dpi=200, bbox_inches = 'tight')"
   ]
  },
  {
   "cell_type": "code",
   "execution_count": 208,
   "metadata": {
    "collapsed": true
   },
   "outputs": [],
   "source": [
    "counts = np.clip(count, 0, 1, out=count)\n",
    "counts_reshaped = counts.reshape(len(X_train),len(igt_names))\n",
    "X_train = pd.DataFrame(counts_reshaped)\n",
    "X_train.columns = igt_names"
   ]
  },
  {
   "cell_type": "code",
   "execution_count": 209,
   "metadata": {},
   "outputs": [
    {
     "name": "stdout",
     "output_type": "stream",
     "text": [
      "<class 'pandas.core.frame.DataFrame'>\n",
      "RangeIndex: 27841 entries, 0 to 27840\n",
      "Columns: 337 entries,  to zucchini\n",
      "dtypes: int64(337)\n",
      "memory usage: 71.6 MB\n"
     ]
    }
   ],
   "source": [
    "X_train.info()"
   ]
  },
  {
   "cell_type": "code",
   "execution_count": 210,
   "metadata": {},
   "outputs": [
    {
     "data": {
      "text/html": [
       "<div>\n",
       "<style>\n",
       "    .dataframe thead tr:only-child th {\n",
       "        text-align: right;\n",
       "    }\n",
       "\n",
       "    .dataframe thead th {\n",
       "        text-align: left;\n",
       "    }\n",
       "\n",
       "    .dataframe tbody tr th {\n",
       "        vertical-align: top;\n",
       "    }\n",
       "</style>\n",
       "<table border=\"1\" class=\"dataframe\">\n",
       "  <thead>\n",
       "    <tr style=\"text-align: right;\">\n",
       "      <th></th>\n",
       "      <th></th>\n",
       "      <th>_drain</th>\n",
       "      <th>_soften</th>\n",
       "      <th>adobo_sauce</th>\n",
       "      <th>agave_nectar</th>\n",
       "      <th>allspice</th>\n",
       "      <th>almond</th>\n",
       "      <th>amchur</th>\n",
       "      <th>ancho_powder</th>\n",
       "      <th>anchovy_fillets</th>\n",
       "      <th>...</th>\n",
       "      <th>walnut</th>\n",
       "      <th>white_wine</th>\n",
       "      <th>whole_cloves</th>\n",
       "      <th>whole_wheat_tortillas</th>\n",
       "      <th>wonton_wrappers</th>\n",
       "      <th>worcestershire_sauce</th>\n",
       "      <th>yeast</th>\n",
       "      <th>yoghurt</th>\n",
       "      <th>yogurt</th>\n",
       "      <th>zucchini</th>\n",
       "    </tr>\n",
       "  </thead>\n",
       "  <tbody>\n",
       "    <tr>\n",
       "      <th>0</th>\n",
       "      <td>1</td>\n",
       "      <td>0</td>\n",
       "      <td>0</td>\n",
       "      <td>0</td>\n",
       "      <td>0</td>\n",
       "      <td>0</td>\n",
       "      <td>0</td>\n",
       "      <td>0</td>\n",
       "      <td>0</td>\n",
       "      <td>0</td>\n",
       "      <td>...</td>\n",
       "      <td>0</td>\n",
       "      <td>0</td>\n",
       "      <td>0</td>\n",
       "      <td>0</td>\n",
       "      <td>0</td>\n",
       "      <td>0</td>\n",
       "      <td>0</td>\n",
       "      <td>0</td>\n",
       "      <td>0</td>\n",
       "      <td>0</td>\n",
       "    </tr>\n",
       "    <tr>\n",
       "      <th>1</th>\n",
       "      <td>1</td>\n",
       "      <td>0</td>\n",
       "      <td>0</td>\n",
       "      <td>0</td>\n",
       "      <td>0</td>\n",
       "      <td>0</td>\n",
       "      <td>0</td>\n",
       "      <td>0</td>\n",
       "      <td>0</td>\n",
       "      <td>0</td>\n",
       "      <td>...</td>\n",
       "      <td>0</td>\n",
       "      <td>0</td>\n",
       "      <td>0</td>\n",
       "      <td>0</td>\n",
       "      <td>0</td>\n",
       "      <td>0</td>\n",
       "      <td>0</td>\n",
       "      <td>0</td>\n",
       "      <td>0</td>\n",
       "      <td>0</td>\n",
       "    </tr>\n",
       "  </tbody>\n",
       "</table>\n",
       "<p>2 rows × 337 columns</p>\n",
       "</div>"
      ],
      "text/plain": [
       "      _drain  _soften  adobo_sauce  agave_nectar  allspice  almond  amchur  \\\n",
       "0  1       0        0            0             0         0       0       0   \n",
       "1  1       0        0            0             0         0       0       0   \n",
       "\n",
       "   ancho_powder  anchovy_fillets    ...     walnut  white_wine  whole_cloves  \\\n",
       "0             0                0    ...          0           0             0   \n",
       "1             0                0    ...          0           0             0   \n",
       "\n",
       "   whole_wheat_tortillas  wonton_wrappers  worcestershire_sauce  yeast  \\\n",
       "0                      0                0                     0      0   \n",
       "1                      0                0                     0      0   \n",
       "\n",
       "   yoghurt  yogurt  zucchini  \n",
       "0        0       0         0  \n",
       "1        0       0         0  \n",
       "\n",
       "[2 rows x 337 columns]"
      ]
     },
     "execution_count": 210,
     "metadata": {},
     "output_type": "execute_result"
    }
   ],
   "source": [
    "X_train.head(2)"
   ]
  },
  {
   "cell_type": "code",
   "execution_count": 211,
   "metadata": {
    "scrolled": true
   },
   "outputs": [
    {
     "data": {
      "text/plain": [
       "Index(['', '_drain', '_soften', 'adobo_sauce', 'agave_nectar', 'allspice',\n",
       "       'almond', 'amchur', 'ancho_powder', 'anchovy_fillets',\n",
       "       ...\n",
       "       'walnut', 'white_wine', 'whole_cloves', 'whole_wheat_tortillas',\n",
       "       'wonton_wrappers', 'worcestershire_sauce', 'yeast', 'yoghurt', 'yogurt',\n",
       "       'zucchini'],\n",
       "      dtype='object', length=337)"
      ]
     },
     "execution_count": 211,
     "metadata": {},
     "output_type": "execute_result"
    }
   ],
   "source": [
    "X_train.columns"
   ]
  },
  {
   "cell_type": "markdown",
   "metadata": {},
   "source": [
    "##### Pickle the cleaned dataframe & a small subset as a sample "
   ]
  },
  {
   "cell_type": "code",
   "execution_count": 212,
   "metadata": {
    "collapsed": true
   },
   "outputs": [],
   "source": [
    "df2_cleaned_sample = X_train[0:50]"
   ]
  },
  {
   "cell_type": "code",
   "execution_count": 213,
   "metadata": {
    "scrolled": true
   },
   "outputs": [
    {
     "name": "stdout",
     "output_type": "stream",
     "text": [
      "<class 'pandas.core.frame.DataFrame'>\n",
      "RangeIndex: 50 entries, 0 to 49\n",
      "Columns: 337 entries,  to zucchini\n",
      "dtypes: int64(337)\n",
      "memory usage: 131.7 KB\n"
     ]
    }
   ],
   "source": [
    "df2_cleaned_sample.info()"
   ]
  },
  {
   "cell_type": "code",
   "execution_count": 214,
   "metadata": {
    "collapsed": true
   },
   "outputs": [],
   "source": [
    "# with open('../../Data/train_standardized.pickle', 'wb') as handle: \n",
    "#     pickle.dump(X_train, handle, pickle.HIGHEST_PROTOCOL)"
   ]
  },
  {
   "cell_type": "code",
   "execution_count": 215,
   "metadata": {
    "collapsed": true
   },
   "outputs": [],
   "source": [
    "# with open('../../Data/test_transformed.pickle', 'wb') as handle: \n",
    "#     pickle.dump(X_test, handle, pickle.HIGHEST_PROTOCOL)"
   ]
  },
  {
   "cell_type": "code",
   "execution_count": 216,
   "metadata": {
    "collapsed": true
   },
   "outputs": [],
   "source": [
    "# with open('../../Data/train_target.pickle', 'wb') as handle: \n",
    "#     pickle.dump(y_train, handle, pickle.HIGHEST_PROTOCOL)"
   ]
  },
  {
   "cell_type": "code",
   "execution_count": 217,
   "metadata": {
    "collapsed": true
   },
   "outputs": [],
   "source": [
    "# with open('../../Data/test_target.pickle', 'wb') as handle: \n",
    "#     pickle.dump(y_test, handle, pickle.HIGHEST_PROTOCOL)"
   ]
  },
  {
   "cell_type": "code",
   "execution_count": 218,
   "metadata": {
    "collapsed": true
   },
   "outputs": [],
   "source": [
    "# with open('../../Data/standardized_sample.pickle', 'wb') as handle: \n",
    "#     pickle.dump(df2_cleaned_sample, handle, pickle.HIGHEST_PROTOCOL)"
   ]
  },
  {
   "cell_type": "markdown",
   "metadata": {},
   "source": [
    "## More Visuals \n",
    "#### Top 3 ingredients for each cuisine "
   ]
  },
  {
   "cell_type": "code",
   "execution_count": 219,
   "metadata": {},
   "outputs": [
    {
     "data": {
      "text/plain": [
       "0    lettuce,olives,seasoning,garbanzo_beans,feta_c...\n",
       "1                                thym,green_corn,milk,\n",
       "2    mayonaise,chili,chicken,soy_sauce,butter,chicken,\n",
       "3                                               wheat,\n",
       "4    shallots,milk,butter,lemon,chili,passata,cumin...\n",
       "Name: ingredients, dtype: object"
      ]
     },
     "execution_count": 219,
     "metadata": {},
     "output_type": "execute_result"
    }
   ],
   "source": [
    "df_igt = df['ingredients']\n",
    "df_igt.head()"
   ]
  },
  {
   "cell_type": "code",
   "execution_count": 220,
   "metadata": {},
   "outputs": [
    {
     "data": {
      "text/html": [
       "<div>\n",
       "<style>\n",
       "    .dataframe thead tr:only-child th {\n",
       "        text-align: right;\n",
       "    }\n",
       "\n",
       "    .dataframe thead th {\n",
       "        text-align: left;\n",
       "    }\n",
       "\n",
       "    .dataframe tbody tr th {\n",
       "        vertical-align: top;\n",
       "    }\n",
       "</style>\n",
       "<table border=\"1\" class=\"dataframe\">\n",
       "  <thead>\n",
       "    <tr style=\"text-align: right;\">\n",
       "      <th></th>\n",
       "      <th>cuisine</th>\n",
       "      <th>id</th>\n",
       "      <th>ingredients</th>\n",
       "    </tr>\n",
       "  </thead>\n",
       "  <tbody>\n",
       "    <tr>\n",
       "      <th>0</th>\n",
       "      <td>greek</td>\n",
       "      <td>10259</td>\n",
       "      <td>lettuce,olives,seasoning,garbanzo_beans,feta_c...</td>\n",
       "    </tr>\n",
       "    <tr>\n",
       "      <th>1</th>\n",
       "      <td>southern_us</td>\n",
       "      <td>25693</td>\n",
       "      <td>thym,green_corn,milk,</td>\n",
       "    </tr>\n",
       "    <tr>\n",
       "      <th>2</th>\n",
       "      <td>filipino</td>\n",
       "      <td>20130</td>\n",
       "      <td>mayonaise,chili,chicken,soy_sauce,butter,chicken,</td>\n",
       "    </tr>\n",
       "    <tr>\n",
       "      <th>3</th>\n",
       "      <td>indian</td>\n",
       "      <td>22213</td>\n",
       "      <td>wheat,</td>\n",
       "    </tr>\n",
       "    <tr>\n",
       "      <th>4</th>\n",
       "      <td>indian</td>\n",
       "      <td>13162</td>\n",
       "      <td>shallots,milk,butter,lemon,chili,passata,cumin...</td>\n",
       "    </tr>\n",
       "  </tbody>\n",
       "</table>\n",
       "</div>"
      ],
      "text/plain": [
       "       cuisine     id                                        ingredients\n",
       "0        greek  10259  lettuce,olives,seasoning,garbanzo_beans,feta_c...\n",
       "1  southern_us  25693                              thym,green_corn,milk,\n",
       "2     filipino  20130  mayonaise,chili,chicken,soy_sauce,butter,chicken,\n",
       "3       indian  22213                                             wheat,\n",
       "4       indian  13162  shallots,milk,butter,lemon,chili,passata,cumin..."
      ]
     },
     "execution_count": 220,
     "metadata": {},
     "output_type": "execute_result"
    }
   ],
   "source": [
    "df.head()"
   ]
  },
  {
   "cell_type": "markdown",
   "metadata": {},
   "source": [
    "##### Get rid of more common ingredients to have meaningful insight on unique top ingredients for each cuisine"
   ]
  },
  {
   "cell_type": "code",
   "execution_count": 221,
   "metadata": {
    "collapsed": true
   },
   "outputs": [],
   "source": [
    "common_ingredients = ['flour','egg','oil','water','cilantro','salt'\n",
    "                      ,'garlic','milk','syrup','olives','lettuce','butter'\n",
    "                      ,'pepper','tomato','corn','onion','baking_soda'\n",
    "                      ,'sugar','almond','broth','chicken','beef','pecan'\n",
    "                      ,'pork','sausage','rice','peanut','cream','lime'\n",
    "                      ,'yeast','olives','lettuce','carrot','shrimp'\n",
    "                      ,'walnut','lemon','orange','ginger','allspice'\n",
    "                      ,'turkey','cinnamon','mint','parsley','thym','apple'\n",
    "                      ,'spinach','chive','dill','basil','mustard','ice'\n",
    "                      ,'coconut_milk','raisins','nutmeg','bread','celery'\n",
    "                      ,'apricot','cheddar','jack','squash','chocolate'\n",
    "                      ,'potato','cocoa','sour_cream','vinegar','catfish'\n",
    "                      ,'salmon','yogurt','sesame_seeds','_drain','cabbage'\n",
    "                      ,'_soften','vanilla','salt','baking_powder'\n",
    "                      ,'cucumber']\n",
    "def remove_more_common_ingredient(row,ingredients_list):\n",
    "    \"\"\" This function returns a list of ingredients \n",
    "    after removing the above common ingredients across cuisines. \"\"\"\n",
    "    for i in row.split(','):\n",
    "        if i in ingredients_list:\n",
    "            row = row.replace(i+',','')\n",
    "        else: \n",
    "            pass\n",
    "    return row"
   ]
  },
  {
   "cell_type": "code",
   "execution_count": 222,
   "metadata": {},
   "outputs": [
    {
     "data": {
      "text/plain": [
       "0                seasoning,garbanzo_beans,feta_cheese,\n",
       "1                                          green_corn,\n",
       "2                           mayonaise,chili,soy_sauce,\n",
       "3                                               wheat,\n",
       "4    shallots,chili,passata,cumin,garam_masala,bay_...\n",
       "Name: ingredients, dtype: object"
      ]
     },
     "execution_count": 222,
     "metadata": {},
     "output_type": "execute_result"
    }
   ],
   "source": [
    "df_igt = df_igt.apply(remove_more_common_ingredient\n",
    "                      ,ingredients_list=common_ingredients)\n",
    "df_igt.head()"
   ]
  },
  {
   "cell_type": "code",
   "execution_count": 223,
   "metadata": {
    "collapsed": true
   },
   "outputs": [],
   "source": [
    "vec1 = CountVectorizer(min_df=50, tokenizer=lambda x: x.split(',')\n",
    "                      ,analyzer = 'word')\n",
    "count1 = vec1.fit_transform(df_igt).toarray()\n",
    "igt_names1 = vec1.get_feature_names()\n",
    "counts1 = np.clip(count1, 0, 1, out=count1)\n",
    "counts_reshaped1 = counts1.reshape(len(df_igt),len(igt_names1))\n",
    "df_igt = pd.DataFrame(counts_reshaped1)\n",
    "df_igt.columns = igt_names1"
   ]
  },
  {
   "cell_type": "code",
   "execution_count": 224,
   "metadata": {},
   "outputs": [
    {
     "data": {
      "text/html": [
       "<div>\n",
       "<style>\n",
       "    .dataframe thead tr:only-child th {\n",
       "        text-align: right;\n",
       "    }\n",
       "\n",
       "    .dataframe thead th {\n",
       "        text-align: left;\n",
       "    }\n",
       "\n",
       "    .dataframe tbody tr th {\n",
       "        vertical-align: top;\n",
       "    }\n",
       "</style>\n",
       "<table border=\"1\" class=\"dataframe\">\n",
       "  <thead>\n",
       "    <tr style=\"text-align: right;\">\n",
       "      <th></th>\n",
       "      <th>cuisine</th>\n",
       "      <th>adobo_sauce</th>\n",
       "      <th>agave_nectar</th>\n",
       "      <th>amchur</th>\n",
       "      <th>anaheim_chile</th>\n",
       "      <th>ancho_powder</th>\n",
       "      <th>anchovies</th>\n",
       "      <th>anchovy_fillets</th>\n",
       "      <th>anchovy_paste</th>\n",
       "      <th>angel_hair</th>\n",
       "      <th>...</th>\n",
       "      <th>white_miso</th>\n",
       "      <th>white_mushrooms</th>\n",
       "      <th>white_wine</th>\n",
       "      <th>whole_cloves</th>\n",
       "      <th>whole_wheat_tortillas</th>\n",
       "      <th>wine</th>\n",
       "      <th>wonton_wrappers</th>\n",
       "      <th>worcestershire_sauce</th>\n",
       "      <th>yoghurt</th>\n",
       "      <th>zucchini</th>\n",
       "    </tr>\n",
       "  </thead>\n",
       "  <tbody>\n",
       "    <tr>\n",
       "      <th>0</th>\n",
       "      <td>greek</td>\n",
       "      <td>0</td>\n",
       "      <td>0</td>\n",
       "      <td>0</td>\n",
       "      <td>0</td>\n",
       "      <td>0</td>\n",
       "      <td>0</td>\n",
       "      <td>0</td>\n",
       "      <td>0</td>\n",
       "      <td>0</td>\n",
       "      <td>...</td>\n",
       "      <td>0</td>\n",
       "      <td>0</td>\n",
       "      <td>0</td>\n",
       "      <td>0</td>\n",
       "      <td>0</td>\n",
       "      <td>0</td>\n",
       "      <td>0</td>\n",
       "      <td>0</td>\n",
       "      <td>0</td>\n",
       "      <td>0</td>\n",
       "    </tr>\n",
       "    <tr>\n",
       "      <th>1</th>\n",
       "      <td>southern_us</td>\n",
       "      <td>0</td>\n",
       "      <td>0</td>\n",
       "      <td>0</td>\n",
       "      <td>0</td>\n",
       "      <td>0</td>\n",
       "      <td>0</td>\n",
       "      <td>0</td>\n",
       "      <td>0</td>\n",
       "      <td>0</td>\n",
       "      <td>...</td>\n",
       "      <td>0</td>\n",
       "      <td>0</td>\n",
       "      <td>0</td>\n",
       "      <td>0</td>\n",
       "      <td>0</td>\n",
       "      <td>0</td>\n",
       "      <td>0</td>\n",
       "      <td>0</td>\n",
       "      <td>0</td>\n",
       "      <td>0</td>\n",
       "    </tr>\n",
       "    <tr>\n",
       "      <th>2</th>\n",
       "      <td>filipino</td>\n",
       "      <td>0</td>\n",
       "      <td>0</td>\n",
       "      <td>0</td>\n",
       "      <td>0</td>\n",
       "      <td>0</td>\n",
       "      <td>0</td>\n",
       "      <td>0</td>\n",
       "      <td>0</td>\n",
       "      <td>0</td>\n",
       "      <td>...</td>\n",
       "      <td>0</td>\n",
       "      <td>0</td>\n",
       "      <td>0</td>\n",
       "      <td>0</td>\n",
       "      <td>0</td>\n",
       "      <td>0</td>\n",
       "      <td>0</td>\n",
       "      <td>0</td>\n",
       "      <td>0</td>\n",
       "      <td>0</td>\n",
       "    </tr>\n",
       "    <tr>\n",
       "      <th>3</th>\n",
       "      <td>indian</td>\n",
       "      <td>0</td>\n",
       "      <td>0</td>\n",
       "      <td>0</td>\n",
       "      <td>0</td>\n",
       "      <td>0</td>\n",
       "      <td>0</td>\n",
       "      <td>0</td>\n",
       "      <td>0</td>\n",
       "      <td>0</td>\n",
       "      <td>...</td>\n",
       "      <td>0</td>\n",
       "      <td>0</td>\n",
       "      <td>0</td>\n",
       "      <td>0</td>\n",
       "      <td>0</td>\n",
       "      <td>0</td>\n",
       "      <td>0</td>\n",
       "      <td>0</td>\n",
       "      <td>0</td>\n",
       "      <td>0</td>\n",
       "    </tr>\n",
       "    <tr>\n",
       "      <th>4</th>\n",
       "      <td>indian</td>\n",
       "      <td>0</td>\n",
       "      <td>0</td>\n",
       "      <td>0</td>\n",
       "      <td>0</td>\n",
       "      <td>0</td>\n",
       "      <td>0</td>\n",
       "      <td>0</td>\n",
       "      <td>0</td>\n",
       "      <td>0</td>\n",
       "      <td>...</td>\n",
       "      <td>0</td>\n",
       "      <td>0</td>\n",
       "      <td>0</td>\n",
       "      <td>0</td>\n",
       "      <td>0</td>\n",
       "      <td>0</td>\n",
       "      <td>0</td>\n",
       "      <td>0</td>\n",
       "      <td>0</td>\n",
       "      <td>0</td>\n",
       "    </tr>\n",
       "  </tbody>\n",
       "</table>\n",
       "<p>5 rows × 390 columns</p>\n",
       "</div>"
      ],
      "text/plain": [
       "       cuisine  adobo_sauce  agave_nectar  amchur  anaheim_chile  \\\n",
       "0        greek            0             0       0              0   \n",
       "1  southern_us            0             0       0              0   \n",
       "2     filipino            0             0       0              0   \n",
       "3       indian            0             0       0              0   \n",
       "4       indian            0             0       0              0   \n",
       "\n",
       "   ancho_powder  anchovies  anchovy_fillets  anchovy_paste  angel_hair  \\\n",
       "0             0          0                0              0           0   \n",
       "1             0          0                0              0           0   \n",
       "2             0          0                0              0           0   \n",
       "3             0          0                0              0           0   \n",
       "4             0          0                0              0           0   \n",
       "\n",
       "     ...     white_miso  white_mushrooms  white_wine  whole_cloves  \\\n",
       "0    ...              0                0           0             0   \n",
       "1    ...              0                0           0             0   \n",
       "2    ...              0                0           0             0   \n",
       "3    ...              0                0           0             0   \n",
       "4    ...              0                0           0             0   \n",
       "\n",
       "   whole_wheat_tortillas  wine  wonton_wrappers  worcestershire_sauce  \\\n",
       "0                      0     0                0                     0   \n",
       "1                      0     0                0                     0   \n",
       "2                      0     0                0                     0   \n",
       "3                      0     0                0                     0   \n",
       "4                      0     0                0                     0   \n",
       "\n",
       "   yoghurt  zucchini  \n",
       "0        0         0  \n",
       "1        0         0  \n",
       "2        0         0  \n",
       "3        0         0  \n",
       "4        0         0  \n",
       "\n",
       "[5 rows x 390 columns]"
      ]
     },
     "execution_count": 224,
     "metadata": {},
     "output_type": "execute_result"
    }
   ],
   "source": [
    "df_vectorized = pd.concat([df, df_igt],axis=1)\n",
    "df_vectorized.drop(['ingredients','id',''],axis=1,inplace=True)\n",
    "df_vectorized.head()"
   ]
  },
  {
   "cell_type": "code",
   "execution_count": 225,
   "metadata": {
    "collapsed": true
   },
   "outputs": [],
   "source": [
    "igt_by_cuisine = df_vectorized.groupby('cuisine').sum()"
   ]
  },
  {
   "cell_type": "code",
   "execution_count": 226,
   "metadata": {
    "collapsed": true
   },
   "outputs": [],
   "source": [
    "nlargest = 3\n",
    "order = np.argsort(-igt_by_cuisine.values, axis=1)[:, :nlargest]\n",
    "igt_by_cuisine = pd.DataFrame(igt_by_cuisine.columns[order], \n",
    "                      columns=['top{}'.format(i) for i in \n",
    "                               range(1, nlargest+1)],\n",
    "                      index=igt_by_cuisine.index)"
   ]
  },
  {
   "cell_type": "code",
   "execution_count": 227,
   "metadata": {},
   "outputs": [
    {
     "data": {
      "text/html": [
       "<div>\n",
       "<style>\n",
       "    .dataframe thead tr:only-child th {\n",
       "        text-align: right;\n",
       "    }\n",
       "\n",
       "    .dataframe thead th {\n",
       "        text-align: left;\n",
       "    }\n",
       "\n",
       "    .dataframe tbody tr th {\n",
       "        vertical-align: top;\n",
       "    }\n",
       "</style>\n",
       "<table border=\"1\" class=\"dataframe\">\n",
       "  <thead>\n",
       "    <tr style=\"text-align: right;\">\n",
       "      <th></th>\n",
       "      <th>top1</th>\n",
       "      <th>top2</th>\n",
       "      <th>top3</th>\n",
       "    </tr>\n",
       "    <tr>\n",
       "      <th>cuisine</th>\n",
       "      <th></th>\n",
       "      <th></th>\n",
       "      <th></th>\n",
       "    </tr>\n",
       "  </thead>\n",
       "  <tbody>\n",
       "    <tr>\n",
       "      <th>brazilian</th>\n",
       "      <td>cachaca</td>\n",
       "      <td>black_beans</td>\n",
       "      <td>chili</td>\n",
       "    </tr>\n",
       "    <tr>\n",
       "      <th>british</th>\n",
       "      <td>worcestershire_sauce</td>\n",
       "      <td>peas</td>\n",
       "      <td>strawberries</td>\n",
       "    </tr>\n",
       "    <tr>\n",
       "      <th>cajun_creole</th>\n",
       "      <td>cajun_seasoning</td>\n",
       "      <td>paprika</td>\n",
       "      <td>oregano</td>\n",
       "    </tr>\n",
       "    <tr>\n",
       "      <th>chinese</th>\n",
       "      <td>soy_sauce</td>\n",
       "      <td>scallions</td>\n",
       "      <td>oyster_sauce</td>\n",
       "    </tr>\n",
       "    <tr>\n",
       "      <th>filipino</th>\n",
       "      <td>soy_sauce</td>\n",
       "      <td>bay_leaves</td>\n",
       "      <td>fish_sauce</td>\n",
       "    </tr>\n",
       "    <tr>\n",
       "      <th>french</th>\n",
       "      <td>shallots</td>\n",
       "      <td>dry_white_wine</td>\n",
       "      <td>cooking_spray</td>\n",
       "    </tr>\n",
       "    <tr>\n",
       "      <th>greek</th>\n",
       "      <td>feta_cheese</td>\n",
       "      <td>oregano</td>\n",
       "      <td>lamb</td>\n",
       "    </tr>\n",
       "    <tr>\n",
       "      <th>indian</th>\n",
       "      <td>cumin</td>\n",
       "      <td>chili</td>\n",
       "      <td>coriander</td>\n",
       "    </tr>\n",
       "    <tr>\n",
       "      <th>irish</th>\n",
       "      <td>cooking_spray</td>\n",
       "      <td>leeks</td>\n",
       "      <td>lamb</td>\n",
       "    </tr>\n",
       "    <tr>\n",
       "      <th>italian</th>\n",
       "      <td>parmesan</td>\n",
       "      <td>mozzarella</td>\n",
       "      <td>oregano</td>\n",
       "    </tr>\n",
       "    <tr>\n",
       "      <th>jamaican</th>\n",
       "      <td>scallions</td>\n",
       "      <td>soy_sauce</td>\n",
       "      <td>curry_powder</td>\n",
       "    </tr>\n",
       "    <tr>\n",
       "      <th>japanese</th>\n",
       "      <td>soy_sauce</td>\n",
       "      <td>mirin</td>\n",
       "      <td>sake</td>\n",
       "    </tr>\n",
       "    <tr>\n",
       "      <th>korean</th>\n",
       "      <td>soy_sauce</td>\n",
       "      <td>scallions</td>\n",
       "      <td>gochujang_base</td>\n",
       "    </tr>\n",
       "    <tr>\n",
       "      <th>mexican</th>\n",
       "      <td>chili</td>\n",
       "      <td>cumin</td>\n",
       "      <td>avocado</td>\n",
       "    </tr>\n",
       "    <tr>\n",
       "      <th>moroccan</th>\n",
       "      <td>cumin</td>\n",
       "      <td>paprika</td>\n",
       "      <td>coriander</td>\n",
       "    </tr>\n",
       "    <tr>\n",
       "      <th>russian</th>\n",
       "      <td>beets</td>\n",
       "      <td>mayonaise</td>\n",
       "      <td>bay_leaves</td>\n",
       "    </tr>\n",
       "    <tr>\n",
       "      <th>southern_us</th>\n",
       "      <td>paprika</td>\n",
       "      <td>chili</td>\n",
       "      <td>peas</td>\n",
       "    </tr>\n",
       "    <tr>\n",
       "      <th>spanish</th>\n",
       "      <td>paprika</td>\n",
       "      <td>dry_white_wine</td>\n",
       "      <td>saffron_threads</td>\n",
       "    </tr>\n",
       "    <tr>\n",
       "      <th>thai</th>\n",
       "      <td>fish_sauce</td>\n",
       "      <td>soy_sauce</td>\n",
       "      <td>chili</td>\n",
       "    </tr>\n",
       "    <tr>\n",
       "      <th>vietnamese</th>\n",
       "      <td>fish_sauce</td>\n",
       "      <td>soy_sauce</td>\n",
       "      <td>shallots</td>\n",
       "    </tr>\n",
       "  </tbody>\n",
       "</table>\n",
       "</div>"
      ],
      "text/plain": [
       "                              top1            top2             top3\n",
       "cuisine                                                            \n",
       "brazilian                  cachaca     black_beans            chili\n",
       "british       worcestershire_sauce            peas     strawberries\n",
       "cajun_creole       cajun_seasoning         paprika          oregano\n",
       "chinese                  soy_sauce       scallions     oyster_sauce\n",
       "filipino                 soy_sauce      bay_leaves       fish_sauce\n",
       "french                    shallots  dry_white_wine    cooking_spray\n",
       "greek                  feta_cheese         oregano             lamb\n",
       "indian                       cumin           chili        coriander\n",
       "irish                cooking_spray           leeks             lamb\n",
       "italian                   parmesan      mozzarella          oregano\n",
       "jamaican                 scallions       soy_sauce     curry_powder\n",
       "japanese                 soy_sauce           mirin             sake\n",
       "korean                   soy_sauce       scallions   gochujang_base\n",
       "mexican                      chili           cumin          avocado\n",
       "moroccan                     cumin         paprika        coriander\n",
       "russian                      beets       mayonaise       bay_leaves\n",
       "southern_us                paprika           chili             peas\n",
       "spanish                    paprika  dry_white_wine  saffron_threads\n",
       "thai                    fish_sauce       soy_sauce            chili\n",
       "vietnamese              fish_sauce       soy_sauce         shallots"
      ]
     },
     "execution_count": 227,
     "metadata": {},
     "output_type": "execute_result"
    }
   ],
   "source": [
    "igt_by_cuisine"
   ]
  },
  {
   "cell_type": "code",
   "execution_count": 228,
   "metadata": {
    "collapsed": true
   },
   "outputs": [],
   "source": [
    "# with open('../../Data/top3ingredients.pickle', 'wb') as handle: \n",
    "#     pickle.dump(igt_by_cuisine, handle, pickle.HIGHEST_PROTOCOL)"
   ]
  },
  {
   "cell_type": "code",
   "execution_count": null,
   "metadata": {
    "collapsed": true
   },
   "outputs": [],
   "source": []
  }
 ],
 "metadata": {
  "kernelspec": {
   "display_name": "Python [conda env:py3]",
   "language": "python",
   "name": "conda-env-py3-py"
  },
  "language_info": {
   "codemirror_mode": {
    "name": "ipython",
    "version": 3
   },
   "file_extension": ".py",
   "mimetype": "text/x-python",
   "name": "python",
   "nbconvert_exporter": "python",
   "pygments_lexer": "ipython3",
   "version": "3.6.2"
  }
 },
 "nbformat": 4,
 "nbformat_minor": 2
}
