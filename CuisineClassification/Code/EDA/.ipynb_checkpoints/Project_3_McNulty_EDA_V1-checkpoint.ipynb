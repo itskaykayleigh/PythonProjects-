{
 "cells": [
  {
   "cell_type": "markdown",
   "metadata": {},
   "source": [
    "### List of Imports"
   ]
  },
  {
   "cell_type": "code",
   "execution_count": 2,
   "metadata": {
    "collapsed": true
   },
   "outputs": [],
   "source": [
    "from __future__ import print_function"
   ]
  },
  {
   "cell_type": "code",
   "execution_count": 3,
   "metadata": {},
   "outputs": [
    {
     "name": "stderr",
     "output_type": "stream",
     "text": [
      "/Users/liyuqiao/anaconda/envs/py3/lib/python3.6/site-packages/fuzzywuzzy/fuzz.py:35: UserWarning: Using slow pure-python SequenceMatcher. Install python-Levenshtein to remove this warning\n",
      "  warnings.warn('Using slow pure-python SequenceMatcher. Install python-Levenshtein to remove this warning')\n"
     ]
    }
   ],
   "source": [
    "import json\n",
    "import pickle\n",
    "import numpy as np \n",
    "import pandas as pd \n",
    "import seaborn as sns\n",
    "from fuzzywuzzy import fuzz\n",
    "from fuzzywuzzy import process\n",
    "import matplotlib.pyplot as plt\n",
    "# from nltk.stem import WordNetLemmatizer\n",
    "from sklearn.model_selection import train_test_split\n",
    "from sklearn.feature_extraction.text import CountVectorizer\n",
    "\n",
    "\n",
    "%matplotlib inline"
   ]
  },
  {
   "cell_type": "code",
   "execution_count": 4,
   "metadata": {
    "collapsed": true
   },
   "outputs": [],
   "source": [
    "pd.options.display.max_rows = 15"
   ]
  },
  {
   "cell_type": "code",
   "execution_count": 5,
   "metadata": {
    "collapsed": true
   },
   "outputs": [],
   "source": [
    "with open('../../../../raw_data/train.json', 'rb') as f:\n",
    "    dict_ = json.load(f)"
   ]
  },
  {
   "cell_type": "code",
   "execution_count": 6,
   "metadata": {
    "collapsed": true
   },
   "outputs": [],
   "source": [
    "df = pd.DataFrame.from_dict(dict_)"
   ]
  },
  {
   "cell_type": "code",
   "execution_count": 7,
   "metadata": {
    "collapsed": true
   },
   "outputs": [],
   "source": [
    "df.ingredients = [','.join(i).strip() for i in df.ingredients]  "
   ]
  },
  {
   "cell_type": "code",
   "execution_count": 8,
   "metadata": {},
   "outputs": [
    {
     "data": {
      "text/html": [
       "<div>\n",
       "<style>\n",
       "    .dataframe thead tr:only-child th {\n",
       "        text-align: right;\n",
       "    }\n",
       "\n",
       "    .dataframe thead th {\n",
       "        text-align: left;\n",
       "    }\n",
       "\n",
       "    .dataframe tbody tr th {\n",
       "        vertical-align: top;\n",
       "    }\n",
       "</style>\n",
       "<table border=\"1\" class=\"dataframe\">\n",
       "  <thead>\n",
       "    <tr style=\"text-align: right;\">\n",
       "      <th></th>\n",
       "      <th>cuisine</th>\n",
       "      <th>id</th>\n",
       "      <th>ingredients</th>\n",
       "    </tr>\n",
       "  </thead>\n",
       "  <tbody>\n",
       "    <tr>\n",
       "      <th>0</th>\n",
       "      <td>greek</td>\n",
       "      <td>10259</td>\n",
       "      <td>romaine lettuce,black olives,grape tomatoes,ga...</td>\n",
       "    </tr>\n",
       "    <tr>\n",
       "      <th>1</th>\n",
       "      <td>southern_us</td>\n",
       "      <td>25693</td>\n",
       "      <td>plain flour,ground pepper,salt,tomatoes,ground...</td>\n",
       "    </tr>\n",
       "    <tr>\n",
       "      <th>2</th>\n",
       "      <td>filipino</td>\n",
       "      <td>20130</td>\n",
       "      <td>eggs,pepper,salt,mayonaise,cooking oil,green c...</td>\n",
       "    </tr>\n",
       "    <tr>\n",
       "      <th>3</th>\n",
       "      <td>indian</td>\n",
       "      <td>22213</td>\n",
       "      <td>water,vegetable oil,wheat,salt</td>\n",
       "    </tr>\n",
       "    <tr>\n",
       "      <th>4</th>\n",
       "      <td>indian</td>\n",
       "      <td>13162</td>\n",
       "      <td>black pepper,shallots,cornflour,cayenne pepper...</td>\n",
       "    </tr>\n",
       "  </tbody>\n",
       "</table>\n",
       "</div>"
      ],
      "text/plain": [
       "       cuisine     id                                        ingredients\n",
       "0        greek  10259  romaine lettuce,black olives,grape tomatoes,ga...\n",
       "1  southern_us  25693  plain flour,ground pepper,salt,tomatoes,ground...\n",
       "2     filipino  20130  eggs,pepper,salt,mayonaise,cooking oil,green c...\n",
       "3       indian  22213                     water,vegetable oil,wheat,salt\n",
       "4       indian  13162  black pepper,shallots,cornflour,cayenne pepper..."
      ]
     },
     "execution_count": 8,
     "metadata": {},
     "output_type": "execute_result"
    }
   ],
   "source": [
    "df.head(5)"
   ]
  },
  {
   "cell_type": "code",
   "execution_count": 9,
   "metadata": {},
   "outputs": [
    {
     "name": "stdout",
     "output_type": "stream",
     "text": [
      "<class 'pandas.core.frame.DataFrame'>\n",
      "RangeIndex: 39774 entries, 0 to 39773\n",
      "Data columns (total 3 columns):\n",
      "cuisine        39774 non-null object\n",
      "id             39774 non-null int64\n",
      "ingredients    39774 non-null object\n",
      "dtypes: int64(1), object(2)\n",
      "memory usage: 932.3+ KB\n"
     ]
    }
   ],
   "source": [
    "df.info()"
   ]
  },
  {
   "cell_type": "code",
   "execution_count": 10,
   "metadata": {},
   "outputs": [
    {
     "data": {
      "text/plain": [
       "italian         7838\n",
       "mexican         6438\n",
       "southern_us     4320\n",
       "indian          3003\n",
       "chinese         2673\n",
       "french          2646\n",
       "cajun_creole    1546\n",
       "                ... \n",
       "moroccan         821\n",
       "british          804\n",
       "filipino         755\n",
       "irish            667\n",
       "jamaican         526\n",
       "russian          489\n",
       "brazilian        467\n",
       "Name: cuisine, Length: 20, dtype: int64"
      ]
     },
     "execution_count": 10,
     "metadata": {},
     "output_type": "execute_result"
    }
   ],
   "source": [
    "df['cuisine'].value_counts().sort_values(ascending=False)"
   ]
  },
  {
   "cell_type": "code",
   "execution_count": 11,
   "metadata": {},
   "outputs": [
    {
     "data": {
      "text/plain": [
       "<matplotlib.text.Text at 0x11e238198>"
      ]
     },
     "execution_count": 11,
     "metadata": {},
     "output_type": "execute_result"
    },
    {
     "data": {
      "image/png": "[encoded data removed]",
      "text/plain": [
       "<matplotlib.figure.Figure at 0x11e0aee48>"
      ]
     },
     "metadata": {},
     "output_type": "display_data"
    }
   ],
   "source": [
    "sns.set(rc={\"figure.figsize\": (14,8)}, font_scale=1.8)\n",
    "ax = sns.countplot(y=df['cuisine']\n",
    "                   , data=df\n",
    "                   , order=['italian','mexican','southern_us'\n",
    "                            ,'indian','chinese','french'\n",
    "                            ,'cajun_creole','thai','japanese'\n",
    "                            ,'greek','spanish','korean','vietnamese'\n",
    "                            ,'moroccan','british','filipino','irish'\n",
    "                            ,'jamaican','russian', 'brazilian']\n",
    "                   , palette = \"BuGn_r\")\n",
    "plt.title('Cuisine Distribution',fontsize=25)\n",
    "plt.xlabel('Counts of Cuisine',fontsize=20)\n",
    "plt.ylabel('Cuisine Type', fontsize=20)\n",
    "\n",
    "# plt.savefig('../../Visuals/cuisinecnt.png', dpi=200, bbox_inches = 'tight')"
   ]
  },
  {
   "cell_type": "markdown",
   "metadata": {},
   "source": [
    "### Build volcabulary for ingredients "
   ]
  },
  {
   "cell_type": "markdown",
   "metadata": {},
   "source": [
    "#### There are nearly 90k ingredients (with duplicates) out of 39774 cuisines in the dataset, so when building the vocabulary for ingredients, I wanted to set a reasonable threshold to get rid of terms that have a low document frequency. Given the size of the data and ingredients count, I decided to set the initial threshold at 100, meaning only ingredient terms appear more than 100 times across the dataset will be kept. "
   ]
  },
  {
   "cell_type": "code",
   "execution_count": 12,
   "metadata": {},
   "outputs": [
    {
     "data": {
      "text/html": [
       "<div>\n",
       "<style>\n",
       "    .dataframe thead tr:only-child th {\n",
       "        text-align: right;\n",
       "    }\n",
       "\n",
       "    .dataframe thead th {\n",
       "        text-align: left;\n",
       "    }\n",
       "\n",
       "    .dataframe tbody tr th {\n",
       "        vertical-align: top;\n",
       "    }\n",
       "</style>\n",
       "<table border=\"1\" class=\"dataframe\">\n",
       "  <thead>\n",
       "    <tr style=\"text-align: right;\">\n",
       "      <th></th>\n",
       "      <th>cuisine</th>\n",
       "      <th>id</th>\n",
       "      <th>ingredients</th>\n",
       "    </tr>\n",
       "  </thead>\n",
       "  <tbody>\n",
       "    <tr>\n",
       "      <th>0</th>\n",
       "      <td>greek</td>\n",
       "      <td>10259</td>\n",
       "      <td>romaine lettuce,black olives,grape tomatoes,ga...</td>\n",
       "    </tr>\n",
       "    <tr>\n",
       "      <th>1</th>\n",
       "      <td>southern_us</td>\n",
       "      <td>25693</td>\n",
       "      <td>plain flour,ground pepper,salt,tomatoes,ground...</td>\n",
       "    </tr>\n",
       "    <tr>\n",
       "      <th>2</th>\n",
       "      <td>filipino</td>\n",
       "      <td>20130</td>\n",
       "      <td>eggs,pepper,salt,mayonaise,cooking oil,green c...</td>\n",
       "    </tr>\n",
       "    <tr>\n",
       "      <th>3</th>\n",
       "      <td>indian</td>\n",
       "      <td>22213</td>\n",
       "      <td>water,vegetable oil,wheat,salt</td>\n",
       "    </tr>\n",
       "    <tr>\n",
       "      <th>4</th>\n",
       "      <td>indian</td>\n",
       "      <td>13162</td>\n",
       "      <td>black pepper,shallots,cornflour,cayenne pepper...</td>\n",
       "    </tr>\n",
       "  </tbody>\n",
       "</table>\n",
       "</div>"
      ],
      "text/plain": [
       "       cuisine     id                                        ingredients\n",
       "0        greek  10259  romaine lettuce,black olives,grape tomatoes,ga...\n",
       "1  southern_us  25693  plain flour,ground pepper,salt,tomatoes,ground...\n",
       "2     filipino  20130  eggs,pepper,salt,mayonaise,cooking oil,green c...\n",
       "3       indian  22213                     water,vegetable oil,wheat,salt\n",
       "4       indian  13162  black pepper,shallots,cornflour,cayenne pepper..."
      ]
     },
     "execution_count": 12,
     "metadata": {},
     "output_type": "execute_result"
    }
   ],
   "source": [
    "df.head()"
   ]
  },
  {
   "cell_type": "code",
   "execution_count": 13,
   "metadata": {
    "collapsed": true
   },
   "outputs": [],
   "source": [
    "ingredients = df.ingredients\n",
    "vec = CountVectorizer(min_df=100, tokenizer=lambda x: x.split(','), analyzer = 'word')\n",
    "count = vec.fit_transform(ingredients).toarray()\n",
    "igt_names = vec.get_feature_names()"
   ]
  },
  {
   "cell_type": "code",
   "execution_count": 14,
   "metadata": {},
   "outputs": [
    {
     "data": {
      "image/png": "[encoded data removed]",
      "text/plain": [
       "<matplotlib.figure.Figure at 0x11e383860>"
      ]
     },
     "metadata": {},
     "output_type": "display_data"
    }
   ],
   "source": [
    "# ingredient frequency before further cleaning \n",
    "igt_frequency = pd.Series(count.sum(axis=0),index = igt_names).sort_values(ascending=False)\n",
    "ax = igt_frequency[:10].plot(kind='bar', figsize=(10,6), width=.8, fontsize=14, rot=45,\n",
    "            title='10 Most Common Ingredients Across Cuisine')\n",
    "ax.title.set_size(18)"
   ]
  },
  {
   "cell_type": "code",
   "execution_count": 15,
   "metadata": {
    "collapsed": true
   },
   "outputs": [],
   "source": [
    "# for i,count in zip(igt_names,np.asarray(count.sum(axis=0)).ravel())[0:10]:\n",
    "#     print(i,count)"
   ]
  },
  {
   "cell_type": "code",
   "execution_count": 16,
   "metadata": {
    "collapsed": true
   },
   "outputs": [],
   "source": [
    "counts = np.clip(count, 0, 1, out=count)\n",
    "counts_reshaped = counts.reshape(len(ingredients),len(igt_names))\n",
    "df_igt = pd.DataFrame(counts_reshaped)\n",
    "df_igt.columns = igt_names"
   ]
  },
  {
   "cell_type": "code",
   "execution_count": 17,
   "metadata": {},
   "outputs": [
    {
     "name": "stdout",
     "output_type": "stream",
     "text": [
      "<class 'pandas.core.frame.DataFrame'>\n",
      "RangeIndex: 39774 entries, 0 to 39773\n",
      "Columns: 650 entries,  drain to zucchini\n",
      "dtypes: int64(650)\n",
      "memory usage: 197.2 MB\n"
     ]
    }
   ],
   "source": [
    "df_igt.info()"
   ]
  },
  {
   "cell_type": "code",
   "execution_count": 18,
   "metadata": {},
   "outputs": [
    {
     "data": {
      "text/plain": [
       "Index([' drain', ' soften', '1% low-fat milk', 'active dry yeast',\n",
       "       'all purpose unbleached flour', 'all-purpose flour', 'allspice',\n",
       "       'almond extract', 'almonds', 'ancho chile pepper',\n",
       "       ...\n",
       "       'wonton wrappers', 'worcestershire sauce', 'yeast',\n",
       "       'yellow bell pepper', 'yellow corn meal', 'yellow onion',\n",
       "       'yellow squash', 'yoghurt', 'yukon gold potatoes', 'zucchini'],\n",
       "      dtype='object', length=650)"
      ]
     },
     "execution_count": 18,
     "metadata": {},
     "output_type": "execute_result"
    }
   ],
   "source": [
    "df_igt.columns"
   ]
  },
  {
   "cell_type": "code",
   "execution_count": 19,
   "metadata": {
    "collapsed": true
   },
   "outputs": [],
   "source": [
    "# Gets rid of unwanted white spaces in column names \n",
    "df_igt = df_igt.rename(columns=lambda x: x.strip())"
   ]
  },
  {
   "cell_type": "code",
   "execution_count": 20,
   "metadata": {
    "collapsed": true
   },
   "outputs": [],
   "source": [
    "# Re-orders columns by alphabetical order of column names \n",
    "df_igt = df_igt.reindex_axis(sorted(df_igt.columns), axis=1)"
   ]
  },
  {
   "cell_type": "code",
   "execution_count": 21,
   "metadata": {},
   "outputs": [
    {
     "data": {
      "text/plain": [
       "Index(['1% low-fat milk', 'active dry yeast', 'all purpose unbleached flour',\n",
       "       'all-purpose flour', 'allspice', 'almond extract', 'almonds',\n",
       "       'ancho chile pepper', 'anchovy fillets', 'andouille sausage',\n",
       "       ...\n",
       "       'wonton wrappers', 'worcestershire sauce', 'yeast',\n",
       "       'yellow bell pepper', 'yellow corn meal', 'yellow onion',\n",
       "       'yellow squash', 'yoghurt', 'yukon gold potatoes', 'zucchini'],\n",
       "      dtype='object', length=650)"
      ]
     },
     "execution_count": 21,
     "metadata": {},
     "output_type": "execute_result"
    }
   ],
   "source": [
    "df_igt.columns"
   ]
  },
  {
   "cell_type": "code",
   "execution_count": 253,
   "metadata": {},
   "outputs": [
    {
     "data": {
      "text/html": [
       "<div>\n",
       "<style>\n",
       "    .dataframe thead tr:only-child th {\n",
       "        text-align: right;\n",
       "    }\n",
       "\n",
       "    .dataframe thead th {\n",
       "        text-align: left;\n",
       "    }\n",
       "\n",
       "    .dataframe tbody tr th {\n",
       "        vertical-align: top;\n",
       "    }\n",
       "</style>\n",
       "<table border=\"1\" class=\"dataframe\">\n",
       "  <thead>\n",
       "    <tr style=\"text-align: right;\">\n",
       "      <th></th>\n",
       "      <th>1% low-fat milk</th>\n",
       "      <th>active dry yeast</th>\n",
       "      <th>all purpose unbleached flour</th>\n",
       "      <th>all-purpose flour</th>\n",
       "      <th>allspice</th>\n",
       "      <th>almond extract</th>\n",
       "      <th>almonds</th>\n",
       "      <th>ancho chile pepper</th>\n",
       "      <th>anchovy fillets</th>\n",
       "      <th>andouille sausage</th>\n",
       "      <th>...</th>\n",
       "      <th>wonton wrappers</th>\n",
       "      <th>worcestershire sauce</th>\n",
       "      <th>yeast</th>\n",
       "      <th>yellow bell pepper</th>\n",
       "      <th>yellow corn meal</th>\n",
       "      <th>yellow onion</th>\n",
       "      <th>yellow squash</th>\n",
       "      <th>yoghurt</th>\n",
       "      <th>yukon gold potatoes</th>\n",
       "      <th>zucchini</th>\n",
       "    </tr>\n",
       "  </thead>\n",
       "  <tbody>\n",
       "    <tr>\n",
       "      <th>0</th>\n",
       "      <td>0</td>\n",
       "      <td>0</td>\n",
       "      <td>0</td>\n",
       "      <td>0</td>\n",
       "      <td>0</td>\n",
       "      <td>0</td>\n",
       "      <td>0</td>\n",
       "      <td>0</td>\n",
       "      <td>0</td>\n",
       "      <td>0</td>\n",
       "      <td>...</td>\n",
       "      <td>0</td>\n",
       "      <td>0</td>\n",
       "      <td>0</td>\n",
       "      <td>0</td>\n",
       "      <td>0</td>\n",
       "      <td>0</td>\n",
       "      <td>0</td>\n",
       "      <td>0</td>\n",
       "      <td>0</td>\n",
       "      <td>0</td>\n",
       "    </tr>\n",
       "    <tr>\n",
       "      <th>1</th>\n",
       "      <td>0</td>\n",
       "      <td>0</td>\n",
       "      <td>0</td>\n",
       "      <td>0</td>\n",
       "      <td>0</td>\n",
       "      <td>0</td>\n",
       "      <td>0</td>\n",
       "      <td>0</td>\n",
       "      <td>0</td>\n",
       "      <td>0</td>\n",
       "      <td>...</td>\n",
       "      <td>0</td>\n",
       "      <td>0</td>\n",
       "      <td>0</td>\n",
       "      <td>0</td>\n",
       "      <td>1</td>\n",
       "      <td>0</td>\n",
       "      <td>0</td>\n",
       "      <td>0</td>\n",
       "      <td>0</td>\n",
       "      <td>0</td>\n",
       "    </tr>\n",
       "    <tr>\n",
       "      <th>2</th>\n",
       "      <td>0</td>\n",
       "      <td>0</td>\n",
       "      <td>0</td>\n",
       "      <td>0</td>\n",
       "      <td>0</td>\n",
       "      <td>0</td>\n",
       "      <td>0</td>\n",
       "      <td>0</td>\n",
       "      <td>0</td>\n",
       "      <td>0</td>\n",
       "      <td>...</td>\n",
       "      <td>0</td>\n",
       "      <td>0</td>\n",
       "      <td>0</td>\n",
       "      <td>0</td>\n",
       "      <td>0</td>\n",
       "      <td>1</td>\n",
       "      <td>0</td>\n",
       "      <td>0</td>\n",
       "      <td>0</td>\n",
       "      <td>0</td>\n",
       "    </tr>\n",
       "    <tr>\n",
       "      <th>3</th>\n",
       "      <td>0</td>\n",
       "      <td>0</td>\n",
       "      <td>0</td>\n",
       "      <td>0</td>\n",
       "      <td>0</td>\n",
       "      <td>0</td>\n",
       "      <td>0</td>\n",
       "      <td>0</td>\n",
       "      <td>0</td>\n",
       "      <td>0</td>\n",
       "      <td>...</td>\n",
       "      <td>0</td>\n",
       "      <td>0</td>\n",
       "      <td>0</td>\n",
       "      <td>0</td>\n",
       "      <td>0</td>\n",
       "      <td>0</td>\n",
       "      <td>0</td>\n",
       "      <td>0</td>\n",
       "      <td>0</td>\n",
       "      <td>0</td>\n",
       "    </tr>\n",
       "    <tr>\n",
       "      <th>4</th>\n",
       "      <td>0</td>\n",
       "      <td>0</td>\n",
       "      <td>0</td>\n",
       "      <td>0</td>\n",
       "      <td>0</td>\n",
       "      <td>0</td>\n",
       "      <td>0</td>\n",
       "      <td>0</td>\n",
       "      <td>0</td>\n",
       "      <td>0</td>\n",
       "      <td>...</td>\n",
       "      <td>0</td>\n",
       "      <td>0</td>\n",
       "      <td>0</td>\n",
       "      <td>0</td>\n",
       "      <td>0</td>\n",
       "      <td>0</td>\n",
       "      <td>0</td>\n",
       "      <td>0</td>\n",
       "      <td>0</td>\n",
       "      <td>0</td>\n",
       "    </tr>\n",
       "    <tr>\n",
       "      <th>5</th>\n",
       "      <td>0</td>\n",
       "      <td>0</td>\n",
       "      <td>0</td>\n",
       "      <td>0</td>\n",
       "      <td>0</td>\n",
       "      <td>0</td>\n",
       "      <td>0</td>\n",
       "      <td>0</td>\n",
       "      <td>0</td>\n",
       "      <td>0</td>\n",
       "      <td>...</td>\n",
       "      <td>0</td>\n",
       "      <td>0</td>\n",
       "      <td>0</td>\n",
       "      <td>0</td>\n",
       "      <td>0</td>\n",
       "      <td>0</td>\n",
       "      <td>0</td>\n",
       "      <td>0</td>\n",
       "      <td>0</td>\n",
       "      <td>0</td>\n",
       "    </tr>\n",
       "    <tr>\n",
       "      <th>6</th>\n",
       "      <td>0</td>\n",
       "      <td>0</td>\n",
       "      <td>0</td>\n",
       "      <td>0</td>\n",
       "      <td>0</td>\n",
       "      <td>0</td>\n",
       "      <td>0</td>\n",
       "      <td>0</td>\n",
       "      <td>0</td>\n",
       "      <td>0</td>\n",
       "      <td>...</td>\n",
       "      <td>0</td>\n",
       "      <td>0</td>\n",
       "      <td>0</td>\n",
       "      <td>0</td>\n",
       "      <td>0</td>\n",
       "      <td>0</td>\n",
       "      <td>0</td>\n",
       "      <td>0</td>\n",
       "      <td>0</td>\n",
       "      <td>0</td>\n",
       "    </tr>\n",
       "    <tr>\n",
       "      <th>...</th>\n",
       "      <td>...</td>\n",
       "      <td>...</td>\n",
       "      <td>...</td>\n",
       "      <td>...</td>\n",
       "      <td>...</td>\n",
       "      <td>...</td>\n",
       "      <td>...</td>\n",
       "      <td>...</td>\n",
       "      <td>...</td>\n",
       "      <td>...</td>\n",
       "      <td>...</td>\n",
       "      <td>...</td>\n",
       "      <td>...</td>\n",
       "      <td>...</td>\n",
       "      <td>...</td>\n",
       "      <td>...</td>\n",
       "      <td>...</td>\n",
       "      <td>...</td>\n",
       "      <td>...</td>\n",
       "      <td>...</td>\n",
       "      <td>...</td>\n",
       "    </tr>\n",
       "    <tr>\n",
       "      <th>39767</th>\n",
       "      <td>0</td>\n",
       "      <td>0</td>\n",
       "      <td>0</td>\n",
       "      <td>0</td>\n",
       "      <td>0</td>\n",
       "      <td>0</td>\n",
       "      <td>0</td>\n",
       "      <td>0</td>\n",
       "      <td>0</td>\n",
       "      <td>0</td>\n",
       "      <td>...</td>\n",
       "      <td>0</td>\n",
       "      <td>0</td>\n",
       "      <td>0</td>\n",
       "      <td>0</td>\n",
       "      <td>0</td>\n",
       "      <td>0</td>\n",
       "      <td>0</td>\n",
       "      <td>0</td>\n",
       "      <td>0</td>\n",
       "      <td>0</td>\n",
       "    </tr>\n",
       "    <tr>\n",
       "      <th>39768</th>\n",
       "      <td>0</td>\n",
       "      <td>0</td>\n",
       "      <td>0</td>\n",
       "      <td>0</td>\n",
       "      <td>0</td>\n",
       "      <td>0</td>\n",
       "      <td>0</td>\n",
       "      <td>0</td>\n",
       "      <td>0</td>\n",
       "      <td>0</td>\n",
       "      <td>...</td>\n",
       "      <td>0</td>\n",
       "      <td>0</td>\n",
       "      <td>0</td>\n",
       "      <td>0</td>\n",
       "      <td>0</td>\n",
       "      <td>0</td>\n",
       "      <td>0</td>\n",
       "      <td>0</td>\n",
       "      <td>0</td>\n",
       "      <td>0</td>\n",
       "    </tr>\n",
       "    <tr>\n",
       "      <th>39769</th>\n",
       "      <td>0</td>\n",
       "      <td>0</td>\n",
       "      <td>0</td>\n",
       "      <td>1</td>\n",
       "      <td>0</td>\n",
       "      <td>0</td>\n",
       "      <td>0</td>\n",
       "      <td>0</td>\n",
       "      <td>0</td>\n",
       "      <td>0</td>\n",
       "      <td>...</td>\n",
       "      <td>0</td>\n",
       "      <td>0</td>\n",
       "      <td>0</td>\n",
       "      <td>0</td>\n",
       "      <td>0</td>\n",
       "      <td>0</td>\n",
       "      <td>0</td>\n",
       "      <td>0</td>\n",
       "      <td>0</td>\n",
       "      <td>0</td>\n",
       "    </tr>\n",
       "    <tr>\n",
       "      <th>39770</th>\n",
       "      <td>0</td>\n",
       "      <td>0</td>\n",
       "      <td>0</td>\n",
       "      <td>0</td>\n",
       "      <td>0</td>\n",
       "      <td>0</td>\n",
       "      <td>0</td>\n",
       "      <td>0</td>\n",
       "      <td>0</td>\n",
       "      <td>0</td>\n",
       "      <td>...</td>\n",
       "      <td>0</td>\n",
       "      <td>0</td>\n",
       "      <td>0</td>\n",
       "      <td>0</td>\n",
       "      <td>0</td>\n",
       "      <td>0</td>\n",
       "      <td>0</td>\n",
       "      <td>0</td>\n",
       "      <td>0</td>\n",
       "      <td>0</td>\n",
       "    </tr>\n",
       "    <tr>\n",
       "      <th>39771</th>\n",
       "      <td>0</td>\n",
       "      <td>0</td>\n",
       "      <td>0</td>\n",
       "      <td>0</td>\n",
       "      <td>0</td>\n",
       "      <td>0</td>\n",
       "      <td>0</td>\n",
       "      <td>0</td>\n",
       "      <td>0</td>\n",
       "      <td>0</td>\n",
       "      <td>...</td>\n",
       "      <td>0</td>\n",
       "      <td>0</td>\n",
       "      <td>0</td>\n",
       "      <td>0</td>\n",
       "      <td>0</td>\n",
       "      <td>0</td>\n",
       "      <td>0</td>\n",
       "      <td>0</td>\n",
       "      <td>0</td>\n",
       "      <td>0</td>\n",
       "    </tr>\n",
       "    <tr>\n",
       "      <th>39772</th>\n",
       "      <td>0</td>\n",
       "      <td>0</td>\n",
       "      <td>0</td>\n",
       "      <td>0</td>\n",
       "      <td>0</td>\n",
       "      <td>0</td>\n",
       "      <td>0</td>\n",
       "      <td>0</td>\n",
       "      <td>0</td>\n",
       "      <td>0</td>\n",
       "      <td>...</td>\n",
       "      <td>0</td>\n",
       "      <td>0</td>\n",
       "      <td>0</td>\n",
       "      <td>0</td>\n",
       "      <td>0</td>\n",
       "      <td>0</td>\n",
       "      <td>0</td>\n",
       "      <td>0</td>\n",
       "      <td>0</td>\n",
       "      <td>0</td>\n",
       "    </tr>\n",
       "    <tr>\n",
       "      <th>39773</th>\n",
       "      <td>0</td>\n",
       "      <td>0</td>\n",
       "      <td>0</td>\n",
       "      <td>0</td>\n",
       "      <td>0</td>\n",
       "      <td>0</td>\n",
       "      <td>0</td>\n",
       "      <td>0</td>\n",
       "      <td>0</td>\n",
       "      <td>0</td>\n",
       "      <td>...</td>\n",
       "      <td>0</td>\n",
       "      <td>0</td>\n",
       "      <td>0</td>\n",
       "      <td>0</td>\n",
       "      <td>0</td>\n",
       "      <td>0</td>\n",
       "      <td>0</td>\n",
       "      <td>0</td>\n",
       "      <td>0</td>\n",
       "      <td>0</td>\n",
       "    </tr>\n",
       "  </tbody>\n",
       "</table>\n",
       "<p>39774 rows × 650 columns</p>\n",
       "</div>"
      ],
      "text/plain": [
       "       1% low-fat milk  active dry yeast  all purpose unbleached flour  \\\n",
       "0                    0                 0                             0   \n",
       "1                    0                 0                             0   \n",
       "2                    0                 0                             0   \n",
       "3                    0                 0                             0   \n",
       "4                    0                 0                             0   \n",
       "5                    0                 0                             0   \n",
       "6                    0                 0                             0   \n",
       "...                ...               ...                           ...   \n",
       "39767                0                 0                             0   \n",
       "39768                0                 0                             0   \n",
       "39769                0                 0                             0   \n",
       "39770                0                 0                             0   \n",
       "39771                0                 0                             0   \n",
       "39772                0                 0                             0   \n",
       "39773                0                 0                             0   \n",
       "\n",
       "       all-purpose flour  allspice  almond extract  almonds  \\\n",
       "0                      0         0               0        0   \n",
       "1                      0         0               0        0   \n",
       "2                      0         0               0        0   \n",
       "3                      0         0               0        0   \n",
       "4                      0         0               0        0   \n",
       "5                      0         0               0        0   \n",
       "6                      0         0               0        0   \n",
       "...                  ...       ...             ...      ...   \n",
       "39767                  0         0               0        0   \n",
       "39768                  0         0               0        0   \n",
       "39769                  1         0               0        0   \n",
       "39770                  0         0               0        0   \n",
       "39771                  0         0               0        0   \n",
       "39772                  0         0               0        0   \n",
       "39773                  0         0               0        0   \n",
       "\n",
       "       ancho chile pepper  anchovy fillets  andouille sausage    ...     \\\n",
       "0                       0                0                  0    ...      \n",
       "1                       0                0                  0    ...      \n",
       "2                       0                0                  0    ...      \n",
       "3                       0                0                  0    ...      \n",
       "4                       0                0                  0    ...      \n",
       "5                       0                0                  0    ...      \n",
       "6                       0                0                  0    ...      \n",
       "...                   ...              ...                ...    ...      \n",
       "39767                   0                0                  0    ...      \n",
       "39768                   0                0                  0    ...      \n",
       "39769                   0                0                  0    ...      \n",
       "39770                   0                0                  0    ...      \n",
       "39771                   0                0                  0    ...      \n",
       "39772                   0                0                  0    ...      \n",
       "39773                   0                0                  0    ...      \n",
       "\n",
       "       wonton wrappers  worcestershire sauce  yeast  yellow bell pepper  \\\n",
       "0                    0                     0      0                   0   \n",
       "1                    0                     0      0                   0   \n",
       "2                    0                     0      0                   0   \n",
       "3                    0                     0      0                   0   \n",
       "4                    0                     0      0                   0   \n",
       "5                    0                     0      0                   0   \n",
       "6                    0                     0      0                   0   \n",
       "...                ...                   ...    ...                 ...   \n",
       "39767                0                     0      0                   0   \n",
       "39768                0                     0      0                   0   \n",
       "39769                0                     0      0                   0   \n",
       "39770                0                     0      0                   0   \n",
       "39771                0                     0      0                   0   \n",
       "39772                0                     0      0                   0   \n",
       "39773                0                     0      0                   0   \n",
       "\n",
       "       yellow corn meal  yellow onion  yellow squash  yoghurt  \\\n",
       "0                     0             0              0        0   \n",
       "1                     1             0              0        0   \n",
       "2                     0             1              0        0   \n",
       "3                     0             0              0        0   \n",
       "4                     0             0              0        0   \n",
       "5                     0             0              0        0   \n",
       "6                     0             0              0        0   \n",
       "...                 ...           ...            ...      ...   \n",
       "39767                 0             0              0        0   \n",
       "39768                 0             0              0        0   \n",
       "39769                 0             0              0        0   \n",
       "39770                 0             0              0        0   \n",
       "39771                 0             0              0        0   \n",
       "39772                 0             0              0        0   \n",
       "39773                 0             0              0        0   \n",
       "\n",
       "       yukon gold potatoes  zucchini  \n",
       "0                        0         0  \n",
       "1                        0         0  \n",
       "2                        0         0  \n",
       "3                        0         0  \n",
       "4                        0         0  \n",
       "5                        0         0  \n",
       "6                        0         0  \n",
       "...                    ...       ...  \n",
       "39767                    0         0  \n",
       "39768                    0         0  \n",
       "39769                    0         0  \n",
       "39770                    0         0  \n",
       "39771                    0         0  \n",
       "39772                    0         0  \n",
       "39773                    0         0  \n",
       "\n",
       "[39774 rows x 650 columns]"
      ]
     },
     "execution_count": 253,
     "metadata": {},
     "output_type": "execute_result"
    }
   ],
   "source": [
    "df_igt"
   ]
  },
  {
   "cell_type": "markdown",
   "metadata": {},
   "source": [
    "### Merge the ingredient vocabulary with cuisine dataframe "
   ]
  },
  {
   "cell_type": "markdown",
   "metadata": {},
   "source": [
    "##### Checks one cuisine to make sure each row in df_igt is the corresponding ingredients for each row in df_train"
   ]
  },
  {
   "cell_type": "code",
   "execution_count": 255,
   "metadata": {},
   "outputs": [
    {
     "data": {
      "text/plain": [
       "'eggs,pepper,salt,mayonaise,cooking oil,green chilies,grilled chicken breasts,garlic powder,yellow onion,soy sauce,butter,chicken livers'"
      ]
     },
     "execution_count": 255,
     "metadata": {},
     "output_type": "execute_result"
    }
   ],
   "source": [
    "df.iloc[2,2]"
   ]
  },
  {
   "cell_type": "code",
   "execution_count": 256,
   "metadata": {},
   "outputs": [
    {
     "data": {
      "text/plain": [
       "True"
      ]
     },
     "execution_count": 256,
     "metadata": {},
     "output_type": "execute_result"
    }
   ],
   "source": [
    "# All matches except for 'grilled chicken breasts' and 'chicken livers' which is not in the ingredients vocab \n",
    "# due to its lower-than-100 frequency in all cuisines\n",
    "df_igt.loc[2,'eggs'] == 1\n",
    "# df_igt.loc[2,'pepper'] == 1\n",
    "# df_igt.loc[2,'mayonaise'] == 1\n",
    "# df_igt.loc[2,'cooking oil'] == 1\n",
    "# df_igt.loc[2,'green chilies'] == 1\n",
    "# df_igt.loc[2,'butter'] == 1"
   ]
  },
  {
   "cell_type": "code",
   "execution_count": 24,
   "metadata": {
    "collapsed": true
   },
   "outputs": [],
   "source": [
    "df.reset_index(drop=True, inplace=True)\n",
    "df_igt.reset_index(drop=True, inplace=True)\n",
    "df_cuisine = pd.concat([df, df_igt], axis=1)"
   ]
  },
  {
   "cell_type": "code",
   "execution_count": 25,
   "metadata": {},
   "outputs": [
    {
     "data": {
      "text/plain": [
       "Index(['cuisine', 'id', 'ingredients', '1% low-fat milk', 'active dry yeast',\n",
       "       'all purpose unbleached flour', 'all-purpose flour', 'allspice',\n",
       "       'almond extract', 'almonds',\n",
       "       ...\n",
       "       'wonton wrappers', 'worcestershire sauce', 'yeast',\n",
       "       'yellow bell pepper', 'yellow corn meal', 'yellow onion',\n",
       "       'yellow squash', 'yoghurt', 'yukon gold potatoes', 'zucchini'],\n",
       "      dtype='object', length=653)"
      ]
     },
     "execution_count": 25,
     "metadata": {},
     "output_type": "execute_result"
    }
   ],
   "source": [
    "df_cuisine.columns"
   ]
  },
  {
   "cell_type": "markdown",
   "metadata": {},
   "source": [
    "### Cleaning & Further Categorizing Ingredients (test on a small subset) "
   ]
  },
  {
   "cell_type": "code",
   "execution_count": 26,
   "metadata": {
    "collapsed": true
   },
   "outputs": [],
   "source": [
    "df_small = df_cuisine.iloc[780:800,3:30]"
   ]
  },
  {
   "cell_type": "code",
   "execution_count": 27,
   "metadata": {},
   "outputs": [
    {
     "data": {
      "text/html": [
       "<div>\n",
       "<style>\n",
       "    .dataframe thead tr:only-child th {\n",
       "        text-align: right;\n",
       "    }\n",
       "\n",
       "    .dataframe thead th {\n",
       "        text-align: left;\n",
       "    }\n",
       "\n",
       "    .dataframe tbody tr th {\n",
       "        vertical-align: top;\n",
       "    }\n",
       "</style>\n",
       "<table border=\"1\" class=\"dataframe\">\n",
       "  <thead>\n",
       "    <tr style=\"text-align: right;\">\n",
       "      <th></th>\n",
       "      <th>1% low-fat milk</th>\n",
       "      <th>active dry yeast</th>\n",
       "      <th>all purpose unbleached flour</th>\n",
       "      <th>all-purpose flour</th>\n",
       "      <th>allspice</th>\n",
       "      <th>almond extract</th>\n",
       "      <th>almonds</th>\n",
       "      <th>ancho chile pepper</th>\n",
       "      <th>anchovy fillets</th>\n",
       "      <th>andouille sausage</th>\n",
       "      <th>...</th>\n",
       "      <th>avocado</th>\n",
       "      <th>baby spinach</th>\n",
       "      <th>baby spinach leaves</th>\n",
       "      <th>bacon</th>\n",
       "      <th>bacon slices</th>\n",
       "      <th>baguette</th>\n",
       "      <th>baking potatoes</th>\n",
       "      <th>baking powder</th>\n",
       "      <th>baking soda</th>\n",
       "      <th>balsamic vinegar</th>\n",
       "    </tr>\n",
       "  </thead>\n",
       "  <tbody>\n",
       "    <tr>\n",
       "      <th>780</th>\n",
       "      <td>0</td>\n",
       "      <td>0</td>\n",
       "      <td>0</td>\n",
       "      <td>1</td>\n",
       "      <td>0</td>\n",
       "      <td>0</td>\n",
       "      <td>0</td>\n",
       "      <td>0</td>\n",
       "      <td>0</td>\n",
       "      <td>0</td>\n",
       "      <td>...</td>\n",
       "      <td>0</td>\n",
       "      <td>0</td>\n",
       "      <td>0</td>\n",
       "      <td>0</td>\n",
       "      <td>0</td>\n",
       "      <td>0</td>\n",
       "      <td>0</td>\n",
       "      <td>0</td>\n",
       "      <td>0</td>\n",
       "      <td>0</td>\n",
       "    </tr>\n",
       "    <tr>\n",
       "      <th>781</th>\n",
       "      <td>0</td>\n",
       "      <td>0</td>\n",
       "      <td>0</td>\n",
       "      <td>0</td>\n",
       "      <td>0</td>\n",
       "      <td>0</td>\n",
       "      <td>0</td>\n",
       "      <td>0</td>\n",
       "      <td>0</td>\n",
       "      <td>0</td>\n",
       "      <td>...</td>\n",
       "      <td>0</td>\n",
       "      <td>0</td>\n",
       "      <td>0</td>\n",
       "      <td>0</td>\n",
       "      <td>0</td>\n",
       "      <td>0</td>\n",
       "      <td>0</td>\n",
       "      <td>0</td>\n",
       "      <td>0</td>\n",
       "      <td>0</td>\n",
       "    </tr>\n",
       "    <tr>\n",
       "      <th>782</th>\n",
       "      <td>0</td>\n",
       "      <td>0</td>\n",
       "      <td>0</td>\n",
       "      <td>0</td>\n",
       "      <td>0</td>\n",
       "      <td>0</td>\n",
       "      <td>0</td>\n",
       "      <td>0</td>\n",
       "      <td>0</td>\n",
       "      <td>0</td>\n",
       "      <td>...</td>\n",
       "      <td>0</td>\n",
       "      <td>0</td>\n",
       "      <td>0</td>\n",
       "      <td>0</td>\n",
       "      <td>0</td>\n",
       "      <td>0</td>\n",
       "      <td>0</td>\n",
       "      <td>0</td>\n",
       "      <td>0</td>\n",
       "      <td>0</td>\n",
       "    </tr>\n",
       "    <tr>\n",
       "      <th>783</th>\n",
       "      <td>0</td>\n",
       "      <td>0</td>\n",
       "      <td>0</td>\n",
       "      <td>0</td>\n",
       "      <td>0</td>\n",
       "      <td>0</td>\n",
       "      <td>0</td>\n",
       "      <td>0</td>\n",
       "      <td>0</td>\n",
       "      <td>0</td>\n",
       "      <td>...</td>\n",
       "      <td>1</td>\n",
       "      <td>0</td>\n",
       "      <td>0</td>\n",
       "      <td>0</td>\n",
       "      <td>0</td>\n",
       "      <td>0</td>\n",
       "      <td>0</td>\n",
       "      <td>1</td>\n",
       "      <td>0</td>\n",
       "      <td>0</td>\n",
       "    </tr>\n",
       "    <tr>\n",
       "      <th>784</th>\n",
       "      <td>0</td>\n",
       "      <td>0</td>\n",
       "      <td>0</td>\n",
       "      <td>0</td>\n",
       "      <td>0</td>\n",
       "      <td>0</td>\n",
       "      <td>0</td>\n",
       "      <td>0</td>\n",
       "      <td>0</td>\n",
       "      <td>0</td>\n",
       "      <td>...</td>\n",
       "      <td>0</td>\n",
       "      <td>0</td>\n",
       "      <td>0</td>\n",
       "      <td>0</td>\n",
       "      <td>0</td>\n",
       "      <td>0</td>\n",
       "      <td>0</td>\n",
       "      <td>0</td>\n",
       "      <td>0</td>\n",
       "      <td>0</td>\n",
       "    </tr>\n",
       "    <tr>\n",
       "      <th>785</th>\n",
       "      <td>0</td>\n",
       "      <td>0</td>\n",
       "      <td>0</td>\n",
       "      <td>0</td>\n",
       "      <td>0</td>\n",
       "      <td>0</td>\n",
       "      <td>0</td>\n",
       "      <td>0</td>\n",
       "      <td>0</td>\n",
       "      <td>0</td>\n",
       "      <td>...</td>\n",
       "      <td>0</td>\n",
       "      <td>0</td>\n",
       "      <td>0</td>\n",
       "      <td>0</td>\n",
       "      <td>0</td>\n",
       "      <td>0</td>\n",
       "      <td>0</td>\n",
       "      <td>0</td>\n",
       "      <td>0</td>\n",
       "      <td>0</td>\n",
       "    </tr>\n",
       "    <tr>\n",
       "      <th>786</th>\n",
       "      <td>0</td>\n",
       "      <td>0</td>\n",
       "      <td>0</td>\n",
       "      <td>0</td>\n",
       "      <td>0</td>\n",
       "      <td>0</td>\n",
       "      <td>0</td>\n",
       "      <td>0</td>\n",
       "      <td>0</td>\n",
       "      <td>0</td>\n",
       "      <td>...</td>\n",
       "      <td>0</td>\n",
       "      <td>0</td>\n",
       "      <td>0</td>\n",
       "      <td>0</td>\n",
       "      <td>0</td>\n",
       "      <td>0</td>\n",
       "      <td>0</td>\n",
       "      <td>0</td>\n",
       "      <td>0</td>\n",
       "      <td>0</td>\n",
       "    </tr>\n",
       "    <tr>\n",
       "      <th>...</th>\n",
       "      <td>...</td>\n",
       "      <td>...</td>\n",
       "      <td>...</td>\n",
       "      <td>...</td>\n",
       "      <td>...</td>\n",
       "      <td>...</td>\n",
       "      <td>...</td>\n",
       "      <td>...</td>\n",
       "      <td>...</td>\n",
       "      <td>...</td>\n",
       "      <td>...</td>\n",
       "      <td>...</td>\n",
       "      <td>...</td>\n",
       "      <td>...</td>\n",
       "      <td>...</td>\n",
       "      <td>...</td>\n",
       "      <td>...</td>\n",
       "      <td>...</td>\n",
       "      <td>...</td>\n",
       "      <td>...</td>\n",
       "      <td>...</td>\n",
       "    </tr>\n",
       "    <tr>\n",
       "      <th>793</th>\n",
       "      <td>0</td>\n",
       "      <td>0</td>\n",
       "      <td>0</td>\n",
       "      <td>0</td>\n",
       "      <td>0</td>\n",
       "      <td>0</td>\n",
       "      <td>0</td>\n",
       "      <td>0</td>\n",
       "      <td>0</td>\n",
       "      <td>0</td>\n",
       "      <td>...</td>\n",
       "      <td>0</td>\n",
       "      <td>0</td>\n",
       "      <td>0</td>\n",
       "      <td>0</td>\n",
       "      <td>0</td>\n",
       "      <td>0</td>\n",
       "      <td>0</td>\n",
       "      <td>0</td>\n",
       "      <td>0</td>\n",
       "      <td>0</td>\n",
       "    </tr>\n",
       "    <tr>\n",
       "      <th>794</th>\n",
       "      <td>0</td>\n",
       "      <td>0</td>\n",
       "      <td>0</td>\n",
       "      <td>0</td>\n",
       "      <td>0</td>\n",
       "      <td>0</td>\n",
       "      <td>0</td>\n",
       "      <td>0</td>\n",
       "      <td>0</td>\n",
       "      <td>0</td>\n",
       "      <td>...</td>\n",
       "      <td>0</td>\n",
       "      <td>0</td>\n",
       "      <td>0</td>\n",
       "      <td>0</td>\n",
       "      <td>0</td>\n",
       "      <td>0</td>\n",
       "      <td>0</td>\n",
       "      <td>0</td>\n",
       "      <td>0</td>\n",
       "      <td>0</td>\n",
       "    </tr>\n",
       "    <tr>\n",
       "      <th>795</th>\n",
       "      <td>0</td>\n",
       "      <td>0</td>\n",
       "      <td>0</td>\n",
       "      <td>0</td>\n",
       "      <td>0</td>\n",
       "      <td>0</td>\n",
       "      <td>0</td>\n",
       "      <td>0</td>\n",
       "      <td>0</td>\n",
       "      <td>0</td>\n",
       "      <td>...</td>\n",
       "      <td>0</td>\n",
       "      <td>1</td>\n",
       "      <td>0</td>\n",
       "      <td>0</td>\n",
       "      <td>0</td>\n",
       "      <td>0</td>\n",
       "      <td>0</td>\n",
       "      <td>0</td>\n",
       "      <td>0</td>\n",
       "      <td>0</td>\n",
       "    </tr>\n",
       "    <tr>\n",
       "      <th>796</th>\n",
       "      <td>0</td>\n",
       "      <td>0</td>\n",
       "      <td>0</td>\n",
       "      <td>0</td>\n",
       "      <td>0</td>\n",
       "      <td>0</td>\n",
       "      <td>0</td>\n",
       "      <td>0</td>\n",
       "      <td>0</td>\n",
       "      <td>0</td>\n",
       "      <td>...</td>\n",
       "      <td>0</td>\n",
       "      <td>0</td>\n",
       "      <td>0</td>\n",
       "      <td>0</td>\n",
       "      <td>0</td>\n",
       "      <td>0</td>\n",
       "      <td>0</td>\n",
       "      <td>1</td>\n",
       "      <td>1</td>\n",
       "      <td>0</td>\n",
       "    </tr>\n",
       "    <tr>\n",
       "      <th>797</th>\n",
       "      <td>0</td>\n",
       "      <td>0</td>\n",
       "      <td>0</td>\n",
       "      <td>0</td>\n",
       "      <td>0</td>\n",
       "      <td>0</td>\n",
       "      <td>0</td>\n",
       "      <td>0</td>\n",
       "      <td>0</td>\n",
       "      <td>0</td>\n",
       "      <td>...</td>\n",
       "      <td>0</td>\n",
       "      <td>0</td>\n",
       "      <td>1</td>\n",
       "      <td>0</td>\n",
       "      <td>0</td>\n",
       "      <td>0</td>\n",
       "      <td>0</td>\n",
       "      <td>0</td>\n",
       "      <td>0</td>\n",
       "      <td>1</td>\n",
       "    </tr>\n",
       "    <tr>\n",
       "      <th>798</th>\n",
       "      <td>0</td>\n",
       "      <td>0</td>\n",
       "      <td>0</td>\n",
       "      <td>0</td>\n",
       "      <td>0</td>\n",
       "      <td>0</td>\n",
       "      <td>0</td>\n",
       "      <td>0</td>\n",
       "      <td>0</td>\n",
       "      <td>0</td>\n",
       "      <td>...</td>\n",
       "      <td>0</td>\n",
       "      <td>0</td>\n",
       "      <td>0</td>\n",
       "      <td>0</td>\n",
       "      <td>0</td>\n",
       "      <td>0</td>\n",
       "      <td>0</td>\n",
       "      <td>0</td>\n",
       "      <td>0</td>\n",
       "      <td>0</td>\n",
       "    </tr>\n",
       "    <tr>\n",
       "      <th>799</th>\n",
       "      <td>0</td>\n",
       "      <td>0</td>\n",
       "      <td>0</td>\n",
       "      <td>0</td>\n",
       "      <td>0</td>\n",
       "      <td>0</td>\n",
       "      <td>0</td>\n",
       "      <td>0</td>\n",
       "      <td>0</td>\n",
       "      <td>0</td>\n",
       "      <td>...</td>\n",
       "      <td>0</td>\n",
       "      <td>0</td>\n",
       "      <td>0</td>\n",
       "      <td>0</td>\n",
       "      <td>0</td>\n",
       "      <td>0</td>\n",
       "      <td>1</td>\n",
       "      <td>0</td>\n",
       "      <td>0</td>\n",
       "      <td>0</td>\n",
       "    </tr>\n",
       "  </tbody>\n",
       "</table>\n",
       "<p>20 rows × 27 columns</p>\n",
       "</div>"
      ],
      "text/plain": [
       "     1% low-fat milk  active dry yeast  all purpose unbleached flour  \\\n",
       "780                0                 0                             0   \n",
       "781                0                 0                             0   \n",
       "782                0                 0                             0   \n",
       "783                0                 0                             0   \n",
       "784                0                 0                             0   \n",
       "785                0                 0                             0   \n",
       "786                0                 0                             0   \n",
       "..               ...               ...                           ...   \n",
       "793                0                 0                             0   \n",
       "794                0                 0                             0   \n",
       "795                0                 0                             0   \n",
       "796                0                 0                             0   \n",
       "797                0                 0                             0   \n",
       "798                0                 0                             0   \n",
       "799                0                 0                             0   \n",
       "\n",
       "     all-purpose flour  allspice  almond extract  almonds  ancho chile pepper  \\\n",
       "780                  1         0               0        0                   0   \n",
       "781                  0         0               0        0                   0   \n",
       "782                  0         0               0        0                   0   \n",
       "783                  0         0               0        0                   0   \n",
       "784                  0         0               0        0                   0   \n",
       "785                  0         0               0        0                   0   \n",
       "786                  0         0               0        0                   0   \n",
       "..                 ...       ...             ...      ...                 ...   \n",
       "793                  0         0               0        0                   0   \n",
       "794                  0         0               0        0                   0   \n",
       "795                  0         0               0        0                   0   \n",
       "796                  0         0               0        0                   0   \n",
       "797                  0         0               0        0                   0   \n",
       "798                  0         0               0        0                   0   \n",
       "799                  0         0               0        0                   0   \n",
       "\n",
       "     anchovy fillets  andouille sausage        ...         avocado  \\\n",
       "780                0                  0        ...               0   \n",
       "781                0                  0        ...               0   \n",
       "782                0                  0        ...               0   \n",
       "783                0                  0        ...               1   \n",
       "784                0                  0        ...               0   \n",
       "785                0                  0        ...               0   \n",
       "786                0                  0        ...               0   \n",
       "..               ...                ...        ...             ...   \n",
       "793                0                  0        ...               0   \n",
       "794                0                  0        ...               0   \n",
       "795                0                  0        ...               0   \n",
       "796                0                  0        ...               0   \n",
       "797                0                  0        ...               0   \n",
       "798                0                  0        ...               0   \n",
       "799                0                  0        ...               0   \n",
       "\n",
       "     baby spinach  baby spinach leaves  bacon  bacon slices  baguette  \\\n",
       "780             0                    0      0             0         0   \n",
       "781             0                    0      0             0         0   \n",
       "782             0                    0      0             0         0   \n",
       "783             0                    0      0             0         0   \n",
       "784             0                    0      0             0         0   \n",
       "785             0                    0      0             0         0   \n",
       "786             0                    0      0             0         0   \n",
       "..            ...                  ...    ...           ...       ...   \n",
       "793             0                    0      0             0         0   \n",
       "794             0                    0      0             0         0   \n",
       "795             1                    0      0             0         0   \n",
       "796             0                    0      0             0         0   \n",
       "797             0                    1      0             0         0   \n",
       "798             0                    0      0             0         0   \n",
       "799             0                    0      0             0         0   \n",
       "\n",
       "     baking potatoes  baking powder  baking soda  balsamic vinegar  \n",
       "780                0              0            0                 0  \n",
       "781                0              0            0                 0  \n",
       "782                0              0            0                 0  \n",
       "783                0              1            0                 0  \n",
       "784                0              0            0                 0  \n",
       "785                0              0            0                 0  \n",
       "786                0              0            0                 0  \n",
       "..               ...            ...          ...               ...  \n",
       "793                0              0            0                 0  \n",
       "794                0              0            0                 0  \n",
       "795                0              0            0                 0  \n",
       "796                0              1            1                 0  \n",
       "797                0              0            0                 1  \n",
       "798                0              0            0                 0  \n",
       "799                1              0            0                 0  \n",
       "\n",
       "[20 rows x 27 columns]"
      ]
     },
     "execution_count": 27,
     "metadata": {},
     "output_type": "execute_result"
    }
   ],
   "source": [
    "df_small"
   ]
  },
  {
   "cell_type": "code",
   "execution_count": 28,
   "metadata": {},
   "outputs": [
    {
     "name": "stdout",
     "output_type": "stream",
     "text": [
      "all purpose unbleached flour all-purpose flour\n",
      "baby spinach baby spinach leaves\n",
      "bacon bacon slices\n"
     ]
    }
   ],
   "source": [
    "# checks consecutive columns that should be merged into one column \n",
    "# - one ingredient with two names\n",
    "choices = df_small.columns \n",
    "for i in range(0,len(choices)-2):\n",
    "    score = fuzz.token_set_ratio(df_small.columns[i],df_small.columns[(i+1)])\n",
    "    if score == 100:\n",
    "        print(df_small.columns[i],df_small.columns[(i+1)])"
   ]
  },
  {
   "cell_type": "code",
   "execution_count": 29,
   "metadata": {},
   "outputs": [
    {
     "data": {
      "text/plain": [
       "100"
      ]
     },
     "execution_count": 29,
     "metadata": {},
     "output_type": "execute_result"
    }
   ],
   "source": [
    "fuzz.token_set_ratio(\"all purpose unbleached flour\",'all-purpose flour')"
   ]
  },
  {
   "cell_type": "code",
   "execution_count": 30,
   "metadata": {},
   "outputs": [
    {
     "data": {
      "text/plain": [
       "100"
      ]
     },
     "execution_count": 30,
     "metadata": {},
     "output_type": "execute_result"
    }
   ],
   "source": [
    "fuzz.token_set_ratio(\"bacon\",'bacon slices')"
   ]
  },
  {
   "cell_type": "code",
   "execution_count": 31,
   "metadata": {
    "collapsed": true
   },
   "outputs": [],
   "source": [
    "# Merges consecutive columns representing the same ingredients into one column\n",
    "try: \n",
    "    for i in range(0,len(choices)-2):\n",
    "        score = fuzz.token_set_ratio(df_small.columns[i],df_small.columns[(i+1)])\n",
    "        if score == 100:\n",
    "            df_small[df_small.columns[i]] = df_small[[df_small.columns[i], df_small.columns[i+1]]].sum(axis=1)\n",
    "            column2 = df_small.columns[i+1]\n",
    "            df_small.drop([column2],axis = 1,inplace=True)\n",
    "except IndexError:\n",
    "    pass "
   ]
  },
  {
   "cell_type": "code",
   "execution_count": 32,
   "metadata": {},
   "outputs": [
    {
     "data": {
      "text/plain": [
       "Index(['1% low-fat milk', 'active dry yeast', 'all purpose unbleached flour',\n",
       "       'allspice', 'almond extract', 'almonds', 'ancho chile pepper',\n",
       "       'anchovy fillets', 'andouille sausage', 'apple cider vinegar', 'apples',\n",
       "       'arborio rice', 'artichoke hearts', 'arugula', 'asian fish sauce',\n",
       "       'asparagus', 'avocado', 'baby spinach', 'bacon', 'baguette',\n",
       "       'baking potatoes', 'baking powder', 'baking soda', 'balsamic vinegar'],\n",
       "      dtype='object')"
      ]
     },
     "execution_count": 32,
     "metadata": {},
     "output_type": "execute_result"
    }
   ],
   "source": [
    "# Check to make sure duplicated columns are dropped while values for columns kept are updated\n",
    "df_small.columns"
   ]
  },
  {
   "cell_type": "code",
   "execution_count": 33,
   "metadata": {},
   "outputs": [
    {
     "name": "stdout",
     "output_type": "stream",
     "text": [
      "<class 'pandas.core.frame.DataFrame'>\n",
      "RangeIndex: 20 entries, 780 to 799\n",
      "Data columns (total 24 columns):\n",
      "1% low-fat milk                 20 non-null int64\n",
      "active dry yeast                20 non-null int64\n",
      "all purpose unbleached flour    20 non-null int64\n",
      "allspice                        20 non-null int64\n",
      "almond extract                  20 non-null int64\n",
      "almonds                         20 non-null int64\n",
      "ancho chile pepper              20 non-null int64\n",
      "anchovy fillets                 20 non-null int64\n",
      "andouille sausage               20 non-null int64\n",
      "apple cider vinegar             20 non-null int64\n",
      "apples                          20 non-null int64\n",
      "arborio rice                    20 non-null int64\n",
      "artichoke hearts                20 non-null int64\n",
      "arugula                         20 non-null int64\n",
      "asian fish sauce                20 non-null int64\n",
      "asparagus                       20 non-null int64\n",
      "avocado                         20 non-null int64\n",
      "baby spinach                    20 non-null int64\n",
      "bacon                           20 non-null int64\n",
      "baguette                        20 non-null int64\n",
      "baking potatoes                 20 non-null int64\n",
      "baking powder                   20 non-null int64\n",
      "baking soda                     20 non-null int64\n",
      "balsamic vinegar                20 non-null int64\n",
      "dtypes: int64(24)\n",
      "memory usage: 3.8 KB\n"
     ]
    }
   ],
   "source": [
    "df_small.info()"
   ]
  },
  {
   "cell_type": "code",
   "execution_count": 34,
   "metadata": {},
   "outputs": [
    {
     "data": {
      "text/plain": [
       "780    1\n",
       "781    0\n",
       "782    0\n",
       "783    0\n",
       "784    0\n",
       "785    0\n",
       "786    0\n",
       "      ..\n",
       "793    0\n",
       "794    0\n",
       "795    0\n",
       "796    0\n",
       "797    0\n",
       "798    0\n",
       "799    0\n",
       "Name: all purpose unbleached flour, Length: 20, dtype: int64"
      ]
     },
     "execution_count": 34,
     "metadata": {},
     "output_type": "execute_result"
    }
   ],
   "source": [
    "# Before the merging, 'all purpose unbleached flour' has all 0s, now its first row  is 1,\n",
    "# which confirms the success of the merging \n",
    "df_small['all purpose unbleached flour']"
   ]
  },
  {
   "cell_type": "markdown",
   "metadata": {},
   "source": [
    "### Cleaning & Further Categorizing Ingredients (on the whole dataset) "
   ]
  },
  {
   "cell_type": "code",
   "execution_count": 35,
   "metadata": {},
   "outputs": [
    {
     "name": "stdout",
     "output_type": "stream",
     "text": [
      "<class 'pandas.core.frame.DataFrame'>\n",
      "RangeIndex: 39774 entries, 0 to 39773\n",
      "Columns: 653 entries, cuisine to zucchini\n",
      "dtypes: int64(651), object(2)\n",
      "memory usage: 198.2+ MB\n"
     ]
    }
   ],
   "source": [
    "df_cuisine.info()"
   ]
  },
  {
   "cell_type": "code",
   "execution_count": 36,
   "metadata": {},
   "outputs": [
    {
     "data": {
      "text/plain": [
       "Index(['cuisine', 'id', 'ingredients', '1% low-fat milk', 'active dry yeast',\n",
       "       'all purpose unbleached flour', 'all-purpose flour', 'allspice',\n",
       "       'almond extract', 'almonds',\n",
       "       ...\n",
       "       'wonton wrappers', 'worcestershire sauce', 'yeast',\n",
       "       'yellow bell pepper', 'yellow corn meal', 'yellow onion',\n",
       "       'yellow squash', 'yoghurt', 'yukon gold potatoes', 'zucchini'],\n",
       "      dtype='object', length=653)"
      ]
     },
     "execution_count": 36,
     "metadata": {},
     "output_type": "execute_result"
    }
   ],
   "source": [
    "df_cuisine.columns"
   ]
  },
  {
   "cell_type": "code",
   "execution_count": 37,
   "metadata": {
    "collapsed": true
   },
   "outputs": [],
   "source": [
    "# ingredients = df_cuisine.columns\n",
    "# for i in ingredients: \n",
    "#     ing = process.extract(i, ingredients, limit=2, scorer = fuzz.token_set_ratio)\n",
    "#     if ing[0][1] == ing[1][1]:\n",
    "#         print(ing)"
   ]
  },
  {
   "cell_type": "markdown",
   "metadata": {},
   "source": [
    "* The below process needs to be run several times until no consecutive columns returns the same ingredients. "
   ]
  },
  {
   "cell_type": "code",
   "execution_count": 38,
   "metadata": {
    "collapsed": true
   },
   "outputs": [],
   "source": [
    "try: \n",
    "    for i in range(0,len(ingredients)-2):\n",
    "        score = fuzz.token_set_ratio(df_cuisine.columns[i],df_cuisine.columns[(i+1)])\n",
    "        if score == 100:\n",
    "            df_cuisine[df_cuisine.columns[i]] = df_cuisine[[df_cuisine.columns[i], df_cuisine.columns[i+1]]].sum(axis=1)\n",
    "            column2 = df_cuisine.columns[i+1]\n",
    "            df_cuisine.drop([column2],axis = 1,inplace=True)\n",
    "except IndexError:\n",
    "    pass"
   ]
  },
  {
   "cell_type": "code",
   "execution_count": 39,
   "metadata": {},
   "outputs": [
    {
     "name": "stdout",
     "output_type": "stream",
     "text": [
      "<class 'pandas.core.frame.DataFrame'>\n",
      "RangeIndex: 39774 entries, 0 to 39773\n",
      "Columns: 589 entries, cuisine to zucchini\n",
      "dtypes: int64(587), object(2)\n",
      "memory usage: 178.7+ MB\n"
     ]
    }
   ],
   "source": [
    "df_cuisine.info()"
   ]
  },
  {
   "cell_type": "markdown",
   "metadata": {},
   "source": [
    "##### Pickle the cleaned dataframe & a small subset as a sample "
   ]
  },
  {
   "cell_type": "code",
   "execution_count": 40,
   "metadata": {
    "collapsed": true
   },
   "outputs": [],
   "source": [
    "df_cleaned_sample = df_cuisine[0:50]"
   ]
  },
  {
   "cell_type": "code",
   "execution_count": 41,
   "metadata": {},
   "outputs": [
    {
     "name": "stdout",
     "output_type": "stream",
     "text": [
      "<class 'pandas.core.frame.DataFrame'>\n",
      "RangeIndex: 50 entries, 0 to 49\n",
      "Columns: 589 entries, cuisine to zucchini\n",
      "dtypes: int64(587), object(2)\n",
      "memory usage: 230.2+ KB\n"
     ]
    }
   ],
   "source": [
    "df_cleaned_sample.info()"
   ]
  },
  {
   "cell_type": "code",
   "execution_count": 42,
   "metadata": {
    "collapsed": true
   },
   "outputs": [],
   "source": [
    "# Before further cleaning \n",
    "with open('../../Data/cuisine_clean.pickle', 'wb') as handle: \n",
    "    pickle.dump(df_cuisine, handle, pickle.HIGHEST_PROTOCOL)"
   ]
  },
  {
   "cell_type": "code",
   "execution_count": 43,
   "metadata": {
    "collapsed": true
   },
   "outputs": [],
   "source": [
    "with open('../../Data/cuisine_clean_sample.pickle', 'wb') as handle: \n",
    "    pickle.dump(df_cleaned_sample, handle, pickle.HIGHEST_PROTOCOL)"
   ]
  },
  {
   "cell_type": "markdown",
   "metadata": {},
   "source": [
    "### More feature engineering (for 2nd round of training & modeling)\n",
    "##### Additional merges on the same ingredients (on the most common ones) but not in consecutive columns "
   ]
  },
  {
   "cell_type": "code",
   "execution_count": 44,
   "metadata": {},
   "outputs": [
    {
     "data": {
      "text/plain": [
       "Index(['all purpose unbleached flour', 'bread flour', 'cake flour',\n",
       "       'cornflour', 'flour', 'plain flour', 'self rising flour',\n",
       "       'whole wheat flour'],\n",
       "      dtype='object')"
      ]
     },
     "execution_count": 44,
     "metadata": {},
     "output_type": "execute_result"
    }
   ],
   "source": [
    "df_cuisine.columns[df_cuisine.columns.str.contains('flour')]"
   ]
  },
  {
   "cell_type": "code",
   "execution_count": 45,
   "metadata": {
    "collapsed": true
   },
   "outputs": [],
   "source": [
    "df_cuisine['flour'] = df_cuisine[['all purpose unbleached flour'\n",
    "                        ,'whole wheat flour','flour'\n",
    "                        ,'plain flour','self rising flour']].sum(axis=1)\n",
    "df_cuisine.drop(['all purpose unbleached flour','whole wheat flour'\n",
    "            ,'plain flour','self rising flour'],axis=1,inplace=True)"
   ]
  },
  {
   "cell_type": "code",
   "execution_count": 46,
   "metadata": {},
   "outputs": [
    {
     "data": {
      "text/plain": [
       "Index(['ancho chile pepper', 'bell pepper', 'black pepper',\n",
       "       'black peppercorns', 'chile pepper', 'chili pepper',\n",
       "       'chopped green bell pepper', 'cracked black pepper',\n",
       "       'crushed red pepper', 'dried red chile peppers',\n",
       "       'freshly ground pepper', 'green bell pepper', 'green pepper',\n",
       "       'ground black pepper', 'ground cayenne pepper', 'ground pepper',\n",
       "       'ground red pepper', 'ground white pepper', 'hot pepper sauce',\n",
       "       'hot red pepper flakes', 'pepper', 'peppercorns', 'poblano peppers',\n",
       "       'red bell pepper', 'red chili peppers', 'red pepper',\n",
       "       'roasted red peppers', 'serrano peppers', 'szechwan peppercorns',\n",
       "       'tabasco pepper sauce', 'white pepper', 'yellow bell pepper'],\n",
       "      dtype='object')"
      ]
     },
     "execution_count": 46,
     "metadata": {},
     "output_type": "execute_result"
    }
   ],
   "source": [
    "df_cuisine.columns[df_cuisine.columns.str.contains('pepper')]"
   ]
  },
  {
   "cell_type": "code",
   "execution_count": 47,
   "metadata": {
    "collapsed": true
   },
   "outputs": [],
   "source": [
    "df_cuisine['pepper'] = df_cuisine[['black pepper','pepper','green pepper','freshly ground pepper'\n",
    "                        ,'black peppercorns','cracked black pepper','ground pepper'\n",
    "                        ,'ground black pepper','red pepper','white pepper','red pepper'\n",
    "                         ,'roasted red peppers','red bell pepper','peppercorns'\n",
    "                         ,'ground white pepper','bell pepper','chopped green bell pepper'\n",
    "                         ,'green bell pepper','ground red pepper']].sum(axis=1)\n",
    "df_cuisine.drop(['black pepper','green pepper','freshly ground pepper','red pepper'\n",
    "                        ,'black peppercorns','cracked black pepper','ground pepper'\n",
    "                        ,'ground black pepper','red pepper','white pepper'\n",
    "                         ,'roasted red peppers','red bell pepper','peppercorns'\n",
    "                         ,'ground white pepper','bell pepper','chopped green bell pepper'\n",
    "                         ,'green bell pepper','ground red pepper'],axis=1,inplace=True)"
   ]
  },
  {
   "cell_type": "code",
   "execution_count": 48,
   "metadata": {},
   "outputs": [
    {
     "data": {
      "text/plain": [
       "Index(['corn', 'corn oil', 'corn starch', 'corn tortillas', 'cornflour',\n",
       "       'cornmeal', 'frozen corn', 'light corn syrup', 'szechwan peppercorns',\n",
       "       'whole kernel corn', 'yellow corn meal'],\n",
       "      dtype='object')"
      ]
     },
     "execution_count": 48,
     "metadata": {},
     "output_type": "execute_result"
    }
   ],
   "source": [
    "df_cuisine.columns[df_cuisine.columns.str.contains('corn')]"
   ]
  },
  {
   "cell_type": "code",
   "execution_count": 49,
   "metadata": {
    "collapsed": true
   },
   "outputs": [],
   "source": [
    "df_cuisine['corn'] = df_cuisine[['corn','frozen corn','whole kernel corn']].sum(axis=1)\n",
    "df_cuisine.drop(['frozen corn','whole kernel corn'],axis=1,inplace=True)"
   ]
  },
  {
   "cell_type": "code",
   "execution_count": 50,
   "metadata": {},
   "outputs": [
    {
     "data": {
      "text/plain": [
       "Index(['chopped onion', 'diced onions', 'finely chopped onion', 'green onions',\n",
       "       'minced onion', 'onion powder', 'onions', 'purple onion',\n",
       "       'sliced green onions', 'spring onions', 'sweet onion', 'vidalia onion',\n",
       "       'white onion', 'yellow onion'],\n",
       "      dtype='object')"
      ]
     },
     "execution_count": 50,
     "metadata": {},
     "output_type": "execute_result"
    }
   ],
   "source": [
    "df_cuisine.columns[df_cuisine.columns.str.contains('onion')]"
   ]
  },
  {
   "cell_type": "code",
   "execution_count": 51,
   "metadata": {
    "collapsed": true
   },
   "outputs": [],
   "source": [
    "df_cuisine['onions'] = df_cuisine[['chopped onion','diced onions','finely chopped onion'\n",
    "                        ,'green onions','minced onion','onion powder','onions'\n",
    "                        ,'purple onion','sliced green onions','spring onions'\n",
    "                         ,'sweet onion','white onion','yellow onion']].sum(axis=1)\n",
    "df_cuisine.drop(['chopped onion','diced onions','finely chopped onion'\n",
    "            ,'green onions','minced onion','onion powder'\n",
    "            ,'purple onion','sliced green onions','spring onions'\n",
    "            ,'sweet onion','white onion','yellow onion'],axis=1,inplace=True)"
   ]
  },
  {
   "cell_type": "code",
   "execution_count": 52,
   "metadata": {},
   "outputs": [
    {
     "data": {
      "text/plain": [
       "Index(['butter', 'buttermilk', 'butternut squash', 'creamy peanut butter',\n",
       "       'melted butter', 'peanut butter', 'unsalted butter'],\n",
       "      dtype='object')"
      ]
     },
     "execution_count": 52,
     "metadata": {},
     "output_type": "execute_result"
    }
   ],
   "source": [
    "df_cuisine.columns[df_cuisine.columns.str.contains('butter')]"
   ]
  },
  {
   "cell_type": "code",
   "execution_count": 53,
   "metadata": {
    "collapsed": true
   },
   "outputs": [],
   "source": [
    "df_cuisine['butter'] = df_cuisine[['butter'\n",
    "                        ,'melted butter','unsalted butter']].sum(axis=1)\n",
    "df_cuisine.drop(['melted butter','unsalted butter'],axis=1,inplace=True)"
   ]
  },
  {
   "cell_type": "code",
   "execution_count": 54,
   "metadata": {
    "collapsed": true
   },
   "outputs": [],
   "source": [
    "df_cuisine['peanut butter'] = df_cuisine[['peanut butter'\n",
    "                        ,'creamy peanut butter']].sum(axis=1)\n",
    "df_cuisine.drop(['creamy peanut butter'],axis=1,inplace=True)"
   ]
  },
  {
   "cell_type": "code",
   "execution_count": 55,
   "metadata": {},
   "outputs": [
    {
     "data": {
      "text/plain": [
       "Index(['coarse salt', 'fine sea salt', 'garlic salt', 'kosher salt',\n",
       "       'low salt chicken broth', 'salt', 'sea salt'],\n",
       "      dtype='object')"
      ]
     },
     "execution_count": 55,
     "metadata": {},
     "output_type": "execute_result"
    }
   ],
   "source": [
    "df_cuisine.columns[df_cuisine.columns.str.contains('salt')]"
   ]
  },
  {
   "cell_type": "code",
   "execution_count": 56,
   "metadata": {
    "collapsed": true
   },
   "outputs": [],
   "source": [
    "df_cuisine['salt'] = df_cuisine[['salt','sea salt','fine sea salt'\n",
    "                       ,'coarse salt','kosher salt']].sum(axis=1)\n",
    "df_cuisine.drop(['sea salt','fine sea salt'\n",
    "                       ,'coarse salt','kosher salt'],axis=1,inplace=True)"
   ]
  },
  {
   "cell_type": "code",
   "execution_count": 57,
   "metadata": {},
   "outputs": [
    {
     "data": {
      "text/plain": [
       "Index(['eggs', 'large eggs'], dtype='object')"
      ]
     },
     "execution_count": 57,
     "metadata": {},
     "output_type": "execute_result"
    }
   ],
   "source": [
    "df_cuisine.columns[df_cuisine.columns.str.contains('eggs')]"
   ]
  },
  {
   "cell_type": "code",
   "execution_count": 58,
   "metadata": {
    "collapsed": true
   },
   "outputs": [],
   "source": [
    "df_cuisine['eggs'] = df_cuisine[['eggs','large eggs']].sum(axis=1)\n",
    "df_cuisine.drop(['large eggs'],axis=1,inplace=True)"
   ]
  },
  {
   "cell_type": "code",
   "execution_count": 59,
   "metadata": {},
   "outputs": [
    {
     "data": {
      "text/plain": [
       "Index(['boiling water', 'cold water', 'hot water', 'ice water', 'warm water',\n",
       "       'water chestnuts', 'watercress'],\n",
       "      dtype='object')"
      ]
     },
     "execution_count": 59,
     "metadata": {},
     "output_type": "execute_result"
    }
   ],
   "source": [
    "df_cuisine.columns[df_cuisine.columns.str.contains('water')]"
   ]
  },
  {
   "cell_type": "code",
   "execution_count": 60,
   "metadata": {
    "collapsed": true
   },
   "outputs": [],
   "source": [
    "df_cuisine['water'] = df_cuisine[['boiling water','cold water'\n",
    "                        ,'hot water','warm water']].sum(axis=1)\n",
    "df_cuisine.drop(['boiling water','cold water'\n",
    "                        ,'hot water','warm water'],axis=1,inplace=True)"
   ]
  },
  {
   "cell_type": "code",
   "execution_count": 61,
   "metadata": {},
   "outputs": [
    {
     "data": {
      "text/plain": [
       "Index(['brown sugar', 'caster sugar', 'confectioners sugar',\n",
       "       'dark brown sugar', 'granulated sugar', 'light brown sugar',\n",
       "       'palm sugar', 'powdered sugar', 'sugar', 'white sugar'],\n",
       "      dtype='object')"
      ]
     },
     "execution_count": 61,
     "metadata": {},
     "output_type": "execute_result"
    }
   ],
   "source": [
    "df_cuisine.columns[df_cuisine.columns.str.contains('sugar')]"
   ]
  },
  {
   "cell_type": "code",
   "execution_count": 62,
   "metadata": {
    "collapsed": true
   },
   "outputs": [],
   "source": [
    "df_cuisine['sugar'] = df_cuisine[['brown sugar','confectioners sugar','powdered sugar','sugar'\n",
    "                        ,'dark brown sugar','granulated sugar','white sugar'\n",
    "                        ,'light brown sugar']].sum(axis=1)\n",
    "df_cuisine.drop(['brown sugar','confectioners sugar','powdered sugar'\n",
    "                        ,'dark brown sugar','granulated sugar','white sugar'\n",
    "                        ,'light brown sugar'],axis=1,inplace=True)"
   ]
  },
  {
   "cell_type": "code",
   "execution_count": 63,
   "metadata": {},
   "outputs": [
    {
     "data": {
      "text/plain": [
       "Index(['canola oil', 'chili oil', 'coconut oil', 'cooking oil', 'corn oil',\n",
       "       'dark sesame oil', 'extra-virgin olive oil', 'hard-boiled egg', 'oil',\n",
       "       'olive oil', 'peanut oil', 'sesame oil', 'toasted sesame oil',\n",
       "       'vegetable oil'],\n",
       "      dtype='object')"
      ]
     },
     "execution_count": 63,
     "metadata": {},
     "output_type": "execute_result"
    }
   ],
   "source": [
    "df_cuisine.columns[df_cuisine.columns.str.contains('oil')]"
   ]
  },
  {
   "cell_type": "code",
   "execution_count": 64,
   "metadata": {
    "collapsed": true
   },
   "outputs": [],
   "source": [
    "df_cuisine['oil'] = df_cuisine[['oil','cooking oil','canola oil','peanut oil'\n",
    "                        ,'vegetable oil']].sum(axis=1)\n",
    "df_cuisine.drop(['cooking oil','canola oil','peanut oil'\n",
    "                        ,'vegetable oil'],axis=1,inplace=True)"
   ]
  },
  {
   "cell_type": "code",
   "execution_count": 65,
   "metadata": {
    "collapsed": true
   },
   "outputs": [],
   "source": [
    "df_cuisine['olive oil'] = df_cuisine[['olive oil','extra-virgin olive oil']].sum(axis=1)\n",
    "df_cuisine['sesame oil'] = df_cuisine[['sesame oil','toasted sesame oil'\n",
    "                                       ,'dark sesame oil']].sum(axis=1)\n",
    "df_cuisine.drop(['extra-virgin olive oil','toasted sesame oil'\n",
    "            ,'dark sesame oil'],axis=1,inplace=True)"
   ]
  },
  {
   "cell_type": "code",
   "execution_count": 66,
   "metadata": {},
   "outputs": [
    {
     "data": {
      "text/plain": [
       "Index(['chopped cilantro', 'cilantro', 'cilantro sprigs', 'fresh cilantro'], dtype='object')"
      ]
     },
     "execution_count": 66,
     "metadata": {},
     "output_type": "execute_result"
    }
   ],
   "source": [
    "df_cuisine.columns[df_cuisine.columns.str.contains('cilantro')]"
   ]
  },
  {
   "cell_type": "code",
   "execution_count": 67,
   "metadata": {
    "collapsed": true
   },
   "outputs": [],
   "source": [
    "df_cuisine['cilantro'] = df_cuisine[['cilantro','chopped cilantro','fresh cilantro']].sum(axis=1)"
   ]
  },
  {
   "cell_type": "code",
   "execution_count": 68,
   "metadata": {},
   "outputs": [
    {
     "data": {
      "text/plain": [
       "Index(['chopped garlic', 'crushed garlic', 'garlic', 'garlic cloves',\n",
       "       'garlic paste', 'garlic powder', 'garlic salt', 'large garlic cloves',\n",
       "       'minced garlic'],\n",
       "      dtype='object')"
      ]
     },
     "execution_count": 68,
     "metadata": {},
     "output_type": "execute_result"
    }
   ],
   "source": [
    "df_cuisine.columns[df_cuisine.columns.str.contains('garlic')]"
   ]
  },
  {
   "cell_type": "code",
   "execution_count": 69,
   "metadata": {
    "collapsed": true
   },
   "outputs": [],
   "source": [
    "df_cuisine['garlic'] = df_cuisine[['garlic','large garlic cloves','crushed garlic'\n",
    "                         ,'minced garlic','chopped garlic']].sum(axis=1)"
   ]
  },
  {
   "cell_type": "code",
   "execution_count": 70,
   "metadata": {},
   "outputs": [
    {
     "data": {
      "text/plain": [
       "Index(['1% low-fat milk', 'buttermilk', 'evaporated milk', 'fat free milk',\n",
       "       'light coconut milk', 'milk', 'sweetened condensed milk',\n",
       "       'unsweetened coconut milk', 'whole milk'],\n",
       "      dtype='object')"
      ]
     },
     "execution_count": 70,
     "metadata": {},
     "output_type": "execute_result"
    }
   ],
   "source": [
    "df_cuisine.columns[df_cuisine.columns.str.contains('milk')]"
   ]
  },
  {
   "cell_type": "code",
   "execution_count": 71,
   "metadata": {
    "collapsed": true
   },
   "outputs": [],
   "source": [
    "df_cuisine['milk'] = df_cuisine[['milk','1% low-fat milk'\n",
    "                         ,'evaporated milk','whole milk']].sum(axis=1)"
   ]
  },
  {
   "cell_type": "code",
   "execution_count": 72,
   "metadata": {
    "collapsed": true
   },
   "outputs": [],
   "source": [
    "df_cuisine.drop(['chopped cilantro','fresh cilantro','large garlic cloves'\n",
    "                         ,'minced garlic','chopped garlic','1% low-fat milk'\n",
    "                         ,'evaporated milk','whole milk','crushed garlic'],axis=1,inplace=True)"
   ]
  },
  {
   "cell_type": "code",
   "execution_count": 73,
   "metadata": {},
   "outputs": [
    {
     "data": {
      "text/plain": [
       "Index(['almond extract', 'almonds', 'sliced almonds', 'slivered almonds'], dtype='object')"
      ]
     },
     "execution_count": 73,
     "metadata": {},
     "output_type": "execute_result"
    }
   ],
   "source": [
    "df_cuisine.columns[df_cuisine.columns.str.contains('almond')]"
   ]
  },
  {
   "cell_type": "code",
   "execution_count": 74,
   "metadata": {
    "collapsed": true
   },
   "outputs": [],
   "source": [
    "df_cuisine['almonds'] = df_cuisine[['almonds','almond extract'\n",
    "                         ,'sliced almonds','slivered almonds']].sum(axis=1)"
   ]
  },
  {
   "cell_type": "code",
   "execution_count": 75,
   "metadata": {},
   "outputs": [
    {
     "data": {
      "text/plain": [
       "Index(['cherry tomatoes', 'chopped tomatoes', 'crushed tomatoes',\n",
       "       'diced tomatoes', 'fresh tomatoes', 'grape tomatoes', 'green tomatoes',\n",
       "       'plum tomatoes', 'roma tomatoes', 'stewed tomatoes',\n",
       "       'sun-dried tomatoes', 'tomatoes', 'whole peeled tomatoes'],\n",
       "      dtype='object')"
      ]
     },
     "execution_count": 75,
     "metadata": {},
     "output_type": "execute_result"
    }
   ],
   "source": [
    "df_cuisine.columns[df_cuisine.columns.str.contains('tomatoes')]"
   ]
  },
  {
   "cell_type": "code",
   "execution_count": 76,
   "metadata": {
    "collapsed": true
   },
   "outputs": [],
   "source": [
    "df_cuisine['tomatoes'] = df_cuisine[['tomatoes','chopped tomatoes','crushed tomatoes','diced tomatoes'\n",
    "                         ,'fresh tomatoes','stewed tomatoes'\n",
    "                           ,'whole peeled tomatoes']].sum(axis=1)"
   ]
  },
  {
   "cell_type": "code",
   "execution_count": 77,
   "metadata": {},
   "outputs": [
    {
     "data": {
      "text/plain": [
       "Index(['chicken broth', 'fat free less sodium chicken broth',\n",
       "       'low salt chicken broth', 'low sodium chicken broth',\n",
       "       'reduced sodium chicken broth'],\n",
       "      dtype='object')"
      ]
     },
     "execution_count": 77,
     "metadata": {},
     "output_type": "execute_result"
    }
   ],
   "source": [
    "df_cuisine.columns[df_cuisine.columns.str.contains('chicken broth')]"
   ]
  },
  {
   "cell_type": "code",
   "execution_count": 78,
   "metadata": {
    "collapsed": true
   },
   "outputs": [],
   "source": [
    "df_cuisine['chicken broth'] = df_cuisine[['fat free less sodium chicken broth'\n",
    "                                ,'low salt chicken broth','low sodium chicken broth'\n",
    "                                ,'reduced sodium chicken broth']].sum(axis=1)"
   ]
  },
  {
   "cell_type": "code",
   "execution_count": 79,
   "metadata": {
    "collapsed": true
   },
   "outputs": [],
   "source": [
    "df_cuisine.drop(['almond extract','chopped tomatoes','crushed tomatoes','diced tomatoes'\n",
    "            ,'fresh tomatoes','stewed tomatoes','whole peeled tomatoes','sliced almonds'\n",
    "            ,'slivered almonds','fat free less sodium chicken broth','low salt chicken broth'\n",
    "            ,'low sodium chicken broth','reduced sodium chicken broth'],axis=1,inplace=True)"
   ]
  },
  {
   "cell_type": "code",
   "execution_count": 80,
   "metadata": {},
   "outputs": [
    {
     "name": "stdout",
     "output_type": "stream",
     "text": [
      "<class 'pandas.core.frame.DataFrame'>\n",
      "RangeIndex: 39774 entries, 0 to 39773\n",
      "Columns: 507 entries, cuisine to water\n",
      "dtypes: int64(505), object(2)\n",
      "memory usage: 153.9+ MB\n"
     ]
    }
   ],
   "source": [
    "df_cuisine.info()"
   ]
  },
  {
   "cell_type": "code",
   "execution_count": 81,
   "metadata": {
    "collapsed": true
   },
   "outputs": [],
   "source": [
    "df_cuisine_cleaner = df_cuisine"
   ]
  },
  {
   "cell_type": "code",
   "execution_count": 82,
   "metadata": {},
   "outputs": [
    {
     "name": "stdout",
     "output_type": "stream",
     "text": [
      "<class 'pandas.core.frame.DataFrame'>\n",
      "RangeIndex: 39774 entries, 0 to 39773\n",
      "Columns: 507 entries, cuisine to water\n",
      "dtypes: int64(505), object(2)\n",
      "memory usage: 153.9+ MB\n"
     ]
    }
   ],
   "source": [
    "df_cuisine_cleaner.info()"
   ]
  },
  {
   "cell_type": "code",
   "execution_count": 250,
   "metadata": {},
   "outputs": [
    {
     "data": {
      "text/plain": [
       "Index(['pimentos'], dtype='object')"
      ]
     },
     "execution_count": 250,
     "metadata": {},
     "output_type": "execute_result"
    }
   ],
   "source": [
    "df_cuisine.columns[df_cuisine.columns.str.contains('pimento')]"
   ]
  },
  {
   "cell_type": "code",
   "execution_count": 252,
   "metadata": {},
   "outputs": [
    {
     "data": {
      "text/plain": [
       "Index(['pure vanilla extract', 'vanilla extract'], dtype='object')"
      ]
     },
     "execution_count": 252,
     "metadata": {},
     "output_type": "execute_result"
    }
   ],
   "source": [
    "df_cuisine.columns[df_cuisine.columns.str.contains('vanilla ')]"
   ]
  },
  {
   "cell_type": "code",
   "execution_count": 248,
   "metadata": {},
   "outputs": [
    {
     "data": {
      "text/html": [
       "<div>\n",
       "<style>\n",
       "    .dataframe thead tr:only-child th {\n",
       "        text-align: right;\n",
       "    }\n",
       "\n",
       "    .dataframe thead th {\n",
       "        text-align: left;\n",
       "    }\n",
       "\n",
       "    .dataframe tbody tr th {\n",
       "        vertical-align: top;\n",
       "    }\n",
       "</style>\n",
       "<table border=\"1\" class=\"dataframe\">\n",
       "  <thead>\n",
       "    <tr style=\"text-align: right;\">\n",
       "      <th></th>\n",
       "      <th>peanuts</th>\n",
       "      <th>peas</th>\n",
       "      <th>pecan halves</th>\n",
       "      <th>pecans</th>\n",
       "      <th>pecorino romano cheese</th>\n",
       "      <th>peeled fresh ginger</th>\n",
       "      <th>penne</th>\n",
       "      <th>pepper</th>\n",
       "      <th>pesto</th>\n",
       "      <th>pimentos</th>\n",
       "      <th>...</th>\n",
       "      <th>pork</th>\n",
       "      <th>pork sausages</th>\n",
       "      <th>pork shoulder</th>\n",
       "      <th>pork tenderloin</th>\n",
       "      <th>potatoes</th>\n",
       "      <th>prosciutto</th>\n",
       "      <th>provolone cheese</th>\n",
       "      <th>pure vanilla extract</th>\n",
       "      <th>queso fresco</th>\n",
       "      <th>quinoa</th>\n",
       "    </tr>\n",
       "  </thead>\n",
       "  <tbody>\n",
       "    <tr>\n",
       "      <th>0</th>\n",
       "      <td>0</td>\n",
       "      <td>0</td>\n",
       "      <td>0</td>\n",
       "      <td>0</td>\n",
       "      <td>0</td>\n",
       "      <td>0</td>\n",
       "      <td>0</td>\n",
       "      <td>1</td>\n",
       "      <td>0</td>\n",
       "      <td>0</td>\n",
       "      <td>...</td>\n",
       "      <td>0</td>\n",
       "      <td>0</td>\n",
       "      <td>0</td>\n",
       "      <td>0</td>\n",
       "      <td>0</td>\n",
       "      <td>0</td>\n",
       "      <td>0</td>\n",
       "      <td>0</td>\n",
       "      <td>0</td>\n",
       "      <td>0</td>\n",
       "    </tr>\n",
       "    <tr>\n",
       "      <th>1</th>\n",
       "      <td>0</td>\n",
       "      <td>0</td>\n",
       "      <td>0</td>\n",
       "      <td>0</td>\n",
       "      <td>0</td>\n",
       "      <td>0</td>\n",
       "      <td>0</td>\n",
       "      <td>2</td>\n",
       "      <td>0</td>\n",
       "      <td>0</td>\n",
       "      <td>...</td>\n",
       "      <td>0</td>\n",
       "      <td>0</td>\n",
       "      <td>0</td>\n",
       "      <td>0</td>\n",
       "      <td>0</td>\n",
       "      <td>0</td>\n",
       "      <td>0</td>\n",
       "      <td>0</td>\n",
       "      <td>0</td>\n",
       "      <td>0</td>\n",
       "    </tr>\n",
       "    <tr>\n",
       "      <th>2</th>\n",
       "      <td>0</td>\n",
       "      <td>0</td>\n",
       "      <td>0</td>\n",
       "      <td>0</td>\n",
       "      <td>0</td>\n",
       "      <td>0</td>\n",
       "      <td>0</td>\n",
       "      <td>1</td>\n",
       "      <td>0</td>\n",
       "      <td>0</td>\n",
       "      <td>...</td>\n",
       "      <td>0</td>\n",
       "      <td>0</td>\n",
       "      <td>0</td>\n",
       "      <td>0</td>\n",
       "      <td>0</td>\n",
       "      <td>0</td>\n",
       "      <td>0</td>\n",
       "      <td>0</td>\n",
       "      <td>0</td>\n",
       "      <td>0</td>\n",
       "    </tr>\n",
       "    <tr>\n",
       "      <th>3</th>\n",
       "      <td>0</td>\n",
       "      <td>0</td>\n",
       "      <td>0</td>\n",
       "      <td>0</td>\n",
       "      <td>0</td>\n",
       "      <td>0</td>\n",
       "      <td>0</td>\n",
       "      <td>0</td>\n",
       "      <td>0</td>\n",
       "      <td>0</td>\n",
       "      <td>...</td>\n",
       "      <td>0</td>\n",
       "      <td>0</td>\n",
       "      <td>0</td>\n",
       "      <td>0</td>\n",
       "      <td>0</td>\n",
       "      <td>0</td>\n",
       "      <td>0</td>\n",
       "      <td>0</td>\n",
       "      <td>0</td>\n",
       "      <td>0</td>\n",
       "    </tr>\n",
       "    <tr>\n",
       "      <th>4</th>\n",
       "      <td>0</td>\n",
       "      <td>0</td>\n",
       "      <td>0</td>\n",
       "      <td>0</td>\n",
       "      <td>0</td>\n",
       "      <td>0</td>\n",
       "      <td>0</td>\n",
       "      <td>1</td>\n",
       "      <td>0</td>\n",
       "      <td>0</td>\n",
       "      <td>...</td>\n",
       "      <td>0</td>\n",
       "      <td>0</td>\n",
       "      <td>0</td>\n",
       "      <td>0</td>\n",
       "      <td>0</td>\n",
       "      <td>0</td>\n",
       "      <td>0</td>\n",
       "      <td>0</td>\n",
       "      <td>0</td>\n",
       "      <td>0</td>\n",
       "    </tr>\n",
       "    <tr>\n",
       "      <th>5</th>\n",
       "      <td>0</td>\n",
       "      <td>0</td>\n",
       "      <td>0</td>\n",
       "      <td>0</td>\n",
       "      <td>0</td>\n",
       "      <td>0</td>\n",
       "      <td>0</td>\n",
       "      <td>0</td>\n",
       "      <td>0</td>\n",
       "      <td>0</td>\n",
       "      <td>...</td>\n",
       "      <td>0</td>\n",
       "      <td>0</td>\n",
       "      <td>0</td>\n",
       "      <td>0</td>\n",
       "      <td>0</td>\n",
       "      <td>0</td>\n",
       "      <td>0</td>\n",
       "      <td>0</td>\n",
       "      <td>0</td>\n",
       "      <td>0</td>\n",
       "    </tr>\n",
       "    <tr>\n",
       "      <th>6</th>\n",
       "      <td>0</td>\n",
       "      <td>0</td>\n",
       "      <td>0</td>\n",
       "      <td>0</td>\n",
       "      <td>0</td>\n",
       "      <td>0</td>\n",
       "      <td>0</td>\n",
       "      <td>1</td>\n",
       "      <td>0</td>\n",
       "      <td>0</td>\n",
       "      <td>...</td>\n",
       "      <td>0</td>\n",
       "      <td>0</td>\n",
       "      <td>0</td>\n",
       "      <td>0</td>\n",
       "      <td>0</td>\n",
       "      <td>0</td>\n",
       "      <td>0</td>\n",
       "      <td>0</td>\n",
       "      <td>0</td>\n",
       "      <td>0</td>\n",
       "    </tr>\n",
       "    <tr>\n",
       "      <th>...</th>\n",
       "      <td>...</td>\n",
       "      <td>...</td>\n",
       "      <td>...</td>\n",
       "      <td>...</td>\n",
       "      <td>...</td>\n",
       "      <td>...</td>\n",
       "      <td>...</td>\n",
       "      <td>...</td>\n",
       "      <td>...</td>\n",
       "      <td>...</td>\n",
       "      <td>...</td>\n",
       "      <td>...</td>\n",
       "      <td>...</td>\n",
       "      <td>...</td>\n",
       "      <td>...</td>\n",
       "      <td>...</td>\n",
       "      <td>...</td>\n",
       "      <td>...</td>\n",
       "      <td>...</td>\n",
       "      <td>...</td>\n",
       "      <td>...</td>\n",
       "    </tr>\n",
       "    <tr>\n",
       "      <th>39767</th>\n",
       "      <td>0</td>\n",
       "      <td>0</td>\n",
       "      <td>0</td>\n",
       "      <td>0</td>\n",
       "      <td>0</td>\n",
       "      <td>0</td>\n",
       "      <td>0</td>\n",
       "      <td>1</td>\n",
       "      <td>0</td>\n",
       "      <td>0</td>\n",
       "      <td>...</td>\n",
       "      <td>0</td>\n",
       "      <td>0</td>\n",
       "      <td>0</td>\n",
       "      <td>0</td>\n",
       "      <td>0</td>\n",
       "      <td>0</td>\n",
       "      <td>0</td>\n",
       "      <td>0</td>\n",
       "      <td>0</td>\n",
       "      <td>0</td>\n",
       "    </tr>\n",
       "    <tr>\n",
       "      <th>39768</th>\n",
       "      <td>0</td>\n",
       "      <td>0</td>\n",
       "      <td>0</td>\n",
       "      <td>0</td>\n",
       "      <td>0</td>\n",
       "      <td>0</td>\n",
       "      <td>0</td>\n",
       "      <td>1</td>\n",
       "      <td>0</td>\n",
       "      <td>0</td>\n",
       "      <td>...</td>\n",
       "      <td>0</td>\n",
       "      <td>0</td>\n",
       "      <td>0</td>\n",
       "      <td>0</td>\n",
       "      <td>0</td>\n",
       "      <td>0</td>\n",
       "      <td>0</td>\n",
       "      <td>0</td>\n",
       "      <td>0</td>\n",
       "      <td>0</td>\n",
       "    </tr>\n",
       "    <tr>\n",
       "      <th>39769</th>\n",
       "      <td>0</td>\n",
       "      <td>0</td>\n",
       "      <td>0</td>\n",
       "      <td>0</td>\n",
       "      <td>0</td>\n",
       "      <td>0</td>\n",
       "      <td>0</td>\n",
       "      <td>0</td>\n",
       "      <td>0</td>\n",
       "      <td>0</td>\n",
       "      <td>...</td>\n",
       "      <td>0</td>\n",
       "      <td>0</td>\n",
       "      <td>0</td>\n",
       "      <td>0</td>\n",
       "      <td>0</td>\n",
       "      <td>0</td>\n",
       "      <td>0</td>\n",
       "      <td>0</td>\n",
       "      <td>0</td>\n",
       "      <td>0</td>\n",
       "    </tr>\n",
       "    <tr>\n",
       "      <th>39770</th>\n",
       "      <td>0</td>\n",
       "      <td>0</td>\n",
       "      <td>0</td>\n",
       "      <td>0</td>\n",
       "      <td>0</td>\n",
       "      <td>0</td>\n",
       "      <td>0</td>\n",
       "      <td>2</td>\n",
       "      <td>0</td>\n",
       "      <td>0</td>\n",
       "      <td>...</td>\n",
       "      <td>0</td>\n",
       "      <td>0</td>\n",
       "      <td>0</td>\n",
       "      <td>0</td>\n",
       "      <td>0</td>\n",
       "      <td>0</td>\n",
       "      <td>0</td>\n",
       "      <td>0</td>\n",
       "      <td>0</td>\n",
       "      <td>0</td>\n",
       "    </tr>\n",
       "    <tr>\n",
       "      <th>39771</th>\n",
       "      <td>0</td>\n",
       "      <td>0</td>\n",
       "      <td>0</td>\n",
       "      <td>0</td>\n",
       "      <td>0</td>\n",
       "      <td>0</td>\n",
       "      <td>0</td>\n",
       "      <td>0</td>\n",
       "      <td>0</td>\n",
       "      <td>0</td>\n",
       "      <td>...</td>\n",
       "      <td>0</td>\n",
       "      <td>0</td>\n",
       "      <td>0</td>\n",
       "      <td>0</td>\n",
       "      <td>0</td>\n",
       "      <td>0</td>\n",
       "      <td>0</td>\n",
       "      <td>0</td>\n",
       "      <td>0</td>\n",
       "      <td>0</td>\n",
       "    </tr>\n",
       "    <tr>\n",
       "      <th>39772</th>\n",
       "      <td>1</td>\n",
       "      <td>0</td>\n",
       "      <td>0</td>\n",
       "      <td>0</td>\n",
       "      <td>0</td>\n",
       "      <td>0</td>\n",
       "      <td>0</td>\n",
       "      <td>0</td>\n",
       "      <td>0</td>\n",
       "      <td>0</td>\n",
       "      <td>...</td>\n",
       "      <td>0</td>\n",
       "      <td>0</td>\n",
       "      <td>0</td>\n",
       "      <td>0</td>\n",
       "      <td>0</td>\n",
       "      <td>0</td>\n",
       "      <td>0</td>\n",
       "      <td>0</td>\n",
       "      <td>0</td>\n",
       "      <td>0</td>\n",
       "    </tr>\n",
       "    <tr>\n",
       "      <th>39773</th>\n",
       "      <td>0</td>\n",
       "      <td>0</td>\n",
       "      <td>0</td>\n",
       "      <td>0</td>\n",
       "      <td>0</td>\n",
       "      <td>0</td>\n",
       "      <td>0</td>\n",
       "      <td>2</td>\n",
       "      <td>0</td>\n",
       "      <td>0</td>\n",
       "      <td>...</td>\n",
       "      <td>0</td>\n",
       "      <td>0</td>\n",
       "      <td>0</td>\n",
       "      <td>0</td>\n",
       "      <td>0</td>\n",
       "      <td>0</td>\n",
       "      <td>0</td>\n",
       "      <td>0</td>\n",
       "      <td>0</td>\n",
       "      <td>0</td>\n",
       "    </tr>\n",
       "  </tbody>\n",
       "</table>\n",
       "<p>39774 rows × 30 columns</p>\n",
       "</div>"
      ],
      "text/plain": [
       "       peanuts  peas  pecan halves  pecans  pecorino romano cheese  \\\n",
       "0            0     0             0       0                       0   \n",
       "1            0     0             0       0                       0   \n",
       "2            0     0             0       0                       0   \n",
       "3            0     0             0       0                       0   \n",
       "4            0     0             0       0                       0   \n",
       "5            0     0             0       0                       0   \n",
       "6            0     0             0       0                       0   \n",
       "...        ...   ...           ...     ...                     ...   \n",
       "39767        0     0             0       0                       0   \n",
       "39768        0     0             0       0                       0   \n",
       "39769        0     0             0       0                       0   \n",
       "39770        0     0             0       0                       0   \n",
       "39771        0     0             0       0                       0   \n",
       "39772        1     0             0       0                       0   \n",
       "39773        0     0             0       0                       0   \n",
       "\n",
       "       peeled fresh ginger  penne  pepper  pesto  pimentos   ...    pork  \\\n",
       "0                        0      0       1      0         0   ...       0   \n",
       "1                        0      0       2      0         0   ...       0   \n",
       "2                        0      0       1      0         0   ...       0   \n",
       "3                        0      0       0      0         0   ...       0   \n",
       "4                        0      0       1      0         0   ...       0   \n",
       "5                        0      0       0      0         0   ...       0   \n",
       "6                        0      0       1      0         0   ...       0   \n",
       "...                    ...    ...     ...    ...       ...   ...     ...   \n",
       "39767                    0      0       1      0         0   ...       0   \n",
       "39768                    0      0       1      0         0   ...       0   \n",
       "39769                    0      0       0      0         0   ...       0   \n",
       "39770                    0      0       2      0         0   ...       0   \n",
       "39771                    0      0       0      0         0   ...       0   \n",
       "39772                    0      0       0      0         0   ...       0   \n",
       "39773                    0      0       2      0         0   ...       0   \n",
       "\n",
       "       pork sausages  pork shoulder  pork tenderloin  potatoes  prosciutto  \\\n",
       "0                  0              0                0         0           0   \n",
       "1                  0              0                0         0           0   \n",
       "2                  0              0                0         0           0   \n",
       "3                  0              0                0         0           0   \n",
       "4                  0              0                0         0           0   \n",
       "5                  0              0                0         0           0   \n",
       "6                  0              0                0         0           0   \n",
       "...              ...            ...              ...       ...         ...   \n",
       "39767              0              0                0         0           0   \n",
       "39768              0              0                0         0           0   \n",
       "39769              0              0                0         0           0   \n",
       "39770              0              0                0         0           0   \n",
       "39771              0              0                0         0           0   \n",
       "39772              0              0                0         0           0   \n",
       "39773              0              0                0         0           0   \n",
       "\n",
       "       provolone cheese  pure vanilla extract  queso fresco  quinoa  \n",
       "0                     0                     0             0       0  \n",
       "1                     0                     0             0       0  \n",
       "2                     0                     0             0       0  \n",
       "3                     0                     0             0       0  \n",
       "4                     0                     0             0       0  \n",
       "5                     0                     0             0       0  \n",
       "6                     0                     0             0       0  \n",
       "...                 ...                   ...           ...     ...  \n",
       "39767                 0                     0             0       0  \n",
       "39768                 0                     0             0       0  \n",
       "39769                 0                     0             0       0  \n",
       "39770                 0                     0             0       0  \n",
       "39771                 0                     0             0       0  \n",
       "39772                 0                     0             0       0  \n",
       "39773                 0                     0             0       0  \n",
       "\n",
       "[39774 rows x 30 columns]"
      ]
     },
     "execution_count": 248,
     "metadata": {},
     "output_type": "execute_result"
    }
   ],
   "source": [
    "df_cuisine_cleaner.iloc[:,350:380]"
   ]
  },
  {
   "cell_type": "markdown",
   "metadata": {},
   "source": [
    "##### Pickle the cleaned dataframe & a small subset as a sample "
   ]
  },
  {
   "cell_type": "code",
   "execution_count": 1107,
   "metadata": {
    "collapsed": true
   },
   "outputs": [],
   "source": [
    "# After further cleaning - \n",
    "# with open('../../Data/cuisine_clean2.pickle', 'wb') as handle: \n",
    "#     pickle.dump(df_cuisine_cleaner, handle, pickle.HIGHEST_PROTOCOL)"
   ]
  },
  {
   "cell_type": "code",
   "execution_count": null,
   "metadata": {
    "collapsed": true
   },
   "outputs": [],
   "source": []
  },
  {
   "cell_type": "code",
   "execution_count": null,
   "metadata": {
    "collapsed": true
   },
   "outputs": [],
   "source": []
  },
  {
   "cell_type": "code",
   "execution_count": null,
   "metadata": {
    "collapsed": true
   },
   "outputs": [],
   "source": []
  }
 ],
 "metadata": {
  "kernelspec": {
   "display_name": "Python [conda env:py3]",
   "language": "python",
   "name": "conda-env-py3-py"
  },
  "language_info": {
   "codemirror_mode": {
    "name": "ipython",
    "version": 3
   },
   "file_extension": ".py",
   "mimetype": "text/x-python",
   "name": "python",
   "nbconvert_exporter": "python",
   "pygments_lexer": "ipython3",
   "version": "3.6.2"
  }
 },
 "nbformat": 4,
 "nbformat_minor": 2
}
