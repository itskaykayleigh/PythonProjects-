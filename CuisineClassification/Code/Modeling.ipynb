{
 "cells": [
  {
   "cell_type": "markdown",
   "metadata": {},
   "source": [
    "## List of Imports "
   ]
  },
  {
   "cell_type": "code",
   "execution_count": 1,
   "metadata": {
    "collapsed": true
   },
   "outputs": [],
   "source": [
    "from __future__ import print_function, division"
   ]
  },
  {
   "cell_type": "code",
   "execution_count": 2,
   "metadata": {},
   "outputs": [
    {
     "name": "stderr",
     "output_type": "stream",
     "text": [
      "/Users/liyuqiao/anaconda/envs/py3/lib/python3.6/site-packages/sklearn/cross_validation.py:41: DeprecationWarning: This module was deprecated in version 0.18 in favor of the model_selection module into which all the refactored classes and functions are moved. Also note that the interface of the new CV iterators are different from that of this module. This module will be removed in 0.20.\n",
      "  \"This module will be removed in 0.20.\", DeprecationWarning)\n",
      "/Users/liyuqiao/anaconda/envs/py3/lib/python3.6/site-packages/sklearn/learning_curve.py:22: DeprecationWarning: This module was deprecated in version 0.18 in favor of the model_selection module into which all the functions are moved. This module will be removed in 0.20\n",
      "  DeprecationWarning)\n"
     ]
    }
   ],
   "source": [
    "import pickle\n",
    "import itertools \n",
    "import numpy as np\n",
    "import pandas as pd\n",
    "import seaborn as sns\n",
    "import matplotlib.pyplot as plt\n",
    "\n",
    "from sklearn.svm import LinearSVC\n",
    "from sklearn.naive_bayes import BernoulliNB\n",
    "from sklearn.model_selection import GridSearchCV\n",
    "from sklearn.linear_model import LogisticRegression\n",
    "from sklearn.ensemble import RandomForestClassifier\n",
    "\n",
    "from sklearn.metrics import f1_score\n",
    "from sklearn.metrics import recall_score\n",
    "from sklearn.metrics import accuracy_score\n",
    "from sklearn.metrics import precision_score\n",
    "from sklearn.metrics import confusion_matrix\n",
    "from sklearn.metrics import classification_report\n",
    "from sklearn.learning_curve import learning_curve\n",
    "\n",
    "from sklearn.model_selection import ShuffleSplit\n",
    "from sklearn.model_selection import train_test_split\n",
    "\n",
    "\n",
    "%matplotlib inline "
   ]
  },
  {
   "cell_type": "markdown",
   "metadata": {},
   "source": [
    "## Loading Data & More Detailed Analysis"
   ]
  },
  {
   "cell_type": "code",
   "execution_count": 3,
   "metadata": {
    "collapsed": true
   },
   "outputs": [],
   "source": [
    "with open('../../Data/train_standardized.pickle', 'rb') as f:\n",
    "    X_train = pickle.load(f)\n",
    "    \n",
    "with open('../../Data/test_transformed.pickle', 'rb') as f2: \n",
    "    X_test = pickle.load(f2)\n",
    "    \n",
    "with open('../../Data/train_target.pickle', 'rb') as f3: \n",
    "    y_train = pickle.load(f3) \n",
    "\n",
    "with open('../../Data/test_target.pickle', 'rb') as f4: \n",
    "    y_test = pickle.load(f4) \n",
    "\n",
    "with open('../../Data/cuisine_clean.pickle', 'rb') as f5: \n",
    "    df_cuisine = pickle.load(f5) "
   ]
  },
  {
   "cell_type": "code",
   "execution_count": 4,
   "metadata": {},
   "outputs": [
    {
     "name": "stdout",
     "output_type": "stream",
     "text": [
      "<class 'pandas.core.frame.DataFrame'>\n",
      "RangeIndex: 39774 entries, 0 to 39773\n",
      "Columns: 589 entries, cuisine to zucchini\n",
      "dtypes: int64(587), object(2)\n",
      "memory usage: 178.7+ MB\n"
     ]
    }
   ],
   "source": [
    "df_cuisine.info()"
   ]
  },
  {
   "cell_type": "code",
   "execution_count": 5,
   "metadata": {},
   "outputs": [
    {
     "data": {
      "text/plain": [
       "<matplotlib.text.Text at 0x11af16588>"
      ]
     },
     "execution_count": 5,
     "metadata": {},
     "output_type": "execute_result"
    },
    {
     "data": {
      "image/png": "[encoded data removed]",
      "text/plain": [
       "<matplotlib.figure.Figure at 0x1067c42b0>"
      ]
     },
     "metadata": {},
     "output_type": "display_data"
    }
   ],
   "source": [
    "cuisine_counts = df_cuisine['cuisine'].value_counts().sort_values()\n",
    "cuisine_counts.plot(kind='barh',color = 'maroon'\n",
    "                    ,linewidth=10,width=0.8,align='center',figsize =(14,8))\n",
    "plt.xlabel('Counts of Cuisine', fontsize=20)\n",
    "plt.ylabel('Type of Cuisine', fontsize=20)\n",
    "plt.title('Cuisine Distribution', fontsize=25)\n",
    "\n",
    "# plt.savefig('../../Visuals/cuisinedistribution.png'\n",
    "#             , dpi=200, bbox_inches = 'tight')"
   ]
  },
  {
   "cell_type": "markdown",
   "metadata": {},
   "source": [
    "## Modeling - Set model performance baseline \n",
    "Given the dominance of Italian food in the training set, the first model will predict 'italian' all the time. This is to establish a baseline for model performance and see how much I can improve on performance through employing different models and approaches. "
   ]
  },
  {
   "cell_type": "code",
   "execution_count": 6,
   "metadata": {
    "collapsed": true
   },
   "outputs": [],
   "source": [
    "def predict_italian(input_x):\n",
    "    italian = ['italian']*(len(input_x))\n",
    "    return italian "
   ]
  },
  {
   "cell_type": "code",
   "execution_count": 7,
   "metadata": {
    "collapsed": true
   },
   "outputs": [],
   "source": [
    "x1 = df_cuisine.iloc[:,3:]\n",
    "y = df_cuisine['cuisine']"
   ]
  },
  {
   "cell_type": "code",
   "execution_count": 8,
   "metadata": {},
   "outputs": [
    {
     "name": "stdout",
     "output_type": "stream",
     "text": [
      "The baseline in terms of model accuracy is:  0.197063408257\n"
     ]
    }
   ],
   "source": [
    "pred_itl = predict_italian(x1)\n",
    "itl_score = accuracy_score(y, pred_itl)\n",
    "print(\"The baseline in terms of model accuracy is: \", itl_score)"
   ]
  },
  {
   "cell_type": "markdown",
   "metadata": {},
   "source": [
    "## Modeling - Try different classification estimators \n",
    " * Logistic Regression\n",
    " * LinearSVC  \n",
    " * Bernoull Naive Bayes \n",
    " * Decision Tree\n",
    " * Random Forest "
   ]
  },
  {
   "cell_type": "markdown",
   "metadata": {},
   "source": [
    "## Building pipelines for modeling"
   ]
  },
  {
   "cell_type": "markdown",
   "metadata": {},
   "source": [
    "#### 1). Model w/ parameter tuning not using GridSearchCV (manually instead)"
   ]
  },
  {
   "cell_type": "code",
   "execution_count": 9,
   "metadata": {
    "collapsed": true
   },
   "outputs": [],
   "source": [
    "# GridSearch takes a long time to run for this dataset, so the \n",
    "# below function can be utilized to speed up the training process. \n",
    "\n",
    "def modeling(estimator, X_train, y_train, X_test, y_test):\n",
    "    \"\"\" This function trains a model and returns the test score. \"\"\"\n",
    "    estimator = estimator.fit(X_train, y_train)\n",
    "    pred_tr = estimator.predict(X_train)\n",
    "    pred_tt = estimator.predict(X_test)\n",
    "    score_tr = accuracy_score(y_train, pred_tr)\n",
    "    score_tt = accuracy_score(y_test, pred_tt)\n",
    "    score_f1 = f1_score(y_test, pred_tt,average='macro')\n",
    "    score_precision = precision_score(y_test, pred_tt,average=\"macro\")\n",
    "    score_recall = recall_score(y_test, pred_tt,average=\"macro\")\n",
    "    \n",
    "    print('|Accuracy on Training|: ', score_tr\n",
    "          ,'\\n','|Accuracy on Testing|: ', score_tt,'\\n'\n",
    "          ,'|F1 Score|: ', score_f1)\n",
    "    \n",
    "    return pred_tt, estimator, score_tt, score_f1"
   ]
  },
  {
   "cell_type": "markdown",
   "metadata": {},
   "source": [
    "#### 2). Model w/ parameter tuning using GridSearchCV \n",
    "#### Initiate cross-validation iterator"
   ]
  },
  {
   "cell_type": "code",
   "execution_count": 10,
   "metadata": {
    "collapsed": true
   },
   "outputs": [],
   "source": [
    "cv = ShuffleSplit(X_train.shape[0], random_state=7777)"
   ]
  },
  {
   "cell_type": "markdown",
   "metadata": {},
   "source": [
    "#### Tune the hyperparameters and build model "
   ]
  },
  {
   "cell_type": "code",
   "execution_count": 11,
   "metadata": {
    "collapsed": true
   },
   "outputs": [],
   "source": [
    "# def model_initiation(estimator, X, y, cv, param_grid):\n",
    "#     \"\"\" This function returns the best estimator by using \n",
    "#     GridSearchCV to test on \n",
    "#     different combinations of parameters. \"\"\"\n",
    "#     classifier = GridSearchCV(estimator, param_grid\n",
    "#     , cv=cv, scoring='accuracy')\n",
    "#     classifier.fit(X,y)\n",
    "    \n",
    "#     best_estimator = classifier.best_estimator_\n",
    "#     best_score = classifier.best_score_\n",
    "#     best_params = classifier.best_params_\n",
    "    \n",
    "#     print('|Best Model|: ----------', best_estimator\n",
    "#           ,'\\n','|Highest Accuracy on Training|: ----------'\n",
    "#     , best_score_lr)\n",
    "    \n",
    "#     return best_estimator "
   ]
  },
  {
   "cell_type": "markdown",
   "metadata": {},
   "source": [
    "#### Debug algorithm with learning curve \n",
    "X_train is randomly split into a training and a test set 10 times (n_iter=10). Each point on the training-score curve is the average of 10 scores where the model was trained and evaluated on the first i training examples. Each point on the cross-validation score curve is the average of 10 scores where the model was trained on the first i training examples and evaluated on all examples of the test set."
   ]
  },
  {
   "cell_type": "code",
   "execution_count": 12,
   "metadata": {
    "collapsed": true
   },
   "outputs": [],
   "source": [
    "def plot_learning_curve(estimator, title, X, y, ylim=None, cv=None,\n",
    "                        n_jobs=1, train_sizes=np.linspace(.1, 1.0, 5)):\n",
    "    \"\"\" This function plots the learning curve. \"\"\"\n",
    "    plt.figure()\n",
    "    plt.title(title)\n",
    "    if ylim is not None:\n",
    "        plt.ylim(*ylim)\n",
    "    plt.xlabel(\"Training examples\")\n",
    "    plt.ylabel(\"Score\")\n",
    "    train_sizes, train_scores, test_scores = learning_curve(\n",
    "        estimator, X, y, cv=cv, n_jobs=n_jobs, train_sizes=train_sizes)\n",
    "    train_scores_mean = np.mean(train_scores, axis=1)\n",
    "    train_scores_std = np.std(train_scores, axis=1)\n",
    "    test_scores_mean = np.mean(test_scores, axis=1)\n",
    "    test_scores_std = np.std(test_scores, axis=1)\n",
    "    plt.grid()\n",
    "\n",
    "    plt.fill_between(train_sizes, train_scores_mean - train_scores_std,\n",
    "                     train_scores_mean + train_scores_std, alpha=0.1,\n",
    "                     color=\"r\")\n",
    "    plt.fill_between(train_sizes, test_scores_mean - test_scores_std,\n",
    "                     test_scores_mean + test_scores_std\n",
    "                     , alpha=0.1, color=\"g\")\n",
    "    plt.plot(train_sizes, train_scores_mean, 'o-', color=\"r\",\n",
    "             label=\"Training score\")\n",
    "    plt.plot(train_sizes, test_scores_mean, 'o-', color=\"g\",\n",
    "             label=\"Cross-validation score\")\n",
    "\n",
    "    plt.legend(loc=\"best\")\n",
    "    return plt"
   ]
  },
  {
   "cell_type": "markdown",
   "metadata": {},
   "source": [
    "#### Evaluate on the test set"
   ]
  },
  {
   "cell_type": "code",
   "execution_count": 13,
   "metadata": {
    "collapsed": true
   },
   "outputs": [],
   "source": [
    "# def model_prediction(best_estimator, x, y):\n",
    "#     prediction = best_estimator.predict(x)\n",
    "#     test_score = accuracy_score(y, prediction)\n",
    "#     # test_score = classifier.score(X_test, y_test)\n",
    "    \n",
    "#     print('|Accuracy on Testing|: ', test_score)\n",
    "    \n",
    "#     return test_score,prediction "
   ]
  },
  {
   "cell_type": "markdown",
   "metadata": {},
   "source": [
    "#### Cross validation scores "
   ]
  },
  {
   "cell_type": "code",
   "execution_count": 14,
   "metadata": {
    "collapsed": true
   },
   "outputs": [],
   "source": [
    "def cross_val_scores(best_model,x,y):\n",
    "    score = cross_val_score(best_model, x, y, cv=10)\n",
    "    return score"
   ]
  },
  {
   "cell_type": "markdown",
   "metadata": {},
   "source": [
    "#### Plot confusion matrix "
   ]
  },
  {
   "cell_type": "code",
   "execution_count": 15,
   "metadata": {
    "collapsed": true
   },
   "outputs": [],
   "source": [
    "def plot_confusion_matrix(cm, classes,\n",
    "                          normalize=False,\n",
    "                          title='Confusion matrix',\n",
    "                          cmap=plt.cm.RdGy):\n",
    "    \"\"\"\n",
    "    This function prints and plots the confusion matrix.\n",
    "    \"\"\"\n",
    "    if normalize:\n",
    "        cm = cm.astype('float') / cm.sum(axis=1)[:, np.newaxis]\n",
    "        print(\"Normalized confusion matrix\")\n",
    "    else:\n",
    "        print('Confusion matrix, without normalization')\n",
    "\n",
    "    print(cm)\n",
    "\n",
    "    plt.imshow(cm, interpolation='nearest', cmap=cmap)\n",
    "    plt.title(title,fontsize=20)\n",
    "    plt.colorbar()\n",
    "    tick_marks = np.arange(len(classes))\n",
    "    plt.xticks(tick_marks, classes, rotation=45)\n",
    "    plt.yticks(tick_marks, classes)\n",
    "\n",
    "    fmt = '.1f' if normalize else 'd'\n",
    "    thresh = cm.max() / 2.\n",
    "    for i, j in itertools.product(range(cm.shape[0]), range(cm.shape[1])):\n",
    "        plt.text(j, i, format(cm[i, j], fmt),\n",
    "                 horizontalalignment=\"center\",\n",
    "                 color=\"white\" if cm[i, j] > thresh else \"black\")\n",
    "\n",
    "    plt.tight_layout()\n",
    "    plt.ylabel('True label',fontsize=15)\n",
    "    plt.xlabel('Predicted label',fontsize=15)"
   ]
  },
  {
   "cell_type": "markdown",
   "metadata": {},
   "source": [
    "### Classification Estimator 1: Logistic Regression"
   ]
  },
  {
   "cell_type": "code",
   "execution_count": 16,
   "metadata": {},
   "outputs": [
    {
     "name": "stdout",
     "output_type": "stream",
     "text": [
      "|Accuracy on Training|:  0.726518444021 \n",
      " |Accuracy on Testing|:  0.692952317104 \n",
      " |F1 Score|:  0.573853686575\n"
     ]
    }
   ],
   "source": [
    "# Initiates parameters:  \n",
    "# Uses grid search to find out the best C value.\n",
    "# Basically smaller C specify stronger regularization.\n",
    "\n",
    "# parameters_lr = {'C': [0.01, 0.1, 1, 10] }  \n",
    "\n",
    "# Initiates estimator: \n",
    "# Can play around with C value here if not with GridSearchCV\n",
    "estimator_lr = LogisticRegression(C=10)\n",
    "\n",
    "# W/o GridSearchCV parameter-tuning \n",
    "result_lr = modeling(estimator_lr, X_train, y_train, X_test, y_test)"
   ]
  },
  {
   "cell_type": "code",
   "execution_count": 17,
   "metadata": {
    "collapsed": true
   },
   "outputs": [],
   "source": [
    "# W/ GridSearchCV parameter-tuning \n",
    "\n",
    "# best_lr = model_initiation(estimator_lr, X_train, y_train\n",
    "#                            , cv=cv, param_grid=parameters_lr)\n",
    "\n",
    "# result_lr = model_prediction(best_lr, X_test, y_test)"
   ]
  },
  {
   "cell_type": "code",
   "execution_count": 18,
   "metadata": {},
   "outputs": [
    {
     "data": {
      "image/png": "[encoded data removed]",
      "text/plain": [
       "<matplotlib.figure.Figure at 0x11e2cbba8>"
      ]
     },
     "metadata": {},
     "output_type": "display_data"
    }
   ],
   "source": [
    "model_lr = result_lr[1]\n",
    "title_lr = 'Learning Curves (LogisticRegression, c=10)' \n",
    "plot_learning_curve(model_lr, title_lr, X_train, y_train, cv=10)\n",
    "# plt.savefig('../../Visuals/learningcurve_lr.png'\n",
    "#             , dpi=200, bbox_inches = 'tight')"
   ]
  },
  {
   "cell_type": "code",
   "execution_count": 154,
   "metadata": {
    "collapsed": true
   },
   "outputs": [],
   "source": [
    "df_test = pd.DataFrame(y_test)"
   ]
  },
  {
   "cell_type": "code",
   "execution_count": 155,
   "metadata": {},
   "outputs": [
    {
     "data": {
      "text/html": [
       "<div>\n",
       "<style>\n",
       "    .dataframe thead tr:only-child th {\n",
       "        text-align: right;\n",
       "    }\n",
       "\n",
       "    .dataframe thead th {\n",
       "        text-align: left;\n",
       "    }\n",
       "\n",
       "    .dataframe tbody tr th {\n",
       "        vertical-align: top;\n",
       "    }\n",
       "</style>\n",
       "<table border=\"1\" class=\"dataframe\">\n",
       "  <thead>\n",
       "    <tr style=\"text-align: right;\">\n",
       "      <th></th>\n",
       "      <th>cuisine</th>\n",
       "      <th>predicted_lr</th>\n",
       "    </tr>\n",
       "  </thead>\n",
       "  <tbody>\n",
       "    <tr>\n",
       "      <th>26745</th>\n",
       "      <td>cajun_creole</td>\n",
       "      <td>cajun_creole</td>\n",
       "    </tr>\n",
       "    <tr>\n",
       "      <th>2842</th>\n",
       "      <td>mexican</td>\n",
       "      <td>mexican</td>\n",
       "    </tr>\n",
       "    <tr>\n",
       "      <th>36766</th>\n",
       "      <td>spanish</td>\n",
       "      <td>mexican</td>\n",
       "    </tr>\n",
       "    <tr>\n",
       "      <th>19107</th>\n",
       "      <td>moroccan</td>\n",
       "      <td>mexican</td>\n",
       "    </tr>\n",
       "    <tr>\n",
       "      <th>38651</th>\n",
       "      <td>japanese</td>\n",
       "      <td>southern_us</td>\n",
       "    </tr>\n",
       "    <tr>\n",
       "      <th>11251</th>\n",
       "      <td>italian</td>\n",
       "      <td>italian</td>\n",
       "    </tr>\n",
       "    <tr>\n",
       "      <th>8109</th>\n",
       "      <td>korean</td>\n",
       "      <td>italian</td>\n",
       "    </tr>\n",
       "    <tr>\n",
       "      <th>20919</th>\n",
       "      <td>british</td>\n",
       "      <td>irish</td>\n",
       "    </tr>\n",
       "    <tr>\n",
       "      <th>2472</th>\n",
       "      <td>southern_us</td>\n",
       "      <td>southern_us</td>\n",
       "    </tr>\n",
       "    <tr>\n",
       "      <th>36048</th>\n",
       "      <td>mexican</td>\n",
       "      <td>italian</td>\n",
       "    </tr>\n",
       "  </tbody>\n",
       "</table>\n",
       "</div>"
      ],
      "text/plain": [
       "            cuisine  predicted_lr\n",
       "26745  cajun_creole  cajun_creole\n",
       "2842        mexican       mexican\n",
       "36766       spanish       mexican\n",
       "19107      moroccan       mexican\n",
       "38651      japanese   southern_us\n",
       "11251       italian       italian\n",
       "8109         korean       italian\n",
       "20919       british         irish\n",
       "2472    southern_us   southern_us\n",
       "36048       mexican       italian"
      ]
     },
     "execution_count": 155,
     "metadata": {},
     "output_type": "execute_result"
    }
   ],
   "source": [
    "df_test['predicted_lr'] = result_lr[0]\n",
    "df_test.head(10)"
   ]
  },
  {
   "cell_type": "code",
   "execution_count": 156,
   "metadata": {},
   "outputs": [
    {
     "name": "stdout",
     "output_type": "stream",
     "text": [
      "              precision    recall  f1-score   support\n",
      "\n",
      "   brazilian       0.41      0.21      0.27       135\n",
      "     british       0.36      0.14      0.20       221\n",
      "cajun_creole       0.72      0.65      0.68       486\n",
      "     chinese       0.72      0.80      0.76       778\n",
      "    filipino       0.60      0.36      0.45       233\n",
      "      french       0.50      0.49      0.50       774\n",
      "       greek       0.69      0.59      0.63       354\n",
      "      indian       0.84      0.84      0.84       876\n",
      "       irish       0.48      0.27      0.34       190\n",
      "     italian       0.70      0.85      0.77      2352\n",
      "    jamaican       0.67      0.51      0.58       154\n",
      "    japanese       0.77      0.51      0.61       459\n",
      "      korean       0.69      0.64      0.67       257\n",
      "     mexican       0.84      0.88      0.86      1929\n",
      "    moroccan       0.78      0.69      0.73       243\n",
      "     russian       0.59      0.30      0.40       156\n",
      " southern_us       0.55      0.68      0.61      1346\n",
      "     spanish       0.47      0.28      0.36       313\n",
      "        thai       0.73      0.72      0.72       435\n",
      "  vietnamese       0.63      0.40      0.49       242\n",
      "\n",
      " avg / total       0.68      0.69      0.68     11933\n",
      "\n"
     ]
    }
   ],
   "source": [
    "print(classification_report(y_test, result_lr[0]))"
   ]
  },
  {
   "cell_type": "markdown",
   "metadata": {},
   "source": [
    "### Classification Estimator: Linear Support Vector Classification\n",
    "* Same process applies:\n",
    "    1. Choose estimator\n",
    "    2. Choose cross-validation iterator\n",
    "    3. Tune the hyperparameters\n",
    "    4. Debug algorithm with learning curve\n",
    "    5. Evaluate on the test set"
   ]
  },
  {
   "cell_type": "code",
   "execution_count": 19,
   "metadata": {},
   "outputs": [
    {
     "name": "stdout",
     "output_type": "stream",
     "text": [
      "|Accuracy on Training|:  0.71990948601 \n",
      " |Accuracy on Testing|:  0.688762255929 \n",
      " |F1 Score|:  0.558827170468\n"
     ]
    }
   ],
   "source": [
    "# Initiates estimator: \n",
    "# Played around with C and multi_class parameters (ovr and crammer_singer)\n",
    "estimator_svc = LinearSVC(random_state=7777,penalty='l2', C=10)\n",
    "result_svc = modeling(estimator_svc, X_train, y_train, X_test, y_test)"
   ]
  },
  {
   "cell_type": "code",
   "execution_count": 158,
   "metadata": {
    "collapsed": true
   },
   "outputs": [],
   "source": [
    "# W/ GridSearchCV \n",
    "\n",
    "# best_svc = model_initiation(estimator_svc\n",
    "#, X_train, y_train, cv=cv, param_grid=parameters_svc)\n",
    "\n",
    "# result_svc = model_prediction(best_svc, X_test, y_test)"
   ]
  },
  {
   "cell_type": "code",
   "execution_count": 20,
   "metadata": {},
   "outputs": [
    {
     "data": {
      "image/png": "[encoded data removed]",
      "text/plain": [
       "<matplotlib.figure.Figure at 0x11e5d3be0>"
      ]
     },
     "metadata": {},
     "output_type": "display_data"
    }
   ],
   "source": [
    "model_svc = result_svc[1]\n",
    "title_svc = 'Learning Curves (LinearSVC)' \n",
    "plot_learning_curve(model_svc, title_svc, X_train, y_train, cv=10)\n",
    "# plt.savefig('../../Visuals/learningcurve_svc.png'\n",
    "#             , dpi=200, bbox_inches = 'tight')"
   ]
  },
  {
   "cell_type": "code",
   "execution_count": 160,
   "metadata": {},
   "outputs": [
    {
     "data": {
      "text/html": [
       "<div>\n",
       "<style>\n",
       "    .dataframe thead tr:only-child th {\n",
       "        text-align: right;\n",
       "    }\n",
       "\n",
       "    .dataframe thead th {\n",
       "        text-align: left;\n",
       "    }\n",
       "\n",
       "    .dataframe tbody tr th {\n",
       "        vertical-align: top;\n",
       "    }\n",
       "</style>\n",
       "<table border=\"1\" class=\"dataframe\">\n",
       "  <thead>\n",
       "    <tr style=\"text-align: right;\">\n",
       "      <th></th>\n",
       "      <th>cuisine</th>\n",
       "      <th>predicted_lr</th>\n",
       "      <th>predicted_svc</th>\n",
       "    </tr>\n",
       "  </thead>\n",
       "  <tbody>\n",
       "    <tr>\n",
       "      <th>26745</th>\n",
       "      <td>cajun_creole</td>\n",
       "      <td>cajun_creole</td>\n",
       "      <td>cajun_creole</td>\n",
       "    </tr>\n",
       "    <tr>\n",
       "      <th>2842</th>\n",
       "      <td>mexican</td>\n",
       "      <td>mexican</td>\n",
       "      <td>mexican</td>\n",
       "    </tr>\n",
       "    <tr>\n",
       "      <th>36766</th>\n",
       "      <td>spanish</td>\n",
       "      <td>mexican</td>\n",
       "      <td>mexican</td>\n",
       "    </tr>\n",
       "    <tr>\n",
       "      <th>19107</th>\n",
       "      <td>moroccan</td>\n",
       "      <td>mexican</td>\n",
       "      <td>mexican</td>\n",
       "    </tr>\n",
       "    <tr>\n",
       "      <th>38651</th>\n",
       "      <td>japanese</td>\n",
       "      <td>southern_us</td>\n",
       "      <td>southern_us</td>\n",
       "    </tr>\n",
       "    <tr>\n",
       "      <th>11251</th>\n",
       "      <td>italian</td>\n",
       "      <td>italian</td>\n",
       "      <td>italian</td>\n",
       "    </tr>\n",
       "    <tr>\n",
       "      <th>8109</th>\n",
       "      <td>korean</td>\n",
       "      <td>italian</td>\n",
       "      <td>cajun_creole</td>\n",
       "    </tr>\n",
       "    <tr>\n",
       "      <th>20919</th>\n",
       "      <td>british</td>\n",
       "      <td>irish</td>\n",
       "      <td>southern_us</td>\n",
       "    </tr>\n",
       "    <tr>\n",
       "      <th>2472</th>\n",
       "      <td>southern_us</td>\n",
       "      <td>southern_us</td>\n",
       "      <td>southern_us</td>\n",
       "    </tr>\n",
       "    <tr>\n",
       "      <th>36048</th>\n",
       "      <td>mexican</td>\n",
       "      <td>italian</td>\n",
       "      <td>italian</td>\n",
       "    </tr>\n",
       "  </tbody>\n",
       "</table>\n",
       "</div>"
      ],
      "text/plain": [
       "            cuisine  predicted_lr predicted_svc\n",
       "26745  cajun_creole  cajun_creole  cajun_creole\n",
       "2842        mexican       mexican       mexican\n",
       "36766       spanish       mexican       mexican\n",
       "19107      moroccan       mexican       mexican\n",
       "38651      japanese   southern_us   southern_us\n",
       "11251       italian       italian       italian\n",
       "8109         korean       italian  cajun_creole\n",
       "20919       british         irish   southern_us\n",
       "2472    southern_us   southern_us   southern_us\n",
       "36048       mexican       italian       italian"
      ]
     },
     "execution_count": 160,
     "metadata": {},
     "output_type": "execute_result"
    }
   ],
   "source": [
    "df_test['predicted_svc'] = result_svc[0]\n",
    "df_test.head(10)"
   ]
  },
  {
   "cell_type": "code",
   "execution_count": 161,
   "metadata": {},
   "outputs": [
    {
     "name": "stdout",
     "output_type": "stream",
     "text": [
      "              precision    recall  f1-score   support\n",
      "\n",
      "   brazilian       0.43      0.15      0.22       135\n",
      "     british       0.38      0.10      0.16       221\n",
      "cajun_creole       0.68      0.64      0.66       486\n",
      "     chinese       0.70      0.81      0.75       778\n",
      "    filipino       0.62      0.30      0.40       233\n",
      "      french       0.51      0.48      0.49       774\n",
      "       greek       0.70      0.58      0.64       354\n",
      "      indian       0.83      0.84      0.83       876\n",
      "       irish       0.48      0.24      0.32       190\n",
      "     italian       0.69      0.86      0.77      2352\n",
      "    jamaican       0.61      0.52      0.56       154\n",
      "    japanese       0.81      0.49      0.61       459\n",
      "      korean       0.69      0.64      0.67       257\n",
      "     mexican       0.83      0.88      0.86      1929\n",
      "    moroccan       0.70      0.70      0.70       243\n",
      "     russian       0.55      0.26      0.36       156\n",
      " southern_us       0.54      0.68      0.60      1346\n",
      "     spanish       0.54      0.26      0.35       313\n",
      "        thai       0.71      0.73      0.72       435\n",
      "  vietnamese       0.64      0.39      0.48       242\n",
      "\n",
      " avg / total       0.68      0.69      0.67     11933\n",
      "\n"
     ]
    }
   ],
   "source": [
    "print(classification_report(y_test, result_svc[0]))"
   ]
  },
  {
   "cell_type": "markdown",
   "metadata": {},
   "source": [
    "### Classification Estimator: Random Forest\n",
    "* Same process applies:\n",
    "    1. Choose estimator\n",
    "    2. Choose cross-validation iterator\n",
    "    3. Tune the hyperparameters\n",
    "    4. Debug algorithm with learning curve\n",
    "    5. Evaluate on the test set\n",
    "    6. Test over-fitting in model selection "
   ]
  },
  {
   "cell_type": "code",
   "execution_count": 21,
   "metadata": {},
   "outputs": [
    {
     "name": "stdout",
     "output_type": "stream",
     "text": [
      "|Accuracy on Training|:  0.888258324054 \n",
      " |Accuracy on Testing|:  0.690354479175 \n",
      " |F1 Score|:  0.5719763857\n"
     ]
    }
   ],
   "source": [
    "estimator_rf = RandomForestClassifier(random_state=7777\n",
    "                                      ,max_features='sqrt'\n",
    "                                      ,n_estimators=85\n",
    "                                      ,min_samples_split=10\n",
    "                                      ,n_jobs=-1\n",
    "                                      ,oob_score=True)\n",
    "result_rf = modeling(estimator_rf, X_train, y_train, X_test, y_test)"
   ]
  },
  {
   "cell_type": "code",
   "execution_count": 22,
   "metadata": {},
   "outputs": [
    {
     "data": {
      "image/png": "[encoded data removed]",
      "text/plain": [
       "<matplotlib.figure.Figure at 0x11287a908>"
      ]
     },
     "metadata": {},
     "output_type": "display_data"
    }
   ],
   "source": [
    "model_rf = result_rf[1]\n",
    "title_rf = 'Learning Curves (Random Forest)' \n",
    "plot_learning_curve(model_rf, title_rf, X_train, y_train, cv=10)\n",
    "# plt.savefig('../../Visuals/learningcurve_rf.png'\n",
    "#             , dpi=200, bbox_inches = 'tight')"
   ]
  },
  {
   "cell_type": "code",
   "execution_count": 164,
   "metadata": {},
   "outputs": [
    {
     "data": {
      "text/html": [
       "<div>\n",
       "<style>\n",
       "    .dataframe thead tr:only-child th {\n",
       "        text-align: right;\n",
       "    }\n",
       "\n",
       "    .dataframe thead th {\n",
       "        text-align: left;\n",
       "    }\n",
       "\n",
       "    .dataframe tbody tr th {\n",
       "        vertical-align: top;\n",
       "    }\n",
       "</style>\n",
       "<table border=\"1\" class=\"dataframe\">\n",
       "  <thead>\n",
       "    <tr style=\"text-align: right;\">\n",
       "      <th></th>\n",
       "      <th>cuisine</th>\n",
       "      <th>predicted_lr</th>\n",
       "      <th>predicted_svc</th>\n",
       "      <th>predicted_rf</th>\n",
       "    </tr>\n",
       "  </thead>\n",
       "  <tbody>\n",
       "    <tr>\n",
       "      <th>26745</th>\n",
       "      <td>cajun_creole</td>\n",
       "      <td>cajun_creole</td>\n",
       "      <td>cajun_creole</td>\n",
       "      <td>cajun_creole</td>\n",
       "    </tr>\n",
       "    <tr>\n",
       "      <th>2842</th>\n",
       "      <td>mexican</td>\n",
       "      <td>mexican</td>\n",
       "      <td>mexican</td>\n",
       "      <td>mexican</td>\n",
       "    </tr>\n",
       "    <tr>\n",
       "      <th>36766</th>\n",
       "      <td>spanish</td>\n",
       "      <td>mexican</td>\n",
       "      <td>mexican</td>\n",
       "      <td>mexican</td>\n",
       "    </tr>\n",
       "    <tr>\n",
       "      <th>19107</th>\n",
       "      <td>moroccan</td>\n",
       "      <td>mexican</td>\n",
       "      <td>mexican</td>\n",
       "      <td>indian</td>\n",
       "    </tr>\n",
       "    <tr>\n",
       "      <th>38651</th>\n",
       "      <td>japanese</td>\n",
       "      <td>southern_us</td>\n",
       "      <td>southern_us</td>\n",
       "      <td>southern_us</td>\n",
       "    </tr>\n",
       "    <tr>\n",
       "      <th>11251</th>\n",
       "      <td>italian</td>\n",
       "      <td>italian</td>\n",
       "      <td>italian</td>\n",
       "      <td>italian</td>\n",
       "    </tr>\n",
       "    <tr>\n",
       "      <th>8109</th>\n",
       "      <td>korean</td>\n",
       "      <td>italian</td>\n",
       "      <td>cajun_creole</td>\n",
       "      <td>cajun_creole</td>\n",
       "    </tr>\n",
       "    <tr>\n",
       "      <th>20919</th>\n",
       "      <td>british</td>\n",
       "      <td>irish</td>\n",
       "      <td>southern_us</td>\n",
       "      <td>southern_us</td>\n",
       "    </tr>\n",
       "    <tr>\n",
       "      <th>2472</th>\n",
       "      <td>southern_us</td>\n",
       "      <td>southern_us</td>\n",
       "      <td>southern_us</td>\n",
       "      <td>southern_us</td>\n",
       "    </tr>\n",
       "    <tr>\n",
       "      <th>36048</th>\n",
       "      <td>mexican</td>\n",
       "      <td>italian</td>\n",
       "      <td>italian</td>\n",
       "      <td>southern_us</td>\n",
       "    </tr>\n",
       "  </tbody>\n",
       "</table>\n",
       "</div>"
      ],
      "text/plain": [
       "            cuisine  predicted_lr predicted_svc  predicted_rf\n",
       "26745  cajun_creole  cajun_creole  cajun_creole  cajun_creole\n",
       "2842        mexican       mexican       mexican       mexican\n",
       "36766       spanish       mexican       mexican       mexican\n",
       "19107      moroccan       mexican       mexican        indian\n",
       "38651      japanese   southern_us   southern_us   southern_us\n",
       "11251       italian       italian       italian       italian\n",
       "8109         korean       italian  cajun_creole  cajun_creole\n",
       "20919       british         irish   southern_us   southern_us\n",
       "2472    southern_us   southern_us   southern_us   southern_us\n",
       "36048       mexican       italian       italian   southern_us"
      ]
     },
     "execution_count": 164,
     "metadata": {},
     "output_type": "execute_result"
    }
   ],
   "source": [
    "df_test['predicted_rf'] = result_rf[0]\n",
    "df_test.head(10)"
   ]
  },
  {
   "cell_type": "code",
   "execution_count": 165,
   "metadata": {},
   "outputs": [
    {
     "name": "stdout",
     "output_type": "stream",
     "text": [
      "              precision    recall  f1-score   support\n",
      "\n",
      "   brazilian       0.50      0.28      0.36       135\n",
      "     british       0.34      0.19      0.24       221\n",
      "cajun_creole       0.72      0.65      0.68       486\n",
      "     chinese       0.69      0.82      0.75       778\n",
      "    filipino       0.63      0.35      0.45       233\n",
      "      french       0.47      0.46      0.47       774\n",
      "       greek       0.72      0.59      0.65       354\n",
      "      indian       0.78      0.87      0.83       876\n",
      "       irish       0.48      0.31      0.37       190\n",
      "     italian       0.71      0.84      0.77      2352\n",
      "    jamaican       0.70      0.49      0.57       154\n",
      "    japanese       0.73      0.54      0.62       459\n",
      "      korean       0.72      0.54      0.62       257\n",
      "     mexican       0.80      0.88      0.84      1929\n",
      "    moroccan       0.81      0.61      0.69       243\n",
      "     russian       0.59      0.26      0.36       156\n",
      " southern_us       0.58      0.67      0.62      1346\n",
      "     spanish       0.52      0.24      0.33       313\n",
      "        thai       0.72      0.76      0.74       435\n",
      "  vietnamese       0.73      0.39      0.51       242\n",
      "\n",
      " avg / total       0.68      0.69      0.68     11933\n",
      "\n"
     ]
    }
   ],
   "source": [
    "print(classification_report(y_test, result_rf[0]))"
   ]
  },
  {
   "cell_type": "markdown",
   "metadata": {},
   "source": [
    "### Classification Estimator: Bernoulli Naive Bayes"
   ]
  },
  {
   "cell_type": "code",
   "execution_count": 23,
   "metadata": {},
   "outputs": [
    {
     "name": "stdout",
     "output_type": "stream",
     "text": [
      "|Accuracy on Training|:  0.687690815703 \n",
      " |Accuracy on Testing|:  0.669404173301 \n",
      " |F1 Score|:  0.549853478318\n"
     ]
    }
   ],
   "source": [
    "estimator_nb = BernoulliNB(alpha=1)\n",
    "result_nb = modeling(estimator_nb, X_train, y_train, X_test, y_test)"
   ]
  },
  {
   "cell_type": "code",
   "execution_count": 24,
   "metadata": {},
   "outputs": [
    {
     "data": {
      "image/png": "[encoded data removed]",
      "text/plain": [
       "<matplotlib.figure.Figure at 0x1120f09b0>"
      ]
     },
     "metadata": {},
     "output_type": "display_data"
    }
   ],
   "source": [
    "model_nb = result_nb[1]\n",
    "title_nb = 'Learning Curves (Bernoulli Naive Bayes)' \n",
    "plot_learning_curve(model_nb, title_svc, X_train, y_train, cv=10)\n",
    "# plt.savefig('../../Visuals/learningcurve_nb.png'\n",
    "#             , dpi=200, bbox_inches = 'tight')"
   ]
  },
  {
   "cell_type": "code",
   "execution_count": 168,
   "metadata": {},
   "outputs": [
    {
     "data": {
      "text/html": [
       "<div>\n",
       "<style>\n",
       "    .dataframe thead tr:only-child th {\n",
       "        text-align: right;\n",
       "    }\n",
       "\n",
       "    .dataframe thead th {\n",
       "        text-align: left;\n",
       "    }\n",
       "\n",
       "    .dataframe tbody tr th {\n",
       "        vertical-align: top;\n",
       "    }\n",
       "</style>\n",
       "<table border=\"1\" class=\"dataframe\">\n",
       "  <thead>\n",
       "    <tr style=\"text-align: right;\">\n",
       "      <th></th>\n",
       "      <th>cuisine</th>\n",
       "      <th>predicted_lr</th>\n",
       "      <th>predicted_svc</th>\n",
       "      <th>predicted_rf</th>\n",
       "      <th>predicted_nb</th>\n",
       "    </tr>\n",
       "  </thead>\n",
       "  <tbody>\n",
       "    <tr>\n",
       "      <th>26745</th>\n",
       "      <td>cajun_creole</td>\n",
       "      <td>cajun_creole</td>\n",
       "      <td>cajun_creole</td>\n",
       "      <td>cajun_creole</td>\n",
       "      <td>cajun_creole</td>\n",
       "    </tr>\n",
       "    <tr>\n",
       "      <th>2842</th>\n",
       "      <td>mexican</td>\n",
       "      <td>mexican</td>\n",
       "      <td>mexican</td>\n",
       "      <td>mexican</td>\n",
       "      <td>mexican</td>\n",
       "    </tr>\n",
       "    <tr>\n",
       "      <th>36766</th>\n",
       "      <td>spanish</td>\n",
       "      <td>mexican</td>\n",
       "      <td>mexican</td>\n",
       "      <td>mexican</td>\n",
       "      <td>mexican</td>\n",
       "    </tr>\n",
       "    <tr>\n",
       "      <th>19107</th>\n",
       "      <td>moroccan</td>\n",
       "      <td>mexican</td>\n",
       "      <td>mexican</td>\n",
       "      <td>indian</td>\n",
       "      <td>moroccan</td>\n",
       "    </tr>\n",
       "    <tr>\n",
       "      <th>38651</th>\n",
       "      <td>japanese</td>\n",
       "      <td>southern_us</td>\n",
       "      <td>southern_us</td>\n",
       "      <td>southern_us</td>\n",
       "      <td>russian</td>\n",
       "    </tr>\n",
       "    <tr>\n",
       "      <th>11251</th>\n",
       "      <td>italian</td>\n",
       "      <td>italian</td>\n",
       "      <td>italian</td>\n",
       "      <td>italian</td>\n",
       "      <td>italian</td>\n",
       "    </tr>\n",
       "    <tr>\n",
       "      <th>8109</th>\n",
       "      <td>korean</td>\n",
       "      <td>italian</td>\n",
       "      <td>cajun_creole</td>\n",
       "      <td>cajun_creole</td>\n",
       "      <td>italian</td>\n",
       "    </tr>\n",
       "    <tr>\n",
       "      <th>20919</th>\n",
       "      <td>british</td>\n",
       "      <td>irish</td>\n",
       "      <td>southern_us</td>\n",
       "      <td>southern_us</td>\n",
       "      <td>southern_us</td>\n",
       "    </tr>\n",
       "    <tr>\n",
       "      <th>2472</th>\n",
       "      <td>southern_us</td>\n",
       "      <td>southern_us</td>\n",
       "      <td>southern_us</td>\n",
       "      <td>southern_us</td>\n",
       "      <td>southern_us</td>\n",
       "    </tr>\n",
       "    <tr>\n",
       "      <th>36048</th>\n",
       "      <td>mexican</td>\n",
       "      <td>italian</td>\n",
       "      <td>italian</td>\n",
       "      <td>southern_us</td>\n",
       "      <td>italian</td>\n",
       "    </tr>\n",
       "  </tbody>\n",
       "</table>\n",
       "</div>"
      ],
      "text/plain": [
       "            cuisine  predicted_lr predicted_svc  predicted_rf  predicted_nb\n",
       "26745  cajun_creole  cajun_creole  cajun_creole  cajun_creole  cajun_creole\n",
       "2842        mexican       mexican       mexican       mexican       mexican\n",
       "36766       spanish       mexican       mexican       mexican       mexican\n",
       "19107      moroccan       mexican       mexican        indian      moroccan\n",
       "38651      japanese   southern_us   southern_us   southern_us       russian\n",
       "11251       italian       italian       italian       italian       italian\n",
       "8109         korean       italian  cajun_creole  cajun_creole       italian\n",
       "20919       british         irish   southern_us   southern_us   southern_us\n",
       "2472    southern_us   southern_us   southern_us   southern_us   southern_us\n",
       "36048       mexican       italian       italian   southern_us       italian"
      ]
     },
     "execution_count": 168,
     "metadata": {},
     "output_type": "execute_result"
    }
   ],
   "source": [
    "df_test['predicted_nb'] = result_nb[0]\n",
    "df_test.head(10)"
   ]
  },
  {
   "cell_type": "code",
   "execution_count": 169,
   "metadata": {},
   "outputs": [
    {
     "name": "stdout",
     "output_type": "stream",
     "text": [
      "              precision    recall  f1-score   support\n",
      "\n",
      "   brazilian       0.39      0.19      0.26       135\n",
      "     british       0.22      0.16      0.19       221\n",
      "cajun_creole       0.61      0.65      0.63       486\n",
      "     chinese       0.72      0.80      0.76       778\n",
      "    filipino       0.47      0.31      0.37       233\n",
      "      french       0.46      0.47      0.46       774\n",
      "       greek       0.65      0.57      0.61       354\n",
      "      indian       0.85      0.83      0.84       876\n",
      "       irish       0.35      0.19      0.25       190\n",
      "     italian       0.72      0.81      0.76      2352\n",
      "    jamaican       0.66      0.49      0.57       154\n",
      "    japanese       0.71      0.52      0.60       459\n",
      "      korean       0.70      0.60      0.64       257\n",
      "     mexican       0.88      0.84      0.86      1929\n",
      "    moroccan       0.82      0.71      0.76       243\n",
      "     russian       0.59      0.26      0.36       156\n",
      " southern_us       0.48      0.66      0.55      1346\n",
      "     spanish       0.42      0.28      0.34       313\n",
      "        thai       0.70      0.70      0.70       435\n",
      "  vietnamese       0.57      0.46      0.51       242\n",
      "\n",
      " avg / total       0.67      0.67      0.66     11933\n",
      "\n"
     ]
    }
   ],
   "source": [
    "# classification report\n",
    "print(classification_report(y_test, result_nb[0]))"
   ]
  },
  {
   "cell_type": "markdown",
   "metadata": {},
   "source": [
    "## Model Performance Summary"
   ]
  },
  {
   "cell_type": "code",
   "execution_count": 170,
   "metadata": {
    "collapsed": true
   },
   "outputs": [],
   "source": [
    "model_results = pd.DataFrame(\n",
    "    {'Estimator': ['Logistic Regression','LinearSVC'\n",
    "                   ,'Random Forest','Bernoulli Naive Bayes'],\n",
    "     'Accuracy': [result_lr[2], result_svc[2], result_rf[2], result_nb[2]],\n",
    "     'F1': [result_lr[3],result_svc[3],result_rf[3],result_nb[3]]\n",
    "    })"
   ]
  },
  {
   "cell_type": "code",
   "execution_count": 171,
   "metadata": {},
   "outputs": [
    {
     "data": {
      "text/html": [
       "<div>\n",
       "<style>\n",
       "    .dataframe thead tr:only-child th {\n",
       "        text-align: right;\n",
       "    }\n",
       "\n",
       "    .dataframe thead th {\n",
       "        text-align: left;\n",
       "    }\n",
       "\n",
       "    .dataframe tbody tr th {\n",
       "        vertical-align: top;\n",
       "    }\n",
       "</style>\n",
       "<table border=\"1\" class=\"dataframe\">\n",
       "  <thead>\n",
       "    <tr style=\"text-align: right;\">\n",
       "      <th></th>\n",
       "      <th>Accuracy</th>\n",
       "      <th>Estimator</th>\n",
       "      <th>F1</th>\n",
       "    </tr>\n",
       "  </thead>\n",
       "  <tbody>\n",
       "    <tr>\n",
       "      <th>0</th>\n",
       "      <td>0.692450</td>\n",
       "      <td>Logistic Regression</td>\n",
       "      <td>0.572901</td>\n",
       "    </tr>\n",
       "    <tr>\n",
       "      <th>1</th>\n",
       "      <td>0.688092</td>\n",
       "      <td>LinearSVC</td>\n",
       "      <td>0.557349</td>\n",
       "    </tr>\n",
       "    <tr>\n",
       "      <th>2</th>\n",
       "      <td>0.690271</td>\n",
       "      <td>Random Forest</td>\n",
       "      <td>0.573963</td>\n",
       "    </tr>\n",
       "    <tr>\n",
       "      <th>3</th>\n",
       "      <td>0.668818</td>\n",
       "      <td>Bernoulli Naive Bayes</td>\n",
       "      <td>0.550126</td>\n",
       "    </tr>\n",
       "  </tbody>\n",
       "</table>\n",
       "</div>"
      ],
      "text/plain": [
       "   Accuracy              Estimator        F1\n",
       "0  0.692450    Logistic Regression  0.572901\n",
       "1  0.688092              LinearSVC  0.557349\n",
       "2  0.690271          Random Forest  0.573963\n",
       "3  0.668818  Bernoulli Naive Bayes  0.550126"
      ]
     },
     "execution_count": 171,
     "metadata": {},
     "output_type": "execute_result"
    }
   ],
   "source": [
    "model_results\n"
   ]
  },
  {
   "cell_type": "code",
   "execution_count": 32,
   "metadata": {
    "scrolled": false
   },
   "outputs": [
    {
     "name": "stdout",
     "output_type": "stream",
     "text": [
      "Normalized confusion matrix\n",
      "[[  2.07e-01   7.41e-03   1.48e-02   2.22e-02   1.48e-02   5.93e-02\n",
      "    0.00e+00   2.22e-02   0.00e+00   1.11e-01   7.41e-03   7.41e-03\n",
      "    0.00e+00   2.52e-01   0.00e+00   1.48e-02   2.22e-01   1.48e-02\n",
      "    2.22e-02   0.00e+00]\n",
      " [  9.05e-03   1.45e-01   1.36e-02   4.52e-03   9.05e-03   1.76e-01\n",
      "    9.05e-03   1.81e-02   5.88e-02   1.40e-01   9.05e-03   4.52e-03\n",
      "    4.52e-03   3.62e-02   1.81e-02   1.81e-02   3.08e-01   1.36e-02\n",
      "    4.52e-03   0.00e+00]\n",
      " [  2.06e-03   4.12e-03   6.50e-01   2.06e-03   4.12e-03   1.65e-02\n",
      "    4.12e-03   4.12e-03   0.00e+00   1.05e-01   6.17e-03   0.00e+00\n",
      "    0.00e+00   3.70e-02   0.00e+00   2.06e-03   1.46e-01   1.44e-02\n",
      "    0.00e+00   2.06e-03]\n",
      " [  2.57e-03   0.00e+00   3.86e-03   7.96e-01   6.43e-03   3.86e-03\n",
      "    2.57e-03   9.00e-03   1.29e-03   3.21e-02   3.86e-03   3.21e-02\n",
      "    2.83e-02   1.41e-02   0.00e+00   0.00e+00   3.86e-02   2.57e-03\n",
      "    1.54e-02   7.71e-03]\n",
      " [  8.58e-03   8.58e-03   8.58e-03   1.55e-01   3.69e-01   1.29e-02\n",
      "    8.58e-03   2.15e-02   4.29e-03   9.01e-02   0.00e+00   4.29e-03\n",
      "    3.86e-02   4.72e-02   4.29e-03   0.00e+00   1.76e-01   0.00e+00\n",
      "    3.43e-02   8.58e-03]\n",
      " [  0.00e+00   1.16e-02   6.46e-03   1.29e-03   0.00e+00   4.95e-01\n",
      "    1.16e-02   3.88e-03   1.42e-02   2.58e-01   1.03e-02   5.17e-03\n",
      "    0.00e+00   2.07e-02   1.29e-03   7.75e-03   1.32e-01   1.81e-02\n",
      "    1.29e-03   1.29e-03]\n",
      " [  0.00e+00   0.00e+00   5.65e-03   2.82e-03   0.00e+00   4.52e-02\n",
      "    5.85e-01   2.54e-02   0.00e+00   2.23e-01   2.82e-03   2.82e-03\n",
      "    0.00e+00   1.41e-02   1.69e-02   2.82e-03   4.80e-02   2.26e-02\n",
      "    2.82e-03   0.00e+00]\n",
      " [  4.57e-03   1.14e-03   2.28e-03   4.57e-03   1.14e-03   1.14e-03\n",
      "    7.99e-03   8.44e-01   1.14e-03   2.40e-02   4.57e-03   4.57e-03\n",
      "    1.14e-03   3.54e-02   1.60e-02   0.00e+00   2.28e-02   5.71e-03\n",
      "    1.71e-02   1.14e-03]\n",
      " [  5.26e-03   5.79e-02   5.26e-03   1.05e-02   0.00e+00   1.26e-01\n",
      "    5.26e-03   5.26e-03   2.74e-01   7.89e-02   5.26e-03   0.00e+00\n",
      "    1.05e-02   2.11e-02   5.26e-03   1.05e-02   3.63e-01   1.58e-02\n",
      "    0.00e+00   0.00e+00]\n",
      " [  8.50e-04   4.25e-03   5.53e-03   2.13e-03   8.50e-04   4.93e-02\n",
      "    1.53e-02   4.25e-04   2.55e-03   8.53e-01   1.70e-03   8.50e-04\n",
      "    1.28e-03   1.36e-02   1.70e-03   2.55e-03   3.66e-02   5.95e-03\n",
      "    1.28e-03   0.00e+00]\n",
      " [  1.95e-02   1.30e-02   0.00e+00   2.60e-02   2.60e-02   3.25e-02\n",
      "    0.00e+00   3.90e-02   6.49e-03   3.90e-02   5.06e-01   6.49e-03\n",
      "    0.00e+00   7.14e-02   6.49e-03   6.49e-03   1.82e-01   1.30e-02\n",
      "    6.49e-03   0.00e+00]\n",
      " [  0.00e+00   6.54e-03   6.54e-03   1.42e-01   1.09e-02   6.54e-03\n",
      "    0.00e+00   8.71e-02   2.18e-03   7.63e-02   0.00e+00   5.12e-01\n",
      "    4.58e-02   1.74e-02   0.00e+00   2.18e-03   7.41e-02   2.18e-03\n",
      "    4.36e-03   4.36e-03]\n",
      " [  0.00e+00   0.00e+00   7.78e-03   1.71e-01   1.17e-02   2.33e-02\n",
      "    3.89e-03   0.00e+00   3.89e-03   3.89e-02   0.00e+00   4.28e-02\n",
      "    6.46e-01   1.95e-02   0.00e+00   0.00e+00   1.17e-02   3.89e-03\n",
      "    0.00e+00   1.56e-02]\n",
      " [  4.15e-03   2.59e-03   5.18e-03   5.70e-03   1.56e-03   1.14e-02\n",
      "    3.11e-03   4.67e-03   0.00e+00   3.84e-02   5.18e-04   1.04e-03\n",
      "    0.00e+00   8.80e-01   1.04e-03   0.00e+00   3.27e-02   4.15e-03\n",
      "    3.11e-03   5.18e-04]\n",
      " [  4.12e-03   0.00e+00   4.12e-03   0.00e+00   0.00e+00   1.65e-02\n",
      "    2.47e-02   7.00e-02   0.00e+00   9.88e-02   4.12e-03   4.12e-03\n",
      "    0.00e+00   5.35e-02   6.79e-01   4.12e-03   1.23e-02   2.06e-02\n",
      "    4.12e-03   0.00e+00]\n",
      " [  0.00e+00   3.21e-02   1.28e-02   0.00e+00   1.92e-02   1.09e-01\n",
      "    1.92e-02   0.00e+00   3.85e-02   2.05e-01   0.00e+00   0.00e+00\n",
      "    6.41e-03   4.49e-02   3.21e-02   3.01e-01   1.79e-01   0.00e+00\n",
      "    0.00e+00   0.00e+00]\n",
      " [  7.43e-03   4.46e-03   4.90e-02   5.20e-03   4.46e-03   4.83e-02\n",
      "    5.94e-03   6.69e-03   5.94e-03   9.21e-02   7.43e-03   3.71e-03\n",
      "    3.71e-03   4.98e-02   1.49e-03   6.69e-03   6.78e-01   1.71e-02\n",
      "    1.49e-03   7.43e-04]\n",
      " [  3.19e-03   0.00e+00   1.60e-02   3.19e-03   1.28e-02   9.58e-02\n",
      "    2.24e-02   6.39e-03   1.60e-02   2.97e-01   0.00e+00   6.39e-03\n",
      "    0.00e+00   1.02e-01   2.24e-02   0.00e+00   1.02e-01   2.88e-01\n",
      "    6.39e-03   0.00e+00]\n",
      " [  6.90e-03   0.00e+00   0.00e+00   7.13e-02   1.15e-02   0.00e+00\n",
      "    2.30e-03   3.45e-02   0.00e+00   1.61e-02   0.00e+00   1.15e-02\n",
      "    0.00e+00   3.22e-02   0.00e+00   0.00e+00   1.38e-02   0.00e+00\n",
      "    7.22e-01   7.82e-02]\n",
      " [  8.26e-03   0.00e+00   8.26e-03   1.03e-01   4.13e-02   8.26e-03\n",
      "    0.00e+00   3.72e-02   0.00e+00   4.55e-02   0.00e+00   2.48e-02\n",
      "    4.13e-02   2.89e-02   0.00e+00   0.00e+00   1.24e-02   0.00e+00\n",
      "    2.52e-01   3.88e-01]]\n"
     ]
    },
    {
     "data": {
      "text/plain": [
       "<matplotlib.figure.Figure at 0x119dcc518>"
      ]
     },
     "metadata": {},
     "output_type": "display_data"
    },
    {
     "data": {
      "image/png": "[encoded data removed]",
      "text/plain": [
       "<matplotlib.figure.Figure at 0x10e376748>"
      ]
     },
     "metadata": {},
     "output_type": "display_data"
    }
   ],
   "source": [
    "class_names = df_cuisine.groupby('cuisine').sum().index\n",
    "\n",
    "# Compute confusion matrix\n",
    "cnf_matrix_lr = confusion_matrix(y_test, result_lr[0])\n",
    "np.set_printoptions(precision=2)\n",
    "\n",
    "# Plot non-normalized confusion matrix\n",
    "# plt.figure()\n",
    "# plt.figure(figsize=(12,8))\n",
    "\n",
    "# plot_confusion_matrix(cnf_matrix_lr, classes=class_names\n",
    "#                       ,title='Confusion matrix')\n",
    "\n",
    "\n",
    "# # Plot normalized confusion matrix\n",
    "plt.figure()\n",
    "plt.figure(figsize=(12,8))\n",
    "plot_confusion_matrix(cnf_matrix_lr, classes=class_names, normalize=True\n",
    "                      ,title='Normalized confusion matrix')\n",
    "\n",
    "\n",
    "# plt.savefig('../../Visuals/confusionmatrix.png'\n",
    "#             , dpi=200, bbox_inches = 'tight')\n",
    "\n",
    "# plt.savefig('../../Visuals/normalizedCM.png'\n",
    "#             , dpi=200, bbox_inches = 'tight')"
   ]
  },
  {
   "cell_type": "markdown",
   "metadata": {
    "collapsed": true
   },
   "source": []
  },
  {
   "cell_type": "markdown",
   "metadata": {},
   "source": [
    "#### Flask Preparation"
   ]
  },
  {
   "cell_type": "code",
   "execution_count": 13,
   "metadata": {
    "collapsed": true
   },
   "outputs": [],
   "source": [
    "PREDICTOR = LogisticRegression(C=10).fit(X_train,y_train)"
   ]
  },
  {
   "cell_type": "code",
   "execution_count": 14,
   "metadata": {
    "collapsed": true
   },
   "outputs": [],
   "source": [
    "# with open('../../Data/bestestimator.pickle', 'wb') as handle: \n",
    "#     pickle.dump(PREDICTOR, handle, pickle.HIGHEST_PROTOCOL)"
   ]
  },
  {
   "cell_type": "code",
   "execution_count": null,
   "metadata": {
    "collapsed": true
   },
   "outputs": [],
   "source": []
  }
 ],
 "metadata": {
  "kernelspec": {
   "display_name": "Python [conda env:py3]",
   "language": "python",
   "name": "conda-env-py3-py"
  },
  "language_info": {
   "codemirror_mode": {
    "name": "ipython",
    "version": 3
   },
   "file_extension": ".py",
   "mimetype": "text/x-python",
   "name": "python",
   "nbconvert_exporter": "python",
   "pygments_lexer": "ipython3",
   "version": "3.6.2"
  }
 },
 "nbformat": 4,
 "nbformat_minor": 2
}
