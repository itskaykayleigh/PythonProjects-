{
 "cells": [
  {
   "cell_type": "code",
   "execution_count": 248,
   "metadata": {
    "collapsed": true
   },
   "outputs": [],
   "source": [
    "import pickle\n",
    "import numpy as np \n",
    "import pandas as pd"
   ]
  },
  {
   "cell_type": "code",
   "execution_count": 392,
   "metadata": {
    "collapsed": true
   },
   "outputs": [],
   "source": [
    "ing = ['hanajei jsei', 'chocolate', 'chocolate', 'chocolate', 'chocolate']"
   ]
  },
  {
   "cell_type": "code",
   "execution_count": 393,
   "metadata": {},
   "outputs": [],
   "source": [
    "key_ing = ['flour','egg','salt','oil','water','cilantro','garlic','milk'\n",
    "           ,'pepper','tomato','corn','onion','butter','sugar','almond'\n",
    "           ,'broth','chicken','beef','pork','sausage','rice','peanut'\n",
    "           ,'cream','yeast','olives','lettuce','carrot','shrimp','walnut'\n",
    "           ,'lemon','orange','ginger','allspice','turkey','cinnamon'\n",
    "           ,'mint','parsley','thym','spinach','chive','dill','basil'\n",
    "           ,'tarragon','coriander','parmesan','rosemary','lime','pecan'\n",
    "           ,'peas','apple','vinegar','celery','cumin','turmeric','lamb'\n",
    "           ,'cardamom','oregano','chili','cabbage','soy_sauce','mustard'\n",
    "           ,'coconut_milk','raisins','nutmeg','bread','apricot','syrup'\n",
    "           ,'cheddar','mozzarella','parmesan','romano','ricotta','jack'\n",
    "           ,'squash','paprika','chocolate','potato','cocoa','sour_cream'\n",
    "           ,'catfish','salmon','yogurt','sesame_seeds','vanilla'\n",
    "           ,'feta_cheese']\n",
    "def standardize_ingredient(ingredients_string):\n",
    "    \"\"\" This function returns a list of ingredients \n",
    "    with standardized names. \"\"\"\n",
    "    ingredients_string = ','.join(ingredients_string\n",
    "                                 ).replace(' ','_').lower().strip()\n",
    "    for i in ingredients_string.split(','):\n",
    "        for j in key_ing:\n",
    "            if j in i:\n",
    "                ingredients_string = ingredients_string.replace(i,j)\n",
    "            else: \n",
    "                pass\n",
    "    ingredients = [ingredients_string.replace(',',' ')]\n",
    "    return ingredients "
   ]
  },
  {
   "cell_type": "code",
   "execution_count": 394,
   "metadata": {},
   "outputs": [
    {
     "data": {
      "text/plain": [
       "['hanajei_jsei chocolate chocolate chocolate chocolate']"
      ]
     },
     "execution_count": 394,
     "metadata": {},
     "output_type": "execute_result"
    }
   ],
   "source": [
    "ing = standardize_ingredient(ing)\n",
    "ing"
   ]
  },
  {
   "cell_type": "code",
   "execution_count": 396,
   "metadata": {},
   "outputs": [],
   "source": [
    "with open('../Data/countvectorizer.pickle', 'rb') as f:\n",
    "    vec = pickle.load(f)"
   ]
  },
  {
   "cell_type": "code",
   "execution_count": 397,
   "metadata": {
    "collapsed": true
   },
   "outputs": [],
   "source": [
    "def count_vec(ingredients_string):\n",
    "    ingredients_string = vec.transform(ingredients_string)\n",
    "    return ingredients_string"
   ]
  },
  {
   "cell_type": "code",
   "execution_count": 398,
   "metadata": {},
   "outputs": [],
   "source": [
    "ings = count_vec(ings)"
   ]
  },
  {
   "cell_type": "code",
   "execution_count": 399,
   "metadata": {
    "collapsed": true
   },
   "outputs": [],
   "source": [
    "with open('../Data/bestestimator.pickle', 'rb') as f1:\n",
    "    estimator = pickle.load(f1)"
   ]
  },
  {
   "cell_type": "code",
   "execution_count": 403,
   "metadata": {},
   "outputs": [],
   "source": [
    "cuisine = estimator.predict(ings)"
   ]
  },
  {
   "cell_type": "code",
   "execution_count": 405,
   "metadata": {},
   "outputs": [
    {
     "data": {
      "text/plain": [
       "'italian'"
      ]
     },
     "execution_count": 405,
     "metadata": {},
     "output_type": "execute_result"
    }
   ],
   "source": [
    "cuisine[0]"
   ]
  },
  {
   "cell_type": "code",
   "execution_count": null,
   "metadata": {
    "collapsed": true
   },
   "outputs": [],
   "source": []
  }
 ],
 "metadata": {
  "kernelspec": {
   "display_name": "Python [conda env:py3]",
   "language": "python",
   "name": "conda-env-py3-py"
  },
  "language_info": {
   "codemirror_mode": {
    "name": "ipython",
    "version": 3
   },
   "file_extension": ".py",
   "mimetype": "text/x-python",
   "name": "python",
   "nbconvert_exporter": "python",
   "pygments_lexer": "ipython3",
   "version": "3.6.2"
  }
 },
 "nbformat": 4,
 "nbformat_minor": 2
}
