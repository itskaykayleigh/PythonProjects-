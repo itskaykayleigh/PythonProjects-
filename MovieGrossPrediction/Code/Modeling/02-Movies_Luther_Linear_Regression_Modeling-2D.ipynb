{
 "cells": [
  {
   "cell_type": "markdown",
   "metadata": {},
   "source": [
    "### List of Imports "
   ]
  },
  {
   "cell_type": "code",
   "execution_count": 7,
   "metadata": {
    "collapsed": true
   },
   "outputs": [],
   "source": [
    "from __future__ import print_function, division"
   ]
  },
  {
   "cell_type": "code",
   "execution_count": 8,
   "metadata": {},
   "outputs": [],
   "source": [
    "import pandas as pd\n",
    "import numpy as np \n",
    "from pprint import pprint\n",
    "import matplotlib\n",
    "import matplotlib.pyplot as plt\n",
    "import seaborn as sns\n",
    "import sklearn\n",
    "import pickle\n",
    "import scipy\n",
    "import patsy\n",
    "import sys\n",
    "from sklearn.model_selection import train_test_split, GridSearchCV, cross_val_score\n",
    "from sklearn.preprocessing import StandardScaler\n",
    "from sklearn.linear_model import LinearRegression, Ridge, Lasso, ElasticNet\n",
    "from sklearn.metrics import mean_squared_error, mean_absolute_error, r2_score, make_scorer\n",
    "import statsmodels.api as sm\n",
    "import statsmodels.formula.api as smf\n",
    "from scipy.stats import normaltest\n",
    "\n",
    "\n",
    "%matplotlib inline "
   ]
  },
  {
   "cell_type": "markdown",
   "metadata": {},
   "source": [
    "### Versions "
   ]
  },
  {
   "cell_type": "code",
   "execution_count": 9,
   "metadata": {},
   "outputs": [
    {
     "name": "stdout",
     "output_type": "stream",
     "text": [
      "Python Version: 3.6.2 |Continuum Analytics, Inc.| (default, Jul 20 2017, 13:14:59) \n",
      "[GCC 4.2.1 Compatible Apple LLVM 6.0 (clang-600.0.57)] \n",
      "\n",
      "Matplotlib Version: 2.0.2\n",
      "Numpy Version: 1.13.1\n",
      "Pandas Version: 0.20.3\n",
      "Scipy Version: 0.19.1\n",
      "Sklearn Version: 0.19.0\n"
     ]
    }
   ],
   "source": [
    "libraries = (('Matplotlib', matplotlib), ('Numpy', np), ('Pandas', pd), ('Scipy', scipy), ('Sklearn', sklearn))\n",
    "\n",
    "print(\"Python Version:\", sys.version, '\\n')\n",
    "for lib in libraries:\n",
    "    print('{0} Version: {1}'.format(lib[0], lib[1].__version__))"
   ]
  },
  {
   "cell_type": "markdown",
   "metadata": {},
   "source": [
    "### Read Data "
   ]
  },
  {
   "cell_type": "code",
   "execution_count": 10,
   "metadata": {
    "collapsed": true
   },
   "outputs": [],
   "source": [
    "with open('../../Data/movies_clean.pickle', 'rb') as f:\n",
    "    movies_df = pickle.load(f)"
   ]
  },
  {
   "cell_type": "code",
   "execution_count": 11,
   "metadata": {},
   "outputs": [
    {
     "data": {
      "image/png": "[encoded data removed]",
      "text/plain": [
       "<matplotlib.figure.Figure at 0x11e433128>"
      ]
     },
     "metadata": {},
     "output_type": "display_data"
    }
   ],
   "source": [
    "plt.figure(figsize=(10, 6))\n",
    "plt.hist(movies_df_2D.DomesticTotalGross,bins=10,alpha=0.8,color='k')\n",
    "plt.xlabel('2D Movie Total Domestic Gross', fontsize=15)\n",
    "plt.ylabel('Movie Counts', fontsize=15)\n",
    "plt.title('2D Movies Total Domestic Gross Distribution')\n",
    "\n",
    "plt.savefig('../../Images/model_2d hist.png', dpi=200, bbox_inches = 'tight')"
   ]
  },
  {
   "cell_type": "code",
   "execution_count": 12,
   "metadata": {
    "collapsed": true
   },
   "outputs": [],
   "source": [
    "movies_df_2D = movies_df[movies_df['Genre_3D']==0]"
   ]
  },
  {
   "cell_type": "code",
   "execution_count": 13,
   "metadata": {},
   "outputs": [
    {
     "data": {
      "text/html": [
       "<div>\n",
       "<style>\n",
       "    .dataframe thead tr:only-child th {\n",
       "        text-align: right;\n",
       "    }\n",
       "\n",
       "    .dataframe thead th {\n",
       "        text-align: left;\n",
       "    }\n",
       "\n",
       "    .dataframe tbody tr th {\n",
       "        vertical-align: top;\n",
       "    }\n",
       "</style>\n",
       "<table border=\"1\" class=\"dataframe\">\n",
       "  <thead>\n",
       "    <tr style=\"text-align: right;\">\n",
       "      <th></th>\n",
       "      <th>Runtime (mins)</th>\n",
       "      <th>Opening Weekend Gross ($)</th>\n",
       "      <th>DomesticTotalGross</th>\n",
       "      <th>Release Month_2</th>\n",
       "      <th>Release Month_3</th>\n",
       "      <th>Release Month_4</th>\n",
       "      <th>Release Month_5</th>\n",
       "      <th>Release Month_6</th>\n",
       "      <th>Release Month_7</th>\n",
       "      <th>Release Month_8</th>\n",
       "      <th>...</th>\n",
       "      <th>Director_Above_20</th>\n",
       "      <th>Director_Above_40</th>\n",
       "      <th>Director_Below_1</th>\n",
       "      <th>Actors Rank_2</th>\n",
       "      <th>Actors Rank_3</th>\n",
       "      <th>Actors Rank_4</th>\n",
       "      <th>Actors Rank_5</th>\n",
       "      <th>Actors Rank_6</th>\n",
       "      <th>Actors Rank_7</th>\n",
       "      <th>Actors Rank_8</th>\n",
       "    </tr>\n",
       "  </thead>\n",
       "  <tbody>\n",
       "    <tr>\n",
       "      <th>Runtime (mins)</th>\n",
       "      <td>1.000000</td>\n",
       "      <td>0.531271</td>\n",
       "      <td>0.533883</td>\n",
       "      <td>-0.026101</td>\n",
       "      <td>0.075429</td>\n",
       "      <td>0.003570</td>\n",
       "      <td>-0.030761</td>\n",
       "      <td>-0.055738</td>\n",
       "      <td>0.048847</td>\n",
       "      <td>-0.084534</td>\n",
       "      <td>...</td>\n",
       "      <td>0.373642</td>\n",
       "      <td>0.135093</td>\n",
       "      <td>-0.374897</td>\n",
       "      <td>-0.008911</td>\n",
       "      <td>0.065679</td>\n",
       "      <td>0.048430</td>\n",
       "      <td>0.156759</td>\n",
       "      <td>0.272311</td>\n",
       "      <td>0.287290</td>\n",
       "      <td>NaN</td>\n",
       "    </tr>\n",
       "    <tr>\n",
       "      <th>Opening Weekend Gross ($)</th>\n",
       "      <td>0.531271</td>\n",
       "      <td>1.000000</td>\n",
       "      <td>0.969206</td>\n",
       "      <td>0.028563</td>\n",
       "      <td>0.049551</td>\n",
       "      <td>-0.101057</td>\n",
       "      <td>-0.040810</td>\n",
       "      <td>-0.033936</td>\n",
       "      <td>0.138513</td>\n",
       "      <td>-0.054526</td>\n",
       "      <td>...</td>\n",
       "      <td>0.548772</td>\n",
       "      <td>0.337929</td>\n",
       "      <td>-0.540264</td>\n",
       "      <td>0.014341</td>\n",
       "      <td>0.010905</td>\n",
       "      <td>0.078135</td>\n",
       "      <td>0.144392</td>\n",
       "      <td>0.531757</td>\n",
       "      <td>0.514300</td>\n",
       "      <td>NaN</td>\n",
       "    </tr>\n",
       "    <tr>\n",
       "      <th>DomesticTotalGross</th>\n",
       "      <td>0.533883</td>\n",
       "      <td>0.969206</td>\n",
       "      <td>1.000000</td>\n",
       "      <td>0.001646</td>\n",
       "      <td>0.060203</td>\n",
       "      <td>-0.109657</td>\n",
       "      <td>-0.060774</td>\n",
       "      <td>-0.009696</td>\n",
       "      <td>0.190368</td>\n",
       "      <td>-0.048145</td>\n",
       "      <td>...</td>\n",
       "      <td>0.592227</td>\n",
       "      <td>0.342280</td>\n",
       "      <td>-0.549339</td>\n",
       "      <td>0.040415</td>\n",
       "      <td>0.004305</td>\n",
       "      <td>0.084396</td>\n",
       "      <td>0.240467</td>\n",
       "      <td>0.473025</td>\n",
       "      <td>0.544756</td>\n",
       "      <td>NaN</td>\n",
       "    </tr>\n",
       "    <tr>\n",
       "      <th>Release Month_2</th>\n",
       "      <td>-0.026101</td>\n",
       "      <td>0.028563</td>\n",
       "      <td>0.001646</td>\n",
       "      <td>1.000000</td>\n",
       "      <td>-0.144887</td>\n",
       "      <td>-0.116563</td>\n",
       "      <td>-0.088388</td>\n",
       "      <td>-0.116563</td>\n",
       "      <td>-0.098403</td>\n",
       "      <td>-0.093495</td>\n",
       "      <td>...</td>\n",
       "      <td>-0.088388</td>\n",
       "      <td>-0.040689</td>\n",
       "      <td>-0.069338</td>\n",
       "      <td>-0.148712</td>\n",
       "      <td>-0.083045</td>\n",
       "      <td>-0.040689</td>\n",
       "      <td>-0.040689</td>\n",
       "      <td>-0.040689</td>\n",
       "      <td>-0.050000</td>\n",
       "      <td>NaN</td>\n",
       "    </tr>\n",
       "    <tr>\n",
       "      <th>Release Month_3</th>\n",
       "      <td>0.075429</td>\n",
       "      <td>0.049551</td>\n",
       "      <td>0.060203</td>\n",
       "      <td>-0.144887</td>\n",
       "      <td>1.000000</td>\n",
       "      <td>-0.135108</td>\n",
       "      <td>-0.102451</td>\n",
       "      <td>-0.135108</td>\n",
       "      <td>-0.114059</td>\n",
       "      <td>-0.108370</td>\n",
       "      <td>...</td>\n",
       "      <td>-0.023284</td>\n",
       "      <td>0.116836</td>\n",
       "      <td>0.066487</td>\n",
       "      <td>-0.068131</td>\n",
       "      <td>-0.012579</td>\n",
       "      <td>0.280835</td>\n",
       "      <td>-0.047163</td>\n",
       "      <td>0.116836</td>\n",
       "      <td>-0.057955</td>\n",
       "      <td>NaN</td>\n",
       "    </tr>\n",
       "  </tbody>\n",
       "</table>\n",
       "<p>5 rows × 33 columns</p>\n",
       "</div>"
      ],
      "text/plain": [
       "                           Runtime (mins)  Opening Weekend Gross ($)  \\\n",
       "Runtime (mins)                   1.000000                   0.531271   \n",
       "Opening Weekend Gross ($)        0.531271                   1.000000   \n",
       "DomesticTotalGross               0.533883                   0.969206   \n",
       "Release Month_2                 -0.026101                   0.028563   \n",
       "Release Month_3                  0.075429                   0.049551   \n",
       "\n",
       "                           DomesticTotalGross  Release Month_2  \\\n",
       "Runtime (mins)                       0.533883        -0.026101   \n",
       "Opening Weekend Gross ($)            0.969206         0.028563   \n",
       "DomesticTotalGross                   1.000000         0.001646   \n",
       "Release Month_2                      0.001646         1.000000   \n",
       "Release Month_3                      0.060203        -0.144887   \n",
       "\n",
       "                           Release Month_3  Release Month_4  Release Month_5  \\\n",
       "Runtime (mins)                    0.075429         0.003570        -0.030761   \n",
       "Opening Weekend Gross ($)         0.049551        -0.101057        -0.040810   \n",
       "DomesticTotalGross                0.060203        -0.109657        -0.060774   \n",
       "Release Month_2                  -0.144887        -0.116563        -0.088388   \n",
       "Release Month_3                   1.000000        -0.135108        -0.102451   \n",
       "\n",
       "                           Release Month_6  Release Month_7  Release Month_8  \\\n",
       "Runtime (mins)                   -0.055738         0.048847        -0.084534   \n",
       "Opening Weekend Gross ($)        -0.033936         0.138513        -0.054526   \n",
       "DomesticTotalGross               -0.009696         0.190368        -0.048145   \n",
       "Release Month_2                  -0.116563        -0.098403        -0.093495   \n",
       "Release Month_3                  -0.135108        -0.114059        -0.108370   \n",
       "\n",
       "                               ...        Director_Above_20  \\\n",
       "Runtime (mins)                 ...                 0.373642   \n",
       "Opening Weekend Gross ($)      ...                 0.548772   \n",
       "DomesticTotalGross             ...                 0.592227   \n",
       "Release Month_2                ...                -0.088388   \n",
       "Release Month_3                ...                -0.023284   \n",
       "\n",
       "                           Director_Above_40  Director_Below_1  Actors Rank_2  \\\n",
       "Runtime (mins)                      0.135093         -0.374897      -0.008911   \n",
       "Opening Weekend Gross ($)           0.337929         -0.540264       0.014341   \n",
       "DomesticTotalGross                  0.342280         -0.549339       0.040415   \n",
       "Release Month_2                    -0.040689         -0.069338      -0.148712   \n",
       "Release Month_3                     0.116836          0.066487      -0.068131   \n",
       "\n",
       "                           Actors Rank_3  Actors Rank_4  Actors Rank_5  \\\n",
       "Runtime (mins)                  0.065679       0.048430       0.156759   \n",
       "Opening Weekend Gross ($)       0.010905       0.078135       0.144392   \n",
       "DomesticTotalGross              0.004305       0.084396       0.240467   \n",
       "Release Month_2                -0.083045      -0.040689      -0.040689   \n",
       "Release Month_3                -0.012579       0.280835      -0.047163   \n",
       "\n",
       "                           Actors Rank_6  Actors Rank_7  Actors Rank_8  \n",
       "Runtime (mins)                  0.272311       0.287290            NaN  \n",
       "Opening Weekend Gross ($)       0.531757       0.514300            NaN  \n",
       "DomesticTotalGross              0.473025       0.544756            NaN  \n",
       "Release Month_2                -0.040689      -0.050000            NaN  \n",
       "Release Month_3                 0.116836      -0.057955            NaN  \n",
       "\n",
       "[5 rows x 33 columns]"
      ]
     },
     "execution_count": 13,
     "metadata": {},
     "output_type": "execute_result"
    }
   ],
   "source": [
    "movies_df_2D.corr().head()"
   ]
  },
  {
   "cell_type": "code",
   "execution_count": 14,
   "metadata": {},
   "outputs": [
    {
     "name": "stdout",
     "output_type": "stream",
     "text": [
      "<class 'pandas.core.frame.DataFrame'>\n",
      "Int64Index: 153 entries, 0 to 207\n",
      "Data columns (total 34 columns):\n",
      "Movie Title                  153 non-null object\n",
      "Runtime (mins)               153 non-null float64\n",
      "Opening Weekend Gross ($)    153 non-null float64\n",
      "DomesticTotalGross           153 non-null float64\n",
      "Release Month_2              153 non-null uint8\n",
      "Release Month_3              153 non-null uint8\n",
      "Release Month_4              153 non-null uint8\n",
      "Release Month_5              153 non-null uint8\n",
      "Release Month_6              153 non-null uint8\n",
      "Release Month_7              153 non-null uint8\n",
      "Release Month_8              153 non-null uint8\n",
      "Release Month_9              153 non-null uint8\n",
      "Release Month_10             153 non-null uint8\n",
      "Release Month_11             153 non-null uint8\n",
      "Release Month_12             153 non-null uint8\n",
      "MPAA_PG/PG-13                153 non-null uint8\n",
      "MPAA_R                       153 non-null uint8\n",
      "MPAA_Unrated                 153 non-null uint8\n",
      "Genre_3D                     153 non-null uint8\n",
      "Prod_Budget_Medium           153 non-null uint8\n",
      "Prod_Budget_Small            153 non-null uint8\n",
      "Release_Limited              153 non-null uint8\n",
      "Release_Wild                 153 non-null uint8\n",
      "Director_Above_10            153 non-null uint8\n",
      "Director_Above_20            153 non-null uint8\n",
      "Director_Above_40            153 non-null uint8\n",
      "Director_Below_1             153 non-null uint8\n",
      "Actors Rank_2                153 non-null uint8\n",
      "Actors Rank_3                153 non-null uint8\n",
      "Actors Rank_4                153 non-null uint8\n",
      "Actors Rank_5                153 non-null uint8\n",
      "Actors Rank_6                153 non-null uint8\n",
      "Actors Rank_7                153 non-null uint8\n",
      "Actors Rank_8                153 non-null uint8\n",
      "dtypes: float64(3), object(1), uint8(30)\n",
      "memory usage: 10.5+ KB\n"
     ]
    }
   ],
   "source": [
    "movies_df_2D.info()"
   ]
  },
  {
   "cell_type": "code",
   "execution_count": 15,
   "metadata": {},
   "outputs": [
    {
     "data": {
      "text/html": [
       "<div>\n",
       "<style>\n",
       "    .dataframe thead tr:only-child th {\n",
       "        text-align: right;\n",
       "    }\n",
       "\n",
       "    .dataframe thead th {\n",
       "        text-align: left;\n",
       "    }\n",
       "\n",
       "    .dataframe tbody tr th {\n",
       "        vertical-align: top;\n",
       "    }\n",
       "</style>\n",
       "<table border=\"1\" class=\"dataframe\">\n",
       "  <thead>\n",
       "    <tr style=\"text-align: right;\">\n",
       "      <th></th>\n",
       "      <th>Runtime (mins)</th>\n",
       "      <th>Opening Weekend Gross ($)</th>\n",
       "      <th>DomesticTotalGross</th>\n",
       "      <th>Release Month_2</th>\n",
       "      <th>Release Month_3</th>\n",
       "      <th>Release Month_4</th>\n",
       "      <th>Release Month_5</th>\n",
       "      <th>Release Month_6</th>\n",
       "      <th>Release Month_7</th>\n",
       "      <th>Release Month_8</th>\n",
       "      <th>...</th>\n",
       "      <th>Director_Above_20</th>\n",
       "      <th>Director_Above_40</th>\n",
       "      <th>Director_Below_1</th>\n",
       "      <th>Actors Rank_2</th>\n",
       "      <th>Actors Rank_3</th>\n",
       "      <th>Actors Rank_4</th>\n",
       "      <th>Actors Rank_5</th>\n",
       "      <th>Actors Rank_6</th>\n",
       "      <th>Actors Rank_7</th>\n",
       "      <th>Actors Rank_8</th>\n",
       "    </tr>\n",
       "  </thead>\n",
       "  <tbody>\n",
       "    <tr>\n",
       "      <th>count</th>\n",
       "      <td>153.000000</td>\n",
       "      <td>153.000000</td>\n",
       "      <td>153.000000</td>\n",
       "      <td>153.000000</td>\n",
       "      <td>153.000000</td>\n",
       "      <td>153.000000</td>\n",
       "      <td>153.000000</td>\n",
       "      <td>153.000000</td>\n",
       "      <td>153.000000</td>\n",
       "      <td>153.000000</td>\n",
       "      <td>...</td>\n",
       "      <td>153.000000</td>\n",
       "      <td>153.000000</td>\n",
       "      <td>153.000000</td>\n",
       "      <td>153.000000</td>\n",
       "      <td>153.000000</td>\n",
       "      <td>153.000000</td>\n",
       "      <td>153.000000</td>\n",
       "      <td>153.000000</td>\n",
       "      <td>153.000000</td>\n",
       "      <td>153.0</td>\n",
       "    </tr>\n",
       "    <tr>\n",
       "      <th>mean</th>\n",
       "      <td>108.294118</td>\n",
       "      <td>15.916196</td>\n",
       "      <td>46.320821</td>\n",
       "      <td>0.111111</td>\n",
       "      <td>0.143791</td>\n",
       "      <td>0.098039</td>\n",
       "      <td>0.058824</td>\n",
       "      <td>0.098039</td>\n",
       "      <td>0.071895</td>\n",
       "      <td>0.065359</td>\n",
       "      <td>...</td>\n",
       "      <td>0.058824</td>\n",
       "      <td>0.013072</td>\n",
       "      <td>0.509804</td>\n",
       "      <td>0.150327</td>\n",
       "      <td>0.052288</td>\n",
       "      <td>0.013072</td>\n",
       "      <td>0.013072</td>\n",
       "      <td>0.013072</td>\n",
       "      <td>0.019608</td>\n",
       "      <td>0.0</td>\n",
       "    </tr>\n",
       "  </tbody>\n",
       "</table>\n",
       "<p>2 rows × 33 columns</p>\n",
       "</div>"
      ],
      "text/plain": [
       "       Runtime (mins)  Opening Weekend Gross ($)  DomesticTotalGross  \\\n",
       "count      153.000000                 153.000000          153.000000   \n",
       "mean       108.294118                  15.916196           46.320821   \n",
       "\n",
       "       Release Month_2  Release Month_3  Release Month_4  Release Month_5  \\\n",
       "count       153.000000       153.000000       153.000000       153.000000   \n",
       "mean          0.111111         0.143791         0.098039         0.058824   \n",
       "\n",
       "       Release Month_6  Release Month_7  Release Month_8      ...        \\\n",
       "count       153.000000       153.000000       153.000000      ...         \n",
       "mean          0.098039         0.071895         0.065359      ...         \n",
       "\n",
       "       Director_Above_20  Director_Above_40  Director_Below_1  Actors Rank_2  \\\n",
       "count         153.000000         153.000000        153.000000     153.000000   \n",
       "mean            0.058824           0.013072          0.509804       0.150327   \n",
       "\n",
       "       Actors Rank_3  Actors Rank_4  Actors Rank_5  Actors Rank_6  \\\n",
       "count     153.000000     153.000000     153.000000     153.000000   \n",
       "mean        0.052288       0.013072       0.013072       0.013072   \n",
       "\n",
       "       Actors Rank_7  Actors Rank_8  \n",
       "count     153.000000          153.0  \n",
       "mean        0.019608            0.0  \n",
       "\n",
       "[2 rows x 33 columns]"
      ]
     },
     "execution_count": 15,
     "metadata": {},
     "output_type": "execute_result"
    }
   ],
   "source": [
    "movies_df_2D.describe().head(2)"
   ]
  },
  {
   "cell_type": "code",
   "execution_count": 16,
   "metadata": {},
   "outputs": [
    {
     "data": {
      "text/plain": [
       "(153, 34)"
      ]
     },
     "execution_count": 16,
     "metadata": {},
     "output_type": "execute_result"
    }
   ],
   "source": [
    "movies_df_2D.shape"
   ]
  },
  {
   "cell_type": "markdown",
   "metadata": {},
   "source": [
    "### Dataset Standardization - removes the mean and scaling to unit variance \n",
    "L1 and L2 regularizers of linear models assume that all features are centered around 0 and have variance in the same order. If a feature has a variance that is orders of magnitude larger that others, it might dominate the objective function and make the estimator unable to learn from other features correctly as expected."
   ]
  },
  {
   "cell_type": "code",
   "execution_count": 17,
   "metadata": {
    "collapsed": true
   },
   "outputs": [],
   "source": [
    "not_y = movies_df_2D.loc[:, movies_df_2D.columns != 'DomesticTotalGross'] \n",
    "x = not_y.loc[:, not_y.columns != 'Movie Title']\n",
    "x = x[[x for x in x.columns if x != 'Genre_3D']]\n",
    "y = movies_df_2D.DomesticTotalGross"
   ]
  },
  {
   "cell_type": "code",
   "execution_count": 18,
   "metadata": {
    "scrolled": true
   },
   "outputs": [
    {
     "name": "stdout",
     "output_type": "stream",
     "text": [
      "Model Features:  Index(['Runtime (mins)', 'Opening Weekend Gross ($)', 'Release Month_2',\n",
      "       'Release Month_3', 'Release Month_4', 'Release Month_5',\n",
      "       'Release Month_6', 'Release Month_7', 'Release Month_8',\n",
      "       'Release Month_9', 'Release Month_10', 'Release Month_11',\n",
      "       'Release Month_12', 'MPAA_PG/PG-13', 'MPAA_R', 'MPAA_Unrated',\n",
      "       'Prod_Budget_Medium', 'Prod_Budget_Small', 'Release_Limited',\n",
      "       'Release_Wild', 'Director_Above_10', 'Director_Above_20',\n",
      "       'Director_Above_40', 'Director_Below_1', 'Actors Rank_2',\n",
      "       'Actors Rank_3', 'Actors Rank_4', 'Actors Rank_5', 'Actors Rank_6',\n",
      "       'Actors Rank_7', 'Actors Rank_8'],\n",
      "      dtype='object')\n"
     ]
    }
   ],
   "source": [
    "print('Model Features: ', x.columns)"
   ]
  },
  {
   "cell_type": "code",
   "execution_count": 19,
   "metadata": {},
   "outputs": [
    {
     "name": "stdout",
     "output_type": "stream",
     "text": [
      "Dimensionality of features: (153, 31)\n",
      "Dimensionality of target: (153,)\n"
     ]
    }
   ],
   "source": [
    "print('Dimensionality of features:', x.shape)\n",
    "print('Dimensionality of target:', (len(y),))"
   ]
  },
  {
   "cell_type": "code",
   "execution_count": 20,
   "metadata": {},
   "outputs": [
    {
     "data": {
      "image/png": "[encoded data removed]",
      "text/plain": [
       "<matplotlib.figure.Figure at 0x11db6dfd0>"
      ]
     },
     "metadata": {},
     "output_type": "display_data"
    }
   ],
   "source": [
    "plt.plot(x, y, 'ro');\n",
    "plt.title('Target ~ Single Feature')\n",
    "plt.xlabel('Feature')\n",
    "plt.ylabel('Target');"
   ]
  },
  {
   "cell_type": "code",
   "execution_count": 21,
   "metadata": {
    "collapsed": true
   },
   "outputs": [],
   "source": [
    "ssX = StandardScaler()\n",
    "not_Y = movies_df_2D[[x for x in movies_df_2D.columns if x != 'DomesticTotalGross']] \n",
    "X = not_Y[[x for x in not_y.columns if x != 'Movie Title']]\n",
    "X = X[[x for x in X.columns if x != 'Genre_3D']]\n",
    "Y = movies_df_2D.DomesticTotalGross"
   ]
  },
  {
   "cell_type": "markdown",
   "metadata": {},
   "source": [
    "### Train-Test Split - 10% of Data as Holdout for Validation"
   ]
  },
  {
   "cell_type": "code",
   "execution_count": 22,
   "metadata": {
    "collapsed": true
   },
   "outputs": [],
   "source": [
    "X_train, X_val, Y_train, Y_val = train_test_split(X, Y, test_size=0.1, random_state=42)"
   ]
  },
  {
   "cell_type": "code",
   "execution_count": 23,
   "metadata": {
    "collapsed": true
   },
   "outputs": [],
   "source": [
    "X_tr = ssX.fit_transform(X_train)\n",
    "X_val = ssX.transform(X_val)"
   ]
  },
  {
   "cell_type": "code",
   "execution_count": 24,
   "metadata": {},
   "outputs": [
    {
     "name": "stdout",
     "output_type": "stream",
     "text": [
      "Dimensionality of training features: (137, 31)\n",
      "Dimensionality of training target: (137,)\n"
     ]
    }
   ],
   "source": [
    "print('Dimensionality of training features:', X_train.shape)\n",
    "print('Dimensionality of training target:', Y_train.shape)"
   ]
  },
  {
   "cell_type": "markdown",
   "metadata": {},
   "source": [
    "##### Regression Statistics\n",
    "R2: square of the correlation coefficient and represents the estimated percentage of the variance in our target variable Y that can be explained by our regression model. Adjusted R2 also penalizes for things such as large coefficients and extra variables to try and limit overfitting so it is often a better measure of model efficacy.\n",
    "\n",
    "P(|t|) measures our degree of belief that the coefficient for each variable should be zero. Thus, the lowest P-values represent the most likely predictors to be impacting the response.\n",
    "Putting it all together, the final column returns a 95% Confidence Interval for the value of each coefficient."
   ]
  },
  {
   "cell_type": "code",
   "execution_count": 25,
   "metadata": {
    "collapsed": true
   },
   "outputs": [],
   "source": [
    "# fit1_1.resid.plot(style='ro', figsize=(12,8))"
   ]
  },
  {
   "cell_type": "markdown",
   "metadata": {},
   "source": [
    "### Linear Regression Model 1: SkLearn "
   ]
  },
  {
   "cell_type": "code",
   "execution_count": 26,
   "metadata": {
    "collapsed": true
   },
   "outputs": [],
   "source": [
    "df_train = pd.DataFrame(X_tr)\n",
    "df_train.columns = [x.columns]"
   ]
  },
  {
   "cell_type": "code",
   "execution_count": 27,
   "metadata": {
    "collapsed": true
   },
   "outputs": [],
   "source": [
    "def sklearn_lr(feature,cv = 5, scoring = 'neg_mean_absolute_error'):\n",
    "    x_train = df_train[feature]\n",
    "    lr = LinearRegression()\n",
    "    shape = len(feature)\n",
    "    x_train = x_train.values.reshape(-1,shape)\n",
    "    lr.fit(x_train, Y_train)\n",
    "    score_ = cross_val_score(lr, x_train, Y_train, cv = cv, scoring = scoring)\n",
    "    score_mean = score_.mean()\n",
    "    intercept_ = lr.intercept_\n",
    "    coef_ = lr.coef_\n",
    "    print('|Mean score(Neg MSE)|: ', score_mean\n",
    "          , '\\n', 'Intercept|: ',intercept_, '\\n', '|Coefs|: ', coef_)"
   ]
  },
  {
   "cell_type": "code",
   "execution_count": 28,
   "metadata": {},
   "outputs": [
    {
     "name": "stdout",
     "output_type": "stream",
     "text": [
      "|Mean score(Neg MSE)|:  -10.6452693404 \n",
      " Intercept|:  48.5018078084 \n",
      " |Coefs|:  [ 74.89109738]\n"
     ]
    }
   ],
   "source": [
    "sk_m1 = sklearn_lr(['Opening Weekend Gross ($)'])"
   ]
  },
  {
   "cell_type": "code",
   "execution_count": 29,
   "metadata": {},
   "outputs": [
    {
     "name": "stdout",
     "output_type": "stream",
     "text": [
      "|Mean score(Neg MSE)|:  -10.0685630681 \n",
      " Intercept|:  48.5018078084 \n",
      " |Coefs|:  [ 65.67647493   1.88656876   3.16605584  -1.48163793  -2.32457278\n",
      "   3.7893427  -27.82919407 -29.6346365  -21.04661183   1.4518108    4.119591\n",
      "   1.53021991   1.56483206   8.84568635   8.05724676]\n"
     ]
    }
   ],
   "source": [
    "sk_m2 = sklearn_lr(['Opening Weekend Gross ($)', \n",
    "       'Release Month_3',\n",
    "       'Release Month_7',\n",
    "       'Release Month_10', 'Release Month_11',\n",
    "       'Release Month_12', 'MPAA_PG/PG-13', 'MPAA_R', 'MPAA_Unrated',\n",
    "       'Director_Above_20', 'Director_Above_40',\n",
    "       'Actors Rank_2', 'Actors Rank_4', 'Actors Rank_5',\n",
    "       'Actors Rank_7'])"
   ]
  },
  {
   "cell_type": "markdown",
   "metadata": {},
   "source": [
    "### Linear Regression Model 2 - Lasso Regression (L1)"
   ]
  },
  {
   "cell_type": "code",
   "execution_count": 30,
   "metadata": {
    "collapsed": true
   },
   "outputs": [],
   "source": [
    "# def adj_r2(rsquare, num_data, num_features):\n",
    "#     temp = (1-rsquare)*(num_data-1)\n",
    "#     temp = temp/(num_data-num_features-1)\n",
    "#     temp = 1 - temp\n",
    "#     return temp"
   ]
  },
  {
   "cell_type": "code",
   "execution_count": 31,
   "metadata": {
    "collapsed": true
   },
   "outputs": [],
   "source": [
    "def lasso_modeling(feature, cv = 5, scoring = 'neg_mean_absolute_error'):\n",
    "    x_train = df_train[feature]\n",
    "    shape = len(feature)\n",
    "    x_train = x_train.values.reshape(-1,shape)\n",
    "    model = Lasso(max_iter=10000)\n",
    "    parameters = {'alpha': [1e-5,1e-3,1e-1,1], 'fit_intercept': [True,False]}\n",
    "    grid = GridSearchCV(model,parameters, cv=cv, scoring=scoring, n_jobs=1)\n",
    "    grid.fit(x_train, Y_train)\n",
    "    best_lasso = grid.best_estimator_\n",
    "    best_score = grid.best_score_\n",
    "    best_params = grid.best_params_\n",
    "    best_intercept = best_lasso.intercept_\n",
    "    best_coefs = best_lasso.coef_\n",
    "    print('|Best Lasso|: ',best_lasso\n",
    "          ,'\\n','|Score (Neg MAE)|: ',best_score\n",
    "          ,'\\n','|Intercept|: ',best_intercept\n",
    "          ,'\\n','|Coefficients|: ',best_coefs)\n",
    "    return best_lasso"
   ]
  },
  {
   "cell_type": "code",
   "execution_count": 32,
   "metadata": {},
   "outputs": [
    {
     "name": "stdout",
     "output_type": "stream",
     "text": [
      "|Best Lasso|:  Lasso(alpha=1e-05, copy_X=True, fit_intercept=True, max_iter=10000,\n",
      "   normalize=False, positive=False, precompute=False, random_state=None,\n",
      "   selection='cyclic', tol=0.0001, warm_start=False) \n",
      " |Score (Neg MAE)|:  -10.6658090515 \n",
      " |Intercept|:  48.5018078084 \n",
      " |Coefficients|:  [ 74.89108738]\n"
     ]
    }
   ],
   "source": [
    "# 5-fold CV, scoring with negative MAE, 1 feature: \n",
    "best_lasso_I1 = lasso_modeling(['Opening Weekend Gross ($)'])"
   ]
  },
  {
   "cell_type": "markdown",
   "metadata": {},
   "source": [
    "##### _Out of all models w/ Lasso(w/ different combination of features) tested, the one below returns the hightst R^2._"
   ]
  },
  {
   "cell_type": "code",
   "execution_count": 33,
   "metadata": {},
   "outputs": [
    {
     "name": "stdout",
     "output_type": "stream",
     "text": [
      "|Best Lasso|:  Lasso(alpha=0.1, copy_X=True, fit_intercept=True, max_iter=10000,\n",
      "   normalize=False, positive=False, precompute=False, random_state=None,\n",
      "   selection='cyclic', tol=0.0001, warm_start=False) \n",
      " |Score (Neg MAE)|:  -9.90288988583 \n",
      " |Intercept|:  48.5018078084 \n",
      " |Coefficients|:  [ 66.67553718   2.33744167  -1.95152662  -3.10297137   3.16676673\n",
      "  -4.2389633   -2.00120116   3.73601776   3.84606143   2.35208597\n",
      "   8.05869249   6.40705023]\n"
     ]
    }
   ],
   "source": [
    "best_lasso_I2 = lasso_modeling(['Opening Weekend Gross ($)'\n",
    "                                ,'Release Month_7'\n",
    "                                ,'Release Month_10', 'Release Month_11'\n",
    "                                ,'Release Month_12', 'MPAA_R'\n",
    "                                ,'MPAA_Unrated','Director_Above_20'\n",
    "                                ,'Director_Above_40','Actors Rank_2'\n",
    "                                ,'Actors Rank_5','Actors Rank_7'])"
   ]
  },
  {
   "cell_type": "markdown",
   "metadata": {},
   "source": [
    "### Linear Regression Model 3 - Ridge Regression (L2)"
   ]
  },
  {
   "cell_type": "code",
   "execution_count": 34,
   "metadata": {
    "collapsed": true
   },
   "outputs": [],
   "source": [
    "def ridge_modeling(feature, cv = 5, scoring = 'neg_mean_absolute_error'):\n",
    "    x_train = df_train[feature]\n",
    "    shape = len(feature)\n",
    "    x_train = x_train.values.reshape(-1,shape)\n",
    "    model = Ridge(max_iter=5000)\n",
    "    parameters = {'alpha': [1e-5,1e-3,1e-1,1], 'fit_intercept': [True,False]}\n",
    "    grid = GridSearchCV(model,parameters, cv=cv, scoring=scoring, n_jobs=1)\n",
    "    grid.fit(x_train, Y_train)\n",
    "    best_ridge = grid.best_estimator_\n",
    "    best_score = grid.best_score_\n",
    "    best_params = grid.best_params_\n",
    "    best_intercept = best_ridge.intercept_\n",
    "    best_coefs = best_ridge.coef_\n",
    "    print('|Best Ridge|: ',best_ridge\n",
    "          ,'\\n','|Score (Neg MAE)|: ',best_score\n",
    "          ,'\\n','|Intercept|: ',best_intercept\n",
    "          ,'\\n','|Coefficients|: ',best_coefs)"
   ]
  },
  {
   "cell_type": "code",
   "execution_count": 35,
   "metadata": {},
   "outputs": [
    {
     "name": "stdout",
     "output_type": "stream",
     "text": [
      "|Best Ridge|:  Ridge(alpha=1e-05, copy_X=True, fit_intercept=True, max_iter=5000,\n",
      "   normalize=False, random_state=None, solver='auto', tol=0.001) \n",
      " |Score (Neg MAE)|:  -10.6658087135 \n",
      " |Intercept|:  48.5018078084 \n",
      " |Coefficients|:  [ 74.89109191]\n"
     ]
    }
   ],
   "source": [
    "best_ridge_I1 = ridge_modeling(['Opening Weekend Gross ($)'])"
   ]
  },
  {
   "cell_type": "markdown",
   "metadata": {},
   "source": [
    "##### _Out of all models w/ L2 (w/ different combination of features) tested, the one below returns the highest R^2._ "
   ]
  },
  {
   "cell_type": "code",
   "execution_count": 36,
   "metadata": {
    "scrolled": true
   },
   "outputs": [
    {
     "name": "stdout",
     "output_type": "stream",
     "text": [
      "|Best Ridge|:  Ridge(alpha=1e-05, copy_X=True, fit_intercept=True, max_iter=5000,\n",
      "   normalize=False, random_state=None, solver='auto', tol=0.001) \n",
      " |Score (Neg MAE)|:  -9.93722969426 \n",
      " |Intercept|:  48.5018078084 \n",
      " |Coefficients|:  [ 66.6396541    2.37578934  -2.0626006   -3.26583956   3.25720551\n",
      "  -4.38166698  -2.08433229   3.77313668   3.95037479   2.44961222\n",
      "   8.15749294   6.55856019]\n"
     ]
    }
   ],
   "source": [
    "best_ridge_I2 = ridge_modeling(['Opening Weekend Gross ($)'\n",
    "                                ,'Release Month_7'\n",
    "                                ,'Release Month_10', 'Release Month_11'\n",
    "                                ,'Release Month_12', 'MPAA_R'\n",
    "                                ,'MPAA_Unrated','Director_Above_20'\n",
    "                                ,'Director_Above_40','Actors Rank_2'\n",
    "                                ,'Actors Rank_5','Actors Rank_7'])"
   ]
  },
  {
   "cell_type": "markdown",
   "metadata": {},
   "source": [
    "### Linear Regression Model 4 - ElasticNet"
   ]
  },
  {
   "cell_type": "code",
   "execution_count": 37,
   "metadata": {
    "collapsed": true
   },
   "outputs": [],
   "source": [
    "def elasticnet_modeling(feature, cv = 5, scoring = 'neg_mean_absolute_error'):\n",
    "    x_train = df_train[feature]\n",
    "    shape = len(feature)\n",
    "    x_train = x_train.values.reshape(-1,shape)\n",
    "    model = ElasticNet(max_iter=5000)\n",
    "    parameters = {'alpha': [1e-5,1e-3,1e-1,1], 'fit_intercept': [True,False]}\n",
    "    grid = GridSearchCV(model,parameters, cv=cv, scoring=scoring, n_jobs=1)\n",
    "    grid.fit(x_train, Y_train)\n",
    "    best_en = grid.best_estimator_\n",
    "    best_score = grid.best_score_\n",
    "    best_params = grid.best_params_\n",
    "    best_intercept = best_en.intercept_\n",
    "    best_coefs = best_en.coef_\n",
    "    print('|Best ElesticNet|: ',best_en\n",
    "          ,'\\n','|Score (Neg MAS)|: ',best_score\n",
    "          ,'\\n','|Intercept|: ',best_intercept\n",
    "          ,'\\n','|Coefficients|: ',best_coefs)"
   ]
  },
  {
   "cell_type": "code",
   "execution_count": 38,
   "metadata": {},
   "outputs": [
    {
     "name": "stdout",
     "output_type": "stream",
     "text": [
      "|Best ElesticNet|:  ElasticNet(alpha=1e-05, copy_X=True, fit_intercept=True, l1_ratio=0.5,\n",
      "      max_iter=5000, normalize=False, positive=False, precompute=False,\n",
      "      random_state=None, selection='cyclic', tol=0.0001, warm_start=False) \n",
      " |Score (Neg MAS)|:  -10.665842468 \n",
      " |Intercept|:  48.5018078084 \n",
      " |Coefficients|:  [ 74.89071793]\n"
     ]
    }
   ],
   "source": [
    "best_en_I1 = elasticnet_modeling(['Opening Weekend Gross ($)'])"
   ]
  },
  {
   "cell_type": "code",
   "execution_count": 39,
   "metadata": {},
   "outputs": [
    {
     "name": "stdout",
     "output_type": "stream",
     "text": [
      "|Best ElesticNet|:  ElasticNet(alpha=1e-05, copy_X=True, fit_intercept=True, l1_ratio=0.5,\n",
      "      max_iter=5000, normalize=False, positive=False, precompute=False,\n",
      "      random_state=None, selection='cyclic', tol=0.0001, warm_start=False) \n",
      " |Score (Neg MAS)|:  -9.9372901709 \n",
      " |Intercept|:  48.5018078084 \n",
      " |Coefficients|:  [ 66.63893323   2.37583486  -2.06262071  -3.26563959   3.25717218\n",
      "  -4.38168166  -2.0844367    3.77336228   3.95060759   2.44964476\n",
      "   8.15750193   6.55867807]\n"
     ]
    }
   ],
   "source": [
    "best_en_I2 = elasticnet_modeling(['Opening Weekend Gross ($)'\n",
    "                                ,'Release Month_7'\n",
    "                                ,'Release Month_10', 'Release Month_11'\n",
    "                                ,'Release Month_12', 'MPAA_R'\n",
    "                                ,'MPAA_Unrated','Director_Above_20'\n",
    "                                ,'Director_Above_40','Actors Rank_2'\n",
    "                                ,'Actors Rank_5','Actors Rank_7'])"
   ]
  },
  {
   "cell_type": "markdown",
   "metadata": {},
   "source": [
    "#### So the best model turns out to be best_lasso_I2, which has the lowest MAE of all that's been tested.\n",
    "Model:  \n",
    "Lasso  \n",
    "\n",
    "Parameters:  \n",
    "alpha=0.1, copy_X=True, fit_intercept=True, max_iter=10000,\n",
    "   normalize=False, positive=False, precompute=False, random_state=None,\n",
    "   selection='cyclic', tol=0.0001, warm_start=False    \n",
    "   \n",
    "   \n",
    "Features:  \n",
    "Opening Weekend Gross ($),  \n",
    "Release Month_7,    \n",
    "Release Month_10,  \n",
    "Release Month_11,   \n",
    "Release Month_12,  \n",
    "Director_Above_20,   \n",
    "Director_Above_40,    \n",
    "Actors Rank_2,  \n",
    "Actors Rank_5,   \n",
    "Actors Rank_7,  \n",
    "MPAA_R,    \n",
    "MPAA_Unrated   \n",
    " \n",
    "\n"
   ]
  },
  {
   "cell_type": "markdown",
   "metadata": {},
   "source": [
    "### Apply the best model on testing (validation) data & Make predictions"
   ]
  },
  {
   "cell_type": "code",
   "execution_count": 40,
   "metadata": {},
   "outputs": [
    {
     "data": {
      "text/plain": [
       "array([ 66.67553718,   2.33744167,  -1.95152662,  -3.10297137,\n",
       "         3.16676673,  -4.2389633 ,  -2.00120116,   3.73601776,\n",
       "         3.84606143,   2.35208597,   8.05869249,   6.40705023])"
      ]
     },
     "execution_count": 40,
     "metadata": {},
     "output_type": "execute_result"
    }
   ],
   "source": [
    "best_lasso_I2.coef_"
   ]
  },
  {
   "cell_type": "code",
   "execution_count": 63,
   "metadata": {},
   "outputs": [
    {
     "data": {
      "text/plain": [
       "48.501807808357086"
      ]
     },
     "execution_count": 63,
     "metadata": {},
     "output_type": "execute_result"
    }
   ],
   "source": [
    "best_lasso_I2.intercept_"
   ]
  },
  {
   "cell_type": "code",
   "execution_count": 41,
   "metadata": {
    "collapsed": true
   },
   "outputs": [],
   "source": [
    "df_val = pd.DataFrame(X_val)\n",
    "df_val.columns = [x.columns]\n",
    "X_val = df_val[['Opening Weekend Gross ($)'\n",
    "                                ,'Release Month_7'\n",
    "                                ,'Release Month_10', 'Release Month_11'\n",
    "                                ,'Release Month_12', 'MPAA_R'\n",
    "                                ,'MPAA_Unrated','Director_Above_20'\n",
    "                                ,'Director_Above_40','Actors Rank_2'\n",
    "                                ,'Actors Rank_5','Actors Rank_7']]\n",
    "X_val = X_val.values.reshape(-1,12)"
   ]
  },
  {
   "cell_type": "code",
   "execution_count": 42,
   "metadata": {},
   "outputs": [
    {
     "name": "stdout",
     "output_type": "stream",
     "text": [
      "pred, resid: 7.69303380856, $-3.24839680856\n",
      "pred, resid: 5.32969937905, $-2.61404237905\n",
      "pred, resid: 113.00101431, $-11.8009703099\n",
      "pred, resid: 39.0745798638, $-2.40872586378\n",
      "pred, resid: 110.437324389, $3.99668561053\n",
      "pred, resid: 24.7305775643, $-5.78818156429\n",
      "pred, resid: 46.1730276936, $-15.0104826936\n",
      "pred, resid: 80.9426235227, $-0.927781522658\n",
      "pred, resid: -6.01602578724, $6.01720678724\n",
      "pred, resid: 1.17122251988, $-1.16195351988\n",
      "pred, resid: 1.16983150175, $-1.14308350175\n",
      "pred, resid: -1.55236451421, $3.75428751421\n",
      "pred, resid: -2.29450776315, $2.30495976315\n",
      "pred, resid: 24.2535179223, $2.51269507768\n",
      "pred, resid: 39.4262021384, $-15.9879521384\n",
      "pred, resid: 8.93433142687, $-8.63045442687\n"
     ]
    }
   ],
   "source": [
    "lasso_pred = best_lasso_I2.predict(X_val)\n",
    "for true,pred in zip(Y_val, lasso_pred):\n",
    "    resid = true - pred\n",
    "    print(\"pred, resid:\", str(pred) + \", $\"+ str(resid))"
   ]
  },
  {
   "cell_type": "markdown",
   "metadata": {},
   "source": [
    "### Compare Predicted v.s. Actual"
   ]
  },
  {
   "cell_type": "code",
   "execution_count": 43,
   "metadata": {},
   "outputs": [
    {
     "data": {
      "image/png": "[encoded data removed]",
      "text/plain": [
       "<matplotlib.figure.Figure at 0x11e7250f0>"
      ]
     },
     "metadata": {},
     "output_type": "display_data"
    }
   ],
   "source": [
    "plt.figure(figsize=(10, 6))\n",
    "plt.scatter(lasso_pred,Y_val,alpha=.8,color='k')\n",
    "plt.plot(np.linspace(0,200,500),np.linspace(0,200,500),color='red')\n",
    "plt.xlabel('Predicted Movie Domestic Total Gross', fontsize=15)\n",
    "plt.ylabel('Actual Movie Domestic Total Gross', fontsize=15)\n",
    "plt.title('Model[2D] Performance', fontsize=20)\n",
    "\n",
    "plt.savefig('../../Images/model_2d performance.png', dpi=200, bbox_inches = 'tight')"
   ]
  },
  {
   "cell_type": "markdown",
   "metadata": {},
   "source": [
    "### Plotting Residuals"
   ]
  },
  {
   "cell_type": "code",
   "execution_count": 49,
   "metadata": {
    "scrolled": true
   },
   "outputs": [
    {
     "data": {
      "image/png": "[encoded data removed]",
      "text/plain": [
       "<matplotlib.figure.Figure at 0x11d178b38>"
      ]
     },
     "metadata": {},
     "output_type": "display_data"
    }
   ],
   "source": [
    "def residual_scatter(model, x, y, color):\n",
    "    lasso_pred = model.predict(x)\n",
    "    residual_ = []\n",
    "    pred_ = []\n",
    "    for true,pred in zip(y, lasso_pred):\n",
    "        resid = true - pred\n",
    "        residual_.append(resid)\n",
    "        pred_.append(pred)\n",
    "    residual_scatter = plt.scatter(pred_, residual_, color = color)\n",
    "    plt.ylim(75,-75)\n",
    "\n",
    "#     return (residual_scatter, residual_hist) \n",
    "#         print(\"pred, resid:\", str(pred) + \", $\"+ str(resid))\n",
    "# residual_plot(best_lasso_I2, x_train, Y_train, 'k')\n",
    "residual_scatter(best_lasso_I2, X_val, Y_val, 'r',)"
   ]
  },
  {
   "cell_type": "code",
   "execution_count": 241,
   "metadata": {},
   "outputs": [
    {
     "name": "stderr",
     "output_type": "stream",
     "text": [
      "/Users/liyuqiao/anaconda/envs/py3/lib/python3.6/site-packages/scipy/stats/stats.py:1334: UserWarning: kurtosistest only valid for n>=20 ... continuing anyway, n=16\n",
      "  \"anyway, n=%i\" % int(n))\n"
     ]
    },
    {
     "data": {
      "text/plain": [
       "NormaltestResult(statistic=1.7018796028094039, pvalue=0.42701343548831028)"
      ]
     },
     "execution_count": 241,
     "metadata": {},
     "output_type": "execute_result"
    },
    {
     "data": {
      "image/png": "[encoded data removed]",
      "text/plain": [
       "<matplotlib.figure.Figure at 0x120fbafd0>"
      ]
     },
     "metadata": {},
     "output_type": "display_data"
    }
   ],
   "source": [
    "def residual_hist(model, x, y, color, outlier_value=260):\n",
    "    lasso_pred = model.predict(x)\n",
    "    residual_ = []\n",
    "    for true,pred in zip(y, lasso_pred):\n",
    "        resid = true - pred\n",
    "        residual_.append(resid)\n",
    "        residual_ = [i for i in residual_ if abs(i) < outlier_value]\n",
    "    residual_hist = plt.hist(residual_, color = color, bins=30)\n",
    "    return normaltest(residual_)\n",
    "# residual_plot(best_lasso_I2, x_train, Y_train, 'k')\n",
    "\n",
    "residual_hist(best_lasso_I2, X_val, Y_val, 'r',200)"
   ]
  },
  {
   "cell_type": "markdown",
   "metadata": {},
   "source": [
    "### Model Results "
   ]
  },
  {
   "cell_type": "code",
   "execution_count": 230,
   "metadata": {},
   "outputs": [
    {
     "data": {
      "text/plain": [
       "2.4837041218424885"
      ]
     },
     "execution_count": 230,
     "metadata": {},
     "output_type": "execute_result"
    }
   ],
   "source": [
    "# Standard Error of the Estimate\n",
    "\n",
    "def standard_error_estimate(true,pred,num_data):\n",
    "    sse = 0\n",
    "    for y,ypred in zip(true,pred):\n",
    "        sse += (y-ypred)**2\n",
    "    return np.sqrt(sse/(num_data-2))\n",
    "\n",
    "standard_error_estimate(Y_val,lasso_pred,X_tr.shape[0])"
   ]
  },
  {
   "cell_type": "code",
   "execution_count": 229,
   "metadata": {},
   "outputs": [
    {
     "data": {
      "text/plain": [
       "0.94978836073759765"
      ]
     },
     "execution_count": 229,
     "metadata": {},
     "output_type": "execute_result"
    }
   ],
   "source": [
    "# adjusted r2\n",
    "\n",
    "def adj_r2(rsquare, num_data, num_features):\n",
    "    temp = (1-rsquare)*(num_data-1)\n",
    "    temp = temp/(num_data-num_features-1)\n",
    "    temp = 1 - temp\n",
    "    return temp\n",
    "\n",
    "adj_r2(r2_score(Y_val,lasso_pred),X_tr.shape[0],X_tr.shape[1])"
   ]
  },
  {
   "cell_type": "code",
   "execution_count": 231,
   "metadata": {},
   "outputs": [
    {
     "name": "stdout",
     "output_type": "stream",
     "text": [
      "Mean Squared Error:  52.049133266\n",
      "Root Mean Squared Error:  7.2145085256\n",
      "Mean Absolute Error:  5.45674121759\n",
      "R2:  0.961233660864\n",
      "Adj R2:  0.949788360738\n",
      "Standard Error of Estimate:  2.48370412184\n"
     ]
    }
   ],
   "source": [
    "def test_model_results(true, X, pred):\n",
    "    print(\"Mean Squared Error: \", mean_squared_error(true,pred))\n",
    "    print(\"Root Mean Squared Error: \", np.sqrt(mean_squared_error(true,pred)))\n",
    "    print(\"Mean Absolute Error: \",mean_absolute_error(true,pred))\n",
    "    r2 = r2_score(true,pred)\n",
    "    print(\"R2: \", r2)\n",
    "    print(\"Adj R2: \", adj_r2(r2,X.shape[0],X.shape[1]))\n",
    "    print(\"Standard Error of Estimate: \", standard_error_estimate(true,pred,X.shape[0]))\n",
    "          \n",
    "test_model_results(Y_val, X_tr, lasso_pred)"
   ]
  },
  {
   "cell_type": "markdown",
   "metadata": {},
   "source": [
    "### Illustration "
   ]
  },
  {
   "cell_type": "code",
   "execution_count": 60,
   "metadata": {},
   "outputs": [],
   "source": [
    "fifty_shades_darker = X_val[4]"
   ]
  },
  {
   "cell_type": "code",
   "execution_count": 62,
   "metadata": {},
   "outputs": [
    {
     "data": {
      "text/plain": [
       "array([ 110.43732439])"
      ]
     },
     "execution_count": 62,
     "metadata": {},
     "output_type": "execute_result"
    }
   ],
   "source": [
    "best_lasso_I2.predict(fifty_shades_darker.reshape(1, -1))"
   ]
  },
  {
   "cell_type": "code",
   "execution_count": 59,
   "metadata": {},
   "outputs": [
    {
     "data": {
      "text/html": [
       "<div>\n",
       "<style>\n",
       "    .dataframe thead tr:only-child th {\n",
       "        text-align: right;\n",
       "    }\n",
       "\n",
       "    .dataframe thead th {\n",
       "        text-align: left;\n",
       "    }\n",
       "\n",
       "    .dataframe tbody tr th {\n",
       "        vertical-align: top;\n",
       "    }\n",
       "</style>\n",
       "<table border=\"1\" class=\"dataframe\">\n",
       "  <thead>\n",
       "    <tr style=\"text-align: right;\">\n",
       "      <th></th>\n",
       "      <th>Movie Title</th>\n",
       "      <th>Runtime (mins)</th>\n",
       "      <th>Opening Weekend Gross ($)</th>\n",
       "      <th>DomesticTotalGross</th>\n",
       "      <th>Release Month_2</th>\n",
       "      <th>Release Month_3</th>\n",
       "      <th>Release Month_4</th>\n",
       "      <th>Release Month_5</th>\n",
       "      <th>Release Month_6</th>\n",
       "      <th>Release Month_7</th>\n",
       "      <th>...</th>\n",
       "      <th>Director_Above_20</th>\n",
       "      <th>Director_Above_40</th>\n",
       "      <th>Director_Below_1</th>\n",
       "      <th>Actors Rank_2</th>\n",
       "      <th>Actors Rank_3</th>\n",
       "      <th>Actors Rank_4</th>\n",
       "      <th>Actors Rank_5</th>\n",
       "      <th>Actors Rank_6</th>\n",
       "      <th>Actors Rank_7</th>\n",
       "      <th>Actors Rank_8</th>\n",
       "    </tr>\n",
       "  </thead>\n",
       "  <tbody>\n",
       "    <tr>\n",
       "      <th>37</th>\n",
       "      <td>Fifty Shades Darker</td>\n",
       "      <td>115.0</td>\n",
       "      <td>46.60725</td>\n",
       "      <td>114.43401</td>\n",
       "      <td>1</td>\n",
       "      <td>0</td>\n",
       "      <td>0</td>\n",
       "      <td>0</td>\n",
       "      <td>0</td>\n",
       "      <td>0</td>\n",
       "      <td>...</td>\n",
       "      <td>0</td>\n",
       "      <td>0</td>\n",
       "      <td>0</td>\n",
       "      <td>0</td>\n",
       "      <td>0</td>\n",
       "      <td>0</td>\n",
       "      <td>0</td>\n",
       "      <td>0</td>\n",
       "      <td>0</td>\n",
       "      <td>0</td>\n",
       "    </tr>\n",
       "  </tbody>\n",
       "</table>\n",
       "<p>1 rows × 34 columns</p>\n",
       "</div>"
      ],
      "text/plain": [
       "            Movie Title  Runtime (mins)  Opening Weekend Gross ($)  \\\n",
       "37  Fifty Shades Darker           115.0                   46.60725   \n",
       "\n",
       "    DomesticTotalGross  Release Month_2  Release Month_3  Release Month_4  \\\n",
       "37           114.43401                1                0                0   \n",
       "\n",
       "    Release Month_5  Release Month_6  Release Month_7      ...        \\\n",
       "37                0                0                0      ...         \n",
       "\n",
       "    Director_Above_20  Director_Above_40  Director_Below_1  Actors Rank_2  \\\n",
       "37                  0                  0                 0              0   \n",
       "\n",
       "    Actors Rank_3  Actors Rank_4  Actors Rank_5  Actors Rank_6  Actors Rank_7  \\\n",
       "37              0              0              0              0              0   \n",
       "\n",
       "    Actors Rank_8  \n",
       "37              0  \n",
       "\n",
       "[1 rows x 34 columns]"
      ]
     },
     "execution_count": 59,
     "metadata": {},
     "output_type": "execute_result"
    }
   ],
   "source": [
    "movies_df_2D[movies_df_2D.DomesticTotalGross == 114.434010]"
   ]
  }
 ],
 "metadata": {
  "kernelspec": {
   "display_name": "Python [conda env:py3]",
   "language": "python",
   "name": "conda-env-py3-py"
  },
  "language_info": {
   "codemirror_mode": {
    "name": "ipython",
    "version": 3
   },
   "file_extension": ".py",
   "mimetype": "text/x-python",
   "name": "python",
   "nbconvert_exporter": "python",
   "pygments_lexer": "ipython3",
   "version": "3.6.2"
  }
 },
 "nbformat": 4,
 "nbformat_minor": 2
}
