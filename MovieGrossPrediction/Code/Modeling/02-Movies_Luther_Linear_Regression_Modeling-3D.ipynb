{
 "cells": [
  {
   "cell_type": "markdown",
   "metadata": {},
   "source": [
    "### List of Imports "
   ]
  },
  {
   "cell_type": "code",
   "execution_count": 1,
   "metadata": {
    "collapsed": true
   },
   "outputs": [],
   "source": [
    "from __future__ import print_function, division"
   ]
  },
  {
   "cell_type": "code",
   "execution_count": 2,
   "metadata": {},
   "outputs": [
    {
     "name": "stderr",
     "output_type": "stream",
     "text": [
      "/Users/liyuqiao/anaconda/envs/py3/lib/python3.6/site-packages/statsmodels/compat/pandas.py:56: FutureWarning: The pandas.core.datetools module is deprecated and will be removed in a future version. Please use the pandas.tseries module instead.\n",
      "  from pandas.core import datetools\n"
     ]
    }
   ],
   "source": [
    "import pandas as pd\n",
    "import numpy as np \n",
    "from pprint import pprint\n",
    "import matplotlib\n",
    "import matplotlib.pyplot as plt\n",
    "import seaborn as sns\n",
    "import sklearn\n",
    "import pickle\n",
    "import scipy\n",
    "import patsy\n",
    "import sys\n",
    "from sklearn.model_selection import train_test_split, GridSearchCV, cross_val_score\n",
    "from sklearn.preprocessing import StandardScaler\n",
    "from sklearn.linear_model import LinearRegression, Ridge, Lasso, ElasticNet\n",
    "from sklearn.metrics import mean_squared_error, mean_absolute_error, r2_score, make_scorer\n",
    "import statsmodels.api as sm\n",
    "import statsmodels.formula.api as smf\n",
    "from scipy.stats import normaltest\n",
    "\n",
    "\n",
    "%matplotlib inline "
   ]
  },
  {
   "cell_type": "markdown",
   "metadata": {},
   "source": [
    "### Versions "
   ]
  },
  {
   "cell_type": "code",
   "execution_count": 3,
   "metadata": {},
   "outputs": [
    {
     "name": "stdout",
     "output_type": "stream",
     "text": [
      "Python Version: 3.6.2 |Continuum Analytics, Inc.| (default, Jul 20 2017, 13:14:59) \n",
      "[GCC 4.2.1 Compatible Apple LLVM 6.0 (clang-600.0.57)] \n",
      "\n",
      "Matplotlib Version: 2.0.2\n",
      "Numpy Version: 1.13.1\n",
      "Pandas Version: 0.20.3\n",
      "Scipy Version: 0.19.1\n",
      "Sklearn Version: 0.19.0\n"
     ]
    }
   ],
   "source": [
    "libraries = (('Matplotlib', matplotlib), ('Numpy', np), ('Pandas', pd), ('Scipy', scipy), ('Sklearn', sklearn))\n",
    "\n",
    "print(\"Python Version:\", sys.version, '\\n')\n",
    "for lib in libraries:\n",
    "    print('{0} Version: {1}'.format(lib[0], lib[1].__version__))"
   ]
  },
  {
   "cell_type": "markdown",
   "metadata": {},
   "source": [
    "### Read Data "
   ]
  },
  {
   "cell_type": "code",
   "execution_count": 3,
   "metadata": {
    "collapsed": true
   },
   "outputs": [],
   "source": [
    "with open('../../Data/movies_clean.pickle', 'rb') as f:\n",
    "    movies_df = pickle.load(f)"
   ]
  },
  {
   "cell_type": "code",
   "execution_count": 4,
   "metadata": {
    "collapsed": true
   },
   "outputs": [],
   "source": [
    "movies_df_3D = movies_df[movies_df['Genre_3D']==1]"
   ]
  },
  {
   "cell_type": "code",
   "execution_count": 5,
   "metadata": {},
   "outputs": [
    {
     "data": {
      "text/html": [
       "<div>\n",
       "<style>\n",
       "    .dataframe thead tr:only-child th {\n",
       "        text-align: right;\n",
       "    }\n",
       "\n",
       "    .dataframe thead th {\n",
       "        text-align: left;\n",
       "    }\n",
       "\n",
       "    .dataframe tbody tr th {\n",
       "        vertical-align: top;\n",
       "    }\n",
       "</style>\n",
       "<table border=\"1\" class=\"dataframe\">\n",
       "  <thead>\n",
       "    <tr style=\"text-align: right;\">\n",
       "      <th></th>\n",
       "      <th>Runtime (mins)</th>\n",
       "      <th>Opening Weekend Gross ($)</th>\n",
       "      <th>DomesticTotalGross</th>\n",
       "      <th>Release Month_2</th>\n",
       "      <th>Release Month_3</th>\n",
       "      <th>Release Month_4</th>\n",
       "      <th>Release Month_5</th>\n",
       "      <th>Release Month_6</th>\n",
       "      <th>Release Month_7</th>\n",
       "      <th>Release Month_8</th>\n",
       "      <th>...</th>\n",
       "      <th>Director_Above_20</th>\n",
       "      <th>Director_Above_40</th>\n",
       "      <th>Director_Below_1</th>\n",
       "      <th>Actors Rank_2</th>\n",
       "      <th>Actors Rank_3</th>\n",
       "      <th>Actors Rank_4</th>\n",
       "      <th>Actors Rank_5</th>\n",
       "      <th>Actors Rank_6</th>\n",
       "      <th>Actors Rank_7</th>\n",
       "      <th>Actors Rank_8</th>\n",
       "    </tr>\n",
       "  </thead>\n",
       "  <tbody>\n",
       "    <tr>\n",
       "      <th>Runtime (mins)</th>\n",
       "      <td>1.000000</td>\n",
       "      <td>0.495167</td>\n",
       "      <td>0.437825</td>\n",
       "      <td>-0.162867</td>\n",
       "      <td>-0.017789</td>\n",
       "      <td>-0.105054</td>\n",
       "      <td>0.208332</td>\n",
       "      <td>0.142170</td>\n",
       "      <td>-0.004120</td>\n",
       "      <td>-0.083798</td>\n",
       "      <td>...</td>\n",
       "      <td>0.284790</td>\n",
       "      <td>0.236927</td>\n",
       "      <td>NaN</td>\n",
       "      <td>0.181222</td>\n",
       "      <td>0.350551</td>\n",
       "      <td>0.229513</td>\n",
       "      <td>0.138438</td>\n",
       "      <td>0.177418</td>\n",
       "      <td>0.072334</td>\n",
       "      <td>0.107190</td>\n",
       "    </tr>\n",
       "    <tr>\n",
       "      <th>Opening Weekend Gross ($)</th>\n",
       "      <td>0.495167</td>\n",
       "      <td>1.000000</td>\n",
       "      <td>0.914747</td>\n",
       "      <td>-0.149681</td>\n",
       "      <td>0.071308</td>\n",
       "      <td>-0.003261</td>\n",
       "      <td>0.283690</td>\n",
       "      <td>0.218650</td>\n",
       "      <td>0.003403</td>\n",
       "      <td>-0.120120</td>\n",
       "      <td>...</td>\n",
       "      <td>0.490756</td>\n",
       "      <td>0.557486</td>\n",
       "      <td>NaN</td>\n",
       "      <td>-0.006739</td>\n",
       "      <td>0.262593</td>\n",
       "      <td>0.096889</td>\n",
       "      <td>0.152779</td>\n",
       "      <td>0.389105</td>\n",
       "      <td>0.191163</td>\n",
       "      <td>0.225469</td>\n",
       "    </tr>\n",
       "    <tr>\n",
       "      <th>DomesticTotalGross</th>\n",
       "      <td>0.437825</td>\n",
       "      <td>0.914747</td>\n",
       "      <td>1.000000</td>\n",
       "      <td>-0.153575</td>\n",
       "      <td>0.048382</td>\n",
       "      <td>-0.004047</td>\n",
       "      <td>0.184069</td>\n",
       "      <td>0.200949</td>\n",
       "      <td>0.000556</td>\n",
       "      <td>-0.134578</td>\n",
       "      <td>...</td>\n",
       "      <td>0.488146</td>\n",
       "      <td>0.638826</td>\n",
       "      <td>NaN</td>\n",
       "      <td>-0.024724</td>\n",
       "      <td>0.208497</td>\n",
       "      <td>0.145349</td>\n",
       "      <td>0.071593</td>\n",
       "      <td>0.349777</td>\n",
       "      <td>0.111800</td>\n",
       "      <td>0.149287</td>\n",
       "    </tr>\n",
       "    <tr>\n",
       "      <th>Release Month_2</th>\n",
       "      <td>-0.162867</td>\n",
       "      <td>-0.149681</td>\n",
       "      <td>-0.153575</td>\n",
       "      <td>1.000000</td>\n",
       "      <td>-0.095791</td>\n",
       "      <td>-0.053347</td>\n",
       "      <td>-0.102321</td>\n",
       "      <td>-0.095791</td>\n",
       "      <td>-0.120754</td>\n",
       "      <td>-0.081818</td>\n",
       "      <td>...</td>\n",
       "      <td>-0.093018</td>\n",
       "      <td>-0.065912</td>\n",
       "      <td>NaN</td>\n",
       "      <td>-0.032052</td>\n",
       "      <td>-0.049230</td>\n",
       "      <td>0.012720</td>\n",
       "      <td>-0.026332</td>\n",
       "      <td>-0.041902</td>\n",
       "      <td>-0.018580</td>\n",
       "      <td>-0.018580</td>\n",
       "    </tr>\n",
       "    <tr>\n",
       "      <th>Release Month_3</th>\n",
       "      <td>-0.017789</td>\n",
       "      <td>0.071308</td>\n",
       "      <td>0.048382</td>\n",
       "      <td>-0.095791</td>\n",
       "      <td>1.000000</td>\n",
       "      <td>-0.062457</td>\n",
       "      <td>-0.119795</td>\n",
       "      <td>-0.112150</td>\n",
       "      <td>-0.141376</td>\n",
       "      <td>-0.095791</td>\n",
       "      <td>...</td>\n",
       "      <td>0.060344</td>\n",
       "      <td>-0.013397</td>\n",
       "      <td>NaN</td>\n",
       "      <td>0.053343</td>\n",
       "      <td>0.016915</td>\n",
       "      <td>-0.007260</td>\n",
       "      <td>0.122031</td>\n",
       "      <td>-0.049058</td>\n",
       "      <td>-0.021753</td>\n",
       "      <td>-0.021753</td>\n",
       "    </tr>\n",
       "  </tbody>\n",
       "</table>\n",
       "<p>5 rows × 33 columns</p>\n",
       "</div>"
      ],
      "text/plain": [
       "                           Runtime (mins)  Opening Weekend Gross ($)  \\\n",
       "Runtime (mins)                   1.000000                   0.495167   \n",
       "Opening Weekend Gross ($)        0.495167                   1.000000   \n",
       "DomesticTotalGross               0.437825                   0.914747   \n",
       "Release Month_2                 -0.162867                  -0.149681   \n",
       "Release Month_3                 -0.017789                   0.071308   \n",
       "\n",
       "                           DomesticTotalGross  Release Month_2  \\\n",
       "Runtime (mins)                       0.437825        -0.162867   \n",
       "Opening Weekend Gross ($)            0.914747        -0.149681   \n",
       "DomesticTotalGross                   1.000000        -0.153575   \n",
       "Release Month_2                     -0.153575         1.000000   \n",
       "Release Month_3                      0.048382        -0.095791   \n",
       "\n",
       "                           Release Month_3  Release Month_4  Release Month_5  \\\n",
       "Runtime (mins)                   -0.017789        -0.105054         0.208332   \n",
       "Opening Weekend Gross ($)         0.071308        -0.003261         0.283690   \n",
       "DomesticTotalGross                0.048382        -0.004047         0.184069   \n",
       "Release Month_2                  -0.095791        -0.053347        -0.102321   \n",
       "Release Month_3                   1.000000        -0.062457        -0.119795   \n",
       "\n",
       "                           Release Month_6  Release Month_7  Release Month_8  \\\n",
       "Runtime (mins)                    0.142170        -0.004120        -0.083798   \n",
       "Opening Weekend Gross ($)         0.218650         0.003403        -0.120120   \n",
       "DomesticTotalGross                0.200949         0.000556        -0.134578   \n",
       "Release Month_2                  -0.095791        -0.120754        -0.081818   \n",
       "Release Month_3                  -0.112150        -0.141376        -0.095791   \n",
       "\n",
       "                               ...        Director_Above_20  \\\n",
       "Runtime (mins)                 ...                 0.284790   \n",
       "Opening Weekend Gross ($)      ...                 0.490756   \n",
       "DomesticTotalGross             ...                 0.488146   \n",
       "Release Month_2                ...                -0.093018   \n",
       "Release Month_3                ...                 0.060344   \n",
       "\n",
       "                           Director_Above_40  Director_Below_1  Actors Rank_2  \\\n",
       "Runtime (mins)                      0.236927               NaN       0.181222   \n",
       "Opening Weekend Gross ($)           0.557486               NaN      -0.006739   \n",
       "DomesticTotalGross                  0.638826               NaN      -0.024724   \n",
       "Release Month_2                    -0.065912               NaN      -0.032052   \n",
       "Release Month_3                    -0.013397               NaN       0.053343   \n",
       "\n",
       "                           Actors Rank_3  Actors Rank_4  Actors Rank_5  \\\n",
       "Runtime (mins)                  0.350551       0.229513       0.138438   \n",
       "Opening Weekend Gross ($)       0.262593       0.096889       0.152779   \n",
       "DomesticTotalGross              0.208497       0.145349       0.071593   \n",
       "Release Month_2                -0.049230       0.012720      -0.026332   \n",
       "Release Month_3                 0.016915      -0.007260       0.122031   \n",
       "\n",
       "                           Actors Rank_6  Actors Rank_7  Actors Rank_8  \n",
       "Runtime (mins)                  0.177418       0.072334       0.107190  \n",
       "Opening Weekend Gross ($)       0.389105       0.191163       0.225469  \n",
       "DomesticTotalGross              0.349777       0.111800       0.149287  \n",
       "Release Month_2                -0.041902      -0.018580      -0.018580  \n",
       "Release Month_3                -0.049058      -0.021753      -0.021753  \n",
       "\n",
       "[5 rows x 33 columns]"
      ]
     },
     "execution_count": 5,
     "metadata": {},
     "output_type": "execute_result"
    }
   ],
   "source": [
    "movies_df_3D.corr().head()"
   ]
  },
  {
   "cell_type": "code",
   "execution_count": 7,
   "metadata": {},
   "outputs": [
    {
     "name": "stdout",
     "output_type": "stream",
     "text": [
      "<class 'pandas.core.frame.DataFrame'>\n",
      "Int64Index: 238 entries, 0 to 47\n",
      "Data columns (total 34 columns):\n",
      "Movie Title                  238 non-null object\n",
      "Runtime (mins)               238 non-null float64\n",
      "Opening Weekend Gross ($)    238 non-null float64\n",
      "DomesticTotalGross           238 non-null float64\n",
      "Release Month_2              238 non-null uint8\n",
      "Release Month_3              238 non-null uint8\n",
      "Release Month_4              238 non-null uint8\n",
      "Release Month_5              238 non-null uint8\n",
      "Release Month_6              238 non-null uint8\n",
      "Release Month_7              238 non-null uint8\n",
      "Release Month_8              238 non-null uint8\n",
      "Release Month_9              238 non-null uint8\n",
      "Release Month_10             238 non-null uint8\n",
      "Release Month_11             238 non-null uint8\n",
      "Release Month_12             238 non-null uint8\n",
      "MPAA_PG/PG-13                238 non-null uint8\n",
      "MPAA_R                       238 non-null uint8\n",
      "MPAA_Unrated                 238 non-null uint8\n",
      "Genre_3D                     238 non-null uint8\n",
      "Prod_Budget_Medium           238 non-null uint8\n",
      "Prod_Budget_Small            238 non-null uint8\n",
      "Release_Limited              238 non-null uint8\n",
      "Release_Wild                 238 non-null uint8\n",
      "Director_Above_10            238 non-null uint8\n",
      "Director_Above_20            238 non-null uint8\n",
      "Director_Above_40            238 non-null uint8\n",
      "Director_Below_1             238 non-null uint8\n",
      "Actors Rank_2                238 non-null uint8\n",
      "Actors Rank_3                238 non-null uint8\n",
      "Actors Rank_4                238 non-null uint8\n",
      "Actors Rank_5                238 non-null uint8\n",
      "Actors Rank_6                238 non-null uint8\n",
      "Actors Rank_7                238 non-null uint8\n",
      "Actors Rank_8                238 non-null uint8\n",
      "dtypes: float64(3), object(1), uint8(30)\n",
      "memory usage: 16.3+ KB\n"
     ]
    }
   ],
   "source": [
    "movies_df_3D.info()"
   ]
  },
  {
   "cell_type": "code",
   "execution_count": 8,
   "metadata": {},
   "outputs": [
    {
     "data": {
      "text/html": [
       "<div>\n",
       "<style>\n",
       "    .dataframe thead tr:only-child th {\n",
       "        text-align: right;\n",
       "    }\n",
       "\n",
       "    .dataframe thead th {\n",
       "        text-align: left;\n",
       "    }\n",
       "\n",
       "    .dataframe tbody tr th {\n",
       "        vertical-align: top;\n",
       "    }\n",
       "</style>\n",
       "<table border=\"1\" class=\"dataframe\">\n",
       "  <thead>\n",
       "    <tr style=\"text-align: right;\">\n",
       "      <th></th>\n",
       "      <th>Runtime (mins)</th>\n",
       "      <th>Opening Weekend Gross ($)</th>\n",
       "      <th>DomesticTotalGross</th>\n",
       "      <th>Release Month_2</th>\n",
       "      <th>Release Month_3</th>\n",
       "      <th>Release Month_4</th>\n",
       "      <th>Release Month_5</th>\n",
       "      <th>Release Month_6</th>\n",
       "      <th>Release Month_7</th>\n",
       "      <th>Release Month_8</th>\n",
       "      <th>...</th>\n",
       "      <th>Director_Above_20</th>\n",
       "      <th>Director_Above_40</th>\n",
       "      <th>Director_Below_1</th>\n",
       "      <th>Actors Rank_2</th>\n",
       "      <th>Actors Rank_3</th>\n",
       "      <th>Actors Rank_4</th>\n",
       "      <th>Actors Rank_5</th>\n",
       "      <th>Actors Rank_6</th>\n",
       "      <th>Actors Rank_7</th>\n",
       "      <th>Actors Rank_8</th>\n",
       "    </tr>\n",
       "  </thead>\n",
       "  <tbody>\n",
       "    <tr>\n",
       "      <th>count</th>\n",
       "      <td>238.000000</td>\n",
       "      <td>238.000000</td>\n",
       "      <td>238.000000</td>\n",
       "      <td>238.00000</td>\n",
       "      <td>238.00000</td>\n",
       "      <td>238.000000</td>\n",
       "      <td>238.000000</td>\n",
       "      <td>238.00000</td>\n",
       "      <td>238.000000</td>\n",
       "      <td>238.00000</td>\n",
       "      <td>...</td>\n",
       "      <td>238.000000</td>\n",
       "      <td>238.00000</td>\n",
       "      <td>238.0</td>\n",
       "      <td>238.000000</td>\n",
       "      <td>238.000000</td>\n",
       "      <td>238.000000</td>\n",
       "      <td>238.000000</td>\n",
       "      <td>238.000000</td>\n",
       "      <td>238.000000</td>\n",
       "      <td>238.000000</td>\n",
       "    </tr>\n",
       "    <tr>\n",
       "      <th>mean</th>\n",
       "      <td>107.172269</td>\n",
       "      <td>46.142832</td>\n",
       "      <td>148.402228</td>\n",
       "      <td>0.07563</td>\n",
       "      <td>0.10084</td>\n",
       "      <td>0.033613</td>\n",
       "      <td>0.113445</td>\n",
       "      <td>0.10084</td>\n",
       "      <td>0.151261</td>\n",
       "      <td>0.07563</td>\n",
       "      <td>...</td>\n",
       "      <td>0.180672</td>\n",
       "      <td>0.05042</td>\n",
       "      <td>0.0</td>\n",
       "      <td>0.151261</td>\n",
       "      <td>0.109244</td>\n",
       "      <td>0.046218</td>\n",
       "      <td>0.008403</td>\n",
       "      <td>0.021008</td>\n",
       "      <td>0.004202</td>\n",
       "      <td>0.004202</td>\n",
       "    </tr>\n",
       "  </tbody>\n",
       "</table>\n",
       "<p>2 rows × 33 columns</p>\n",
       "</div>"
      ],
      "text/plain": [
       "       Runtime (mins)  Opening Weekend Gross ($)  DomesticTotalGross  \\\n",
       "count      238.000000                 238.000000          238.000000   \n",
       "mean       107.172269                  46.142832          148.402228   \n",
       "\n",
       "       Release Month_2  Release Month_3  Release Month_4  Release Month_5  \\\n",
       "count        238.00000        238.00000       238.000000       238.000000   \n",
       "mean           0.07563          0.10084         0.033613         0.113445   \n",
       "\n",
       "       Release Month_6  Release Month_7  Release Month_8      ...        \\\n",
       "count        238.00000       238.000000        238.00000      ...         \n",
       "mean           0.10084         0.151261          0.07563      ...         \n",
       "\n",
       "       Director_Above_20  Director_Above_40  Director_Below_1  Actors Rank_2  \\\n",
       "count         238.000000          238.00000             238.0     238.000000   \n",
       "mean            0.180672            0.05042               0.0       0.151261   \n",
       "\n",
       "       Actors Rank_3  Actors Rank_4  Actors Rank_5  Actors Rank_6  \\\n",
       "count     238.000000     238.000000     238.000000     238.000000   \n",
       "mean        0.109244       0.046218       0.008403       0.021008   \n",
       "\n",
       "       Actors Rank_7  Actors Rank_8  \n",
       "count     238.000000     238.000000  \n",
       "mean        0.004202       0.004202  \n",
       "\n",
       "[2 rows x 33 columns]"
      ]
     },
     "execution_count": 8,
     "metadata": {},
     "output_type": "execute_result"
    }
   ],
   "source": [
    "movies_df_3D.describe().head(2)"
   ]
  },
  {
   "cell_type": "code",
   "execution_count": 9,
   "metadata": {},
   "outputs": [
    {
     "data": {
      "text/plain": [
       "(238, 34)"
      ]
     },
     "execution_count": 9,
     "metadata": {},
     "output_type": "execute_result"
    }
   ],
   "source": [
    "movies_df_3D.shape"
   ]
  },
  {
   "cell_type": "markdown",
   "metadata": {},
   "source": [
    "### Dataset Standardization - removes the mean and scaling to unit variance \n",
    "L1 and L2 regularizers of linear models assume that all features are centered around 0 and have variance in the same order. If a feature has a variance that is orders of magnitude larger that others, it might dominate the objective function and make the estimator unable to learn from other features correctly as expected."
   ]
  },
  {
   "cell_type": "code",
   "execution_count": 10,
   "metadata": {
    "collapsed": true
   },
   "outputs": [],
   "source": [
    "not_y = movies_df_3D.loc[:, movies_df_3D.columns != 'DomesticTotalGross'] \n",
    "x = not_y.loc[:, not_y.columns != 'Movie Title']\n",
    "x = x[[x for x in x.columns if x != 'Genre_3D']]\n",
    "y = movies_df_3D.DomesticTotalGross"
   ]
  },
  {
   "cell_type": "code",
   "execution_count": 11,
   "metadata": {
    "scrolled": true
   },
   "outputs": [
    {
     "name": "stdout",
     "output_type": "stream",
     "text": [
      "Model Features:  Index(['Runtime (mins)', 'Opening Weekend Gross ($)', 'Release Month_2',\n",
      "       'Release Month_3', 'Release Month_4', 'Release Month_5',\n",
      "       'Release Month_6', 'Release Month_7', 'Release Month_8',\n",
      "       'Release Month_9', 'Release Month_10', 'Release Month_11',\n",
      "       'Release Month_12', 'MPAA_PG/PG-13', 'MPAA_R', 'MPAA_Unrated',\n",
      "       'Prod_Budget_Medium', 'Prod_Budget_Small', 'Release_Limited',\n",
      "       'Release_Wild', 'Director_Above_10', 'Director_Above_20',\n",
      "       'Director_Above_40', 'Director_Below_1', 'Actors Rank_2',\n",
      "       'Actors Rank_3', 'Actors Rank_4', 'Actors Rank_5', 'Actors Rank_6',\n",
      "       'Actors Rank_7', 'Actors Rank_8'],\n",
      "      dtype='object')\n"
     ]
    }
   ],
   "source": [
    "print('Model Features: ', x.columns)"
   ]
  },
  {
   "cell_type": "code",
   "execution_count": 12,
   "metadata": {},
   "outputs": [
    {
     "name": "stdout",
     "output_type": "stream",
     "text": [
      "Dimensionality of features: (238, 31)\n",
      "Dimensionality of target: (238,)\n"
     ]
    }
   ],
   "source": [
    "print('Dimensionality of features:', x.shape)\n",
    "print('Dimensionality of target:', (len(y),))"
   ]
  },
  {
   "cell_type": "code",
   "execution_count": 13,
   "metadata": {},
   "outputs": [
    {
     "data": {
      "image/png": "[encoded data removed]",
      "text/plain": [
       "<matplotlib.figure.Figure at 0x1172fa518>"
      ]
     },
     "metadata": {},
     "output_type": "display_data"
    }
   ],
   "source": [
    "plt.plot(x, y, 'ro');\n",
    "plt.title('Target ~ Single Feature')\n",
    "plt.xlabel('Feature')\n",
    "plt.ylabel('Target');"
   ]
  },
  {
   "cell_type": "code",
   "execution_count": 14,
   "metadata": {
    "collapsed": true
   },
   "outputs": [],
   "source": [
    "ssX = StandardScaler()\n",
    "not_Y = movies_df_3D[[x for x in movies_df.columns if x != 'DomesticTotalGross']] \n",
    "X = not_Y[[x for x in not_y.columns if x != 'Movie Title']]\n",
    "X = X[[x for x in X.columns if x != 'Genre_3D']]\n",
    "Y = movies_df_3D.DomesticTotalGross"
   ]
  },
  {
   "cell_type": "markdown",
   "metadata": {},
   "source": [
    "### Train-Test Split - 10% of Data as Holdout for Validation"
   ]
  },
  {
   "cell_type": "code",
   "execution_count": 15,
   "metadata": {
    "collapsed": true
   },
   "outputs": [],
   "source": [
    "X_train, X_val, Y_train, Y_val = train_test_split(X, Y, test_size=0.1, random_state=42)"
   ]
  },
  {
   "cell_type": "code",
   "execution_count": 16,
   "metadata": {
    "collapsed": true
   },
   "outputs": [],
   "source": [
    "X_tr = ssX.fit_transform(X_train)\n",
    "X_val = ssX.transform(X_val)"
   ]
  },
  {
   "cell_type": "code",
   "execution_count": 17,
   "metadata": {},
   "outputs": [
    {
     "name": "stdout",
     "output_type": "stream",
     "text": [
      "Dimensionality of training features: (214, 31)\n",
      "Dimensionality of training target: (214,)\n"
     ]
    }
   ],
   "source": [
    "print('Dimensionality of training features:', X_train.shape)\n",
    "print('Dimensionality of training target:', Y_train.shape)"
   ]
  },
  {
   "cell_type": "markdown",
   "metadata": {},
   "source": [
    "##### Regression Statistics\n",
    "R2: square of the correlation coefficient and represents the estimated percentage of the variance in our target variable Y that can be explained by our regression model. Adjusted R2 also penalizes for things such as large coefficients and extra variables to try and limit overfitting so it is often a better measure of model efficacy.\n",
    "\n",
    "P(|t|) measures our degree of belief that the coefficient for each variable should be zero. Thus, the lowest P-values represent the most likely predictors to be impacting the response.\n",
    "Putting it all together, the final column returns a 95% Confidence Interval for the value of each coefficient."
   ]
  },
  {
   "cell_type": "code",
   "execution_count": 18,
   "metadata": {
    "collapsed": true
   },
   "outputs": [],
   "source": [
    "# fit1_1.resid.plot(style='ro', figsize=(12,8))"
   ]
  },
  {
   "cell_type": "markdown",
   "metadata": {},
   "source": [
    "### Linear Regression Model 1: SkLearn "
   ]
  },
  {
   "cell_type": "code",
   "execution_count": 19,
   "metadata": {
    "collapsed": true
   },
   "outputs": [],
   "source": [
    "df_train = pd.DataFrame(X_tr)\n",
    "df_train.columns = [x.columns]"
   ]
  },
  {
   "cell_type": "code",
   "execution_count": 20,
   "metadata": {
    "collapsed": true
   },
   "outputs": [],
   "source": [
    "def sklearn_lr(feature,cv = 5, scoring = 'neg_mean_absolute_error'):\n",
    "    x_train = df_train[feature]\n",
    "    lr = LinearRegression()\n",
    "    shape = len(feature)\n",
    "    x_train = x_train.values.reshape(-1,shape)\n",
    "    lr.fit(x_train, Y_train)\n",
    "    score_ = cross_val_score(lr, x_train, Y_train, cv = cv, scoring = scoring)\n",
    "    score_mean = score_.mean()\n",
    "    intercept_ = lr.intercept_\n",
    "    coef_ = lr.coef_\n",
    "    print('|Mean score (Neg MAE)|: ', score_mean\n",
    "          , '\\n', 'Intercept|: ',intercept_, '\\n', '|Coefs|: ', coef_)"
   ]
  },
  {
   "cell_type": "code",
   "execution_count": 21,
   "metadata": {},
   "outputs": [
    {
     "name": "stdout",
     "output_type": "stream",
     "text": [
      "|Mean score (Neg MAE)|:  -32.0993820466 \n",
      " Intercept|:  148.067155829 \n",
      " |Coefs|:  [ 122.59357229]\n"
     ]
    }
   ],
   "source": [
    "sk_m1 = sklearn_lr(['Opening Weekend Gross ($)'])"
   ]
  },
  {
   "cell_type": "code",
   "execution_count": 22,
   "metadata": {},
   "outputs": [
    {
     "name": "stdout",
     "output_type": "stream",
     "text": [
      "|Mean score (Neg MAE)|:  -26.8759498538 \n",
      " Intercept|:  148.067155829 \n",
      " |Coefs|:  [ 83.44937182 -11.25445861  -8.42117062  -3.12761077  -3.14693637\n",
      "  21.8236219   38.82169169  52.16656263  -5.18481681  -7.19183178\n",
      "  -5.48147627 -10.71834235]\n"
     ]
    }
   ],
   "source": [
    "sk_m2 = sklearn_lr(['Opening Weekend Gross ($)','Release Month_5'\n",
    "                    ,'Release Month_6','MPAA_R','Release_Wild', 'Director_Above_10'\n",
    "                    ,'Director_Above_20', 'Director_Above_40','Actors Rank_3'\n",
    "                    , 'Actors Rank_5','Actors Rank_7', 'Actors Rank_8'])"
   ]
  },
  {
   "cell_type": "markdown",
   "metadata": {},
   "source": [
    "### Linear Regression Model 2 - Lasso Regression (L1)"
   ]
  },
  {
   "cell_type": "code",
   "execution_count": 23,
   "metadata": {
    "collapsed": true
   },
   "outputs": [],
   "source": [
    "# def adj_r2(rsquare, num_data, num_features):\n",
    "#     temp = (1-rsquare)*(num_data-1)\n",
    "#     temp = temp/(num_data-num_features-1)\n",
    "#     temp = 1 - temp\n",
    "#     return temp"
   ]
  },
  {
   "cell_type": "code",
   "execution_count": 24,
   "metadata": {
    "collapsed": true
   },
   "outputs": [],
   "source": [
    "def lasso_modeling(feature, cv = 5, scoring = 'neg_mean_absolute_error'):\n",
    "    x_train = df_train[feature]\n",
    "    shape = len(feature)\n",
    "    x_train = x_train.values.reshape(-1,shape)\n",
    "    model = Lasso(max_iter=5000)\n",
    "    parameters = {'alpha': [1e-5,1e-3,1e-1,1], 'fit_intercept': [True,False]}\n",
    "    grid = GridSearchCV(model,parameters, cv=cv, scoring=scoring, n_jobs=1)\n",
    "    grid.fit(x_train, Y_train)\n",
    "    best_lasso = grid.best_estimator_\n",
    "    best_score = grid.best_score_\n",
    "    best_params = grid.best_params_\n",
    "    best_intercept = best_lasso.intercept_\n",
    "    best_coefs = best_lasso.coef_\n",
    "    print('|Best Lasso|: ',best_lasso\n",
    "          ,'\\n','|Score (Neg MAE)|: ',best_score\n",
    "          ,'\\n','|Intercept|: ',best_intercept\n",
    "          ,'\\n','|Coefficients|: ',best_coefs)"
   ]
  },
  {
   "cell_type": "code",
   "execution_count": 25,
   "metadata": {},
   "outputs": [
    {
     "name": "stdout",
     "output_type": "stream",
     "text": [
      "|Best Lasso|:  Lasso(alpha=1e-05, copy_X=True, fit_intercept=True, max_iter=5000,\n",
      "   normalize=False, positive=False, precompute=False, random_state=None,\n",
      "   selection='cyclic', tol=0.0001, warm_start=False) \n",
      " |Score (Neg MAE)|:  -32.0714530942 \n",
      " |Intercept|:  148.067155829 \n",
      " |Coefficients|:  [ 122.59356229]\n"
     ]
    }
   ],
   "source": [
    "# 5-fold CV, scoring with negative MAE, 1 feature: \n",
    "best_lasso_I1 = lasso_modeling(['Opening Weekend Gross ($)'])"
   ]
  },
  {
   "cell_type": "markdown",
   "metadata": {},
   "source": [
    "##### _Out of all models w/ Lasso(w/ different combination of features) tested, the one below returns the hightst R^2._"
   ]
  },
  {
   "cell_type": "code",
   "execution_count": 26,
   "metadata": {},
   "outputs": [
    {
     "name": "stdout",
     "output_type": "stream",
     "text": [
      "|Best Lasso|:  Lasso(alpha=1, copy_X=True, fit_intercept=True, max_iter=5000,\n",
      "   normalize=False, positive=False, precompute=False, random_state=None,\n",
      "   selection='cyclic', tol=0.0001, warm_start=False) \n",
      " |Score (Neg MAE)|:  -26.3605837355 \n",
      " |Intercept|:  148.067155829 \n",
      " |Coefficients|:  [ 79.97774323  -9.15183146  -5.37820525  -3.12316323  20.35476385\n",
      "  37.27874159  51.99186284  -4.94731079  -9.03858254]\n"
     ]
    }
   ],
   "source": [
    "best_lasso_I2 = lasso_modeling(['Opening Weekend Gross ($)','Release Month_5'\n",
    "                    ,'Release Month_6','MPAA_R','Director_Above_10'\n",
    "                    ,'Director_Above_20', 'Director_Above_40'\n",
    "                    , 'Actors Rank_5','Actors Rank_8'])"
   ]
  },
  {
   "cell_type": "markdown",
   "metadata": {},
   "source": [
    "### Linear Regression Model 3 - Ridge Regression (L2)"
   ]
  },
  {
   "cell_type": "code",
   "execution_count": 27,
   "metadata": {
    "collapsed": true
   },
   "outputs": [],
   "source": [
    "def ridge_modeling(feature, cv = 5, scoring = 'neg_mean_absolute_error'):\n",
    "    x_train = df_train[feature]\n",
    "    shape = len(feature)\n",
    "    x_train = x_train.values.reshape(-1,shape)\n",
    "    model = Ridge(max_iter=5000)\n",
    "    parameters = {'alpha': [1e-5,1e-3,1e-1,1], 'fit_intercept': [True,False]}\n",
    "    grid = GridSearchCV(model,parameters, cv=cv, scoring=scoring, n_jobs=1)\n",
    "    grid.fit(x_train, Y_train)\n",
    "    best_ridge = grid.best_estimator_\n",
    "    best_score = grid.best_score_\n",
    "    best_params = grid.best_params_\n",
    "    best_intercept = best_ridge.intercept_\n",
    "    best_coefs = best_ridge.coef_\n",
    "    print('|Best Ridge|: ',best_ridge\n",
    "          ,'\\n','|Score (Neg MAE)|: ',best_score\n",
    "          ,'\\n','|Intercept|: ',best_intercept\n",
    "          ,'\\n','|Coefficients|: ',best_coefs)"
   ]
  },
  {
   "cell_type": "code",
   "execution_count": 28,
   "metadata": {},
   "outputs": [
    {
     "name": "stdout",
     "output_type": "stream",
     "text": [
      "|Best Ridge|:  Ridge(alpha=1e-05, copy_X=True, fit_intercept=True, max_iter=5000,\n",
      "   normalize=False, random_state=None, solver='auto', tol=0.001) \n",
      " |Score (Neg MAE)|:  -32.0714526655 \n",
      " |Intercept|:  148.067155829 \n",
      " |Coefficients|:  [ 122.59356657]\n"
     ]
    }
   ],
   "source": [
    "best_ridge_I1 = ridge_modeling(['Opening Weekend Gross ($)'])"
   ]
  },
  {
   "cell_type": "markdown",
   "metadata": {},
   "source": [
    "##### _Out of all models w/ L2 (w/ different combination of features) tested, the one below returns the highest R^2._ "
   ]
  },
  {
   "cell_type": "code",
   "execution_count": 29,
   "metadata": {
    "scrolled": true
   },
   "outputs": [
    {
     "name": "stdout",
     "output_type": "stream",
     "text": [
      "|Best Ridge|:  Ridge(alpha=1, copy_X=True, fit_intercept=True, max_iter=5000,\n",
      "   normalize=False, random_state=None, solver='auto', tol=0.001) \n",
      " |Score (Neg MAE)|:  -26.191495767 \n",
      " |Intercept|:  148.067155829 \n",
      " |Coefficients|:  [ 75.96516462 -10.09358652  -6.85124965  -2.9116126   -3.32566468\n",
      "  22.07392786  40.24116817  55.97820655 -10.0148758 ]\n"
     ]
    }
   ],
   "source": [
    "best_ridge_I2 = ridge_modeling(['Opening Weekend Gross ($)','Release Month_5'\n",
    "                    ,'Release Month_6','MPAA_R','Release_Wild', 'Director_Above_10'\n",
    "                    ,'Director_Above_20', 'Director_Above_40'\n",
    "                    ,'Actors Rank_8'])"
   ]
  },
  {
   "cell_type": "markdown",
   "metadata": {},
   "source": [
    "### Linear Regression Model 4 - ElasticNet"
   ]
  },
  {
   "cell_type": "code",
   "execution_count": 31,
   "metadata": {
    "collapsed": true
   },
   "outputs": [],
   "source": [
    "def elasticnet_modeling(feature, cv = 5, scoring = 'neg_mean_absolute_error'):\n",
    "    x_train = df_train[feature]\n",
    "    shape = len(feature)\n",
    "    x_train = x_train.values.reshape(-1,shape)\n",
    "    model = ElasticNet(max_iter=5000)\n",
    "    parameters = {'alpha': [1e-5,1e-3,1e-1,1], 'fit_intercept': [True,False]}\n",
    "    grid = GridSearchCV(model,parameters, cv=cv, scoring=scoring, n_jobs=1)\n",
    "    grid.fit(x_train, Y_train)\n",
    "    best_en = grid.best_estimator_\n",
    "    best_score = grid.best_score_\n",
    "    best_params = grid.best_params_\n",
    "    best_intercept = best_en.intercept_\n",
    "    best_coefs = best_en.coef_\n",
    "    print('|Best ElesticNet|: ',best_en\n",
    "          ,'\\n','|Score (Neg MAE)|: ',best_score\n",
    "          ,'\\n','|Intercept|: ',best_intercept\n",
    "          ,'\\n','|Coefficients|: ',best_coefs)\n",
    "    return best_en#### So the best model turns out to be best_lasso_I2, which has the lowest MAE of all that's been tested.\n"
   ]
  },
  {
   "cell_type": "code",
   "execution_count": 32,
   "metadata": {},
   "outputs": [
    {
     "name": "stdout",
     "output_type": "stream",
     "text": [
      "|Best ElesticNet|:  ElasticNet(alpha=1e-05, copy_X=True, fit_intercept=True, l1_ratio=0.5,\n",
      "      max_iter=5000, normalize=False, positive=False, precompute=False,\n",
      "      random_state=None, selection='cyclic', tol=0.0001, warm_start=False) \n",
      " |Score (Neg MAE)|:  -32.0715409168 \n",
      " |Intercept|:  148.067155829 \n",
      " |Coefficients|:  [ 122.59295433]\n"
     ]
    }
   ],
   "source": [
    "best_en_I1 = elasticnet_modeling(['Opening Weekend Gross ($)'])"
   ]
  },
  {
   "cell_type": "code",
   "execution_count": 33,
   "metadata": {},
   "outputs": [
    {
     "name": "stdout",
     "output_type": "stream",
     "text": [
      "|Best ElesticNet|:  ElasticNet(alpha=0.1, copy_X=True, fit_intercept=True, l1_ratio=0.5,\n",
      "      max_iter=5000, normalize=False, positive=False, precompute=False,\n",
      "      random_state=None, selection='cyclic', tol=0.0001, warm_start=False) \n",
      " |Score (Neg MAE)|:  -26.0593630769 \n",
      " |Intercept|:  148.067155829 \n",
      " |Coefficients|:  [ 78.21218109  -9.00529244  -6.40235716  -3.6306866   -4.27048347\n",
      "  19.59378928  37.37410807  50.87383675  -3.45803748  -5.67102137\n",
      "  -3.97248893  -9.07854101]\n"
     ]
    }
   ],
   "source": [
    "best_en_I2 = elasticnet_modeling(['Opening Weekend Gross ($)','Release Month_5'\n",
    "                    ,'Release Month_6','MPAA_R','Release_Wild', 'Director_Above_10'\n",
    "                    ,'Director_Above_20', 'Director_Above_40','Actors Rank_3'\n",
    "                    , 'Actors Rank_5','Actors Rank_7', 'Actors Rank_8'])"
   ]
  },
  {
   "cell_type": "markdown",
   "metadata": {},
   "source": [
    "#### So the best model turns out to be best_en_I2, which has the lowest MAE of all that's been tested.\n",
    "Model:  \n",
    "ElasticNet \n",
    "\n",
    "Parameters:  \n",
    "alpha=0.1, copy_X=True, fit_intercept=True, l1_ratio=0.5,\n",
    "      max_iter=5000, normalize=False, positive=False, precompute=False,\n",
    "      random_state=None, selection='cyclic', tol=0.0001, warm_start=False\n",
    "   \n",
    "Features:  \n",
    "Opening Weekend Gross ($),   \n",
    "Release Month_5,  \n",
    "Release Month_6,  \n",
    "MPAA_R,  \n",
    "Release_Wild,  \n",
    "Director_Above_10,  \n",
    "Director_Above_20,  \n",
    "Director_Above_40,  \n",
    "Actors Rank_3,  \n",
    "Actors Rank_5,  \n",
    "Actors Rank_7,  \n",
    "Actors Rank_8    "
   ]
  },
  {
   "cell_type": "markdown",
   "metadata": {},
   "source": [
    "### Apply the best model on testing set & Make predictions"
   ]
  },
  {
   "cell_type": "code",
   "execution_count": 34,
   "metadata": {},
   "outputs": [
    {
     "data": {
      "text/plain": [
       "array([ 78.21218109,  -9.00529244,  -6.40235716,  -3.6306866 ,\n",
       "        -4.27048347,  19.59378928,  37.37410807,  50.87383675,\n",
       "        -3.45803748,  -5.67102137,  -3.97248893,  -9.07854101])"
      ]
     },
     "execution_count": 34,
     "metadata": {},
     "output_type": "execute_result"
    }
   ],
   "source": [
    "best_en_I2.coef_"
   ]
  },
  {
   "cell_type": "code",
   "execution_count": 35,
   "metadata": {
    "collapsed": true
   },
   "outputs": [],
   "source": [
    "df_val = pd.DataFrame(X_val)\n",
    "df_val.columns = [x.columns]\n",
    "X_val = df_val[['Opening Weekend Gross ($)','Release Month_5'\n",
    "                    ,'Release Month_6','MPAA_R','Release_Wild', 'Director_Above_10'\n",
    "                    ,'Director_Above_20', 'Director_Above_40','Actors Rank_3'\n",
    "                    , 'Actors Rank_5','Actors Rank_7', 'Actors Rank_8']]\n",
    "X_val = X_val.values.reshape(-1,12)"
   ]
  },
  {
   "cell_type": "code",
   "execution_count": 36,
   "metadata": {},
   "outputs": [
    {
     "name": "stdout",
     "output_type": "stream",
     "text": [
      "pred, resid: 150.750581065, $-34.1494090654\n",
      "pred, resid: 322.761028717, $45.6233012835\n",
      "pred, resid: 43.5553582734, $-13.2013852734\n",
      "pred, resid: 100.096662507, $1.60770749304\n",
      "pred, resid: 500.901954752, $-14.606393752\n",
      "pred, resid: 54.676092298, $1.02738270204\n",
      "pred, resid: 441.967408751, $-29.9285997506\n",
      "pred, resid: 35.4206856878, $-10.3134186878\n",
      "pred, resid: 94.6466963631, $25.1468706369\n",
      "pred, resid: 31.7732391527, $-6.4471681527\n",
      "pred, resid: 65.8391797851, $-20.6820747851\n",
      "pred, resid: 77.8644375714, $5.63957942862\n",
      "pred, resid: 221.610740464, $52.4819645362\n",
      "pred, resid: 51.6013013907, $-9.01365839065\n",
      "pred, resid: 132.972082327, $-13.5353123265\n",
      "pred, resid: 259.51501467, $-45.4845146697\n",
      "pred, resid: 335.079097733, $-3.07555973253\n",
      "pred, resid: 40.2838526255, $-5.20917562546\n",
      "pred, resid: 147.801626509, $7.38920549108\n",
      "pred, resid: 277.557111054, $74.8334319455\n",
      "pred, resid: 42.0619735474, $-8.44311854745\n",
      "pred, resid: 144.246449404, $-37.6663984043\n",
      "pred, resid: 75.3789985293, $4.70138047065\n",
      "pred, resid: 32.4862092041, $-14.1836022041\n"
     ]
    }
   ],
   "source": [
    "en_pred = best_en_I2.predict(X_val)\n",
    "for true,pred in zip(Y_val, en_pred):\n",
    "    resid = true - pred\n",
    "    print(\"pred, resid:\", str(pred) + \", $\"+ str(resid))"
   ]
  },
  {
   "cell_type": "markdown",
   "metadata": {},
   "source": [
    "### Compare Predicted v.s. Actual"
   ]
  },
  {
   "cell_type": "code",
   "execution_count": 57,
   "metadata": {
    "scrolled": true
   },
   "outputs": [
    {
     "data": {
      "image/png": "[encoded data removed]",
      "text/plain": [
       "<matplotlib.figure.Figure at 0x11c610748>"
      ]
     },
     "metadata": {},
     "output_type": "display_data"
    }
   ],
   "source": [
    "plt.figure(figsize=(10, 6))\n",
    "plt.scatter(en_pred,Y_val,alpha=.5,color='k')\n",
    "plt.plot(np.linspace(0,800,1000),np.linspace(0,800,1000),color='red')\n",
    "plt.xlabel('Predicted Movie Domestic Total Gross', fontsize=15)\n",
    "plt.ylabel('Actual Movie Domestic Total Gross', fontsize=15)\n",
    "plt.title('Model[3D] Performance', fontsize=20)\n",
    "\n",
    "plt.savefig('../../Images/model_3d performance.png', dpi=200, bbox_inches = 'tight')"
   ]
  },
  {
   "cell_type": "markdown",
   "metadata": {},
   "source": [
    "### Plotting Residuals"
   ]
  },
  {
   "cell_type": "code",
   "execution_count": 51,
   "metadata": {
    "scrolled": true
   },
   "outputs": [
    {
     "data": {
      "image/png": "[encoded data removed]",
      "text/plain": [
       "<matplotlib.figure.Figure at 0x11c64fd68>"
      ]
     },
     "metadata": {},
     "output_type": "display_data"
    }
   ],
   "source": [
    "def residual_scatter(model, x, y, color):\n",
    "    en_pred = model.predict(x)\n",
    "    residual_ = []\n",
    "    pred_ = []\n",
    "    for true,pred in zip(y, en_pred):\n",
    "        resid = true - pred\n",
    "        residual_.append(resid)\n",
    "        pred_.append(pred)\n",
    "    residual_scatter = plt.scatter(pred_, residual_, color = color)\n",
    "    plt.ylim(100,-100)\n",
    "#     return (residual_scatter, residual_hist) \n",
    "#         print(\"pred, resid:\", str(pred) + \", $\"+ str(resid))\n",
    "# residual_plot(best_lasso_I2, x_train, Y_train, 'k')\n",
    "residual_scatter(best_en_I2, X_val, Y_val, 'r',)"
   ]
  },
  {
   "cell_type": "code",
   "execution_count": 48,
   "metadata": {},
   "outputs": [
    {
     "data": {
      "text/plain": [
       "NormaltestResult(statistic=4.8730207785269002, pvalue=0.087465540218435181)"
      ]
     },
     "execution_count": 48,
     "metadata": {},
     "output_type": "execute_result"
    },
    {
     "data": {
      "image/png": "[encoded data removed]",
      "text/plain": [
       "<matplotlib.figure.Figure at 0x11c30c668>"
      ]
     },
     "metadata": {},
     "output_type": "display_data"
    }
   ],
   "source": [
    "def residual_hist(model, x, y, color, outlier_value=260):\n",
    "    en_pred = model.predict(x)\n",
    "    residual_ = []\n",
    "    for true,pred in zip(y, en_pred):\n",
    "        resid = true - pred\n",
    "        residual_.append(resid)\n",
    "        residual_ = [i for i in residual_ if abs(i) < outlier_value]\n",
    "    residual_hist = plt.hist(residual_, color = color, bins=40)\n",
    "    return normaltest(residual_)\n",
    "# residual_plot(best_lasso_I2, x_train, Y_train, 'k')\n",
    "\n",
    "residual_hist(best_en_I2, X_val, Y_val, 'r', 70)"
   ]
  },
  {
   "cell_type": "code",
   "execution_count": 47,
   "metadata": {},
   "outputs": [
    {
     "data": {
      "text/plain": [
       "17    116.601172\n",
       "15    368.384330\n",
       "22     30.353973\n",
       "29    101.704370\n",
       "6     486.295561\n",
       "75     55.703475\n",
       "9     412.038809\n",
       "32     25.107267\n",
       "14    119.793567\n",
       "31     25.326071\n",
       "90     45.157105\n",
       "40     83.504017\n",
       "30    274.092705\n",
       "97     42.587643\n",
       "15    119.436770\n",
       "55    214.030500\n",
       "24    332.003538\n",
       "13     35.074677\n",
       "87    155.190832\n",
       "19    352.390543\n",
       "17     33.618855\n",
       "23    106.580051\n",
       "44     80.080379\n",
       "45     18.302607\n",
       "Name: DomesticTotalGross, dtype: float64"
      ]
     },
     "execution_count": 47,
     "metadata": {},
     "output_type": "execute_result"
    }
   ],
   "source": [
    "Y_val"
   ]
  },
  {
   "cell_type": "code",
   "execution_count": 52,
   "metadata": {
    "collapsed": true
   },
   "outputs": [],
   "source": [
    "Fifty_Shades_Darker = np.array([ 1.09278962, -0.28060677, -0.29546842, -0.23204774, -0.30983867,\n",
    "        1.64398987, -0.37638633, -0.26516504, -0.12171612, -0.41344912,\n",
    "       -0.12171612, -0.1496264 ])"
   ]
  },
  {
   "cell_type": "code",
   "execution_count": 53,
   "metadata": {},
   "outputs": [
    {
     "data": {
      "text/plain": [
       "array([ 249.38331721])"
      ]
     },
     "execution_count": 53,
     "metadata": {},
     "output_type": "execute_result"
    }
   ],
   "source": [
    "best_en_I2.predict(Fifty_Shades_Darker.reshape(1, -1))"
   ]
  },
  {
   "cell_type": "code",
   "execution_count": 7,
   "metadata": {},
   "outputs": [
    {
     "data": {
      "image/png": "[encoded data removed]",
      "text/plain": [
       "<matplotlib.figure.Figure at 0x10fdc1be0>"
      ]
     },
     "metadata": {},
     "output_type": "display_data"
    }
   ],
   "source": [
    "plt.figure(figsize=(10, 6))\n",
    "plt.hist(movies_df_3D.DomesticTotalGross,bins=10,alpha=0.8,color='k')\n",
    "plt.xlabel('3D Movie Total Domestic Gross', fontsize=15)\n",
    "plt.ylabel('Movie Counts', fontsize=15)\n",
    "plt.title('3D Movies Total Domestic Gross Distribution')\n",
    "\n",
    "plt.savefig('../../Images/model_3d hist.png', dpi=200, bbox_inches = 'tight')"
   ]
  },
  {
   "cell_type": "markdown",
   "metadata": {},
   "source": [
    "### Model Results "
   ]
  },
  {
   "cell_type": "code",
   "execution_count": 37,
   "metadata": {},
   "outputs": [
    {
     "data": {
      "text/plain": [
       "0.95357462920105207"
      ]
     },
     "execution_count": 37,
     "metadata": {},
     "output_type": "execute_result"
    }
   ],
   "source": [
    "# adjusted r2\n",
    "\n",
    "def adj_r2(rsquare, num_data, num_features):\n",
    "    temp = (1-rsquare)*(num_data-1)\n",
    "    temp = temp/(num_data-num_features-1)\n",
    "    temp = 1 - temp\n",
    "    return temp\n",
    "\n",
    "adj_r2(r2_score(Y_val,en_pred),X_tr.shape[0],X_tr.shape[1])"
   ]
  },
  {
   "cell_type": "code",
   "execution_count": 38,
   "metadata": {},
   "outputs": [
    {
     "data": {
      "text/plain": [
       "9.2824419331277799"
      ]
     },
     "execution_count": 38,
     "metadata": {},
     "output_type": "execute_result"
    }
   ],
   "source": [
    "# Standard Error of the Estimate\n",
    "\n",
    "def standard_error_estimate(true,pred,num_data):\n",
    "    sse = 0\n",
    "    for y,ypred in zip(true,pred):\n",
    "        sse += (y-ypred)**2\n",
    "    return np.sqrt(sse/(num_data-2))\n",
    "\n",
    "standard_error_estimate(Y_val,en_pred,X_tr.shape[0])"
   ]
  },
  {
   "cell_type": "code",
   "execution_count": 39,
   "metadata": {},
   "outputs": [
    {
     "name": "stdout",
     "output_type": "stream",
     "text": [
      "Mean Squared Error:  761.112932803\n",
      "Root Mean Squared Error:  27.5882752778\n",
      "Mean Absolute Error:  20.1829422231\n",
      "R2:  0.960331373308\n",
      "Adj R2:  0.953574629201\n",
      "Standard Error of Estimate:  9.28244193313\n"
     ]
    }
   ],
   "source": [
    "def test_model_results(true, X, pred):\n",
    "    print(\"Mean Squared Error: \", mean_squared_error(true,pred))\n",
    "    print(\"Root Mean Squared Error: \", np.sqrt(mean_squared_error(true,pred)))\n",
    "    print(\"Mean Absolute Error: \",mean_absolute_error(true,pred))\n",
    "    r2 = r2_score(true,pred)\n",
    "    print(\"R2: \", r2)\n",
    "    print(\"Adj R2: \", adj_r2(r2,X.shape[0],X.shape[1]))\n",
    "    print(\"Standard Error of Estimate: \", standard_error_estimate(true,pred,X.shape[0]))\n",
    "          \n",
    "test_model_results(Y_val, X_tr, en_pred)"
   ]
  }
 ],
 "metadata": {
  "kernelspec": {
   "display_name": "Python [conda env:py3]",
   "language": "python",
   "name": "conda-env-py3-py"
  },
  "language_info": {
   "codemirror_mode": {
    "name": "ipython",
    "version": 3
   },
   "file_extension": ".py",
   "mimetype": "text/x-python",
   "name": "python",
   "nbconvert_exporter": "python",
   "pygments_lexer": "ipython3",
   "version": "3.6.2"
  }
 },
 "nbformat": 4,
 "nbformat_minor": 2
}
