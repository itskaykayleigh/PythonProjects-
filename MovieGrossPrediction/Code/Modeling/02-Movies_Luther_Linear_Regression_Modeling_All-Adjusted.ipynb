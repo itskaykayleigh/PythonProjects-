{
 "cells": [
  {
   "cell_type": "markdown",
   "metadata": {},
   "source": [
    "### List of Imports "
   ]
  },
  {
   "cell_type": "code",
   "execution_count": 48,
   "metadata": {
    "collapsed": true
   },
   "outputs": [],
   "source": [
    "from __future__ import print_function, division"
   ]
  },
  {
   "cell_type": "code",
   "execution_count": 49,
   "metadata": {
    "collapsed": true
   },
   "outputs": [],
   "source": [
    "import pandas as pd\n",
    "import numpy as np \n",
    "from pprint import pprint\n",
    "import matplotlib\n",
    "import matplotlib.pyplot as plt\n",
    "import seaborn as sns\n",
    "import sklearn\n",
    "import pickle\n",
    "import scipy\n",
    "import patsy\n",
    "import sys\n",
    "from sklearn.model_selection import train_test_split, GridSearchCV, cross_val_score\n",
    "from sklearn.preprocessing import StandardScaler\n",
    "from sklearn.linear_model import LinearRegression, Ridge, Lasso, ElasticNet\n",
    "from sklearn.metrics import mean_squared_error, mean_absolute_error, r2_score, make_scorer\n",
    "import statsmodels.api as sm\n",
    "import statsmodels.formula.api as smf\n",
    "from scipy.stats import normaltest\n",
    "\n",
    "\n",
    "\n",
    "%matplotlib inline "
   ]
  },
  {
   "cell_type": "markdown",
   "metadata": {},
   "source": [
    "### Versions "
   ]
  },
  {
   "cell_type": "code",
   "execution_count": 50,
   "metadata": {},
   "outputs": [
    {
     "name": "stdout",
     "output_type": "stream",
     "text": [
      "Python Version: 3.6.2 |Continuum Analytics, Inc.| (default, Jul 20 2017, 13:14:59) \n",
      "[GCC 4.2.1 Compatible Apple LLVM 6.0 (clang-600.0.57)] \n",
      "\n",
      "Matplotlib Version: 2.0.2\n",
      "Numpy Version: 1.13.1\n",
      "Pandas Version: 0.20.3\n",
      "Scipy Version: 0.19.1\n",
      "Sklearn Version: 0.19.0\n"
     ]
    }
   ],
   "source": [
    "libraries = (('Matplotlib', matplotlib), ('Numpy', np), ('Pandas', pd), ('Scipy', scipy), ('Sklearn', sklearn))\n",
    "\n",
    "print(\"Python Version:\", sys.version, '\\n')\n",
    "for lib in libraries:\n",
    "    print('{0} Version: {1}'.format(lib[0], lib[1].__version__))"
   ]
  },
  {
   "cell_type": "markdown",
   "metadata": {},
   "source": [
    "### Read Data "
   ]
  },
  {
   "cell_type": "code",
   "execution_count": 51,
   "metadata": {
    "collapsed": true
   },
   "outputs": [],
   "source": [
    "with open('../../Data/movies_clean.pickle', 'rb') as f:\n",
    "    movies_df = pickle.load(f)"
   ]
  },
  {
   "cell_type": "code",
   "execution_count": 52,
   "metadata": {
    "collapsed": true
   },
   "outputs": [],
   "source": [
    "movies_df = movies_df[movies_df.DomesticTotalGross < 450]"
   ]
  },
  {
   "cell_type": "code",
   "execution_count": 53,
   "metadata": {},
   "outputs": [
    {
     "data": {
      "text/html": [
       "<div>\n",
       "<style>\n",
       "    .dataframe thead tr:only-child th {\n",
       "        text-align: right;\n",
       "    }\n",
       "\n",
       "    .dataframe thead th {\n",
       "        text-align: left;\n",
       "    }\n",
       "\n",
       "    .dataframe tbody tr th {\n",
       "        vertical-align: top;\n",
       "    }\n",
       "</style>\n",
       "<table border=\"1\" class=\"dataframe\">\n",
       "  <thead>\n",
       "    <tr style=\"text-align: right;\">\n",
       "      <th></th>\n",
       "      <th>Runtime (mins)</th>\n",
       "      <th>Opening Weekend Gross ($)</th>\n",
       "      <th>DomesticTotalGross</th>\n",
       "      <th>Release Month_2</th>\n",
       "      <th>Release Month_3</th>\n",
       "      <th>Release Month_4</th>\n",
       "      <th>Release Month_5</th>\n",
       "      <th>Release Month_6</th>\n",
       "      <th>Release Month_7</th>\n",
       "      <th>Release Month_8</th>\n",
       "      <th>...</th>\n",
       "      <th>Director_Above_20</th>\n",
       "      <th>Director_Above_40</th>\n",
       "      <th>Director_Below_1</th>\n",
       "      <th>Actors Rank_2</th>\n",
       "      <th>Actors Rank_3</th>\n",
       "      <th>Actors Rank_4</th>\n",
       "      <th>Actors Rank_5</th>\n",
       "      <th>Actors Rank_6</th>\n",
       "      <th>Actors Rank_7</th>\n",
       "      <th>Actors Rank_8</th>\n",
       "    </tr>\n",
       "  </thead>\n",
       "  <tbody>\n",
       "    <tr>\n",
       "      <th>Runtime (mins)</th>\n",
       "      <td>1.000000</td>\n",
       "      <td>0.436462</td>\n",
       "      <td>0.364324</td>\n",
       "      <td>-0.101400</td>\n",
       "      <td>0.020044</td>\n",
       "      <td>-0.041863</td>\n",
       "      <td>0.123598</td>\n",
       "      <td>0.084092</td>\n",
       "      <td>0.017464</td>\n",
       "      <td>-0.078435</td>\n",
       "      <td>...</td>\n",
       "      <td>0.306093</td>\n",
       "      <td>0.114084</td>\n",
       "      <td>-0.126422</td>\n",
       "      <td>0.117912</td>\n",
       "      <td>0.280904</td>\n",
       "      <td>0.161000</td>\n",
       "      <td>0.149229</td>\n",
       "      <td>0.172026</td>\n",
       "      <td>0.171395</td>\n",
       "      <td>NaN</td>\n",
       "    </tr>\n",
       "    <tr>\n",
       "      <th>Opening Weekend Gross ($)</th>\n",
       "      <td>0.436462</td>\n",
       "      <td>1.000000</td>\n",
       "      <td>0.940681</td>\n",
       "      <td>-0.095990</td>\n",
       "      <td>0.037548</td>\n",
       "      <td>-0.079470</td>\n",
       "      <td>0.213820</td>\n",
       "      <td>0.120210</td>\n",
       "      <td>0.123371</td>\n",
       "      <td>-0.077877</td>\n",
       "      <td>...</td>\n",
       "      <td>0.637392</td>\n",
       "      <td>0.287437</td>\n",
       "      <td>-0.446533</td>\n",
       "      <td>-0.028207</td>\n",
       "      <td>0.261784</td>\n",
       "      <td>0.145222</td>\n",
       "      <td>0.156606</td>\n",
       "      <td>0.310110</td>\n",
       "      <td>0.292747</td>\n",
       "      <td>NaN</td>\n",
       "    </tr>\n",
       "    <tr>\n",
       "      <th>DomesticTotalGross</th>\n",
       "      <td>0.364324</td>\n",
       "      <td>0.940681</td>\n",
       "      <td>1.000000</td>\n",
       "      <td>-0.114171</td>\n",
       "      <td>0.031011</td>\n",
       "      <td>-0.083432</td>\n",
       "      <td>0.158237</td>\n",
       "      <td>0.124316</td>\n",
       "      <td>0.144302</td>\n",
       "      <td>-0.088346</td>\n",
       "      <td>...</td>\n",
       "      <td>0.681552</td>\n",
       "      <td>0.333127</td>\n",
       "      <td>-0.461158</td>\n",
       "      <td>-0.034534</td>\n",
       "      <td>0.240963</td>\n",
       "      <td>0.133181</td>\n",
       "      <td>0.132811</td>\n",
       "      <td>0.231486</td>\n",
       "      <td>0.252776</td>\n",
       "      <td>NaN</td>\n",
       "    </tr>\n",
       "    <tr>\n",
       "      <th>Release Month_2</th>\n",
       "      <td>-0.101400</td>\n",
       "      <td>-0.095990</td>\n",
       "      <td>-0.114171</td>\n",
       "      <td>1.000000</td>\n",
       "      <td>-0.115716</td>\n",
       "      <td>-0.080160</td>\n",
       "      <td>-0.098985</td>\n",
       "      <td>-0.103707</td>\n",
       "      <td>-0.118611</td>\n",
       "      <td>-0.089065</td>\n",
       "      <td>...</td>\n",
       "      <td>-0.097627</td>\n",
       "      <td>-0.043271</td>\n",
       "      <td>-0.002879</td>\n",
       "      <td>-0.081692</td>\n",
       "      <td>-0.065088</td>\n",
       "      <td>-0.005025</td>\n",
       "      <td>-0.032580</td>\n",
       "      <td>-0.036474</td>\n",
       "      <td>-0.032580</td>\n",
       "      <td>NaN</td>\n",
       "    </tr>\n",
       "    <tr>\n",
       "      <th>Release Month_3</th>\n",
       "      <td>0.020044</td>\n",
       "      <td>0.037548</td>\n",
       "      <td>0.031011</td>\n",
       "      <td>-0.115716</td>\n",
       "      <td>1.000000</td>\n",
       "      <td>-0.092228</td>\n",
       "      <td>-0.113887</td>\n",
       "      <td>-0.119319</td>\n",
       "      <td>-0.136467</td>\n",
       "      <td>-0.102474</td>\n",
       "      <td>...</td>\n",
       "      <td>0.024053</td>\n",
       "      <td>0.010747</td>\n",
       "      <td>0.077225</td>\n",
       "      <td>0.006900</td>\n",
       "      <td>-0.025350</td>\n",
       "      <td>0.074007</td>\n",
       "      <td>0.042275</td>\n",
       "      <td>0.029469</td>\n",
       "      <td>-0.037485</td>\n",
       "      <td>NaN</td>\n",
       "    </tr>\n",
       "  </tbody>\n",
       "</table>\n",
       "<p>5 rows × 33 columns</p>\n",
       "</div>"
      ],
      "text/plain": [
       "                           Runtime (mins)  Opening Weekend Gross ($)  \\\n",
       "Runtime (mins)                   1.000000                   0.436462   \n",
       "Opening Weekend Gross ($)        0.436462                   1.000000   \n",
       "DomesticTotalGross               0.364324                   0.940681   \n",
       "Release Month_2                 -0.101400                  -0.095990   \n",
       "Release Month_3                  0.020044                   0.037548   \n",
       "\n",
       "                           DomesticTotalGross  Release Month_2  \\\n",
       "Runtime (mins)                       0.364324        -0.101400   \n",
       "Opening Weekend Gross ($)            0.940681        -0.095990   \n",
       "DomesticTotalGross                   1.000000        -0.114171   \n",
       "Release Month_2                     -0.114171         1.000000   \n",
       "Release Month_3                      0.031011        -0.115716   \n",
       "\n",
       "                           Release Month_3  Release Month_4  Release Month_5  \\\n",
       "Runtime (mins)                    0.020044        -0.041863         0.123598   \n",
       "Opening Weekend Gross ($)         0.037548        -0.079470         0.213820   \n",
       "DomesticTotalGross                0.031011        -0.083432         0.158237   \n",
       "Release Month_2                  -0.115716        -0.080160        -0.098985   \n",
       "Release Month_3                   1.000000        -0.092228        -0.113887   \n",
       "\n",
       "                           Release Month_6  Release Month_7  Release Month_8  \\\n",
       "Runtime (mins)                    0.084092         0.017464        -0.078435   \n",
       "Opening Weekend Gross ($)         0.120210         0.123371        -0.077877   \n",
       "DomesticTotalGross                0.124316         0.144302        -0.088346   \n",
       "Release Month_2                  -0.103707        -0.118611        -0.089065   \n",
       "Release Month_3                  -0.119319        -0.136467        -0.102474   \n",
       "\n",
       "                               ...        Director_Above_20  \\\n",
       "Runtime (mins)                 ...                 0.306093   \n",
       "Opening Weekend Gross ($)      ...                 0.637392   \n",
       "DomesticTotalGross             ...                 0.681552   \n",
       "Release Month_2                ...                -0.097627   \n",
       "Release Month_3                ...                 0.024053   \n",
       "\n",
       "                           Director_Above_40  Director_Below_1  Actors Rank_2  \\\n",
       "Runtime (mins)                      0.114084         -0.126422       0.117912   \n",
       "Opening Weekend Gross ($)           0.287437         -0.446533      -0.028207   \n",
       "DomesticTotalGross                  0.333127         -0.461158      -0.034534   \n",
       "Release Month_2                    -0.043271         -0.002879      -0.081692   \n",
       "Release Month_3                     0.010747          0.077225       0.006900   \n",
       "\n",
       "                           Actors Rank_3  Actors Rank_4  Actors Rank_5  \\\n",
       "Runtime (mins)                  0.280904       0.161000       0.149229   \n",
       "Opening Weekend Gross ($)       0.261784       0.145222       0.156606   \n",
       "DomesticTotalGross              0.240963       0.133181       0.132811   \n",
       "Release Month_2                -0.065088      -0.005025      -0.032580   \n",
       "Release Month_3                -0.025350       0.074007       0.042275   \n",
       "\n",
       "                           Actors Rank_6  Actors Rank_7  Actors Rank_8  \n",
       "Runtime (mins)                  0.172026       0.171395            NaN  \n",
       "Opening Weekend Gross ($)       0.310110       0.292747            NaN  \n",
       "DomesticTotalGross              0.231486       0.252776            NaN  \n",
       "Release Month_2                -0.036474      -0.032580            NaN  \n",
       "Release Month_3                 0.029469      -0.037485            NaN  \n",
       "\n",
       "[5 rows x 33 columns]"
      ]
     },
     "execution_count": 53,
     "metadata": {},
     "output_type": "execute_result"
    }
   ],
   "source": [
    "movies_df.corr().head()"
   ]
  },
  {
   "cell_type": "code",
   "execution_count": 54,
   "metadata": {},
   "outputs": [
    {
     "name": "stdout",
     "output_type": "stream",
     "text": [
      "<class 'pandas.core.frame.DataFrame'>\n",
      "Int64Index: 383 entries, 8 to 207\n",
      "Data columns (total 34 columns):\n",
      "Movie Title                  383 non-null object\n",
      "Runtime (mins)               383 non-null float64\n",
      "Opening Weekend Gross ($)    383 non-null float64\n",
      "DomesticTotalGross           383 non-null float64\n",
      "Release Month_2              383 non-null uint8\n",
      "Release Month_3              383 non-null uint8\n",
      "Release Month_4              383 non-null uint8\n",
      "Release Month_5              383 non-null uint8\n",
      "Release Month_6              383 non-null uint8\n",
      "Release Month_7              383 non-null uint8\n",
      "Release Month_8              383 non-null uint8\n",
      "Release Month_9              383 non-null uint8\n",
      "Release Month_10             383 non-null uint8\n",
      "Release Month_11             383 non-null uint8\n",
      "Release Month_12             383 non-null uint8\n",
      "MPAA_PG/PG-13                383 non-null uint8\n",
      "MPAA_R                       383 non-null uint8\n",
      "MPAA_Unrated                 383 non-null uint8\n",
      "Genre_3D                     383 non-null uint8\n",
      "Prod_Budget_Medium           383 non-null uint8\n",
      "Prod_Budget_Small            383 non-null uint8\n",
      "Release_Limited              383 non-null uint8\n",
      "Release_Wild                 383 non-null uint8\n",
      "Director_Above_10            383 non-null uint8\n",
      "Director_Above_20            383 non-null uint8\n",
      "Director_Above_40            383 non-null uint8\n",
      "Director_Below_1             383 non-null uint8\n",
      "Actors Rank_2                383 non-null uint8\n",
      "Actors Rank_3                383 non-null uint8\n",
      "Actors Rank_4                383 non-null uint8\n",
      "Actors Rank_5                383 non-null uint8\n",
      "Actors Rank_6                383 non-null uint8\n",
      "Actors Rank_7                383 non-null uint8\n",
      "Actors Rank_8                383 non-null uint8\n",
      "dtypes: float64(3), object(1), uint8(30)\n",
      "memory usage: 26.2+ KB\n"
     ]
    }
   ],
   "source": [
    "movies_df.info()"
   ]
  },
  {
   "cell_type": "code",
   "execution_count": 55,
   "metadata": {},
   "outputs": [
    {
     "data": {
      "text/html": [
       "<div>\n",
       "<style>\n",
       "    .dataframe thead tr:only-child th {\n",
       "        text-align: right;\n",
       "    }\n",
       "\n",
       "    .dataframe thead th {\n",
       "        text-align: left;\n",
       "    }\n",
       "\n",
       "    .dataframe tbody tr th {\n",
       "        vertical-align: top;\n",
       "    }\n",
       "</style>\n",
       "<table border=\"1\" class=\"dataframe\">\n",
       "  <thead>\n",
       "    <tr style=\"text-align: right;\">\n",
       "      <th></th>\n",
       "      <th>Runtime (mins)</th>\n",
       "      <th>Opening Weekend Gross ($)</th>\n",
       "      <th>DomesticTotalGross</th>\n",
       "      <th>Release Month_2</th>\n",
       "      <th>Release Month_3</th>\n",
       "      <th>Release Month_4</th>\n",
       "      <th>Release Month_5</th>\n",
       "      <th>Release Month_6</th>\n",
       "      <th>Release Month_7</th>\n",
       "      <th>Release Month_8</th>\n",
       "      <th>...</th>\n",
       "      <th>Director_Above_20</th>\n",
       "      <th>Director_Above_40</th>\n",
       "      <th>Director_Below_1</th>\n",
       "      <th>Actors Rank_2</th>\n",
       "      <th>Actors Rank_3</th>\n",
       "      <th>Actors Rank_4</th>\n",
       "      <th>Actors Rank_5</th>\n",
       "      <th>Actors Rank_6</th>\n",
       "      <th>Actors Rank_7</th>\n",
       "      <th>Actors Rank_8</th>\n",
       "    </tr>\n",
       "  </thead>\n",
       "  <tbody>\n",
       "    <tr>\n",
       "      <th>count</th>\n",
       "      <td>383.000000</td>\n",
       "      <td>383.000000</td>\n",
       "      <td>383.000000</td>\n",
       "      <td>383.000000</td>\n",
       "      <td>383.000000</td>\n",
       "      <td>383.000000</td>\n",
       "      <td>383.000000</td>\n",
       "      <td>383.000000</td>\n",
       "      <td>383.000000</td>\n",
       "      <td>383.000000</td>\n",
       "      <td>...</td>\n",
       "      <td>383.000000</td>\n",
       "      <td>383.000000</td>\n",
       "      <td>383.000000</td>\n",
       "      <td>383.000000</td>\n",
       "      <td>383.000000</td>\n",
       "      <td>383.000000</td>\n",
       "      <td>383.000000</td>\n",
       "      <td>383.000000</td>\n",
       "      <td>383.000000</td>\n",
       "      <td>383.0</td>\n",
       "    </tr>\n",
       "    <tr>\n",
       "      <th>mean</th>\n",
       "      <td>107.070496</td>\n",
       "      <td>31.383214</td>\n",
       "      <td>97.815316</td>\n",
       "      <td>0.091384</td>\n",
       "      <td>0.117493</td>\n",
       "      <td>0.060052</td>\n",
       "      <td>0.088773</td>\n",
       "      <td>0.096606</td>\n",
       "      <td>0.122715</td>\n",
       "      <td>0.073107</td>\n",
       "      <td>...</td>\n",
       "      <td>0.133159</td>\n",
       "      <td>0.018277</td>\n",
       "      <td>0.203655</td>\n",
       "      <td>0.148825</td>\n",
       "      <td>0.086162</td>\n",
       "      <td>0.031332</td>\n",
       "      <td>0.010444</td>\n",
       "      <td>0.013055</td>\n",
       "      <td>0.010444</td>\n",
       "      <td>0.0</td>\n",
       "    </tr>\n",
       "  </tbody>\n",
       "</table>\n",
       "<p>2 rows × 33 columns</p>\n",
       "</div>"
      ],
      "text/plain": [
       "       Runtime (mins)  Opening Weekend Gross ($)  DomesticTotalGross  \\\n",
       "count      383.000000                 383.000000          383.000000   \n",
       "mean       107.070496                  31.383214           97.815316   \n",
       "\n",
       "       Release Month_2  Release Month_3  Release Month_4  Release Month_5  \\\n",
       "count       383.000000       383.000000       383.000000       383.000000   \n",
       "mean          0.091384         0.117493         0.060052         0.088773   \n",
       "\n",
       "       Release Month_6  Release Month_7  Release Month_8      ...        \\\n",
       "count       383.000000       383.000000       383.000000      ...         \n",
       "mean          0.096606         0.122715         0.073107      ...         \n",
       "\n",
       "       Director_Above_20  Director_Above_40  Director_Below_1  Actors Rank_2  \\\n",
       "count         383.000000         383.000000        383.000000     383.000000   \n",
       "mean            0.133159           0.018277          0.203655       0.148825   \n",
       "\n",
       "       Actors Rank_3  Actors Rank_4  Actors Rank_5  Actors Rank_6  \\\n",
       "count     383.000000     383.000000     383.000000     383.000000   \n",
       "mean        0.086162       0.031332       0.010444       0.013055   \n",
       "\n",
       "       Actors Rank_7  Actors Rank_8  \n",
       "count     383.000000          383.0  \n",
       "mean        0.010444            0.0  \n",
       "\n",
       "[2 rows x 33 columns]"
      ]
     },
     "execution_count": 55,
     "metadata": {},
     "output_type": "execute_result"
    }
   ],
   "source": [
    "movies_df.describe().head(2)"
   ]
  },
  {
   "cell_type": "code",
   "execution_count": 56,
   "metadata": {},
   "outputs": [
    {
     "data": {
      "text/plain": [
       "(383, 34)"
      ]
     },
     "execution_count": 56,
     "metadata": {},
     "output_type": "execute_result"
    }
   ],
   "source": [
    "movies_df.shape"
   ]
  },
  {
   "cell_type": "markdown",
   "metadata": {},
   "source": [
    "### Dataset Standardization - removes the mean and scaling to unit variance \n",
    "L1 and L2 regularizers of linear models assume that all features are centered around 0 and have variance in the same order. If a feature has a variance that is orders of magnitude larger that others, it might dominate the objective function and make the estimator unable to learn from other features correctly as expected."
   ]
  },
  {
   "cell_type": "code",
   "execution_count": 57,
   "metadata": {
    "collapsed": true
   },
   "outputs": [],
   "source": [
    "not_y = movies_df.loc[:, movies_df.columns != 'DomesticTotalGross'] \n",
    "x = not_y.loc[:, not_y.columns != 'Movie Title']\n",
    "y = movies_df.DomesticTotalGross"
   ]
  },
  {
   "cell_type": "code",
   "execution_count": 58,
   "metadata": {
    "scrolled": true
   },
   "outputs": [
    {
     "name": "stdout",
     "output_type": "stream",
     "text": [
      "Model Features:  Index(['Runtime (mins)', 'Opening Weekend Gross ($)', 'Release Month_2',\n",
      "       'Release Month_3', 'Release Month_4', 'Release Month_5',\n",
      "       'Release Month_6', 'Release Month_7', 'Release Month_8',\n",
      "       'Release Month_9', 'Release Month_10', 'Release Month_11',\n",
      "       'Release Month_12', 'MPAA_PG/PG-13', 'MPAA_R', 'MPAA_Unrated',\n",
      "       'Genre_3D', 'Prod_Budget_Medium', 'Prod_Budget_Small',\n",
      "       'Release_Limited', 'Release_Wild', 'Director_Above_10',\n",
      "       'Director_Above_20', 'Director_Above_40', 'Director_Below_1',\n",
      "       'Actors Rank_2', 'Actors Rank_3', 'Actors Rank_4', 'Actors Rank_5',\n",
      "       'Actors Rank_6', 'Actors Rank_7', 'Actors Rank_8'],\n",
      "      dtype='object')\n"
     ]
    }
   ],
   "source": [
    "print('Model Features: ', x.columns)"
   ]
  },
  {
   "cell_type": "code",
   "execution_count": 59,
   "metadata": {},
   "outputs": [
    {
     "name": "stdout",
     "output_type": "stream",
     "text": [
      "Dimensionality of features: (383, 32)\n",
      "Dimensionality of target: (383,)\n"
     ]
    }
   ],
   "source": [
    "print('Dimensionality of features:', x.shape)\n",
    "print('Dimensionality of target:', (len(y),))"
   ]
  },
  {
   "cell_type": "code",
   "execution_count": 60,
   "metadata": {},
   "outputs": [
    {
     "data": {
      "image/png": "[encoded data removed]",
      "text/plain": [
       "<matplotlib.figure.Figure at 0x115b32e48>"
      ]
     },
     "metadata": {},
     "output_type": "display_data"
    }
   ],
   "source": [
    "plt.plot(x, y, 'ro');\n",
    "plt.title('Target ~ Single Feature')\n",
    "plt.xlabel('Feature')\n",
    "plt.ylabel('Target');"
   ]
  },
  {
   "cell_type": "code",
   "execution_count": 61,
   "metadata": {
    "collapsed": true
   },
   "outputs": [],
   "source": [
    "ssX = StandardScaler()\n",
    "not_Y = movies_df[[x for x in movies_df.columns if x != 'DomesticTotalGross']] \n",
    "X = not_Y[[x for x in not_y.columns if x != 'Movie Title']]\n",
    "Y = movies_df.DomesticTotalGross"
   ]
  },
  {
   "cell_type": "markdown",
   "metadata": {},
   "source": [
    "### Train-Test Split - 10% of Data as Holdout for Validation"
   ]
  },
  {
   "cell_type": "code",
   "execution_count": 62,
   "metadata": {
    "collapsed": true
   },
   "outputs": [],
   "source": [
    "X_train, X_val, Y_train, Y_val = train_test_split(X, Y, test_size=0.1, random_state=42)"
   ]
  },
  {
   "cell_type": "code",
   "execution_count": 63,
   "metadata": {
    "collapsed": true
   },
   "outputs": [],
   "source": [
    "X_tr = ssX.fit_transform(X_train)\n",
    "X_val = ssX.transform(X_val)"
   ]
  },
  {
   "cell_type": "code",
   "execution_count": 64,
   "metadata": {},
   "outputs": [
    {
     "name": "stdout",
     "output_type": "stream",
     "text": [
      "Dimensionality of training features: (344, 32)\n",
      "Dimensionality of training target: (344,)\n"
     ]
    }
   ],
   "source": [
    "print('Dimensionality of training features:', X_train.shape)\n",
    "print('Dimensionality of training target:', Y_train.shape)"
   ]
  },
  {
   "cell_type": "markdown",
   "metadata": {},
   "source": [
    "##### Regression Statistics\n",
    "R2: square of the correlation coefficient and represents the estimated percentage of the variance in our target variable Y that can be explained by our regression model. Adjusted R2 also penalizes for things such as large coefficients and extra variables to try and limit overfitting so it is often a better measure of model efficacy.\n",
    "\n",
    "P(|t|) measures our degree of belief that the coefficient for each variable should be zero. Thus, the lowest P-values represent the most likely predictors to be impacting the response.\n",
    "Putting it all together, the final column returns a 95% Confidence Interval for the value of each coefficient."
   ]
  },
  {
   "cell_type": "markdown",
   "metadata": {},
   "source": [
    "### Linear Regression Model 1: SkLearn "
   ]
  },
  {
   "cell_type": "code",
   "execution_count": 65,
   "metadata": {
    "collapsed": true
   },
   "outputs": [],
   "source": [
    "df_train = pd.DataFrame(X_tr)\n",
    "df_train.columns = [x.columns]"
   ]
  },
  {
   "cell_type": "code",
   "execution_count": 66,
   "metadata": {
    "collapsed": true
   },
   "outputs": [],
   "source": [
    "def sklearn_lr(feature,cv = 5, scoring = 'neg_mean_absolute_error'):\n",
    "    x_train = df_train[feature]\n",
    "    lr = LinearRegression()\n",
    "    shape = len(feature)\n",
    "    x_train = x_train.values.reshape(-1,shape)\n",
    "    lr.fit(x_train, Y_train)\n",
    "    score_ = cross_val_score(lr, x_train, Y_train, cv = cv, scoring = scoring)\n",
    "    score_mean = score_.mean()\n",
    "    intercept_ = lr.intercept_\n",
    "    coef_ = lr.coef_\n",
    "    print('|Mean score|: ', score_mean\n",
    "          , '\\n', 'Intercept|: ',intercept_, '\\n', '|Coefs|: ', coef_)\n",
    "    return lr "
   ]
  },
  {
   "cell_type": "code",
   "execution_count": 67,
   "metadata": {},
   "outputs": [
    {
     "name": "stdout",
     "output_type": "stream",
     "text": [
      "|Mean score|:  -22.0746324901 \n",
      " Intercept|:  96.5934019665 \n",
      " |Coefs|:  [ 93.10848328]\n"
     ]
    }
   ],
   "source": [
    "sk_m1 = sklearn_lr(['Opening Weekend Gross ($)'])"
   ]
  },
  {
   "cell_type": "code",
   "execution_count": 68,
   "metadata": {},
   "outputs": [
    {
     "name": "stdout",
     "output_type": "stream",
     "text": [
      "|Mean score|:  -17.3544866329 \n",
      " Intercept|:  96.5934019665 \n",
      " |Coefs|:  [ 59.63759475   8.29220832  -3.23518865   1.49071033  17.14130803\n",
      "   3.46086415  -1.02113407   1.9764733   17.19049676  32.39808077]\n"
     ]
    }
   ],
   "source": [
    "sk_m2 = sklearn_lr(['Opening Weekend Gross ($)'\n",
    "                    ,'Genre_3D','MPAA_R','Prod_Budget_Medium','Director_Above_40'\n",
    "                    ,'Release Month_12','Release_Wild','Release Month_11'\n",
    "                    ,'Director_Above_10','Director_Above_20'])"
   ]
  },
  {
   "cell_type": "code",
   "execution_count": 69,
   "metadata": {},
   "outputs": [
    {
     "name": "stdout",
     "output_type": "stream",
     "text": [
      "|Mean score|:  -17.021253191 \n",
      " Intercept|:  96.5934019665 \n",
      " |Coefs|:  [  6.15911556e+01   8.18267334e+00   1.75988055e+01   3.57778351e+00\n",
      "   2.62665091e+00  -3.55271368e-15   1.71213057e+01   3.22910329e+01\n",
      "  -4.42513801e+00]\n"
     ]
    }
   ],
   "source": [
    "sk_m3 = sklearn_lr(['Opening Weekend Gross ($)'\n",
    "                    ,'Genre_3D','Director_Above_40','Release Month_12'\n",
    "                    ,'Release Month_11','Actors Rank_8'\n",
    "                    ,'Director_Above_10','Director_Above_20'\n",
    "                    ,'Actors Rank_6'])"
   ]
  },
  {
   "cell_type": "markdown",
   "metadata": {},
   "source": [
    "### Linear Regression Model 2 - Lasso Regression (L1)"
   ]
  },
  {
   "cell_type": "code",
   "execution_count": 70,
   "metadata": {
    "collapsed": true
   },
   "outputs": [],
   "source": [
    "# def adj_r2(rsquare, num_data, num_features):\n",
    "#     temp = (1-rsquare)*(num_data-1)\n",
    "#     temp = temp/(num_data-num_features-1)\n",
    "#     temp = 1 - temp\n",
    "#     return temp"
   ]
  },
  {
   "cell_type": "code",
   "execution_count": 71,
   "metadata": {
    "collapsed": true
   },
   "outputs": [],
   "source": [
    "def lasso_modeling(feature, cv = 5, scoring = 'neg_mean_absolute_error'):\n",
    "    x_train = df_train[feature]\n",
    "    shape = len(feature)\n",
    "    x_train = x_train.values.reshape(-1,shape)\n",
    "    model = Lasso(max_iter=5000)\n",
    "    parameters = {'alpha': [1e-5,1e-3,1e-1,1], 'fit_intercept': [True,False]}\n",
    "    grid = GridSearchCV(model,parameters, cv=cv, scoring=scoring, n_jobs=1)\n",
    "    grid.fit(x_train, Y_train)\n",
    "    best_lasso = grid.best_estimator_\n",
    "    best_score = grid.best_score_\n",
    "    best_params = grid.best_params_\n",
    "    best_intercept = best_lasso.intercept_\n",
    "    best_coefs = best_lasso.coef_\n",
    "    print('|Best Lasso|: ',best_lasso\n",
    "          ,'\\n','|Score (Neg MAE)|: ',best_score\n",
    "          ,'\\n','|Intercept|: ',best_intercept\n",
    "          ,'\\n','|Coefficients|: ',best_coefs)\n",
    "    return best_lasso"
   ]
  },
  {
   "cell_type": "code",
   "execution_count": 72,
   "metadata": {},
   "outputs": [
    {
     "name": "stdout",
     "output_type": "stream",
     "text": [
      "|Best Lasso|:  Lasso(alpha=1e-05, copy_X=True, fit_intercept=True, max_iter=5000,\n",
      "   normalize=False, positive=False, precompute=False, random_state=None,\n",
      "   selection='cyclic', tol=0.0001, warm_start=False) \n",
      " |Score (Neg MAE)|:  -22.0712589155 \n",
      " |Intercept|:  96.5934019665 \n",
      " |Coefficients|:  [ 93.10847328]\n"
     ]
    }
   ],
   "source": [
    "# 5-fold CV, scoring with negative MAE, 1 feature: \n",
    "best_lasso_I1 = lasso_modeling(['Opening Weekend Gross ($)'])"
   ]
  },
  {
   "cell_type": "markdown",
   "metadata": {},
   "source": [
    "##### _Out of all models w/ Lasso(w/ different combination of features) tested, the one below returns the hightst R^2._"
   ]
  },
  {
   "cell_type": "code",
   "execution_count": 73,
   "metadata": {},
   "outputs": [
    {
     "name": "stdout",
     "output_type": "stream",
     "text": [
      "|Best Lasso|:  Lasso(alpha=1e-05, copy_X=True, fit_intercept=True, max_iter=5000,\n",
      "   normalize=False, positive=False, precompute=False, random_state=None,\n",
      "   selection='cyclic', tol=0.0001, warm_start=False) \n",
      " |Score (Neg MAE)|:  -17.0177495352 \n",
      " |Intercept|:  96.5934019665 \n",
      " |Coefficients|:  [ 61.59117547   8.18266733  17.59878495   3.57777494   2.62664278   0.\n",
      "  17.12128478  32.29100491  -4.42512519]\n"
     ]
    }
   ],
   "source": [
    "best_lasso_I2 = lasso_modeling(['Opening Weekend Gross ($)'\n",
    "                    ,'Genre_3D','Director_Above_40','Release Month_12'\n",
    "                    ,'Release Month_11','Actors Rank_8'\n",
    "                    ,'Director_Above_10','Director_Above_20'\n",
    "                    ,'Actors Rank_6'])"
   ]
  },
  {
   "cell_type": "markdown",
   "metadata": {},
   "source": [
    "### Linear Regression Model 3 - Ridge Regression (L2)"
   ]
  },
  {
   "cell_type": "code",
   "execution_count": 74,
   "metadata": {
    "collapsed": true
   },
   "outputs": [],
   "source": [
    "def ridge_modeling(feature, cv = 5, scoring = 'neg_mean_absolute_error'):\n",
    "    x_train = df_train[feature]\n",
    "    shape = len(feature)\n",
    "    x_train = x_train.values.reshape(-1,shape)\n",
    "    model = Ridge(max_iter=5000)\n",
    "    parameters = {'alpha': [1e-5,1e-3,1e-1,1], 'fit_intercept': [True,False]}\n",
    "    grid = GridSearchCV(model,parameters, cv=cv, scoring=scoring, n_jobs=1)\n",
    "    grid.fit(x_train, Y_train)\n",
    "    best_ridge = grid.best_estimator_\n",
    "    best_score = grid.best_score_\n",
    "    best_params = grid.best_params_\n",
    "    best_intercept = best_ridge.intercept_\n",
    "    best_coefs = best_ridge.coef_\n",
    "    print('|Best Ridge|: ',best_ridge\n",
    "          ,'\\n','|Score (Neg MAE)|: ',best_score\n",
    "          ,'\\n','|Intercept|: ',best_intercept\n",
    "          ,'\\n','|Coefficients|: ',best_coefs)"
   ]
  },
  {
   "cell_type": "code",
   "execution_count": 75,
   "metadata": {},
   "outputs": [
    {
     "name": "stdout",
     "output_type": "stream",
     "text": [
      "|Best Ridge|:  Ridge(alpha=1e-05, copy_X=True, fit_intercept=True, max_iter=5000,\n",
      "   normalize=False, random_state=None, solver='auto', tol=0.001) \n",
      " |Score (Neg MAE)|:  -22.0712578455 \n",
      " |Intercept|:  96.5934019665 \n",
      " |Coefficients|:  [ 93.10848058]\n"
     ]
    }
   ],
   "source": [
    "best_ridge_I1 = ridge_modeling(['Opening Weekend Gross ($)'])"
   ]
  },
  {
   "cell_type": "markdown",
   "metadata": {},
   "source": [
    "##### _Out of all models w/ L2 (w/ different combination of features) tested, the one below returns the highest R^2._ "
   ]
  },
  {
   "cell_type": "code",
   "execution_count": 76,
   "metadata": {
    "scrolled": true
   },
   "outputs": [
    {
     "name": "stdout",
     "output_type": "stream",
     "text": [
      "|Best Ridge|:  Ridge(alpha=1e-05, copy_X=True, fit_intercept=True, max_iter=5000,\n",
      "   normalize=False, random_state=None, solver='auto', tol=0.001) \n",
      " |Score (Neg MAE)|:  -17.0177492668 \n",
      " |Intercept|:  96.5934019665 \n",
      " |Coefficients|:  [ 61.59115256   8.18267392  17.59880567   3.57778316   2.6266509    0.\n",
      "  17.12130608  32.29103371  -4.42513707]\n"
     ]
    }
   ],
   "source": [
    "best_ridge_I2 = ridge_modeling(['Opening Weekend Gross ($)'\n",
    "                    ,'Genre_3D','Director_Above_40','Release Month_12'\n",
    "                    ,'Release Month_11','Actors Rank_8'\n",
    "                    ,'Director_Above_10','Director_Above_20'\n",
    "                    ,'Actors Rank_6'])"
   ]
  },
  {
   "cell_type": "markdown",
   "metadata": {},
   "source": [
    "### Linear Regression Model 4 - ElasticNet"
   ]
  },
  {
   "cell_type": "code",
   "execution_count": 77,
   "metadata": {
    "collapsed": true
   },
   "outputs": [],
   "source": [
    "def elasticnet_modeling(feature, cv = 5, scoring = 'neg_mean_absolute_error'):\n",
    "    x_train = df_train[feature]\n",
    "    shape = len(feature)\n",
    "    x_train = x_train.values.reshape(-1,shape)\n",
    "    model = ElasticNet(max_iter=5000)\n",
    "    parameters = {'alpha': [1e-5,1e-3,1e-1,1], 'fit_intercept': [True,False]}\n",
    "    grid = GridSearchCV(model,parameters, cv=cv, scoring=scoring, n_jobs=1)\n",
    "    grid.fit(x_train, Y_train)\n",
    "    best_en = grid.best_estimator_\n",
    "    best_score = grid.best_score_\n",
    "    best_params = grid.best_params_\n",
    "    best_intercept = best_en.intercept_\n",
    "    best_coefs = best_en.coef_\n",
    "    print('|Best ElesticNet|: ',best_en\n",
    "          ,'\\n','|Score (Neg MAE)|: ',best_score\n",
    "          ,'\\n','|Intercept|: ',best_intercept\n",
    "          ,'\\n','|Coefficients|: ',best_coefs)"
   ]
  },
  {
   "cell_type": "code",
   "execution_count": 78,
   "metadata": {},
   "outputs": [
    {
     "name": "stdout",
     "output_type": "stream",
     "text": [
      "|Best ElesticNet|:  ElasticNet(alpha=1e-05, copy_X=True, fit_intercept=True, l1_ratio=0.5,\n",
      "      max_iter=5000, normalize=False, positive=False, precompute=False,\n",
      "      random_state=None, selection='cyclic', tol=0.0001, warm_start=False) \n",
      " |Score (Neg MAE)|:  -22.0713329578 \n",
      " |Intercept|:  96.5934019665 \n",
      " |Coefficients|:  [ 93.10801274]\n"
     ]
    }
   ],
   "source": [
    "best_en_I1 = elasticnet_modeling(['Opening Weekend Gross ($)'])"
   ]
  },
  {
   "cell_type": "code",
   "execution_count": 79,
   "metadata": {},
   "outputs": [
    {
     "name": "stdout",
     "output_type": "stream",
     "text": [
      "|Best ElesticNet|:  ElasticNet(alpha=1e-05, copy_X=True, fit_intercept=True, l1_ratio=0.5,\n",
      "      max_iter=5000, normalize=False, positive=False, precompute=False,\n",
      "      random_state=None, selection='cyclic', tol=0.0001, warm_start=False) \n",
      " |Score (Neg MAE)|:  -17.0178219968 \n",
      " |Intercept|:  96.5934019665 \n",
      " |Coefficients|:  [ 61.59064954   8.18277093  17.59882672   3.57771867   2.62664388   0.\n",
      "  17.12135909  32.2911579   -4.42497132]\n"
     ]
    }
   ],
   "source": [
    "best_en_I2 = elasticnet_modeling(['Opening Weekend Gross ($)'\n",
    "                    ,'Genre_3D','Director_Above_40','Release Month_12'\n",
    "                    ,'Release Month_11','Actors Rank_8'\n",
    "                    ,'Director_Above_10','Director_Above_20'\n",
    "                    ,'Actors Rank_6'])"
   ]
  },
  {
   "cell_type": "markdown",
   "metadata": {},
   "source": [
    "#### So the best model turns out to be best_lasso_I2, which has the lowest MAE of all that's been tested.\n",
    "Model:  \n",
    "Lasso  \n",
    "\n",
    "Parameters:  \n",
    "alpha=1, copy_X=True, fit_intercept=True, max_iter=5000,\n",
    "   normalize=False, positive=False, precompute=False, random_state=None,\n",
    "   selection='cyclic', tol=0.0001, warm_start=False    \n",
    "   \n",
    "   \n",
    "Features:  \n",
    "Opening Weekend Gross ($),  \n",
    "Genre_3D,  \n",
    "Director_Above_40,  \n",
    "Release Month_12,  \n",
    "Release Month_11,  \n",
    "Actors Rank_8,  \n",
    "Director_Above_10,  \n",
    "Director_Above_20,  \n",
    "Actors Rank_6\n"
   ]
  },
  {
   "cell_type": "markdown",
   "metadata": {},
   "source": [
    "### Apply the best model on testing set & Make predictions"
   ]
  },
  {
   "cell_type": "code",
   "execution_count": 80,
   "metadata": {},
   "outputs": [
    {
     "data": {
      "text/plain": [
       "array([ 61.59117547,   8.18266733,  17.59878495,   3.57777494,\n",
       "         2.62664278,   0.        ,  17.12128478,  32.29100491,  -4.42512519])"
      ]
     },
     "execution_count": 80,
     "metadata": {},
     "output_type": "execute_result"
    }
   ],
   "source": [
    "best_lasso_I2.coef_"
   ]
  },
  {
   "cell_type": "code",
   "execution_count": 81,
   "metadata": {},
   "outputs": [
    {
     "data": {
      "text/plain": [
       "96.593401966540256"
      ]
     },
     "execution_count": 81,
     "metadata": {},
     "output_type": "execute_result"
    }
   ],
   "source": [
    "best_lasso_I2.intercept_"
   ]
  },
  {
   "cell_type": "markdown",
   "metadata": {},
   "source": [
    "### Model: \n",
    "Domestic Total Gross =   \n",
    "106.0 + 76.8 x Opening Weekend Gross + 8.0 x Genre_3D + 31.6 x Director_Above_40 +     \n",
    "7.4 x Release Month_12 + 0.7 x Release Month_11 - 5.5 x Actors Rank_8 +   \n",
    "12.9 x Director_Above_10 + 28.3 x Director_Above_20 - 3.8 x Actors Rank_6   "
   ]
  },
  {
   "cell_type": "code",
   "execution_count": 82,
   "metadata": {
    "collapsed": true
   },
   "outputs": [],
   "source": [
    "df_val = pd.DataFrame(X_val)\n",
    "df_val.columns = [x.columns]\n",
    "X_val = df_val[['Opening Weekend Gross ($)'\n",
    "                    ,'Genre_3D','Director_Above_40','Release Month_12'\n",
    "                    ,'Release Month_11','Actors Rank_8'\n",
    "                    ,'Director_Above_10','Director_Above_20'\n",
    "                    ,'Actors Rank_6']]\n",
    "X_val = X_val.values.reshape(-1,9)"
   ]
  },
  {
   "cell_type": "code",
   "execution_count": 83,
   "metadata": {},
   "outputs": [
    {
     "name": "stdout",
     "output_type": "stream",
     "text": [
      "pred, resid: 28.0249207129, $9.42119628706\n",
      "pred, resid: 6.10864940845, $-4.46156640845\n",
      "pred, resid: 4.14526714792, $-4.03371614792\n",
      "pred, resid: 4.15018735792, $-4.08936935792\n",
      "pred, resid: 182.982226934, $8.47016906623\n",
      "pred, resid: 18.0774549427, $-0.774030942705\n",
      "pred, resid: 301.202165501, $-55.7630895008\n",
      "pred, resid: 71.0430825612, $32.8172074388\n",
      "pred, resid: 4.26824669524, $-2.00134169524\n",
      "pred, resid: 17.6807134425, $-0.670543442476\n",
      "pred, resid: 4.12756540733, $-4.11829640733\n",
      "pred, resid: 100.151288427, $1.55308157311\n",
      "pred, resid: 48.9757057329, $-13.8873857329\n",
      "pred, resid: 4.23325445549, $-3.66724845549\n",
      "pred, resid: 82.4177727384, $25.1009092616\n",
      "pred, resid: 54.7664716161, $-9.6093666161\n",
      "pred, resid: 78.6679393913, $-13.6534263913\n",
      "pred, resid: 243.704291952, $58.2549050481\n",
      "pred, resid: 36.4699397761, $26.6810512239\n",
      "pred, resid: 16.2896287123, $1.34083628771\n",
      "pred, resid: 296.722043632, $-67.9433826315\n",
      "pred, resid: 263.744756957, $-29.7071819574\n",
      "pred, resid: 307.119404648, $56.8817183524\n",
      "pred, resid: 133.766104373, $-2.22766937261\n",
      "pred, resid: 290.705398674, $42.4712013257\n",
      "pred, resid: 138.103440223, $58.470264777\n",
      "pred, resid: 59.9837062447, $12.6955717553\n",
      "pred, resid: 153.810243288, $-66.5674092876\n",
      "pred, resid: 370.418032136, $44.5868478638\n",
      "pred, resid: 17.6921070885, $-17.3882300885\n",
      "pred, resid: 119.312994467, $-5.25941546665\n",
      "pred, resid: 194.545671421, $-78.2878236759\n",
      "pred, resid: 24.3528005404, $-12.1250785404\n",
      "pred, resid: 161.782485077, $-6.59165307667\n",
      "pred, resid: 60.3558209924, $15.8773300076\n",
      "pred, resid: 35.9683812799, $11.6338127201\n",
      "pred, resid: 45.9737993821, $-3.19453838215\n",
      "pred, resid: 228.277214292, $-11.8857322924\n",
      "pred, resid: 23.2304514565, $13.4354025435\n"
     ]
    }
   ],
   "source": [
    "lasso_pred = best_lasso_I2.predict(X_val)\n",
    "for true,pred in zip(Y_val, lasso_pred):\n",
    "    resid = true - pred\n",
    "    print(\"pred, resid:\", str(pred) + \", $\"+ str(resid))"
   ]
  },
  {
   "cell_type": "code",
   "execution_count": 84,
   "metadata": {
    "collapsed": true
   },
   "outputs": [],
   "source": [
    "x_train = df_train[['Opening Weekend Gross ($)'\n",
    "                    ,'Genre_3D','Director_Above_40','Release Month_12'\n",
    "                    ,'Release Month_11','Actors Rank_8'\n",
    "                    ,'Director_Above_10','Director_Above_20'\n",
    "                    ,'Actors Rank_6']]\n",
    "x_train = x_train.values.reshape(-1,9)"
   ]
  },
  {
   "cell_type": "markdown",
   "metadata": {},
   "source": [
    "### Compare Predicted v.s. Actual"
   ]
  },
  {
   "cell_type": "code",
   "execution_count": 99,
   "metadata": {},
   "outputs": [
    {
     "data": {
      "image/png": "[encoded data removed]",
      "text/plain": [
       "<matplotlib.figure.Figure at 0x11706bb38>"
      ]
     },
     "metadata": {},
     "output_type": "display_data"
    }
   ],
   "source": [
    "plt.figure(figsize=(10, 6))\n",
    "plt.scatter(lasso_pred,Y_val,alpha=0.8,color='k')\n",
    "plt.plot(np.linspace(0,800,1000),np.linspace(0,800,1000),color='r')\n",
    "plt.xlabel('Predicted Movie Domestic Total Gross', fontsize=15)\n",
    "plt.ylabel('Actual Movie Domestic Total Gross', fontsize=15)\n",
    "plt.title('Model[General-Adjusted] Performance', fontsize=20)\n",
    "\n",
    "plt.savefig('../../Images/model_general2 performance.png', dpi=200, bbox_inches = 'tight')"
   ]
  },
  {
   "cell_type": "markdown",
   "metadata": {},
   "source": [
    "### Plotting Residuals"
   ]
  },
  {
   "cell_type": "code",
   "execution_count": 89,
   "metadata": {},
   "outputs": [
    {
     "data": {
      "image/png": "[encoded data removed]",
      "text/plain": [
       "<matplotlib.figure.Figure at 0x115431908>"
      ]
     },
     "metadata": {},
     "output_type": "display_data"
    }
   ],
   "source": [
    "def residual_scatter(model, x, y, color):\n",
    "    lasso_pred = model.predict(x)\n",
    "    residual_ = []\n",
    "    pred_ = []\n",
    "    for true,pred in zip(y, lasso_pred):\n",
    "        resid = true - pred\n",
    "        residual_.append(resid)\n",
    "        pred_.append(pred)\n",
    "    residual_scatter = plt.scatter(pred_, residual_, color = color)\n",
    "    plt.ylim(100,-100)\n",
    "#     return (residual_scatter, residual_hist) \n",
    "#         print(\"pred, resid:\", str(pred) + \", $\"+ str(resid))\n",
    "# residual_plot(best_lasso_I2, x_train, Y_train, 'k')\n",
    "residual_scatter(best_lasso_I2, X_val, Y_val, 'r',)"
   ]
  },
  {
   "cell_type": "code",
   "execution_count": 90,
   "metadata": {},
   "outputs": [
    {
     "data": {
      "text/plain": [
       "NormaltestResult(statistic=2.9908905534466745, pvalue=0.2241487742743466)"
      ]
     },
     "execution_count": 90,
     "metadata": {},
     "output_type": "execute_result"
    },
    {
     "data": {
      "image/png": "[encoded data removed]",
      "text/plain": [
       "<matplotlib.figure.Figure at 0x116b49860>"
      ]
     },
     "metadata": {},
     "output_type": "display_data"
    }
   ],
   "source": [
    "def residual_hist(model, x, y, color, outlier_value=260):\n",
    "    lasso_pred = model.predict(x)\n",
    "    residual_ = []\n",
    "    for true,pred in zip(y, lasso_pred):\n",
    "        resid = true - pred\n",
    "        residual_.append(resid)\n",
    "        residual_ = [i for i in residual_ if abs(i) < outlier_value]\n",
    "    residual_hist = plt.hist(residual_, color = color, bins=40)\n",
    "    return normaltest(residual_)\n",
    "# residual_plot(best_lasso_I2, x_train, Y_train, 'k')\n",
    "\n",
    "residual_hist(best_lasso_I2, X_val, Y_val, 'r', 260)"
   ]
  },
  {
   "cell_type": "code",
   "execution_count": 92,
   "metadata": {},
   "outputs": [
    {
     "data": {
      "text/plain": [
       "NormaltestResult(statistic=47.739588383173455, pvalue=4.3001152787327419e-11)"
      ]
     },
     "execution_count": 92,
     "metadata": {},
     "output_type": "execute_result"
    },
    {
     "data": {
      "image/png": "[encoded data removed]",
      "text/plain": [
       "<matplotlib.figure.Figure at 0x116ec6080>"
      ]
     },
     "metadata": {},
     "output_type": "display_data"
    }
   ],
   "source": [
    "residual_hist(best_lasso_I2, x_train, Y_train, 'r', 240)"
   ]
  },
  {
   "cell_type": "code",
   "execution_count": 91,
   "metadata": {},
   "outputs": [
    {
     "data": {
      "text/plain": [
       "NormaltestResult(statistic=2.9908905534466745, pvalue=0.2241487742743466)"
      ]
     },
     "execution_count": 91,
     "metadata": {},
     "output_type": "execute_result"
    },
    {
     "data": {
      "image/png": "[encoded data removed]",
      "text/plain": [
       "<matplotlib.figure.Figure at 0x115415668>"
      ]
     },
     "metadata": {},
     "output_type": "display_data"
    }
   ],
   "source": [
    "residual_hist(best_lasso_I2, X_val, Y_val, 'r', 80)\n"
   ]
  },
  {
   "cell_type": "code",
   "execution_count": 93,
   "metadata": {},
   "outputs": [
    {
     "data": {
      "text/plain": [
       "46      37.446117\n",
       "28       1.647083\n",
       "97       0.111551\n",
       "118      0.060818\n",
       "64     191.452396\n",
       "196     17.303424\n",
       "41     245.439076\n",
       "25     103.860290\n",
       "199      2.266905\n",
       "14      17.010170\n",
       "22       0.009269\n",
       "29     101.704370\n",
       "12      35.088320\n",
       "39       0.566006\n",
       "21     107.518682\n",
       "90      45.157105\n",
       "65      65.014513\n",
       "194    301.959197\n",
       "188     63.150991\n",
       "24      17.630465\n",
       "50     228.778661\n",
       "47     234.037575\n",
       "17     364.001123\n",
       "3      131.538435\n",
       "23     333.176600\n",
       "63     196.573705\n",
       "58      72.679278\n",
       "156     87.242834\n",
       "8      415.004880\n",
       "78       0.303877\n",
       "18     114.053579\n",
       "33     116.257848\n",
       "106     12.227722\n",
       "87     155.190832\n",
       "48      76.233151\n",
       "109     47.602194\n",
       "96      42.779261\n",
       "54     216.391482\n",
       "142     36.665854\n",
       "Name: DomesticTotalGross, dtype: float64"
      ]
     },
     "execution_count": 93,
     "metadata": {},
     "output_type": "execute_result"
    }
   ],
   "source": [
    "Y_val"
   ]
  },
  {
   "cell_type": "code",
   "execution_count": 94,
   "metadata": {},
   "outputs": [
    {
     "data": {
      "text/plain": [
       "37    114.43401\n",
       "Name: DomesticTotalGross, dtype: float64"
      ]
     },
     "execution_count": 94,
     "metadata": {},
     "output_type": "execute_result"
    }
   ],
   "source": [
    "movies_df[movies_df['Movie Title']=='Fifty Shades Darker'].loc[:,'DomesticTotalGross']"
   ]
  },
  {
   "cell_type": "code",
   "execution_count": 95,
   "metadata": {
    "collapsed": true
   },
   "outputs": [],
   "source": [
    "a = x_train[90]"
   ]
  },
  {
   "cell_type": "code",
   "execution_count": 96,
   "metadata": {},
   "outputs": [
    {
     "data": {
      "text/plain": [
       "array([ 53.9619365])"
      ]
     },
     "execution_count": 96,
     "metadata": {},
     "output_type": "execute_result"
    }
   ],
   "source": [
    "best_lasso_I2.predict(a.reshape(1, -1))"
   ]
  },
  {
   "cell_type": "code",
   "execution_count": 97,
   "metadata": {},
   "outputs": [
    {
     "data": {
      "text/plain": [
       "(array([ 94.,  52.,  46.,  39.,  18.,  24.,  17.,  16.,  12.,  11.,   8.,\n",
       "         10.,   8.,   5.,   2.,   6.,   3.,   4.,   2.,   6.]),\n",
       " array([  1.18100000e-03,   2.12345243e+01,   4.24678676e+01,\n",
       "          6.37012109e+01,   8.49345542e+01,   1.06167898e+02,\n",
       "          1.27401241e+02,   1.48634584e+02,   1.69867927e+02,\n",
       "          1.91101271e+02,   2.12334614e+02,   2.33567957e+02,\n",
       "          2.54801301e+02,   2.76034644e+02,   2.97267987e+02,\n",
       "          3.18501330e+02,   3.39734674e+02,   3.60968017e+02,\n",
       "          3.82201360e+02,   4.03434704e+02,   4.24668047e+02]),\n",
       " <a list of 20 Patch objects>)"
      ]
     },
     "execution_count": 97,
     "metadata": {},
     "output_type": "execute_result"
    },
    {
     "data": {
      "image/png": "[encoded data removed]",
      "text/plain": [
       "<matplotlib.figure.Figure at 0x117003a20>"
      ]
     },
     "metadata": {},
     "output_type": "display_data"
    }
   ],
   "source": [
    "plt.hist(movies_df.DomesticTotalGross,bins=20)"
   ]
  },
  {
   "cell_type": "markdown",
   "metadata": {},
   "source": [
    "### Model Results "
   ]
  },
  {
   "cell_type": "code",
   "execution_count": 85,
   "metadata": {},
   "outputs": [
    {
     "data": {
      "text/plain": [
       "0.91282636647607607"
      ]
     },
     "execution_count": 85,
     "metadata": {},
     "output_type": "execute_result"
    }
   ],
   "source": [
    "# adjusted r2\n",
    "\n",
    "def adj_r2(rsquare, num_data, num_features):\n",
    "    temp = (1-rsquare)*(num_data-1)\n",
    "    temp = temp/(num_data-num_features-1)\n",
    "    temp = 1 - temp\n",
    "    return temp\n",
    "\n",
    "adj_r2(r2_score(Y_val,lasso_pred),X_tr.shape[0],X_tr.shape[1])"
   ]
  },
  {
   "cell_type": "code",
   "execution_count": 86,
   "metadata": {},
   "outputs": [
    {
     "data": {
      "text/plain": [
       "10.479429214794751"
      ]
     },
     "execution_count": 86,
     "metadata": {},
     "output_type": "execute_result"
    }
   ],
   "source": [
    "# Standard Error of the Estimate\n",
    "\n",
    "def standard_error_estimate(true,pred,num_data):\n",
    "    sse = 0\n",
    "    for y,ypred in zip(true,pred):\n",
    "        sse += (y-ypred)**2\n",
    "    return np.sqrt(sse/(num_data-2))\n",
    "\n",
    "standard_error_estimate(Y_val,lasso_pred,X_tr.shape[0])"
   ]
  },
  {
   "cell_type": "code",
   "execution_count": 87,
   "metadata": {
    "scrolled": true
   },
   "outputs": [
    {
     "name": "stdout",
     "output_type": "stream",
     "text": [
      "Mean Squared Error:  963.023213857\n",
      "Root Mean Squared Error:  31.0326153242\n",
      "Mean Absolute Error:  21.4768974719\n",
      "R2:  0.920959183598\n",
      "Adj R2:  0.912826366476\n",
      "Standard Error of Estimate:  10.4794292148\n"
     ]
    }
   ],
   "source": [
    "def test_model_results(true, X, pred):\n",
    "    print(\"Mean Squared Error: \", mean_squared_error(true,pred))\n",
    "    print(\"Root Mean Squared Error: \", np.sqrt(mean_squared_error(true,pred)))\n",
    "    print(\"Mean Absolute Error: \",mean_absolute_error(true,pred))\n",
    "    r2 = r2_score(true,pred)\n",
    "    print(\"R2: \", r### Model Results 2)\n",
    "    print(\"Adj R2: \", adj_r2(r2,X.shape[0],X.shape[1]))\n",
    "    print(\"Standard Error of Estimate: \", standard_error_estimate(true,pred,X.shape[0]))\n",
    "          \n",
    "test_model_results(Y_val, X_tr, lasso_pred)"
   ]
  },
  {
   "cell_type": "code",
   "execution_count": null,
   "metadata": {
    "collapsed": true
   },
   "outputs": [],
   "source": []
  }
 ],
 "metadata": {
  "kernelspec": {
   "display_name": "Python [conda env:py3]",
   "language": "python",
   "name": "conda-env-py3-py"
  },
  "language_info": {
   "codemirror_mode": {
    "name": "ipython",
    "version": 3
   },
   "file_extension": ".py",
   "mimetype": "text/x-python",
   "name": "python",
   "nbconvert_exporter": "python",
   "pygments_lexer": "ipython3",
   "version": "3.6.2"
  }
 },
 "nbformat": 4,
 "nbformat_minor": 2
}
