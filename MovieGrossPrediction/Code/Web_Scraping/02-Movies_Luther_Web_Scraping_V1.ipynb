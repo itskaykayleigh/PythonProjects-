{
 "cells": [
  {
   "cell_type": "markdown",
   "metadata": {},
   "source": [
    "## List of Imports "
   ]
  },
  {
   "cell_type": "code",
   "execution_count": 1,
   "metadata": {},
   "outputs": [
    {
     "name": "stderr",
     "output_type": "stream",
     "text": [
      "/Users/liyuqiao/anaconda/envs/py3/lib/python3.6/site-packages/statsmodels/compat/pandas.py:56: FutureWarning: The pandas.core.datetools module is deprecated and will be removed in a future version. Please use the pandas.tseries module instead.\n",
      "  from pandas.core import datetools\n"
     ]
    }
   ],
   "source": [
    "from __future__ import print_function, division\n",
    "\n",
    "import requests\n",
    "import pandas as pd\n",
    "import numpy as np \n",
    "from bs4 import BeautifulSoup\n",
    "import re \n",
    "from dateutil.parser import parse\n",
    "from pprint import pprint\n",
    "import matplotlib.pyplot as plt\n",
    "import seaborn as sns\n",
    "from sklearn.model_selection import train_test_split\n",
    "from sklearn.linear_model import LinearRegression\n",
    "from sklearn.metrics import mean_squared_error, mean_absolute_error, r2_score\n",
    "import statsmodels.api as sm\n",
    "import statsmodels.formula.api as smf\n",
    "import pickle\n",
    "\n",
    "%matplotlib inline"
   ]
  },
  {
   "cell_type": "markdown",
   "metadata": {},
   "source": [
    "## Data Scraping "
   ]
  },
  {
   "cell_type": "code",
   "execution_count": 2,
   "metadata": {
    "collapsed": true
   },
   "outputs": [],
   "source": [
    "# def create_soups(url):\n",
    "#     response = requests.get(url)\n",
    "#     page = response.text\n",
    "#     soup = BeautifulSoup()"
   ]
  },
  {
   "cell_type": "code",
   "execution_count": 3,
   "metadata": {
    "collapsed": true
   },
   "outputs": [],
   "source": [
    "url_p1 = 'http://www.boxofficemojo.com/genres/chart/?id=3d.htm'\n",
    "\n",
    "response_p1 = requests.get(url_p1)\n",
    "page_p1 = response_p1.text\n",
    "soup_p1 = BeautifulSoup(page_p1,\"html5lib\")"
   ]
  },
  {
   "cell_type": "code",
   "execution_count": 4,
   "metadata": {
    "collapsed": true
   },
   "outputs": [],
   "source": [
    "url_p2 = 'http://www.boxofficemojo.com/genres/chart/?view=main&sort=gross&order=DESC&pagenum=2&id=3d.htm'\n",
    "\n",
    "response_p2 = requests.get(url_p2)\n",
    "page_p2 = response_p2.text\n",
    "soup_p2 = BeautifulSoup(page_p2,\"html5lib\")"
   ]
  },
  {
   "cell_type": "code",
   "execution_count": 5,
   "metadata": {
    "collapsed": true
   },
   "outputs": [],
   "source": [
    "url_p3 = 'http://www.boxofficemojo.com/genres/chart/?view=main&sort=gross&order=DESC&pagenum=3&id=3d.htm'\n",
    "\n",
    "response_p3 = requests.get(url_p3)\n",
    "page_p3 = response_p3.text\n",
    "soup_p3 = BeautifulSoup(page_p3,\"html5lib\")"
   ]
  },
  {
   "cell_type": "code",
   "execution_count": 6,
   "metadata": {
    "collapsed": true
   },
   "outputs": [],
   "source": [
    "# 2D - Creature Feature \n",
    "url_p4 = 'http://www.boxofficemojo.com/genres/chart/?id=creaturefeature.htm&sort=date&order=DESC&p=.htm'\n",
    "\n",
    "response_p4 = requests.get(url_p4)\n",
    "page_p4 = response_p4.text\n",
    "soup_p4 = BeautifulSoup(page_p4,\"html5lib\")"
   ]
  },
  {
   "cell_type": "code",
   "execution_count": 7,
   "metadata": {
    "collapsed": true
   },
   "outputs": [],
   "source": [
    "# 2D - Environmentalist \n",
    "url_p5 = 'http://www.boxofficemojo.com/genres/chart/?id=environment.htm&sort=date&order=DESC&p=.htm'\n",
    "response_p5 = requests.get(url_p5)\n",
    "page_p5 = response_p5.text\n",
    "soup_p5 = BeautifulSoup(page_p5,\"html5lib\")"
   ]
  },
  {
   "cell_type": "code",
   "execution_count": 8,
   "metadata": {
    "collapsed": true
   },
   "outputs": [],
   "source": [
    "# 2D - Romantic Drama \n",
    "url_p6 = 'http://www.boxofficemojo.com/genres/chart/?id=romanticdrama.htm&sort=date&order=DESC&p=.htm'\n",
    "\n",
    "response_p6 = requests.get(url_p6)\n",
    "page_p6 = response_p6.text\n",
    "soup_p6 = BeautifulSoup(page_p6,\"html5lib\")"
   ]
  },
  {
   "cell_type": "code",
   "execution_count": 9,
   "metadata": {
    "collapsed": true
   },
   "outputs": [],
   "source": [
    "# 2D - Disaster\n",
    "url_p7 = 'http://www.boxofficemojo.com/genres/chart/?id=disaster.htm&sort=date&order=DESC&p=.htm'\n",
    "\n",
    "response_p7 = requests.get(url_p7)\n",
    "page_p7 = response_p7.text\n",
    "soup_p7 = BeautifulSoup(page_p7,\"html5lib\")"
   ]
  },
  {
   "cell_type": "code",
   "execution_count": 10,
   "metadata": {
    "collapsed": true
   },
   "outputs": [],
   "source": [
    "# 2D - Action\n",
    "url_p8 = 'http://www.boxofficemojo.com/genres/chart/?id=actionheroine.htm&sort=date&order=DESC&p=.htm'\n",
    "\n",
    "response_p8 = requests.get(url_p8)\n",
    "page_p8 = response_p8.text\n",
    "soup_p8 = BeautifulSoup(page_p8,\"html5lib\")"
   ]
  },
  {
   "cell_type": "code",
   "execution_count": 11,
   "metadata": {
    "collapsed": true
   },
   "outputs": [],
   "source": [
    "# 2D - Fantasy \n",
    "url_p9 = 'http://www.boxofficemojo.com/genres/chart/?id=liveactionfantasy.htm&sort=date&order=DESC&p=.htm'\n",
    "\n",
    "response_p9 = requests.get(url_p9)\n",
    "page_p9 = response_p9.text\n",
    "soup_p9 = BeautifulSoup(page_p9,\"html5lib\")"
   ]
  },
  {
   "cell_type": "code",
   "execution_count": 12,
   "metadata": {
    "collapsed": true
   },
   "outputs": [],
   "source": [
    "%%capture\n",
    "bgcolor = ['#ffffff','#f4f4ff','#ffff99']\n",
    "all_links_p1 = [] \n",
    "for tr in soup_p1.findAll('tr',{'bgcolor': bgcolor}):\n",
    "    for a in tr.findAll('a'):\n",
    "        full_link = 'http://www.boxofficemojo.com/' + a.attrs['href']\n",
    "        all_links_p1.append(full_link)\n",
    "        print (a.text.strip(), '=>', full_link)"
   ]
  },
  {
   "cell_type": "code",
   "execution_count": 13,
   "metadata": {},
   "outputs": [
    {
     "data": {
      "text/plain": [
       "['http://www.boxofficemojo.com//movies/?id=cars3.htm',\n",
       " 'http://www.boxofficemojo.com//movies/?id=pussinboots12.htm',\n",
       " 'http://www.boxofficemojo.com//movies/?id=mastermind.htm',\n",
       " 'http://www.boxofficemojo.com//movies/?id=hoteltransylvania.htm',\n",
       " 'http://www.boxofficemojo.com//movies/?id=planetoftheapes16.htm',\n",
       " 'http://www.boxofficemojo.com//movies/?id=greatgatsby2012.htm',\n",
       " 'http://www.boxofficemojo.com//movies/?id=rio.htm',\n",
       " 'http://www.boxofficemojo.com//movies/?id=kungfupanda3.htm',\n",
       " 'http://www.boxofficemojo.com//movies/?id=smurfs.htm',\n",
       " 'http://www.boxofficemojo.com//movies/?id=christmascarol09.htm']"
      ]
     },
     "execution_count": 13,
     "metadata": {},
     "output_type": "execute_result"
    }
   ],
   "source": [
    "# There are three links for each movie - only need the first link to its main page \n",
    "# Movies from 100 above are upcoming releases thus filtered out \n",
    "links_p1 = all_links_p1[::3][:100]\n",
    "links_p1[90:100]"
   ]
  },
  {
   "cell_type": "code",
   "execution_count": 14,
   "metadata": {
    "collapsed": true
   },
   "outputs": [],
   "source": [
    "def get_movie_value(soup, field_name):\n",
    "        '''Grab a value from boxofficemojo HTML\n",
    "\n",
    "        Takes a string attribute of a movie on the page and\n",
    "        returns the string in the next sibling object\n",
    "        (the value for that attribute)\n",
    "        or None if nothing is found.\n",
    "        '''\n",
    "        obj = soup.find(text=re.compile(field_name))\n",
    "        if not obj: \n",
    "            return None\n",
    "        next_sibling = obj.findNextSibling()\n",
    "        if next_sibling:\n",
    "            return next_sibling.text \n",
    "        else:\n",
    "            return None\n",
    "\n",
    "def find_box1_info(soup):\n",
    "    if soup.findAll('div',{'class':'mp_box_content'}):\n",
    "        boxes = soup.findAll('div',{'class':'mp_box_content'})\n",
    "        box1_rows = [row for row in boxes[1].find_all('tr')] \n",
    "        box1 = box1_rows[:25]\n",
    "        return box1\n",
    "    else: \n",
    "        return None  \n",
    "    \n",
    "def find_box2_info(soup):\n",
    "    if soup.findAll('div',{'class':'mp_box_content'}):\n",
    "        boxes = soup.findAll('div',{'class':'mp_box_content'})\n",
    "        box2_rows = [row for row in boxes[2].find_all('tr')]    \n",
    "        return box2_rows\n",
    "    else: \n",
    "        return None "
   ]
  },
  {
   "cell_type": "code",
   "execution_count": 15,
   "metadata": {
    "collapsed": true,
    "scrolled": false
   },
   "outputs": [],
   "source": [
    "title_p1 = []\n",
    "raw_domestic_total_gross_p1 = []\n",
    "raw_release_date_p1 = []\n",
    "raw_runtime_p1 = []\n",
    "rating_p1 = []\n",
    "raw_pro_budget_p1 = []\n",
    "find_box1_p1 = []\n",
    "find_box2_p1 = []\n",
    "raw_opening_gross_p1 = []\n",
    "\n",
    "    \n",
    "for link in links_p1: \n",
    "    source_code1 = requests.get(link)\n",
    "    soup1=BeautifulSoup(source_code1.text, 'html5lib')\n",
    "    \n",
    "    find_box1_p1.append(find_box1_info(soup1))\n",
    "    find_box2_p1.append(find_box2_info(soup1))\n",
    "    \n",
    "    \n",
    "    raw_opening_wknd_gross = find_box1_info(soup1)[0].find_all('td')[1].text\n",
    "    raw_opening_gross_p1.append(raw_opening_wknd_gross)\n",
    "    \n",
    "    title_string = soup1.find('title').text\n",
    "    title_p1.append(title_string.split('(')[0].strip()) \n",
    "    \n",
    "    raw_dtg = get_movie_value(soup1,'Domestic Total')\n",
    "    raw_domestic_total_gross_p1.append(raw_dtg)\n",
    "    \n",
    "    raw_releasedate = get_movie_value(soup1,'Release Date')\n",
    "    raw_release_date_p1.append(raw_releasedate)\n",
    "    \n",
    "    raw_run_time = get_movie_value(soup1,'Runtime')\n",
    "    raw_runtime_p1.append(raw_run_time)\n",
    "\n",
    "    rating_string = get_movie_value(soup1,'MPAA Rating')\n",
    "    rating_p1.append(rating_string)\n",
    "    \n",
    "    pro_budget = get_movie_value(soup1, 'Production Budget')\n",
    "    raw_pro_budget_p1.append(pro_budget)"
   ]
  },
  {
   "cell_type": "code",
   "execution_count": 16,
   "metadata": {
    "collapsed": true
   },
   "outputs": [],
   "source": [
    "%%capture\n",
    "title_p1"
   ]
  },
  {
   "cell_type": "code",
   "execution_count": 17,
   "metadata": {
    "collapsed": true,
    "scrolled": true
   },
   "outputs": [],
   "source": [
    "%%capture\n",
    "raw_directors_p1=[]\n",
    "for box in find_box2_p1:\n",
    "    raw_directors_p1.append(box[0].text)\n",
    "raw_directors_p1[75] = 'Directors:Phil LordChristopher Miller'\n",
    "raw_directors_p1[84] = 'Directors:Carlos SaldanhaMike Thurmeier'\n",
    "raw_directors_p1[90] = 'Director:Brian Fee'\n",
    "directors_p1 = [str(raw.split(':')[1]) for raw in raw_directors_p1]\n",
    "directors_p1[6] = 'Angus MacLane Andrew Stanton'\n",
    "directors_p1[11] = 'Anthony Russo Joe Russo'\n",
    "directors_p1[12] = 'Chris Buck Jennifer Lee'\n",
    "directors_p1[16] = 'Pierre Coffin Chris Renaud'\n",
    "directors_p1[20] = 'Byron Howard Rich Moore'\n",
    "directors_p1[28] = 'Pete Docter Bob Peterson'\n",
    "directors_p1[35] = 'Anthony Russo Joe Russo'\n",
    "directors_p1[39] = 'Pierre Coffin Chris Renaud'\n",
    "directors_p1[40] = 'Ron Clements John Musker'\n",
    "directors_p1[45] = 'Mark Andrews Brenda Chapman'\n",
    "directors_p1[53] = 'Dean DeBlois Chris Sanders'\n",
    "directors_p1[60] = 'Nathan Greno Byron Howard'\n",
    "directors_p1[62] = 'Rob Letterman Conrad Vernon'\n",
    "directors_p1[64] = 'John Lasseter Brad Lewis'\n",
    "directors_p1[67] = 'Kirk De Micco Chris Sanders'\n",
    "directors_p1[75] = 'Phil Lord Christopher Miller'\n",
    "directors_p1[77] = 'Joachim Ronning Espen Sandberg'\n",
    "directors_p1[83] = 'Mike Mitchell Paul Tibbitt'\n",
    "directors_p1[84] = 'Carlos Saldanha Mike Thurmeier'\n",
    "directors_p1[97] = 'Alessandro Carloni Jennifer Yuh Nelson'\n",
    "directors_p1"
   ]
  },
  {
   "cell_type": "code",
   "execution_count": 18,
   "metadata": {
    "collapsed": true
   },
   "outputs": [],
   "source": [
    "raw_actors_p1 = []\n",
    "for box in find_box2_p1:\n",
    "    if len(box) > 3: \n",
    "        raw_actors_p1.append(box[2].text)\n",
    "    elif len(box) == 3: \n",
    "        raw_actors_p1.append(box[1].text)\n",
    "    elif len(box) == 2: \n",
    "        raw_actors_p1.append(box[1].text)\n",
    "    else: \n",
    "        raw_actors_p1.append(box[0].text)\n",
    "raw_actors_p1 = [str(raw.split(':')[1]) for raw in raw_actors_p1]\n",
    "raw_actors_p1[92] = 'Will Ferrell (Voice)Brad Pitt (Voice)Tina Fey (Voice)Jonah Hill (Voice)David Cross (Voice)Justin Theroux (Voice)Ben Stiller (Voice)Tom McGrath* (Voice)J.K. Simmons (Voice)'"
   ]
  },
  {
   "cell_type": "code",
   "execution_count": 19,
   "metadata": {
    "collapsed": true
   },
   "outputs": [],
   "source": [
    "%%capture\n",
    "for i, raw in enumerate(raw_actors_p1):\n",
    "    if raw.count('(Voice)') > len(raw.split())/3:\n",
    "        raw_actors_p1[i] = \"Animation\"\n",
    "raw_actors_p1[3] = 'Robert Downey, Jr.Chris HemsworthChris EvansJeremy RennerMark RuffaloScarlett JohanssonClark GreggSamuel L. JacksonCobie SmuldersTom HiddlestonStellan SkarsgardGwyneth Paltrow'\n",
    "raw_actors_p1[4] = 'Felicity JonesMads MikkelsenBen MendelsohnDonnie YenForest WhitakerDiego LunaRiz Ahmed'\n",
    "raw_actors_p1[7] = 'Robert Downey, Jr.Chris HemsworthMark RuffaloChris EvansScarlett JohanssonJeremy RennerDon CheadleAaron JohnsonElizabeth OlsenPaul BettanyCobie SmuldersAnthony MackieHayley AtwellIdris ElbaStellan Skarsgard'\n",
    "raw_actors_p1[10] = 'Fan BingbingRobert Downey, Jr.Gwyneth PaltrowDon CheadleGuy PearceRebecca HallJames Badge DaleJon FavreauBen Kingsley'\n",
    "raw_actors_p1[13] = 'Chris PrattZoe SaldanaDave Bautista'\n",
    "raw_actors_p1[19] = 'Shia LaBeoufRosie Huntington-WhiteleyJosh DuhamelTyrese GibsonFrances McDormandPatrick DempseyJohn MalkovichAlan TudykKen JeongJohn Turturro'\n",
    "raw_actors_p1[22] = 'Mia WasikowskaJohnny DeppHelena Bonham CarterAnne HathawayCrispin Glover'\n",
    "raw_actors_p1[23] = 'Chris PrattZoe SaldanaDave BautistaLee PaceKaren GillanDjimon HounsouJohn C. ReillyGlenn CloseBenicio Del ToroJosh Brolin'\n",
    "raw_actors_p1[27] = 'Martin FreemanIan McKellenRichard ArmitageCate BlanchettHugo WeavingChristopher Lee*Ian Holm*Elijah Wood*'\n",
    "raw_actors_p1[36] = 'Martin FreemanIan McKellenRichard ArmitageOrlando BloomEvangeline LillyLuke EvansLee PaceCate Blanchett'\n",
    "raw_actors_p1[38] = 'Ian McKellenMartin FreemanRichard ArmitageLee PaceLuke EvansOrlando BloomEvangeline LillyHugo WeavingChristopher LeeCate Blanchett'\n",
    "raw_actors_p1[46] = 'Tony CoxJames FrancoMila KunisMichelle Williams'\n",
    "raw_actors_p1[65] = 'Megan FoxWill ArnettWilliam Fichtner'\n",
    "raw_actors_p1[98] = 'Neil Patrick HarrisJayma MaysHank Azaria'\n",
    "raw_actors_p1"
   ]
  },
  {
   "cell_type": "code",
   "execution_count": 20,
   "metadata": {
    "collapsed": true
   },
   "outputs": [],
   "source": [
    "%%capture\n",
    "actors_p1 = []\n",
    "for a in raw_actors_p1:\n",
    "    a = re.findall('[A-Z][^A-Z]*', a)\n",
    "    actors_p1.append(a)   \n",
    "actors_p1 = [[name.strip().replace('*','').replace(' ','').replace('(','').replace('Voice)','').replace(')','') for name in actor] for actor in actors_p1] \n",
    "actors_p1 "
   ]
  },
  {
   "cell_type": "code",
   "execution_count": 21,
   "metadata": {
    "collapsed": true
   },
   "outputs": [],
   "source": [
    "%%capture\n",
    "domestic_total_gross_p1 = []\n",
    "for dtg in raw_domestic_total_gross_p1:\n",
    "    if dtg == None: \n",
    "        pass \n",
    "    else: \n",
    "        dtg = dtg.replace('$', '').replace(',', '')\n",
    "        dtg = int(dtg)\n",
    "    domestic_total_gross_p1.append(dtg)\n",
    "domestic_total_gross_p1[9] = int(412038809)  \n",
    "domestic_total_gross_p1[24] = int(332003538)\n",
    "domestic_total_gross_p1[34] = int(261863570)\n",
    "domestic_total_gross_p1[76] = int(174980616)\n",
    "domestic_total_gross_p1[90] = int(152412453)\n",
    "domestic_total_gross_p1[94] = int(146288952)\n",
    "domestic_total_gross_p1"
   ]
  },
  {
   "cell_type": "code",
   "execution_count": 22,
   "metadata": {
    "collapsed": true
   },
   "outputs": [],
   "source": [
    "%%capture\n",
    "raw_theater_p1 = []\n",
    "for box in find_box1_p1:\n",
    "    raw_theater_p1.append((box[1].find_all('td')[0].text.split()[2]))\n",
    "raw_theater_p1[12]='3,742'\n",
    "theater_p1 = [int(raw.replace(',','')) for raw in raw_theater_p1]\n",
    "theater_p1"
   ]
  },
  {
   "cell_type": "code",
   "execution_count": 23,
   "metadata": {
    "collapsed": true
   },
   "outputs": [],
   "source": [
    "%%capture\n",
    "runtime_p1=[]\n",
    "for rt in raw_runtime_p1: \n",
    "    rt = rt.split()\n",
    "    minutes = int(rt[0])*60 + int(rt[2])\n",
    "    rt = minutes \n",
    "    runtime_p1.append(rt)\n",
    "runtime_p1"
   ]
  },
  {
   "cell_type": "code",
   "execution_count": 24,
   "metadata": {
    "collapsed": true
   },
   "outputs": [],
   "source": [
    "%%capture\n",
    "raw_opening_gross_p1[12]= '\\xa0$67,391,326'\n",
    "opening_weekend_gross_p1 = []\n",
    "for row in raw_opening_gross_p1:\n",
    "    row = int(row.strip().replace('$','').replace(',',''))\n",
    "    opening_weekend_gross_p1.append(row)\n",
    "opening_weekend_gross_p1"
   ]
  },
  {
   "cell_type": "code",
   "execution_count": 25,
   "metadata": {
    "collapsed": true
   },
   "outputs": [],
   "source": [
    "%%capture\n",
    "release_date_p1=[]\n",
    "for rd in raw_release_date_p1:\n",
    "    rd = parse(rd)\n",
    "    release_date_p1.append(rd)\n",
    "release_date_p1"
   ]
  },
  {
   "cell_type": "code",
   "execution_count": 26,
   "metadata": {
    "collapsed": true
   },
   "outputs": [],
   "source": [
    "%%capture\n",
    "rating_p1"
   ]
  },
  {
   "cell_type": "code",
   "execution_count": 27,
   "metadata": {
    "collapsed": true
   },
   "outputs": [],
   "source": [
    "%%capture\n",
    "prod_budget_p1 = []\n",
    "for budget in raw_pro_budget_p1: \n",
    "    if budget == 'N/A':\n",
    "        pass\n",
    "    else: \n",
    "        budget = int(budget.split()[0].replace('$','')) \n",
    "    prod_budget_p1.append(budget)\n",
    "prod_budget_p1[14]=int(250)\n",
    "prod_budget_p1[6]=int(200)\n",
    "prod_budget_p1[20]=int(150)\n",
    "prod_budget_p1[27]=int(250)\n",
    "prod_budget_p1[32]=int(200)\n",
    "prod_budget_p1[36]=int(217)\n",
    "prod_budget_p1[38]=int(250)\n",
    "prod_budget_p1[40]=int(150)\n",
    "prod_budget_p1[58]=int(200)\n",
    "prod_budget_p1[76]=int(125)\n",
    "prod_budget_p1[90]=int(175)\n",
    "production_budget_p1 = []\n",
    "for i in prod_budget_p1:\n",
    "    i = int(i*1000000)\n",
    "    production_budget_p1.append(i)\n",
    "production_budget_p1"
   ]
  },
  {
   "cell_type": "code",
   "execution_count": 28,
   "metadata": {
    "collapsed": true
   },
   "outputs": [],
   "source": [
    "movies_p1 = {}\n",
    "genre = ['3D'] * 100\n",
    "headers = ['Movie Title',\n",
    "           'Genre',\n",
    "           'Domestic Total Gross ($)',\n",
    "           'Release Date', \n",
    "           'Runtime (mins)', \n",
    "           'Wildest Release',\n",
    "           'Rating',\n",
    "           'Production Budget ($)',\n",
    "           'Directors',\n",
    "           'Actors', \n",
    "           'Opening Weekend Gross ($)']\n",
    "movies_p1 = dict(zip(headers, [title_p1,\n",
    "                            genre,\n",
    "                            domestic_total_gross_p1,\n",
    "                            release_date_p1,\n",
    "                            runtime_p1,\n",
    "                            theater_p1,\n",
    "                            rating_p1,\n",
    "                            production_budget_p1,\n",
    "                            directors_p1,\n",
    "                            actors_p1,\n",
    "                            opening_weekend_gross_p1]))\n",
    "df_p1 = pd.DataFrame(movies_p1)\n",
    "df_p1 = df_p1[['Movie Title', \n",
    "            'Genre',\n",
    "            'Release Date', \n",
    "            'Runtime (mins)',\n",
    "            'Wildest Release',\n",
    "            'Rating',\n",
    "            'Directors',\n",
    "            'Actors',\n",
    "            'Production Budget ($)',\n",
    "            'Opening Weekend Gross ($)',\n",
    "            'Domestic Total Gross ($)']]"
   ]
  },
  {
   "cell_type": "code",
   "execution_count": 29,
   "metadata": {
    "collapsed": true
   },
   "outputs": [],
   "source": [
    "%%capture\n",
    "df_p1"
   ]
  },
  {
   "cell_type": "code",
   "execution_count": 30,
   "metadata": {
    "collapsed": true
   },
   "outputs": [],
   "source": [
    "%%capture\n",
    "print(soup_p2.prettify())"
   ]
  },
  {
   "cell_type": "code",
   "execution_count": 31,
   "metadata": {
    "collapsed": true
   },
   "outputs": [],
   "source": [
    "%%capture\n",
    "bgcolor = ['#ffffff','#f4f4ff','#ffff99']\n",
    "all_links_p2 = [] \n",
    "for tr in soup_p2.findAll('tr',{'bgcolor': bgcolor}):\n",
    "    for a in tr.findAll('a'):\n",
    "        full_link = 'http://www.boxofficemojo.com/' + a.attrs['href']\n",
    "        all_links_p2.append(full_link)\n",
    "        print (a.text.strip(), '=>', full_link)"
   ]
  },
  {
   "cell_type": "code",
   "execution_count": 32,
   "metadata": {
    "collapsed": true
   },
   "outputs": [],
   "source": [
    "%%capture\n",
    "bgcolor = ['#ffffff','#f4f4ff','#ffff99']\n",
    "all_links_p4 = [] \n",
    "for tr in soup_p4.findAll('tr',{'bgcolor': bgcolor}):\n",
    "    for a in tr.findAll('a'):\n",
    "        full_link = 'http://www.boxofficemojo.com/' + a.attrs['href']\n",
    "        all_links_p4.append(full_link)\n",
    "        print (a.text.strip(), '=>', full_link)"
   ]
  },
  {
   "cell_type": "code",
   "execution_count": 33,
   "metadata": {
    "collapsed": true
   },
   "outputs": [],
   "source": [
    "%%capture\n",
    "bgcolor = ['#ffffff','#f4f4ff','#ffff99']\n",
    "all_links_p5 = [] \n",
    "for tr in soup_p5.findAll('tr',{'bgcolor': bgcolor}):\n",
    "    for a in tr.findAll('a'):\n",
    "        full_link = 'http://www.boxofficemojo.com/' + a.attrs['href']\n",
    "        all_links_p5.append(full_link)\n",
    "        print (a.text.strip(), '=>', full_link)"
   ]
  },
  {
   "cell_type": "code",
   "execution_count": 34,
   "metadata": {
    "collapsed": true
   },
   "outputs": [],
   "source": [
    "%%capture\n",
    "bgcolor = ['#ffffff','#f4f4ff','#ffff99']\n",
    "all_links_p6 = [] \n",
    "for tr in soup_p6.findAll('tr',{'bgcolor': bgcolor}):\n",
    "    for a in tr.findAll('a'):\n",
    "        full_link = 'http://www.boxofficemojo.com/' + a.attrs['href']\n",
    "        all_links_p6.append(full_link)\n",
    "        print (a.text.strip(), '=>', full_link)"
   ]
  },
  {
   "cell_type": "code",
   "execution_count": 35,
   "metadata": {
    "collapsed": true
   },
   "outputs": [],
   "source": [
    "%%capture\n",
    "bgcolor = ['#ffffff','#f4f4ff','#ffff99']\n",
    "all_links_p7 = [] \n",
    "for tr in soup_p7.findAll('tr',{'bgcolor': bgcolor}):\n",
    "    for a in tr.findAll('a'):\n",
    "        full_link = 'http://www.boxofficemojo.com/' + a.attrs['href']\n",
    "        all_links_p7.append(full_link)\n",
    "        print (a.text.strip(), '=>', full_link)"
   ]
  },
  {
   "cell_type": "code",
   "execution_count": 36,
   "metadata": {
    "collapsed": true
   },
   "outputs": [],
   "source": [
    "%%capture\n",
    "bgcolor = ['#ffffff','#f4f4ff','#ffff99']\n",
    "all_links_p8 = [] \n",
    "for tr in soup_p8.findAll('tr',{'bgcolor': bgcolor}):\n",
    "    for a in tr.findAll('a'):\n",
    "        full_link = 'http://www.boxofficemojo.com/' + a.attrs['href']\n",
    "        all_links_p8.append(full_link)\n",
    "        print (a.text.strip(), '=>', full_link)"
   ]
  },
  {
   "cell_type": "code",
   "execution_count": 37,
   "metadata": {
    "collapsed": true
   },
   "outputs": [],
   "source": [
    "%%capture\n",
    "bgcolor = ['#ffffff','#f4f4ff','#ffff99']\n",
    "all_links_p9 = [] \n",
    "for tr in soup_p9.findAll('tr',{'bgcolor': bgcolor}):\n",
    "    for a in tr.findAll('a'):\n",
    "        full_link = 'http://www.boxofficemojo.com/' + a.attrs['href']\n",
    "        all_links_p9.append(full_link)\n",
    "        print (a.text.strip(), '=>', full_link)"
   ]
  },
  {
   "cell_type": "code",
   "execution_count": 38,
   "metadata": {
    "collapsed": true
   },
   "outputs": [],
   "source": [
    "links_p4 = all_links_p4[:21][::3] + all_links_p4[36:75][::3]\n",
    "# links_p4"
   ]
  },
  {
   "cell_type": "code",
   "execution_count": 39,
   "metadata": {
    "collapsed": true
   },
   "outputs": [],
   "source": [
    "links_p5 = all_links_p5[21:66][::3]\n",
    "# links_p5"
   ]
  },
  {
   "cell_type": "code",
   "execution_count": 40,
   "metadata": {
    "collapsed": true
   },
   "outputs": [],
   "source": [
    "links_p6 = all_links_p6[:21][::3] + all_links_p6[24:81][::3] + all_links_p6[84:204][::3]\n",
    "# links_p6"
   ]
  },
  {
   "cell_type": "code",
   "execution_count": 41,
   "metadata": {
    "collapsed": true
   },
   "outputs": [],
   "source": [
    "links_p7 = all_links_p7[:75][::3]\n",
    "# links_p7"
   ]
  },
  {
   "cell_type": "code",
   "execution_count": 42,
   "metadata": {
    "collapsed": true
   },
   "outputs": [],
   "source": [
    "links_p8 = all_links_p8[:27][::3] + all_links_p8[36:81][::3]\n",
    "# links_p8"
   ]
  },
  {
   "cell_type": "code",
   "execution_count": 43,
   "metadata": {
    "collapsed": true
   },
   "outputs": [],
   "source": [
    "links_p9 = (all_links_p9[:21][::3] \n",
    "            + all_links_p9[24:75][::3] \n",
    "            + all_links_p9[78:90][::3] \n",
    "            + all_links_p9[96:108][::3] \n",
    "            + all_links_p9[135:213][::3]) \n",
    "# links_p9"
   ]
  },
  {
   "cell_type": "code",
   "execution_count": 44,
   "metadata": {},
   "outputs": [
    {
     "data": {
      "text/plain": [
       "100"
      ]
     },
     "execution_count": 44,
     "metadata": {},
     "output_type": "execute_result"
    }
   ],
   "source": [
    "links_p2 = all_links_p2[::3][:100]\n",
    "len(links_p2)"
   ]
  },
  {
   "cell_type": "code",
   "execution_count": 45,
   "metadata": {
    "collapsed": true
   },
   "outputs": [],
   "source": [
    "title_p2 = []\n",
    "raw_domestic_total_gross_p2 = []\n",
    "raw_release_date_p2 = []\n",
    "raw_runtime_p2 = []\n",
    "rating_p2 = []\n",
    "raw_pro_budget_p2 = []\n",
    "find_box1_p2 = []\n",
    "find_box2_p2 = []\n",
    "raw_opening_gross_p2 = []\n",
    "\n",
    "for link in links_p2: \n",
    "    source_code2 = requests.get(link)\n",
    "    soup2=BeautifulSoup(source_code2.text, 'html5lib')\n",
    "    \n",
    "    find_box1_p2.append(find_box1_info(soup2))\n",
    "    find_box2_p2.append(find_box2_info(soup2))\n",
    "    \n",
    "    \n",
    "    raw_opening_wknd_gross = find_box1_info(soup2)[0].find_all('td')[1].text\n",
    "    raw_opening_gross_p2.append(raw_opening_wknd_gross)\n",
    "    \n",
    "    title_string = soup2.find('title').text\n",
    "    title_p2.append(title_string.split('(')[0].strip()) \n",
    "    \n",
    "    raw_dtg = get_movie_value(soup2,'Domestic Total')\n",
    "    raw_domestic_total_gross_p2.append(raw_dtg)\n",
    "    \n",
    "    raw_releasedate = get_movie_value(soup2,'Release Date')\n",
    "    raw_release_date_p2.append(raw_releasedate)\n",
    "    \n",
    "    raw_run_time = get_movie_value(soup2,'Runtime')\n",
    "    raw_runtime_p2.append(raw_run_time)\n",
    "\n",
    "    rating_string = get_movie_value(soup2,'MPAA Rating')\n",
    "    rating_p2.append(rating_string)\n",
    "    \n",
    "    pro_budget = get_movie_value(soup2, 'Production Budget')\n",
    "    raw_pro_budget_p2.append(pro_budget)"
   ]
  },
  {
   "cell_type": "code",
   "execution_count": 46,
   "metadata": {
    "collapsed": true
   },
   "outputs": [],
   "source": [
    "title_p4 = []\n",
    "raw_domestic_total_gross_p4 = []\n",
    "raw_release_date_p4 = []\n",
    "raw_runtime_p4 = []\n",
    "rating_p4 = []\n",
    "raw_pro_budget_p4 = []\n",
    "find_box1_p4 = []\n",
    "find_box2_p4 = []\n",
    "raw_opening_gross_p4 = []\n",
    "\n",
    "for link in links_p4: \n",
    "    source_code4 = requests.get(link)\n",
    "    soup4=BeautifulSoup(source_code4.text, 'html5lib')\n",
    "    \n",
    "    find_box1_p4.append(find_box1_info(soup4))\n",
    "    find_box2_p4.append(find_box2_info(soup4))\n",
    "    \n",
    "    \n",
    "    raw_opening_wknd_gross = find_box1_info(soup4)[0].find_all('td')[1].text\n",
    "    raw_opening_gross_p4.append(raw_opening_wknd_gross)\n",
    "    \n",
    "    title_string = soup4.find('title').text\n",
    "    title_p4.append(title_string.split('(')[0].strip()) \n",
    "    \n",
    "    raw_dtg = get_movie_value(soup4,'Domestic Total')\n",
    "    raw_domestic_total_gross_p4.append(raw_dtg)\n",
    "    \n",
    "    raw_releasedate = get_movie_value(soup4,'Release Date')\n",
    "    raw_release_date_p4.append(raw_releasedate)\n",
    "    \n",
    "    raw_run_time = get_movie_value(soup4,'Runtime')\n",
    "    raw_runtime_p4.append(raw_run_time)\n",
    "\n",
    "    rating_string = get_movie_value(soup4,'MPAA Rating')\n",
    "    rating_p4.append(rating_string)\n",
    "    \n",
    "    pro_budget = get_movie_value(soup4, 'Production Budget')\n",
    "    raw_pro_budget_p4.append(pro_budget)"
   ]
  },
  {
   "cell_type": "code",
   "execution_count": 47,
   "metadata": {
    "collapsed": true
   },
   "outputs": [],
   "source": [
    "title_p5 = []\n",
    "raw_domestic_total_gross_p5 = []\n",
    "raw_release_date_p5 = []\n",
    "raw_runtime_p5 = []\n",
    "rating_p5 = []\n",
    "raw_pro_budget_p5 = []\n",
    "find_box1_p5 = []\n",
    "find_box2_p5 = []\n",
    "raw_opening_gross_p5 = []\n",
    "\n",
    "for link in links_p5: \n",
    "    source_code5 = requests.get(link)\n",
    "    soup5=BeautifulSoup(source_code5.text, 'html5lib')\n",
    "    \n",
    "    find_box1_p5.append(find_box1_info(soup5))\n",
    "    find_box2_p5.append(find_box2_info(soup5))\n",
    "    \n",
    "    raw_opening_wknd_gross = find_box1_info(soup5)[0].find_all('td')[1].text\n",
    "    raw_opening_gross_p5.append(raw_opening_wknd_gross)\n",
    "    \n",
    "    title_string = soup5.find('title').text\n",
    "    title_p5.append(title_string.split('(')[0].strip()) \n",
    "    \n",
    "    raw_dtg = get_movie_value(soup5,'Domestic Total')\n",
    "    raw_domestic_total_gross_p5.append(raw_dtg)\n",
    "    \n",
    "    raw_releasedate = get_movie_value(soup5,'Release Date')\n",
    "    raw_release_date_p5.append(raw_releasedate)\n",
    "    \n",
    "    raw_run_time = get_movie_value(soup5,'Runtime')\n",
    "    raw_runtime_p5.append(raw_run_time)\n",
    "\n",
    "    rating_string = get_movie_value(soup5,'MPAA Rating')\n",
    "    rating_p5.append(rating_string)\n",
    "    \n",
    "    pro_budget = get_movie_value(soup5, 'Production Budget')\n",
    "    raw_pro_budget_p5.append(pro_budget)"
   ]
  },
  {
   "cell_type": "code",
   "execution_count": 48,
   "metadata": {
    "collapsed": true
   },
   "outputs": [],
   "source": [
    "title_p6 = []\n",
    "raw_domestic_total_gross_p6 = []\n",
    "raw_release_date_p6 = []\n",
    "raw_runtime_p6 = []\n",
    "rating_p6 = []\n",
    "raw_pro_budget_p6 = []\n",
    "find_box1_p6 = []\n",
    "find_box2_p6 = []\n",
    "raw_opening_gross_p6 = []\n",
    "\n",
    "for link in links_p6: \n",
    "    source_code6 = requests.get(link)\n",
    "    soup6=BeautifulSoup(source_code6.text, 'html5lib')\n",
    "    \n",
    "    find_box1_p6.append(find_box1_info(soup6))\n",
    "    find_box2_p6.append(find_box2_info(soup6))\n",
    "    \n",
    "    raw_opening_wknd_gross = find_box1_info(soup6)[0].find_all('td')[1].text\n",
    "    raw_opening_gross_p6.append(raw_opening_wknd_gross)\n",
    "    \n",
    "    title_string = soup6.find('title').text\n",
    "    title_p6.append(title_string.split('(')[0].strip()) \n",
    "    \n",
    "    raw_dtg = get_movie_value(soup6,'Domestic Total')\n",
    "    raw_domestic_total_gross_p6.append(raw_dtg)\n",
    "    \n",
    "    raw_releasedate = get_movie_value(soup6,'Release Date')\n",
    "    raw_release_date_p6.append(raw_releasedate)\n",
    "    \n",
    "    raw_run_time = get_movie_value(soup6,'Runtime')\n",
    "    raw_runtime_p6.append(raw_run_time)\n",
    "\n",
    "    rating_string = get_movie_value(soup6,'MPAA Rating')\n",
    "    rating_p6.append(rating_string)\n",
    "    \n",
    "    pro_budget = get_movie_value(soup6, 'Production Budget')\n",
    "    raw_pro_budget_p6.append(pro_budget)"
   ]
  },
  {
   "cell_type": "code",
   "execution_count": 49,
   "metadata": {
    "collapsed": true
   },
   "outputs": [],
   "source": [
    "title_p7 = []\n",
    "raw_domestic_total_gross_p7 = []\n",
    "raw_release_date_p7 = []\n",
    "raw_runtime_p7 = []\n",
    "rating_p7 = []\n",
    "raw_pro_budget_p7 = []\n",
    "find_box1_p7 = []\n",
    "find_box2_p7 = []\n",
    "raw_opening_gross_p7 = []\n",
    "\n",
    "for link in links_p7: \n",
    "    source_code7 = requests.get(link)\n",
    "    soup7=BeautifulSoup(source_code7.text, 'html5lib')\n",
    "    \n",
    "    find_box1_p7.append(find_box1_info(soup7))\n",
    "    find_box2_p7.append(find_box2_info(soup7))\n",
    "    \n",
    "    raw_opening_wknd_gross = find_box1_info(soup7)[0].find_all('td')[1].text\n",
    "    raw_opening_gross_p7.append(raw_opening_wknd_gross)\n",
    "    \n",
    "    title_string = soup7.find('title').text\n",
    "    title_p7.append(title_string.split('(')[0].strip()) \n",
    "    \n",
    "    raw_dtg = get_movie_value(soup7,'Domestic Total')\n",
    "    raw_domestic_total_gross_p7.append(raw_dtg)\n",
    "    \n",
    "    raw_releasedate = get_movie_value(soup7,'Release Date')\n",
    "    raw_release_date_p7.append(raw_releasedate)\n",
    "    \n",
    "    raw_run_time = get_movie_value(soup7,'Runtime')\n",
    "    raw_runtime_p7.append(raw_run_time)\n",
    "\n",
    "    rating_string = get_movie_value(soup7,'MPAA Rating')\n",
    "    rating_p7.append(rating_string)\n",
    "    \n",
    "    pro_budget = get_movie_value(soup7, 'Production Budget')\n",
    "    raw_pro_budget_p7.append(pro_budget)"
   ]
  },
  {
   "cell_type": "code",
   "execution_count": 50,
   "metadata": {
    "collapsed": true
   },
   "outputs": [],
   "source": [
    "title_p8 = []\n",
    "raw_domestic_total_gross_p8 = []\n",
    "raw_release_date_p8 = []\n",
    "raw_runtime_p8 = []\n",
    "rating_p8 = []\n",
    "raw_pro_budget_p8 = []\n",
    "find_box1_p8 = []\n",
    "find_box2_p8 = []\n",
    "raw_opening_gross_p8 = []\n",
    "\n",
    "for link in links_p8: \n",
    "    source_code8 = requests.get(link)\n",
    "    soup8=BeautifulSoup(source_code8.text, 'html5lib')\n",
    "    \n",
    "    find_box1_p8.append(find_box1_info(soup8))\n",
    "    find_box2_p8.append(find_box2_info(soup8))\n",
    "    \n",
    "    raw_opening_wknd_gross = find_box1_info(soup8)[0].find_all('td')[1].text\n",
    "    raw_opening_gross_p8.append(raw_opening_wknd_gross)\n",
    "    \n",
    "    title_string = soup8.find('title').text\n",
    "    title_p8.append(title_string.split('(')[0].strip()) \n",
    "    \n",
    "    raw_dtg = get_movie_value(soup8,'Domestic Total')\n",
    "    raw_domestic_total_gross_p8.append(raw_dtg)\n",
    "    \n",
    "    raw_releasedate = get_movie_value(soup8,'Release Date')\n",
    "    raw_release_date_p8.append(raw_releasedate)\n",
    "    \n",
    "    raw_run_time = get_movie_value(soup8,'Runtime')\n",
    "    raw_runtime_p8.append(raw_run_time)\n",
    "\n",
    "    rating_string = get_movie_value(soup8,'MPAA Rating')\n",
    "    rating_p8.append(rating_string)\n",
    "    \n",
    "    pro_budget = get_movie_value(soup8, 'Production Budget')\n",
    "    raw_pro_budget_p8.append(pro_budget)"
   ]
  },
  {
   "cell_type": "code",
   "execution_count": 51,
   "metadata": {
    "collapsed": true
   },
   "outputs": [],
   "source": [
    "title_p9 = []\n",
    "raw_domestic_total_gross_p9 = []\n",
    "raw_release_date_p9 = []\n",
    "raw_runtime_p9 = []\n",
    "rating_p9 = []\n",
    "raw_pro_budget_p9 = []\n",
    "find_box1_p9 = []\n",
    "find_box2_p9 = []\n",
    "raw_opening_gross_p9 = []\n",
    "\n",
    "for link in links_p9: \n",
    "    source_code9 = requests.get(link)\n",
    "    soup9=BeautifulSoup(source_code9.text, 'html5lib')\n",
    "    \n",
    "    find_box1_p9.append(find_box1_info(soup9))\n",
    "    find_box2_p9.append(find_box2_info(soup9))\n",
    "    \n",
    "    raw_opening_wknd_gross = find_box1_info(soup9)[0].find_all('td')[1].text\n",
    "    raw_opening_gross_p9.append(raw_opening_wknd_gross)\n",
    "    \n",
    "    title_string = soup9.find('title').text\n",
    "    title_p9.append(title_string.split('(')[0].strip()) \n",
    "    \n",
    "    raw_dtg = get_movie_value(soup9,'Domestic Total')\n",
    "    raw_domestic_total_gross_p9.append(raw_dtg)\n",
    "    \n",
    "    raw_releasedate = get_movie_value(soup9,'Release Date')\n",
    "    raw_release_date_p9.append(raw_releasedate)\n",
    "    \n",
    "    raw_run_time = get_movie_value(soup9,'Runtime')\n",
    "    raw_runtime_p9.append(raw_run_time)\n",
    "\n",
    "    rating_string = get_movie_value(soup9,'MPAA Rating')\n",
    "    rating_p9.append(rating_string)\n",
    "    \n",
    "    pro_budget = get_movie_value(soup9, 'Production Budget')\n",
    "    raw_pro_budget_p9.append(pro_budget)"
   ]
  },
  {
   "cell_type": "code",
   "execution_count": 52,
   "metadata": {
    "collapsed": true
   },
   "outputs": [],
   "source": [
    "%%capture\n",
    "title_p2"
   ]
  },
  {
   "cell_type": "code",
   "execution_count": 53,
   "metadata": {
    "collapsed": true
   },
   "outputs": [],
   "source": [
    "%%capture\n",
    "title_p4"
   ]
  },
  {
   "cell_type": "code",
   "execution_count": 54,
   "metadata": {
    "collapsed": true
   },
   "outputs": [],
   "source": [
    "%%capture\n",
    "title_p5"
   ]
  },
  {
   "cell_type": "code",
   "execution_count": 55,
   "metadata": {
    "collapsed": true
   },
   "outputs": [],
   "source": [
    "%%capture\n",
    "title_p6"
   ]
  },
  {
   "cell_type": "code",
   "execution_count": 56,
   "metadata": {
    "collapsed": true
   },
   "outputs": [],
   "source": [
    "%%capture\n",
    "title_p7"
   ]
  },
  {
   "cell_type": "code",
   "execution_count": 57,
   "metadata": {
    "collapsed": true
   },
   "outputs": [],
   "source": [
    "%%capture\n",
    "title_p8"
   ]
  },
  {
   "cell_type": "code",
   "execution_count": 58,
   "metadata": {
    "collapsed": true
   },
   "outputs": [],
   "source": [
    "%%capture\n",
    "title_p9"
   ]
  },
  {
   "cell_type": "code",
   "execution_count": 59,
   "metadata": {
    "collapsed": true
   },
   "outputs": [],
   "source": [
    "%%capture\n",
    "rating_p2"
   ]
  },
  {
   "cell_type": "code",
   "execution_count": 60,
   "metadata": {
    "collapsed": true
   },
   "outputs": [],
   "source": [
    "%%capture\n",
    "rating_p4"
   ]
  },
  {
   "cell_type": "code",
   "execution_count": 61,
   "metadata": {
    "collapsed": true
   },
   "outputs": [],
   "source": [
    "%%capture\n",
    "rating_p5"
   ]
  },
  {
   "cell_type": "code",
   "execution_count": 62,
   "metadata": {
    "collapsed": true
   },
   "outputs": [],
   "source": [
    "%%capture\n",
    "rating_p6"
   ]
  },
  {
   "cell_type": "code",
   "execution_count": 63,
   "metadata": {
    "collapsed": true
   },
   "outputs": [],
   "source": [
    "%%capture\n",
    "rating_p7"
   ]
  },
  {
   "cell_type": "code",
   "execution_count": 64,
   "metadata": {
    "collapsed": true
   },
   "outputs": [],
   "source": [
    "%%capture\n",
    "rating_p8"
   ]
  },
  {
   "cell_type": "code",
   "execution_count": 65,
   "metadata": {
    "collapsed": true
   },
   "outputs": [],
   "source": [
    "%%capture\n",
    "rating_p9"
   ]
  },
  {
   "cell_type": "code",
   "execution_count": 66,
   "metadata": {
    "collapsed": true
   },
   "outputs": [],
   "source": [
    "%%capture\n",
    "release_date_p2=[]\n",
    "for rd in raw_release_date_p2:\n",
    "    rd = parse(rd)\n",
    "    release_date_p2.append(rd)\n",
    "release_date_p2"
   ]
  },
  {
   "cell_type": "code",
   "execution_count": 67,
   "metadata": {
    "collapsed": true
   },
   "outputs": [],
   "source": [
    "%%capture\n",
    "release_date_p4=[]\n",
    "for rd in raw_release_date_p4:\n",
    "    rd = parse(rd)\n",
    "    release_date_p4.append(rd)\n",
    "release_date_p4"
   ]
  },
  {
   "cell_type": "code",
   "execution_count": 68,
   "metadata": {
    "collapsed": true
   },
   "outputs": [],
   "source": [
    "%%capture\n",
    "release_date_p5=[]\n",
    "for rd in raw_release_date_p5:\n",
    "    rd = parse(rd)\n",
    "    release_date_p5.append(rd)\n",
    "release_date_p5"
   ]
  },
  {
   "cell_type": "code",
   "execution_count": 69,
   "metadata": {
    "collapsed": true
   },
   "outputs": [],
   "source": [
    "%%capture\n",
    "release_date_p6=[]\n",
    "for rd in raw_release_date_p6:\n",
    "    rd = parse(rd)\n",
    "    release_date_p6.append(rd)\n",
    "release_date_p6"
   ]
  },
  {
   "cell_type": "code",
   "execution_count": 70,
   "metadata": {
    "collapsed": true
   },
   "outputs": [],
   "source": [
    "%%capture\n",
    "release_date_p7=[]\n",
    "for rd in raw_release_date_p7:\n",
    "    rd = parse(rd)\n",
    "    release_date_p7.append(rd)\n",
    "release_date_p7"
   ]
  },
  {
   "cell_type": "code",
   "execution_count": 71,
   "metadata": {
    "collapsed": true
   },
   "outputs": [],
   "source": [
    "%%capture\n",
    "release_date_p8=[]\n",
    "for rd in raw_release_date_p8:\n",
    "    rd = parse(rd)\n",
    "    release_date_p8.append(rd)\n",
    "release_date_p8"
   ]
  },
  {
   "cell_type": "code",
   "execution_count": 72,
   "metadata": {
    "collapsed": true
   },
   "outputs": [],
   "source": [
    "%%capture\n",
    "release_date_p9=[]\n",
    "for rd in raw_release_date_p9:\n",
    "    rd = parse(rd)\n",
    "    release_date_p9.append(rd)\n",
    "release_date_p9"
   ]
  },
  {
   "cell_type": "code",
   "execution_count": 73,
   "metadata": {
    "collapsed": true
   },
   "outputs": [],
   "source": [
    "%%capture\n",
    "runtime_p2=[]\n",
    "for rt in raw_runtime_p2: \n",
    "    rt = rt.split()\n",
    "    minutes = int(rt[0])*60 + int(rt[2])\n",
    "    rt = minutes \n",
    "    runtime_p2.append(rt)\n",
    "runtime_p2"
   ]
  },
  {
   "cell_type": "code",
   "execution_count": 74,
   "metadata": {
    "collapsed": true
   },
   "outputs": [],
   "source": [
    "# %%capture\n",
    "runtime_p4=[]\n",
    "for rt in raw_runtime_p4: \n",
    "    if rt == 'N/A':\n",
    "        runtime_p4.append('N/A')\n",
    "    else: \n",
    "        rt = rt.split()\n",
    "        minutes = int(rt[0])*60 + int(rt[2])\n",
    "        rt = minutes \n",
    "        runtime_p4.append(rt)\n",
    "# runtime_p4"
   ]
  },
  {
   "cell_type": "code",
   "execution_count": 75,
   "metadata": {
    "collapsed": true
   },
   "outputs": [],
   "source": [
    "%%capture\n",
    "runtime_p5=[]\n",
    "for rt in raw_runtime_p5: \n",
    "    if rt == 'N/A':\n",
    "        runtime_p5.append('N/A')\n",
    "    else: \n",
    "        rt = rt.split()\n",
    "        minutes = int(rt[0])*60 + int(rt[2])\n",
    "        rt = minutes \n",
    "        runtime_p5.append(rt)\n",
    "runtime_p5        "
   ]
  },
  {
   "cell_type": "code",
   "execution_count": 76,
   "metadata": {
    "collapsed": true
   },
   "outputs": [],
   "source": [
    "%%capture\n",
    "runtime_p6=[]\n",
    "for rt in raw_runtime_p6: \n",
    "    if rt == 'N/A':\n",
    "        runtime_p6.append(None)\n",
    "    else: \n",
    "        rt = rt.split()\n",
    "        minutes = int(rt[0])*60 + int(rt[2])\n",
    "        rt = minutes \n",
    "        runtime_p6.append(rt)\n",
    "runtime_p6 "
   ]
  },
  {
   "cell_type": "code",
   "execution_count": 77,
   "metadata": {
    "collapsed": true
   },
   "outputs": [],
   "source": [
    "%%capture\n",
    "runtime_p7=[]\n",
    "for rt in raw_runtime_p7: \n",
    "    if rt == 'N/A':\n",
    "        runtime_p7.append('N/A')\n",
    "    else: \n",
    "        rt = rt.split()\n",
    "        minutes = int(rt[0])*60 + int(rt[2])\n",
    "        rt = minutes \n",
    "        runtime_p7.append(rt)\n",
    "runtime_p7 "
   ]
  },
  {
   "cell_type": "code",
   "execution_count": 78,
   "metadata": {
    "collapsed": true
   },
   "outputs": [],
   "source": [
    "%%capture\n",
    "runtime_p8=[]\n",
    "for rt in raw_runtime_p8: \n",
    "    if rt == 'N/A':\n",
    "        runtime_p8.append('N/A')\n",
    "    else: \n",
    "        rt = rt.split()\n",
    "        minutes = int(rt[0])*60 + int(rt[2])\n",
    "        rt = minutes \n",
    "        runtime_p8.append(rt)\n",
    "runtime_p8 "
   ]
  },
  {
   "cell_type": "code",
   "execution_count": 79,
   "metadata": {
    "collapsed": true
   },
   "outputs": [],
   "source": [
    "%%capture\n",
    "runtime_p9=[]\n",
    "for rt in raw_runtime_p9: \n",
    "    if rt == 'N/A':\n",
    "        runtime_p9.append('N/A')\n",
    "    else: \n",
    "        rt = rt.split()\n",
    "        minutes = int(rt[0])*60 + int(rt[2])\n",
    "        rt = minutes \n",
    "        runtime_p9.append(rt)\n",
    "runtime_p9 "
   ]
  },
  {
   "cell_type": "code",
   "execution_count": 80,
   "metadata": {
    "collapsed": true
   },
   "outputs": [],
   "source": [
    "%%capture\n",
    "raw_opening_gross_p2[95]= '\\xa0$13,242,895'\n",
    "opening_weekend_gross_p2 = []\n",
    "for row in raw_opening_gross_p2:\n",
    "    row = int(row.strip().replace('$','').replace(',',''))\n",
    "    opening_weekend_gross_p2.append(row)\n",
    "opening_weekend_gross_p2"
   ]
  },
  {
   "cell_type": "code",
   "execution_count": 81,
   "metadata": {
    "collapsed": true
   },
   "outputs": [],
   "source": [
    "%%capture\n",
    "opening_weekend_gross_p4 = []\n",
    "# for i, row in enumerate(raw_opening_gross_p4):\n",
    "#     print(i,row)\n",
    "for row in raw_opening_gross_p4:\n",
    "        row = int(row.strip().replace('$','').replace(',',''))\n",
    "        opening_weekend_gross_p4.append(row)\n",
    "opening_weekend_gross_p4"
   ]
  },
  {
   "cell_type": "code",
   "execution_count": 82,
   "metadata": {
    "collapsed": true
   },
   "outputs": [],
   "source": [
    "%%capture\n",
    "opening_weekend_gross_p5 = []\n",
    "# for i, row in enumerate(raw_opening_gross_p5):\n",
    "#     print(i,row)\n",
    "for row in raw_opening_gross_p5:\n",
    "        row = int(row.strip().replace('$','').replace(',',''))\n",
    "        opening_weekend_gross_p5.append(row)\n",
    "opening_weekend_gross_p5"
   ]
  },
  {
   "cell_type": "code",
   "execution_count": 132,
   "metadata": {
    "collapsed": true
   },
   "outputs": [],
   "source": [
    "%%capture\n",
    "opening_weekend_gross_p6 = []\n",
    "raw_opening_gross_p6[63] = '\\xa0$168,051'\n",
    "for row in raw_opening_gross_p6:\n",
    "        row = int(row.strip().replace('$','').replace(',',''))\n",
    "        opening_weekend_gross_p6.append(row)\n",
    "opening_weekend_gross_p6"
   ]
  },
  {
   "cell_type": "code",
   "execution_count": 84,
   "metadata": {
    "collapsed": true
   },
   "outputs": [],
   "source": [
    "%%capture\n",
    "opening_weekend_gross_p7 = []\n",
    "raw_opening_gross_p7[18] = '\\xa0$143,818'\n",
    "for row in raw_opening_gross_p7:\n",
    "        row = int(row.strip().replace('$','').replace(',',''))\n",
    "        opening_weekend_gross_p7.append(row)\n",
    "opening_weekend_gross_p7"
   ]
  },
  {
   "cell_type": "code",
   "execution_count": 85,
   "metadata": {
    "collapsed": true
   },
   "outputs": [],
   "source": [
    "%%capture\n",
    "opening_weekend_gross_p8 = []\n",
    "for row in raw_opening_gross_p8:\n",
    "        row = int(row.strip().replace('$','').replace(',',''))\n",
    "        opening_weekend_gross_p8.append(row)\n",
    "opening_weekend_gross_p8"
   ]
  },
  {
   "cell_type": "code",
   "execution_count": 86,
   "metadata": {
    "collapsed": true
   },
   "outputs": [],
   "source": [
    "%%capture\n",
    "opening_weekend_gross_p9 = []\n",
    "raw_opening_gross_p9[2] = '\\xa0$2,080,051'\n",
    "for row in raw_opening_gross_p9:\n",
    "        row = int(row.strip().replace('$','').replace(',',''))\n",
    "        opening_weekend_gross_p9.append(row)\n",
    "opening_weekend_gross_p9"
   ]
  },
  {
   "cell_type": "code",
   "execution_count": 87,
   "metadata": {
    "collapsed": true
   },
   "outputs": [],
   "source": [
    "%%capture\n",
    "raw_theater_p2 = []\n",
    "for box in find_box1_p2:\n",
    "    raw_theater_p2.append((box[1].find_all('td')[0].text.split()[2]))\n",
    "raw_theater_p2[95]='3,006'\n",
    "theater_p2 = [int(raw.replace(',','')) for raw in raw_theater_p2]\n",
    "theater_p2"
   ]
  },
  {
   "cell_type": "code",
   "execution_count": 88,
   "metadata": {
    "collapsed": true
   },
   "outputs": [],
   "source": [
    "%%capture\n",
    "raw_theater_p4 = []\n",
    "for box in find_box1_p4:\n",
    "    if len((box[1].find_all('td')[0].text).split()) > 4:\n",
    "        raw_theater_p4.append((box[1].find_all('td')[0].text.split()[2]))\n",
    "    elif len((box[1].find_all('td')[0].text).split()) == 3:\n",
    "        raw_theater_p4.append('0')\n",
    "    else: \n",
    "        raw_theater_p4.append((box[1].find_all('td')[0].text.split()[0]))\n",
    "raw_theater_p4\n",
    "theater_p4 = [int(raw.replace(',','').replace('(','')) for raw in raw_theater_p4]\n",
    "theater_p4"
   ]
  },
  {
   "cell_type": "code",
   "execution_count": 89,
   "metadata": {
    "collapsed": true
   },
   "outputs": [],
   "source": [
    "%%capture\n",
    "raw_theater_p5 = []\n",
    "for box in find_box1_p5:\n",
    "    if len((box[1].find_all('td')[0].text).split()) > 4:\n",
    "        raw_theater_p5.append((box[1].find_all('td')[0].text.split()[2]))\n",
    "    elif len((box[1].find_all('td')[0].text).split()) == 3:\n",
    "        raw_theater_p5.append('0')\n",
    "    else: \n",
    "        raw_theater_p5.append((box[1].find_all('td')[0].text.split()[0]))\n",
    "raw_theater_p5\n",
    "theater_p5 = [int(raw.replace(',','').replace('(','')) for raw in raw_theater_p5]\n",
    "theater_p5"
   ]
  },
  {
   "cell_type": "code",
   "execution_count": 90,
   "metadata": {
    "collapsed": true
   },
   "outputs": [],
   "source": [
    "%%capture\n",
    "raw_theater_p6 = []\n",
    "for box in find_box1_p6:\n",
    "    if len((box[1].find_all('td')[0].text).split()) > 4:\n",
    "        raw_theater_p6.append((box[1].find_all('td')[0].text.split()[2]))\n",
    "    elif len((box[1].find_all('td')[0].text).split()) == 3:\n",
    "        raw_theater_p6.append('0')\n",
    "    else: \n",
    "        raw_theater_p6.append((box[1].find_all('td')[0].text.split()[0]))\n",
    "raw_theater_p6\n",
    "theater_p6 = [int(raw.replace(',','').replace('(','')) for raw in raw_theater_p6]\n",
    "theater_p6"
   ]
  },
  {
   "cell_type": "code",
   "execution_count": 91,
   "metadata": {
    "collapsed": true
   },
   "outputs": [],
   "source": [
    "%%capture\n",
    "raw_theater_p7 = []\n",
    "for box in find_box1_p7:\n",
    "    if len((box[1].find_all('td')[0].text).split()) > 4:\n",
    "        raw_theater_p7.append((box[1].find_all('td')[0].text.split()[2]))\n",
    "    elif len((box[1].find_all('td')[0].text).split()) == 3:\n",
    "        raw_theater_p7.append('0')\n",
    "    else: \n",
    "        raw_theater_p7.append((box[1].find_all('td')[0].text.split()[0]))\n",
    "raw_theater_p7\n",
    "theater_p7 = [int(raw.replace(',','').replace('(','')) for raw in raw_theater_p7]\n",
    "theater_p7"
   ]
  },
  {
   "cell_type": "code",
   "execution_count": 92,
   "metadata": {
    "collapsed": true
   },
   "outputs": [],
   "source": [
    "%%capture\n",
    "raw_theater_p8 = []\n",
    "for box in find_box1_p8:\n",
    "    if len((box[1].find_all('td')[0].text).split()) > 4:\n",
    "        raw_theater_p8.append((box[1].find_all('td')[0].text.split()[2]))\n",
    "    elif len((box[1].find_all('td')[0].text).split()) == 3:\n",
    "        raw_theater_p8.append('0')\n",
    "    else: \n",
    "        raw_theater_p8.append((box[1].find_all('td')[0].text.split()[0]))\n",
    "raw_theater_p8\n",
    "theater_p8 = [int(raw.replace(',','').replace('(','')) for raw in raw_theater_p8]\n",
    "theater_p8"
   ]
  },
  {
   "cell_type": "code",
   "execution_count": 93,
   "metadata": {
    "collapsed": true
   },
   "outputs": [],
   "source": [
    "%%capture\n",
    "raw_theater_p9 = []\n",
    "for box in find_box1_p9:\n",
    "    if len((box[1].find_all('td')[0].text).split()) > 4:\n",
    "        raw_theater_p9.append((box[1].find_all('td')[0].text.split()[2]))\n",
    "    elif len((box[1].find_all('td')[0].text).split()) == 3:\n",
    "        raw_theater_p9.append('0')\n",
    "    else: \n",
    "        raw_theater_p9.append((box[1].find_all('td')[0].text.split()[0]))\n",
    "raw_theater_p9\n",
    "theater_p9 = [int(raw.replace(',','').replace('(','')) for raw in raw_theater_p9]\n",
    "theater_p9"
   ]
  },
  {
   "cell_type": "code",
   "execution_count": 94,
   "metadata": {
    "collapsed": true
   },
   "outputs": [],
   "source": [
    "%%capture\n",
    "domestic_total_gross_p2 = []\n",
    "for dtg in raw_domestic_total_gross_p2:\n",
    "    if dtg == None: \n",
    "        pass \n",
    "    else: \n",
    "        dtg = dtg.replace('$', '').replace(',', '')\n",
    "        dtg = int(dtg)\n",
    "    domestic_total_gross_p2.append(dtg)\n",
    "domestic_total_gross_p2[38] = int(84651983)  \n",
    "domestic_total_gross_p2[53] = int(73863410)\n",
    "domestic_total_gross_p2[78] = int(51871619)\n",
    "domestic_total_gross_p2[87] = int(46262620)\n",
    "domestic_total_gross_p2"
   ]
  },
  {
   "cell_type": "code",
   "execution_count": 95,
   "metadata": {
    "collapsed": true
   },
   "outputs": [],
   "source": [
    "%%capture\n",
    "domestic_total_gross_p4 = []\n",
    "for dtg in raw_domestic_total_gross_p4:\n",
    "    if dtg == None: \n",
    "        pass \n",
    "    else: \n",
    "        dtg = dtg.replace('$', '').replace(',', '')\n",
    "        dtg = int(dtg)\n",
    "    domestic_total_gross_p4.append(dtg)\n",
    "domestic_total_gross_p4"
   ]
  },
  {
   "cell_type": "code",
   "execution_count": 96,
   "metadata": {
    "collapsed": true
   },
   "outputs": [],
   "source": [
    "%%capture\n",
    "domestic_total_gross_p5 = []\n",
    "for dtg in raw_domestic_total_gross_p5:\n",
    "    if dtg == None: \n",
    "        pass \n",
    "    else: \n",
    "        dtg = dtg.replace('$', '').replace(',', '')\n",
    "        dtg = int(dtg)\n",
    "    domestic_total_gross_p5.append(dtg)\n",
    "domestic_total_gross_p5"
   ]
  },
  {
   "cell_type": "code",
   "execution_count": 97,
   "metadata": {
    "collapsed": true
   },
   "outputs": [],
   "source": [
    "%%capture\n",
    "domestic_total_gross_p6 = []\n",
    "for dtg in raw_domestic_total_gross_p6:\n",
    "    if dtg == None: \n",
    "        pass \n",
    "    else: \n",
    "        dtg = dtg.replace('$', '').replace(',', '')\n",
    "        dtg = int(dtg)\n",
    "    domestic_total_gross_p6.append(dtg)\n",
    "domestic_total_gross_p6"
   ]
  },
  {
   "cell_type": "code",
   "execution_count": 98,
   "metadata": {
    "collapsed": true
   },
   "outputs": [],
   "source": [
    "%%capture\n",
    "domestic_total_gross_p7 = []\n",
    "for dtg in raw_domestic_total_gross_p7:\n",
    "    if dtg == None: \n",
    "        pass \n",
    "    else: \n",
    "        dtg = dtg.replace('$', '').replace(',', '')\n",
    "        dtg = int(dtg)\n",
    "    domestic_total_gross_p7.append(dtg)\n",
    "domestic_total_gross_p7"
   ]
  },
  {
   "cell_type": "code",
   "execution_count": 99,
   "metadata": {
    "collapsed": true
   },
   "outputs": [],
   "source": [
    "%%capture\n",
    "domestic_total_gross_p8 = []\n",
    "raw_domestic_total_gross_p8[0] = '$51,573,925'\n",
    "raw_domestic_total_gross_p8[1] = '$412,080,447'\n",
    "for dtg in raw_domestic_total_gross_p8:\n",
    "    if dtg == None: \n",
    "        pass \n",
    "    else: \n",
    "        dtg = dtg.replace('$', '').replace(',', '')\n",
    "        dtg = int(dtg)\n",
    "    domestic_total_gross_p8.append(dtg)\n",
    "domestic_total_gross_p8"
   ]
  },
  {
   "cell_type": "code",
   "execution_count": 100,
   "metadata": {
    "collapsed": true
   },
   "outputs": [],
   "source": [
    "%%capture\n",
    "domestic_total_gross_p9 = []\n",
    "raw_domestic_total_gross_p9[0] = '$50,430,148'\n",
    "for dtg in raw_domestic_total_gross_p9:\n",
    "    if dtg == None: \n",
    "        pass \n",
    "    else: \n",
    "        dtg = dtg.replace('$', '').replace(',', '')\n",
    "        dtg = int(dtg)\n",
    "    domestic_total_gross_p9.append(dtg)\n",
    "domestic_total_gross_p9"
   ]
  },
  {
   "cell_type": "code",
   "execution_count": 101,
   "metadata": {
    "collapsed": true
   },
   "outputs": [],
   "source": [
    "%%capture\n",
    "##################FLAG:Tim Burton's The Nightmare Before Christmas is DUPLICATED!!#############\n",
    "prod_budget_p2 = []\n",
    "for budget in raw_pro_budget_p2: \n",
    "    if budget == 'N/A':\n",
    "        pass\n",
    "    else: \n",
    "        budget = int(budget.split()[0].replace('$','')) \n",
    "    prod_budget_p2.append(budget)\n",
    "prod_budget_p2[12]=int(175)\n",
    "prod_budget_p2[33]=int(36)\n",
    "prod_budget_p2[35]=int(150)\n",
    "prod_budget_p2[46]=int(135)\n",
    "prod_budget_p2[50]=int(18)\n",
    "prod_budget_p2[51]=int(18)\n",
    "prod_budget_p2[52]=int(180)\n",
    "prod_budget_p2[63]=int(7)\n",
    "prod_budget_p2[68]=int(135)\n",
    "prod_budget_p2[86]=int(100)\n",
    "prod_budget_p2[87]=int(1)\n",
    "prod_budget_p2[89]=int(18)\n",
    "production_budget_p2 = []\n",
    "for i in prod_budget_p2:\n",
    "    if i == 'N/A':\n",
    "        pass\n",
    "    else: \n",
    "        i = int(i*1000000)\n",
    "    production_budget_p2.append(i)"
   ]
  },
  {
   "cell_type": "code",
   "execution_count": 102,
   "metadata": {
    "collapsed": true
   },
   "outputs": [],
   "source": [
    "%%capture\n",
    "prod_budget_p4 = []\n",
    "\n",
    "for budget in raw_pro_budget_p4: \n",
    "    if budget == 'N/A':\n",
    "        pass\n",
    "    else: \n",
    "        budget = float(budget.split()[0].replace('$','')) \n",
    "    prod_budget_p4.append(budget)\n",
    "# for i, raw in enumerate(prod_budget_p4):\n",
    "#     print(i,raw)\n",
    "production_budget_p4 = []\n",
    "for i in prod_budget_p4:\n",
    "    if i == 'N/A':\n",
    "        pass\n",
    "    else:\n",
    "        i = int(i*1000000)\n",
    "    production_budget_p4.append(i)\n",
    "production_budget_p4"
   ]
  },
  {
   "cell_type": "code",
   "execution_count": 103,
   "metadata": {
    "collapsed": true
   },
   "outputs": [],
   "source": [
    "%%capture\n",
    "prod_budget_p5 = []\n",
    "for budget in raw_pro_budget_p5: \n",
    "    if budget == 'N/A':\n",
    "        pass\n",
    "    elif budget == '$1,000,000':\n",
    "        budget = int(1)\n",
    "    else: \n",
    "        budget = int(budget.split()[0].replace('$','')) \n",
    "    prod_budget_p5.append(budget)\n",
    "production_budget_p5 = []\n",
    "for i in prod_budget_p5:\n",
    "    if i == 'N/A':\n",
    "        pass\n",
    "    else:\n",
    "        i = int(i*1000000)\n",
    "    production_budget_p5.append(i)\n",
    "production_budget_p5   "
   ]
  },
  {
   "cell_type": "code",
   "execution_count": 104,
   "metadata": {
    "collapsed": true
   },
   "outputs": [],
   "source": [
    "%%capture\n",
    "prod_budget_p6 = []\n",
    "raw_pro_budget_p6[51] = '$1 million'\n",
    "for budget in raw_pro_budget_p6: \n",
    "    if budget == 'N/A':\n",
    "        pass\n",
    "    else: \n",
    "        budget = float(budget.split()[0].replace('$','')) \n",
    "    prod_budget_p6.append(budget)\n",
    "production_budget_p6 = []\n",
    "for i in prod_budget_p6:\n",
    "    if i == 'N/A':\n",
    "        pass\n",
    "    else:\n",
    "        i = int(i*1000000)\n",
    "    production_budget_p6.append(i)\n",
    "production_budget_p6"
   ]
  },
  {
   "cell_type": "code",
   "execution_count": 105,
   "metadata": {
    "collapsed": true
   },
   "outputs": [],
   "source": [
    "%%capture\n",
    "prod_budget_p7 = []\n",
    "for budget in raw_pro_budget_p7: \n",
    "    if budget == 'N/A':\n",
    "        pass\n",
    "    else: \n",
    "        budget = int(budget.split()[0].replace('$','')) \n",
    "    prod_budget_p7.append(budget)\n",
    "production_budget_p7 = []\n",
    "for i in prod_budget_p7:\n",
    "    if i == 'N/A':\n",
    "        pass\n",
    "    else:\n",
    "        i = int(i*1000000)\n",
    "    production_budget_p7.append(i)\n",
    "production_budget_p7"
   ]
  },
  {
   "cell_type": "code",
   "execution_count": 106,
   "metadata": {
    "collapsed": true
   },
   "outputs": [],
   "source": [
    "%%capture\n",
    "prod_budget_p8 = []\n",
    "for budget in raw_pro_budget_p8: \n",
    "    if budget == 'N/A':\n",
    "        pass\n",
    "    else: \n",
    "        budget = int(budget.split()[0].replace('$','')) \n",
    "    prod_budget_p8.append(budget)\n",
    "production_budget_p8 = []\n",
    "for i in prod_budget_p8:\n",
    "    if i == 'N/A':\n",
    "        pass\n",
    "    else:\n",
    "        i = int(i*1000000)\n",
    "    production_budget_p8.append(i)\n",
    "production_budget_p8"
   ]
  },
  {
   "cell_type": "code",
   "execution_count": 107,
   "metadata": {
    "collapsed": true
   },
   "outputs": [],
   "source": [
    "%%capture\n",
    "prod_budget_p9 = []\n",
    "for budget in raw_pro_budget_p9: \n",
    "    if budget == 'N/A':\n",
    "        pass\n",
    "    else: \n",
    "        budget = int(budget.split()[0].replace('$','')) \n",
    "    prod_budget_p9.append(budget)\n",
    "production_budget_p9 = []\n",
    "for i in prod_budget_p9:\n",
    "    if i == 'N/A':\n",
    "        pass\n",
    "    else:\n",
    "        i = int(i*1000000)\n",
    "    production_budget_p9.append(i)\n",
    "production_budget_p9"
   ]
  },
  {
   "cell_type": "code",
   "execution_count": 108,
   "metadata": {
    "collapsed": true
   },
   "outputs": [],
   "source": [
    "%%capture\n",
    "raw_directors_p2=[]\n",
    "for box in find_box2_p2:\n",
    "    raw_directors_p2.append(box[0].text)\n",
    "raw_directors_p2[0] = 'Directors:Mark Dindal'\n",
    "raw_directors_p2[5] = 'Directors:Steve Martino'\n",
    "raw_directors_p2[14] = 'Director:Cody CameronKris Pearn'\n",
    "raw_directors_p2[15] = 'Directors:Hoyt Yeatman'\n",
    "raw_directors_p2[29] = 'Director:Eric Brevig'\n",
    "raw_directors_p2[30] = 'Directors:Eric Brevig'\n",
    "raw_directors_p2[35] = 'Director:Stephen Anderson'\n",
    "raw_directors_p2[38] = 'Directors:Tony Leondis'\n",
    "raw_directors_p2[48] = 'Director:David Lowery'\n",
    "raw_directors_p2[50] = 'Director:Henry Selick'\n",
    "raw_directors_p2[51] = 'Director:Henry Selick'\n",
    "raw_directors_p2[63] = 'Directors:Bruce Hendricks'\n",
    "raw_directors_p2[78] = 'Director:Toni Myers'\n",
    "raw_directors_p2[87] = 'Director:Howard Hall'\n",
    "raw_directors_p2[88] = 'Director:Kevin Greutert'\n",
    "raw_directors_p2[89] = 'Directors:Joe Alves'\n",
    "raw_directors_p2 = [str(raw.split(':')[1]) for raw in raw_directors_p2]\n",
    "directors_p2 = []\n",
    "for a in raw_directors_p2:\n",
    "    a = re.findall('[A-Z][^A-Z]*', a)\n",
    "    directors_p2.append(a) \n",
    "directors_p2 = [[name.strip().replace(' ','').replace(')','').replace('(','') for name in d] for d in directors_p2] \n",
    "directors_p2"
   ]
  },
  {
   "cell_type": "code",
   "execution_count": 158,
   "metadata": {},
   "outputs": [
    {
     "name": "stdout",
     "output_type": "stream",
     "text": [
      "<class 'str'>\n",
      "<class 'str'>\n",
      "<class 'str'>\n",
      "<class 'str'>\n",
      "<class 'str'>\n",
      "<class 'str'>\n",
      "<class 'str'>\n",
      "<class 'str'>\n",
      "<class 'str'>\n",
      "<class 'str'>\n",
      "<class 'str'>\n",
      "<class 'str'>\n",
      "<class 'str'>\n",
      "<class 'str'>\n",
      "<class 'str'>\n",
      "<class 'str'>\n",
      "<class 'str'>\n",
      "<class 'str'>\n",
      "<class 'str'>\n",
      "<class 'str'>\n"
     ]
    }
   ],
   "source": [
    "# %%capture\n",
    "raw_directors_p4=[]\n",
    "directors_p4=[]\n",
    "for box in find_box2_p4:\n",
    "    raw_directors_p4.append(box[0].text)\n",
    "for raw in raw_directors_p4:\n",
    "    if not raw.startswith('Director'):\n",
    "        raw = 'Directors:N/A'\n",
    "        directors_p4.append(raw)\n",
    "    else:\n",
    "        directors_p4.append(raw)\n",
    "directors_p4 = [str(raw.split(':')[1]) for raw in directors_p4]\n",
    "for i in directors_p4:\n",
    "    print(type(i))"
   ]
  },
  {
   "cell_type": "code",
   "execution_count": 159,
   "metadata": {},
   "outputs": [
    {
     "name": "stdout",
     "output_type": "stream",
     "text": [
      "<class 'str'>\n",
      "<class 'str'>\n",
      "<class 'str'>\n",
      "<class 'str'>\n",
      "<class 'str'>\n",
      "<class 'str'>\n",
      "<class 'str'>\n",
      "<class 'str'>\n",
      "<class 'str'>\n",
      "<class 'str'>\n",
      "<class 'str'>\n",
      "<class 'str'>\n",
      "<class 'str'>\n",
      "<class 'str'>\n",
      "<class 'str'>\n"
     ]
    }
   ],
   "source": [
    "# %%capture\n",
    "raw_directors_p5=[]\n",
    "directors_p5=[]\n",
    "for box in find_box2_p5:\n",
    "    raw_directors_p5.append(box[0].text)\n",
    "for raw in raw_directors_p5:\n",
    "    if not raw.startswith('Director'):\n",
    "        raw = 'Directors:N/A'\n",
    "        directors_p5.append(raw)\n",
    "    else:\n",
    "        directors_p5.append(raw)\n",
    "directors_p5 = [str(raw.split(':')[1]) for raw in directors_p5]\n",
    "for i in directors_p5:\n",
    "    print(type(i))"
   ]
  },
  {
   "cell_type": "code",
   "execution_count": 160,
   "metadata": {},
   "outputs": [
    {
     "name": "stdout",
     "output_type": "stream",
     "text": [
      "<class 'str'>\n",
      "<class 'str'>\n",
      "<class 'str'>\n",
      "<class 'str'>\n",
      "<class 'str'>\n",
      "<class 'str'>\n",
      "<class 'str'>\n",
      "<class 'str'>\n",
      "<class 'str'>\n",
      "<class 'str'>\n",
      "<class 'str'>\n",
      "<class 'str'>\n",
      "<class 'str'>\n",
      "<class 'str'>\n",
      "<class 'str'>\n",
      "<class 'str'>\n",
      "<class 'str'>\n",
      "<class 'str'>\n",
      "<class 'str'>\n",
      "<class 'str'>\n",
      "<class 'str'>\n",
      "<class 'str'>\n",
      "<class 'str'>\n",
      "<class 'str'>\n",
      "<class 'str'>\n",
      "<class 'str'>\n",
      "<class 'str'>\n",
      "<class 'str'>\n",
      "<class 'str'>\n",
      "<class 'str'>\n",
      "<class 'str'>\n",
      "<class 'str'>\n",
      "<class 'str'>\n",
      "<class 'str'>\n",
      "<class 'str'>\n",
      "<class 'str'>\n",
      "<class 'str'>\n",
      "<class 'str'>\n",
      "<class 'str'>\n",
      "<class 'str'>\n",
      "<class 'str'>\n",
      "<class 'str'>\n",
      "<class 'str'>\n",
      "<class 'str'>\n",
      "<class 'str'>\n",
      "<class 'str'>\n",
      "<class 'str'>\n",
      "<class 'str'>\n",
      "<class 'str'>\n",
      "<class 'str'>\n",
      "<class 'str'>\n",
      "<class 'str'>\n",
      "<class 'str'>\n",
      "<class 'str'>\n",
      "<class 'str'>\n",
      "<class 'str'>\n",
      "<class 'str'>\n",
      "<class 'str'>\n",
      "<class 'str'>\n",
      "<class 'str'>\n",
      "<class 'str'>\n",
      "<class 'str'>\n",
      "<class 'str'>\n",
      "<class 'str'>\n",
      "<class 'str'>\n",
      "<class 'str'>\n"
     ]
    }
   ],
   "source": [
    "# %%capture\n",
    "raw_directors_p6=[]\n",
    "directors_p6=[]\n",
    "for box in find_box2_p6:\n",
    "    raw_directors_p6.append(box[0].text)\n",
    "for raw in raw_directors_p6:\n",
    "    if not raw.startswith('Director'):\n",
    "        raw = 'Directors:N/A'\n",
    "        directors_p6.append(raw)\n",
    "    else:\n",
    "        directors_p6.append(raw)\n",
    "directors_p6 = [str(raw.split(':')[1]) for raw in directors_p6]\n",
    "for i in directors_p6:\n",
    "    print(type(i))"
   ]
  },
  {
   "cell_type": "code",
   "execution_count": 162,
   "metadata": {},
   "outputs": [
    {
     "name": "stdout",
     "output_type": "stream",
     "text": [
      "<class 'str'>\n",
      "<class 'str'>\n",
      "<class 'str'>\n",
      "<class 'str'>\n",
      "<class 'str'>\n",
      "<class 'str'>\n",
      "<class 'str'>\n",
      "<class 'str'>\n",
      "<class 'str'>\n",
      "<class 'str'>\n",
      "<class 'str'>\n",
      "<class 'str'>\n",
      "<class 'str'>\n",
      "<class 'str'>\n",
      "<class 'str'>\n",
      "<class 'str'>\n",
      "<class 'str'>\n",
      "<class 'str'>\n",
      "<class 'str'>\n",
      "<class 'str'>\n",
      "<class 'str'>\n",
      "<class 'str'>\n",
      "<class 'str'>\n",
      "<class 'str'>\n",
      "<class 'str'>\n"
     ]
    }
   ],
   "source": [
    "# %%capture\n",
    "raw_directors_p7=[]\n",
    "directors_p7=[]\n",
    "for box in find_box2_p7:\n",
    "    raw_directors_p7.append(box[0].text)\n",
    "for raw in raw_directors_p7:\n",
    "    if not raw.startswith('Director'):\n",
    "        raw = 'Directors:N/A'\n",
    "        directors_p7.append(raw)\n",
    "    else:\n",
    "        directors_p7.append(raw)\n",
    "directors_p7 = [str(raw.split(':')[1]) for raw in directors_p7]\n",
    "for i in directors_p7:\n",
    "    print(type(i))"
   ]
  },
  {
   "cell_type": "code",
   "execution_count": 163,
   "metadata": {},
   "outputs": [
    {
     "name": "stdout",
     "output_type": "stream",
     "text": [
      "<class 'str'>\n",
      "<class 'str'>\n",
      "<class 'str'>\n",
      "<class 'str'>\n",
      "<class 'str'>\n",
      "<class 'str'>\n",
      "<class 'str'>\n",
      "<class 'str'>\n",
      "<class 'str'>\n",
      "<class 'str'>\n",
      "<class 'str'>\n",
      "<class 'str'>\n",
      "<class 'str'>\n",
      "<class 'str'>\n",
      "<class 'str'>\n",
      "<class 'str'>\n",
      "<class 'str'>\n",
      "<class 'str'>\n",
      "<class 'str'>\n",
      "<class 'str'>\n",
      "<class 'str'>\n",
      "<class 'str'>\n",
      "<class 'str'>\n",
      "<class 'str'>\n"
     ]
    }
   ],
   "source": [
    "# %%capture\n",
    "raw_directors_p8=[]\n",
    "directors_p8=[]\n",
    "for box in find_box2_p8:\n",
    "    raw_directors_p8.append(box[0].text)\n",
    "for raw in raw_directors_p8:\n",
    "    if not raw.startswith('Director'):\n",
    "        raw = 'Directors:N/A'\n",
    "        directors_p8.append(raw)\n",
    "    else:\n",
    "        directors_p8.append(raw)\n",
    "directors_p8 = [str(raw.split(':')[1]) for raw in directors_p8]\n",
    "for i in directors_p8:\n",
    "    print(type(i))"
   ]
  },
  {
   "cell_type": "code",
   "execution_count": 167,
   "metadata": {
    "collapsed": true
   },
   "outputs": [],
   "source": [
    "# %%capture\n",
    "raw_directors_p9=[]\n",
    "directors_p9=[]\n",
    "for box in find_box2_p9:\n",
    "    raw_directors_p9.append(box[0].text)\n",
    "for raw in raw_directors_p9:\n",
    "    if not raw.startswith('Director'):\n",
    "        raw = 'Directors:N/A'\n",
    "        directors_p9.append(raw)\n",
    "    else:\n",
    "        directors_p9.append(raw)\n",
    "directors_p9 = [str(raw.split(':')[1]) for raw in directors_p9]"
   ]
  },
  {
   "cell_type": "code",
   "execution_count": 115,
   "metadata": {
    "collapsed": true
   },
   "outputs": [],
   "source": [
    "%%capture\n",
    "raw_actors_p2 = []\n",
    "for box in find_box2_p2:\n",
    "    if len(box) > 3: \n",
    "        raw_actors_p2.append(box[2].text)\n",
    "    elif len(box) == 3: \n",
    "        raw_actors_p2.append(box[1].text)\n",
    "    elif len(box) == 2: \n",
    "        raw_actors_p2.append(box[1].text)\n",
    "    else: \n",
    "        raw_actors_p2.append(box[0].text)\n",
    "raw_actors_p2[0]= 'Actors:Animation'\n",
    "raw_actors_p2[5]= 'Actors:Animation'\n",
    "raw_actors_p2[6]= 'Actors:Mark Wahlberg Anthony Hopkins Josh Duhamel Stanley Tucci'\n",
    "raw_actors_p2[14]= 'Actors:Animation'\n",
    "raw_actors_p2[15]= 'Actors:Animation'\n",
    "raw_actors_p2[29]= 'Actors:Brendan Fraser Josh Hutcherson'\n",
    "raw_actors_p2[33]= 'Actors:Animation'\n",
    "raw_actors_p2[35]= 'Actors:Animation'\n",
    "raw_actors_p2[40]= 'Actors:Henry Cavill Stephen Dorff Isabel Lucas Freida Pinto Luke Evans Kellan Lutz John Hurt Mickey Rourke'\n",
    "raw_actors_p2[41]= 'Actors:Animation'\n",
    "raw_actors_p2[50]= 'Actors:Animation'\n",
    "raw_actors_p2[51]= 'Actors:Animation'\n",
    "raw_actors_p2[53]= 'Actors:Ben Kingsley Chloe Moretz Sacha Baron Cohen Jude Law Emily Mortimer* Christopher Lee* Richard Griffiths* Ray Winstone*'\n",
    "raw_actors_p2[54]= 'Actors:Animation'\n",
    "raw_actors_p2[56]= 'Actors:Justin Bieber'\n",
    "raw_actors_p2[62]= 'Actors:Devon Sawa Ali Larter Kerr Smith Kristen Cloke Daniel Roebuck'\n",
    "raw_actors_p2[71]= 'Actors:Animation'\n",
    "raw_actors_p2[77]= 'Actors:Animation'\n",
    "raw_actors_p2[78]= 'Actors:Leonardo DiCaprio*'\n",
    "raw_actors_p2[80]= 'Actors:Tom Hanniger Sarah Palmer Megan Boone'\n",
    "raw_actors_p2[87]= 'Actors:Animation'\n",
    "raw_actors_p2[98]= 'Actors:Alyson Stoner Harry Shum Jr Sharni Vinson'\n",
    "raw_actors_p2 = [str(raw.split(':')[1]) for raw in raw_actors_p2]\n",
    "raw_actors_p2"
   ]
  },
  {
   "cell_type": "code",
   "execution_count": 116,
   "metadata": {
    "collapsed": true
   },
   "outputs": [],
   "source": [
    "%%capture\n",
    "for i, raw in enumerate(raw_actors_p2):\n",
    "    if raw.count('(Voice)') > len(raw.split())/3:\n",
    "        raw_actors_p2[i] = \"Animation\"\n",
    "raw_actors_p2[64] = 'Ewen BremnerWarwick DavisNicholas HoultEleanor TomlinsonEwan McGregorStanley TucciEddie MarsanIan'\n",
    "raw_actors_p2[93] = 'Christina ApplegateMichael'\n",
    "raw_actors_p2"
   ]
  },
  {
   "cell_type": "code",
   "execution_count": 117,
   "metadata": {
    "collapsed": true
   },
   "outputs": [],
   "source": [
    "%%capture\n",
    "actors_p2 = []\n",
    "for a in raw_actors_p2:\n",
    "    a = re.findall('[A-Z][^A-Z]*', a)\n",
    "    actors_p2.append(a)   \n",
    "actors_p2 = [[name.strip().replace('*','').replace(' ','').replace('(','').replace('Voice)','').replace(')','') for name in actor] for actor in actors_p2] \n",
    "actors_p2"
   ]
  },
  {
   "cell_type": "code",
   "execution_count": 118,
   "metadata": {
    "collapsed": true
   },
   "outputs": [],
   "source": [
    "# %%capture\n",
    "raw_actors_p4 = []\n",
    "actors_p4 = []\n",
    "actorss_p4 =[]\n",
    "\n",
    "for box in find_box2_p4:\n",
    "    if len(box) > 3: \n",
    "        raw_actors_p4.append(box[2].text)\n",
    "    elif len(box) == 3: \n",
    "        raw_actors_p4.append(box[1].text)\n",
    "    elif len(box) == 2: \n",
    "        raw_actors_p4.append(box[1].text)\n",
    "    else: \n",
    "        raw_actors_p4.append(box[0].text)\n",
    "\n",
    "for raw in raw_actors_p4:\n",
    "    if not raw.startswith('Actor'):\n",
    "        raw = \"Actor:N/a\"\n",
    "        actorss_p4.append(raw)\n",
    "    else:\n",
    "        actorss_p4.append(raw)\n",
    "actorss_p4 = [raw.split(':')[1] for raw in actorss_p4]"
   ]
  },
  {
   "cell_type": "code",
   "execution_count": 119,
   "metadata": {
    "collapsed": true
   },
   "outputs": [],
   "source": [
    "%%capture\n",
    "for a in actorss_p4:\n",
    "    a = re.findall('[A-Z][^A-Z]*', a)\n",
    "    actors_p4.append(a)   \n",
    "actors_p4 = [[name.strip().replace('*','').replace(' ','').replace('(','').replace('(Cameo)','').replace(')','') for name in actor] for actor in actors_p4] \n",
    "actors_p4"
   ]
  },
  {
   "cell_type": "code",
   "execution_count": 120,
   "metadata": {
    "collapsed": true
   },
   "outputs": [],
   "source": [
    "%%capture\n",
    "raw_actors_p5 = []\n",
    "actors_p5 = []\n",
    "actorss_p5 = []\n",
    "for box in find_box2_p5:\n",
    "    if len(box) > 3: \n",
    "        raw_actors_p5.append(box[2].text)\n",
    "    elif len(box) == 3: \n",
    "        raw_actors_p5.append(box[1].text)\n",
    "    elif len(box) == 2: \n",
    "        raw_actors_p5.append(box[1].text)\n",
    "    else: \n",
    "        raw_actors_p5.append(box[0].text)\n",
    "for raw in raw_actors_p5:\n",
    "    if not raw.startswith('Actor'):\n",
    "        raw = \"Actor:N/a\"\n",
    "        actorss_p5.append(raw)\n",
    "    else:\n",
    "        actorss_p5.append(raw)\n",
    "actorss_p5 = [str(raw.split(':')[1]) for raw in actorss_p5]\n",
    "actorss_p5"
   ]
  },
  {
   "cell_type": "code",
   "execution_count": 121,
   "metadata": {
    "collapsed": true
   },
   "outputs": [],
   "source": [
    "%%capture\n",
    "for a in actorss_p5:\n",
    "    a = re.findall('[A-Z][^A-Z]*', a)\n",
    "    actors_p5.append(a)   \n",
    "actors_p5 = ([[name.strip().replace('*','')\n",
    "               .replace(' ','').replace('(','')\n",
    "               .replace('(Cameo)','').replace('Voice)','')\n",
    "               .replace(')','') for name in actor\n",
    "              ] for actor in actors_p5])\n",
    "actors_p5"
   ]
  },
  {
   "cell_type": "code",
   "execution_count": 122,
   "metadata": {
    "collapsed": true
   },
   "outputs": [],
   "source": [
    "%%capture\n",
    "raw_actors_p6 = []\n",
    "actors_p6 = []\n",
    "actorss_p6 = []\n",
    "for box in find_box2_p6:\n",
    "    if len(box) > 3: \n",
    "        raw_actors_p6.append(box[2].text)\n",
    "    elif len(box) == 3: \n",
    "        raw_actors_p6.append(box[1].text)\n",
    "    elif len(box) == 2: \n",
    "        raw_actors_p6.append(box[1].text)\n",
    "    else: \n",
    "        raw_actors_p6.append(box[0].text)\n",
    "for raw in raw_actors_p6:\n",
    "    if not raw.startswith('Actor'):\n",
    "        raw = \"Actor:N/a\"\n",
    "        actorss_p6.append(raw)\n",
    "    else:\n",
    "        actorss_p6.append(raw)\n",
    "actorss_p6 = [str(raw.split(':')[1]) for raw in actorss_p6]\n",
    "actorss_p6"
   ]
  },
  {
   "cell_type": "code",
   "execution_count": 123,
   "metadata": {
    "collapsed": true
   },
   "outputs": [],
   "source": [
    "%%capture\n",
    "for a in actorss_p6:\n",
    "    a = re.findall('[A-Z][^A-Z]*', a)\n",
    "    actors_p6.append(a)   \n",
    "actors_p6 = ([[name.strip().replace('*','')\n",
    "               .replace(' ','').replace('(','')\n",
    "               .replace('(Cameo)','').replace('Voice)','')\n",
    "               .replace(')','') for name in actor\n",
    "              ] for actor in actors_p6])\n",
    "actors_p6"
   ]
  },
  {
   "cell_type": "code",
   "execution_count": 124,
   "metadata": {
    "collapsed": true
   },
   "outputs": [],
   "source": [
    "%%capture\n",
    "raw_actors_p7 = []\n",
    "actors_p7 = []\n",
    "actorss_p7 = []\n",
    "for box in find_box2_p7:\n",
    "    if len(box) > 3: \n",
    "        raw_actors_p7.append(box[2].text)\n",
    "    elif len(box) == 3: \n",
    "        raw_actors_p7.append(box[1].text)\n",
    "    elif len(box) == 2: \n",
    "        raw_actors_p7.append(box[1].text)\n",
    "    else: \n",
    "        raw_actors_p7.append(box[0].text)\n",
    "for raw in raw_actors_p7:\n",
    "    if not raw.startswith('Actor'):\n",
    "        raw = \"Actor:N/a\"\n",
    "        actorss_p7.append(raw)\n",
    "    else:\n",
    "        actorss_p7.append(raw)\n",
    "actorss_p7 = [str(raw.split(':')[1]) for raw in actorss_p7]\n",
    "actorss_p7"
   ]
  },
  {
   "cell_type": "code",
   "execution_count": 125,
   "metadata": {
    "collapsed": true
   },
   "outputs": [],
   "source": [
    "%%capture\n",
    "for a in actorss_p7:\n",
    "    a = re.findall('[A-Z][^A-Z]*', a)\n",
    "    actors_p7.append(a)   \n",
    "actors_p7 = ([[name.strip().replace('*','')\n",
    "               .replace(' ','').replace('(','')\n",
    "               .replace('(Cameo)','').replace('Voice)','')\n",
    "               .replace(')','') for name in actor\n",
    "              ] for actor in actors_p7])\n",
    "actors_p7"
   ]
  },
  {
   "cell_type": "code",
   "execution_count": 126,
   "metadata": {
    "collapsed": true
   },
   "outputs": [],
   "source": [
    "%%capture\n",
    "raw_actors_p8 = []\n",
    "actors_p8 = []\n",
    "actorss_p8 = []\n",
    "for box in find_box2_p8:\n",
    "    if len(box) > 3: \n",
    "        raw_actors_p8.append(box[2].text)\n",
    "    elif len(box) == 3: \n",
    "        raw_actors_p8.append(box[1].text)\n",
    "    elif len(box) == 2: \n",
    "        raw_actors_p8.append(box[1].text)\n",
    "    else: \n",
    "        raw_actors_p8.append(box[0].text)\n",
    "for raw in raw_actors_p8:\n",
    "    if not raw.startswith('Actor'):\n",
    "        raw = \"Actor:N/a\"\n",
    "        actorss_p8.append(raw)\n",
    "    else:\n",
    "        actorss_p8.append(raw)\n",
    "actorss_p8 = [str(raw.split(':')[1]) for raw in actorss_p8]\n",
    "actorss_p8"
   ]
  },
  {
   "cell_type": "code",
   "execution_count": 127,
   "metadata": {
    "collapsed": true
   },
   "outputs": [],
   "source": [
    "%%capture\n",
    "for a in actorss_p8:\n",
    "    a = re.findall('[A-Z][^A-Z]*', a)\n",
    "    actors_p8.append(a)   \n",
    "actors_p8 = ([[name.strip().replace('*','')\n",
    "               .replace(' ','').replace('(','')\n",
    "               .replace('(Cameo)','').replace('Voice)','')\n",
    "               .replace(')','') for name in actor\n",
    "              ] for actor in actors_p8])\n",
    "actors_p8"
   ]
  },
  {
   "cell_type": "code",
   "execution_count": 128,
   "metadata": {
    "collapsed": true
   },
   "outputs": [],
   "source": [
    "%%capture\n",
    "raw_actors_p9 = []\n",
    "actors_p9 = []\n",
    "actorss_p9 = []\n",
    "for box in find_box2_p9:\n",
    "    if len(box) > 3: \n",
    "        raw_actors_p9.append(box[2].text)\n",
    "    elif len(box) == 3: \n",
    "        raw_actors_p9.append(box[1].text)\n",
    "    elif len(box) == 2: \n",
    "        raw_actors_p9.append(box[1].text)\n",
    "    else: \n",
    "        raw_actors_p9.append(box[0].text)\n",
    "for raw in raw_actors_p9:\n",
    "    if not raw.startswith('Actor'):\n",
    "        raw = \"Actor:N/a\"\n",
    "        actorss_p9.append(raw)\n",
    "    else:\n",
    "        actorss_p9.append(raw)\n",
    "actorss_p9 = [str(raw.split(':')[1]) for raw in actorss_p9]\n",
    "actorss_p9"
   ]
  },
  {
   "cell_type": "code",
   "execution_count": 129,
   "metadata": {
    "collapsed": true
   },
   "outputs": [],
   "source": [
    "%%capture\n",
    "for a in actorss_p9:\n",
    "    a = re.findall('[A-Z][^A-Z]*', a)\n",
    "    actors_p9.append(a)   \n",
    "actors_p9 = ([[name.strip().replace('*','')\n",
    "               .replace(' ','').replace('(','')\n",
    "               .replace('(Cameo)','').replace('Voice)','')\n",
    "               .replace(')','') for name in actor\n",
    "              ] for actor in actors_p9])\n",
    "actors_p9"
   ]
  },
  {
   "cell_type": "code",
   "execution_count": 130,
   "metadata": {},
   "outputs": [
    {
     "data": {
      "text/plain": [
       "208"
      ]
     },
     "execution_count": 130,
     "metadata": {},
     "output_type": "execute_result"
    }
   ],
   "source": [
    "s = len(actors_p9) + len(actors_p8) + len(actors_p7) + len(actors_p6) + len(actors_p5) + len(actors_p4)\n",
    "s"
   ]
  },
  {
   "cell_type": "code",
   "execution_count": 133,
   "metadata": {
    "collapsed": true
   },
   "outputs": [],
   "source": [
    "actors_2D = actors_p4 + actors_p5 + actors_p6 + actors_p7 + actors_p8 + actors_p9\n",
    "\n",
    "directors_2D = (directors_p4 + directors_p5 \n",
    "                + directors_p6 + directors_p7 \n",
    "                + directors_p8 + directors_p9)\n",
    "\n",
    "genre_2D = ['2D'] * 208\n",
    "\n",
    "domestic_total_gross_2D = (domestic_total_gross_p4 \n",
    "                           + domestic_total_gross_p5 \n",
    "                           + domestic_total_gross_p6\n",
    "                           + domestic_total_gross_p7 \n",
    "                           + domestic_total_gross_p8 \n",
    "                           + domestic_total_gross_p9)\n",
    "\n",
    "release_date_2D = (release_date_p4 + release_date_p5 \n",
    "                   + release_date_p6 + release_date_p7 \n",
    "                   + release_date_p8 + release_date_p9)\n",
    "\n",
    "runtime_2D = runtime_p4 +  runtime_p5 +  runtime_p6 +  runtime_p7 + runtime_p8 +runtime_p9 \n",
    "\n",
    "theater_2D = theater_p4 + theater_p5 + theater_p6 + theater_p7 + theater_p8 + theater_p9\n",
    "\n",
    "rating_2D = rating_p4 + rating_p5 + rating_p6 + rating_p7 + rating_p8 + rating_p9\n",
    "\n",
    "production_budget_2D = (production_budget_p4 + production_budget_p5\n",
    "                        + production_budget_p6 + production_budget_p7 \n",
    "                        + production_budget_p8 + production_budget_p9)\n",
    "\n",
    "directors_2D = directors_p4 + directors_p5 + directors_p6 + directors_p7 + directors_p8 + directors_p9\n",
    "\n",
    "actors_2D = actors_p4 + actors_p5 + actors_p6 + actors_p7 + actors_p8 + actors_p9\n",
    "\n",
    "opening_weekend_gross_2D = (opening_weekend_gross_p4 \n",
    "                           + opening_weekend_gross_p5\n",
    "                           + opening_weekend_gross_p6\n",
    "                           + opening_weekend_gross_p7 \n",
    "                           + opening_weekend_gross_p8\n",
    "                           + opening_weekend_gross_p9)\n",
    "\n",
    "title_2D = title_p4 + title_p5 + title_p6 + title_p7 + title_p8 + title_p9"
   ]
  },
  {
   "cell_type": "code",
   "execution_count": 134,
   "metadata": {},
   "outputs": [
    {
     "data": {
      "text/plain": [
       "208"
      ]
     },
     "execution_count": 134,
     "metadata": {},
     "output_type": "execute_result"
    }
   ],
   "source": [
    "len(opening_weekend_gross_2D)"
   ]
  },
  {
   "cell_type": "code",
   "execution_count": 135,
   "metadata": {
    "collapsed": true
   },
   "outputs": [],
   "source": [
    "movies_2D = {}\n",
    "headers = ['Movie Title',\n",
    "           'Genre',\n",
    "           'Domestic Total Gross ($)',\n",
    "           'Release Date', \n",
    "           'Runtime (mins)', \n",
    "           'Wildest Release',\n",
    "           'Rating',\n",
    "           'Production Budget ($)',\n",
    "           'Directors',\n",
    "           'Actors', \n",
    "           'Opening Weekend Gross ($)']\n",
    "movies_2D = dict(zip(headers, [title_2D,\n",
    "                            genre_2D,\n",
    "                            domestic_total_gross_2D,\n",
    "                            release_date_2D,\n",
    "                            runtime_2D,\n",
    "                            theater_2D,\n",
    "                            rating_2D,\n",
    "                            production_budget_2D,\n",
    "                            directors_2D,\n",
    "                            actors_2D,\n",
    "                            opening_weekend_gross_2D]))\n",
    "df_2D = pd.DataFrame(movies_2D)\n",
    "df_2D = df_2D[['Movie Title', \n",
    "            'Genre',\n",
    "            'Release Date', \n",
    "            'Runtime (mins)',\n",
    "            'Wildest Release',\n",
    "            'Rating',\n",
    "            'Directors',\n",
    "            'Actors',\n",
    "            'Production Budget ($)',\n",
    "            'Opening Weekend Gross ($)',\n",
    "            'Domestic Total Gross ($)']]"
   ]
  },
  {
   "cell_type": "code",
   "execution_count": 136,
   "metadata": {},
   "outputs": [
    {
     "data": {
      "text/html": [
       "<div>\n",
       "<style>\n",
       "    .dataframe thead tr:only-child th {\n",
       "        text-align: right;\n",
       "    }\n",
       "\n",
       "    .dataframe thead th {\n",
       "        text-align: left;\n",
       "    }\n",
       "\n",
       "    .dataframe tbody tr th {\n",
       "        vertical-align: top;\n",
       "    }\n",
       "</style>\n",
       "<table border=\"1\" class=\"dataframe\">\n",
       "  <thead>\n",
       "    <tr style=\"text-align: right;\">\n",
       "      <th></th>\n",
       "      <th>Movie Title</th>\n",
       "      <th>Genre</th>\n",
       "      <th>Release Date</th>\n",
       "      <th>Runtime (mins)</th>\n",
       "      <th>Wildest Release</th>\n",
       "      <th>Rating</th>\n",
       "      <th>Directors</th>\n",
       "      <th>Actors</th>\n",
       "      <th>Production Budget ($)</th>\n",
       "      <th>Opening Weekend Gross ($)</th>\n",
       "      <th>Domestic Total Gross ($)</th>\n",
       "    </tr>\n",
       "  </thead>\n",
       "  <tbody>\n",
       "    <tr>\n",
       "      <th>0</th>\n",
       "      <td>Alien: Covenant</td>\n",
       "      <td>2D</td>\n",
       "      <td>2017-05-19</td>\n",
       "      <td>122</td>\n",
       "      <td>3761</td>\n",
       "      <td>R</td>\n",
       "      <td>Ridley Scott</td>\n",
       "      <td>[Michael, Fassbender, Katherine, Waterston, De...</td>\n",
       "      <td>97000000</td>\n",
       "      <td>36160621</td>\n",
       "      <td>74262031.0</td>\n",
       "    </tr>\n",
       "    <tr>\n",
       "      <th>1</th>\n",
       "      <td>Kong: Skull Island</td>\n",
       "      <td>2D</td>\n",
       "      <td>2017-03-10</td>\n",
       "      <td>118</td>\n",
       "      <td>3846</td>\n",
       "      <td>PG-13</td>\n",
       "      <td>Jordan Vogt-Roberts</td>\n",
       "      <td>[Tom, Hiddleston, Brie, Larson, Samuel, L., Ja...</td>\n",
       "      <td>185000000</td>\n",
       "      <td>61025472</td>\n",
       "      <td>168052812.0</td>\n",
       "    </tr>\n",
       "    <tr>\n",
       "      <th>2</th>\n",
       "      <td>Monster Trucks</td>\n",
       "      <td>2D</td>\n",
       "      <td>2017-01-13</td>\n",
       "      <td>104</td>\n",
       "      <td>3119</td>\n",
       "      <td>PG</td>\n",
       "      <td>Chris Wedge</td>\n",
       "      <td>[Lucas, Till, Jane, Levy, Barry, Pepper, Rob, ...</td>\n",
       "      <td>N/A</td>\n",
       "      <td>10950705</td>\n",
       "      <td>33370166.0</td>\n",
       "    </tr>\n",
       "    <tr>\n",
       "      <th>3</th>\n",
       "      <td>Shin Godzilla</td>\n",
       "      <td>2D</td>\n",
       "      <td>2016-10-11</td>\n",
       "      <td>118</td>\n",
       "      <td>34</td>\n",
       "      <td>Unrated</td>\n",
       "      <td>N/A</td>\n",
       "      <td>[N/a]</td>\n",
       "      <td>N/A</td>\n",
       "      <td>458342</td>\n",
       "      <td>1918403.0</td>\n",
       "    </tr>\n",
       "    <tr>\n",
       "      <th>4</th>\n",
       "      <td>Jurassic World</td>\n",
       "      <td>2D</td>\n",
       "      <td>2015-06-12</td>\n",
       "      <td>124</td>\n",
       "      <td>4274</td>\n",
       "      <td>PG-13</td>\n",
       "      <td>Colin Trevorrow</td>\n",
       "      <td>[Nick, Robinson, Omar, Sy, Chris, Pratt, Bryce...</td>\n",
       "      <td>150000000</td>\n",
       "      <td>208806270</td>\n",
       "      <td>652270625.0</td>\n",
       "    </tr>\n",
       "    <tr>\n",
       "      <th>5</th>\n",
       "      <td>Godzilla</td>\n",
       "      <td>2D</td>\n",
       "      <td>2014-05-16</td>\n",
       "      <td>123</td>\n",
       "      <td>3952</td>\n",
       "      <td>PG-13</td>\n",
       "      <td>Gareth Edwards</td>\n",
       "      <td>[Aaron, Johnson, Ken, Watanabe, Elizabeth, Ols...</td>\n",
       "      <td>160000000</td>\n",
       "      <td>93188384</td>\n",
       "      <td>200676069.0</td>\n",
       "    </tr>\n",
       "    <tr>\n",
       "      <th>6</th>\n",
       "      <td>Afflicted</td>\n",
       "      <td>2D</td>\n",
       "      <td>2014-04-04</td>\n",
       "      <td>85</td>\n",
       "      <td>44</td>\n",
       "      <td>R</td>\n",
       "      <td>N/A</td>\n",
       "      <td>[N/a]</td>\n",
       "      <td>N/A</td>\n",
       "      <td>69447</td>\n",
       "      <td>121179.0</td>\n",
       "    </tr>\n",
       "    <tr>\n",
       "      <th>7</th>\n",
       "      <td>The Grey</td>\n",
       "      <td>2D</td>\n",
       "      <td>2012-01-27</td>\n",
       "      <td>117</td>\n",
       "      <td>3185</td>\n",
       "      <td>R</td>\n",
       "      <td>Joe Carnahan</td>\n",
       "      <td>[Liam, Neeson, Dermot, Mulroney, James, Badge,...</td>\n",
       "      <td>25000000</td>\n",
       "      <td>19665101</td>\n",
       "      <td>51580236.0</td>\n",
       "    </tr>\n",
       "    <tr>\n",
       "      <th>8</th>\n",
       "      <td>The Thing</td>\n",
       "      <td>2D</td>\n",
       "      <td>2011-10-14</td>\n",
       "      <td>N/A</td>\n",
       "      <td>2996</td>\n",
       "      <td>R</td>\n",
       "      <td>N/A</td>\n",
       "      <td>[N/a]</td>\n",
       "      <td>38000000</td>\n",
       "      <td>8493665</td>\n",
       "      <td>16928670.0</td>\n",
       "    </tr>\n",
       "    <tr>\n",
       "      <th>9</th>\n",
       "      <td>Shark Night 3D</td>\n",
       "      <td>2D</td>\n",
       "      <td>2011-09-02</td>\n",
       "      <td>95</td>\n",
       "      <td>2806</td>\n",
       "      <td>PG-13</td>\n",
       "      <td>David R. Ellis</td>\n",
       "      <td>[N/a]</td>\n",
       "      <td>25000000</td>\n",
       "      <td>8404260</td>\n",
       "      <td>18877153.0</td>\n",
       "    </tr>\n",
       "    <tr>\n",
       "      <th>10</th>\n",
       "      <td>Super 8</td>\n",
       "      <td>2D</td>\n",
       "      <td>2011-06-10</td>\n",
       "      <td>112</td>\n",
       "      <td>3379</td>\n",
       "      <td>PG-13</td>\n",
       "      <td>J.J. Abrams</td>\n",
       "      <td>[Kyle, Chandler, Elle, Fanning, Noah, Emmerich]</td>\n",
       "      <td>50000000</td>\n",
       "      <td>35451168</td>\n",
       "      <td>127004179.0</td>\n",
       "    </tr>\n",
       "    <tr>\n",
       "      <th>11</th>\n",
       "      <td>Trollhunter</td>\n",
       "      <td>2D</td>\n",
       "      <td>2011-06-10</td>\n",
       "      <td>90</td>\n",
       "      <td>1</td>\n",
       "      <td>PG-13</td>\n",
       "      <td>N/A</td>\n",
       "      <td>[N/a]</td>\n",
       "      <td>N/A</td>\n",
       "      <td>5585</td>\n",
       "      <td>253444.0</td>\n",
       "    </tr>\n",
       "    <tr>\n",
       "      <th>12</th>\n",
       "      <td>Piranha 3D</td>\n",
       "      <td>2D</td>\n",
       "      <td>2010-08-20</td>\n",
       "      <td>89</td>\n",
       "      <td>2470</td>\n",
       "      <td>R</td>\n",
       "      <td>Alexandre Aja</td>\n",
       "      <td>[N/a]</td>\n",
       "      <td>24000000</td>\n",
       "      <td>10106872</td>\n",
       "      <td>25003155.0</td>\n",
       "    </tr>\n",
       "    <tr>\n",
       "      <th>13</th>\n",
       "      <td>Predators</td>\n",
       "      <td>2D</td>\n",
       "      <td>2010-07-09</td>\n",
       "      <td>107</td>\n",
       "      <td>2669</td>\n",
       "      <td>R</td>\n",
       "      <td>Nimród Antal</td>\n",
       "      <td>[Adrien, Brody, Topher, Grace, Danny, Trejo, L...</td>\n",
       "      <td>40000000</td>\n",
       "      <td>24760882</td>\n",
       "      <td>52000688.0</td>\n",
       "    </tr>\n",
       "    <tr>\n",
       "      <th>14</th>\n",
       "      <td>Splice</td>\n",
       "      <td>2D</td>\n",
       "      <td>2010-06-04</td>\n",
       "      <td>104</td>\n",
       "      <td>2450</td>\n",
       "      <td>R</td>\n",
       "      <td>Vincenzo Natali</td>\n",
       "      <td>[Adrien, Brody, Sarah, Polley]</td>\n",
       "      <td>30000000</td>\n",
       "      <td>7385277</td>\n",
       "      <td>17010170.0</td>\n",
       "    </tr>\n",
       "    <tr>\n",
       "      <th>15</th>\n",
       "      <td>Rogue</td>\n",
       "      <td>2D</td>\n",
       "      <td>2008-04-25</td>\n",
       "      <td>92</td>\n",
       "      <td>10</td>\n",
       "      <td>R</td>\n",
       "      <td>N/A</td>\n",
       "      <td>[Mia, Wasikowska, Sam, Worthington, Michael, V...</td>\n",
       "      <td>N/A</td>\n",
       "      <td>7711</td>\n",
       "      <td>10452.0</td>\n",
       "    </tr>\n",
       "    <tr>\n",
       "      <th>16</th>\n",
       "      <td>Cloverfield</td>\n",
       "      <td>2D</td>\n",
       "      <td>2008-01-18</td>\n",
       "      <td>84</td>\n",
       "      <td>3411</td>\n",
       "      <td>PG-13</td>\n",
       "      <td>Matt Reeves</td>\n",
       "      <td>[Mike, Vogel, Lizzy, Caplan, Jessica, Lucas]</td>\n",
       "      <td>25000000</td>\n",
       "      <td>40058229</td>\n",
       "      <td>80048433.0</td>\n",
       "    </tr>\n",
       "    <tr>\n",
       "      <th>17</th>\n",
       "      <td>Aliens Vs. Predator - Requiem</td>\n",
       "      <td>2D</td>\n",
       "      <td>2007-12-25</td>\n",
       "      <td>86</td>\n",
       "      <td>2611</td>\n",
       "      <td>R</td>\n",
       "      <td>Colin StrauseGreg Strause</td>\n",
       "      <td>[N/a]</td>\n",
       "      <td>N/A</td>\n",
       "      <td>10059425</td>\n",
       "      <td>41797066.0</td>\n",
       "    </tr>\n",
       "    <tr>\n",
       "      <th>18</th>\n",
       "      <td>The Host</td>\n",
       "      <td>2D</td>\n",
       "      <td>2007-03-09</td>\n",
       "      <td>118</td>\n",
       "      <td>71</td>\n",
       "      <td>R</td>\n",
       "      <td>N/A</td>\n",
       "      <td>[Kang-ho, Song]</td>\n",
       "      <td>N/A</td>\n",
       "      <td>314488</td>\n",
       "      <td>2201923.0</td>\n",
       "    </tr>\n",
       "    <tr>\n",
       "      <th>19</th>\n",
       "      <td>Primeval</td>\n",
       "      <td>2D</td>\n",
       "      <td>2007-01-12</td>\n",
       "      <td>94</td>\n",
       "      <td>2444</td>\n",
       "      <td>R</td>\n",
       "      <td>N/A</td>\n",
       "      <td>[N/a]</td>\n",
       "      <td>N/A</td>\n",
       "      <td>6048315</td>\n",
       "      <td>10597734.0</td>\n",
       "    </tr>\n",
       "    <tr>\n",
       "      <th>20</th>\n",
       "      <td>Dr. Seuss' The Lorax</td>\n",
       "      <td>2D</td>\n",
       "      <td>2012-03-02</td>\n",
       "      <td>95</td>\n",
       "      <td>3729</td>\n",
       "      <td>PG</td>\n",
       "      <td>Chris Renaud</td>\n",
       "      <td>[Danny, De, Vito, , Zac, Efron, , Ed, Helms, ,...</td>\n",
       "      <td>70000000</td>\n",
       "      <td>70217070</td>\n",
       "      <td>214030500.0</td>\n",
       "    </tr>\n",
       "    <tr>\n",
       "      <th>21</th>\n",
       "      <td>Big Miracle</td>\n",
       "      <td>2D</td>\n",
       "      <td>2012-02-03</td>\n",
       "      <td>123</td>\n",
       "      <td>2129</td>\n",
       "      <td>PG</td>\n",
       "      <td>Ken Kwapis</td>\n",
       "      <td>[John, Krasinski, Drew, Barrymore, Kristen, Be...</td>\n",
       "      <td>40000000</td>\n",
       "      <td>7760205</td>\n",
       "      <td>20157300.0</td>\n",
       "    </tr>\n",
       "    <tr>\n",
       "      <th>22</th>\n",
       "      <td>The City Dark</td>\n",
       "      <td>2D</td>\n",
       "      <td>2012-01-18</td>\n",
       "      <td>83</td>\n",
       "      <td>1</td>\n",
       "      <td>Unrated</td>\n",
       "      <td>N/A</td>\n",
       "      <td>[N/a]</td>\n",
       "      <td>N/A</td>\n",
       "      <td>2983</td>\n",
       "      <td>9269.0</td>\n",
       "    </tr>\n",
       "    <tr>\n",
       "      <th>23</th>\n",
       "      <td>The Last Mountain</td>\n",
       "      <td>2D</td>\n",
       "      <td>2011-06-03</td>\n",
       "      <td>95</td>\n",
       "      <td>2</td>\n",
       "      <td>PG</td>\n",
       "      <td>N/A</td>\n",
       "      <td>[N/a]</td>\n",
       "      <td>N/A</td>\n",
       "      <td>17570</td>\n",
       "      <td>122961.0</td>\n",
       "    </tr>\n",
       "    <tr>\n",
       "      <th>24</th>\n",
       "      <td>Furry Vengeance</td>\n",
       "      <td>2D</td>\n",
       "      <td>2010-04-30</td>\n",
       "      <td>92</td>\n",
       "      <td>2997</td>\n",
       "      <td>PG</td>\n",
       "      <td>Roger Kumble</td>\n",
       "      <td>[N/a]</td>\n",
       "      <td>35000000</td>\n",
       "      <td>6627564</td>\n",
       "      <td>17630465.0</td>\n",
       "    </tr>\n",
       "    <tr>\n",
       "      <th>25</th>\n",
       "      <td>Avatar</td>\n",
       "      <td>2D</td>\n",
       "      <td>2009-12-18</td>\n",
       "      <td>160</td>\n",
       "      <td>3452</td>\n",
       "      <td>PG-13</td>\n",
       "      <td>James Cameron</td>\n",
       "      <td>[Sam, Worthington, Zoe, Saldana, Sigourney, We...</td>\n",
       "      <td>237000000</td>\n",
       "      <td>77025481</td>\n",
       "      <td>749766139.0</td>\n",
       "    </tr>\n",
       "    <tr>\n",
       "      <th>26</th>\n",
       "      <td>Food Beware</td>\n",
       "      <td>2D</td>\n",
       "      <td>2009-10-16</td>\n",
       "      <td>112</td>\n",
       "      <td>1</td>\n",
       "      <td>Unrated</td>\n",
       "      <td>N/A</td>\n",
       "      <td>[N/a]</td>\n",
       "      <td>N/A</td>\n",
       "      <td>595</td>\n",
       "      <td>1181.0</td>\n",
       "    </tr>\n",
       "    <tr>\n",
       "      <th>27</th>\n",
       "      <td>Earth Days</td>\n",
       "      <td>2D</td>\n",
       "      <td>2009-08-14</td>\n",
       "      <td>90</td>\n",
       "      <td>1</td>\n",
       "      <td>Unrated</td>\n",
       "      <td>N/A</td>\n",
       "      <td>[N/a]</td>\n",
       "      <td>N/A</td>\n",
       "      <td>2408</td>\n",
       "      <td>26748.0</td>\n",
       "    </tr>\n",
       "    <tr>\n",
       "      <th>28</th>\n",
       "      <td>Battle for Terra</td>\n",
       "      <td>2D</td>\n",
       "      <td>2009-05-01</td>\n",
       "      <td>85</td>\n",
       "      <td>1159</td>\n",
       "      <td>PG</td>\n",
       "      <td>N/A</td>\n",
       "      <td>[N/a]</td>\n",
       "      <td>N/A</td>\n",
       "      <td>1082064</td>\n",
       "      <td>1647083.0</td>\n",
       "    </tr>\n",
       "    <tr>\n",
       "      <th>29</th>\n",
       "      <td>The Day the Earth Stood Still</td>\n",
       "      <td>2D</td>\n",
       "      <td>2008-12-12</td>\n",
       "      <td>110</td>\n",
       "      <td>3560</td>\n",
       "      <td>PG-13</td>\n",
       "      <td>Scott Derrickson</td>\n",
       "      <td>[N/a]</td>\n",
       "      <td>80000000</td>\n",
       "      <td>30480153</td>\n",
       "      <td>79366978.0</td>\n",
       "    </tr>\n",
       "    <tr>\n",
       "      <th>...</th>\n",
       "      <td>...</td>\n",
       "      <td>...</td>\n",
       "      <td>...</td>\n",
       "      <td>...</td>\n",
       "      <td>...</td>\n",
       "      <td>...</td>\n",
       "      <td>...</td>\n",
       "      <td>...</td>\n",
       "      <td>...</td>\n",
       "      <td>...</td>\n",
       "      <td>...</td>\n",
       "    </tr>\n",
       "    <tr>\n",
       "      <th>178</th>\n",
       "      <td>Blancanieves</td>\n",
       "      <td>2D</td>\n",
       "      <td>2013-03-29</td>\n",
       "      <td>104</td>\n",
       "      <td>4</td>\n",
       "      <td>PG-13</td>\n",
       "      <td>N/A</td>\n",
       "      <td>[N/a]</td>\n",
       "      <td>N/A</td>\n",
       "      <td>25264</td>\n",
       "      <td>279735.0</td>\n",
       "    </tr>\n",
       "    <tr>\n",
       "      <th>179</th>\n",
       "      <td>Upside Down</td>\n",
       "      <td>2D</td>\n",
       "      <td>2013-03-15</td>\n",
       "      <td>108</td>\n",
       "      <td>11</td>\n",
       "      <td>PG-13</td>\n",
       "      <td>N/A</td>\n",
       "      <td>[Jim, Sturgess, Kirsten, Dunst, Timothy, Spall]</td>\n",
       "      <td>N/A</td>\n",
       "      <td>28722</td>\n",
       "      <td>105095.0</td>\n",
       "    </tr>\n",
       "    <tr>\n",
       "      <th>180</th>\n",
       "      <td>Oz The Great and Powerful</td>\n",
       "      <td>2D</td>\n",
       "      <td>2013-03-08</td>\n",
       "      <td>127</td>\n",
       "      <td>3912</td>\n",
       "      <td>PG</td>\n",
       "      <td>Sam Raimi</td>\n",
       "      <td>[Tony, Cox, James, Franco, Mila, Kunis, Michel...</td>\n",
       "      <td>215000000</td>\n",
       "      <td>79110453</td>\n",
       "      <td>234911825.0</td>\n",
       "    </tr>\n",
       "    <tr>\n",
       "      <th>181</th>\n",
       "      <td>Jack the Giant Slayer</td>\n",
       "      <td>2D</td>\n",
       "      <td>2013-03-01</td>\n",
       "      <td>114</td>\n",
       "      <td>3525</td>\n",
       "      <td>PG-13</td>\n",
       "      <td>Bryan Singer</td>\n",
       "      <td>[Ewen, Bremner, Warwick, Davis, Nicholas, Houl...</td>\n",
       "      <td>195000000</td>\n",
       "      <td>27202226</td>\n",
       "      <td>65187603.0</td>\n",
       "    </tr>\n",
       "    <tr>\n",
       "      <th>182</th>\n",
       "      <td>Immortals</td>\n",
       "      <td>2D</td>\n",
       "      <td>2011-11-11</td>\n",
       "      <td>110</td>\n",
       "      <td>3112</td>\n",
       "      <td>R</td>\n",
       "      <td>Tarsem</td>\n",
       "      <td>[N/a]</td>\n",
       "      <td>75000000</td>\n",
       "      <td>32206425</td>\n",
       "      <td>83504017.0</td>\n",
       "    </tr>\n",
       "    <tr>\n",
       "      <th>183</th>\n",
       "      <td>Conan the Barbarian</td>\n",
       "      <td>2D</td>\n",
       "      <td>2011-08-19</td>\n",
       "      <td>112</td>\n",
       "      <td>3015</td>\n",
       "      <td>R</td>\n",
       "      <td>Marcus Nispel</td>\n",
       "      <td>[Jason, Momoa, Stephen, Lang, Rachel, Nichols,...</td>\n",
       "      <td>90000000</td>\n",
       "      <td>10021215</td>\n",
       "      <td>21295021.0</td>\n",
       "    </tr>\n",
       "    <tr>\n",
       "      <th>184</th>\n",
       "      <td>Harry Potter and the Deathly Hallows Part 2</td>\n",
       "      <td>2D</td>\n",
       "      <td>2011-07-15</td>\n",
       "      <td>130</td>\n",
       "      <td>4375</td>\n",
       "      <td>PG-13</td>\n",
       "      <td>David Yates</td>\n",
       "      <td>[Clemence, Poesy, Daniel, Radcliffe, Rupert, G...</td>\n",
       "      <td>N/A</td>\n",
       "      <td>169189427</td>\n",
       "      <td>381011219.0</td>\n",
       "    </tr>\n",
       "    <tr>\n",
       "      <th>185</th>\n",
       "      <td>Thor</td>\n",
       "      <td>2D</td>\n",
       "      <td>2011-05-06</td>\n",
       "      <td>115</td>\n",
       "      <td>3955</td>\n",
       "      <td>PG-13</td>\n",
       "      <td>Kenneth Branagh</td>\n",
       "      <td>[Chris, Hemsworth, Natalie, Portman, Kat, Denn...</td>\n",
       "      <td>150000000</td>\n",
       "      <td>65723338</td>\n",
       "      <td>181030624.0</td>\n",
       "    </tr>\n",
       "    <tr>\n",
       "      <th>186</th>\n",
       "      <td>The Chronicles of Narnia: The Voyage of the Da...</td>\n",
       "      <td>2D</td>\n",
       "      <td>2010-12-10</td>\n",
       "      <td>112</td>\n",
       "      <td>3555</td>\n",
       "      <td>PG</td>\n",
       "      <td>Michael Apted</td>\n",
       "      <td>[Ben, Barnes, Tilda, Swinton, Liam, Neeson, , ...</td>\n",
       "      <td>155000000</td>\n",
       "      <td>24005069</td>\n",
       "      <td>104386950.0</td>\n",
       "    </tr>\n",
       "    <tr>\n",
       "      <th>187</th>\n",
       "      <td>Harry Potter and the Deathly Hallows Part 1</td>\n",
       "      <td>2D</td>\n",
       "      <td>2010-11-19</td>\n",
       "      <td>150</td>\n",
       "      <td>4125</td>\n",
       "      <td>PG-13</td>\n",
       "      <td>David Yates</td>\n",
       "      <td>[Warwick, Davis, Clemence, Poesy, Daniel, Radc...</td>\n",
       "      <td>N/A</td>\n",
       "      <td>125017372</td>\n",
       "      <td>295983305.0</td>\n",
       "    </tr>\n",
       "    <tr>\n",
       "      <th>188</th>\n",
       "      <td>The Sorcerer's Apprentice</td>\n",
       "      <td>2D</td>\n",
       "      <td>2010-07-14</td>\n",
       "      <td>111</td>\n",
       "      <td>3504</td>\n",
       "      <td>PG</td>\n",
       "      <td>Jon Turteltaub</td>\n",
       "      <td>[Nicolas, Cage, Jay, Baruchel, Alfred, Molina,...</td>\n",
       "      <td>150000000</td>\n",
       "      <td>17619622</td>\n",
       "      <td>63150991.0</td>\n",
       "    </tr>\n",
       "    <tr>\n",
       "      <th>189</th>\n",
       "      <td>The Last Airbender</td>\n",
       "      <td>2D</td>\n",
       "      <td>2010-07-01</td>\n",
       "      <td>103</td>\n",
       "      <td>3169</td>\n",
       "      <td>PG</td>\n",
       "      <td>M. Night Shyamalan</td>\n",
       "      <td>[Noah, Ringer, Dev, Patel, Jackson, Rathbone, ...</td>\n",
       "      <td>150000000</td>\n",
       "      <td>40325019</td>\n",
       "      <td>131772187.0</td>\n",
       "    </tr>\n",
       "    <tr>\n",
       "      <th>190</th>\n",
       "      <td>Clash of the Titans</td>\n",
       "      <td>2D</td>\n",
       "      <td>2010-04-02</td>\n",
       "      <td>118</td>\n",
       "      <td>3777</td>\n",
       "      <td>PG-13</td>\n",
       "      <td>Louis Leterrier</td>\n",
       "      <td>[Sam, Worthington, Liam, Neeson, Ralph, Fienne...</td>\n",
       "      <td>125000000</td>\n",
       "      <td>61235105</td>\n",
       "      <td>163214888.0</td>\n",
       "    </tr>\n",
       "    <tr>\n",
       "      <th>191</th>\n",
       "      <td>Alice in Wonderland</td>\n",
       "      <td>2D</td>\n",
       "      <td>2010-03-05</td>\n",
       "      <td>109</td>\n",
       "      <td>3728</td>\n",
       "      <td>PG</td>\n",
       "      <td>Tim Burton</td>\n",
       "      <td>[Mia, Wasikowska, Johnny, Depp, Helena, Bonham...</td>\n",
       "      <td>200000000</td>\n",
       "      <td>116101023</td>\n",
       "      <td>334191110.0</td>\n",
       "    </tr>\n",
       "    <tr>\n",
       "      <th>192</th>\n",
       "      <td>Percy Jackson &amp; The Olympians: The Lightning T...</td>\n",
       "      <td>2D</td>\n",
       "      <td>2010-02-12</td>\n",
       "      <td>120</td>\n",
       "      <td>3356</td>\n",
       "      <td>PG</td>\n",
       "      <td>Chris Columbus</td>\n",
       "      <td>[N/a]</td>\n",
       "      <td>95000000</td>\n",
       "      <td>31236067</td>\n",
       "      <td>88768303.0</td>\n",
       "    </tr>\n",
       "    <tr>\n",
       "      <th>193</th>\n",
       "      <td>Where the Wild Things Are</td>\n",
       "      <td>2D</td>\n",
       "      <td>2009-10-16</td>\n",
       "      <td>94</td>\n",
       "      <td>3735</td>\n",
       "      <td>PG</td>\n",
       "      <td>Spike Jonze</td>\n",
       "      <td>[Chris, Cooper, , Paul, Dano, , James, Gandolf...</td>\n",
       "      <td>100000000</td>\n",
       "      <td>32695407</td>\n",
       "      <td>77233467.0</td>\n",
       "    </tr>\n",
       "    <tr>\n",
       "      <th>194</th>\n",
       "      <td>Harry Potter and the Half-Blood Prince</td>\n",
       "      <td>2D</td>\n",
       "      <td>2009-07-15</td>\n",
       "      <td>153</td>\n",
       "      <td>4325</td>\n",
       "      <td>PG</td>\n",
       "      <td>David Yates</td>\n",
       "      <td>[Daniel, Radcliffe, Rupert, Grint, Emma, Watso...</td>\n",
       "      <td>250000000</td>\n",
       "      <td>77835727</td>\n",
       "      <td>301959197.0</td>\n",
       "    </tr>\n",
       "    <tr>\n",
       "      <th>195</th>\n",
       "      <td>Dragonball Evolution</td>\n",
       "      <td>2D</td>\n",
       "      <td>2009-04-10</td>\n",
       "      <td>100</td>\n",
       "      <td>2181</td>\n",
       "      <td>PG</td>\n",
       "      <td>James Wong</td>\n",
       "      <td>[Justin, Chatwin, James, Marsters, Emmy, Rossu...</td>\n",
       "      <td>N/A</td>\n",
       "      <td>4756488</td>\n",
       "      <td>9362785.0</td>\n",
       "    </tr>\n",
       "    <tr>\n",
       "      <th>196</th>\n",
       "      <td>Inkheart</td>\n",
       "      <td>2D</td>\n",
       "      <td>2009-01-23</td>\n",
       "      <td>106</td>\n",
       "      <td>2655</td>\n",
       "      <td>PG</td>\n",
       "      <td>Iain Softley</td>\n",
       "      <td>[Brendan, Fraser, Sienna, Guillory, Paul, Bett...</td>\n",
       "      <td>60000000</td>\n",
       "      <td>7601379</td>\n",
       "      <td>17303424.0</td>\n",
       "    </tr>\n",
       "    <tr>\n",
       "      <th>197</th>\n",
       "      <td>City of Ember</td>\n",
       "      <td>2D</td>\n",
       "      <td>2008-10-10</td>\n",
       "      <td>95</td>\n",
       "      <td>2022</td>\n",
       "      <td>PG</td>\n",
       "      <td>Gil Kenan</td>\n",
       "      <td>[N/a]</td>\n",
       "      <td>55000000</td>\n",
       "      <td>3129473</td>\n",
       "      <td>7873007.0</td>\n",
       "    </tr>\n",
       "    <tr>\n",
       "      <th>198</th>\n",
       "      <td>The Chronicles of Narnia: Prince Caspian</td>\n",
       "      <td>2D</td>\n",
       "      <td>2008-05-16</td>\n",
       "      <td>140</td>\n",
       "      <td>3929</td>\n",
       "      <td>PG</td>\n",
       "      <td>Andrew Adamson</td>\n",
       "      <td>[Warwick, Davis, Peter, Dinklage, Ben, Barnes,...</td>\n",
       "      <td>225000000</td>\n",
       "      <td>55034805</td>\n",
       "      <td>141621490.0</td>\n",
       "    </tr>\n",
       "    <tr>\n",
       "      <th>199</th>\n",
       "      <td>The Fall</td>\n",
       "      <td>2D</td>\n",
       "      <td>2008-05-09</td>\n",
       "      <td>117</td>\n",
       "      <td>9</td>\n",
       "      <td>R</td>\n",
       "      <td>Tarsem</td>\n",
       "      <td>[N/a]</td>\n",
       "      <td>N/A</td>\n",
       "      <td>79611</td>\n",
       "      <td>2266905.0</td>\n",
       "    </tr>\n",
       "    <tr>\n",
       "      <th>200</th>\n",
       "      <td>The Spiderwick Chronicles</td>\n",
       "      <td>2D</td>\n",
       "      <td>2008-02-14</td>\n",
       "      <td>97</td>\n",
       "      <td>3847</td>\n",
       "      <td>PG</td>\n",
       "      <td>Mark S. Waters</td>\n",
       "      <td>[N/a]</td>\n",
       "      <td>90000000</td>\n",
       "      <td>19004058</td>\n",
       "      <td>71195053.0</td>\n",
       "    </tr>\n",
       "    <tr>\n",
       "      <th>201</th>\n",
       "      <td>In the Name of the King: A Dungeon Siege Tale</td>\n",
       "      <td>2D</td>\n",
       "      <td>2008-01-11</td>\n",
       "      <td>124</td>\n",
       "      <td>1632</td>\n",
       "      <td>PG-13</td>\n",
       "      <td>Uwe Boll</td>\n",
       "      <td>[Jason, Statham, John, Rhys-, Davies, Ray, Lio...</td>\n",
       "      <td>N/A</td>\n",
       "      <td>2984524</td>\n",
       "      <td>4775656.0</td>\n",
       "    </tr>\n",
       "    <tr>\n",
       "      <th>202</th>\n",
       "      <td>The Water Horse: Legend of the Deep</td>\n",
       "      <td>2D</td>\n",
       "      <td>2007-12-25</td>\n",
       "      <td>112</td>\n",
       "      <td>2772</td>\n",
       "      <td>PG</td>\n",
       "      <td>Jay Russell</td>\n",
       "      <td>[Emily, Watson, Ben, Chaplin, David, Morrissey...</td>\n",
       "      <td>N/A</td>\n",
       "      <td>9186054</td>\n",
       "      <td>40946255.0</td>\n",
       "    </tr>\n",
       "    <tr>\n",
       "      <th>203</th>\n",
       "      <td>The Golden Compass</td>\n",
       "      <td>2D</td>\n",
       "      <td>2007-12-07</td>\n",
       "      <td>113</td>\n",
       "      <td>3528</td>\n",
       "      <td>PG-13</td>\n",
       "      <td>Chris Weitz</td>\n",
       "      <td>[Nicole, Kidman, Daniel, Craig, Eva, Green, Sa...</td>\n",
       "      <td>180000000</td>\n",
       "      <td>25783232</td>\n",
       "      <td>70107728.0</td>\n",
       "    </tr>\n",
       "    <tr>\n",
       "      <th>204</th>\n",
       "      <td>Passage to Zarahemla</td>\n",
       "      <td>2D</td>\n",
       "      <td>2007-10-12</td>\n",
       "      <td>N/A</td>\n",
       "      <td>28</td>\n",
       "      <td>PG-13</td>\n",
       "      <td>N/A</td>\n",
       "      <td>[N/a]</td>\n",
       "      <td>N/A</td>\n",
       "      <td>57977</td>\n",
       "      <td>292102.0</td>\n",
       "    </tr>\n",
       "    <tr>\n",
       "      <th>205</th>\n",
       "      <td>The Seeker: The Dark Is Rising</td>\n",
       "      <td>2D</td>\n",
       "      <td>2007-10-05</td>\n",
       "      <td>94</td>\n",
       "      <td>3141</td>\n",
       "      <td>PG</td>\n",
       "      <td>N/A</td>\n",
       "      <td>[N/a]</td>\n",
       "      <td>N/A</td>\n",
       "      <td>3745315</td>\n",
       "      <td>8794452.0</td>\n",
       "    </tr>\n",
       "    <tr>\n",
       "      <th>206</th>\n",
       "      <td>Stardust</td>\n",
       "      <td>2D</td>\n",
       "      <td>2007-08-10</td>\n",
       "      <td>128</td>\n",
       "      <td>2540</td>\n",
       "      <td>PG-13</td>\n",
       "      <td>Matthew Vaughn</td>\n",
       "      <td>[Claire, Danes, Michelle, Pfeiffer, Robert, De...</td>\n",
       "      <td>70000000</td>\n",
       "      <td>9169779</td>\n",
       "      <td>38634938.0</td>\n",
       "    </tr>\n",
       "    <tr>\n",
       "      <th>207</th>\n",
       "      <td>Harry Potter and the Order of the Phoenix</td>\n",
       "      <td>2D</td>\n",
       "      <td>2007-07-11</td>\n",
       "      <td>139</td>\n",
       "      <td>4285</td>\n",
       "      <td>PG-13</td>\n",
       "      <td>David Yates</td>\n",
       "      <td>[Daniel, Radcliffe, Rupert, Grint, Emma, Watso...</td>\n",
       "      <td>150000000</td>\n",
       "      <td>77108414</td>\n",
       "      <td>292004738.0</td>\n",
       "    </tr>\n",
       "  </tbody>\n",
       "</table>\n",
       "<p>208 rows × 11 columns</p>\n",
       "</div>"
      ],
      "text/plain": [
       "                                           Movie Title Genre Release Date  \\\n",
       "0                                      Alien: Covenant    2D   2017-05-19   \n",
       "1                                   Kong: Skull Island    2D   2017-03-10   \n",
       "2                                       Monster Trucks    2D   2017-01-13   \n",
       "3                                        Shin Godzilla    2D   2016-10-11   \n",
       "4                                       Jurassic World    2D   2015-06-12   \n",
       "5                                             Godzilla    2D   2014-05-16   \n",
       "6                                            Afflicted    2D   2014-04-04   \n",
       "7                                             The Grey    2D   2012-01-27   \n",
       "8                                            The Thing    2D   2011-10-14   \n",
       "9                                       Shark Night 3D    2D   2011-09-02   \n",
       "10                                             Super 8    2D   2011-06-10   \n",
       "11                                         Trollhunter    2D   2011-06-10   \n",
       "12                                          Piranha 3D    2D   2010-08-20   \n",
       "13                                           Predators    2D   2010-07-09   \n",
       "14                                              Splice    2D   2010-06-04   \n",
       "15                                               Rogue    2D   2008-04-25   \n",
       "16                                         Cloverfield    2D   2008-01-18   \n",
       "17                       Aliens Vs. Predator - Requiem    2D   2007-12-25   \n",
       "18                                            The Host    2D   2007-03-09   \n",
       "19                                            Primeval    2D   2007-01-12   \n",
       "20                                Dr. Seuss' The Lorax    2D   2012-03-02   \n",
       "21                                         Big Miracle    2D   2012-02-03   \n",
       "22                                       The City Dark    2D   2012-01-18   \n",
       "23                                   The Last Mountain    2D   2011-06-03   \n",
       "24                                     Furry Vengeance    2D   2010-04-30   \n",
       "25                                              Avatar    2D   2009-12-18   \n",
       "26                                         Food Beware    2D   2009-10-16   \n",
       "27                                          Earth Days    2D   2009-08-14   \n",
       "28                                    Battle for Terra    2D   2009-05-01   \n",
       "29                       The Day the Earth Stood Still    2D   2008-12-12   \n",
       "..                                                 ...   ...          ...   \n",
       "178                                       Blancanieves    2D   2013-03-29   \n",
       "179                                        Upside Down    2D   2013-03-15   \n",
       "180                          Oz The Great and Powerful    2D   2013-03-08   \n",
       "181                              Jack the Giant Slayer    2D   2013-03-01   \n",
       "182                                          Immortals    2D   2011-11-11   \n",
       "183                                Conan the Barbarian    2D   2011-08-19   \n",
       "184        Harry Potter and the Deathly Hallows Part 2    2D   2011-07-15   \n",
       "185                                               Thor    2D   2011-05-06   \n",
       "186  The Chronicles of Narnia: The Voyage of the Da...    2D   2010-12-10   \n",
       "187        Harry Potter and the Deathly Hallows Part 1    2D   2010-11-19   \n",
       "188                          The Sorcerer's Apprentice    2D   2010-07-14   \n",
       "189                                 The Last Airbender    2D   2010-07-01   \n",
       "190                                Clash of the Titans    2D   2010-04-02   \n",
       "191                                Alice in Wonderland    2D   2010-03-05   \n",
       "192  Percy Jackson & The Olympians: The Lightning T...    2D   2010-02-12   \n",
       "193                          Where the Wild Things Are    2D   2009-10-16   \n",
       "194             Harry Potter and the Half-Blood Prince    2D   2009-07-15   \n",
       "195                               Dragonball Evolution    2D   2009-04-10   \n",
       "196                                           Inkheart    2D   2009-01-23   \n",
       "197                                      City of Ember    2D   2008-10-10   \n",
       "198           The Chronicles of Narnia: Prince Caspian    2D   2008-05-16   \n",
       "199                                           The Fall    2D   2008-05-09   \n",
       "200                          The Spiderwick Chronicles    2D   2008-02-14   \n",
       "201      In the Name of the King: A Dungeon Siege Tale    2D   2008-01-11   \n",
       "202                The Water Horse: Legend of the Deep    2D   2007-12-25   \n",
       "203                                 The Golden Compass    2D   2007-12-07   \n",
       "204                               Passage to Zarahemla    2D   2007-10-12   \n",
       "205                     The Seeker: The Dark Is Rising    2D   2007-10-05   \n",
       "206                                           Stardust    2D   2007-08-10   \n",
       "207          Harry Potter and the Order of the Phoenix    2D   2007-07-11   \n",
       "\n",
       "    Runtime (mins)  Wildest Release   Rating                  Directors  \\\n",
       "0              122             3761        R               Ridley Scott   \n",
       "1              118             3846    PG-13        Jordan Vogt-Roberts   \n",
       "2              104             3119       PG                Chris Wedge   \n",
       "3              118               34  Unrated                        N/A   \n",
       "4              124             4274    PG-13            Colin Trevorrow   \n",
       "5              123             3952    PG-13             Gareth Edwards   \n",
       "6               85               44        R                        N/A   \n",
       "7              117             3185        R               Joe Carnahan   \n",
       "8              N/A             2996        R                        N/A   \n",
       "9               95             2806    PG-13             David R. Ellis   \n",
       "10             112             3379    PG-13                J.J. Abrams   \n",
       "11              90                1    PG-13                        N/A   \n",
       "12              89             2470        R              Alexandre Aja   \n",
       "13             107             2669        R               Nimród Antal   \n",
       "14             104             2450        R            Vincenzo Natali   \n",
       "15              92               10        R                        N/A   \n",
       "16              84             3411    PG-13                Matt Reeves   \n",
       "17              86             2611        R  Colin StrauseGreg Strause   \n",
       "18             118               71        R                        N/A   \n",
       "19              94             2444        R                        N/A   \n",
       "20              95             3729       PG               Chris Renaud   \n",
       "21             123             2129       PG                 Ken Kwapis   \n",
       "22              83                1  Unrated                        N/A   \n",
       "23              95                2       PG                        N/A   \n",
       "24              92             2997       PG               Roger Kumble   \n",
       "25             160             3452    PG-13              James Cameron   \n",
       "26             112                1  Unrated                        N/A   \n",
       "27              90                1  Unrated                        N/A   \n",
       "28              85             1159       PG                        N/A   \n",
       "29             110             3560    PG-13           Scott Derrickson   \n",
       "..             ...              ...      ...                        ...   \n",
       "178            104                4    PG-13                        N/A   \n",
       "179            108               11    PG-13                        N/A   \n",
       "180            127             3912       PG                  Sam Raimi   \n",
       "181            114             3525    PG-13               Bryan Singer   \n",
       "182            110             3112        R                     Tarsem   \n",
       "183            112             3015        R              Marcus Nispel   \n",
       "184            130             4375    PG-13                David Yates   \n",
       "185            115             3955    PG-13            Kenneth Branagh   \n",
       "186            112             3555       PG              Michael Apted   \n",
       "187            150             4125    PG-13                David Yates   \n",
       "188            111             3504       PG             Jon Turteltaub   \n",
       "189            103             3169       PG         M. Night Shyamalan   \n",
       "190            118             3777    PG-13            Louis Leterrier   \n",
       "191            109             3728       PG                 Tim Burton   \n",
       "192            120             3356       PG             Chris Columbus   \n",
       "193             94             3735       PG                Spike Jonze   \n",
       "194            153             4325       PG                David Yates   \n",
       "195            100             2181       PG                 James Wong   \n",
       "196            106             2655       PG               Iain Softley   \n",
       "197             95             2022       PG                  Gil Kenan   \n",
       "198            140             3929       PG             Andrew Adamson   \n",
       "199            117                9        R                     Tarsem   \n",
       "200             97             3847       PG             Mark S. Waters   \n",
       "201            124             1632    PG-13                   Uwe Boll   \n",
       "202            112             2772       PG                Jay Russell   \n",
       "203            113             3528    PG-13                Chris Weitz   \n",
       "204            N/A               28    PG-13                        N/A   \n",
       "205             94             3141       PG                        N/A   \n",
       "206            128             2540    PG-13             Matthew Vaughn   \n",
       "207            139             4285    PG-13                David Yates   \n",
       "\n",
       "                                                Actors Production Budget ($)  \\\n",
       "0    [Michael, Fassbender, Katherine, Waterston, De...              97000000   \n",
       "1    [Tom, Hiddleston, Brie, Larson, Samuel, L., Ja...             185000000   \n",
       "2    [Lucas, Till, Jane, Levy, Barry, Pepper, Rob, ...                   N/A   \n",
       "3                                                [N/a]                   N/A   \n",
       "4    [Nick, Robinson, Omar, Sy, Chris, Pratt, Bryce...             150000000   \n",
       "5    [Aaron, Johnson, Ken, Watanabe, Elizabeth, Ols...             160000000   \n",
       "6                                                [N/a]                   N/A   \n",
       "7    [Liam, Neeson, Dermot, Mulroney, James, Badge,...              25000000   \n",
       "8                                                [N/a]              38000000   \n",
       "9                                                [N/a]              25000000   \n",
       "10     [Kyle, Chandler, Elle, Fanning, Noah, Emmerich]              50000000   \n",
       "11                                               [N/a]                   N/A   \n",
       "12                                               [N/a]              24000000   \n",
       "13   [Adrien, Brody, Topher, Grace, Danny, Trejo, L...              40000000   \n",
       "14                      [Adrien, Brody, Sarah, Polley]              30000000   \n",
       "15   [Mia, Wasikowska, Sam, Worthington, Michael, V...                   N/A   \n",
       "16        [Mike, Vogel, Lizzy, Caplan, Jessica, Lucas]              25000000   \n",
       "17                                               [N/a]                   N/A   \n",
       "18                                     [Kang-ho, Song]                   N/A   \n",
       "19                                               [N/a]                   N/A   \n",
       "20   [Danny, De, Vito, , Zac, Efron, , Ed, Helms, ,...              70000000   \n",
       "21   [John, Krasinski, Drew, Barrymore, Kristen, Be...              40000000   \n",
       "22                                               [N/a]                   N/A   \n",
       "23                                               [N/a]                   N/A   \n",
       "24                                               [N/a]              35000000   \n",
       "25   [Sam, Worthington, Zoe, Saldana, Sigourney, We...             237000000   \n",
       "26                                               [N/a]                   N/A   \n",
       "27                                               [N/a]                   N/A   \n",
       "28                                               [N/a]                   N/A   \n",
       "29                                               [N/a]              80000000   \n",
       "..                                                 ...                   ...   \n",
       "178                                              [N/a]                   N/A   \n",
       "179    [Jim, Sturgess, Kirsten, Dunst, Timothy, Spall]                   N/A   \n",
       "180  [Tony, Cox, James, Franco, Mila, Kunis, Michel...             215000000   \n",
       "181  [Ewen, Bremner, Warwick, Davis, Nicholas, Houl...             195000000   \n",
       "182                                              [N/a]              75000000   \n",
       "183  [Jason, Momoa, Stephen, Lang, Rachel, Nichols,...              90000000   \n",
       "184  [Clemence, Poesy, Daniel, Radcliffe, Rupert, G...                   N/A   \n",
       "185  [Chris, Hemsworth, Natalie, Portman, Kat, Denn...             150000000   \n",
       "186  [Ben, Barnes, Tilda, Swinton, Liam, Neeson, , ...             155000000   \n",
       "187  [Warwick, Davis, Clemence, Poesy, Daniel, Radc...                   N/A   \n",
       "188  [Nicolas, Cage, Jay, Baruchel, Alfred, Molina,...             150000000   \n",
       "189  [Noah, Ringer, Dev, Patel, Jackson, Rathbone, ...             150000000   \n",
       "190  [Sam, Worthington, Liam, Neeson, Ralph, Fienne...             125000000   \n",
       "191  [Mia, Wasikowska, Johnny, Depp, Helena, Bonham...             200000000   \n",
       "192                                              [N/a]              95000000   \n",
       "193  [Chris, Cooper, , Paul, Dano, , James, Gandolf...             100000000   \n",
       "194  [Daniel, Radcliffe, Rupert, Grint, Emma, Watso...             250000000   \n",
       "195  [Justin, Chatwin, James, Marsters, Emmy, Rossu...                   N/A   \n",
       "196  [Brendan, Fraser, Sienna, Guillory, Paul, Bett...              60000000   \n",
       "197                                              [N/a]              55000000   \n",
       "198  [Warwick, Davis, Peter, Dinklage, Ben, Barnes,...             225000000   \n",
       "199                                              [N/a]                   N/A   \n",
       "200                                              [N/a]              90000000   \n",
       "201  [Jason, Statham, John, Rhys-, Davies, Ray, Lio...                   N/A   \n",
       "202  [Emily, Watson, Ben, Chaplin, David, Morrissey...                   N/A   \n",
       "203  [Nicole, Kidman, Daniel, Craig, Eva, Green, Sa...             180000000   \n",
       "204                                              [N/a]                   N/A   \n",
       "205                                              [N/a]                   N/A   \n",
       "206  [Claire, Danes, Michelle, Pfeiffer, Robert, De...              70000000   \n",
       "207  [Daniel, Radcliffe, Rupert, Grint, Emma, Watso...             150000000   \n",
       "\n",
       "     Opening Weekend Gross ($)  Domestic Total Gross ($)  \n",
       "0                     36160621                74262031.0  \n",
       "1                     61025472               168052812.0  \n",
       "2                     10950705                33370166.0  \n",
       "3                       458342                 1918403.0  \n",
       "4                    208806270               652270625.0  \n",
       "5                     93188384               200676069.0  \n",
       "6                        69447                  121179.0  \n",
       "7                     19665101                51580236.0  \n",
       "8                      8493665                16928670.0  \n",
       "9                      8404260                18877153.0  \n",
       "10                    35451168               127004179.0  \n",
       "11                        5585                  253444.0  \n",
       "12                    10106872                25003155.0  \n",
       "13                    24760882                52000688.0  \n",
       "14                     7385277                17010170.0  \n",
       "15                        7711                   10452.0  \n",
       "16                    40058229                80048433.0  \n",
       "17                    10059425                41797066.0  \n",
       "18                      314488                 2201923.0  \n",
       "19                     6048315                10597734.0  \n",
       "20                    70217070               214030500.0  \n",
       "21                     7760205                20157300.0  \n",
       "22                        2983                    9269.0  \n",
       "23                       17570                  122961.0  \n",
       "24                     6627564                17630465.0  \n",
       "25                    77025481               749766139.0  \n",
       "26                         595                    1181.0  \n",
       "27                        2408                   26748.0  \n",
       "28                     1082064                 1647083.0  \n",
       "29                    30480153                79366978.0  \n",
       "..                         ...                       ...  \n",
       "178                      25264                  279735.0  \n",
       "179                      28722                  105095.0  \n",
       "180                   79110453               234911825.0  \n",
       "181                   27202226                65187603.0  \n",
       "182                   32206425                83504017.0  \n",
       "183                   10021215                21295021.0  \n",
       "184                  169189427               381011219.0  \n",
       "185                   65723338               181030624.0  \n",
       "186                   24005069               104386950.0  \n",
       "187                  125017372               295983305.0  \n",
       "188                   17619622                63150991.0  \n",
       "189                   40325019               131772187.0  \n",
       "190                   61235105               163214888.0  \n",
       "191                  116101023               334191110.0  \n",
       "192                   31236067                88768303.0  \n",
       "193                   32695407                77233467.0  \n",
       "194                   77835727               301959197.0  \n",
       "195                    4756488                 9362785.0  \n",
       "196                    7601379                17303424.0  \n",
       "197                    3129473                 7873007.0  \n",
       "198                   55034805               141621490.0  \n",
       "199                      79611                 2266905.0  \n",
       "200                   19004058                71195053.0  \n",
       "201                    2984524                 4775656.0  \n",
       "202                    9186054                40946255.0  \n",
       "203                   25783232                70107728.0  \n",
       "204                      57977                  292102.0  \n",
       "205                    3745315                 8794452.0  \n",
       "206                    9169779                38634938.0  \n",
       "207                   77108414               292004738.0  \n",
       "\n",
       "[208 rows x 11 columns]"
      ]
     },
     "execution_count": 136,
     "metadata": {},
     "output_type": "execute_result"
    }
   ],
   "source": [
    "df_2D"
   ]
  },
  {
   "cell_type": "code",
   "execution_count": 137,
   "metadata": {
    "collapsed": true
   },
   "outputs": [],
   "source": [
    "movies_p2 = {}\n",
    "genre = ['3D'] * 100\n",
    "headers = ['Movie Title',\n",
    "           'Genre',\n",
    "           'Domestic Total Gross ($)',\n",
    "           'Release Date', \n",
    "           'Runtime (mins)', \n",
    "           'Wildest Release',\n",
    "           'Rating',\n",
    "           'Production Budget ($)',\n",
    "           'Directors',\n",
    "           'Actors', \n",
    "           'Opening Weekend Gross ($)']\n",
    "movies_p2 = dict(zip(headers, [title_p2,\n",
    "                            genre,\n",
    "                            domestic_total_gross_p2,\n",
    "                            release_date_p2,\n",
    "                            runtime_p2,\n",
    "                            theater_p2,\n",
    "                            rating_p2,\n",
    "                            production_budget_p2,\n",
    "                            directors_p2,\n",
    "                            actors_p2,\n",
    "                            opening_weekend_gross_p2]))\n",
    "df_p2 = pd.DataFrame(movies_p2)\n",
    "df_p2 = df_p2[['Movie Title', \n",
    "            'Genre',\n",
    "            'Release Date', \n",
    "            'Runtime (mins)',\n",
    "            'Wildest Release',\n",
    "            'Rating',\n",
    "            'Directors',\n",
    "            'Actors',\n",
    "            'Production Budget ($)',\n",
    "            'Opening Weekend Gross ($)',\n",
    "            'Domestic Total Gross ($)']]"
   ]
  },
  {
   "cell_type": "code",
   "execution_count": 138,
   "metadata": {
    "collapsed": true
   },
   "outputs": [],
   "source": [
    "%%capture\n",
    "df_p2"
   ]
  },
  {
   "cell_type": "code",
   "execution_count": 139,
   "metadata": {
    "collapsed": true
   },
   "outputs": [],
   "source": [
    "%%capture\n",
    "bgcolor = ['#ffffff','#f4f4ff','#ffff99']\n",
    "all_links_p3 = [] \n",
    "for tr in soup_p3.findAll('tr',{'bgcolor': bgcolor}):\n",
    "    for a in tr.findAll('a'):\n",
    "        full_link = 'http://www.boxofficemojo.com/' + a.attrs['href']\n",
    "        all_links_p3.append(full_link)\n",
    "        print (a.text.strip(), '=>', full_link)"
   ]
  },
  {
   "cell_type": "code",
   "execution_count": 140,
   "metadata": {},
   "outputs": [
    {
     "data": {
      "text/plain": [
       "50"
      ]
     },
     "execution_count": 140,
     "metadata": {},
     "output_type": "execute_result"
    }
   ],
   "source": [
    "# %%capture\n",
    "links_p3 = all_links_p3[:150][::3]\n",
    "len(links_p3)"
   ]
  },
  {
   "cell_type": "code",
   "execution_count": 141,
   "metadata": {
    "collapsed": true
   },
   "outputs": [],
   "source": [
    "title_p3 = []\n",
    "raw_domestic_total_gross_p3 = []\n",
    "raw_release_date_p3 = []\n",
    "raw_runtime_p3 = []\n",
    "rating_p3 = []\n",
    "raw_pro_budget_p3 = []\n",
    "find_box1_p3 = []\n",
    "find_box2_p3 = []\n",
    "raw_opening_gross_p3 = []\n",
    "\n",
    "for link in links_p3: \n",
    "    source_code3 = requests.get(link)\n",
    "    soup3=BeautifulSoup(source_code3.text, 'html5lib')\n",
    "    \n",
    "    find_box1_p3.append(find_box1_info(soup3))\n",
    "    find_box2_p3.append(find_box2_info(soup3))\n",
    "    \n",
    "    raw_opening_wknd_gross_p3 = find_box1_info(soup3)[0].find_all('td')[1].text\n",
    "    raw_opening_gross_p3.append(raw_opening_wknd_gross_p3)\n",
    "    \n",
    "    title_string_p3 = soup3.find('title').text\n",
    "    title_p3.append(title_string_p3.split('(')[0].strip()) \n",
    "    \n",
    "    raw_dtg_p3 = get_movie_value(soup3,'Domestic Total')\n",
    "    raw_domestic_total_gross_p3.append(raw_dtg_p3)\n",
    "    \n",
    "    raw_releasedate_p3 = get_movie_value(soup3,'Release Date')\n",
    "    raw_release_date_p3.append(raw_releasedate_p3)\n",
    "    \n",
    "    raw_run_time_p3 = get_movie_value(soup3,'Runtime')\n",
    "    raw_runtime_p3.append(raw_run_time_p3)\n",
    "\n",
    "    rating_string_p3 = get_movie_value(soup3,'MPAA Rating')\n",
    "    rating_p3.append(rating_string_p3)\n",
    "    \n",
    "    pro_budget_p3 = get_movie_value(soup3, 'Production Budget')\n",
    "    raw_pro_budget_p3.append(pro_budget_p3)"
   ]
  },
  {
   "cell_type": "code",
   "execution_count": 142,
   "metadata": {
    "collapsed": true
   },
   "outputs": [],
   "source": [
    "%%capture\n",
    "title_p3"
   ]
  },
  {
   "cell_type": "code",
   "execution_count": 143,
   "metadata": {
    "collapsed": true
   },
   "outputs": [],
   "source": [
    "%%capture\n",
    "rating_p3"
   ]
  },
  {
   "cell_type": "code",
   "execution_count": 144,
   "metadata": {
    "collapsed": true
   },
   "outputs": [],
   "source": [
    "%%capture\n",
    "domestic_total_gross_p3 = []\n",
    "for dtg in raw_domestic_total_gross_p3:\n",
    "    if dtg == None: \n",
    "        pass\n",
    "    else: \n",
    "        dtg = dtg.replace('$', '').replace(',', '')\n",
    "        dtg = int(dtg)\n",
    "    domestic_total_gross_p3.append(dtg)\n",
    "domestic_total_gross_p3[9] = int(35916045)  \n",
    "domestic_total_gross_p3[29] = int(26256065)\n",
    "domestic_total_gross_p3[30] = int(25545476)\n",
    "len(domestic_total_gross_p3)"
   ]
  },
  {
   "cell_type": "code",
   "execution_count": 145,
   "metadata": {
    "collapsed": true
   },
   "outputs": [],
   "source": [
    "%%capture\n",
    "theater_p3 = []\n",
    "for box in find_box1_p3:\n",
    "    if box[1].find_all('td')[0].text.startswith('(#'): \n",
    "        theater_p3.append((box[1].find_all('td')[0].text.split()[2]))\n",
    "    else: \n",
    "        theater_p3.append('N/A')\n",
    "theater_p3[37] = '2,324'\n",
    "theater_p3"
   ]
  },
  {
   "cell_type": "code",
   "execution_count": 146,
   "metadata": {
    "collapsed": true
   },
   "outputs": [],
   "source": [
    "%%capture\n",
    "release_date_p3=[]\n",
    "for rd in raw_release_date_p3:\n",
    "    rd = parse(rd)\n",
    "    release_date_p3.append(rd)\n",
    "release_date_p3"
   ]
  },
  {
   "cell_type": "code",
   "execution_count": 147,
   "metadata": {
    "collapsed": true
   },
   "outputs": [],
   "source": [
    "%%capture\n",
    "raw_opening_gross_p3[37] = '\\xa0$5,062,479'\n",
    "opening_weekend_gross_p3 = []\n",
    "for row in raw_opening_gross_p3:\n",
    "    row = int(row.strip().replace('$','').replace(',',''))\n",
    "    opening_weekend_gross_p3.append(row)\n",
    "len(opening_weekend_gross_p3)"
   ]
  },
  {
   "cell_type": "code",
   "execution_count": 148,
   "metadata": {
    "collapsed": true
   },
   "outputs": [],
   "source": [
    "%%capture\n",
    "runtime_p3=[]\n",
    "for rt in raw_runtime_p3: \n",
    "    if rt == 'N/A':\n",
    "        runtime_p3.append('N/A')\n",
    "    else: \n",
    "        rt = rt.split()\n",
    "        minutes = int(rt[0])*60 + int(rt[2])\n",
    "        rt = minutes \n",
    "        runtime_p3.append(rt)\n",
    "len(runtime_p3)"
   ]
  },
  {
   "cell_type": "code",
   "execution_count": 149,
   "metadata": {
    "collapsed": true
   },
   "outputs": [],
   "source": [
    "%%capture\n",
    "prod_budget_p3 = []\n",
    "for budget in raw_pro_budget_p3: \n",
    "    if budget == 'N/A':\n",
    "        pass\n",
    "    else: \n",
    "        budget = float(budget.split()[0].replace('$',''))\n",
    "    prod_budget_p3.append(budget)\n",
    "prod_budget_p3[2]=float(50)\n",
    "prod_budget_p3[7]=float(2.3)\n",
    "prod_budget_p3[15]=float(20)\n",
    "prod_budget_p3[17]=float(125)\n",
    "prod_budget_p3[20]=float(90)\n",
    "prod_budget_p3[26]=float(80)\n",
    "prod_budget_p3[29]=float(70)\n",
    "prod_budget_p3[32]=float(20)\n",
    "prod_budget_p3[41]=float(17)\n",
    "prod_budget_p3[48]=float(13)\n",
    "production_budget_p3 = []\n",
    "for i in prod_budget_p3:\n",
    "    if i == 'N/A':\n",
    "        pass\n",
    "    else: \n",
    "        i = int(i*1000000)\n",
    "    production_budget_p3.append(i)\n",
    "len(production_budget_p3)"
   ]
  },
  {
   "cell_type": "code",
   "execution_count": 1,
   "metadata": {},
   "outputs": [
    {
     "ename": "NameError",
     "evalue": "name 'find_box2_p3' is not defined",
     "output_type": "error",
     "traceback": [
      "\u001b[0;31m---------------------------------------------------------------------------\u001b[0m",
      "\u001b[0;31mNameError\u001b[0m                                 Traceback (most recent call last)",
      "\u001b[0;32m<ipython-input-1-95a024714393>\u001b[0m in \u001b[0;36m<module>\u001b[0;34m()\u001b[0m\n\u001b[1;32m      1\u001b[0m \u001b[0;31m# %%capture\u001b[0m\u001b[0;34m\u001b[0m\u001b[0;34m\u001b[0m\u001b[0m\n\u001b[1;32m      2\u001b[0m \u001b[0mraw_directors_p3\u001b[0m\u001b[0;34m=\u001b[0m\u001b[0;34m[\u001b[0m\u001b[0;34m]\u001b[0m\u001b[0;34m\u001b[0m\u001b[0m\n\u001b[0;32m----> 3\u001b[0;31m \u001b[0;32mfor\u001b[0m \u001b[0mbox\u001b[0m \u001b[0;32min\u001b[0m \u001b[0mfind_box2_p3\u001b[0m\u001b[0;34m:\u001b[0m\u001b[0;34m\u001b[0m\u001b[0m\n\u001b[0m\u001b[1;32m      4\u001b[0m     \u001b[0mraw_directors_p3\u001b[0m\u001b[0;34m.\u001b[0m\u001b[0mappend\u001b[0m\u001b[0;34m(\u001b[0m\u001b[0mbox\u001b[0m\u001b[0;34m[\u001b[0m\u001b[0;36m0\u001b[0m\u001b[0;34m]\u001b[0m\u001b[0;34m.\u001b[0m\u001b[0mtext\u001b[0m\u001b[0;34m)\u001b[0m\u001b[0;34m\u001b[0m\u001b[0m\n\u001b[1;32m      5\u001b[0m \u001b[0;31m# for i, raw in enumerate(raw_directors_p3):\u001b[0m\u001b[0;34m\u001b[0m\u001b[0;34m\u001b[0m\u001b[0m\n",
      "\u001b[0;31mNameError\u001b[0m: name 'find_box2_p3' is not defined"
     ]
    }
   ],
   "source": [
    "# %%capture\n",
    "raw_directors_p3=[]\n",
    "for box in find_box2_p3:\n",
    "    raw_directors_p3.append(box[0].text)\n",
    "# for i, raw in enumerate(raw_directors_p3):\n",
    "#     if not raw.startswith('Director'):\n",
    "#         print(i,raw)\n",
    "raw_directors_p3[7] = 'Directors:Steve Miner'\n",
    "raw_directors_p3[9] = 'Directors:Howard Hall'\n",
    "raw_directors_p3[14] = 'Director:Cody CameronKris Pearn'\n",
    "raw_directors_p3[20] = 'Directors:Rachel Talalay'\n",
    "raw_directors_p3[24] = 'Director:Ericson Core'\n",
    "raw_directors_p3[29] = 'Directors:Charlie BeanPaul FisherBob Logan'\n",
    "raw_directors_p3[30] = 'Director:David Lickley'\n",
    "raw_directors_p3[31] = 'Directors:Dan CutforthJane Lipsitz'\n",
    "raw_directors_p3[32] = 'Director:David Lowery'\n",
    "raw_directors_p3[41] = 'Director:Anthony BellBen Gluck'\n",
    "raw_directors_p3[49] = 'Director:Lamont Johnson'\n",
    "raw_directors_p3 = [str(raw.split(':')[1]) for raw in raw_directors_p3]\n",
    "directors_p3 = []\n",
    "for a in raw_directors_p3:\n",
    "    a = re.findall('[A-Z][^A-Z]*', a)\n",
    "    directors_p3.append(a) \n",
    "directors_p3 = [[name.strip().replace(' ','').replace(')','').replace('(','') for name in d] for d in directors_p3] \n",
    "directors_p3"
   ]
  },
  {
   "cell_type": "code",
   "execution_count": 151,
   "metadata": {
    "collapsed": true
   },
   "outputs": [],
   "source": [
    "%%capture\n",
    "raw_actors_p3 = []\n",
    "for box in find_box2_p3:\n",
    "    if len(box) > 3: \n",
    "        raw_actors_p3.append(box[3].text)\n",
    "    elif len(box) == 3: \n",
    "        raw_actors_p3.append(box[1].text)\n",
    "    elif len(box) == 3: \n",
    "        raw_actors_p3.append(box[1].text)\n",
    "    else: \n",
    "        raw_actors_p3.append(box[0].text)\n",
    "# for i, raw in enumerate(raw_actors_p3):\n",
    "#     if not raw.startswith('Actor'):\n",
    "#         print(i,raw)\n",
    "raw_actors_p3[7]= 'Actors:Dana KimmellPaul KratkaRichard Brooker'\n",
    "raw_actors_p3[8]= 'Actors:Animation'\n",
    "raw_actors_p3[9]= 'Actors:Animation'\n",
    "raw_actors_p3[14]= 'Actors:Robert EnglundLisa ZaneShon GreenblattLezlie DeaneYaphet Kotto'\n",
    "raw_actors_p3[23]= 'Actors:Niall HoranZayn MalikLiam PayneHarry StylesLouis Tomlinson'\n",
    "raw_actors_p3[24]= 'Actors:Luke BraceyDelroy LindoTeresa PalmerEdgar RamirezRay Winstone'\n",
    "raw_actors_p3[27]= 'Actors:Milla Jovovich'\n",
    "raw_actors_p3[28]= 'Actors:Jack HustonToby KebbellRodrigo SantoroAyelet ZurerMorgan Freeman'\n",
    "raw_actors_p3[29]= 'Actors:Animation'\n",
    "raw_actors_p3[30]= 'Actors:Animation'\n",
    "raw_actors_p3[31]= 'Actors:Katy Perry'\n",
    "raw_actors_p3[32]= 'Actors:Animation'\n",
    "raw_actors_p3[33]= 'Actors:Ben Kingsley Chloe Moretz Sacha Baron Cohen Jude Law Emily Mortimer* Christopher Lee* Richard Griffiths* Ray Winstone*'\n",
    "raw_actors_p3[34]= 'Actors:Animation'\n",
    "raw_actors_p3[35]= 'Actors:Tom HollandChris HemsworthBenjamin WalkerCillian MurphyBen WhishawBrendan Gleeson'\n",
    "raw_actors_p3[36]= 'Actors:Ioan GruffuddRichard RoxburghRhys Wakefield'\n",
    "raw_actors_p3[41]= 'Actors:Kevin JonasJoe JonasNick JonasDemi LovatoTaylor Swift'\n",
    "raw_actors_p3[43]= 'Actors:Animation'\n",
    "raw_actors_p3[48]= 'Actors:Animation*'\n",
    "raw_actors_p3[49]= 'Actors:Peter StraussMolly RingwaldErnie HudsonMichael Ironside'\n",
    "raw_actors_p3 = [str(raw.split(':')[1]) for raw in raw_actors_p3]\n",
    "raw_actors_p3"
   ]
  },
  {
   "cell_type": "code",
   "execution_count": 152,
   "metadata": {
    "collapsed": true
   },
   "outputs": [],
   "source": [
    "%%capture\n",
    "actors_p3 = []\n",
    "for a in raw_actors_p3:\n",
    "    a = re.findall('[A-Z][^A-Z]*', a)\n",
    "    actors_p3.append(a)   \n",
    "actors_p3 = ([[name.strip().replace('*','')\n",
    "               .replace(' ','').replace('(','')\n",
    "               .replace(')','').replace('(executive)','') \n",
    "               for name in actor] for actor in actors_p3]) \n",
    "actors_p3"
   ]
  },
  {
   "cell_type": "code",
   "execution_count": 153,
   "metadata": {
    "collapsed": true
   },
   "outputs": [],
   "source": [
    "movies_p3 = {}\n",
    "genre = ['3D'] * 50\n",
    "headers = ['Movie Title',\n",
    "           'Genre',\n",
    "           'Domestic Total Gross ($)',\n",
    "           'Release Date', \n",
    "           'Runtime (mins)', \n",
    "           'Wildest Release',\n",
    "           'Rating',\n",
    "           'Production Budget ($)',\n",
    "           'Directors',\n",
    "           'Actors', \n",
    "           'Opening Weekend Gross ($)']\n",
    "movies_p3 = dict(zip(headers, [title_p3,\n",
    "                            genre,\n",
    "                            domestic_total_gross_p3,\n",
    "                            release_date_p3,\n",
    "                            runtime_p3,\n",
    "                            theater_p3,\n",
    "                            rating_p3,\n",
    "                            production_budget_p3,\n",
    "                            directors_p3,\n",
    "                            actors_p3,\n",
    "                            opening_weekend_gross_p3]))\n",
    "df_p3 = pd.DataFrame(movies_p3)\n",
    "df_p3 = df_p3[['Movie Title', \n",
    "            'Genre',\n",
    "            'Release Date', \n",
    "            'Runtime (mins)',\n",
    "            'Wildest Release',\n",
    "            'Rating',\n",
    "            'Directors',\n",
    "            'Actors',\n",
    "            'Production Budget ($)',\n",
    "            'Opening Weekend Gross ($)',\n",
    "            'Domestic Total Gross ($)']]"
   ]
  },
  {
   "cell_type": "code",
   "execution_count": 154,
   "metadata": {
    "collapsed": true
   },
   "outputs": [],
   "source": [
    "df_3D = pd.concat([df_p1,df_p2,df_p3])"
   ]
  },
  {
   "cell_type": "code",
   "execution_count": 155,
   "metadata": {
    "collapsed": true
   },
   "outputs": [],
   "source": [
    "df_movies = pd.concat([df_3D, df_2D])"
   ]
  },
  {
   "cell_type": "code",
   "execution_count": 156,
   "metadata": {
    "collapsed": true
   },
   "outputs": [],
   "source": [
    "with open('movies.pickle', 'wb') as handle: \n",
    "    pickle.dump(df_movies, handle, pickle.HIGHEST_PROTOCOL)"
   ]
  },
  {
   "cell_type": "code",
   "execution_count": null,
   "metadata": {
    "collapsed": true
   },
   "outputs": [],
   "source": []
  },
  {
   "cell_type": "code",
   "execution_count": null,
   "metadata": {
    "collapsed": true
   },
   "outputs": [],
   "source": []
  },
  {
   "cell_type": "code",
   "execution_count": null,
   "metadata": {
    "collapsed": true
   },
   "outputs": [],
   "source": []
  },
  {
   "cell_type": "code",
   "execution_count": null,
   "metadata": {
    "collapsed": true
   },
   "outputs": [],
   "source": []
  },
  {
   "cell_type": "code",
   "execution_count": null,
   "metadata": {
    "collapsed": true
   },
   "outputs": [],
   "source": []
  },
  {
   "cell_type": "code",
   "execution_count": null,
   "metadata": {
    "collapsed": true
   },
   "outputs": [],
   "source": []
  },
  {
   "cell_type": "code",
   "execution_count": null,
   "metadata": {
    "collapsed": true
   },
   "outputs": [],
   "source": []
  },
  {
   "cell_type": "code",
   "execution_count": null,
   "metadata": {
    "collapsed": true
   },
   "outputs": [],
   "source": []
  },
  {
   "cell_type": "code",
   "execution_count": null,
   "metadata": {
    "collapsed": true
   },
   "outputs": [],
   "source": []
  },
  {
   "cell_type": "code",
   "execution_count": null,
   "metadata": {
    "collapsed": true
   },
   "outputs": [],
   "source": []
  },
  {
   "cell_type": "code",
   "execution_count": null,
   "metadata": {
    "collapsed": true
   },
   "outputs": [],
   "source": []
  },
  {
   "cell_type": "code",
   "execution_count": null,
   "metadata": {
    "collapsed": true
   },
   "outputs": [],
   "source": []
  },
  {
   "cell_type": "code",
   "execution_count": null,
   "metadata": {
    "collapsed": true
   },
   "outputs": [],
   "source": []
  },
  {
   "cell_type": "code",
   "execution_count": null,
   "metadata": {
    "collapsed": true
   },
   "outputs": [],
   "source": []
  },
  {
   "cell_type": "code",
   "execution_count": null,
   "metadata": {
    "collapsed": true
   },
   "outputs": [],
   "source": []
  },
  {
   "cell_type": "code",
   "execution_count": 47,
   "metadata": {
    "collapsed": true
   },
   "outputs": [],
   "source": [
    "# class box():\n",
    "#     \"\"\"\n",
    "#     This class scraps a specific box in boxofficemojo's movie pages.\n",
    "#     Information extracted are: \n",
    "#     ---\n",
    "#     Opening Weekend Gross ('opening_wknd_gross');\n",
    "#     Theaters ('theaters');\n",
    "#     Days of In Release ('release_days)\n",
    "#     \"\"\"\n",
    "#     def __ini__(self, soup):\n",
    "#         self.boxes = boxes \n",
    "# #         self.\n",
    "# def find_box_info(soup):\n",
    "#     if soup1.findAll('div',{'class':'mp_box_content'}):\n",
    "#         boxes = soup.findAll('div',{'class':'mp_box_content'})\n",
    "#         rows = [row for row in boxes[1].find_all('tr')]\n",
    "#         rows = rows[:20]\n",
    "#         return rows\n",
    "#     else: \n",
    "#         return None\n",
    "    "
   ]
  },
  {
   "cell_type": "code",
   "execution_count": null,
   "metadata": {
    "collapsed": true
   },
   "outputs": [],
   "source": []
  },
  {
   "cell_type": "code",
   "execution_count": null,
   "metadata": {
    "collapsed": true
   },
   "outputs": [],
   "source": []
  },
  {
   "cell_type": "code",
   "execution_count": null,
   "metadata": {
    "collapsed": true
   },
   "outputs": [],
   "source": []
  },
  {
   "cell_type": "code",
   "execution_count": null,
   "metadata": {
    "collapsed": true
   },
   "outputs": [],
   "source": []
  },
  {
   "cell_type": "code",
   "execution_count": null,
   "metadata": {
    "collapsed": true
   },
   "outputs": [],
   "source": []
  },
  {
   "cell_type": "code",
   "execution_count": null,
   "metadata": {
    "collapsed": true
   },
   "outputs": [],
   "source": []
  },
  {
   "cell_type": "code",
   "execution_count": null,
   "metadata": {
    "collapsed": true
   },
   "outputs": [],
   "source": []
  },
  {
   "cell_type": "code",
   "execution_count": null,
   "metadata": {
    "collapsed": true
   },
   "outputs": [],
   "source": []
  },
  {
   "cell_type": "code",
   "execution_count": null,
   "metadata": {
    "collapsed": true
   },
   "outputs": [],
   "source": []
  },
  {
   "cell_type": "code",
   "execution_count": null,
   "metadata": {
    "collapsed": true
   },
   "outputs": [],
   "source": []
  },
  {
   "cell_type": "code",
   "execution_count": null,
   "metadata": {
    "collapsed": true
   },
   "outputs": [],
   "source": []
  },
  {
   "cell_type": "markdown",
   "metadata": {},
   "source": [
    "### Model testing on 100 observations "
   ]
  },
  {
   "cell_type": "code",
   "execution_count": 8,
   "metadata": {},
   "outputs": [
    {
     "name": "stdout",
     "output_type": "stream",
     "text": [
      "<class 'pandas.core.frame.DataFrame'>\n",
      "RangeIndex: 100 entries, 0 to 99\n",
      "Data columns (total 6 columns):\n",
      "Movie Title             100 non-null object\n",
      "Release Date            100 non-null datetime64[ns]\n",
      "Runtime (mins)          100 non-null int64\n",
      "Rating                  100 non-null object\n",
      "Production Budget       100 non-null int64\n",
      "Domestic Total Gross    100 non-null int64\n",
      "dtypes: datetime64[ns](1), int64(3), object(2)\n",
      "memory usage: 4.8+ KB\n"
     ]
    }
   ],
   "source": [
    "df_p1.info()"
   ]
  },
  {
   "cell_type": "code",
   "execution_count": 13,
   "metadata": {
    "collapsed": true
   },
   "outputs": [],
   "source": [
    "dtg_df= df_p1.loc[:,['Runtime (mins)','Production Budget',\n",
    "       'Domestic Total Gross']]"
   ]
  },
  {
   "cell_type": "code",
   "execution_count": 14,
   "metadata": {},
   "outputs": [
    {
     "data": {
      "text/html": [
       "<div>\n",
       "<style>\n",
       "    .dataframe thead tr:only-child th {\n",
       "        text-align: right;\n",
       "    }\n",
       "\n",
       "    .dataframe thead th {\n",
       "        text-align: left;\n",
       "    }\n",
       "\n",
       "    .dataframe tbody tr th {\n",
       "        vertical-align: top;\n",
       "    }\n",
       "</style>\n",
       "<table border=\"1\" class=\"dataframe\">\n",
       "  <thead>\n",
       "    <tr style=\"text-align: right;\">\n",
       "      <th></th>\n",
       "      <th>Runtime (mins)</th>\n",
       "      <th>Production Budget</th>\n",
       "      <th>Domestic Total Gross</th>\n",
       "    </tr>\n",
       "  </thead>\n",
       "  <tbody>\n",
       "    <tr>\n",
       "      <th>count</th>\n",
       "      <td>100.000000</td>\n",
       "      <td>1.000000e+02</td>\n",
       "      <td>1.000000e+02</td>\n",
       "    </tr>\n",
       "    <tr>\n",
       "      <th>mean</th>\n",
       "      <td>115.660000</td>\n",
       "      <td>1.630700e+08</td>\n",
       "      <td>2.665278e+08</td>\n",
       "    </tr>\n",
       "    <tr>\n",
       "      <th>std</th>\n",
       "      <td>20.800748</td>\n",
       "      <td>5.145249e+07</td>\n",
       "      <td>1.355760e+08</td>\n",
       "    </tr>\n",
       "    <tr>\n",
       "      <th>min</th>\n",
       "      <td>86.000000</td>\n",
       "      <td>6.000000e+07</td>\n",
       "      <td>1.378559e+08</td>\n",
       "    </tr>\n",
       "    <tr>\n",
       "      <th>25%</th>\n",
       "      <td>96.750000</td>\n",
       "      <td>1.300000e+08</td>\n",
       "      <td>1.755579e+08</td>\n",
       "    </tr>\n",
       "    <tr>\n",
       "      <th>50%</th>\n",
       "      <td>111.500000</td>\n",
       "      <td>1.675000e+08</td>\n",
       "      <td>2.307103e+08</td>\n",
       "    </tr>\n",
       "    <tr>\n",
       "      <th>75%</th>\n",
       "      <td>131.500000</td>\n",
       "      <td>2.000000e+08</td>\n",
       "      <td>3.307710e+08</td>\n",
       "    </tr>\n",
       "    <tr>\n",
       "      <th>max</th>\n",
       "      <td>166.000000</td>\n",
       "      <td>2.600000e+08</td>\n",
       "      <td>9.366622e+08</td>\n",
       "    </tr>\n",
       "  </tbody>\n",
       "</table>\n",
       "</div>"
      ],
      "text/plain": [
       "       Runtime (mins)  Production Budget  Domestic Total Gross\n",
       "count      100.000000       1.000000e+02          1.000000e+02\n",
       "mean       115.660000       1.630700e+08          2.665278e+08\n",
       "std         20.800748       5.145249e+07          1.355760e+08\n",
       "min         86.000000       6.000000e+07          1.378559e+08\n",
       "25%         96.750000       1.300000e+08          1.755579e+08\n",
       "50%        111.500000       1.675000e+08          2.307103e+08\n",
       "75%        131.500000       2.000000e+08          3.307710e+08\n",
       "max        166.000000       2.600000e+08          9.366622e+08"
      ]
     },
     "execution_count": 14,
     "metadata": {},
     "output_type": "execute_result"
    }
   ],
   "source": [
    "dtg_df.describe()"
   ]
  },
  {
   "cell_type": "code",
   "execution_count": 15,
   "metadata": {},
   "outputs": [
    {
     "data": {
      "text/plain": [
       "(100, 3)"
      ]
     },
     "execution_count": 15,
     "metadata": {},
     "output_type": "execute_result"
    }
   ],
   "source": [
    "dtg_df.shape"
   ]
  },
  {
   "cell_type": "code",
   "execution_count": 16,
   "metadata": {},
   "outputs": [
    {
     "data": {
      "text/plain": [
       "<seaborn.axisgrid.PairGrid at 0x118f0d5f8>"
      ]
     },
     "execution_count": 16,
     "metadata": {},
     "output_type": "execute_result"
    },
    {
     "data": {
      "image/png": "[encoded data removed]",
      "text/plain": [
       "<matplotlib.figure.Figure at 0x118f0d748>"
      ]
     },
     "metadata": {},
     "output_type": "display_data"
    }
   ],
   "source": [
    "sns.pairplot(dtg_df)"
   ]
  },
  {
   "cell_type": "code",
   "execution_count": 19,
   "metadata": {},
   "outputs": [
    {
     "data": {
      "text/plain": [
       "(3, 3)"
      ]
     },
     "execution_count": 19,
     "metadata": {},
     "output_type": "execute_result"
    }
   ],
   "source": [
    "corr = dtg_df.corr()\n",
    "corr.shape"
   ]
  },
  {
   "cell_type": "code",
   "execution_count": 20,
   "metadata": {},
   "outputs": [
    {
     "data": {
      "image/png": "[encoded data removed]",
      "text/plain": [
       "<matplotlib.figure.Figure at 0x11c550748>"
      ]
     },
     "metadata": {},
     "output_type": "display_data"
    }
   ],
   "source": [
    "plt.figure(figsize=(8,8))\n",
    "ax = plt.gca()\n",
    "plt.imshow(corr, cmap='Blues', interpolation='nearest')\n",
    "cbar = plt.colorbar()\n",
    "plt.grid(False)\n",
    "plt.yticks(np.arange(corr.shape[1]))\n",
    "plt.xticks(np.arange(corr.shape[0])-0.5, rotation=45)\n",
    "ax.set_xticklabels(list(dtg_df.columns), minor=False)\n",
    "ax.set_yticklabels(list(dtg_df.columns), minor=False);"
   ]
  },
  {
   "cell_type": "markdown",
   "metadata": {},
   "source": [
    "## Building Model - Linear Regression"
   ]
  },
  {
   "cell_type": "code",
   "execution_count": 46,
   "metadata": {
    "collapsed": true
   },
   "outputs": [],
   "source": [
    "X=dtg_df.loc[:,['Production Budget','Runtime']]\n",
    "\n",
    "y=dtg_df['Domestic Total Gross']"
   ]
  },
  {
   "cell_type": "code",
   "execution_count": 47,
   "metadata": {
    "collapsed": true
   },
   "outputs": [],
   "source": [
    "X_train, X_test, y_train, y_test = train_test_split(X, y, test_size=0.3,random_state=42)"
   ]
  },
  {
   "cell_type": "code",
   "execution_count": 50,
   "metadata": {
    "collapsed": true
   },
   "outputs": [],
   "source": [
    "selected_columns_1 = ['Production Budget']"
   ]
  },
  {
   "cell_type": "code",
   "execution_count": 51,
   "metadata": {},
   "outputs": [
    {
     "data": {
      "text/plain": [
       "LinearRegression(copy_X=True, fit_intercept=True, n_jobs=1, normalize=False)"
      ]
     },
     "execution_count": 51,
     "metadata": {},
     "output_type": "execute_result"
    }
   ],
   "source": [
    "lr_model1 = LinearRegression()\n",
    "lr_model1.fit(X_train.loc[:,selected_columns_1],y_train)"
   ]
  },
  {
   "cell_type": "code",
   "execution_count": 52,
   "metadata": {},
   "outputs": [
    {
     "data": {
      "text/plain": [
       "(array([ 0.86452633]), 115878990.54082376)"
      ]
     },
     "execution_count": 52,
     "metadata": {},
     "output_type": "execute_result"
    }
   ],
   "source": [
    "lr_model1.coef_, lr_model1.intercept_"
   ]
  },
  {
   "cell_type": "code",
   "execution_count": 70,
   "metadata": {},
   "outputs": [
    {
     "data": {
      "text/plain": [
       "<matplotlib.text.Text at 0x11f3d5470>"
      ]
     },
     "execution_count": 70,
     "metadata": {},
     "output_type": "execute_result"
    },
    {
     "data": {
      "image/png": "[encoded data removed]",
      "text/plain": [
       "<matplotlib.figure.Figure at 0x11f3425f8>"
      ]
     },
     "metadata": {},
     "output_type": "display_data"
    }
   ],
   "source": [
    "plt.scatter(X_train['Production Budget'],y_train,alpha=.5)\n",
    "vec1 = np.linspace(0,400000,100000)\n",
    "plt.plot(vec1, lr_model1.intercept_ + lr_model1.coef_[0]*vec1,'r')\n",
    "plt.title(\"Domestic Total Gross for 3D Movies\")\n",
    "plt.xlabel(\"Movie Production Budget\")\n",
    "plt.ylabel(\"Movie Domestic Total Gross\")"
   ]
  },
  {
   "cell_type": "code",
   "execution_count": 56,
   "metadata": {
    "collapsed": true
   },
   "outputs": [],
   "source": [
    "train_set_pred1 = lr_model1.predict(X_train.loc[:,selected_columns_1])\n",
    "test_set_pred1 = lr_model1.predict(X_test.loc[:,selected_columns_1])"
   ]
  },
  {
   "cell_type": "code",
   "execution_count": 60,
   "metadata": {
    "scrolled": true
   },
   "outputs": [
    {
     "data": {
      "text/plain": [
       "[<matplotlib.lines.Line2D at 0x11e65fc18>]"
      ]
     },
     "execution_count": 60,
     "metadata": {},
     "output_type": "execute_result"
    },
    {
     "data": {
      "image/png": "[encoded data removed]",
      "text/plain": [
       "<matplotlib.figure.Figure at 0x11e65fc88>"
      ]
     },
     "metadata": {},
     "output_type": "display_data"
    }
   ],
   "source": [
    "plt.scatter(test_set_pred1,y_test,alpha = 0.5)\n",
    "plt.plot(np.linspace(0,600000,1000),np.linspace(0,600000,1000))"
   ]
  },
  {
   "cell_type": "code",
   "execution_count": 63,
   "metadata": {},
   "outputs": [
    {
     "data": {
      "text/plain": [
       "0.035065532059331606"
      ]
     },
     "execution_count": 63,
     "metadata": {},
     "output_type": "execute_result"
    }
   ],
   "source": [
    "def adj_r2(rsquare, num_data, num_features):\n",
    "    temp = (1-rsquare)*(num_data-1)\n",
    "    temp = temp/(num_data-num_features-1)\n",
    "    temp = 1 - temp\n",
    "    return temp\n",
    "\n",
    "adj_r2(r2_score(y_test,test_set_pred1),X_test.shape[0],X_test.shape[1])"
   ]
  },
  {
   "cell_type": "code",
   "execution_count": 64,
   "metadata": {},
   "outputs": [
    {
     "data": {
      "text/plain": [
       "151790424.59015915"
      ]
     },
     "execution_count": 64,
     "metadata": {},
     "output_type": "execute_result"
    }
   ],
   "source": [
    "def standard_error_estimate(true,pred,num_data):\n",
    "    sse = 0\n",
    "    for y,ypred in zip(true,pred):\n",
    "        sse += (y-ypred)**2\n",
    "    return np.sqrt(sse/(num_data-2))\n",
    "\n",
    "standard_error_estimate(y_test,test_set_pred1,X_test.shape[0])"
   ]
  },
  {
   "cell_type": "code",
   "execution_count": 65,
   "metadata": {},
   "outputs": [
    {
     "name": "stdout",
     "output_type": "stream",
     "text": [
      "Mean Squared Error:  2.15043107974e+16\n",
      "Root Mean Squared Error:  146643481.947\n",
      "Mean Absolute Error:  98005185.0036\n",
      "R2:  0.101612736745\n",
      "Adj R2:  0.0350655320593\n",
      "Standard Error of Estimate:  151790424.59\n"
     ]
    }
   ],
   "source": [
    "def test_model_results(true, X, pred):\n",
    "    print(\"Mean Squared Error: \", mean_squared_error(true,pred))\n",
    "    print(\"Root Mean Squared Error: \", np.sqrt(mean_squared_error(true,pred)))\n",
    "    print(\"Mean Absolute Error: \",mean_absolute_error(true,pred))\n",
    "    r2 = r2_score(true,pred)\n",
    "    print(\"R2: \", r2)\n",
    "    print(\"Adj R2: \", adj_r2(r2,X.shape[0],X.shape[1]))\n",
    "    print(\"Standard Error of Estimate: \", standard_error_estimate(true,pred,X.shape[0]))\n",
    "          \n",
    "test_model_results(y_test, X_test, test_set_pred1)"
   ]
  },
  {
   "cell_type": "code",
   "execution_count": 71,
   "metadata": {},
   "outputs": [
    {
     "ename": "SyntaxError",
     "evalue": "invalid syntax (<unknown>, line 1)",
     "output_type": "error",
     "traceback": [
      "Traceback \u001b[0;36m(most recent call last)\u001b[0m:\n",
      "  File \u001b[1;32m\"/Users/liyuqiao/anaconda/envs/py3/lib/python3.6/site-packages/IPython/core/interactiveshell.py\"\u001b[0m, line \u001b[1;32m2862\u001b[0m, in \u001b[1;35mrun_code\u001b[0m\n    exec(code_obj, self.user_global_ns, self.user_ns)\n",
      "  File \u001b[1;32m\"<ipython-input-71-6795a0f5ab5f>\"\u001b[0m, line \u001b[1;32m1\u001b[0m, in \u001b[1;35m<module>\u001b[0m\n    lm1 = smf.ols('Domestic Total Gross ~ Production Budget', data=dtg_df)\n",
      "  File \u001b[1;32m\"/Users/liyuqiao/anaconda/envs/py3/lib/python3.6/site-packages/statsmodels/base/model.py\"\u001b[0m, line \u001b[1;32m155\u001b[0m, in \u001b[1;35mfrom_formula\u001b[0m\n    missing=missing)\n",
      "  File \u001b[1;32m\"/Users/liyuqiao/anaconda/envs/py3/lib/python3.6/site-packages/statsmodels/formula/formulatools.py\"\u001b[0m, line \u001b[1;32m65\u001b[0m, in \u001b[1;35mhandle_formula_data\u001b[0m\n    NA_action=na_action)\n",
      "  File \u001b[1;32m\"/Users/liyuqiao/anaconda/envs/py3/lib/python3.6/site-packages/patsy/highlevel.py\"\u001b[0m, line \u001b[1;32m310\u001b[0m, in \u001b[1;35mdmatrices\u001b[0m\n    NA_action, return_type)\n",
      "  File \u001b[1;32m\"/Users/liyuqiao/anaconda/envs/py3/lib/python3.6/site-packages/patsy/highlevel.py\"\u001b[0m, line \u001b[1;32m165\u001b[0m, in \u001b[1;35m_do_highlevel_design\u001b[0m\n    NA_action)\n",
      "  File \u001b[1;32m\"/Users/liyuqiao/anaconda/envs/py3/lib/python3.6/site-packages/patsy/highlevel.py\"\u001b[0m, line \u001b[1;32m70\u001b[0m, in \u001b[1;35m_try_incr_builders\u001b[0m\n    NA_action)\n",
      "  File \u001b[1;32m\"/Users/liyuqiao/anaconda/envs/py3/lib/python3.6/site-packages/patsy/build.py\"\u001b[0m, line \u001b[1;32m689\u001b[0m, in \u001b[1;35mdesign_matrix_builders\u001b[0m\n    factor_states = _factors_memorize(all_factors, data_iter_maker, eval_env)\n",
      "  File \u001b[1;32m\"/Users/liyuqiao/anaconda/envs/py3/lib/python3.6/site-packages/patsy/build.py\"\u001b[0m, line \u001b[1;32m354\u001b[0m, in \u001b[1;35m_factors_memorize\u001b[0m\n    which_pass = factor.memorize_passes_needed(state, eval_env)\n",
      "  File \u001b[1;32m\"/Users/liyuqiao/anaconda/envs/py3/lib/python3.6/site-packages/patsy/eval.py\"\u001b[0m, line \u001b[1;32m474\u001b[0m, in \u001b[1;35mmemorize_passes_needed\u001b[0m\n    subset_names = [name for name in ast_names(self.code)\n",
      "  File \u001b[1;32m\"/Users/liyuqiao/anaconda/envs/py3/lib/python3.6/site-packages/patsy/eval.py\"\u001b[0m, line \u001b[1;32m474\u001b[0m, in \u001b[1;35m<listcomp>\u001b[0m\n    subset_names = [name for name in ast_names(self.code)\n",
      "  File \u001b[1;32m\"/Users/liyuqiao/anaconda/envs/py3/lib/python3.6/site-packages/patsy/eval.py\"\u001b[0m, line \u001b[1;32m105\u001b[0m, in \u001b[1;35mast_names\u001b[0m\n    for node in ast.walk(ast.parse(code)):\n",
      "\u001b[0;36m  File \u001b[0;32m\"/Users/liyuqiao/anaconda/envs/py3/lib/python3.6/ast.py\"\u001b[0;36m, line \u001b[0;32m35\u001b[0;36m, in \u001b[0;35mparse\u001b[0;36m\u001b[0m\n\u001b[0;31m    return compile(source, filename, mode, PyCF_ONLY_AST)\u001b[0m\n",
      "\u001b[0;36m  File \u001b[0;32m\"<unknown>\"\u001b[0;36m, line \u001b[0;32m1\u001b[0m\n\u001b[0;31m    Domestic Total Gross\u001b[0m\n\u001b[0m                 ^\u001b[0m\n\u001b[0;31mSyntaxError\u001b[0m\u001b[0;31m:\u001b[0m invalid syntax\n"
     ]
    }
   ],
   "source": [
    "lm1 = smf.ols('Domestic Total Gross ~ Production Budget', data=dtg_df)\n",
    "fit1 = lm1.fit()\n",
    "fit1.summary()"
   ]
  },
  {
   "cell_type": "code",
   "execution_count": null,
   "metadata": {
    "collapsed": true
   },
   "outputs": [],
   "source": []
  },
  {
   "cell_type": "code",
   "execution_count": null,
   "metadata": {
    "collapsed": true
   },
   "outputs": [],
   "source": []
  },
  {
   "cell_type": "code",
   "execution_count": null,
   "metadata": {
    "collapsed": true
   },
   "outputs": [],
   "source": []
  },
  {
   "cell_type": "code",
   "execution_count": null,
   "metadata": {
    "collapsed": true
   },
   "outputs": [],
   "source": []
  },
  {
   "cell_type": "code",
   "execution_count": null,
   "metadata": {
    "collapsed": true
   },
   "outputs": [],
   "source": []
  },
  {
   "cell_type": "code",
   "execution_count": null,
   "metadata": {
    "collapsed": true
   },
   "outputs": [],
   "source": []
  },
  {
   "cell_type": "code",
   "execution_count": null,
   "metadata": {
    "collapsed": true
   },
   "outputs": [],
   "source": []
  },
  {
   "cell_type": "code",
   "execution_count": null,
   "metadata": {
    "collapsed": true
   },
   "outputs": [],
   "source": []
  },
  {
   "cell_type": "code",
   "execution_count": null,
   "metadata": {
    "collapsed": true
   },
   "outputs": [],
   "source": []
  },
  {
   "cell_type": "code",
   "execution_count": null,
   "metadata": {
    "collapsed": true
   },
   "outputs": [],
   "source": []
  },
  {
   "cell_type": "code",
   "execution_count": null,
   "metadata": {
    "collapsed": true
   },
   "outputs": [],
   "source": []
  },
  {
   "cell_type": "code",
   "execution_count": null,
   "metadata": {
    "collapsed": true
   },
   "outputs": [],
   "source": []
  },
  {
   "cell_type": "code",
   "execution_count": null,
   "metadata": {
    "collapsed": true
   },
   "outputs": [],
   "source": []
  },
  {
   "cell_type": "code",
   "execution_count": null,
   "metadata": {
    "collapsed": true
   },
   "outputs": [],
   "source": [
    "# # Let's get these again and format them all in one swoop\n",
    "\n",
    "# from pprint import pprint\n",
    "\n",
    "# raw_release_date = get_movie_value(soup,'Release Date')\n",
    "# release_date = to_date(raw_release_date)\n",
    "\n",
    "# raw_domestic_total_gross = get_movie_value(soup,'Domestic Total')\n",
    "# domestic_total_gross = money_to_int(raw_domestic_total_gross)\n",
    "\n",
    "# raw_runtime = get_movie_value(soup,'Runtime')\n",
    "# runtime = runtime_to_minutes(raw_runtime)\n",
    "\n",
    "# headers = ['movie title', 'domestic total gross',\n",
    "#            'release date', 'runtime (mins)', 'rating']\n",
    "\n",
    "# movie_data = []\n",
    "# movie_dict = dict(zip(headers, [title,\n",
    "#                                 domestic_total_gross,\n",
    "#                                 release_date,\n",
    "#                                 runtime,\n",
    "#                                 rating]))\n",
    "# movie_data.append(movie_dict)\n",
    "\n",
    "# pprint(movie_data)\n"
   ]
  },
  {
   "cell_type": "code",
   "execution_count": null,
   "metadata": {
    "collapsed": true
   },
   "outputs": [],
   "source": []
  },
  {
   "cell_type": "code",
   "execution_count": null,
   "metadata": {
    "collapsed": true
   },
   "outputs": [],
   "source": []
  },
  {
   "cell_type": "code",
   "execution_count": null,
   "metadata": {
    "collapsed": true
   },
   "outputs": [],
   "source": []
  },
  {
   "cell_type": "code",
   "execution_count": null,
   "metadata": {
    "collapsed": true
   },
   "outputs": [],
   "source": []
  },
  {
   "cell_type": "code",
   "execution_count": null,
   "metadata": {
    "collapsed": true
   },
   "outputs": [],
   "source": []
  },
  {
   "cell_type": "code",
   "execution_count": null,
   "metadata": {
    "collapsed": true
   },
   "outputs": [],
   "source": []
  },
  {
   "cell_type": "code",
   "execution_count": null,
   "metadata": {
    "collapsed": true
   },
   "outputs": [],
   "source": []
  },
  {
   "cell_type": "code",
   "execution_count": 2,
   "metadata": {
    "collapsed": true
   },
   "outputs": [],
   "source": [
    "url1 = 'http://www.boxofficemojo.com/movies/?id=starwars7.htm'\n",
    "\n",
    "source_code1=requests.get(url1)\n",
    "soup1 = BeautifulSoup(source_code1.text,\"html5lib\")"
   ]
  },
  {
   "cell_type": "code",
   "execution_count": 3,
   "metadata": {},
   "outputs": [
    {
     "data": {
      "text/plain": [
       "'PG-13'"
      ]
     },
     "execution_count": 3,
     "metadata": {},
     "output_type": "execute_result"
    }
   ],
   "source": [
    "rating_string = soup1.find(text = re.compile('MPAA'))\n",
    "rating_value = rating_string.findNextSibling()\n",
    "rating_value.text"
   ]
  },
  {
   "cell_type": "code",
   "execution_count": null,
   "metadata": {
    "collapsed": true
   },
   "outputs": [],
   "source": []
  },
  {
   "cell_type": "code",
   "execution_count": null,
   "metadata": {
    "collapsed": true
   },
   "outputs": [],
   "source": []
  },
  {
   "cell_type": "code",
   "execution_count": 107,
   "metadata": {
    "collapsed": true
   },
   "outputs": [],
   "source": [
    "soup1.find(text=re.compile('Close Date'))"
   ]
  },
  {
   "cell_type": "code",
   "execution_count": 9,
   "metadata": {},
   "outputs": [
    {
     "name": "stdout",
     "output_type": "stream",
     "text": [
      "<div class=\"mp_box_content\">\n",
      "\t<table border=\"0\" cellpadding=\"0\" cellspacing=\"0\">\n",
      "\t\t<tbody><tr>\n",
      "\t\t\t<td width=\"40%\"><b>Domestic:</b></td>\n",
      "\t\t\t<td align=\"right\" width=\"35%\"> <b>$936,662,225</b></td>\n",
      "\t\t\t\t\t\t<td align=\"right\" width=\"25%\">   <b>45.3%</b></td>\n",
      "\t\t\t\t\t</tr>\n",
      "\t\t\t\t<tr>\n",
      "\t\t\t<td width=\"40%\">+ <a href=\"/movies/?page=intl&amp;id=starwars7.htm\">Foreign:</a></td>\n",
      "\t\t\t<td align=\"right\" width=\"35%\"> $1,131,561,399</td>\n",
      "\t\t\t<td align=\"right\" width=\"25%\">   54.7%</td>\n",
      "\t\t</tr>\n",
      "\t\t<tr>\n",
      "\t\t\t<td colspan=\"3\" width=\"100%\"><hr/></td>\n",
      "\t\t</tr>\n",
      "\t\t<tr>\n",
      "\t\t\t<td width=\"40%\">= <b>Worldwide:</b></td>\n",
      "\t\t\t<td align=\"right\" width=\"35%\"> <b>$2,068,223,624</b></td>\n",
      "\t\t\t<td width=\"25%\"> </td>\n",
      "\t\t</tr>\n",
      "\t\t\t</tbody></table>\n",
      "\t</div> \n",
      "\n",
      "<div class=\"mp_box_content\">\n",
      "\t\n",
      "\t\t<table border=\"0\" cellpadding=\"0\" cellspacing=\"0\">\n",
      "\t\t<tbody><tr>\n",
      "\t\t\t<td align=\"center\"><a href=\"/weekend/chart/?yr=2015&amp;wknd=51&amp;p=.htm\">Opening Weekend:</a></td><td> $247,966,675</td></tr>\n",
      "\t\t<tr>\n",
      "\t\t\t<td align=\"center\" colspan=\"2\"><font size=\"2\">(#1 rank, 4,134 theaters, $59,982 average)</font></td></tr>\n",
      "\t\t<tr>\n",
      "\t\t\t<td align=\"right\">% of Total Gross:</td><td> 26.5%</td></tr>\n",
      "\t\t<tr><td align=\"right\" colspan=\"2\"><font face=\"Helvetica, Arial, Sans-Serif\" size=\"1\"><a href=\"/movies/?page=weekend&amp;id=starwars7.htm\"><b>&gt; View All 24 Weekends</b></a></font></td></tr>\n",
      "\n",
      "\t\t</tbody></table>\n",
      "\n",
      "\n",
      "\n",
      "\t\t<table border=\"0\" cellpadding=\"0\" cellspacing=\"0\">\n",
      "\t\t<tbody><tr>\n",
      "\t\t\t<td>Widest Release:</td>\n",
      "\t\t\t<td> 4,134 theaters</td>\n",
      "\t\t</tr>\n",
      "\t\t</tbody></table>\n",
      "\n",
      "\n",
      "\t\t<table border=\"0\" cellpadding=\"0\" cellspacing=\"0\">\n",
      "\t\t<tbody><tr>\n",
      "\t\t\t<td>Close Date:</td>\n",
      "\t\t\t<td> June 2, 2016</td>\n",
      "\t\t</tr>\n",
      "\t\t</tbody></table>\n",
      "\n",
      "\n",
      "\t\t<table border=\"0\" cellpadding=\"0\" cellspacing=\"0\">\n",
      "\t\t<tbody><tr>\n",
      "\t\t\t<td>In Release:</td>\n",
      "\t\t\t<td> 168 days / 24 weeks</td>\n",
      "\t\t</tr>\n",
      "\t\t</tbody></table>\n",
      "\n",
      "\n",
      "\n",
      "\n",
      "\t</div> \n",
      "\n",
      "<div class=\"mp_box_content\">\n",
      "\t<table>\n",
      "\t\t<tbody><tr><td align=\"right\" valign=\"top\"><font size=\"2\"><a href=\"/people/?view=Director&amp;p=.htm\">Director:</a></font></td><td><font size=\"2\"><a href=\"/people/chart/?view=Director&amp;id=jjabrams.htm\">J.J. Abrams</a></font></td></tr><tr><td align=\"right\" valign=\"top\"><font size=\"2\"><a href=\"/people/?view=Writer&amp;p=.htm\">Writers:</a></font></td><td><font size=\"2\"><a href=\"/people/chart/?view=Writer&amp;id=jjabrams.htm\">J.J. Abrams</a><br/><a href=\"/people/chart/?view=Writer&amp;id=michaelarndt.htm\">Michael Arndt</a><br/><a href=\"/people/chart/?view=Writer&amp;id=lawrencekasdan.htm\">Lawrence Kasdan</a></font></td></tr><tr><td align=\"right\" valign=\"top\"><font size=\"2\"><a href=\"/people/?view=Actor&amp;p=.htm\">Actors:</a></font></td><td><font size=\"2\"><a href=\"/people/chart/?view=Actor&amp;id=johnboyega.htm\">John Boyega</a><br/><a href=\"/people/chart/?view=Actor&amp;id=daisyridley.htm\">Daisy Ridley</a><br/>Adam Driver<br/><a href=\"/people/chart/?view=Actor&amp;id=oscarisaac.htm\">Oscar Isaac</a><br/><a href=\"/people/chart/?view=Actor&amp;id=andyserkis.htm\">Andy Serkis</a><br/>Domhnall Gleeson<br/>Max von Sydow<br/><a href=\"/people/chart/?view=Actor&amp;id=harrisonford.htm\">Harrison Ford</a><br/><a href=\"/people/chart/?view=Actor&amp;id=carriefisher.htm\">Carrie Fisher</a><br/><a href=\"/people/chart/?view=Actor&amp;id=markhamill.htm\">Mark Hamill</a><br/><a href=\"/people/chart/?view=Actor&amp;id=anthonydaniels.htm\">Anthony Daniels</a><br/><a href=\"/people/chart/?view=Actor&amp;id=petermayhew.htm\">Peter Mayhew</a><br/>Kenny Baker<br/>Warwick Davis<br/><a href=\"/people/chart/?view=Actor&amp;id=lupitanyongo.htm\">Lupita Nyong'o</a></font></td></tr><tr><td align=\"right\" valign=\"top\"><font size=\"2\"><a href=\"/people/?view=Producer&amp;p=.htm\">Producers:</a></font></td><td><font size=\"2\"><a href=\"/people/chart/?view=Producer&amp;id=jjabrams.htm\">J.J. Abrams</a><br/><a href=\"/people/chart/?view=Producer&amp;id=bryanburk.htm\">Bryan Burk</a><br/><a href=\"/people/chart/?view=Producer&amp;id=kathleenkennedy.htm\">Kathleen Kennedy</a></font></td></tr><tr><td align=\"right\" valign=\"top\"><font size=\"2\"><a href=\"/people/?view=Composer&amp;p=.htm\">Composer:</a></font></td><td><font size=\"2\"><a href=\"/people/chart/?view=Composer&amp;id=johnwilliams.htm\">John Williams</a></font></td></tr></tbody></table></div> \n",
      "\n",
      "<div class=\"mp_box_content\"><table border=\"0\" cellpadding=\"5\" cellspacing=\"0\" width=\"100%\"><tbody><tr><td><a href=\"/oscar/movies/?id=starwars7.htm\"><b>Nominated for Five Oscars.</b><br/>View full award breakdown...</a></td></tr></tbody></table></div> \n",
      "\n",
      "<div class=\"mp_box_content\">\n",
      "\t\t\t<table border=\"0\" cellpadding=\"5\" cellspacing=\"1\" style=\"border-collapse: collapse\" width=\"100%\">\n",
      "\t\t\t\t<tbody><tr><th>Genre</th>\n",
      "\t\t\t\t\t<th>Rank</th></tr>\n",
      "<tr bgcolor=\"#ffffff\"><td><font size=\"2\"><a href=\"/genres/chart/?id=3d.htm\"><b>3D</b></a></font></td>\n",
      "<td align=\"center\"><font size=\"2\"><b>1</b></font></td>\n",
      "</tr>\n",
      "\n",
      "<tr bgcolor=\"#f4f4ff\"><td><font size=\"2\"><a href=\"/genres/chart/?id=actionheroine.htm\"><b>Action Heroine</b></a></font></td>\n",
      "<td align=\"center\"><font size=\"2\"><b>1</b></font></td>\n",
      "</tr>\n",
      "\n",
      "<tr bgcolor=\"#ffffff\"><td><font size=\"2\"><a href=\"/genres/chart/?id=imax.htm\"><b>IMAX (Feature-length)</b></a></font></td>\n",
      "<td align=\"center\"><font size=\"2\"><b>1</b></font></td>\n",
      "</tr>\n",
      "\n",
      "<tr bgcolor=\"#f4f4ff\"><td><font size=\"2\"><a href=\"/genres/chart/?id=scifiadventure.htm\"><b>Sci-Fi - Adventure</b></a></font></td>\n",
      "<td align=\"center\"><font size=\"2\"><b>1</b></font></td>\n",
      "</tr>\n",
      "\n",
      "\t\t\t\t\t</tbody></table>\n",
      "</div> \n",
      "\n",
      "<div class=\"mp_box_content\">\n",
      "\t\t\t\t\t<table border=\"0\" cellpadding=\"5\" cellspacing=\"1\" style=\"border-collapse: collapse\" width=\"100%\">\n",
      "\t\t\t\t\t\t<tbody><tr><th>Franchise</th>\n",
      "\t\t\t\t\t\t\t<th>Rank</th></tr>\n",
      "<tr bgcolor=\"#ffffff\"><td><font size=\"2\"><a href=\"/franchises/chart/?id=starwars.htm\"><b>Series: Star Wars</b></a></font></td>\n",
      "<td align=\"center\"><font size=\"2\"><b>1</b></font></td>\n",
      "</tr>\n",
      "\n",
      "<tr bgcolor=\"#f4f4ff\"><td><font size=\"2\"><a href=\"/franchises/chart/?id=badrobot.htm\"><b>Brand: Bad Robot</b></a></font></td>\n",
      "<td align=\"center\"><font size=\"2\"><b>1</b></font></td>\n",
      "</tr>\n",
      "\n",
      "<tr bgcolor=\"#ffffff\"><td><font size=\"2\"><a href=\"/franchises/chart/?id=lucasfilm.htm\"><b>Brand: Lucasfilm</b></a></font></td>\n",
      "<td align=\"center\"><font size=\"2\"><b>1</b></font></td>\n",
      "</tr>\n",
      "\n",
      "<tr bgcolor=\"#f4f4ff\"><td><font size=\"2\"><a href=\"/showdowns/chart/?id=alltimegrossvs.htm\"><b>Showdown: All Time Grossers</b></a></font></td>\n",
      "<td align=\"center\"><font size=\"2\"><b>1</b></font></td>\n",
      "</tr>\n",
      "\n",
      "<tr bgcolor=\"#ffffff\"><td><font size=\"2\"><a href=\"/showdowns/chart/?id=alltimepenvs.htm\"><b>Showdown: All Time Openers</b></a></font></td>\n",
      "<td align=\"center\"><font size=\"2\"><b>1</b></font></td>\n",
      "</tr>\n",
      "\n",
      "<tr bgcolor=\"#f4f4ff\"><td><font size=\"2\"><a href=\"/showdowns/chart/?id=decemberscifi.htm\"><b>Showdown: December Sci-Fi Battle</b></a></font></td>\n",
      "<td align=\"center\"><font size=\"2\"><b>1</b></font></td>\n",
      "</tr>\n",
      "\n",
      "<tr bgcolor=\"#ffffff\"><td><font size=\"2\"><a href=\"/showdowns/chart/?id=liberge.htm\"><b>Showdown: King Size Domestic Grosses</b></a></font></td>\n",
      "<td align=\"center\"><font size=\"2\"><b>1</b></font></td>\n",
      "</tr>\n",
      "\n",
      "<tr bgcolor=\"#f4f4ff\"><td><font size=\"2\"><a href=\"/showdowns/chart/?id=openingweekendshowdown.htm\"><b>Showdown: Opening Weekend Showdown</b></a></font></td>\n",
      "<td align=\"center\"><font size=\"2\"><b>1</b></font></td>\n",
      "</tr>\n",
      "\n",
      "<tr bgcolor=\"#ffffff\"><td><font size=\"2\"><a href=\"/showdowns/chart/?id=roguevforce.htm\"><b>Showdown: Rogue One vs Force Awakens</b></a></font></td>\n",
      "<td align=\"center\"><font size=\"2\"><b>1</b></font></td>\n",
      "</tr>\n",
      "\n",
      "</tbody></table></div> \n",
      "\n",
      "<div class=\"mp_box_content\">\n",
      "\n",
      "\t\t\t\t\t<table border=\"0\" cellpadding=\"5\" cellspacing=\"1\" style=\"border-collapse: collapse\" width=\"100%\">\n",
      "\t\t\t\t\t\t<tbody><tr><td bgcolor=\"\"><b>Chart</b></td>\n",
      "\t\t\t\t\t\t\t<td align=\"center\"><b>Rank</b></td>\n",
      "\t\t\t\t\t</tr>\n",
      "\n",
      "<tr bgcolor=\"#ffffff\"><td><font size=\"2\"><a href=\"/alltime/domestic.htm\"><b>All Time Domestic</b></a></font></td>\n",
      "<td align=\"center\"><font size=\"2\"><b>1</b></font></td>\n",
      "</tr>\n",
      "\n",
      "<tr bgcolor=\"#f4f4ff\"><td><font size=\"2\"><a href=\"/alltime/adjusted.htm\">All Time Adjusted</a></font></td>\n",
      "<td align=\"center\"><font size=\"2\">11</font></td>\n",
      "</tr>\n",
      "\n",
      "<tr bgcolor=\"#ffffff\"><td><font size=\"2\"><a href=\"/alltime/world/\"><b>All Time Worldwide</b></a></font></td>\n",
      "<td align=\"center\"><font size=\"2\"><b>3</b></font></td>\n",
      "</tr>\n",
      "\n",
      "<tr bgcolor=\"#f4f4ff\"><td><font size=\"2\"><a href=\"/alltime/world/worldwideopenings.htm\"><b>Worldwide Openings</b></a></font></td>\n",
      "<td align=\"center\"><font size=\"2\"><b>2</b></font></td>\n",
      "</tr>\n",
      "\n",
      "<tr bgcolor=\"#ffffff\"><td><font size=\"2\"><a href=\"/intl/weekend/opening/\"><b>Foreign Opening Weekends</b></a></font></td>\n",
      "<td align=\"center\"><font size=\"2\"><b>4</b></font></td>\n",
      "</tr>\n",
      "\n",
      "<tr bgcolor=\"#f4f4ff\"><td><font size=\"2\"><a href=\"/alltime/openingweeks.htm\"><b>Opening Weeks</b></a></font></td>\n",
      "<td align=\"center\"><font size=\"2\"><b>1</b></font></td>\n",
      "</tr>\n",
      "\n",
      "<tr bgcolor=\"#ffffff\"><td><font size=\"2\"><a href=\"/alltime/days/?page=open&amp;p.htm\"><b>Opening Day Gross</b></a></font></td>\n",
      "<td align=\"center\"><font size=\"2\"><b>1</b></font></td>\n",
      "</tr>\n",
      "\n",
      "<tr bgcolor=\"#f4f4ff\"><td><font size=\"2\"><a href=\"/alltime/days/?page=single&amp;p=.htm\"><b>Single Day Gross</b></a></font></td>\n",
      "<td align=\"center\"><font size=\"2\"><b>1</b></font></td>\n",
      "</tr>\n",
      "\n",
      "<tr bgcolor=\"#ffffff\"><td><font size=\"2\"><a href=\"/alltime/days/nonopening.htm?page=Fri&amp;p=.htm\"><b>Non-Opening Friday Gross</b></a></font></td>\n",
      "<td align=\"center\"><font size=\"2\"><b>1</b></font></td>\n",
      "</tr>\n",
      "\n",
      "<tr bgcolor=\"#f4f4ff\"><td><font size=\"2\"><a href=\"/alltime/days/nonopening.htm?page=Thu&amp;p=.htm\"><b>Non-Opening Thursday Gross</b></a></font></td>\n",
      "<td align=\"center\"><font size=\"2\"><b>2</b></font></td>\n",
      "</tr>\n",
      "\n",
      "<tr bgcolor=\"#ffffff\"><td><font size=\"2\"><a href=\"/alltime/days/nonopening.htm?page=Tue&amp;p=.htm\"><b>Non-Opening Tuesday Gross</b></a></font></td>\n",
      "<td align=\"center\"><font size=\"2\"><b>1</b></font></td>\n",
      "</tr>\n",
      "\n",
      "<tr bgcolor=\"#f4f4ff\"><td><font size=\"2\"><a href=\"/alltime/days/nonopening.htm?page=Wed&amp;p=.htm\"><b>Non-Opening Wednesday Gross</b></a></font></td>\n",
      "<td align=\"center\"><font size=\"2\"><b>1</b></font></td>\n",
      "</tr>\n",
      "\n",
      "<tr bgcolor=\"#ffffff\"><td><font size=\"2\"><a href=\"/alltime/days/f-th.htm?page=Fri&amp;p=.htm\"><b>Single Day Friday Gross</b></a></font></td>\n",
      "<td align=\"center\"><font size=\"2\"><b>1</b></font></td>\n",
      "</tr>\n",
      "\n",
      "<tr bgcolor=\"#f4f4ff\"><td><font size=\"2\"><a href=\"/alltime/days/f-th.htm?page=Mon&amp;p=.htm\"><b>Single Day Monday Gross</b></a></font></td>\n",
      "<td align=\"center\"><font size=\"2\"><b>1</b></font></td>\n",
      "</tr>\n",
      "\n",
      "<tr bgcolor=\"#ffffff\"><td><font size=\"2\"><a href=\"/alltime/days/f-th.htm?page=Sat&amp;p=.htm\"><b>Single Day Saturday Gross</b></a></font></td>\n",
      "<td align=\"center\"><font size=\"2\"><b>3</b></font></td>\n",
      "</tr>\n",
      "\n",
      "<tr bgcolor=\"#f4f4ff\"><td><font size=\"2\"><a href=\"/alltime/days/f-th.htm?page=Sun&amp;p=.htm\"><b>Single Day Sunday Gross</b></a></font></td>\n",
      "<td align=\"center\"><font size=\"2\"><b>1</b></font></td>\n",
      "</tr>\n",
      "\n",
      "<tr bgcolor=\"#ffffff\"><td><font size=\"2\"><a href=\"/alltime/days/f-th.htm?page=Thu&amp;p=.htm\"><b>Single Day Thursday Gross</b></a></font></td>\n",
      "<td align=\"center\"><font size=\"2\"><b>6</b></font></td>\n",
      "</tr>\n",
      "\n",
      "<tr bgcolor=\"#f4f4ff\"><td><font size=\"2\"><a href=\"/alltime/days/f-th.htm?page=Tue&amp;p=.htm\"><b>Single Day Tuesday Gross</b></a></font></td>\n",
      "<td align=\"center\"><font size=\"2\"><b>1</b></font></td>\n",
      "</tr>\n",
      "\n",
      "<tr bgcolor=\"#ffffff\"><td><font size=\"2\"><a href=\"/alltime/days/f-th.htm?page=Wed&amp;p=.htm\"><b>Single Day Wednesday Gross</b></a></font></td>\n",
      "<td align=\"center\"><font size=\"2\"><b>6</b></font></td>\n",
      "</tr>\n",
      "\n",
      "<tr bgcolor=\"#f4f4ff\"><td><font size=\"2\"><a href=\"/alltime/days/nonholiday.htm\"><b>Non-Holiday Monday Gross</b></a></font></td>\n",
      "<td align=\"center\"><font size=\"2\"><b>1</b></font></td>\n",
      "</tr>\n",
      "\n",
      "<tr bgcolor=\"#ffffff\"><td><font size=\"2\"><a href=\"/alltime/weekends/theateravg.htm?page=THTRWAVG&amp;p=.htm\">Theater Averages (Wide Releases) - All Time</a></font></td>\n",
      "<td align=\"center\"><font size=\"2\">18</font></td>\n",
      "</tr>\n",
      "\n",
      "<tr bgcolor=\"#f4f4ff\"><td><font size=\"2\"><a href=\"/alltime/weekends/theateravg.htm?page=THTRWAVG&amp;p=.htm\"><b>Theater Averages (Wide Releases) - All Time</b></a></font></td>\n",
      "<td align=\"center\"><font size=\"2\"><b>1</b></font></td>\n",
      "</tr>\n",
      "\n",
      "<tr bgcolor=\"#ffffff\"><td><font size=\"2\"><a href=\"/alltime/weekends/theateravg.htm?page=THTRWAVG&amp;p=.htm\">Theater Averages (Wide Releases) - All Time</a></font></td>\n",
      "<td align=\"center\"><font size=\"2\">85</font></td>\n",
      "</tr>\n",
      "\n",
      "<tr bgcolor=\"#f4f4ff\"><td><font size=\"2\"><a href=\"/alltime/weekends/theateravg.htm?page=THTRAVG&amp;p=.htm\">Theater Averages - All Time Adjusted</a></font></td>\n",
      "<td align=\"center\"><font size=\"2\">91</font></td>\n",
      "</tr>\n",
      "\n",
      "<tr bgcolor=\"#ffffff\"><td><font size=\"2\"><a href=\"/alltime/weekends/theateravg.htm?page=THTRAVOPN&amp;p=.htm\">Theater Averages - Opening Weekends</a></font></td>\n",
      "<td align=\"center\"><font size=\"2\">78</font></td>\n",
      "</tr>\n",
      "\n",
      "<tr bgcolor=\"#f4f4ff\"><td><font size=\"2\"><a href=\"/alltime/weekends/theateravg.htm?page=THTRAWOPN&amp;p=.htm\"><b>Theater Averages - Wide Opening Weekends</b></a></font></td>\n",
      "<td align=\"center\"><font size=\"2\"><b>1</b></font></td>\n",
      "</tr>\n",
      "\n",
      "<tr bgcolor=\"#ffffff\"><td><font size=\"2\"><a href=\"/alltime/days/holidays.htm?page=newyrs&amp;p=.htm\"><b>New Years Days</b></a></font></td>\n",
      "<td align=\"center\"><font size=\"2\"><b>1</b></font></td>\n",
      "</tr>\n",
      "\n",
      "<tr bgcolor=\"#f4f4ff\"><td><font size=\"2\"><a href=\"/alltime/days/holidays.htm?page=xmas&amp;p=.htm\"><b>Christmas Days</b></a></font></td>\n",
      "<td align=\"center\"><font size=\"2\"><b>1</b></font></td>\n",
      "</tr>\n",
      "\n",
      "<tr bgcolor=\"#ffffff\"><td><font size=\"2\"><a href=\"/alltime/day/percofwknd.htm?page=FRIOFOPWD&amp;p=.htm\">Friday Share of Opening Weekends</a></font></td>\n",
      "<td align=\"center\"><font size=\"2\">32</font></td>\n",
      "</tr>\n",
      "\n",
      "<tr bgcolor=\"#f4f4ff\"><td><font size=\"2\"><a href=\"/alltime/days/saturdaydrops.htm?page=SATDROPOPWD&amp;p=.htm\">Friday to Saturday Drops on Opening Weekends</a></font></td>\n",
      "<td align=\"center\"><font size=\"2\">16</font></td>\n",
      "</tr>\n",
      "\n",
      "<tr bgcolor=\"#ffffff\"><td><font size=\"2\"><a href=\"/alltime/weekends/\"><b>Opening Weekends</b></a></font></td>\n",
      "<td align=\"center\"><font size=\"2\"><b>1</b></font></td>\n",
      "</tr>\n",
      "\n",
      "<tr bgcolor=\"#f4f4ff\"><td><font size=\"2\"><a href=\"/alltime/weekends/month/?mo=12&amp;p=.htm\"><b>Opening Weekends - December</b></a></font></td>\n",
      "<td align=\"center\"><font size=\"2\"><b>1</b></font></td>\n",
      "</tr>\n",
      "\n",
      "<tr bgcolor=\"#ffffff\"><td><font size=\"2\"><a href=\"/alltime/weekends/byseason.htm?season=Holiday&amp;p=.htm\"><b>Opening Weekends - Holiday</b></a></font></td>\n",
      "<td align=\"center\"><font size=\"2\"><b>1</b></font></td>\n",
      "</tr>\n",
      "\n",
      "<tr bgcolor=\"#f4f4ff\"><td><font size=\"2\"><a href=\"/alltime/weekends/moreweekends.htm?page=11&amp;p=.htm\">Eleventh Weekends</a></font></td>\n",
      "<td align=\"center\"><font size=\"2\">46</font></td>\n",
      "</tr>\n",
      "\n",
      "<tr bgcolor=\"#ffffff\"><td><font size=\"2\"><a href=\"/alltime/weekends/moreweekends.htm?page=9&amp;p=.htm\">Ninth Weekends</a></font></td>\n",
      "<td align=\"center\"><font size=\"2\">22</font></td>\n",
      "</tr>\n",
      "\n",
      "<tr bgcolor=\"#f4f4ff\"><td><font size=\"2\"><a href=\"/alltime/weekends/moreweekends.htm?page=10&amp;p=.htm\">Tenth Weekends</a></font></td>\n",
      "<td align=\"center\"><font size=\"2\">38</font></td>\n",
      "</tr>\n",
      "\n",
      "<tr bgcolor=\"#ffffff\"><td><font size=\"2\"><a href=\"/alltime/grossbydays.htm?days=10&amp;p=.htm\"><b>Top 10-Day Grosses</b></a></font></td>\n",
      "<td align=\"center\"><font size=\"2\"><b>1</b></font></td>\n",
      "</tr>\n",
      "\n",
      "<tr bgcolor=\"#f4f4ff\"><td><font size=\"2\"><a href=\"/alltime/grossbydays.htm?days=3&amp;p=.htm\"><b>Top 3-Day Grosses</b></a></font></td>\n",
      "<td align=\"center\"><font size=\"2\"><b>1</b></font></td>\n",
      "</tr>\n",
      "\n",
      "<tr bgcolor=\"#ffffff\"><td><font size=\"2\"><a href=\"/alltime/grossbydays.htm?days=4&amp;p=.htm\"><b>Top 4-Day Grosses</b></a></font></td>\n",
      "<td align=\"center\"><font size=\"2\"><b>1</b></font></td>\n",
      "</tr>\n",
      "\n",
      "<tr bgcolor=\"#f4f4ff\"><td><font size=\"2\"><a href=\"/alltime/grossbydays.htm?days=6&amp;p=.htm\"><b>Top 6-Day Grosses</b></a></font></td>\n",
      "<td align=\"center\"><font size=\"2\"><b>1</b></font></td>\n",
      "</tr>\n",
      "\n",
      "<tr bgcolor=\"#ffffff\"><td><font size=\"2\"><a href=\"/alltime/grossbydays.htm?days=7&amp;p=.htm\"><b>Top 7-Day Grosses</b></a></font></td>\n",
      "<td align=\"center\"><font size=\"2\"><b>1</b></font></td>\n",
      "</tr>\n",
      "\n",
      "<tr bgcolor=\"#f4f4ff\"><td><font size=\"2\"><a href=\"/alltime/grossbydays.htm?days=8&amp;p=.htm\"><b>Top 8-Day Grosses</b></a></font></td>\n",
      "<td align=\"center\"><font size=\"2\"><b>1</b></font></td>\n",
      "</tr>\n",
      "\n",
      "<tr bgcolor=\"#ffffff\"><td><font size=\"2\"><a href=\"/alltime/grossbydays.htm?days=9&amp;p=.htm\"><b>Top 9-Day Grosses</b></a></font></td>\n",
      "<td align=\"center\"><font size=\"2\"><b>1</b></font></td>\n",
      "</tr>\n",
      "\n",
      "<tr bgcolor=\"#f4f4ff\"><td><font size=\"2\"><a href=\"/alltime/weekends/moreweekends.htm?page=13&amp;p=.htm\">Twelfth Weekends</a></font></td>\n",
      "<td align=\"center\"><font size=\"2\">90</font></td>\n",
      "</tr>\n",
      "\n",
      "<tr bgcolor=\"#ffffff\"><td><font size=\"2\"><a href=\"/alltime/weekends/moreweekends.htm?page=12&amp;p=.htm\">Twelfth Weekends</a></font></td>\n",
      "<td align=\"center\"><font size=\"2\">72</font></td>\n",
      "</tr>\n",
      "\n",
      "<tr bgcolor=\"#f4f4ff\"><td><font size=\"2\"><a href=\"/alltime/grossbydays.htm?days=5&amp;p=.htm\"><b>Top 5-Day Grosses</b></a></font></td>\n",
      "<td align=\"center\"><font size=\"2\"><b>1</b></font></td>\n",
      "</tr>\n",
      "\n",
      "<tr bgcolor=\"#ffffff\"><td><font size=\"2\"><a href=\"/alltime/weekends/bestranked.htm?page=WKNDSAT1&amp;p=.htm\">Most Weekends at #1 (non-consecutive)</a></font></td>\n",
      "<td align=\"center\"><font size=\"2\">33</font></td>\n",
      "</tr>\n",
      "\n",
      "<tr bgcolor=\"#f4f4ff\"><td><font size=\"2\"><a href=\"/alltime/weekends/bestranked.htm?page=WKNDSAT10&amp;p=.htm\">Most Weekends in Top 10 (non-consecutive)</a></font></td>\n",
      "<td align=\"center\"><font size=\"2\">144</font></td>\n",
      "</tr>\n",
      "\n",
      "<tr bgcolor=\"#ffffff\"><td><font size=\"2\"><a href=\"/alltime/weekends/bestranked.htm?page=WKNDSAT5&amp;p=.htm\">Most Weekends in Top 5 (non-consecutive)</a></font></td>\n",
      "<td align=\"center\"><font size=\"2\">49</font></td>\n",
      "</tr>\n",
      "\n",
      "<tr bgcolor=\"#f4f4ff\"><td><font size=\"2\"><a href=\"/alltime/weekends/bestranked.htm?page=WKNDSCAT1&amp;p=.htm\">Consecutive Weekends At #1</a></font></td>\n",
      "<td align=\"center\"><font size=\"2\">25</font></td>\n",
      "</tr>\n",
      "\n",
      "<tr bgcolor=\"#ffffff\"><td><font size=\"2\"><a href=\"/alltime/weekends/bestranked.htm?page=WKNDSCAT10&amp;p=.htm\">Consecutive Weekends In Top 10</a></font></td>\n",
      "<td align=\"center\"><font size=\"2\">122</font></td>\n",
      "</tr>\n",
      "\n",
      "<tr bgcolor=\"#f4f4ff\"><td><font size=\"2\"><a href=\"/alltime/weekends/bestranked.htm?page=WKNDSCAT5&amp;p=.htm\">Consecutive Weekends In Top 5</a></font></td>\n",
      "<td align=\"center\"><font size=\"2\">40</font></td>\n",
      "</tr>\n",
      "\n",
      "<tr bgcolor=\"#ffffff\"><td><font size=\"2\"><a href=\"/alltime/weekends/mlk.htm?page=MLK&amp;p=.htm\">Martin Lurther King 4-Day Holiday Weekends</a></font></td>\n",
      "<td align=\"center\"><font size=\"2\">12</font></td>\n",
      "</tr>\n",
      "\n",
      "<tr bgcolor=\"#f4f4ff\"><td><font size=\"2\"><a href=\"/alltime/weekends/presidentsday.htm?page=PRESDAY&amp;p=.htm\">President's Day 4-Day Holiday Weekends</a></font></td>\n",
      "<td align=\"center\"><font size=\"2\">154</font></td>\n",
      "</tr>\n",
      "\n",
      "<tr bgcolor=\"#ffffff\"><td><font size=\"2\"><a href=\"/alltime/weekends/moreweekends.htm?page=2&amp;p=.htm\"><b>Second Weekends</b></a></font></td>\n",
      "<td align=\"center\"><font size=\"2\"><b>1</b></font></td>\n",
      "</tr>\n",
      "\n",
      "<tr bgcolor=\"#f4f4ff\"><td><font size=\"2\"><a href=\"/alltime/weekends/moreweekends.htm?page=3&amp;p=.htm\"><b>Third Weekends</b></a></font></td>\n",
      "<td align=\"center\"><font size=\"2\"><b>1</b></font></td>\n",
      "</tr>\n",
      "\n",
      "<tr bgcolor=\"#ffffff\"><td><font size=\"2\"><a href=\"/alltime/weekends/moreweekends.htm?page=4&amp;p=.htm\"><b>Fourth Weekends</b></a></font></td>\n",
      "<td align=\"center\"><font size=\"2\"><b>2</b></font></td>\n",
      "</tr>\n",
      "\n",
      "<tr bgcolor=\"#f4f4ff\"><td><font size=\"2\"><a href=\"/alltime/weekends/moreweekends.htm?page=5&amp;p=.htm\"><b>Fifth Weekends</b></a></font></td>\n",
      "<td align=\"center\"><font size=\"2\"><b>4</b></font></td>\n",
      "</tr>\n",
      "\n",
      "<tr bgcolor=\"#ffffff\"><td><font size=\"2\"><a href=\"/alltime/weekends/moreweekends.htm?page=6&amp;p=.htm\">Sixth Weekends</a></font></td>\n",
      "<td align=\"center\"><font size=\"2\">11</font></td>\n",
      "</tr>\n",
      "\n",
      "<tr bgcolor=\"#f4f4ff\"><td><font size=\"2\"><a href=\"/alltime/weekends/moreweekends.htm?page=7&amp;p=.htm\"><b>Seventh Weekends</b></a></font></td>\n",
      "<td align=\"center\"><font size=\"2\"><b>10</b></font></td>\n",
      "</tr>\n",
      "\n",
      "<tr bgcolor=\"#ffffff\"><td><font size=\"2\"><a href=\"/alltime/weekends/moreweekends.htm?page=8&amp;p=.htm\">Eighth Weekends</a></font></td>\n",
      "<td align=\"center\"><font size=\"2\">24</font></td>\n",
      "</tr>\n",
      "\n",
      "<tr bgcolor=\"#f4f4ff\"><td><font size=\"2\"><a href=\"/alltime/weekends/smallestdrops.htm?page=DROP3000&amp;p=.htm\">Smallest Drops, 3,000+ theaters (Super-Saturation)</a></font></td>\n",
      "<td align=\"center\"><font size=\"2\">247</font></td>\n",
      "</tr>\n",
      "\n",
      "<tr bgcolor=\"#ffffff\"><td><font size=\"2\"><a href=\"/alltime/weekends/smallestdrops.htm?page=SMALLDROP25&amp;p=.htm\">Smallest Drops, 2,500+ theaters (Saturation)</a></font></td>\n",
      "<td align=\"center\"><font size=\"2\">496</font></td>\n",
      "</tr>\n",
      "\n",
      "<tr bgcolor=\"#f4f4ff\"><td><font size=\"2\"><a href=\"/alltime/weekends/smallestdrops.htm?page=SMALLDROP20&amp;p=.htm\">Smallest Drops, 2,000+ theaters (Very Wide)</a></font></td>\n",
      "<td align=\"center\"><font size=\"2\">736</font></td>\n",
      "</tr>\n",
      "\n",
      "<tr bgcolor=\"#ffffff\"><td><font size=\"2\"><a href=\"/alltime/weekends/smallestdrops.htm?page=SMALLDROPWID&amp;p=.htm\">Smallest Drops, All Wide Releases</a></font></td>\n",
      "<td align=\"center\"><font size=\"2\">1,894</font></td>\n",
      "</tr>\n",
      "\n",
      "<tr bgcolor=\"#f4f4ff\"><td><font size=\"2\"><a href=\"/alltime/domestic/mpaa.htm?page=PG-13&amp;p=.htm\"><b>Rated PG-13</b></a></font></td>\n",
      "<td align=\"center\"><font size=\"2\"><b>1</b></font></td>\n",
      "</tr>\n",
      "\n",
      "<tr bgcolor=\"#ffffff\"><td><font size=\"2\"><a href=\"/alltime/weekends/mpaa.htm?page=PG-13&amp;p=.htm\"><b>Rated PG-13, Opening Weekends</b></a></font></td>\n",
      "<td align=\"center\"><font size=\"2\"><b>1</b></font></td>\n",
      "</tr>\n",
      "\n",
      "<tr bgcolor=\"#f4f4ff\"><td><font size=\"2\"><a href=\"/alltime/widest.htm?page=WIDEST&amp;p=.htm\">Widest Releases</a></font></td>\n",
      "<td align=\"center\"><font size=\"2\">57</font></td>\n",
      "</tr>\n",
      "\n",
      "<tr bgcolor=\"#ffffff\"><td><font size=\"2\"><a href=\"/alltime/widest.htm?page=WIDESTOPEN&amp;p=.htm\">Widest Opening Releases</a></font></td>\n",
      "<td align=\"center\"><font size=\"2\">49</font></td>\n",
      "</tr>\n",
      "\n",
      "<tr bgcolor=\"#f4f4ff\"><td><font size=\"2\"><a href=\"/alltime/widestmpaa.htm?page=PG-13&amp;p=.htm\">Widest PG-13 Rated Openings</a></font></td>\n",
      "<td align=\"center\"><font size=\"2\">37</font></td>\n",
      "</tr>\n",
      "\n",
      "<tr bgcolor=\"#ffffff\"><td><font size=\"2\"><a href=\"/alltime/widestmpaareleases.htm?page=PG-13&amp;p=.htm\">Widest PG-13 Rated Releases</a></font></td>\n",
      "<td align=\"center\"><font size=\"2\">38</font></td>\n",
      "</tr>\n",
      "\n",
      "<tr bgcolor=\"#f4f4ff\"><td><font size=\"2\"><a href=\"/alltime/fastest.htm?page=100&amp;p=.htm\"><b>Fastest to $100 million</b></a></font></td>\n",
      "<td align=\"center\"><font size=\"2\"><b>1</b></font></td>\n",
      "</tr>\n",
      "\n",
      "<tr bgcolor=\"#ffffff\"><td><font size=\"2\"><a href=\"/alltime/fastest.htm?page=150&amp;p=.htm\"><b>Fastest to $150 million</b></a></font></td>\n",
      "<td align=\"center\"><font size=\"2\"><b>1</b></font></td>\n",
      "</tr>\n",
      "\n",
      "<tr bgcolor=\"#f4f4ff\"><td><font size=\"2\"><a href=\"/alltime/fastest.htm?page=200&amp;p=.htm\"><b>Fastest to $200 million</b></a></font></td>\n",
      "<td align=\"center\"><font size=\"2\"><b>1</b></font></td>\n",
      "</tr>\n",
      "\n",
      "<tr bgcolor=\"#ffffff\"><td><font size=\"2\"><a href=\"/alltime/fastest.htm?page=250&amp;p=.htm\"><b>Fastest to $250 million</b></a></font></td>\n",
      "<td align=\"center\"><font size=\"2\"><b>1</b></font></td>\n",
      "</tr>\n",
      "\n",
      "<tr bgcolor=\"#f4f4ff\"><td><font size=\"2\"><a href=\"/alltime/fastest.htm?page=300&amp;p=.htm\"><b>Fastest to $300 million</b></a></font></td>\n",
      "<td align=\"center\"><font size=\"2\"><b>1</b></font></td>\n",
      "</tr>\n",
      "\n",
      "<tr bgcolor=\"#ffffff\"><td><font size=\"2\"><a href=\"/alltime/fastest.htm?page=350&amp;p=.htm\"><b>Fastest to $350 million</b></a></font></td>\n",
      "<td align=\"center\"><font size=\"2\"><b>1</b></font></td>\n",
      "</tr>\n",
      "\n",
      "<tr bgcolor=\"#f4f4ff\"><td><font size=\"2\"><a href=\"/alltime/fastest.htm?page=400&amp;p=.htm\"><b>Fastest to $400 million</b></a></font></td>\n",
      "<td align=\"center\"><font size=\"2\"><b>1</b></font></td>\n",
      "</tr>\n",
      "\n",
      "<tr bgcolor=\"#ffffff\"><td><font size=\"2\"><a href=\"/alltime/fastest.htm?page=450&amp;p=.htm\"><b>Fastest to $450 million</b></a></font></td>\n",
      "<td align=\"center\"><font size=\"2\"><b>1</b></font></td>\n",
      "</tr>\n",
      "\n",
      "<tr bgcolor=\"#f4f4ff\"><td><font size=\"2\"><a href=\"/alltime/fastest.htm?page=500&amp;p=.htm\"><b>Fastest to $500 million</b></a></font></td>\n",
      "<td align=\"center\"><font size=\"2\"><b>1</b></font></td>\n",
      "</tr>\n",
      "\n",
      "<tr bgcolor=\"#ffffff\"><td><font size=\"2\"><a href=\"/alltime/slowest.htm?page=100&amp;p=.htm\">Slowest to $100 million</a></font></td>\n",
      "<td align=\"center\"><font size=\"2\">650</font></td>\n",
      "</tr>\n",
      "\n",
      "<tr bgcolor=\"#f4f4ff\"><td><font size=\"2\"><a href=\"/alltime/slowest.htm?page=200&amp;p=.htm\">Slowest to $200 million</a></font></td>\n",
      "<td align=\"center\"><font size=\"2\">179</font></td>\n",
      "</tr>\n",
      "\n",
      "<tr><td><b>Charts (Premier Pass Users Only)</b></td><td align=\"center\"><b>Rank</b></td></tr><tr bgcolor=\"#ffffff\"><td><font size=\"2\"><a href=\"/alltime/domestic.htm?page=1&amp;asof=2016-01-07&amp;p=.htm\">Highest All Time Rank (on January 7, 2016)</a></font></td>\n",
      "<td align=\"center\"><font size=\"2\"><b>1</b></font></td>\n",
      "</tr>\n",
      "\n",
      "<tr bgcolor=\"#f4f4ff\"><td><font size=\"2\"><a href=\"/alltime/openingweeks.htm?adjust_yr=2017&amp;p=.htm\"><b>Opening Weeks Adjusted</b></a></font></td>\n",
      "<td align=\"center\"><font size=\"2\"><b>1</b></font></td>\n",
      "</tr>\n",
      "\n",
      "<tr bgcolor=\"#ffffff\"><td><font size=\"2\"><a href=\"/alltime/days/nonopening.htm?page=Fri&amp;adjust_yr=2017&amp;p=.htm\"><b>Non-Opening Friday Gross Adjusted</b></a></font></td>\n",
      "<td align=\"center\"><font size=\"2\"><b>1</b></font></td>\n",
      "</tr>\n",
      "\n",
      "<tr bgcolor=\"#f4f4ff\"><td><font size=\"2\"><a href=\"/alltime/days/nonopening.htm?page=Thu&amp;adjust_yr=2017&amp;p=.htm\"><b>Non-Opening Thursday Gross Adjusted</b></a></font></td>\n",
      "<td align=\"center\"><font size=\"2\"><b>4</b></font></td>\n",
      "</tr>\n",
      "\n",
      "<tr bgcolor=\"#ffffff\"><td><font size=\"2\"><a href=\"/alltime/days/nonopening.htm?page=Tue&amp;adjust_yr=2017&amp;p=.htm\"><b>Non-Opening Tuesday Gross Adjusted</b></a></font></td>\n",
      "<td align=\"center\"><font size=\"2\"><b>1</b></font></td>\n",
      "</tr>\n",
      "\n",
      "<tr bgcolor=\"#f4f4ff\"><td><font size=\"2\"><a href=\"/alltime/days/nonopening.htm?page=Wed&amp;adjust_yr=2017&amp;p=.htm\"><b>Non-Opening Wednesday Gross Adjusted</b></a></font></td>\n",
      "<td align=\"center\"><font size=\"2\"><b>1</b></font></td>\n",
      "</tr>\n",
      "\n",
      "<tr bgcolor=\"#ffffff\"><td><font size=\"2\"><a href=\"/alltime/days/f-th.htm?page=Fri&amp;adjust_yr=2017&amp;p=.htm\"><b>Single Day Friday Gross Adjusted</b></a></font></td>\n",
      "<td align=\"center\"><font size=\"2\"><b>1</b></font></td>\n",
      "</tr>\n",
      "\n",
      "<tr bgcolor=\"#f4f4ff\"><td><font size=\"2\"><a href=\"/alltime/days/f-th.htm?page=Mon&amp;adjust_yr=2017&amp;p=.htm\"><b>Single Day Monday Gross Adjusted</b></a></font></td>\n",
      "<td align=\"center\"><font size=\"2\"><b>1</b></font></td>\n",
      "</tr>\n",
      "\n",
      "<tr bgcolor=\"#ffffff\"><td><font size=\"2\"><a href=\"/alltime/days/f-th.htm?page=Sat&amp;adjust_yr=2017&amp;p=.htm\"><b>Single Day Saturday Gross Adjusted</b></a></font></td>\n",
      "<td align=\"center\"><font size=\"2\"><b>3</b></font></td>\n",
      "</tr>\n",
      "\n",
      "<tr bgcolor=\"#f4f4ff\"><td><font size=\"2\"><a href=\"/alltime/days/f-th.htm?page=Sun&amp;adjust_yr=2017&amp;p=.htm\"><b>Single Day Sunday Gross Adjusted</b></a></font></td>\n",
      "<td align=\"center\"><font size=\"2\"><b>2</b></font></td>\n",
      "</tr>\n",
      "\n",
      "<tr bgcolor=\"#ffffff\"><td><font size=\"2\"><a href=\"/alltime/days/f-th.htm?page=Thu&amp;adjust_yr=2017&amp;p=.htm\"><b>Single Day Thursday Gross Adjusted</b></a></font></td>\n",
      "<td align=\"center\"><font size=\"2\"><b>9</b></font></td>\n",
      "</tr>\n",
      "\n",
      "<tr bgcolor=\"#f4f4ff\"><td><font size=\"2\"><a href=\"/alltime/days/f-th.htm?page=Tue&amp;adjust_yr=2017&amp;p=.htm\"><b>Single Day Tuesday Gross Adjusted</b></a></font></td>\n",
      "<td align=\"center\"><font size=\"2\"><b>2</b></font></td>\n",
      "</tr>\n",
      "\n",
      "<tr bgcolor=\"#ffffff\"><td><font size=\"2\"><a href=\"/alltime/days/f-th.htm?page=Wed&amp;adjust_yr=2017&amp;p=.htm\">Single Day Wednesday Gross Adjusted</a></font></td>\n",
      "<td align=\"center\"><font size=\"2\">11</font></td>\n",
      "</tr>\n",
      "\n",
      "<tr bgcolor=\"#f4f4ff\"><td><font size=\"2\"><a href=\"/alltime/wekeends/theateravg.htm?page=THTRWAVGADJ&amp;adjust_yr=2017&amp;p=.htm\">Theater Averages (Wide Releases) - All Time Adjusted</a></font></td>\n",
      "<td align=\"center\"><font size=\"2\">47</font></td>\n",
      "</tr>\n",
      "\n",
      "<tr bgcolor=\"#ffffff\"><td><font size=\"2\"><a href=\"/alltime/wekeends/theateravg.htm?page=THTRWAVGADJ&amp;adjust_yr=2017&amp;p=.htm\"><b>Theater Averages (Wide Releases) - All Time Adjusted</b></a></font></td>\n",
      "<td align=\"center\"><font size=\"2\"><b>2</b></font></td>\n",
      "</tr>\n",
      "\n",
      "<tr bgcolor=\"#f4f4ff\"><td><font size=\"2\"><a href=\"/alltime/weekends/theateravg.htm?page=THTRAWOPNADJ&amp;adjust_yr=2017&amp;p=.htm\"><b>Theater Averages - Wide Opening Weekends Adjusted</b></a></font></td>\n",
      "<td align=\"center\"><font size=\"2\"><b>2</b></font></td>\n",
      "</tr>\n",
      "\n",
      "<tr bgcolor=\"#ffffff\"><td><font size=\"2\"><a href=\"/alltime/weekends/month/?mo=12&amp;adjust_yr=2017&amp;p=.htm\"><b>Opening Weekends Adjusted - December</b></a></font></td>\n",
      "<td align=\"center\"><font size=\"2\"><b>1</b></font></td>\n",
      "</tr>\n",
      "\n",
      "<tr bgcolor=\"#f4f4ff\"><td><font size=\"2\"><a href=\"/alltime/weekends/?adjust_yr=2017&amp;p=.htm\"><b>Opening Weekends Adjusted</b></a></font></td>\n",
      "<td align=\"center\"><font size=\"2\"><b>1</b></font></td>\n",
      "</tr>\n",
      "\n",
      "<tr bgcolor=\"#ffffff\"><td><font size=\"2\"><a href=\"/alltime/weekends/byseason.htm?season=Holiday&amp;adjust_yr=2017&amp;p=.htm\"><b>Opening Weekends Adjusted - Holiday</b></a></font></td>\n",
      "<td align=\"center\"><font size=\"2\"><b>1</b></font></td>\n",
      "</tr>\n",
      "\n",
      "<tr bgcolor=\"#f4f4ff\"><td><font size=\"2\"><a href=\"/alltime/weekends/moreweeknds.htm?page=11&amp;adjust_yr=2017&amp;p=.htm\">Eleventh Weekends Adjusted</a></font></td>\n",
      "<td align=\"center\"><font size=\"2\">111</font></td>\n",
      "</tr>\n",
      "\n",
      "<tr bgcolor=\"#ffffff\"><td><font size=\"2\"><a href=\"/alltime/weekends/moreweeknds.htm?page=9&amp;adjust_yr=2017&amp;p=.htm\">Ninth Weekends Adjusted</a></font></td>\n",
      "<td align=\"center\"><font size=\"2\">78</font></td>\n",
      "</tr>\n",
      "\n",
      "<tr bgcolor=\"#f4f4ff\"><td><font size=\"2\"><a href=\"/alltime/weekends/moreweeknds.htm?page=10&amp;adjust_yr=2017&amp;p=.htm\">Tenth Weekends Adjusted</a></font></td>\n",
      "<td align=\"center\"><font size=\"2\">112</font></td>\n",
      "</tr>\n",
      "\n",
      "<tr bgcolor=\"#ffffff\"><td><font size=\"2\"><a href=\"/alltime/weekends/moreweeknds.htm?page=12&amp;adjust_yr=2017&amp;p=.htm\">Twelfth Weekends Adjusted</a></font></td>\n",
      "<td align=\"center\"><font size=\"2\">149</font></td>\n",
      "</tr>\n",
      "\n",
      "<tr bgcolor=\"#f4f4ff\"><td><font size=\"2\"><a href=\"/alltime/weekends/moreweeknds.htm?page=2&amp;adjust_yr=2017&amp;p=.htm\"><b>Second Weekends Adjusted</b></a></font></td>\n",
      "<td align=\"center\"><font size=\"2\"><b>1</b></font></td>\n",
      "</tr>\n",
      "\n",
      "<tr bgcolor=\"#ffffff\"><td><font size=\"2\"><a href=\"/alltime/weekends/moreweeknds.htm?page=3&amp;adjust_yr=2017&amp;p=.htm\"><b>Third Weekends Adjusted</b></a></font></td>\n",
      "<td align=\"center\"><font size=\"2\"><b>1</b></font></td>\n",
      "</tr>\n",
      "\n",
      "<tr bgcolor=\"#f4f4ff\"><td><font size=\"2\"><a href=\"/alltime/weekends/moreweeknds.htm?page=4&amp;adjust_yr=2017&amp;p=.htm\"><b>Fourth Weekends Adjusted</b></a></font></td>\n",
      "<td align=\"center\"><font size=\"2\"><b>4</b></font></td>\n",
      "</tr>\n",
      "\n",
      "<tr bgcolor=\"#ffffff\"><td><font size=\"2\"><a href=\"/alltime/weekends/moreweeknds.htm?page=5&amp;adjust_yr=2017&amp;p=.htm\">Fifth Weekends Adjusted</a></font></td>\n",
      "<td align=\"center\"><font size=\"2\">14</font></td>\n",
      "</tr>\n",
      "\n",
      "<tr bgcolor=\"#f4f4ff\"><td><font size=\"2\"><a href=\"/alltime/weekends/moreweeknds.htm?page=6&amp;adjust_yr=2017&amp;p=.htm\">Sixth Weekends Adjusted</a></font></td>\n",
      "<td align=\"center\"><font size=\"2\">55</font></td>\n",
      "</tr>\n",
      "\n",
      "<tr bgcolor=\"#ffffff\"><td><font size=\"2\"><a href=\"/alltime/weekends/moreweeknds.htm?page=7&amp;adjust_yr=2017&amp;p=.htm\">Seventh Weekends Adjusted</a></font></td>\n",
      "<td align=\"center\"><font size=\"2\">60</font></td>\n",
      "</tr>\n",
      "\n",
      "<tr bgcolor=\"#f4f4ff\"><td><font size=\"2\"><a href=\"/alltime/weekends/moreweeknds.htm?page=8&amp;adjust_yr=2017&amp;p=.htm\">Eighth Weekends Adjusted</a></font></td>\n",
      "<td align=\"center\"><font size=\"2\">99</font></td>\n",
      "</tr>\n",
      "\n",
      "<tr bgcolor=\"#ffffff\"><td><font size=\"2\"><a href=\"/alltime/domestic/mpaa.htm?page=PG-13&amp;adjust_yr=2017&amp;p=.htm\"><b>Rated PG-13 Adjusted</b></a></font></td>\n",
      "<td align=\"center\"><font size=\"2\"><b>2</b></font></td>\n",
      "</tr>\n",
      "\n",
      "<tr bgcolor=\"#f4f4ff\"><td><font size=\"2\"><a href=\"/alltime/weekends/mpaa.htm?page=PG-13&amp;adjust_yr==.htm\"><b>Rated PG-13, Opening Weekends Adjusted</b></a></font></td>\n",
      "<td align=\"center\"><font size=\"2\"><b>1</b></font></td>\n",
      "</tr>\n",
      "\n",
      "</tbody></table></div> \n",
      "\n",
      "<div class=\"mp_box_content\"><table border=\"0\" cellpadding=\"5\" cellspacing=\"0\" width=\"100%\"><tbody><tr bgcolor=\"#ffff99\"><td><font size=\"2\"><a href=\"/news/?id=4184&amp;p=.htm\">5/10/16 Disney Makes History, Topping $1 Billion in Domestic Ticket Sales in Just 128 Days</a></font></td></tr><tr bgcolor=\"#f4f4ff\"><td><font size=\"2\"><a href=\"/news/?id=4162&amp;p=.htm\">2/28/16 The 'Gods of Egypt' are No Match for 'Deadpool', Which Climbs to $285+ Million Domestically</a></font></td></tr><tr bgcolor=\"#ffffff\"><td><font size=\"2\"><a href=\"/news/?id=4161&amp;p=.htm\">2/25/16 'Gods of Egypt', 'Triple 9' &amp; 'Eddie the Eagle' Hit Theaters While 'Deadpool' Threepeats</a></font></td></tr><tr bgcolor=\"#f4f4ff\"><td><font size=\"2\"><a href=\"/news/?id=4157&amp;p=.htm\">2/14/16 'Deadpool' Smashes Box Office Records On Way to $260 Million Worldwide Opening</a></font></td></tr><tr bgcolor=\"#ffffff\"><td><font size=\"2\"><a href=\"/news/?id=4155&amp;p=.htm\">2/11/16 Updated: 'Deadpool' Targets #1 Opening Over 'How to Be Single' &amp; 'Zoolander 2'</a></font></td></tr><tr bgcolor=\"#f4f4ff\"><td><font size=\"2\"><a href=\"/news/?id=4153&amp;p=.htm\">2/7/16 'Kung Fu Panda 3' Tops Super Bowl Weekend; 'Hail, Caesar!' Leads Newcomers</a></font></td></tr><tr bgcolor=\"#ffffff\"><td><font size=\"2\"><a href=\"/news/?id=4152&amp;p=.htm\">2/6/16 'Star Wars: Force Awakens' First Ever to Cross $900 Million Domestically</a></font></td></tr><tr bgcolor=\"#f4f4ff\"><td><font size=\"2\"><a href=\"/news/?id=4150&amp;p=.htm\">1/31/16 'Kung Fu Panda 3' #1; Holdovers Make Up for Money Lost in the Snow</a></font></td></tr><tr bgcolor=\"#ffffff\"><td><font size=\"2\"><a href=\"/news/?id=4149&amp;p=.htm\">1/28/16 Weekend Preview: 'Kung Fu Panda 3' To Top 'Fifty Shades of Black' and 'Finest Hours'</a></font></td></tr><tr bgcolor=\"#f4f4ff\"><td><font size=\"2\"><a href=\"/news/?id=4148&amp;p=.htm\">1/24/16 'The Revenant' Weathers Snow Storm While Weekend's Newcomers Perform as Expected</a></font></td></tr><tr bgcolor=\"#ffffff\"><td><font size=\"2\"><a href=\"/news/?id=4146&amp;p=.htm\">1/17/16 'Ride Along 2' #1, 'Revenant' Holds Strong and 'Star Wars' Crosses $1 Billion Internationally</a></font></td></tr><tr bgcolor=\"#f4f4ff\"><td><font size=\"2\"><a href=\"/news/?id=4144&amp;p=.htm\">1/14/16 'Ride Along 2' and 'Revenant' Look to Remove 'Star Wars' from Its Perch</a></font></td></tr><tr bgcolor=\"#ffffff\"><td><font size=\"2\"><a href=\"/news/?id=4143&amp;p=.htm\">1/10/16 'The Revenant' Storms the Box Office; 'Star Wars' Opens with $53M in China</a></font></td></tr><tr bgcolor=\"#f4f4ff\"><td><font size=\"2\"><a href=\"/news/?id=4142&amp;p=.htm\">1/7/16 'Star Wars: Force Awakens' Becomes Highest Grossing Domestic Release of All-Time</a></font></td></tr><tr bgcolor=\"#ffffff\"><td><font size=\"2\"><a href=\"/news/?id=4141&amp;p=.htm\">1/6/16 Update: 'Star Wars' Opens in China; 'Revenant' &amp; 'The Forest' Make Domestic Bows</a></font></td></tr><tr bgcolor=\"#f4f4ff\"><td><font size=\"2\"><a href=\"/news/?id=4140&amp;p=.htm\">1/3/16 'Star Wars' Crosses $700 Million Domestically as 2016 is Off to a Strong Start</a></font></td></tr><tr bgcolor=\"#ffffff\"><td><font size=\"2\"><a href=\"/news/?id=4139&amp;p=.htm\">12/31/15 Forecast: January 2016 Looks to Get Off to a Sizzling Start</a></font></td></tr><tr bgcolor=\"#f4f4ff\"><td><font size=\"2\"><a href=\"/news/?id=4138&amp;p=.htm\">12/30/15 2015 Box Office Totals a Record $11 Billion</a></font></td></tr><tr bgcolor=\"#ffffff\"><td><font size=\"2\"><a href=\"/news/?id=4137&amp;p=.htm\">12/27/15 'Star Wars: Force Awakens' Crosses $1 Billion Worldwide, Topping Christmas Weekend</a></font></td></tr><tr bgcolor=\"#f4f4ff\"><td><font size=\"2\"><a href=\"/news/?id=4136&amp;p=.htm\">12/24/15 Christmas Forecast: 'Star Wars' Second Weekend Faces Five New Wide Releases</a></font></td></tr><tr bgcolor=\"#ffffff\"><td><font size=\"2\"><a href=\"/news/?id=4135&amp;p=.htm\">12/22/15 UPDATED: 'Star Wars: Force Awakens' Targets Christmas Miracle, Destroys Monday Record</a></font></td></tr><tr bgcolor=\"#f4f4ff\"><td><font size=\"2\"><a href=\"/news/?id=4134&amp;p=.htm\">12/20/15 'Star Wars: The Force Awakens' Crushes Records, Topping Largest Box Office Weekend of All Time</a></font></td></tr><tr bgcolor=\"#ffffff\"><td><font size=\"2\"><a href=\"/news/?id=4133&amp;p=.htm\">12/19/15 'Star Wars: The Force Awakens' Shatters Opening Day Record</a></font></td></tr><tr bgcolor=\"#f4f4ff\"><td><font size=\"2\"><a href=\"/news/?id=4132&amp;p=.htm\">12/18/15 'Star Wars: The Force Awakens' Targets Record Breaking $100M+ Opening Day</a></font></td></tr><tr bgcolor=\"#ffffff\"><td><font size=\"2\"><a href=\"/news/?id=4131&amp;p=.htm\">12/17/15 Forecast: 'Star Wars: The Force Awakens'... Will Box Office Records Feel the Force?</a></font></td></tr><tr bgcolor=\"#f4f4ff\"><td><font size=\"2\"><a href=\"/news/?id=4130&amp;p=.htm\">12/13/15 'In the Heart of the Sea' Runs Ashore Giving 'Mockingjay 2' Its Fourth Straight #1</a></font></td></tr><tr bgcolor=\"#ffffff\"><td><font size=\"2\"><a href=\"/news/?id=4129&amp;p=.htm\">12/10/15 'In the Heart of the Sea' Goes Hunting for #1 Before 'Star Wars' Arrives</a></font></td></tr></tbody></table></div> \n",
      "\n",
      "<div class=\"mp_box_content\"><ul>\n",
      "<li><a href=\"http://www.amazon.com/gp/product/B018FK66TU?ie=UTF8&amp;tag=boxofficemojo-20&amp;linkCode=as2&amp;camp=1789&amp;creative=9325&amp;creativeASIN=B018FK66TU\">Star Wars: The Force Awakens [Blu-ray]</a><img alt=\"\" border=\"0\" height=\"1\" src=\"http://www.assoc-amazon.com/e/ir?t=boxofficemojo-20&amp;l=as2&amp;o=1&amp;a=B018FK66TU\" style=\"border:none !important; margin:0px !important;\" width=\"1\"/></li>\n",
      "</ul></div> \n",
      "\n"
     ]
    }
   ],
   "source": [
    "for element in soup1.find_all(class_='mp_box_content'):\n",
    "   print(element, '\\n')"
   ]
  },
  {
   "cell_type": "code",
   "execution_count": 10,
   "metadata": {},
   "outputs": [
    {
     "data": {
      "text/plain": [
       "[<td width=\"40%\"><b>Domestic:</b></td>,\n",
       " <td align=\"right\" width=\"35%\"> <b>$936,662,225</b></td>,\n",
       " <td align=\"right\" width=\"25%\">   <b>45.3%</b></td>,\n",
       " <td width=\"40%\">+ <a href=\"/movies/?page=intl&amp;id=starwars7.htm\">Foreign:</a></td>,\n",
       " <td align=\"right\" width=\"35%\"> $1,131,561,399</td>,\n",
       " <td align=\"right\" width=\"25%\">   54.7%</td>,\n",
       " <td colspan=\"3\" width=\"100%\"><hr/></td>,\n",
       " <td width=\"40%\">= <b>Worldwide:</b></td>,\n",
       " <td align=\"right\" width=\"35%\"> <b>$2,068,223,624</b></td>,\n",
       " <td width=\"25%\"> </td>]"
      ]
     },
     "execution_count": 10,
     "metadata": {},
     "output_type": "execute_result"
    }
   ],
   "source": [
    "soup1.find(class_='mp_box_content').find_all('td')"
   ]
  },
  {
   "cell_type": "code",
   "execution_count": null,
   "metadata": {
    "collapsed": true
   },
   "outputs": [],
   "source": [
    "#         info\n",
    "\n",
    "#     for item in items:\n",
    "        \n",
    "#         print(item)\n",
    "#     open_week_string = items[0]\n",
    "      \n",
    "    \n",
    "\n",
    "# movies={}\n",
    "# for row in rows:\n",
    "#     items=row.find_all('td')\n",
    "#     title=items[1].find('a')['href']\n",
    "#     movies[title]=[i.text for i in items[1:]]\n",
    "    \n",
    "\n",
    "# list(movies.items())[1]"
   ]
  },
  {
   "cell_type": "code",
   "execution_count": 24,
   "metadata": {},
   "outputs": [
    {
     "name": "stdout",
     "output_type": "stream",
     "text": [
      "936662225\n"
     ]
    }
   ],
   "source": [
    "dtg_string = soup1.find(text=re.compile('Domestic Total'))\n",
    "dtg = dtg_string.findNextSibling().text \n",
    "dtg = dtg.replace('$','').replace(',','')\n",
    "domestic_total_gross = int(dtg)\n",
    "print(domestic_total_gross)"
   ]
  },
  {
   "cell_type": "code",
   "execution_count": 273,
   "metadata": {},
   "outputs": [
    {
     "data": {
      "text/plain": [
       "'Domestic Total Gross: $936,662,225'"
      ]
     },
     "execution_count": 273,
     "metadata": {},
     "output_type": "execute_result"
    }
   ],
   "source": [
    "soup1.center.find_all('td')[0].text"
   ]
  },
  {
   "cell_type": "code",
   "execution_count": 249,
   "metadata": {
    "scrolled": false
   },
   "outputs": [
    {
     "data": {
      "text/plain": [
       "['$936,662,225',\n",
       " 'Buena Vista',\n",
       " 'December 18, 2015',\n",
       " 'Sci-Fi Fantasy',\n",
       " '2 hrs. 16 min.',\n",
       " 'PG-13',\n",
       " '$245 million']"
      ]
     },
     "execution_count": 249,
     "metadata": {},
     "output_type": "execute_result"
    }
   ],
   "source": [
    "center1 = []\n",
    "for b in soup1.center.findAll('b'):\n",
    "    center1.append(b.text)\n",
    "center1  "
   ]
  },
  {
   "cell_type": "code",
   "execution_count": 204,
   "metadata": {
    "collapsed": true
   },
   "outputs": [],
   "source": [
    "url2 = 'http://www.boxofficemojo.com/movies/?id=avatar.htm'\n",
    "\n",
    "source_code3=requests.get(url2)\n",
    "soup3 = BeautifulSoup(source_code3.text,\"html5lib\")\n"
   ]
  },
  {
   "cell_type": "code",
   "execution_count": 189,
   "metadata": {},
   "outputs": [
    {
     "data": {
      "text/plain": [
       "144"
      ]
     },
     "execution_count": 189,
     "metadata": {},
     "output_type": "execute_result"
    }
   ],
   "source": [
    "all2 = []\n",
    "for b in soup3.findAll('b'):\n",
    "    all2.append(b.text)\n",
    "len(all2)"
   ]
  },
  {
   "cell_type": "code",
   "execution_count": 248,
   "metadata": {},
   "outputs": [
    {
     "data": {
      "text/plain": [
       "['$749,766,139',\n",
       " 'Domestic Lifetime Gross: $760,507,625',\n",
       " 'Fox',\n",
       " 'December 18, 2009',\n",
       " 'Sci-Fi Adventure',\n",
       " '2 hrs. 40 min.',\n",
       " 'PG-13',\n",
       " '$237 million']"
      ]
     },
     "execution_count": 248,
     "metadata": {},
     "output_type": "execute_result"
    }
   ],
   "source": [
    "center3 = []\n",
    "for b in soup3.center.findAll('b'):\n",
    "    center3.append(b.text)\n",
    "center3.    "
   ]
  },
  {
   "cell_type": "code",
   "execution_count": null,
   "metadata": {
    "collapsed": true
   },
   "outputs": [],
   "source": [
    "for add in addr[:50]:\n",
    "    print(add)"
   ]
  },
  {
   "cell_type": "code",
   "execution_count": null,
   "metadata": {
    "collapsed": true
   },
   "outputs": [],
   "source": []
  },
  {
   "cell_type": "code",
   "execution_count": null,
   "metadata": {
    "collapsed": true
   },
   "outputs": [],
   "source": []
  },
  {
   "cell_type": "code",
   "execution_count": null,
   "metadata": {
    "collapsed": true
   },
   "outputs": [],
   "source": []
  },
  {
   "cell_type": "code",
   "execution_count": null,
   "metadata": {
    "collapsed": true
   },
   "outputs": [],
   "source": []
  },
  {
   "cell_type": "code",
   "execution_count": null,
   "metadata": {
    "collapsed": true
   },
   "outputs": [],
   "source": []
  },
  {
   "cell_type": "code",
   "execution_count": null,
   "metadata": {
    "collapsed": true
   },
   "outputs": [],
   "source": []
  },
  {
   "cell_type": "code",
   "execution_count": null,
   "metadata": {
    "collapsed": true
   },
   "outputs": [],
   "source": []
  },
  {
   "cell_type": "code",
   "execution_count": null,
   "metadata": {
    "collapsed": true
   },
   "outputs": [],
   "source": []
  },
  {
   "cell_type": "code",
   "execution_count": null,
   "metadata": {
    "collapsed": true
   },
   "outputs": [],
   "source": []
  },
  {
   "cell_type": "code",
   "execution_count": 156,
   "metadata": {
    "collapsed": true
   },
   "outputs": [],
   "source": [
    "import numpy as np\n",
    "l = ['a1','b1','c1','a2','b2','c2','a3','b3','c3','a4','b4','c4','a5','b5','c5']\n",
    "foo = np.array(l).reshape(-1,3)"
   ]
  },
  {
   "cell_type": "code",
   "execution_count": 170,
   "metadata": {
    "collapsed": true
   },
   "outputs": [],
   "source": [
    "foo_n = foo.T.tolist()"
   ]
  },
  {
   "cell_type": "code",
   "execution_count": 171,
   "metadata": {},
   "outputs": [
    {
     "data": {
      "text/plain": [
       "{'colors': ['b1', 'b2', 'b3', 'b4', 'b5'],\n",
       " 'font': ['c1', 'c2', 'c3', 'c4', 'c5'],\n",
       " 'names': ['a1', 'a2', 'a3', 'a4', 'a5']}"
      ]
     },
     "execution_count": 171,
     "metadata": {},
     "output_type": "execute_result"
    }
   ],
   "source": [
    "d = {}\n",
    "d['names'] = foo_n[0]\n",
    "d['colors'] = foo_n[1]\n",
    "d['font'] = foo_n[2]\n",
    "d"
   ]
  },
  {
   "cell_type": "code",
   "execution_count": null,
   "metadata": {
    "collapsed": true
   },
   "outputs": [],
   "source": []
  }
 ],
 "metadata": {
  "kernelspec": {
   "display_name": "Python [conda env:py3]",
   "language": "python",
   "name": "conda-env-py3-py"
  },
  "language_info": {
   "codemirror_mode": {
    "name": "ipython",
    "version": 3
   },
   "file_extension": ".py",
   "mimetype": "text/x-python",
   "name": "python",
   "nbconvert_exporter": "python",
   "pygments_lexer": "ipython3",
   "version": "3.6.2"
  }
 },
 "nbformat": 4,
 "nbformat_minor": 2
}
