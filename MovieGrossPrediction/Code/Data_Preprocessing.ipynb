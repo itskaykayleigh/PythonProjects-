{
 "cells": [
  {
   "cell_type": "code",
   "execution_count": 1,
   "metadata": {},
   "outputs": [
    {
     "name": "stderr",
     "output_type": "stream",
     "text": [
      "/Users/liyuqiao/anaconda/envs/py3/lib/python3.6/site-packages/statsmodels/compat/pandas.py:56: FutureWarning: The pandas.core.datetools module is deprecated and will be removed in a future version. Please use the pandas.tseries module instead.\n",
      "  from pandas.core import datetools\n"
     ]
    }
   ],
   "source": [
    "from __future__ import print_function, division\n",
    "\n",
    "import requests\n",
    "import pandas as pd\n",
    "import numpy as np \n",
    "from bs4 import BeautifulSoup\n",
    "import re \n",
    "from dateutil.parser import parse\n",
    "from pprint import pprint\n",
    "import matplotlib.pyplot as plt\n",
    "import seaborn as sns\n",
    "from sklearn.model_selection import train_test_split\n",
    "from sklearn.linear_model import LinearRegression\n",
    "from sklearn.metrics import mean_squared_error\n",
    "from sklearn.metrics import mean_absolute_error, r2_score\n",
    "import statsmodels.api as sm\n",
    "import statsmodels.formula.api as smf\n",
    "import pickle\n",
    "\n",
    "%matplotlib inline"
   ]
  },
  {
   "cell_type": "markdown",
   "metadata": {},
   "source": [
    "### Load Data"
   ]
  },
  {
   "cell_type": "code",
   "execution_count": 2,
   "metadata": {},
   "outputs": [],
   "source": [
    "with open('../../Data/movies.pickle', 'rb') as f:\n",
    "    df = pickle.load(f)\n",
    "    \n",
    "df.Actors = df.Actors.apply(lambda x: ', '.join(x))"
   ]
  },
  {
   "cell_type": "markdown",
   "metadata": {},
   "source": [
    "### Data Preprocessing: \n",
    "* Data type conversion  \n",
    "* Time stamp conversion   \n",
    "* Handling missing values \n",
    "* Getting rid of duplicates "
   ]
  },
  {
   "cell_type": "code",
   "execution_count": 6,
   "metadata": {
    "collapsed": true
   },
   "outputs": [],
   "source": [
    "# data type conversions \n",
    "df['Directors'] = df['Directors'].astype('str')\n",
    "df['Release Year'] = df['Release Year'].astype('str')\n",
    "\n",
    "def theathers_to_int(i):\n",
    "    if type(i) != int:\n",
    "        return int(i.replace(',',''))\n",
    "    else: \n",
    "        return i \n",
    "df['Wildest Release'] = df['Wildest Release'].apply(theathers_to_int) \n",
    "\n",
    "def check_lst(x):\n",
    "    if type(x) == list:\n",
    "        x = ', '.join(x)\n",
    "    else: \n",
    "        x = x\n",
    "    return x \n",
    "df['Directors'] = df['Directors'].apply(check_lst)"
   ]
  },
  {
   "cell_type": "code",
   "execution_count": null,
   "metadata": {},
   "outputs": [],
   "source": [
    "# drop movies released before 2007 \n",
    "df = df[df['Release Date'].dt.year >= 2007]"
   ]
  },
  {
   "cell_type": "code",
   "execution_count": 14,
   "metadata": {
    "collapsed": true
   },
   "outputs": [],
   "source": [
    "# replace missing values with NaN  \n",
    "df = df.replace('N/A', np.NaN)\n",
    "df = df.replace(['N/A'], np.NaN)\n",
    "df = df.replace(['N/a'], np.NaN)\n",
    "\n",
    "# fill in the null values for Domestic Total Gross with mean \n",
    "df = df.fillna({\"Domestic Total Gross ($)\": \n",
    "                df[\"Domestic Total Gross ($)\"].mean()})\n",
    "\n",
    "# fill in the null values for Domestic Total Gross with median\n",
    "df = df.fillna({\"Production Budget ($)\": \n",
    "                df[\"Production Budget ($)\"].median()})\n",
    "\n",
    "# find the mode for 'Runtime' \n",
    "df['Runtime (mins)'].value_counts()\n",
    "\n",
    "# fill in null values for Runtime with mode \n",
    "df = df.fillna({'Runtime (mins)': float(95)})"
   ]
  },
  {
   "cell_type": "code",
   "execution_count": 20,
   "metadata": {
    "collapsed": true
   },
   "outputs": [],
   "source": [
    "# drop duplicated values \n",
    "df = df.drop_duplicates(subset='Movie Title',keep='first')"
   ]
  },
  {
   "cell_type": "code",
   "execution_count": 22,
   "metadata": {
    "collapsed": true
   },
   "outputs": [],
   "source": [
    "# time stamp conversion \n",
    "df['Release Year'] = df['Release Date'].apply(lambda x: x.year)\n",
    "df['Release Date'] = df['Release Date'].apply(lambda x: x.month)"
   ]
  },
  {
   "cell_type": "code",
   "execution_count": 31,
   "metadata": {
    "collapsed": true
   },
   "outputs": [],
   "source": [
    "# take inflation into consideration for gross computation \n",
    "def year_inflation(year):\n",
    "    if year == '2007': \n",
    "        return 0.843\n",
    "    elif year == '2008': \n",
    "        return 0.875\n",
    "    elif year == '2009':\n",
    "        return 0.872\n",
    "    elif year == '2010':\n",
    "        return 0.886\n",
    "    elif year == '2011': \n",
    "        return 0.914\n",
    "    elif year == '2012': \n",
    "        return 0.933\n",
    "    elif year == '2013':\n",
    "        return 0.947\n",
    "    elif year == '2014': \n",
    "        return 0.962\n",
    "    elif year == '2015': \n",
    "        return 0.963\n",
    "    elif year == '2016': \n",
    "        return 0.976\n",
    "    else:\n",
    "        return 1\n",
    "df['Release Year'] = df['Release Year'].apply(year_inflation)\n",
    "\n",
    "# reflect inflation on monetary columns \n",
    "df['Production Budget ($)'] = (df['Production Budget ($)'] \n",
    "                                      / df['Release Year'])\n",
    "\n",
    "df['Opening Weekend Gross ($)'] = (df['Opening Weekend Gross ($)'] \n",
    "                                      / df['Release Year'])\n",
    "\n",
    "df['Domestic Total Gross ($)'] = (df['Domestic Total Gross ($)'] \n",
    "                                      / df['Release Year'])\n",
    "\n",
    "df['Opening Weekend Gross ($)']=[x/1000000 for \n",
    "                                 x in df['Opening Weekend Gross ($)']]\n",
    "df['DomesticTotalGross']=[x/1000000 for x in df['DomesticTotalGross']]"
   ]
  },
  {
   "cell_type": "code",
   "execution_count": 39,
   "metadata": {
    "collapsed": true
   },
   "outputs": [],
   "source": [
    "# Other conversions -standardize names \n",
    "df.rename(columns={'Release Date':'Release Month'}, inplace=True)\n",
    "df.rename(columns={'Domestic Total Gross ($)':'DomesticTotalGross'},\n",
    "          inplace=True)"
   ]
  },
  {
   "cell_type": "markdown",
   "metadata": {},
   "source": [
    "### Dummify Categorical Features Into Different Groups"
   ]
  },
  {
   "cell_type": "code",
   "execution_count": 42,
   "metadata": {
    "collapsed": true
   },
   "outputs": [],
   "source": [
    "# Release Month \n",
    "df = pd.get_dummies(df, columns=['Release Month'], \n",
    "                    prefix=[\"Release Month\"], \n",
    "                    drop_first=True)"
   ]
  },
  {
   "cell_type": "code",
   "execution_count": 43,
   "metadata": {
    "collapsed": true
   },
   "outputs": [],
   "source": [
    "# Ratings\n",
    "def ratings_buckets(rating):\n",
    "    if rating == 'PG-13' or rating == 'PG':\n",
    "        return 'PG/PG-13'\n",
    "    elif rating == 'Unknown':\n",
    "        return 'Unrated'\n",
    "    else: \n",
    "        return rating \n",
    "df['Rating'] = df['Rating'].apply(ratings_buckets)\n",
    "\n",
    "df = pd.get_dummies(df, columns=['Rating'], \n",
    "                    prefix=[\"MPAA\"], \n",
    "                    drop_first=True)\n",
    "\n",
    "df = pd.get_dummies(df, columns=['Genre'], \n",
    "                    prefix=[\"Genre\"], \n",
    "                    drop_first=True)"
   ]
  },
  {
   "cell_type": "code",
   "execution_count": 53,
   "metadata": {
    "collapsed": true
   },
   "outputs": [],
   "source": [
    "# Production Budget \n",
    "budget_mean = df['Production Budget ($)'].mean()\n",
    "df.drop('Release Year', axis=1, inplace = True)\n",
    "[item.get_ydata() for item in B['whiskers']]\n",
    "interquartile =[item.get_ydata()[0] for item in B['whiskers']]\n",
    "twenty_five_percentile = interquartile[0]\n",
    "seventy_five_percentile = interquartile[1]\n",
    "\n",
    "def prod_budget_buckets(budget):\n",
    "    if budget < twenty_five_percentile:\n",
    "        return 'Small'\n",
    "    elif budget < seventy_five_percentile:\n",
    "        return 'Medium'\n",
    "    else: \n",
    "        return 'Large'\n",
    "    \n",
    "df['Production Budget ($)'] = df['Production Budget ($)'].apply(\n",
    "    prod_budget_buckets)\n",
    "\n",
    "df = pd.get_dummies(df, \n",
    "                    columns=['Production Budget ($)'], \n",
    "                    prefix = 'Prod_Budget', \n",
    "                    drop_first=True)"
   ]
  },
  {
   "cell_type": "code",
   "execution_count": 56,
   "metadata": {
    "collapsed": true
   },
   "outputs": [],
   "source": [
    "# Release Theaters \n",
    "def wild_release_buckets(theaters):\n",
    "    if theaters <= 599:\n",
    "        return 'Limited'\n",
    "    elif theaters <= 3000:\n",
    "        return 'Wild'\n",
    "    else: \n",
    "        return 'Huge'\n",
    "    \n",
    "df['Wildest Release'] = df['Wildest Release'].apply(wild_release_buckets)\n",
    "\n",
    "df = pd.get_dummies(df, \n",
    "                    columns=['Wildest Release'], \n",
    "                    prefix = 'Release', \n",
    "                    drop_first=True)"
   ]
  },
  {
   "cell_type": "markdown",
   "metadata": {},
   "source": [
    "#### Information on Oscar winners for Best Actor/Actress/Director\n",
    "http://www.nndb.com"
   ]
  },
  {
   "cell_type": "code",
   "execution_count": 60,
   "metadata": {
    "scrolled": true
   },
   "outputs": [
    {
     "data": {
      "text/plain": [
       "Directors\n",
       "James Cameron                   7.497661e+08\n",
       "Colin Trevorrow                 6.522706e+08\n",
       "Joss Whedon                     5.411819e+08\n",
       "Bill Condon                     5.040142e+08\n",
       "Angus MacLane Andrew Stanton    4.862956e+08\n",
       "J.J. Abrams                     4.308150e+08\n",
       "Lee Unkrich                     4.150049e+08\n",
       "Patty Jenkins                   4.120388e+08\n",
       "Shane Black                     4.090140e+08\n",
       "Gary Ross                       4.080107e+08\n",
       "Name: DomesticTotalGross, dtype: float64"
      ]
     },
     "execution_count": 60,
     "metadata": {},
     "output_type": "execute_result"
    }
   ],
   "source": [
    "# Depending on director's average domestic total gross per movie, \n",
    "# bag directors  \n",
    "df.groupby(['Directors']).DomesticTotalGross.mean().sort_values(\n",
    "    ascending=False)[:10]"
   ]
  },
  {
   "cell_type": "code",
   "execution_count": 61,
   "metadata": {
    "collapsed": true
   },
   "outputs": [],
   "source": [
    "def director_gross_ranking(director):\n",
    "    if (df.groupby(['Directors'])\n",
    "        .DomesticTotalGross.mean()\n",
    "        .sort_values(ascending=False)[director]) > 400000000:\n",
    "        return 'Above_40'\n",
    "    elif (df.groupby(['Directors'])\n",
    "        .DomesticTotalGross.mean()\n",
    "        .sort_values(ascending=False)[director]) > 200000000:\n",
    "        return 'Above_20'\n",
    "    elif (df.groupby(['Directors'])\n",
    "        .DomesticTotalGross.mean()\n",
    "        .sort_values(ascending=False)[director]) > 99999999:\n",
    "        return 'Above_10'\n",
    "    elif (df.groupby(['Directors'])\n",
    "        .DomesticTotalGross.mean()\n",
    "        .sort_values(ascending=False)[director]) > 9999999:\n",
    "        return 'Above_1'\n",
    "    else: \n",
    "        return 'Below_1'\n",
    "    \n",
    "df['Directors'] = df['Directors'].astype('str')\n",
    "df['Directors'] = df['Directors'].apply(director_gross_ranking)\n",
    "\n",
    "df = pd.get_dummies(df, \n",
    "                    columns=['Directors'], \n",
    "                    prefix = 'Director', \n",
    "                    drop_first=True)"
   ]
  },
  {
   "cell_type": "code",
   "execution_count": 65,
   "metadata": {
    "collapsed": true
   },
   "outputs": [],
   "source": [
    "# Actors \n",
    "valuable_actors_df = pd.read_csv('valuable_actors.txt', sep=\",\")\n",
    "valuable_actors_df.columns = ['index','actor/actress'\n",
    "                     ,'total gross','movies'\n",
    "                     ,'avg gross','#1 picture','gross']\n",
    "\n",
    "valuable_actors_df = valuable_actors_df['actor/actress']"
   ]
  },
  {
   "cell_type": "code",
   "execution_count": 68,
   "metadata": {
    "collapsed": true
   },
   "outputs": [],
   "source": [
    "def check_actors_match(actors):\n",
    "    \"\"\"Returns a counter that helps transform star power\n",
    "    to measurable values. Any actor/actress that are within \n",
    "    the top 100 highest total lifetime gross list will be \n",
    "    given a score of 2, else 1 (0 for NaN values).\n",
    "     \"\"\"\n",
    "    count = 1\n",
    "    for name in valuable_actors_df:\n",
    "        if name in actors:\n",
    "            count += 1  \n",
    "    return count \n",
    "\n",
    "df['Actors'] = df['Actors'].astype('str')\n",
    "df['Actors'] = df['Actors'].apply(lambda x : x.replace(', ',' '))\n",
    "df['Actors'] = df['Actors'].apply(check_actors_match)\n",
    "\n",
    "df = pd.get_dummies(df, \n",
    "                    columns=['Actors'], \n",
    "                    prefix = 'Actors Rank', \n",
    "                    drop_first=True)"
   ]
  }
 ],
 "metadata": {
  "kernelspec": {
   "display_name": "Python [conda env:py3]",
   "language": "python",
   "name": "conda-env-py3-py"
  },
  "language_info": {
   "codemirror_mode": {
    "name": "ipython",
    "version": 3
   },
   "file_extension": ".py",
   "mimetype": "text/x-python",
   "name": "python",
   "nbconvert_exporter": "python",
   "pygments_lexer": "ipython3",
   "version": "3.6.2"
  }
 },
 "nbformat": 4,
 "nbformat_minor": 2
}
