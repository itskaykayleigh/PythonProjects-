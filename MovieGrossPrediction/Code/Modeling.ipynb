{
 "cells": [
  {
   "cell_type": "code",
   "execution_count": null,
   "metadata": {},
   "outputs": [],
   "source": [
    "from __future__ import print_function, division\n",
    "\n",
    "import pandas as pd\n",
    "import numpy as np \n",
    "from pprint import pprint\n",
    "import matplotlib\n",
    "import matplotlib.pyplot as plt\n",
    "import seaborn as sns\n",
    "import sklearn\n",
    "import pickle\n",
    "import scipy\n",
    "import patsy\n",
    "import sys\n",
    "from sklearn.model_selection import train_test_split\n",
    "from sklearn.model_selection import GridSearchCV, cross_val_score\n",
    "from sklearn.preprocessing import StandardScaler\n",
    "from sklearn.linear_model import LinearRegression, Ridge \n",
    "from sklearn.linear_model import Lasso, ElasticNet\n",
    "from sklearn.metrics import mean_squared_error\n",
    "from sklearn.metrics import mean_absolute_error, r2_score, make_scorer\n",
    "import statsmodels.api as sm\n",
    "import statsmodels.formula.api as smf\n",
    "from scipy.stats import normaltest\n",
    "\n",
    "\n",
    "%matplotlib inline "
   ]
  },
  {
   "cell_type": "markdown",
   "metadata": {},
   "source": [
    "### Read Data "
   ]
  },
  {
   "cell_type": "code",
   "execution_count": 10,
   "metadata": {
    "collapsed": true
   },
   "outputs": [],
   "source": [
    "with open('../../Data/movies_clean.pickle', 'rb') as f:\n",
    "    movies_df = pickle.load(f)"
   ]
  },
  {
   "cell_type": "code",
   "execution_count": null,
   "metadata": {},
   "outputs": [],
   "source": [
    "# Plot data \n",
    "plt.figure(figsize=(10, 6))\n",
    "plt.hist(movies_df_2D.DomesticTotalGross,\n",
    "         bins=10,\n",
    "         alpha=0.8,\n",
    "         color='k')\n",
    "plt.xlabel('2D Movie Total Domestic Gross', fontsize=15)\n",
    "plt.ylabel('Movie Counts', fontsize=15)\n",
    "plt.title('2D Movies Total Domestic Gross Distribution')\n",
    "\n",
    "# plt.savefig('../../Images/model_2d hist.png', \n",
    "#             dpi=200, bbox_inches = 'tight')"
   ]
  },
  {
   "cell_type": "markdown",
   "metadata": {},
   "source": [
    "### Dataset Standardization - removes the mean and scaling to unit variance \n",
    "L1 and L2 regularizers of linear models assume that all features are centered around 0 and have variance in the same order. If a feature has a variance that is orders of magnitude larger that others, it might dominate the objective function and make the estimator unable to learn from other features correctly as expected."
   ]
  },
  {
   "cell_type": "code",
   "execution_count": null,
   "metadata": {},
   "outputs": [],
   "source": [
    "ssX = StandardScaler()\n",
    "not_Y = movies_df_2D[[x for x in \n",
    "                      movies_df_2D.columns if x != 'DomesticTotalGross']] \n",
    "X = not_Y[[x for x in not_y.columns if x != 'Movie Title']]\n",
    "X = X[[x for x in X.columns if x != 'Genre_3D']]\n",
    "Y = movies_df_2D.DomesticTotalGross"
   ]
  },
  {
   "cell_type": "markdown",
   "metadata": {},
   "source": [
    "#### Train-Test Split "
   ]
  },
  {
   "cell_type": "code",
   "execution_count": null,
   "metadata": {},
   "outputs": [],
   "source": [
    "X_train, X_val, Y_train, Y_val = train_test_split(\n",
    "    X, Y, test_size=0.1, random_state=42)\n",
    "\n",
    "X_tr = ssX.fit_transform(X_train)\n",
    "X_val = ssX.transform(X_val)"
   ]
  },
  {
   "cell_type": "markdown",
   "metadata": {},
   "source": [
    "### Linear Regression Model 1: SkLearn "
   ]
  },
  {
   "cell_type": "code",
   "execution_count": 27,
   "metadata": {
    "collapsed": true
   },
   "outputs": [],
   "source": [
    "def sklearn_lr(feature,cv = 5, scoring = 'neg_mean_absolute_error'):\n",
    "    x_train = df_train[feature]\n",
    "    lr = LinearRegression()\n",
    "    shape = len(feature)\n",
    "    x_train = x_train.values.reshape(-1,shape)\n",
    "    lr.fit(x_train, Y_train)\n",
    "    score_ = cross_val_score(lr, x_train, Y_train, \n",
    "                             cv = cv, scoring = scoring)\n",
    "    score_mean = score_.mean()\n",
    "    intercept_ = lr.intercept_\n",
    "    coef_ = lr.coef_\n",
    "    print('|Mean score(Neg MSE)|: ', score_mean\n",
    "          , '\\n', 'Intercept|: ',intercept_, '\\n', '|Coefs|: ', coef_)"
   ]
  },
  {
   "cell_type": "markdown",
   "metadata": {},
   "source": [
    "### Linear Regression Model 2 - Lasso Regression (L1)"
   ]
  },
  {
   "cell_type": "code",
   "execution_count": null,
   "metadata": {},
   "outputs": [],
   "source": [
    "def lasso_modeling(feature, cv = 5, scoring = 'neg_mean_absolute_error'):\n",
    "    x_train = df_train[feature]\n",
    "    shape = len(feature)\n",
    "    x_train = x_train.values.reshape(-1,shape)\n",
    "    model = Lasso(max_iter=10000)\n",
    "    parameters = {'alpha': [1e-5,1e-3,1e-1,1], \n",
    "                  'fit_intercept': [True,False]}\n",
    "    grid = GridSearchCV(model,parameters, cv=cv, \n",
    "                        scoring=scoring, n_jobs=1)\n",
    "    grid.fit(x_train, Y_train)\n",
    "    best_lasso = grid.best_estimator_\n",
    "    best_score = grid.best_score_\n",
    "    best_params = grid.best_params_\n",
    "    best_intercept = best_lasso.intercept_\n",
    "    best_coefs = best_lasso.coef_\n",
    "    print('|Best Lasso|: ',best_lasso\n",
    "          ,'\\n','|Score (Neg MAE)|: ',best_score\n",
    "          ,'\\n','|Intercept|: ',best_intercept\n",
    "          ,'\\n','|Coefficients|: ',best_coefs)\n",
    "    return best_lasso"
   ]
  },
  {
   "cell_type": "markdown",
   "metadata": {},
   "source": [
    "### Linear Regression Model 3 - Ridge Regression (L2)"
   ]
  },
  {
   "cell_type": "code",
   "execution_count": 34,
   "metadata": {
    "collapsed": true
   },
   "outputs": [],
   "source": [
    "def ridge_modeling(feature, cv = 5, \n",
    "                   scoring = 'neg_mean_absolute_error'):\n",
    "    x_train = df_train[feature]\n",
    "    shape = len(feature)\n",
    "    x_train = x_train.values.reshape(-1,shape)\n",
    "    model = Ridge(max_iter=5000)\n",
    "    parameters = {'alpha': [1e-5,1e-3,1e-1,1], \n",
    "                  'fit_intercept': [True,False]}\n",
    "    grid = GridSearchCV(model,parameters, cv=cv, \n",
    "                        scoring=scoring, n_jobs=1)\n",
    "    grid.fit(x_train, Y_train)\n",
    "    best_ridge = grid.best_estimator_\n",
    "    best_score = grid.best_score_\n",
    "    best_params = grid.best_params_\n",
    "    best_intercept = best_ridge.intercept_\n",
    "    best_coefs = best_ridge.coef_\n",
    "    print('|Best Ridge|: ',best_ridge\n",
    "          ,'\\n','|Score (Neg MAE)|: ',best_score\n",
    "          ,'\\n','|Intercept|: ',best_intercept\n",
    "          ,'\\n','|Coefficients|: ',best_coefs)"
   ]
  },
  {
   "cell_type": "markdown",
   "metadata": {},
   "source": [
    "### Linear Regression Model 4 - ElasticNet"
   ]
  },
  {
   "cell_type": "code",
   "execution_count": 37,
   "metadata": {
    "collapsed": true
   },
   "outputs": [],
   "source": [
    "def elasticnet_modeling(feature, cv = 5, \n",
    "                        scoring = 'neg_mean_absolute_error'):\n",
    "    x_train = df_train[feature]\n",
    "    shape = len(feature)\n",
    "    x_train = x_train.values.reshape(-1,shape)\n",
    "    model = ElasticNet(max_iter=5000)\n",
    "    parameters = {'alpha': [1e-5,1e-3,1e-1,1], \n",
    "                  'fit_intercept': [True,False]}\n",
    "    grid = GridSearchCV(model,parameters, cv=cv,\n",
    "                        scoring=scoring, n_jobs=1)\n",
    "    grid.fit(x_train, Y_train)\n",
    "    best_en = grid.best_estimator_\n",
    "    best_score = grid.best_score_\n",
    "    best_params = grid.best_params_\n",
    "    best_intercept = best_en.intercept_\n",
    "    best_coefs = best_en.coef_\n",
    "    print('|Best ElesticNet|: ',best_en\n",
    "          ,'\\n','|Score (Neg MAS)|: ',best_score\n",
    "          ,'\\n','|Intercept|: ',best_intercept\n",
    "          ,'\\n','|Coefficients|: ',best_coefs)"
   ]
  },
  {
   "cell_type": "markdown",
   "metadata": {},
   "source": [
    "### Result"
   ]
  },
  {
   "cell_type": "code",
   "execution_count": null,
   "metadata": {},
   "outputs": [],
   "source": [
    "preds = model.predict(X_val)\n",
    "for true,pred in zip(Y_val, preds):\n",
    "    resid = true - pred\n",
    "    print(\"pred, resid:\", str(pred) + \", $\"+ str(resid))"
   ]
  },
  {
   "cell_type": "markdown",
   "metadata": {},
   "source": [
    "#### Actual VS Predicted Plot"
   ]
  },
  {
   "cell_type": "code",
   "execution_count": null,
   "metadata": {},
   "outputs": [],
   "source": [
    "plt.figure(figsize=(10, 6))\n",
    "plt.scatter(lasso_pred,Y_val,alpha=.8,color='k')\n",
    "plt.plot(np.linspace(0,200,500),np.linspace(0,200,500),color='red')\n",
    "plt.xlabel('Predicted Movie Domestic Total Gross', fontsize=15)\n",
    "plt.ylabel('Actual Movie Domestic Total Gross', fontsize=15)\n",
    "plt.title('Model[2D] Performance', fontsize=20)\n",
    "\n",
    "# plt.savefig('../../Images/model_2d performance.png', \n",
    "#             dpi=200, bbox_inches = 'tight')"
   ]
  },
  {
   "cell_type": "markdown",
   "metadata": {},
   "source": [
    "#### Residual Plot "
   ]
  },
  {
   "cell_type": "code",
   "execution_count": null,
   "metadata": {},
   "outputs": [],
   "source": [
    "def residual_scatter(model, x, y, color):\n",
    "    lasso_pred = model.predict(x)\n",
    "    residual_ = []\n",
    "    pred_ = []\n",
    "    for true,pred in zip(y, lasso_pred):\n",
    "        resid = true - pred\n",
    "        residual_.append(resid)\n",
    "        pred_.append(pred)\n",
    "    residual_scatter = plt.scatter(pred_, residual_, color = color)\n",
    "    plt.ylim(75,-75)"
   ]
  },
  {
   "cell_type": "markdown",
   "metadata": {},
   "source": [
    "#### Metrics "
   ]
  },
  {
   "cell_type": "code",
   "execution_count": null,
   "metadata": {},
   "outputs": [],
   "source": [
    "def adj_r2(rsquare, num_data, num_features):\n",
    "    temp = (1-rsquare)*(num_data-1)\n",
    "    temp = temp/(num_data-num_features-1)\n",
    "    temp = 1 - temp\n",
    "    return temp"
   ]
  },
  {
   "cell_type": "code",
   "execution_count": null,
   "metadata": {},
   "outputs": [],
   "source": [
    "def residual_hist(model, x, y, color, outlier_value=260):\n",
    "    lasso_pred = model.predict(x)\n",
    "    residual_ = []\n",
    "    for true,pred in zip(y, lasso_pred):\n",
    "        resid = true - pred\n",
    "        residual_.append(resid)\n",
    "        residual_ = [i for i in residual_ if abs(i) < outlier_value]\n",
    "    residual_hist = plt.hist(residual_, color = color, bins=30)\n",
    "    return normaltest(residual_)"
   ]
  },
  {
   "cell_type": "code",
   "execution_count": null,
   "metadata": {},
   "outputs": [],
   "source": [
    "def standard_error_estimate(true,pred,num_data):\n",
    "    sse = 0\n",
    "    for y,ypred in zip(true,pred):\n",
    "        sse += (y-ypred)**2\n",
    "    return np.sqrt(sse/(num_data-2))"
   ]
  },
  {
   "cell_type": "code",
   "execution_count": null,
   "metadata": {},
   "outputs": [],
   "source": [
    "def test_model_results(true, X, pred):\n",
    "    print(\"Mean Squared Error: \", \n",
    "          mean_squared_error(true,pred))\n",
    "    print(\"Root Mean Squared Error: \", \n",
    "          np.sqrt(mean_squared_error(true,pred)))\n",
    "    print(\"Mean Absolute Error: \",\n",
    "          mean_absolute_error(true,pred))\n",
    "    \n",
    "    r2 = r2_score(true,pred)\n",
    "    print(\"R2: \", r2)\n",
    "    print(\"Adj R2: \", adj_r2(r2,X.shape[0],X.shape[1]))\n",
    "    print(\"Standard Error of Estimate: \", \n",
    "          standard_error_estimate(true,pred,X.shape[0]))"
   ]
  },
  {
   "cell_type": "code",
   "execution_count": null,
   "metadata": {},
   "outputs": [],
   "source": []
  }
 ],
 "metadata": {
  "kernelspec": {
   "display_name": "Python [conda env:py3]",
   "language": "python",
   "name": "conda-env-py3-py"
  },
  "language_info": {
   "codemirror_mode": {
    "name": "ipython",
    "version": 3
   },
   "file_extension": ".py",
   "mimetype": "text/x-python",
   "name": "python",
   "nbconvert_exporter": "python",
   "pygments_lexer": "ipython3",
   "version": "3.6.2"
  }
 },
 "nbformat": 4,
 "nbformat_minor": 2
}
